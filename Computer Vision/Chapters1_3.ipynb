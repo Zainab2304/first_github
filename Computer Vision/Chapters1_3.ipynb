{
 "cells": [
  {
   "cell_type": "markdown",
   "metadata": {},
   "source": [
    "# 01- Reading and Displaying the Image "
   ]
  },
  {
   "cell_type": "code",
   "execution_count": 6,
   "metadata": {},
   "outputs": [],
   "source": [
    "# Install open cv\n",
    "# pip install opencv-python\n",
    "# importing libraries \n",
    "import cv2 as cv\n",
    "# Reading the image \n",
    "img = cv.imread(\"resources/pix.jpg\")\n",
    "# Showing the image \n",
    "cv.imshow(\"pehli_pic\", img)\n",
    "#Delay code\n",
    "# giving the delay for the pic to stay ..Giving the values in mili seconds . 0 means infinity here\n",
    "cv.waitKey(0)\n",
    "# closing all the windows \n",
    "cv.destroyAllWindows()"
   ]
  },
  {
   "cell_type": "markdown",
   "metadata": {},
   "source": [
    "# 02- resizing the image \n"
   ]
  },
  {
   "cell_type": "code",
   "execution_count": 7,
   "metadata": {},
   "outputs": [],
   "source": [
    " # importing libraries \n",
    "import numpy as np\n",
    "import cv2 as cv\n",
    "# Reading the image \n",
    "img = cv.imread(\"resources/tekken.jpg\")\n",
    "# Resizing the image \n",
    "img1= cv.resize(img, (800,600))\n",
    "# Showing the image \n",
    "cv.imshow(\"pehli_pic\", img)\n",
    "cv.imshow(\"doosri_pic\", img1)\n",
    "#Delay code\n",
    "# giving the delay for the pic to stay ..Giving the values in mili seconds . 0 means infinity here\n",
    "cv.waitKey(0)\n",
    "# closing all the windows \n",
    "cv.destroyAllWindows()"
   ]
  },
  {
   "cell_type": "markdown",
   "metadata": {},
   "source": [
    "# 03- Converting into gray scale \n",
    "\n",
    "\n"
   ]
  },
  {
   "cell_type": "code",
   "execution_count": 5,
   "metadata": {},
   "outputs": [],
   "source": [
    "  # importing libraries \n",
    "import numpy as np\n",
    "import cv2 as cv\n",
    "# Reading the image \n",
    "img = cv.imread(\"resources/tekken.jpg\")\n",
    "# Resizing the image \n",
    "img= cv.resize(img, (800,600))\n",
    "# Converting into gray scale \n",
    "gray = cv.cvtColor(img, cv.COLOR_BGR2GRAY)\n",
    "\n",
    "# Showing the image \n",
    "cv.imshow(\"gray_pic\", gray)\n",
    "#Delay code \n",
    "# giving the delay for the pic to stay ..Giving the values in mili seconds . 0 means infinity here\n",
    "cv.waitKey(0)\n",
    "# closing all the windows \n",
    "cv.destroyAllWindows()"
   ]
  }
 ],
 "metadata": {
  "interpreter": {
   "hash": "266c4d81548097d9dd641a4c19dbdb8cb4ce739c1b70c23a83575cb49d14a5df"
  },
  "kernelspec": {
   "display_name": "Python 3.10.1 64-bit",
   "language": "python",
   "name": "python3"
  },
  "language_info": {
   "codemirror_mode": {
    "name": "ipython",
    "version": 3
   },
   "file_extension": ".py",
   "mimetype": "text/x-python",
   "name": "python",
   "nbconvert_exporter": "python",
   "pygments_lexer": "ipython3",
   "version": "3.10.1"
  },
  "orig_nbformat": 4
 },
 "nbformat": 4,
 "nbformat_minor": 2
}
