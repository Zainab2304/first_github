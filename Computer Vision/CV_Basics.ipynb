{
 "cells": [
  {
   "cell_type": "markdown",
   "metadata": {},
   "source": [
    "# Pixcel \n",
    "- Basic unit of images \n",
    "- a minute area of illumination on a display scree \n",
    "- one of many from which an image is composed \n",
    "\n",
    "\n",
    "![Pixcel](pix.JPG)"
   ]
  },
  {
   "cell_type": "markdown",
   "metadata": {},
   "source": [
    "## Image sizes \n",
    "- VGA Image  = 640X768\n",
    "- SXGA Image = 1280X1024\n",
    "- HD Image = 1280X720\n",
    "- FULL HDTV Image = 1920X1080 \n",
    "- 4K Image = 3840 x 2160\n"
   ]
  },
  {
   "cell_type": "markdown",
   "metadata": {},
   "source": [
    "## Bits or Bit depth \n",
    "- kitne tones of colours is me hain\n",
    "   \n",
    "BIT DEPTH is determined by the number of bits used to define each pixel. The greater the bit depth, the greater the number of tones (grayscale or color) that can be represented. Digital images may be produced in black and white (bitonal/binary ), grayscale, or color."
   ]
  },
  {
   "cell_type": "markdown",
   "metadata": {},
   "source": [
    "Example:\n",
    "\n",
    "In a 2-bit image, there are four possible\n",
    "combinations: 00, 01, 10, and 11. If \"00\"\n",
    "represents black, and \"11\" represents white,\n",
    "then \"01\" equals dark gray and \"10\" equals light\n",
    "gray. The bit depth is two, but the number of\n",
    "tones that can be represented is 2**2 or 4. At 8\n",
    "bits, 256 (2 ** 8 ) different tones can be assigned\n",
    "to each pixel."
   ]
  },
  {
   "cell_type": "markdown",
   "metadata": {},
   "source": [
    "A color image is typically represented by a bit\n",
    "depth ranging from 8 to 24 or higher. With a 24 -\n",
    "bit image, the bits are often divided into three\n",
    "groupings: 8 for red, 8 for green, and 8 for blue.\n",
    "Combinations of those bits are used to represent\n",
    "other colors. A 24-bit image offers 16.7 million\n",
    "(2^24) color values."
   ]
  },
  {
   "cell_type": "code",
   "execution_count": 7,
   "metadata": {},
   "outputs": [
    {
     "name": "stdout",
     "output_type": "stream",
     "text": [
      "Requirement already satisfied: opencv-python in c:\\users\\epazz\\appdata\\local\\programs\\python\\python310\\lib\\site-packages (4.5.5.62)\n",
      "Requirement already satisfied: numpy>=1.17.3 in c:\\users\\epazz\\appdata\\local\\programs\\python\\python310\\lib\\site-packages (from opencv-python) (1.22.0)\n",
      "Note: you may need to restart the kernel to use updated packages.\n"
     ]
    }
   ],
   "source": [
    "pip install opencv-python\n"
   ]
  }
 ],
 "metadata": {
  "interpreter": {
   "hash": "266c4d81548097d9dd641a4c19dbdb8cb4ce739c1b70c23a83575cb49d14a5df"
  },
  "kernelspec": {
   "display_name": "Python 3.10.1 64-bit",
   "language": "python",
   "name": "python3"
  },
  "language_info": {
   "codemirror_mode": {
    "name": "ipython",
    "version": 3
   },
   "file_extension": ".py",
   "mimetype": "text/x-python",
   "name": "python",
   "nbconvert_exporter": "python",
   "pygments_lexer": "ipython3",
   "version": "3.10.1"
  },
  "orig_nbformat": 4
 },
 "nbformat": 4,
 "nbformat_minor": 2
}
