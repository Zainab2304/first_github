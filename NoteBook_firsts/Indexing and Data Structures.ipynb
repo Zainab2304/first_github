{
 "cells": [
  {
   "cell_type": "markdown",
   "id": "998943b3",
   "metadata": {},
   "source": [
    "# -Indexing"
   ]
  },
  {
   "cell_type": "code",
   "execution_count": 1,
   "id": "f0f72d42",
   "metadata": {},
   "outputs": [
    {
     "data": {
      "text/plain": [
       "'Samosa Pakora'"
      ]
     },
     "execution_count": 1,
     "metadata": {},
     "output_type": "execute_result"
    }
   ],
   "source": [
    "#make a string\n",
    "a= \"Samosa Pakora\"\n",
    "a"
   ]
  },
  {
   "cell_type": "code",
   "execution_count": 2,
   "id": "f5d60d7f",
   "metadata": {},
   "outputs": [
    {
     "data": {
      "text/plain": [
       "'S'"
      ]
     },
     "execution_count": 2,
     "metadata": {},
     "output_type": "execute_result"
    }
   ],
   "source": [
    "a[0]\n",
    "#counting will star from 0 to onwards in python "
   ]
  },
  {
   "cell_type": "code",
   "execution_count": 3,
   "id": "e135256c",
   "metadata": {},
   "outputs": [
    {
     "data": {
      "text/plain": [
       "'a'"
      ]
     },
     "execution_count": 3,
     "metadata": {},
     "output_type": "execute_result"
    }
   ],
   "source": [
    "a[1]"
   ]
  },
  {
   "cell_type": "code",
   "execution_count": 4,
   "id": "28f8ce90",
   "metadata": {},
   "outputs": [
    {
     "data": {
      "text/plain": [
       "'m'"
      ]
     },
     "execution_count": 4,
     "metadata": {},
     "output_type": "execute_result"
    }
   ],
   "source": [
    "a[2]"
   ]
  },
  {
   "cell_type": "code",
   "execution_count": 5,
   "id": "b2ea8b82",
   "metadata": {},
   "outputs": [
    {
     "data": {
      "text/plain": [
       "' '"
      ]
     },
     "execution_count": 5,
     "metadata": {},
     "output_type": "execute_result"
    }
   ],
   "source": [
    "a[6]\n",
    "#it will print a space"
   ]
  },
  {
   "cell_type": "code",
   "execution_count": 7,
   "id": "306d50e4",
   "metadata": {},
   "outputs": [
    {
     "data": {
      "text/plain": [
       "13"
      ]
     },
     "execution_count": 7,
     "metadata": {},
     "output_type": "execute_result"
    }
   ],
   "source": [
    "len(a)\n",
    "#it will show the number of index in our string"
   ]
  },
  {
   "cell_type": "code",
   "execution_count": 8,
   "id": "490c0cc2",
   "metadata": {},
   "outputs": [
    {
     "data": {
      "text/plain": [
       "'Samosa'"
      ]
     },
     "execution_count": 8,
     "metadata": {},
     "output_type": "execute_result"
    }
   ],
   "source": [
    "a[0:6]\n",
    "#the last no will be excludes like i ask for letters from 0 to 6 but it will print from 0 to 5 letters "
   ]
  },
  {
   "cell_type": "code",
   "execution_count": 10,
   "id": "fa2d38af",
   "metadata": {},
   "outputs": [
    {
     "data": {
      "text/plain": [
       "'amosa P'"
      ]
     },
     "execution_count": 10,
     "metadata": {},
     "output_type": "execute_result"
    }
   ],
   "source": [
    "a[1:8]\n",
    "#here P is 7th character as we strat counting from 0 "
   ]
  },
  {
   "cell_type": "code",
   "execution_count": 11,
   "id": "bd7b09b1",
   "metadata": {},
   "outputs": [
    {
     "data": {
      "text/plain": [
       "'Samosa Pakora'"
      ]
     },
     "execution_count": 11,
     "metadata": {},
     "output_type": "execute_result"
    }
   ],
   "source": [
    "a[0:13] #here if we count from 0 to 13 it will be total 14 characters here 13 no is exclusive and count complterd from 0 to 12 total as 13 "
   ]
  },
  {
   "cell_type": "code",
   "execution_count": 13,
   "id": "03d93a04",
   "metadata": {},
   "outputs": [
    {
     "data": {
      "text/plain": [
       "'r'"
      ]
     },
     "execution_count": 13,
     "metadata": {},
     "output_type": "execute_result"
    }
   ],
   "source": [
    "a[-2]\n",
    "#here it starts from right side and will start from number (-1)"
   ]
  },
  {
   "cell_type": "code",
   "execution_count": 15,
   "id": "defdab13",
   "metadata": {},
   "outputs": [
    {
     "data": {
      "text/plain": [
       "''"
      ]
     },
     "execution_count": 15,
     "metadata": {},
     "output_type": "execute_result"
    }
   ],
   "source": [
    "a[-1:-6]\n",
    "\n",
    "#here it will not print any thing "
   ]
  },
  {
   "cell_type": "code",
   "execution_count": 19,
   "id": "cebf00c7",
   "metadata": {},
   "outputs": [
    {
     "data": {
      "text/plain": [
       "'Pakor'"
      ]
     },
     "execution_count": 19,
     "metadata": {},
     "output_type": "execute_result"
    }
   ],
   "source": [
    "a[-6:-1]\n",
    "#here we see the writing sequence in string will remain same from right to left\n",
    "#also -1 no is \"a\" but it will not print here as last no is exclude"
   ]
  },
  {
   "cell_type": "code",
   "execution_count": 20,
   "id": "60d80fd7",
   "metadata": {},
   "outputs": [
    {
     "data": {
      "text/plain": [
       "''"
      ]
     },
     "execution_count": 20,
     "metadata": {},
     "output_type": "execute_result"
    }
   ],
   "source": [
    "a[-6:0]"
   ]
  },
  {
   "cell_type": "code",
   "execution_count": 21,
   "id": "68374dee",
   "metadata": {},
   "outputs": [
    {
     "data": {
      "text/plain": [
       "'Pakora'"
      ]
     },
     "execution_count": 21,
     "metadata": {},
     "output_type": "execute_result"
    }
   ],
   "source": [
    "a[-6:13]"
   ]
  },
  {
   "cell_type": "code",
   "execution_count": 22,
   "id": "890070bd",
   "metadata": {},
   "outputs": [
    {
     "data": {
      "text/plain": [
       "'birYani'"
      ]
     },
     "execution_count": 22,
     "metadata": {},
     "output_type": "execute_result"
    }
   ],
   "source": [
    "food= \"birYani\"\n",
    "food"
   ]
  },
  {
   "cell_type": "markdown",
   "id": "c44e3832",
   "metadata": {},
   "source": [
    "## String Methods\n"
   ]
  },
  {
   "cell_type": "code",
   "execution_count": 25,
   "id": "2bf11e1d",
   "metadata": {},
   "outputs": [
    {
     "data": {
      "text/plain": [
       "'birYani'"
      ]
     },
     "execution_count": 25,
     "metadata": {},
     "output_type": "execute_result"
    }
   ],
   "source": [
    "food\n"
   ]
  },
  {
   "cell_type": "code",
   "execution_count": 26,
   "id": "7128802c",
   "metadata": {},
   "outputs": [
    {
     "data": {
      "text/plain": [
       "7"
      ]
     },
     "execution_count": 26,
     "metadata": {},
     "output_type": "execute_result"
    }
   ],
   "source": [
    "len(food)"
   ]
  },
  {
   "cell_type": "code",
   "execution_count": 27,
   "id": "27fa4290",
   "metadata": {},
   "outputs": [
    {
     "data": {
      "text/plain": [
       "'Biryani'"
      ]
     },
     "execution_count": 27,
     "metadata": {},
     "output_type": "execute_result"
    }
   ],
   "source": [
    "# Capitalize \n",
    "food.capitalize()"
   ]
  },
  {
   "cell_type": "code",
   "execution_count": 28,
   "id": "96fc013b",
   "metadata": {},
   "outputs": [
    {
     "data": {
      "text/plain": [
       "'BIRYANI'"
      ]
     },
     "execution_count": 28,
     "metadata": {},
     "output_type": "execute_result"
    }
   ],
   "source": [
    "#Upper case letters\n",
    "food.upper()"
   ]
  },
  {
   "cell_type": "code",
   "execution_count": 29,
   "id": "f3462a40",
   "metadata": {},
   "outputs": [
    {
     "data": {
      "text/plain": [
       "'biryani'"
      ]
     },
     "execution_count": 29,
     "metadata": {},
     "output_type": "execute_result"
    }
   ],
   "source": [
    "#lower case letters\n",
    "food.lower()"
   ]
  },
  {
   "cell_type": "code",
   "execution_count": 30,
   "id": "5860a5f9",
   "metadata": {},
   "outputs": [
    {
     "data": {
      "text/plain": [
       "'shirYani'"
      ]
     },
     "execution_count": 30,
     "metadata": {},
     "output_type": "execute_result"
    }
   ],
   "source": [
    "#replace\n",
    "food.replace(\"b\", \"sh\")"
   ]
  },
  {
   "cell_type": "code",
   "execution_count": 31,
   "id": "dabef237",
   "metadata": {},
   "outputs": [
    {
     "data": {
      "text/plain": [
       "'baba_aammar with Dr aamar tufail'"
      ]
     },
     "execution_count": 31,
     "metadata": {},
     "output_type": "execute_result"
    }
   ],
   "source": [
    "#counting a specific alphabet in a string \n",
    "name = \"baba_aammar with Dr aamar tufail\"\n",
    "name"
   ]
  },
  {
   "cell_type": "code",
   "execution_count": 32,
   "id": "a5368fca",
   "metadata": {},
   "outputs": [
    {
     "data": {
      "text/plain": [
       "9"
      ]
     },
     "execution_count": 32,
     "metadata": {},
     "output_type": "execute_result"
    }
   ],
   "source": [
    "name.count(\"a\")"
   ]
  },
  {
   "cell_type": "code",
   "execution_count": 33,
   "id": "e79f9325",
   "metadata": {},
   "outputs": [
    {
     "data": {
      "text/plain": [
       "1"
      ]
     },
     "execution_count": 33,
     "metadata": {},
     "output_type": "execute_result"
    }
   ],
   "source": [
    "name.count(\"D\")"
   ]
  },
  {
   "cell_type": "code",
   "execution_count": 34,
   "id": "d6198adc",
   "metadata": {},
   "outputs": [
    {
     "data": {
      "text/plain": [
       "'baba_aammar with Dr aamar tufail'"
      ]
     },
     "execution_count": 34,
     "metadata": {},
     "output_type": "execute_result"
    }
   ],
   "source": [
    "#how to find a number of index in string\n",
    "name = \"baba_aammar with Dr aamar tufail\"\n",
    "name\n"
   ]
  },
  {
   "cell_type": "code",
   "execution_count": 37,
   "id": "aaa46c66",
   "metadata": {},
   "outputs": [
    {
     "data": {
      "text/plain": [
       "14"
      ]
     },
     "execution_count": 37,
     "metadata": {},
     "output_type": "execute_result"
    }
   ],
   "source": [
    "name.find(\"t\")"
   ]
  },
  {
   "cell_type": "code",
   "execution_count": 38,
   "id": "974d03e8",
   "metadata": {},
   "outputs": [
    {
     "data": {
      "text/plain": [
       "'i love samosa , pakora , raita, biryani and karahi'"
      ]
     },
     "execution_count": 38,
     "metadata": {},
     "output_type": "execute_result"
    }
   ],
   "source": [
    "# how to split a string\n",
    "food = \"i love samosa , pakora , raita, biryani and karahi\"\n",
    "food"
   ]
  },
  {
   "cell_type": "code",
   "execution_count": 40,
   "id": "6ca5b021",
   "metadata": {},
   "outputs": [
    {
     "data": {
      "text/plain": [
       "['i love samosa ', ' pakora ', ' raita', ' biryani and karahi']"
      ]
     },
     "execution_count": 40,
     "metadata": {},
     "output_type": "execute_result"
    }
   ],
   "source": [
    "food.split(\",\")"
   ]
  },
  {
   "cell_type": "markdown",
   "id": "60857956",
   "metadata": {},
   "source": [
    "# Basic data Structure in Python\n",
    "## 1-Tuple\n",
    "## 2-List\n",
    "## 3-Dictionaries\n",
    "## 4-Set"
   ]
  },
  {
   "cell_type": "markdown",
   "id": "2dba8e95",
   "metadata": {},
   "source": [
    " ### Tuole\n",
    " - Ordered collection of elements \n",
    " - eclosed in () round braces/ paranthesis\n",
    " - Different kind of elements can be stored (elements like int, float , string, boolean{true, false})\n",
    " - Once elements are stored you can not change or replace them (Unmutatable) "
   ]
  },
  {
   "cell_type": "code",
   "execution_count": 41,
   "id": "4abd122e",
   "metadata": {},
   "outputs": [
    {
     "data": {
      "text/plain": [
       "(1, 'python', True, 2.5)"
      ]
     },
     "execution_count": 41,
     "metadata": {},
     "output_type": "execute_result"
    }
   ],
   "source": [
    "tup1 = (1,\"python\" , True , 2.5)\n",
    "tup1"
   ]
  },
  {
   "cell_type": "code",
   "execution_count": 42,
   "id": "105b4e40",
   "metadata": {},
   "outputs": [
    {
     "data": {
      "text/plain": [
       "tuple"
      ]
     },
     "execution_count": 42,
     "metadata": {},
     "output_type": "execute_result"
    }
   ],
   "source": [
    "#type of a tuple \n",
    "type(tup1)\n"
   ]
  },
  {
   "cell_type": "markdown",
   "id": "ce2d1c3b",
   "metadata": {},
   "source": [
    "### -indexing in tuple"
   ]
  },
  {
   "cell_type": "code",
   "execution_count": 43,
   "id": "ed570176",
   "metadata": {},
   "outputs": [
    {
     "data": {
      "text/plain": [
       "'python'"
      ]
     },
     "execution_count": 43,
     "metadata": {},
     "output_type": "execute_result"
    }
   ],
   "source": [
    "tup1[1]\n"
   ]
  },
  {
   "cell_type": "code",
   "execution_count": 44,
   "id": "cb9a7c27",
   "metadata": {},
   "outputs": [
    {
     "data": {
      "text/plain": [
       "1"
      ]
     },
     "execution_count": 44,
     "metadata": {},
     "output_type": "execute_result"
    }
   ],
   "source": [
    "tup1[0]"
   ]
  },
  {
   "cell_type": "code",
   "execution_count": 47,
   "id": "2ba170fe",
   "metadata": {},
   "outputs": [
    {
     "data": {
      "text/plain": [
       "(1, 'python', True, 2.5)"
      ]
     },
     "execution_count": 47,
     "metadata": {},
     "output_type": "execute_result"
    }
   ],
   "source": [
    "tup1[0:6]"
   ]
  },
  {
   "cell_type": "code",
   "execution_count": 48,
   "id": "976ddfab",
   "metadata": {},
   "outputs": [
    {
     "data": {
      "text/plain": [
       "(1, 'python', True)"
      ]
     },
     "execution_count": 48,
     "metadata": {},
     "output_type": "execute_result"
    }
   ],
   "source": [
    "tup1[0:3] # last element is exclusive"
   ]
  },
  {
   "cell_type": "code",
   "execution_count": 50,
   "id": "8bd497ef",
   "metadata": {},
   "outputs": [
    {
     "data": {
      "text/plain": [
       "4"
      ]
     },
     "execution_count": 50,
     "metadata": {},
     "output_type": "execute_result"
    }
   ],
   "source": [
    "#length of tuple\n",
    "len(tup1)"
   ]
  },
  {
   "cell_type": "code",
   "execution_count": 51,
   "id": "7c1c9902",
   "metadata": {},
   "outputs": [
    {
     "data": {
      "text/plain": [
       "(2, 'baba ammar', 3.5, False)"
      ]
     },
     "execution_count": 51,
     "metadata": {},
     "output_type": "execute_result"
    }
   ],
   "source": [
    "tup2 = (2, \"baba ammar\", 3.5, False )\n",
    "tup2\n"
   ]
  },
  {
   "cell_type": "code",
   "execution_count": 54,
   "id": "9b04346c",
   "metadata": {},
   "outputs": [
    {
     "data": {
      "text/plain": [
       "(1, 'python', True, 2.5, 2, 'baba ammar', 3.5, False)"
      ]
     },
     "execution_count": 54,
     "metadata": {},
     "output_type": "execute_result"
    }
   ],
   "source": [
    "# concatinate ( TO add two or more tuple)\n",
    "tup1+tup2"
   ]
  },
  {
   "cell_type": "code",
   "execution_count": 55,
   "id": "a0d8dfc2",
   "metadata": {},
   "outputs": [
    {
     "data": {
      "text/plain": [
       "(1,\n",
       " 'python',\n",
       " True,\n",
       " 2.5,\n",
       " 1,\n",
       " 'python',\n",
       " True,\n",
       " 2.5,\n",
       " 1,\n",
       " 'python',\n",
       " True,\n",
       " 2.5,\n",
       " 2,\n",
       " 'baba ammar',\n",
       " 3.5,\n",
       " False)"
      ]
     },
     "execution_count": 55,
     "metadata": {},
     "output_type": "execute_result"
    }
   ],
   "source": [
    "#concatinate + repeat \n",
    "tup1*3 + tup2"
   ]
  },
  {
   "cell_type": "code",
   "execution_count": 56,
   "id": "4477dd40",
   "metadata": {},
   "outputs": [
    {
     "data": {
      "text/plain": [
       "(1, 'python', True, 2.5, 1, 'python', True, 2.5, 2, 'baba ammar', 3.5, False)"
      ]
     },
     "execution_count": 56,
     "metadata": {},
     "output_type": "execute_result"
    }
   ],
   "source": [
    "tup1*2 + tup2"
   ]
  },
  {
   "cell_type": "code",
   "execution_count": 57,
   "id": "2469b8d4",
   "metadata": {},
   "outputs": [
    {
     "data": {
      "text/plain": [
       "(20, 50, 60, 80, 96)"
      ]
     },
     "execution_count": 57,
     "metadata": {},
     "output_type": "execute_result"
    }
   ],
   "source": [
    "tup3 = (20, 50, 60, 80, 96)\n",
    "tup3\n"
   ]
  },
  {
   "cell_type": "code",
   "execution_count": 58,
   "id": "7baddaba",
   "metadata": {},
   "outputs": [
    {
     "data": {
      "text/plain": [
       "96"
      ]
     },
     "execution_count": 58,
     "metadata": {},
     "output_type": "execute_result"
    }
   ],
   "source": [
    "max(tup3)"
   ]
  },
  {
   "cell_type": "code",
   "execution_count": 59,
   "id": "62f1f672",
   "metadata": {},
   "outputs": [
    {
     "data": {
      "text/plain": [
       "20"
      ]
     },
     "execution_count": 59,
     "metadata": {},
     "output_type": "execute_result"
    }
   ],
   "source": [
    "min(tup3)"
   ]
  },
  {
   "cell_type": "code",
   "execution_count": 60,
   "id": "5a05e9f0",
   "metadata": {},
   "outputs": [
    {
     "data": {
      "text/plain": [
       "(20, 50, 60, 80, 96, 20, 50, 60, 80, 96)"
      ]
     },
     "execution_count": 60,
     "metadata": {},
     "output_type": "execute_result"
    }
   ],
   "source": [
    "tup3*2"
   ]
  },
  {
   "cell_type": "markdown",
   "id": "f8321195",
   "metadata": {},
   "source": [
    "---"
   ]
  },
  {
   "cell_type": "markdown",
   "id": "7c71b03f",
   "metadata": {},
   "source": [
    "**mark down it and add three dashes - will creat space line** "
   ]
  },
  {
   "cell_type": "markdown",
   "id": "765b2cf9",
   "metadata": {},
   "source": [
    "## List\n",
    "- ordered collection of elements \n",
    "- enclosed in [] square barckets\n",
    "- Mutateable, you can change the values "
   ]
  },
  {
   "cell_type": "code",
   "execution_count": 61,
   "id": "a202ad5e",
   "metadata": {},
   "outputs": [
    {
     "data": {
      "text/plain": [
       "[2, 'baba ammar', False]"
      ]
     },
     "execution_count": 61,
     "metadata": {},
     "output_type": "execute_result"
    }
   ],
   "source": [
    "list1 = [2, \"baba ammar\" , False]\n",
    "list1\n"
   ]
  },
  {
   "cell_type": "code",
   "execution_count": 63,
   "id": "1ac1aff0",
   "metadata": {},
   "outputs": [
    {
     "data": {
      "text/plain": [
       "list"
      ]
     },
     "execution_count": 63,
     "metadata": {},
     "output_type": "execute_result"
    }
   ],
   "source": [
    "type(list1)"
   ]
  },
  {
   "cell_type": "code",
   "execution_count": 64,
   "id": "813f7807",
   "metadata": {},
   "outputs": [
    {
     "data": {
      "text/plain": [
       "3"
      ]
     },
     "execution_count": 64,
     "metadata": {},
     "output_type": "execute_result"
    }
   ],
   "source": [
    "len(list1)"
   ]
  },
  {
   "cell_type": "code",
   "execution_count": 65,
   "id": "f3864a81",
   "metadata": {},
   "outputs": [
    {
     "data": {
      "text/plain": [
       "False"
      ]
     },
     "execution_count": 65,
     "metadata": {},
     "output_type": "execute_result"
    }
   ],
   "source": [
    "list1[2]"
   ]
  },
  {
   "cell_type": "code",
   "execution_count": 68,
   "id": "f8a87779",
   "metadata": {},
   "outputs": [
    {
     "data": {
      "text/plain": [
       "[3, 5, 'Aammar', 'Codanics', 478, 53.2, True]"
      ]
     },
     "execution_count": 68,
     "metadata": {},
     "output_type": "execute_result"
    }
   ],
   "source": [
    "list2 = [3, 5, \"Aammar\", \"Codanics\", 478, 53.2, True]\n",
    "list2"
   ]
  },
  {
   "cell_type": "code",
   "execution_count": 69,
   "id": "06efe948",
   "metadata": {},
   "outputs": [
    {
     "data": {
      "text/plain": [
       "[2, 'baba ammar', False, 3, 5, 'Aammar', 'Codanics', 478, 53.2, True]"
      ]
     },
     "execution_count": 69,
     "metadata": {},
     "output_type": "execute_result"
    }
   ],
   "source": [
    "list1 + list2"
   ]
  },
  {
   "cell_type": "code",
   "execution_count": 70,
   "id": "d612c659",
   "metadata": {},
   "outputs": [
    {
     "data": {
      "text/plain": [
       "[2, 'baba ammar', False, 2, 'baba ammar', False]"
      ]
     },
     "execution_count": 70,
     "metadata": {},
     "output_type": "execute_result"
    }
   ],
   "source": [
    "list1*2"
   ]
  },
  {
   "cell_type": "code",
   "execution_count": 75,
   "id": "ab8897f8",
   "metadata": {},
   "outputs": [
    {
     "data": {
      "text/plain": [
       "[2, 'baba ammar', False]"
      ]
     },
     "execution_count": 75,
     "metadata": {},
     "output_type": "execute_result"
    }
   ],
   "source": [
    "list1"
   ]
  },
  {
   "cell_type": "code",
   "execution_count": 76,
   "id": "e7d1aa46",
   "metadata": {},
   "outputs": [
    {
     "data": {
      "text/plain": [
       "[False, 'baba ammar', 2]"
      ]
     },
     "execution_count": 76,
     "metadata": {},
     "output_type": "execute_result"
    }
   ],
   "source": [
    "list1.reverse()\n",
    "list1"
   ]
  },
  {
   "cell_type": "code",
   "execution_count": 78,
   "id": "a21f860c",
   "metadata": {},
   "outputs": [
    {
     "data": {
      "text/plain": [
       "[False,\n",
       " 'baba ammar',\n",
       " 2,\n",
       " 'codanics youtube channel',\n",
       " 'codanics youtube channel']"
      ]
     },
     "execution_count": 78,
     "metadata": {},
     "output_type": "execute_result"
    }
   ],
   "source": [
    "list1.append(\"codanics youtube channel\")\n",
    "list1"
   ]
  },
  {
   "cell_type": "code",
   "execution_count": 81,
   "id": "621272a0",
   "metadata": {},
   "outputs": [
    {
     "data": {
      "text/plain": [
       "1"
      ]
     },
     "execution_count": 81,
     "metadata": {},
     "output_type": "execute_result"
    }
   ],
   "source": [
    "list1.count(False)\n"
   ]
  },
  {
   "cell_type": "code",
   "execution_count": 82,
   "id": "9df43fd0",
   "metadata": {},
   "outputs": [
    {
     "data": {
      "text/plain": [
       "[20, 30, 40, 50, 60, 52, 562, 488, 2485]"
      ]
     },
     "execution_count": 82,
     "metadata": {},
     "output_type": "execute_result"
    }
   ],
   "source": [
    "list3 = [20,30,40,50,60,52,562,488,2485]\n",
    "list3\n"
   ]
  },
  {
   "cell_type": "code",
   "execution_count": 83,
   "id": "3bf4745b",
   "metadata": {},
   "outputs": [
    {
     "data": {
      "text/plain": [
       "9"
      ]
     },
     "execution_count": 83,
     "metadata": {},
     "output_type": "execute_result"
    }
   ],
   "source": [
    "len(list3)"
   ]
  },
  {
   "cell_type": "code",
   "execution_count": 84,
   "id": "1acace76",
   "metadata": {},
   "outputs": [
    {
     "data": {
      "text/plain": [
       "[20, 30, 40, 50, 52, 60, 488, 562, 2485]"
      ]
     },
     "execution_count": 84,
     "metadata": {},
     "output_type": "execute_result"
    }
   ],
   "source": [
    "#sorting a List\n",
    "list3.sort()\n",
    "list3\n"
   ]
  },
  {
   "cell_type": "code",
   "execution_count": 85,
   "id": "4edf9cd7",
   "metadata": {},
   "outputs": [
    {
     "data": {
      "text/plain": [
       "[20,\n",
       " 30,\n",
       " 40,\n",
       " 50,\n",
       " 52,\n",
       " 60,\n",
       " 488,\n",
       " 562,\n",
       " 2485,\n",
       " 20,\n",
       " 30,\n",
       " 40,\n",
       " 50,\n",
       " 52,\n",
       " 60,\n",
       " 488,\n",
       " 562,\n",
       " 2485,\n",
       " 20,\n",
       " 30,\n",
       " 40,\n",
       " 50,\n",
       " 52,\n",
       " 60,\n",
       " 488,\n",
       " 562,\n",
       " 2485]"
      ]
     },
     "execution_count": 85,
     "metadata": {},
     "output_type": "execute_result"
    }
   ],
   "source": [
    "#repeat\n",
    "list3*3\n"
   ]
  },
  {
   "cell_type": "code",
   "execution_count": 86,
   "id": "ba84012d",
   "metadata": {},
   "outputs": [
    {
     "data": {
      "text/plain": [
       "[3,\n",
       " 5,\n",
       " 'Aammar',\n",
       " 'Codanics',\n",
       " 478,\n",
       " 53.2,\n",
       " True,\n",
       " 20,\n",
       " 30,\n",
       " 40,\n",
       " 50,\n",
       " 52,\n",
       " 60,\n",
       " 488,\n",
       " 562,\n",
       " 2485]"
      ]
     },
     "execution_count": 86,
     "metadata": {},
     "output_type": "execute_result"
    }
   ],
   "source": [
    "list2+list3"
   ]
  },
  {
   "cell_type": "code",
   "execution_count": 87,
   "id": "7038ec50",
   "metadata": {},
   "outputs": [
    {
     "data": {
      "text/plain": [
       "[False,\n",
       " 'baba ammar',\n",
       " 2,\n",
       " 'codanics youtube channel',\n",
       " 'codanics youtube channel',\n",
       " 3,\n",
       " 5,\n",
       " 'Aammar',\n",
       " 'Codanics',\n",
       " 478,\n",
       " 53.2,\n",
       " True]"
      ]
     },
     "execution_count": 87,
     "metadata": {},
     "output_type": "execute_result"
    }
   ],
   "source": [
    "lists= list1 +list2\n",
    "lists"
   ]
  },
  {
   "cell_type": "markdown",
   "id": "6675da7a",
   "metadata": {},
   "source": [
    "## 3- Dictionaries\n",
    "- AN unirdered collection of element\n",
    "- Key and value\n",
    "- Curly braces/ braces {}\n",
    "- Mutateable , you can change the value "
   ]
  },
  {
   "cell_type": "code",
   "execution_count": 89,
   "id": "e9d55e0b",
   "metadata": {},
   "outputs": [
    {
     "data": {
      "text/plain": [
       "{'Samosa': 30, 'Pakora': 100, 'Raita': 20, 'Salad': 50, 'Chicken Rolls': 30}"
      ]
     },
     "execution_count": 89,
     "metadata": {},
     "output_type": "execute_result"
    }
   ],
   "source": [
    "#Food and thier prices \n",
    "food1= {\"Samosa\" : 30, \"Pakora\" : 100, \"Raita\" : 20, \"Salad\" : 50, \"Chicken Rolls\": 30,}\n",
    "food1"
   ]
  },
  {
   "cell_type": "code",
   "execution_count": 90,
   "id": "06be4e92",
   "metadata": {},
   "outputs": [
    {
     "data": {
      "text/plain": [
       "dict"
      ]
     },
     "execution_count": 90,
     "metadata": {},
     "output_type": "execute_result"
    }
   ],
   "source": [
    "type(food1)"
   ]
  },
  {
   "cell_type": "code",
   "execution_count": 92,
   "id": "7f6ba21f",
   "metadata": {},
   "outputs": [
    {
     "data": {
      "text/plain": [
       "dict_keys(['Samosa', 'Pakora', 'Raita', 'Salad', 'Chicken Rolls'])"
      ]
     },
     "execution_count": 92,
     "metadata": {},
     "output_type": "execute_result"
    }
   ],
   "source": [
    "#extract data \n",
    "keys= food1.keys()\n",
    "keys"
   ]
  },
  {
   "cell_type": "code",
   "execution_count": 93,
   "id": "a74016b1",
   "metadata": {},
   "outputs": [
    {
     "data": {
      "text/plain": [
       "dict_values([30, 100, 20, 50, 30])"
      ]
     },
     "execution_count": 93,
     "metadata": {},
     "output_type": "execute_result"
    }
   ],
   "source": [
    "values = food1.values()\n",
    "values"
   ]
  },
  {
   "cell_type": "code",
   "execution_count": 95,
   "id": "fa8290f1",
   "metadata": {},
   "outputs": [
    {
     "data": {
      "text/plain": [
       "{'Samosa': 30,\n",
       " 'Pakora': 100,\n",
       " 'Raita': 20,\n",
       " 'Salad': 50,\n",
       " 'Chicken Rolls': 30,\n",
       " 'Tikki': 10}"
      ]
     },
     "execution_count": 95,
     "metadata": {},
     "output_type": "execute_result"
    }
   ],
   "source": [
    "#adding new element\n",
    "food1[\"Tikki\"]=10\n",
    "food1"
   ]
  },
  {
   "cell_type": "code",
   "execution_count": 96,
   "id": "1845d44a",
   "metadata": {},
   "outputs": [
    {
     "data": {
      "text/plain": [
       "{'Samosa': 30,\n",
       " 'Pakora': 100,\n",
       " 'Raita': 20,\n",
       " 'Salad': 50,\n",
       " 'Chicken Rolls': 30,\n",
       " 'Tikki': 15}"
      ]
     },
     "execution_count": 96,
     "metadata": {},
     "output_type": "execute_result"
    }
   ],
   "source": [
    "#updating a values\n",
    "food1[\"Tikki\"]= 15\n",
    "food1"
   ]
  },
  {
   "cell_type": "code",
   "execution_count": 97,
   "id": "0d24a9ee",
   "metadata": {},
   "outputs": [
    {
     "data": {
      "text/plain": [
       "{'Dates': 50, 'Chocolates': 200, 'Sawayyan': 1000}"
      ]
     },
     "execution_count": 97,
     "metadata": {},
     "output_type": "execute_result"
    }
   ],
   "source": [
    "food2 = {\"Dates\": 50, \"Chocolates\":200, \"Sawayyan\":1000}\n",
    "food2"
   ]
  },
  {
   "cell_type": "code",
   "execution_count": 103,
   "id": "e11f98a2",
   "metadata": {},
   "outputs": [
    {
     "data": {
      "text/plain": [
       "{'Samosa': 30,\n",
       " 'Pakora': 100,\n",
       " 'Raita': 20,\n",
       " 'Salad': 50,\n",
       " 'Chicken Rolls': 30,\n",
       " 'Tikki': 15,\n",
       " 'Dates': 50,\n",
       " 'Chocolates': 200,\n",
       " 'Sawayyan': 1000}"
      ]
     },
     "execution_count": 103,
     "metadata": {},
     "output_type": "execute_result"
    }
   ],
   "source": [
    "#Concatinate\n",
    "food1.update(food2)\n",
    "food1\n"
   ]
  },
  {
   "cell_type": "markdown",
   "id": "f6663c10",
   "metadata": {},
   "source": [
    "## 4-Sets\n",
    "- An unordered and un-indexed\n",
    "- Curly braces {} are used \n",
    "- no  duplicates allowed "
   ]
  },
  {
   "cell_type": "code",
   "execution_count": 109,
   "id": "297be47c",
   "metadata": {},
   "outputs": [
    {
     "data": {
      "text/plain": [
       "{1, 2, 2.2, 5, 'Codanics', 'Faisalabad'}"
      ]
     },
     "execution_count": 109,
     "metadata": {},
     "output_type": "execute_result"
    }
   ],
   "source": [
    "s1= {1, 2, 2.2, 5, \"Codanics\", \"Faisalabad\", True}\n",
    "s1\n",
    "# here we see that boolean operator dosent print in sets "
   ]
  },
  {
   "cell_type": "code",
   "execution_count": 111,
   "id": "617babfe",
   "metadata": {},
   "outputs": [
    {
     "data": {
      "text/plain": [
       "{1, 2, 2.2, 5, 'Codanics', 'Faisalabad', 'codanics'}"
      ]
     },
     "execution_count": 111,
     "metadata": {},
     "output_type": "execute_result"
    }
   ],
   "source": [
    "s1.add(\"codanics\")\n",
    "s1"
   ]
  },
  {
   "cell_type": "code",
   "execution_count": 112,
   "id": "51be006a",
   "metadata": {},
   "outputs": [
    {
     "data": {
      "text/plain": [
       "{1, 2, 2.2, 5, 'Codanics', 'Faisalabad', 'codanics'}"
      ]
     },
     "execution_count": 112,
     "metadata": {},
     "output_type": "execute_result"
    }
   ],
   "source": [
    "s1.add(\"Faisalabad\")\n",
    "s1\n"
   ]
  },
  {
   "cell_type": "code",
   "execution_count": 113,
   "id": "dd7ca3a5",
   "metadata": {},
   "outputs": [
    {
     "data": {
      "text/plain": [
       "{1, 2, 2.2, 5, 'Codanics', 'Faisalabad'}"
      ]
     },
     "execution_count": 113,
     "metadata": {},
     "output_type": "execute_result"
    }
   ],
   "source": [
    "s1.remove(\"codanics\")\n",
    "s1"
   ]
  },
  {
   "cell_type": "code",
   "execution_count": 7,
   "id": "e892f8df",
   "metadata": {},
   "outputs": [
    {
     "data": {
      "text/plain": [
       "array([[1, 1, 1, 1],\n",
       "       [2, 2, 2, 2],\n",
       "       [3, 3, 3, 3]])"
      ]
     },
     "execution_count": 7,
     "metadata": {},
     "output_type": "execute_result"
    }
   ],
   "source": [
    "import numpy as np\n",
    "a = np.array([1,1,1])\n",
    "a\n",
    "b= np.array([[1,1,1,1], [2,2,2,2], [3,3,3,3]])\n",
    "b"
   ]
  },
  {
   "cell_type": "code",
   "execution_count": 8,
   "id": "cd9725d7",
   "metadata": {},
   "outputs": [
    {
     "data": {
      "text/plain": [
       "numpy.ndarray"
      ]
     },
     "execution_count": 8,
     "metadata": {},
     "output_type": "execute_result"
    }
   ],
   "source": [
    "type(a)"
   ]
  },
  {
   "cell_type": "code",
   "execution_count": 9,
   "id": "734fd4d7",
   "metadata": {},
   "outputs": [
    {
     "data": {
      "text/plain": [
       "3"
      ]
     },
     "execution_count": 9,
     "metadata": {},
     "output_type": "execute_result"
    }
   ],
   "source": [
    "len(a)"
   ]
  },
  {
   "cell_type": "code",
   "execution_count": 10,
   "id": "5d318b75",
   "metadata": {},
   "outputs": [
    {
     "data": {
      "text/plain": [
       "array([0., 0., 0.])"
      ]
     },
     "execution_count": 10,
     "metadata": {},
     "output_type": "execute_result"
    }
   ],
   "source": [
    "c=np.zeros(3)\n",
    "c"
   ]
  },
  {
   "cell_type": "code",
   "execution_count": 27,
   "id": "00d998a7",
   "metadata": {},
   "outputs": [
    {
     "data": {
      "text/plain": [
       "array([1., 1., 1., 1., 1.])"
      ]
     },
     "execution_count": 27,
     "metadata": {},
     "output_type": "execute_result"
    }
   ],
   "source": [
    "d=np.ones(5, dtype=np.float64)\n",
    "d"
   ]
  },
  {
   "cell_type": "code",
   "execution_count": 28,
   "id": "1ca5a4d9",
   "metadata": {},
   "outputs": [
    {
     "data": {
      "text/plain": [
       "array([1, 1, 1, 1, 1], dtype=int64)"
      ]
     },
     "execution_count": 28,
     "metadata": {},
     "output_type": "execute_result"
    }
   ],
   "source": [
    "d=np.ones(5, dtype=np.int64)\n",
    "d"
   ]
  },
  {
   "cell_type": "code",
   "execution_count": 14,
   "id": "9fb0cd73",
   "metadata": {},
   "outputs": [
    {
     "data": {
      "text/plain": [
       "array([8.00277278e+100, 1.58668671e-295])"
      ]
     },
     "execution_count": 14,
     "metadata": {},
     "output_type": "execute_result"
    }
   ],
   "source": [
    "f=np.empty(2)\n",
    "f"
   ]
  },
  {
   "cell_type": "code",
   "execution_count": 15,
   "id": "19d71f7f",
   "metadata": {},
   "outputs": [
    {
     "data": {
      "text/plain": [
       "array([0, 1, 2, 3, 4, 5, 6, 7])"
      ]
     },
     "execution_count": 15,
     "metadata": {},
     "output_type": "execute_result"
    }
   ],
   "source": [
    "#range\n",
    "q=np.arange(8)\n",
    "q"
   ]
  },
  {
   "cell_type": "code",
   "execution_count": 17,
   "id": "2a815c4a",
   "metadata": {},
   "outputs": [
    {
     "data": {
      "text/plain": [
       "array([ 2,  3,  4,  5,  6,  7,  8,  9, 10, 11, 12, 13, 14, 15, 16, 17, 18,\n",
       "       19])"
      ]
     },
     "execution_count": 17,
     "metadata": {},
     "output_type": "execute_result"
    }
   ],
   "source": [
    "w=np.arange(2,20)\n",
    "w"
   ]
  },
  {
   "cell_type": "code",
   "execution_count": 21,
   "id": "52635bf2",
   "metadata": {},
   "outputs": [
    {
     "data": {
      "text/plain": [
       "array([ 2,  5,  8, 11, 14, 17, 20])"
      ]
     },
     "execution_count": 21,
     "metadata": {},
     "output_type": "execute_result"
    }
   ],
   "source": [
    "e=np.arange(2,22,3)\n",
    "e"
   ]
  },
  {
   "cell_type": "code",
   "execution_count": 20,
   "id": "1ba3f245",
   "metadata": {},
   "outputs": [
    {
     "data": {
      "text/plain": [
       "array([ 0. ,  2.5,  5. ,  7.5, 10. ])"
      ]
     },
     "execution_count": 20,
     "metadata": {},
     "output_type": "execute_result"
    }
   ],
   "source": [
    "#linearly spaced arrays \n",
    "r= np.linspace(0,10, num=5) # mene 0 se 10 tak jana hai total 5 numbers me ese k beech ka distance brabar ho   \n",
    "r"
   ]
  },
  {
   "cell_type": "code",
   "execution_count": null,
   "id": "e7af8f28",
   "metadata": {},
   "outputs": [],
   "source": []
  }
 ],
 "metadata": {
  "kernelspec": {
   "display_name": "Python 3 (ipykernel)",
   "language": "python",
   "name": "python3"
  },
  "language_info": {
   "codemirror_mode": {
    "name": "ipython",
    "version": 3
   },
   "file_extension": ".py",
   "mimetype": "text/x-python",
   "name": "python",
   "nbconvert_exporter": "python",
   "pygments_lexer": "ipython3",
   "version": "3.9.7"
  }
 },
 "nbformat": 4,
 "nbformat_minor": 5
}
