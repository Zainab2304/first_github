{
 "cells": [
  {
   "cell_type": "code",
   "execution_count": 30,
   "metadata": {},
   "outputs": [
    {
     "data": {
      "text/html": [
       "<div>\n",
       "<style scoped>\n",
       "    .dataframe tbody tr th:only-of-type {\n",
       "        vertical-align: middle;\n",
       "    }\n",
       "\n",
       "    .dataframe tbody tr th {\n",
       "        vertical-align: top;\n",
       "    }\n",
       "\n",
       "    .dataframe thead th {\n",
       "        text-align: right;\n",
       "    }\n",
       "</style>\n",
       "<table border=\"1\" class=\"dataframe\">\n",
       "  <thead>\n",
       "    <tr style=\"text-align: right;\">\n",
       "      <th></th>\n",
       "      <th>Domain Code</th>\n",
       "      <th>Domain</th>\n",
       "      <th>Area Code (FAO)</th>\n",
       "      <th>Area</th>\n",
       "      <th>Element Code</th>\n",
       "      <th>Element</th>\n",
       "      <th>Item Code (FAO)</th>\n",
       "      <th>Item</th>\n",
       "      <th>Year Code</th>\n",
       "      <th>Year</th>\n",
       "      <th>Unit</th>\n",
       "      <th>Value</th>\n",
       "      <th>Unit 1</th>\n",
       "      <th>Value 1</th>\n",
       "    </tr>\n",
       "  </thead>\n",
       "  <tbody>\n",
       "    <tr>\n",
       "      <th>0</th>\n",
       "      <td>QCL</td>\n",
       "      <td>Crops and livestock products</td>\n",
       "      <td>165</td>\n",
       "      <td>Pakistan</td>\n",
       "      <td>5312</td>\n",
       "      <td>Area harvested</td>\n",
       "      <td>156</td>\n",
       "      <td>Sugar cane</td>\n",
       "      <td>1961</td>\n",
       "      <td>1961</td>\n",
       "      <td>ha</td>\n",
       "      <td>388100</td>\n",
       "      <td>hg/ha</td>\n",
       "      <td>299923</td>\n",
       "    </tr>\n",
       "    <tr>\n",
       "      <th>1</th>\n",
       "      <td>QCL</td>\n",
       "      <td>Crops and livestock products</td>\n",
       "      <td>165</td>\n",
       "      <td>Pakistan</td>\n",
       "      <td>5312</td>\n",
       "      <td>Area harvested</td>\n",
       "      <td>156</td>\n",
       "      <td>Sugar cane</td>\n",
       "      <td>1962</td>\n",
       "      <td>1962</td>\n",
       "      <td>ha</td>\n",
       "      <td>444300</td>\n",
       "      <td>hg/ha</td>\n",
       "      <td>323131</td>\n",
       "    </tr>\n",
       "    <tr>\n",
       "      <th>2</th>\n",
       "      <td>QCL</td>\n",
       "      <td>Crops and livestock products</td>\n",
       "      <td>165</td>\n",
       "      <td>Pakistan</td>\n",
       "      <td>5312</td>\n",
       "      <td>Area harvested</td>\n",
       "      <td>156</td>\n",
       "      <td>Sugar cane</td>\n",
       "      <td>1963</td>\n",
       "      <td>1963</td>\n",
       "      <td>ha</td>\n",
       "      <td>531000</td>\n",
       "      <td>hg/ha</td>\n",
       "      <td>347232</td>\n",
       "    </tr>\n",
       "    <tr>\n",
       "      <th>3</th>\n",
       "      <td>QCL</td>\n",
       "      <td>Crops and livestock products</td>\n",
       "      <td>165</td>\n",
       "      <td>Pakistan</td>\n",
       "      <td>5312</td>\n",
       "      <td>Area harvested</td>\n",
       "      <td>156</td>\n",
       "      <td>Sugar cane</td>\n",
       "      <td>1964</td>\n",
       "      <td>1964</td>\n",
       "      <td>ha</td>\n",
       "      <td>477500</td>\n",
       "      <td>hg/ha</td>\n",
       "      <td>337990</td>\n",
       "    </tr>\n",
       "    <tr>\n",
       "      <th>4</th>\n",
       "      <td>QCL</td>\n",
       "      <td>Crops and livestock products</td>\n",
       "      <td>165</td>\n",
       "      <td>Pakistan</td>\n",
       "      <td>5312</td>\n",
       "      <td>Area harvested</td>\n",
       "      <td>156</td>\n",
       "      <td>Sugar cane</td>\n",
       "      <td>1965</td>\n",
       "      <td>1965</td>\n",
       "      <td>ha</td>\n",
       "      <td>503000</td>\n",
       "      <td>hg/ha</td>\n",
       "      <td>371113</td>\n",
       "    </tr>\n",
       "  </tbody>\n",
       "</table>\n",
       "</div>"
      ],
      "text/plain": [
       "  Domain Code                        Domain  Area Code (FAO)      Area  \\\n",
       "0         QCL  Crops and livestock products              165  Pakistan   \n",
       "1         QCL  Crops and livestock products              165  Pakistan   \n",
       "2         QCL  Crops and livestock products              165  Pakistan   \n",
       "3         QCL  Crops and livestock products              165  Pakistan   \n",
       "4         QCL  Crops and livestock products              165  Pakistan   \n",
       "\n",
       "   Element Code         Element  Item Code (FAO)        Item  Year Code  Year  \\\n",
       "0          5312  Area harvested              156  Sugar cane       1961  1961   \n",
       "1          5312  Area harvested              156  Sugar cane       1962  1962   \n",
       "2          5312  Area harvested              156  Sugar cane       1963  1963   \n",
       "3          5312  Area harvested              156  Sugar cane       1964  1964   \n",
       "4          5312  Area harvested              156  Sugar cane       1965  1965   \n",
       "\n",
       "  Unit   Value Unit 1  Value 1  \n",
       "0   ha  388100  hg/ha   299923  \n",
       "1   ha  444300  hg/ha   323131  \n",
       "2   ha  531000  hg/ha   347232  \n",
       "3   ha  477500  hg/ha   337990  \n",
       "4   ha  503000  hg/ha   371113  "
      ]
     },
     "execution_count": 30,
     "metadata": {},
     "output_type": "execute_result"
    }
   ],
   "source": [
    "import numpy as np\n",
    "import matplotlib.pyplot as plt\n",
    "import seaborn as sns \n",
    "import pandas as pd \n",
    "\n",
    "df = pd.read_csv(\"HSC.csv\")\n",
    "df.head()"
   ]
  },
  {
   "cell_type": "code",
   "execution_count": 31,
   "metadata": {},
   "outputs": [
    {
     "data": {
      "text/plain": [
       "Index(['Domain Code', 'Domain', 'Area Code (FAO)', 'Area', 'Element Code',\n",
       "       'Element', 'Item Code (FAO)', 'Item', 'Year Code', 'Year', 'Unit',\n",
       "       'Value', 'Unit 1', 'Value 1'],\n",
       "      dtype='object')"
      ]
     },
     "execution_count": 31,
     "metadata": {},
     "output_type": "execute_result"
    }
   ],
   "source": [
    "df.columns\n"
   ]
  },
  {
   "cell_type": "code",
   "execution_count": 33,
   "metadata": {},
   "outputs": [],
   "source": [
    "df= df.drop (['Domain Code', 'Domain', 'Area Code (FAO)', 'Area', 'Element Code','Item Code (FAO)', 'Item', 'Year Code'], axis= 1)"
   ]
  },
  {
   "cell_type": "code",
   "execution_count": 34,
   "metadata": {},
   "outputs": [
    {
     "data": {
      "text/html": [
       "<div>\n",
       "<style scoped>\n",
       "    .dataframe tbody tr th:only-of-type {\n",
       "        vertical-align: middle;\n",
       "    }\n",
       "\n",
       "    .dataframe tbody tr th {\n",
       "        vertical-align: top;\n",
       "    }\n",
       "\n",
       "    .dataframe thead th {\n",
       "        text-align: right;\n",
       "    }\n",
       "</style>\n",
       "<table border=\"1\" class=\"dataframe\">\n",
       "  <thead>\n",
       "    <tr style=\"text-align: right;\">\n",
       "      <th></th>\n",
       "      <th>Element</th>\n",
       "      <th>Year</th>\n",
       "      <th>Unit</th>\n",
       "      <th>Value</th>\n",
       "      <th>Unit 1</th>\n",
       "      <th>Value 1</th>\n",
       "    </tr>\n",
       "  </thead>\n",
       "  <tbody>\n",
       "    <tr>\n",
       "      <th>0</th>\n",
       "      <td>Area harvested</td>\n",
       "      <td>1961</td>\n",
       "      <td>ha</td>\n",
       "      <td>388100</td>\n",
       "      <td>hg/ha</td>\n",
       "      <td>299923</td>\n",
       "    </tr>\n",
       "    <tr>\n",
       "      <th>1</th>\n",
       "      <td>Area harvested</td>\n",
       "      <td>1962</td>\n",
       "      <td>ha</td>\n",
       "      <td>444300</td>\n",
       "      <td>hg/ha</td>\n",
       "      <td>323131</td>\n",
       "    </tr>\n",
       "    <tr>\n",
       "      <th>2</th>\n",
       "      <td>Area harvested</td>\n",
       "      <td>1963</td>\n",
       "      <td>ha</td>\n",
       "      <td>531000</td>\n",
       "      <td>hg/ha</td>\n",
       "      <td>347232</td>\n",
       "    </tr>\n",
       "    <tr>\n",
       "      <th>3</th>\n",
       "      <td>Area harvested</td>\n",
       "      <td>1964</td>\n",
       "      <td>ha</td>\n",
       "      <td>477500</td>\n",
       "      <td>hg/ha</td>\n",
       "      <td>337990</td>\n",
       "    </tr>\n",
       "    <tr>\n",
       "      <th>4</th>\n",
       "      <td>Area harvested</td>\n",
       "      <td>1965</td>\n",
       "      <td>ha</td>\n",
       "      <td>503000</td>\n",
       "      <td>hg/ha</td>\n",
       "      <td>371113</td>\n",
       "    </tr>\n",
       "  </tbody>\n",
       "</table>\n",
       "</div>"
      ],
      "text/plain": [
       "          Element  Year Unit   Value Unit 1  Value 1\n",
       "0  Area harvested  1961   ha  388100  hg/ha   299923\n",
       "1  Area harvested  1962   ha  444300  hg/ha   323131\n",
       "2  Area harvested  1963   ha  531000  hg/ha   347232\n",
       "3  Area harvested  1964   ha  477500  hg/ha   337990\n",
       "4  Area harvested  1965   ha  503000  hg/ha   371113"
      ]
     },
     "execution_count": 34,
     "metadata": {},
     "output_type": "execute_result"
    }
   ],
   "source": [
    "df.head()"
   ]
  },
  {
   "cell_type": "code",
   "execution_count": 38,
   "metadata": {},
   "outputs": [
    {
     "data": {
      "text/plain": [
       "Index(['Element', 'Year', 'Unit', 'Value', 'Unit 1', 'Value 1'], dtype='object')"
      ]
     },
     "execution_count": 38,
     "metadata": {},
     "output_type": "execute_result"
    }
   ],
   "source": [
    "df.columns"
   ]
  },
  {
   "cell_type": "code",
   "execution_count": 60,
   "metadata": {},
   "outputs": [
    {
     "data": {
      "image/png": "[encoded data removed]",
      "text/plain": [
       "<Figure size 432x288 with 2 Axes>"
      ]
     },
     "metadata": {
      "needs_background": "light"
     },
     "output_type": "display_data"
    }
   ],
   "source": [
    "x = df[\"Year\"]\n",
    "y = df[\"Value\"]\n",
    "z = df[\"Value 1\"]\n",
    "\n",
    "fig = plt.figure()\n",
    "ax = fig.add_subplot(111)\n",
    "ax.plot(x,y, 'b', label = 'Yeild')\n",
    "\n",
    "ax2 = ax.twinx()\n",
    "ax2.plot(x,z, 'r', label = 'Harvest')\n",
    "\n",
    "fig.legend(loc=\"upper right\")\n",
    "ax.set_xlabel(\"Years \")\n",
    "ax.set_ylabel(\"Yeild\")\n",
    "ax2.set_ylabel(\"Harvest\")\n",
    "plt.show()"
   ]
  },
  {
   "cell_type": "code",
   "execution_count": 59,
   "metadata": {},
   "outputs": [
    {
     "data": {
      "image/png": "[encoded data removed]",
      "text/plain": [
       "<Figure size 432x288 with 2 Axes>"
      ]
     },
     "metadata": {
      "needs_background": "light"
     },
     "output_type": "display_data"
    }
   ],
   "source": [
    "import numpy as np\n",
    "import matplotlib.pyplot as plt\n",
    "from matplotlib import rc\n",
    "rc('mathtext', default='regular')\n",
    "\n",
    "fig = plt.figure()\n",
    "ax = fig.add_subplot(111)\n",
    "x = df[\"Year\"]\n",
    "y = df[\"Value\"]\n",
    "z = df[\"Value 1\"]\n",
    "\n",
    "ax.plot(x, y, '-', label = 'Yeild')\n",
    "\n",
    "ax2 = ax.twinx()\n",
    "ax2.plot(x, z, '-r', label = 'temp')\n",
    "\n",
    "\n",
    "ax.grid()\n",
    "ax.set_xlabel(\"Time (h)\")\n",
    "ax.set_ylabel(r\"Radiation ($MJ\\,m^{-2}\\,d^{-1}$)\")\n",
    "ax2.set_ylabel(r\"Temperature ($^\\circ$C)\")\n",
    "ax2.set_ylim(0, 35)\n",
    "ax.set_ylim(-20,100)\n",
    "plt.show()"
   ]
  }
 ],
 "metadata": {
  "interpreter": {
   "hash": "266c4d81548097d9dd641a4c19dbdb8cb4ce739c1b70c23a83575cb49d14a5df"
  },
  "kernelspec": {
   "display_name": "Python 3.10.1 64-bit",
   "language": "python",
   "name": "python3"
  },
  "language_info": {
   "codemirror_mode": {
    "name": "ipython",
    "version": 3
   },
   "file_extension": ".py",
   "mimetype": "text/x-python",
   "name": "python",
   "nbconvert_exporter": "python",
   "pygments_lexer": "ipython3",
   "version": "3.10.1"
  },
  "orig_nbformat": 4
 },
 "nbformat": 4,
 "nbformat_minor": 2
}
