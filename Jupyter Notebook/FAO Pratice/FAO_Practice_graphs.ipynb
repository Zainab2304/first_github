{
 "cells": [
  {
   "cell_type": "code",
   "execution_count": 1,
   "metadata": {},
   "outputs": [],
   "source": [
    "import numpy as np \n",
    "import pandas as pd \n",
    "import seaborn as sns\n",
    "import plotly.express as px\n",
    "import matplotlib.pyplot as plt \n",
    "\n",
    "# https://www.fao.org/faostat/en/#data Getting data from this site "
   ]
  },
  {
   "cell_type": "markdown",
   "metadata": {},
   "source": [
    "## Annual Producer price (USD/tonne) of Wheat in different countries "
   ]
  },
  {
   "cell_type": "code",
   "execution_count": 5,
   "metadata": {},
   "outputs": [
    {
     "data": {
      "application/vnd.plotly.v1+json": {
       "config": {
        "plotlyServerURL": "https://plot.ly"
       },
       "data": [
        {
         "hovertemplate": "Area=Bangladesh<br>Year=%{x}<br>Price in USD /tonnee=%{y}<extra></extra>",
         "legendgroup": "Bangladesh",
         "line": {
          "color": "#636efa"
         },
         "marker": {
          "symbol": "circle"
         },
         "mode": "lines",
         "name": "Bangladesh",
         "orientation": "v",
         "showlegend": true,
         "stackgroup": "1",
         "type": "scatter",
         "x": [
          1991,
          1992,
          1993,
          1994,
          1995,
          1996,
          1997,
          1998,
          1999,
          2000,
          2001,
          2002,
          2003,
          2004,
          2005,
          2006,
          2007,
          2008,
          2009,
          2010,
          2011,
          2012,
          2013,
          2014,
          2015,
          2016,
          2017,
          2018,
          2019,
          2020
         ],
         "xaxis": "x",
         "y": [
          163,
          178,
          136,
          161,
          186,
          178,
          167,
          172,
          173,
          155,
          147,
          145,
          215,
          227,
          218,
          201,
          256,
          211,
          250,
          295,
          263,
          269,
          288,
          280,
          277,
          255,
          268,
          280,
          302,
          301
         ],
         "yaxis": "y"
        },
        {
         "hovertemplate": "Area=India<br>Year=%{x}<br>Price in USD /tonnee=%{y}<extra></extra>",
         "legendgroup": "India",
         "line": {
          "color": "#EF553B"
         },
         "marker": {
          "symbol": "circle"
         },
         "mode": "lines",
         "name": "India",
         "orientation": "v",
         "showlegend": true,
         "stackgroup": "1",
         "type": "scatter",
         "x": [
          1991,
          1992,
          1993,
          1994,
          1995,
          1996,
          1997,
          1998,
          1999,
          2000,
          2001,
          2002,
          2003,
          2004,
          2005,
          2006,
          2007,
          2008
         ],
         "xaxis": "x",
         "y": [
          170,
          150,
          134,
          135,
          145,
          163,
          152,
          144,
          148,
          148,
          140,
          139,
          150,
          157,
          188,
          196,
          242,
          248
         ],
         "yaxis": "y"
        },
        {
         "hovertemplate": "Area=Iran <br>Year=%{x}<br>Price in USD /tonnee=%{y}<extra></extra>",
         "legendgroup": "Iran ",
         "line": {
          "color": "#00cc96"
         },
         "marker": {
          "symbol": "circle"
         },
         "mode": "lines",
         "name": "Iran ",
         "orientation": "v",
         "showlegend": true,
         "stackgroup": "1",
         "type": "scatter",
         "x": [
          1991,
          1992,
          1993,
          1994,
          1995,
          1996,
          1997,
          1998,
          1999,
          2000,
          2001,
          2002,
          2003,
          2004,
          2005,
          2006,
          2007,
          2008,
          2009,
          2010,
          2011,
          2012,
          2013,
          2014,
          2015,
          2016,
          2017,
          2018,
          2019,
          2020
         ],
         "xaxis": "x",
         "y": [
          266,
          228,
          253,
          218,
          192,
          192,
          174,
          186,
          161,
          153,
          170,
          186,
          183,
          197,
          208,
          225,
          220,
          310,
          310,
          311,
          321,
          358,
          413,
          404,
          398,
          402,
          388,
          319,
          410,
          591
         ],
         "yaxis": "y"
        },
        {
         "hovertemplate": "Area=Nepal<br>Year=%{x}<br>Price in USD /tonnee=%{y}<extra></extra>",
         "legendgroup": "Nepal",
         "line": {
          "color": "#ab63fa"
         },
         "marker": {
          "symbol": "circle"
         },
         "mode": "lines",
         "name": "Nepal",
         "orientation": "v",
         "showlegend": true,
         "stackgroup": "1",
         "type": "scatter",
         "x": [
          1991,
          1992,
          1993,
          1994,
          1995,
          1996,
          1997,
          1998,
          2000,
          2001,
          2002,
          2003,
          2004,
          2005,
          2006,
          2007,
          2008,
          2009,
          2010,
          2011,
          2012,
          2013,
          2014,
          2015,
          2016,
          2017,
          2018,
          2019,
          2020
         ],
         "xaxis": "x",
         "y": [
          123,
          114,
          118,
          117,
          113,
          122,
          136,
          119,
          134,
          131,
          126,
          130,
          146,
          165,
          164,
          205,
          220,
          219,
          270,
          292,
          255,
          257,
          259,
          272,
          267,
          278,
          276,
          285,
          295
         ],
         "yaxis": "y"
        },
        {
         "hovertemplate": "Area=Pakistan<br>Year=%{x}<br>Price in USD /tonnee=%{y}<extra></extra>",
         "legendgroup": "Pakistan",
         "line": {
          "color": "#FFA15A"
         },
         "marker": {
          "symbol": "circle"
         },
         "mode": "lines",
         "name": "Pakistan",
         "orientation": "v",
         "showlegend": true,
         "stackgroup": "1",
         "type": "scatter",
         "x": [
          1991,
          1992,
          1993,
          1994,
          1995,
          1996,
          1997,
          1998,
          1999,
          2000,
          2001,
          2002,
          2003,
          2004,
          2005,
          2006,
          2007,
          2008,
          2009,
          2010,
          2012,
          2013,
          2014,
          2015,
          2016
         ],
         "xaxis": "x",
         "y": [
          143,
          145,
          144,
          153,
          149,
          166,
          180,
          161,
          155,
          154,
          127,
          148,
          158,
          184,
          187,
          178,
          178,
          162,
          298,
          295,
          260,
          286,
          299,
          287,
          286
         ],
         "yaxis": "y"
        }
       ],
       "layout": {
        "legend": {
         "title": {
          "text": "Area"
         },
         "tracegroupgap": 0
        },
        "template": {
         "data": {
          "bar": [
           {
            "error_x": {
             "color": "#2a3f5f"
            },
            "error_y": {
             "color": "#2a3f5f"
            },
            "marker": {
             "line": {
              "color": "#E5ECF6",
              "width": 0.5
             },
             "pattern": {
              "fillmode": "overlay",
              "size": 10,
              "solidity": 0.2
             }
            },
            "type": "bar"
           }
          ],
          "barpolar": [
           {
            "marker": {
             "line": {
              "color": "#E5ECF6",
              "width": 0.5
             },
             "pattern": {
              "fillmode": "overlay",
              "size": 10,
              "solidity": 0.2
             }
            },
            "type": "barpolar"
           }
          ],
          "carpet": [
           {
            "aaxis": {
             "endlinecolor": "#2a3f5f",
             "gridcolor": "white",
             "linecolor": "white",
             "minorgridcolor": "white",
             "startlinecolor": "#2a3f5f"
            },
            "baxis": {
             "endlinecolor": "#2a3f5f",
             "gridcolor": "white",
             "linecolor": "white",
             "minorgridcolor": "white",
             "startlinecolor": "#2a3f5f"
            },
            "type": "carpet"
           }
          ],
          "choropleth": [
           {
            "colorbar": {
             "outlinewidth": 0,
             "ticks": ""
            },
            "type": "choropleth"
           }
          ],
          "contour": [
           {
            "colorbar": {
             "outlinewidth": 0,
             "ticks": ""
            },
            "colorscale": [
             [
              0,
              "#0d0887"
             ],
             [
              0.1111111111111111,
              "#46039f"
             ],
             [
              0.2222222222222222,
              "#7201a8"
             ],
             [
              0.3333333333333333,
              "#9c179e"
             ],
             [
              0.4444444444444444,
              "#bd3786"
             ],
             [
              0.5555555555555556,
              "#d8576b"
             ],
             [
              0.6666666666666666,
              "#ed7953"
             ],
             [
              0.7777777777777778,
              "#fb9f3a"
             ],
             [
              0.8888888888888888,
              "#fdca26"
             ],
             [
              1,
              "#f0f921"
             ]
            ],
            "type": "contour"
           }
          ],
          "contourcarpet": [
           {
            "colorbar": {
             "outlinewidth": 0,
             "ticks": ""
            },
            "type": "contourcarpet"
           }
          ],
          "heatmap": [
           {
            "colorbar": {
             "outlinewidth": 0,
             "ticks": ""
            },
            "colorscale": [
             [
              0,
              "#0d0887"
             ],
             [
              0.1111111111111111,
              "#46039f"
             ],
             [
              0.2222222222222222,
              "#7201a8"
             ],
             [
              0.3333333333333333,
              "#9c179e"
             ],
             [
              0.4444444444444444,
              "#bd3786"
             ],
             [
              0.5555555555555556,
              "#d8576b"
             ],
             [
              0.6666666666666666,
              "#ed7953"
             ],
             [
              0.7777777777777778,
              "#fb9f3a"
             ],
             [
              0.8888888888888888,
              "#fdca26"
             ],
             [
              1,
              "#f0f921"
             ]
            ],
            "type": "heatmap"
           }
          ],
          "heatmapgl": [
           {
            "colorbar": {
             "outlinewidth": 0,
             "ticks": ""
            },
            "colorscale": [
             [
              0,
              "#0d0887"
             ],
             [
              0.1111111111111111,
              "#46039f"
             ],
             [
              0.2222222222222222,
              "#7201a8"
             ],
             [
              0.3333333333333333,
              "#9c179e"
             ],
             [
              0.4444444444444444,
              "#bd3786"
             ],
             [
              0.5555555555555556,
              "#d8576b"
             ],
             [
              0.6666666666666666,
              "#ed7953"
             ],
             [
              0.7777777777777778,
              "#fb9f3a"
             ],
             [
              0.8888888888888888,
              "#fdca26"
             ],
             [
              1,
              "#f0f921"
             ]
            ],
            "type": "heatmapgl"
           }
          ],
          "histogram": [
           {
            "marker": {
             "pattern": {
              "fillmode": "overlay",
              "size": 10,
              "solidity": 0.2
             }
            },
            "type": "histogram"
           }
          ],
          "histogram2d": [
           {
            "colorbar": {
             "outlinewidth": 0,
             "ticks": ""
            },
            "colorscale": [
             [
              0,
              "#0d0887"
             ],
             [
              0.1111111111111111,
              "#46039f"
             ],
             [
              0.2222222222222222,
              "#7201a8"
             ],
             [
              0.3333333333333333,
              "#9c179e"
             ],
             [
              0.4444444444444444,
              "#bd3786"
             ],
             [
              0.5555555555555556,
              "#d8576b"
             ],
             [
              0.6666666666666666,
              "#ed7953"
             ],
             [
              0.7777777777777778,
              "#fb9f3a"
             ],
             [
              0.8888888888888888,
              "#fdca26"
             ],
             [
              1,
              "#f0f921"
             ]
            ],
            "type": "histogram2d"
           }
          ],
          "histogram2dcontour": [
           {
            "colorbar": {
             "outlinewidth": 0,
             "ticks": ""
            },
            "colorscale": [
             [
              0,
              "#0d0887"
             ],
             [
              0.1111111111111111,
              "#46039f"
             ],
             [
              0.2222222222222222,
              "#7201a8"
             ],
             [
              0.3333333333333333,
              "#9c179e"
             ],
             [
              0.4444444444444444,
              "#bd3786"
             ],
             [
              0.5555555555555556,
              "#d8576b"
             ],
             [
              0.6666666666666666,
              "#ed7953"
             ],
             [
              0.7777777777777778,
              "#fb9f3a"
             ],
             [
              0.8888888888888888,
              "#fdca26"
             ],
             [
              1,
              "#f0f921"
             ]
            ],
            "type": "histogram2dcontour"
           }
          ],
          "mesh3d": [
           {
            "colorbar": {
             "outlinewidth": 0,
             "ticks": ""
            },
            "type": "mesh3d"
           }
          ],
          "parcoords": [
           {
            "line": {
             "colorbar": {
              "outlinewidth": 0,
              "ticks": ""
             }
            },
            "type": "parcoords"
           }
          ],
          "pie": [
           {
            "automargin": true,
            "type": "pie"
           }
          ],
          "scatter": [
           {
            "marker": {
             "colorbar": {
              "outlinewidth": 0,
              "ticks": ""
             }
            },
            "type": "scatter"
           }
          ],
          "scatter3d": [
           {
            "line": {
             "colorbar": {
              "outlinewidth": 0,
              "ticks": ""
             }
            },
            "marker": {
             "colorbar": {
              "outlinewidth": 0,
              "ticks": ""
             }
            },
            "type": "scatter3d"
           }
          ],
          "scattercarpet": [
           {
            "marker": {
             "colorbar": {
              "outlinewidth": 0,
              "ticks": ""
             }
            },
            "type": "scattercarpet"
           }
          ],
          "scattergeo": [
           {
            "marker": {
             "colorbar": {
              "outlinewidth": 0,
              "ticks": ""
             }
            },
            "type": "scattergeo"
           }
          ],
          "scattergl": [
           {
            "marker": {
             "colorbar": {
              "outlinewidth": 0,
              "ticks": ""
             }
            },
            "type": "scattergl"
           }
          ],
          "scattermapbox": [
           {
            "marker": {
             "colorbar": {
              "outlinewidth": 0,
              "ticks": ""
             }
            },
            "type": "scattermapbox"
           }
          ],
          "scatterpolar": [
           {
            "marker": {
             "colorbar": {
              "outlinewidth": 0,
              "ticks": ""
             }
            },
            "type": "scatterpolar"
           }
          ],
          "scatterpolargl": [
           {
            "marker": {
             "colorbar": {
              "outlinewidth": 0,
              "ticks": ""
             }
            },
            "type": "scatterpolargl"
           }
          ],
          "scatterternary": [
           {
            "marker": {
             "colorbar": {
              "outlinewidth": 0,
              "ticks": ""
             }
            },
            "type": "scatterternary"
           }
          ],
          "surface": [
           {
            "colorbar": {
             "outlinewidth": 0,
             "ticks": ""
            },
            "colorscale": [
             [
              0,
              "#0d0887"
             ],
             [
              0.1111111111111111,
              "#46039f"
             ],
             [
              0.2222222222222222,
              "#7201a8"
             ],
             [
              0.3333333333333333,
              "#9c179e"
             ],
             [
              0.4444444444444444,
              "#bd3786"
             ],
             [
              0.5555555555555556,
              "#d8576b"
             ],
             [
              0.6666666666666666,
              "#ed7953"
             ],
             [
              0.7777777777777778,
              "#fb9f3a"
             ],
             [
              0.8888888888888888,
              "#fdca26"
             ],
             [
              1,
              "#f0f921"
             ]
            ],
            "type": "surface"
           }
          ],
          "table": [
           {
            "cells": {
             "fill": {
              "color": "#EBF0F8"
             },
             "line": {
              "color": "white"
             }
            },
            "header": {
             "fill": {
              "color": "#C8D4E3"
             },
             "line": {
              "color": "white"
             }
            },
            "type": "table"
           }
          ]
         },
         "layout": {
          "annotationdefaults": {
           "arrowcolor": "#2a3f5f",
           "arrowhead": 0,
           "arrowwidth": 1
          },
          "autotypenumbers": "strict",
          "coloraxis": {
           "colorbar": {
            "outlinewidth": 0,
            "ticks": ""
           }
          },
          "colorscale": {
           "diverging": [
            [
             0,
             "#8e0152"
            ],
            [
             0.1,
             "#c51b7d"
            ],
            [
             0.2,
             "#de77ae"
            ],
            [
             0.3,
             "#f1b6da"
            ],
            [
             0.4,
             "#fde0ef"
            ],
            [
             0.5,
             "#f7f7f7"
            ],
            [
             0.6,
             "#e6f5d0"
            ],
            [
             0.7,
             "#b8e186"
            ],
            [
             0.8,
             "#7fbc41"
            ],
            [
             0.9,
             "#4d9221"
            ],
            [
             1,
             "#276419"
            ]
           ],
           "sequential": [
            [
             0,
             "#0d0887"
            ],
            [
             0.1111111111111111,
             "#46039f"
            ],
            [
             0.2222222222222222,
             "#7201a8"
            ],
            [
             0.3333333333333333,
             "#9c179e"
            ],
            [
             0.4444444444444444,
             "#bd3786"
            ],
            [
             0.5555555555555556,
             "#d8576b"
            ],
            [
             0.6666666666666666,
             "#ed7953"
            ],
            [
             0.7777777777777778,
             "#fb9f3a"
            ],
            [
             0.8888888888888888,
             "#fdca26"
            ],
            [
             1,
             "#f0f921"
            ]
           ],
           "sequentialminus": [
            [
             0,
             "#0d0887"
            ],
            [
             0.1111111111111111,
             "#46039f"
            ],
            [
             0.2222222222222222,
             "#7201a8"
            ],
            [
             0.3333333333333333,
             "#9c179e"
            ],
            [
             0.4444444444444444,
             "#bd3786"
            ],
            [
             0.5555555555555556,
             "#d8576b"
            ],
            [
             0.6666666666666666,
             "#ed7953"
            ],
            [
             0.7777777777777778,
             "#fb9f3a"
            ],
            [
             0.8888888888888888,
             "#fdca26"
            ],
            [
             1,
             "#f0f921"
            ]
           ]
          },
          "colorway": [
           "#636efa",
           "#EF553B",
           "#00cc96",
           "#ab63fa",
           "#FFA15A",
           "#19d3f3",
           "#FF6692",
           "#B6E880",
           "#FF97FF",
           "#FECB52"
          ],
          "font": {
           "color": "#2a3f5f"
          },
          "geo": {
           "bgcolor": "white",
           "lakecolor": "white",
           "landcolor": "#E5ECF6",
           "showlakes": true,
           "showland": true,
           "subunitcolor": "white"
          },
          "hoverlabel": {
           "align": "left"
          },
          "hovermode": "closest",
          "mapbox": {
           "style": "light"
          },
          "paper_bgcolor": "white",
          "plot_bgcolor": "#E5ECF6",
          "polar": {
           "angularaxis": {
            "gridcolor": "white",
            "linecolor": "white",
            "ticks": ""
           },
           "bgcolor": "#E5ECF6",
           "radialaxis": {
            "gridcolor": "white",
            "linecolor": "white",
            "ticks": ""
           }
          },
          "scene": {
           "xaxis": {
            "backgroundcolor": "#E5ECF6",
            "gridcolor": "white",
            "gridwidth": 2,
            "linecolor": "white",
            "showbackground": true,
            "ticks": "",
            "zerolinecolor": "white"
           },
           "yaxis": {
            "backgroundcolor": "#E5ECF6",
            "gridcolor": "white",
            "gridwidth": 2,
            "linecolor": "white",
            "showbackground": true,
            "ticks": "",
            "zerolinecolor": "white"
           },
           "zaxis": {
            "backgroundcolor": "#E5ECF6",
            "gridcolor": "white",
            "gridwidth": 2,
            "linecolor": "white",
            "showbackground": true,
            "ticks": "",
            "zerolinecolor": "white"
           }
          },
          "shapedefaults": {
           "line": {
            "color": "#2a3f5f"
           }
          },
          "ternary": {
           "aaxis": {
            "gridcolor": "white",
            "linecolor": "white",
            "ticks": ""
           },
           "baxis": {
            "gridcolor": "white",
            "linecolor": "white",
            "ticks": ""
           },
           "bgcolor": "#E5ECF6",
           "caxis": {
            "gridcolor": "white",
            "linecolor": "white",
            "ticks": ""
           }
          },
          "title": {
           "x": 0.05
          },
          "xaxis": {
           "automargin": true,
           "gridcolor": "white",
           "linecolor": "white",
           "ticks": "",
           "title": {
            "standoff": 15
           },
           "zerolinecolor": "white",
           "zerolinewidth": 2
          },
          "yaxis": {
           "automargin": true,
           "gridcolor": "white",
           "linecolor": "white",
           "ticks": "",
           "title": {
            "standoff": 15
           },
           "zerolinecolor": "white",
           "zerolinewidth": 2
          }
         }
        },
        "title": {
         "text": "Annual Producer price (USD/tonne) of Wheat in different countries "
        },
        "xaxis": {
         "anchor": "y",
         "domain": [
          0,
          1
         ],
         "title": {
          "text": "Year"
         }
        },
        "yaxis": {
         "anchor": "x",
         "domain": [
          0,
          1
         ],
         "title": {
          "text": "Price in USD /tonnee"
         }
        }
       }
      }
     },
     "metadata": {},
     "output_type": "display_data"
    }
   ],
   "source": [
    "import plotly.express as px\n",
    "df1= pd.read_csv(\"PP.csv\")\n",
    "fig = px.area(df1, x=\"Year\", y=\"Value\", color=\"Area\" , title='Annual Producer price (USD/tonne) of Wheat in different countries ',\n",
    "labels={\"Value\": \"Price in USD /tonnee\"})\n",
    "fig.show()"
   ]
  },
  {
   "cell_type": "code",
   "execution_count": 6,
   "metadata": {},
   "outputs": [
    {
     "data": {
      "text/html": [
       "<div>\n",
       "<style scoped>\n",
       "    .dataframe tbody tr th:only-of-type {\n",
       "        vertical-align: middle;\n",
       "    }\n",
       "\n",
       "    .dataframe tbody tr th {\n",
       "        vertical-align: top;\n",
       "    }\n",
       "\n",
       "    .dataframe thead th {\n",
       "        text-align: right;\n",
       "    }\n",
       "</style>\n",
       "<table border=\"1\" class=\"dataframe\">\n",
       "  <thead>\n",
       "    <tr style=\"text-align: right;\">\n",
       "      <th></th>\n",
       "      <th>Domain Code</th>\n",
       "      <th>Domain</th>\n",
       "      <th>Area Code (FAO)</th>\n",
       "      <th>Area</th>\n",
       "      <th>Element Code</th>\n",
       "      <th>Element</th>\n",
       "      <th>Item</th>\n",
       "      <th>Year</th>\n",
       "      <th>Months Code</th>\n",
       "      <th>Months</th>\n",
       "      <th>Unit</th>\n",
       "      <th>Value</th>\n",
       "    </tr>\n",
       "  </thead>\n",
       "  <tbody>\n",
       "    <tr>\n",
       "      <th>0</th>\n",
       "      <td>PP</td>\n",
       "      <td>Producer Prices</td>\n",
       "      <td>16</td>\n",
       "      <td>Bangladesh</td>\n",
       "      <td>5532</td>\n",
       "      <td>Producer Price (USD/tonne)</td>\n",
       "      <td>Wheat</td>\n",
       "      <td>1991</td>\n",
       "      <td>7021</td>\n",
       "      <td>Annual value</td>\n",
       "      <td>USD</td>\n",
       "      <td>163</td>\n",
       "    </tr>\n",
       "    <tr>\n",
       "      <th>1</th>\n",
       "      <td>PP</td>\n",
       "      <td>Producer Prices</td>\n",
       "      <td>16</td>\n",
       "      <td>Bangladesh</td>\n",
       "      <td>5532</td>\n",
       "      <td>Producer Price (USD/tonne)</td>\n",
       "      <td>Wheat</td>\n",
       "      <td>1992</td>\n",
       "      <td>7021</td>\n",
       "      <td>Annual value</td>\n",
       "      <td>USD</td>\n",
       "      <td>178</td>\n",
       "    </tr>\n",
       "    <tr>\n",
       "      <th>2</th>\n",
       "      <td>PP</td>\n",
       "      <td>Producer Prices</td>\n",
       "      <td>16</td>\n",
       "      <td>Bangladesh</td>\n",
       "      <td>5532</td>\n",
       "      <td>Producer Price (USD/tonne)</td>\n",
       "      <td>Wheat</td>\n",
       "      <td>1993</td>\n",
       "      <td>7021</td>\n",
       "      <td>Annual value</td>\n",
       "      <td>USD</td>\n",
       "      <td>136</td>\n",
       "    </tr>\n",
       "    <tr>\n",
       "      <th>3</th>\n",
       "      <td>PP</td>\n",
       "      <td>Producer Prices</td>\n",
       "      <td>16</td>\n",
       "      <td>Bangladesh</td>\n",
       "      <td>5532</td>\n",
       "      <td>Producer Price (USD/tonne)</td>\n",
       "      <td>Wheat</td>\n",
       "      <td>1994</td>\n",
       "      <td>7021</td>\n",
       "      <td>Annual value</td>\n",
       "      <td>USD</td>\n",
       "      <td>161</td>\n",
       "    </tr>\n",
       "    <tr>\n",
       "      <th>4</th>\n",
       "      <td>PP</td>\n",
       "      <td>Producer Prices</td>\n",
       "      <td>16</td>\n",
       "      <td>Bangladesh</td>\n",
       "      <td>5532</td>\n",
       "      <td>Producer Price (USD/tonne)</td>\n",
       "      <td>Wheat</td>\n",
       "      <td>1995</td>\n",
       "      <td>7021</td>\n",
       "      <td>Annual value</td>\n",
       "      <td>USD</td>\n",
       "      <td>186</td>\n",
       "    </tr>\n",
       "  </tbody>\n",
       "</table>\n",
       "</div>"
      ],
      "text/plain": [
       "  Domain Code           Domain  Area Code (FAO)        Area  Element Code  \\\n",
       "0          PP  Producer Prices               16  Bangladesh          5532   \n",
       "1          PP  Producer Prices               16  Bangladesh          5532   \n",
       "2          PP  Producer Prices               16  Bangladesh          5532   \n",
       "3          PP  Producer Prices               16  Bangladesh          5532   \n",
       "4          PP  Producer Prices               16  Bangladesh          5532   \n",
       "\n",
       "                      Element   Item  Year  Months Code        Months Unit  \\\n",
       "0  Producer Price (USD/tonne)  Wheat  1991         7021  Annual value  USD   \n",
       "1  Producer Price (USD/tonne)  Wheat  1992         7021  Annual value  USD   \n",
       "2  Producer Price (USD/tonne)  Wheat  1993         7021  Annual value  USD   \n",
       "3  Producer Price (USD/tonne)  Wheat  1994         7021  Annual value  USD   \n",
       "4  Producer Price (USD/tonne)  Wheat  1995         7021  Annual value  USD   \n",
       "\n",
       "   Value  \n",
       "0    163  \n",
       "1    178  \n",
       "2    136  \n",
       "3    161  \n",
       "4    186  "
      ]
     },
     "execution_count": 6,
     "metadata": {},
     "output_type": "execute_result"
    }
   ],
   "source": [
    "new_data= df1.drop([80,108], axis =0)\n",
    "new_data.head()\n"
   ]
  },
  {
   "cell_type": "code",
   "execution_count": 7,
   "metadata": {},
   "outputs": [
    {
     "data": {
      "application/vnd.plotly.v1+json": {
       "config": {
        "plotlyServerURL": "https://plot.ly"
       },
       "data": [
        {
         "hovertemplate": "Area=Bangladesh<br>Year=%{x}<br>Price in USD /tonnee=%{y}<extra></extra>",
         "legendgroup": "Bangladesh",
         "line": {
          "color": "#636efa"
         },
         "marker": {
          "symbol": "circle"
         },
         "mode": "lines",
         "name": "Bangladesh",
         "orientation": "v",
         "showlegend": true,
         "stackgroup": "1",
         "type": "scatter",
         "x": [
          1991,
          1992,
          1993,
          1994,
          1995,
          1996,
          1997,
          1998,
          1999,
          2000,
          2001,
          2002,
          2003,
          2004,
          2005,
          2006,
          2007,
          2008,
          2009,
          2010,
          2011,
          2012,
          2013,
          2014,
          2015,
          2016,
          2017,
          2018,
          2019,
          2020
         ],
         "xaxis": "x",
         "y": [
          163,
          178,
          136,
          161,
          186,
          178,
          167,
          172,
          173,
          155,
          147,
          145,
          215,
          227,
          218,
          201,
          256,
          211,
          250,
          295,
          263,
          269,
          288,
          280,
          277,
          255,
          268,
          280,
          302,
          301
         ],
         "yaxis": "y"
        },
        {
         "hovertemplate": "Area=India<br>Year=%{x}<br>Price in USD /tonnee=%{y}<extra></extra>",
         "legendgroup": "India",
         "line": {
          "color": "#EF553B"
         },
         "marker": {
          "symbol": "circle"
         },
         "mode": "lines",
         "name": "India",
         "orientation": "v",
         "showlegend": true,
         "stackgroup": "1",
         "type": "scatter",
         "x": [
          1991,
          1992,
          1993,
          1994,
          1995,
          1996,
          1997,
          1998,
          1999,
          2000,
          2001,
          2002,
          2003,
          2004,
          2005,
          2006,
          2007,
          2008
         ],
         "xaxis": "x",
         "y": [
          170,
          150,
          134,
          135,
          145,
          163,
          152,
          144,
          148,
          148,
          140,
          139,
          150,
          157,
          188,
          196,
          242,
          248
         ],
         "yaxis": "y"
        },
        {
         "hovertemplate": "Area=Iran <br>Year=%{x}<br>Price in USD /tonnee=%{y}<extra></extra>",
         "legendgroup": "Iran ",
         "line": {
          "color": "#00cc96"
         },
         "marker": {
          "symbol": "circle"
         },
         "mode": "lines",
         "name": "Iran ",
         "orientation": "v",
         "showlegend": true,
         "stackgroup": "1",
         "type": "scatter",
         "x": [
          1991,
          1992,
          1993,
          1994,
          1995,
          1996,
          1997,
          1998,
          1999,
          2000,
          2001,
          2002,
          2003,
          2004,
          2005,
          2006,
          2007,
          2008,
          2009,
          2010,
          2011,
          2012,
          2013,
          2014,
          2015,
          2016,
          2017,
          2018,
          2019,
          2020
         ],
         "xaxis": "x",
         "y": [
          266,
          228,
          253,
          218,
          192,
          192,
          174,
          186,
          161,
          153,
          170,
          186,
          183,
          197,
          208,
          225,
          220,
          310,
          310,
          311,
          321,
          358,
          413,
          404,
          398,
          402,
          388,
          319,
          410,
          591
         ],
         "yaxis": "y"
        },
        {
         "hovertemplate": "Area=Nepal<br>Year=%{x}<br>Price in USD /tonnee=%{y}<extra></extra>",
         "legendgroup": "Nepal",
         "line": {
          "color": "#ab63fa"
         },
         "marker": {
          "symbol": "circle"
         },
         "mode": "lines",
         "name": "Nepal",
         "orientation": "v",
         "showlegend": true,
         "stackgroup": "1",
         "type": "scatter",
         "x": [
          1991,
          1992,
          1994,
          1995,
          1996,
          1997,
          1998,
          2000,
          2001,
          2002,
          2003,
          2004,
          2005,
          2006,
          2007,
          2008,
          2009,
          2010,
          2011,
          2012,
          2013,
          2014,
          2015,
          2016,
          2017,
          2018,
          2019,
          2020
         ],
         "xaxis": "x",
         "y": [
          123,
          114,
          117,
          113,
          122,
          136,
          119,
          134,
          131,
          126,
          130,
          146,
          165,
          164,
          205,
          220,
          219,
          270,
          292,
          255,
          257,
          259,
          272,
          267,
          278,
          276,
          285,
          295
         ],
         "yaxis": "y"
        },
        {
         "hovertemplate": "Area=Pakistan<br>Year=%{x}<br>Price in USD /tonnee=%{y}<extra></extra>",
         "legendgroup": "Pakistan",
         "line": {
          "color": "#FFA15A"
         },
         "marker": {
          "symbol": "circle"
         },
         "mode": "lines",
         "name": "Pakistan",
         "orientation": "v",
         "showlegend": true,
         "stackgroup": "1",
         "type": "scatter",
         "x": [
          1991,
          1993,
          1994,
          1995,
          1996,
          1997,
          1998,
          1999,
          2000,
          2001,
          2002,
          2003,
          2004,
          2005,
          2006,
          2007,
          2008,
          2009,
          2010,
          2012,
          2013,
          2014,
          2015,
          2016
         ],
         "xaxis": "x",
         "y": [
          143,
          144,
          153,
          149,
          166,
          180,
          161,
          155,
          154,
          127,
          148,
          158,
          184,
          187,
          178,
          178,
          162,
          298,
          295,
          260,
          286,
          299,
          287,
          286
         ],
         "yaxis": "y"
        }
       ],
       "layout": {
        "legend": {
         "title": {
          "text": "Area"
         },
         "tracegroupgap": 0
        },
        "template": {
         "data": {
          "bar": [
           {
            "error_x": {
             "color": "#2a3f5f"
            },
            "error_y": {
             "color": "#2a3f5f"
            },
            "marker": {
             "line": {
              "color": "#E5ECF6",
              "width": 0.5
             },
             "pattern": {
              "fillmode": "overlay",
              "size": 10,
              "solidity": 0.2
             }
            },
            "type": "bar"
           }
          ],
          "barpolar": [
           {
            "marker": {
             "line": {
              "color": "#E5ECF6",
              "width": 0.5
             },
             "pattern": {
              "fillmode": "overlay",
              "size": 10,
              "solidity": 0.2
             }
            },
            "type": "barpolar"
           }
          ],
          "carpet": [
           {
            "aaxis": {
             "endlinecolor": "#2a3f5f",
             "gridcolor": "white",
             "linecolor": "white",
             "minorgridcolor": "white",
             "startlinecolor": "#2a3f5f"
            },
            "baxis": {
             "endlinecolor": "#2a3f5f",
             "gridcolor": "white",
             "linecolor": "white",
             "minorgridcolor": "white",
             "startlinecolor": "#2a3f5f"
            },
            "type": "carpet"
           }
          ],
          "choropleth": [
           {
            "colorbar": {
             "outlinewidth": 0,
             "ticks": ""
            },
            "type": "choropleth"
           }
          ],
          "contour": [
           {
            "colorbar": {
             "outlinewidth": 0,
             "ticks": ""
            },
            "colorscale": [
             [
              0,
              "#0d0887"
             ],
             [
              0.1111111111111111,
              "#46039f"
             ],
             [
              0.2222222222222222,
              "#7201a8"
             ],
             [
              0.3333333333333333,
              "#9c179e"
             ],
             [
              0.4444444444444444,
              "#bd3786"
             ],
             [
              0.5555555555555556,
              "#d8576b"
             ],
             [
              0.6666666666666666,
              "#ed7953"
             ],
             [
              0.7777777777777778,
              "#fb9f3a"
             ],
             [
              0.8888888888888888,
              "#fdca26"
             ],
             [
              1,
              "#f0f921"
             ]
            ],
            "type": "contour"
           }
          ],
          "contourcarpet": [
           {
            "colorbar": {
             "outlinewidth": 0,
             "ticks": ""
            },
            "type": "contourcarpet"
           }
          ],
          "heatmap": [
           {
            "colorbar": {
             "outlinewidth": 0,
             "ticks": ""
            },
            "colorscale": [
             [
              0,
              "#0d0887"
             ],
             [
              0.1111111111111111,
              "#46039f"
             ],
             [
              0.2222222222222222,
              "#7201a8"
             ],
             [
              0.3333333333333333,
              "#9c179e"
             ],
             [
              0.4444444444444444,
              "#bd3786"
             ],
             [
              0.5555555555555556,
              "#d8576b"
             ],
             [
              0.6666666666666666,
              "#ed7953"
             ],
             [
              0.7777777777777778,
              "#fb9f3a"
             ],
             [
              0.8888888888888888,
              "#fdca26"
             ],
             [
              1,
              "#f0f921"
             ]
            ],
            "type": "heatmap"
           }
          ],
          "heatmapgl": [
           {
            "colorbar": {
             "outlinewidth": 0,
             "ticks": ""
            },
            "colorscale": [
             [
              0,
              "#0d0887"
             ],
             [
              0.1111111111111111,
              "#46039f"
             ],
             [
              0.2222222222222222,
              "#7201a8"
             ],
             [
              0.3333333333333333,
              "#9c179e"
             ],
             [
              0.4444444444444444,
              "#bd3786"
             ],
             [
              0.5555555555555556,
              "#d8576b"
             ],
             [
              0.6666666666666666,
              "#ed7953"
             ],
             [
              0.7777777777777778,
              "#fb9f3a"
             ],
             [
              0.8888888888888888,
              "#fdca26"
             ],
             [
              1,
              "#f0f921"
             ]
            ],
            "type": "heatmapgl"
           }
          ],
          "histogram": [
           {
            "marker": {
             "pattern": {
              "fillmode": "overlay",
              "size": 10,
              "solidity": 0.2
             }
            },
            "type": "histogram"
           }
          ],
          "histogram2d": [
           {
            "colorbar": {
             "outlinewidth": 0,
             "ticks": ""
            },
            "colorscale": [
             [
              0,
              "#0d0887"
             ],
             [
              0.1111111111111111,
              "#46039f"
             ],
             [
              0.2222222222222222,
              "#7201a8"
             ],
             [
              0.3333333333333333,
              "#9c179e"
             ],
             [
              0.4444444444444444,
              "#bd3786"
             ],
             [
              0.5555555555555556,
              "#d8576b"
             ],
             [
              0.6666666666666666,
              "#ed7953"
             ],
             [
              0.7777777777777778,
              "#fb9f3a"
             ],
             [
              0.8888888888888888,
              "#fdca26"
             ],
             [
              1,
              "#f0f921"
             ]
            ],
            "type": "histogram2d"
           }
          ],
          "histogram2dcontour": [
           {
            "colorbar": {
             "outlinewidth": 0,
             "ticks": ""
            },
            "colorscale": [
             [
              0,
              "#0d0887"
             ],
             [
              0.1111111111111111,
              "#46039f"
             ],
             [
              0.2222222222222222,
              "#7201a8"
             ],
             [
              0.3333333333333333,
              "#9c179e"
             ],
             [
              0.4444444444444444,
              "#bd3786"
             ],
             [
              0.5555555555555556,
              "#d8576b"
             ],
             [
              0.6666666666666666,
              "#ed7953"
             ],
             [
              0.7777777777777778,
              "#fb9f3a"
             ],
             [
              0.8888888888888888,
              "#fdca26"
             ],
             [
              1,
              "#f0f921"
             ]
            ],
            "type": "histogram2dcontour"
           }
          ],
          "mesh3d": [
           {
            "colorbar": {
             "outlinewidth": 0,
             "ticks": ""
            },
            "type": "mesh3d"
           }
          ],
          "parcoords": [
           {
            "line": {
             "colorbar": {
              "outlinewidth": 0,
              "ticks": ""
             }
            },
            "type": "parcoords"
           }
          ],
          "pie": [
           {
            "automargin": true,
            "type": "pie"
           }
          ],
          "scatter": [
           {
            "marker": {
             "colorbar": {
              "outlinewidth": 0,
              "ticks": ""
             }
            },
            "type": "scatter"
           }
          ],
          "scatter3d": [
           {
            "line": {
             "colorbar": {
              "outlinewidth": 0,
              "ticks": ""
             }
            },
            "marker": {
             "colorbar": {
              "outlinewidth": 0,
              "ticks": ""
             }
            },
            "type": "scatter3d"
           }
          ],
          "scattercarpet": [
           {
            "marker": {
             "colorbar": {
              "outlinewidth": 0,
              "ticks": ""
             }
            },
            "type": "scattercarpet"
           }
          ],
          "scattergeo": [
           {
            "marker": {
             "colorbar": {
              "outlinewidth": 0,
              "ticks": ""
             }
            },
            "type": "scattergeo"
           }
          ],
          "scattergl": [
           {
            "marker": {
             "colorbar": {
              "outlinewidth": 0,
              "ticks": ""
             }
            },
            "type": "scattergl"
           }
          ],
          "scattermapbox": [
           {
            "marker": {
             "colorbar": {
              "outlinewidth": 0,
              "ticks": ""
             }
            },
            "type": "scattermapbox"
           }
          ],
          "scatterpolar": [
           {
            "marker": {
             "colorbar": {
              "outlinewidth": 0,
              "ticks": ""
             }
            },
            "type": "scatterpolar"
           }
          ],
          "scatterpolargl": [
           {
            "marker": {
             "colorbar": {
              "outlinewidth": 0,
              "ticks": ""
             }
            },
            "type": "scatterpolargl"
           }
          ],
          "scatterternary": [
           {
            "marker": {
             "colorbar": {
              "outlinewidth": 0,
              "ticks": ""
             }
            },
            "type": "scatterternary"
           }
          ],
          "surface": [
           {
            "colorbar": {
             "outlinewidth": 0,
             "ticks": ""
            },
            "colorscale": [
             [
              0,
              "#0d0887"
             ],
             [
              0.1111111111111111,
              "#46039f"
             ],
             [
              0.2222222222222222,
              "#7201a8"
             ],
             [
              0.3333333333333333,
              "#9c179e"
             ],
             [
              0.4444444444444444,
              "#bd3786"
             ],
             [
              0.5555555555555556,
              "#d8576b"
             ],
             [
              0.6666666666666666,
              "#ed7953"
             ],
             [
              0.7777777777777778,
              "#fb9f3a"
             ],
             [
              0.8888888888888888,
              "#fdca26"
             ],
             [
              1,
              "#f0f921"
             ]
            ],
            "type": "surface"
           }
          ],
          "table": [
           {
            "cells": {
             "fill": {
              "color": "#EBF0F8"
             },
             "line": {
              "color": "white"
             }
            },
            "header": {
             "fill": {
              "color": "#C8D4E3"
             },
             "line": {
              "color": "white"
             }
            },
            "type": "table"
           }
          ]
         },
         "layout": {
          "annotationdefaults": {
           "arrowcolor": "#2a3f5f",
           "arrowhead": 0,
           "arrowwidth": 1
          },
          "autotypenumbers": "strict",
          "coloraxis": {
           "colorbar": {
            "outlinewidth": 0,
            "ticks": ""
           }
          },
          "colorscale": {
           "diverging": [
            [
             0,
             "#8e0152"
            ],
            [
             0.1,
             "#c51b7d"
            ],
            [
             0.2,
             "#de77ae"
            ],
            [
             0.3,
             "#f1b6da"
            ],
            [
             0.4,
             "#fde0ef"
            ],
            [
             0.5,
             "#f7f7f7"
            ],
            [
             0.6,
             "#e6f5d0"
            ],
            [
             0.7,
             "#b8e186"
            ],
            [
             0.8,
             "#7fbc41"
            ],
            [
             0.9,
             "#4d9221"
            ],
            [
             1,
             "#276419"
            ]
           ],
           "sequential": [
            [
             0,
             "#0d0887"
            ],
            [
             0.1111111111111111,
             "#46039f"
            ],
            [
             0.2222222222222222,
             "#7201a8"
            ],
            [
             0.3333333333333333,
             "#9c179e"
            ],
            [
             0.4444444444444444,
             "#bd3786"
            ],
            [
             0.5555555555555556,
             "#d8576b"
            ],
            [
             0.6666666666666666,
             "#ed7953"
            ],
            [
             0.7777777777777778,
             "#fb9f3a"
            ],
            [
             0.8888888888888888,
             "#fdca26"
            ],
            [
             1,
             "#f0f921"
            ]
           ],
           "sequentialminus": [
            [
             0,
             "#0d0887"
            ],
            [
             0.1111111111111111,
             "#46039f"
            ],
            [
             0.2222222222222222,
             "#7201a8"
            ],
            [
             0.3333333333333333,
             "#9c179e"
            ],
            [
             0.4444444444444444,
             "#bd3786"
            ],
            [
             0.5555555555555556,
             "#d8576b"
            ],
            [
             0.6666666666666666,
             "#ed7953"
            ],
            [
             0.7777777777777778,
             "#fb9f3a"
            ],
            [
             0.8888888888888888,
             "#fdca26"
            ],
            [
             1,
             "#f0f921"
            ]
           ]
          },
          "colorway": [
           "#636efa",
           "#EF553B",
           "#00cc96",
           "#ab63fa",
           "#FFA15A",
           "#19d3f3",
           "#FF6692",
           "#B6E880",
           "#FF97FF",
           "#FECB52"
          ],
          "font": {
           "color": "#2a3f5f"
          },
          "geo": {
           "bgcolor": "white",
           "lakecolor": "white",
           "landcolor": "#E5ECF6",
           "showlakes": true,
           "showland": true,
           "subunitcolor": "white"
          },
          "hoverlabel": {
           "align": "left"
          },
          "hovermode": "closest",
          "mapbox": {
           "style": "light"
          },
          "paper_bgcolor": "white",
          "plot_bgcolor": "#E5ECF6",
          "polar": {
           "angularaxis": {
            "gridcolor": "white",
            "linecolor": "white",
            "ticks": ""
           },
           "bgcolor": "#E5ECF6",
           "radialaxis": {
            "gridcolor": "white",
            "linecolor": "white",
            "ticks": ""
           }
          },
          "scene": {
           "xaxis": {
            "backgroundcolor": "#E5ECF6",
            "gridcolor": "white",
            "gridwidth": 2,
            "linecolor": "white",
            "showbackground": true,
            "ticks": "",
            "zerolinecolor": "white"
           },
           "yaxis": {
            "backgroundcolor": "#E5ECF6",
            "gridcolor": "white",
            "gridwidth": 2,
            "linecolor": "white",
            "showbackground": true,
            "ticks": "",
            "zerolinecolor": "white"
           },
           "zaxis": {
            "backgroundcolor": "#E5ECF6",
            "gridcolor": "white",
            "gridwidth": 2,
            "linecolor": "white",
            "showbackground": true,
            "ticks": "",
            "zerolinecolor": "white"
           }
          },
          "shapedefaults": {
           "line": {
            "color": "#2a3f5f"
           }
          },
          "ternary": {
           "aaxis": {
            "gridcolor": "white",
            "linecolor": "white",
            "ticks": ""
           },
           "baxis": {
            "gridcolor": "white",
            "linecolor": "white",
            "ticks": ""
           },
           "bgcolor": "#E5ECF6",
           "caxis": {
            "gridcolor": "white",
            "linecolor": "white",
            "ticks": ""
           }
          },
          "title": {
           "x": 0.05
          },
          "xaxis": {
           "automargin": true,
           "gridcolor": "white",
           "linecolor": "white",
           "ticks": "",
           "title": {
            "standoff": 15
           },
           "zerolinecolor": "white",
           "zerolinewidth": 2
          },
          "yaxis": {
           "automargin": true,
           "gridcolor": "white",
           "linecolor": "white",
           "ticks": "",
           "title": {
            "standoff": 15
           },
           "zerolinecolor": "white",
           "zerolinewidth": 2
          }
         }
        },
        "title": {
         "text": "Annual Producer price (USD/tonne) of Wheat in different countries "
        },
        "xaxis": {
         "anchor": "y",
         "domain": [
          0,
          1
         ],
         "title": {
          "text": "Year"
         }
        },
        "yaxis": {
         "anchor": "x",
         "domain": [
          0,
          1
         ],
         "title": {
          "text": "Price in USD /tonnee"
         }
        }
       }
      }
     },
     "metadata": {},
     "output_type": "display_data"
    }
   ],
   "source": [
    "import plotly.express as px\n",
    "fig = px.area(new_data, x=\"Year\", y=\"Value\", color=\"Area\" , title='Annual Producer price (USD/tonne) of Wheat in different countries ',\n",
    "labels={\"Value\": \"Price in USD /tonnee\"})\n",
    "fig.show()"
   ]
  },
  {
   "cell_type": "markdown",
   "metadata": {},
   "source": [
    "### Annual Producer price (USD/tonne) of Different Agricultural products in Pakistan"
   ]
  },
  {
   "cell_type": "code",
   "execution_count": 30,
   "metadata": {},
   "outputs": [
    {
     "data": {
      "application/vnd.plotly.v1+json": {
       "config": {
        "plotlyServerURL": "https://plot.ly"
       },
       "data": [
        {
         "hovertemplate": "<b>%{hovertext}</b><br><br>Item=Almonds, with shell<br>Area=Pakistan<br>Year=%{x}<br>Value=%{y}<extra></extra>",
         "hovertext": [
          "Pakistan",
          "Pakistan",
          "Pakistan",
          "Pakistan",
          "Pakistan",
          "Pakistan",
          "Pakistan",
          "Pakistan",
          "Pakistan",
          "Pakistan",
          "Pakistan",
          "Pakistan",
          "Pakistan",
          "Pakistan",
          "Pakistan",
          "Pakistan",
          "Pakistan",
          "Pakistan",
          "Pakistan"
         ],
         "legendgroup": "Almonds, with shell",
         "line": {
          "color": "#636efa",
          "dash": "solid",
          "shape": "spline"
         },
         "marker": {
          "symbol": "circle"
         },
         "mode": "lines",
         "name": "Almonds, with shell",
         "orientation": "v",
         "showlegend": true,
         "type": "scatter",
         "x": [
          1991,
          1992,
          1993,
          1994,
          1995,
          1996,
          1997,
          1998,
          1999,
          2000,
          2002,
          2003,
          2004,
          2005,
          2006,
          2007,
          2008,
          2009,
          2010
         ],
         "xaxis": "x",
         "y": [
          1516,
          1445,
          2166,
          1935,
          1791,
          1330,
          1100,
          891,
          1003,
          1491,
          825,
          2344,
          2370,
          2336,
          2323,
          2387,
          2116,
          1964,
          2123
         ],
         "yaxis": "y"
        },
        {
         "hovertemplate": "<b>%{hovertext}</b><br><br>Item=Apples<br>Area=Pakistan<br>Year=%{x}<br>Value=%{y}<extra></extra>",
         "hovertext": [
          "Pakistan",
          "Pakistan",
          "Pakistan",
          "Pakistan",
          "Pakistan",
          "Pakistan",
          "Pakistan",
          "Pakistan",
          "Pakistan",
          "Pakistan",
          "Pakistan",
          "Pakistan",
          "Pakistan",
          "Pakistan",
          "Pakistan",
          "Pakistan",
          "Pakistan",
          "Pakistan",
          "Pakistan"
         ],
         "legendgroup": "Apples",
         "line": {
          "color": "#EF553B",
          "dash": "solid",
          "shape": "spline"
         },
         "marker": {
          "symbol": "circle"
         },
         "mode": "lines",
         "name": "Apples",
         "orientation": "v",
         "showlegend": true,
         "type": "scatter",
         "x": [
          1991,
          1992,
          1993,
          1994,
          1995,
          1996,
          1997,
          1998,
          1999,
          2000,
          2002,
          2003,
          2004,
          2005,
          2006,
          2007,
          2008,
          2009,
          2010
         ],
         "xaxis": "x",
         "y": [
          995,
          804,
          724,
          698,
          740,
          705,
          611,
          482,
          511,
          513,
          312,
          626,
          624,
          622,
          630,
          659,
          597,
          551,
          563
         ],
         "yaxis": "y"
        },
        {
         "hovertemplate": "<b>%{hovertext}</b><br><br>Item=Apricots<br>Area=Pakistan<br>Year=%{x}<br>Value=%{y}<extra></extra>",
         "hovertext": [
          "Pakistan",
          "Pakistan",
          "Pakistan",
          "Pakistan",
          "Pakistan",
          "Pakistan",
          "Pakistan",
          "Pakistan",
          "Pakistan",
          "Pakistan",
          "Pakistan",
          "Pakistan",
          "Pakistan",
          "Pakistan",
          "Pakistan",
          "Pakistan",
          "Pakistan",
          "Pakistan",
          "Pakistan"
         ],
         "legendgroup": "Apricots",
         "line": {
          "color": "#00cc96",
          "dash": "solid",
          "shape": "spline"
         },
         "marker": {
          "symbol": "circle"
         },
         "mode": "lines",
         "name": "Apricots",
         "orientation": "v",
         "showlegend": true,
         "type": "scatter",
         "x": [
          1991,
          1992,
          1993,
          1994,
          1995,
          1996,
          1997,
          1998,
          1999,
          2000,
          2002,
          2003,
          2004,
          2005,
          2006,
          2007,
          2008,
          2009,
          2010
         ],
         "xaxis": "x",
         "y": [
          459,
          588,
          399,
          395,
          395,
          426,
          400,
          359,
          272,
          205,
          310,
          462,
          462,
          456,
          472,
          504,
          462,
          446,
          377
         ],
         "yaxis": "y"
        },
        {
         "hovertemplate": "<b>%{hovertext}</b><br><br>Item=Bananas<br>Area=Pakistan<br>Year=%{x}<br>Value=%{y}<extra></extra>",
         "hovertext": [
          "Pakistan",
          "Pakistan",
          "Pakistan",
          "Pakistan",
          "Pakistan",
          "Pakistan",
          "Pakistan",
          "Pakistan",
          "Pakistan",
          "Pakistan",
          "Pakistan",
          "Pakistan",
          "Pakistan",
          "Pakistan",
          "Pakistan",
          "Pakistan",
          "Pakistan",
          "Pakistan",
          "Pakistan"
         ],
         "legendgroup": "Bananas",
         "line": {
          "color": "#ab63fa",
          "dash": "solid",
          "shape": "spline"
         },
         "marker": {
          "symbol": "circle"
         },
         "mode": "lines",
         "name": "Bananas",
         "orientation": "v",
         "showlegend": true,
         "type": "scatter",
         "x": [
          1991,
          1992,
          1993,
          1994,
          1995,
          1996,
          1997,
          1998,
          1999,
          2000,
          2002,
          2003,
          2004,
          2005,
          2006,
          2007,
          2008,
          2009,
          2010
         ],
         "xaxis": "x",
         "y": [
          210,
          288,
          277,
          291,
          298,
          246,
          230,
          210,
          9,
          186,
          128,
          165,
          165,
          162,
          163,
          173,
          156,
          196,
          223
         ],
         "yaxis": "y"
        },
        {
         "hovertemplate": "<b>%{hovertext}</b><br><br>Item=Barley<br>Area=Pakistan<br>Year=%{x}<br>Value=%{y}<extra></extra>",
         "hovertext": [
          "Pakistan",
          "Pakistan",
          "Pakistan",
          "Pakistan",
          "Pakistan",
          "Pakistan",
          "Pakistan",
          "Pakistan",
          "Pakistan",
          "Pakistan",
          "Pakistan",
          "Pakistan",
          "Pakistan",
          "Pakistan",
          "Pakistan",
          "Pakistan",
          "Pakistan",
          "Pakistan",
          "Pakistan"
         ],
         "legendgroup": "Barley",
         "line": {
          "color": "#FFA15A",
          "dash": "solid",
          "shape": "spline"
         },
         "marker": {
          "symbol": "circle"
         },
         "mode": "lines",
         "name": "Barley",
         "orientation": "v",
         "showlegend": true,
         "type": "scatter",
         "x": [
          1991,
          1992,
          1993,
          1994,
          1995,
          1996,
          1997,
          1998,
          1999,
          2000,
          2002,
          2003,
          2004,
          2005,
          2006,
          2007,
          2008,
          2009,
          2010
         ],
         "xaxis": "x",
         "y": [
          163,
          179,
          175,
          132,
          138,
          166,
          152,
          160,
          147,
          140,
          123,
          135,
          137,
          138,
          149,
          165,
          146,
          256,
          265
         ],
         "yaxis": "y"
        },
        {
         "hovertemplate": "<b>%{hovertext}</b><br><br>Item=Dates<br>Area=Pakistan<br>Year=%{x}<br>Value=%{y}<extra></extra>",
         "hovertext": [
          "Pakistan",
          "Pakistan",
          "Pakistan",
          "Pakistan",
          "Pakistan",
          "Pakistan",
          "Pakistan",
          "Pakistan",
          "Pakistan",
          "Pakistan",
          "Pakistan",
          "Pakistan",
          "Pakistan",
          "Pakistan",
          "Pakistan",
          "Pakistan",
          "Pakistan",
          "Pakistan",
          "Pakistan"
         ],
         "legendgroup": "Dates",
         "line": {
          "color": "#19d3f3",
          "dash": "solid",
          "shape": "spline"
         },
         "marker": {
          "symbol": "circle"
         },
         "mode": "lines",
         "name": "Dates",
         "orientation": "v",
         "showlegend": true,
         "type": "scatter",
         "x": [
          1991,
          1992,
          1993,
          1994,
          1995,
          1996,
          1997,
          1998,
          1999,
          2000,
          2002,
          2003,
          2004,
          2005,
          2006,
          2007,
          2008,
          2009,
          2010
         ],
         "xaxis": "x",
         "y": [
          588,
          809,
          563,
          655,
          712,
          631,
          575,
          579,
          406,
          424,
          402,
          478,
          481,
          479,
          531,
          659,
          682,
          636,
          657
         ],
         "yaxis": "y"
        },
        {
         "hovertemplate": "<b>%{hovertext}</b><br><br>Item=Eggs, hen, in shell<br>Area=Pakistan<br>Year=%{x}<br>Value=%{y}<extra></extra>",
         "hovertext": [
          "Pakistan",
          "Pakistan",
          "Pakistan",
          "Pakistan",
          "Pakistan",
          "Pakistan",
          "Pakistan",
          "Pakistan",
          "Pakistan",
          "Pakistan",
          "Pakistan",
          "Pakistan",
          "Pakistan"
         ],
         "legendgroup": "Eggs, hen, in shell",
         "line": {
          "color": "#FF6692",
          "dash": "solid",
          "shape": "spline"
         },
         "marker": {
          "symbol": "circle"
         },
         "mode": "lines",
         "name": "Eggs, hen, in shell",
         "orientation": "v",
         "showlegend": true,
         "type": "scatter",
         "x": [
          1991,
          1992,
          1993,
          1994,
          1995,
          1996,
          1997,
          1998,
          1999,
          2000,
          2001,
          2002,
          2003
         ],
         "xaxis": "x",
         "y": [
          1043,
          982,
          1039,
          1065,
          1047,
          1093,
          1153,
          916,
          764,
          775,
          743,
          802,
          817
         ],
         "yaxis": "y"
        },
        {
         "hovertemplate": "<b>%{hovertext}</b><br><br>Item=Garlic<br>Area=Pakistan<br>Year=%{x}<br>Value=%{y}<extra></extra>",
         "hovertext": [
          "Pakistan",
          "Pakistan",
          "Pakistan",
          "Pakistan",
          "Pakistan",
          "Pakistan",
          "Pakistan",
          "Pakistan",
          "Pakistan",
          "Pakistan",
          "Pakistan",
          "Pakistan",
          "Pakistan",
          "Pakistan",
          "Pakistan",
          "Pakistan",
          "Pakistan",
          "Pakistan",
          "Pakistan"
         ],
         "legendgroup": "Garlic",
         "line": {
          "color": "#B6E880",
          "dash": "solid",
          "shape": "spline"
         },
         "marker": {
          "symbol": "circle"
         },
         "mode": "lines",
         "name": "Garlic",
         "orientation": "v",
         "showlegend": true,
         "type": "scatter",
         "x": [
          1991,
          1992,
          1993,
          1994,
          1995,
          1996,
          1997,
          1998,
          1999,
          2000,
          2002,
          2003,
          2004,
          2005,
          2006,
          2007,
          2008,
          2009,
          2010
         ],
         "xaxis": "x",
         "y": [
          556,
          360,
          533,
          576,
          452,
          356,
          532,
          251,
          352,
          305,
          319,
          326,
          470,
          627,
          697,
          790,
          739,
          1285,
          1878
         ],
         "yaxis": "y"
        },
        {
         "hovertemplate": "<b>%{hovertext}</b><br><br>Item=Grapes<br>Area=Pakistan<br>Year=%{x}<br>Value=%{y}<extra></extra>",
         "hovertext": [
          "Pakistan",
          "Pakistan",
          "Pakistan",
          "Pakistan",
          "Pakistan",
          "Pakistan",
          "Pakistan",
          "Pakistan",
          "Pakistan",
          "Pakistan",
          "Pakistan",
          "Pakistan",
          "Pakistan",
          "Pakistan",
          "Pakistan",
          "Pakistan",
          "Pakistan",
          "Pakistan",
          "Pakistan"
         ],
         "legendgroup": "Grapes",
         "line": {
          "color": "#FF97FF",
          "dash": "solid",
          "shape": "spline"
         },
         "marker": {
          "symbol": "circle"
         },
         "mode": "lines",
         "name": "Grapes",
         "orientation": "v",
         "showlegend": true,
         "type": "scatter",
         "x": [
          1991,
          1992,
          1993,
          1994,
          1995,
          1996,
          1997,
          1998,
          1999,
          2000,
          2002,
          2003,
          2004,
          2005,
          2006,
          2007,
          2008,
          2009,
          2010
         ],
         "xaxis": "x",
         "y": [
          683,
          688,
          756,
          981,
          956,
          728,
          539,
          610,
          571,
          571,
          615,
          600,
          603,
          599,
          710,
          734,
          662,
          580,
          581
         ],
         "yaxis": "y"
        },
        {
         "hovertemplate": "<b>%{hovertext}</b><br><br>Item=Groundnuts, with shell<br>Area=Pakistan<br>Year=%{x}<br>Value=%{y}<extra></extra>",
         "hovertext": [
          "Pakistan",
          "Pakistan",
          "Pakistan",
          "Pakistan",
          "Pakistan",
          "Pakistan",
          "Pakistan",
          "Pakistan",
          "Pakistan",
          "Pakistan",
          "Pakistan",
          "Pakistan",
          "Pakistan",
          "Pakistan",
          "Pakistan",
          "Pakistan"
         ],
         "legendgroup": "Groundnuts, with shell",
         "line": {
          "color": "#FECB52",
          "dash": "solid",
          "shape": "spline"
         },
         "marker": {
          "symbol": "circle"
         },
         "mode": "lines",
         "name": "Groundnuts, with shell",
         "orientation": "v",
         "showlegend": true,
         "type": "scatter",
         "x": [
          1991,
          1992,
          1993,
          1994,
          1998,
          1999,
          2000,
          2002,
          2003,
          2004,
          2005,
          2006,
          2007,
          2008,
          2009,
          2010
         ],
         "xaxis": "x",
         "y": [
          434,
          534,
          529,
          647,
          499,
          530,
          536,
          440,
          503,
          532,
          554,
          597,
          609,
          540,
          518,
          569
         ],
         "yaxis": "y"
        },
        {
         "hovertemplate": "<b>%{hovertext}</b><br><br>Item=Lemons and limes<br>Area=Pakistan<br>Year=%{x}<br>Value=%{y}<extra></extra>",
         "hovertext": [
          "Pakistan",
          "Pakistan",
          "Pakistan",
          "Pakistan",
          "Pakistan",
          "Pakistan",
          "Pakistan",
          "Pakistan",
          "Pakistan",
          "Pakistan",
          "Pakistan",
          "Pakistan",
          "Pakistan",
          "Pakistan",
          "Pakistan",
          "Pakistan",
          "Pakistan",
          "Pakistan",
          "Pakistan"
         ],
         "legendgroup": "Lemons and limes",
         "line": {
          "color": "#636efa",
          "dash": "solid",
          "shape": "spline"
         },
         "marker": {
          "symbol": "circle"
         },
         "mode": "lines",
         "name": "Lemons and limes",
         "orientation": "v",
         "showlegend": true,
         "type": "scatter",
         "x": [
          1991,
          1992,
          1993,
          1994,
          1995,
          1996,
          1997,
          1998,
          1999,
          2000,
          2002,
          2003,
          2004,
          2005,
          2006,
          2007,
          2008,
          2009,
          2010
         ],
         "xaxis": "x",
         "y": [
          572,
          499,
          778,
          724,
          564,
          520,
          493,
          461,
          429,
          437,
          329,
          318,
          319,
          318,
          320,
          336,
          317,
          322,
          334
         ],
         "yaxis": "y"
        },
        {
         "hovertemplate": "<b>%{hovertext}</b><br><br>Item=Lentils<br>Area=Pakistan<br>Year=%{x}<br>Value=%{y}<extra></extra>",
         "hovertext": [
          "Pakistan",
          "Pakistan",
          "Pakistan",
          "Pakistan",
          "Pakistan",
          "Pakistan",
          "Pakistan",
          "Pakistan",
          "Pakistan",
          "Pakistan",
          "Pakistan",
          "Pakistan",
          "Pakistan",
          "Pakistan"
         ],
         "legendgroup": "Lentils",
         "line": {
          "color": "#EF553B",
          "dash": "solid",
          "shape": "spline"
         },
         "marker": {
          "symbol": "circle"
         },
         "mode": "lines",
         "name": "Lentils",
         "orientation": "v",
         "showlegend": true,
         "type": "scatter",
         "x": [
          1991,
          1992,
          1993,
          1994,
          1995,
          1996,
          1997,
          1998,
          1999,
          2000,
          2002,
          2003,
          2004,
          2005
         ],
         "xaxis": "x",
         "y": [
          335,
          241,
          203,
          173,
          277,
          337,
          257,
          205,
          163,
          158,
          406,
          456,
          458,
          452
         ],
         "yaxis": "y"
        },
        {
         "hovertemplate": "<b>%{hovertext}</b><br><br>Item=Maize<br>Area=Pakistan<br>Year=%{x}<br>Value=%{y}<extra></extra>",
         "hovertext": [
          "Pakistan",
          "Pakistan",
          "Pakistan",
          "Pakistan",
          "Pakistan",
          "Pakistan",
          "Pakistan",
          "Pakistan",
          "Pakistan",
          "Pakistan",
          "Pakistan",
          "Pakistan",
          "Pakistan",
          "Pakistan",
          "Pakistan",
          "Pakistan",
          "Pakistan",
          "Pakistan",
          "Pakistan",
          "Pakistan"
         ],
         "legendgroup": "Maize",
         "line": {
          "color": "#00cc96",
          "dash": "solid",
          "shape": "spline"
         },
         "marker": {
          "symbol": "circle"
         },
         "mode": "lines",
         "name": "Maize",
         "orientation": "v",
         "showlegend": true,
         "type": "scatter",
         "x": [
          1991,
          1992,
          1993,
          1994,
          1995,
          1996,
          1997,
          1998,
          1999,
          2000,
          2001,
          2002,
          2003,
          2004,
          2005,
          2006,
          2007,
          2008,
          2009,
          2010
         ],
         "xaxis": "x",
         "y": [
          193,
          182,
          162,
          186,
          209,
          198,
          208,
          194,
          164,
          149,
          133,
          141,
          153,
          173,
          170,
          183,
          189,
          168,
          218,
          229
         ],
         "yaxis": "y"
        },
        {
         "hovertemplate": "<b>%{hovertext}</b><br><br>Item=Mangoes, mangosteens, guavas<br>Area=Pakistan<br>Year=%{x}<br>Value=%{y}<extra></extra>",
         "hovertext": [
          "Pakistan",
          "Pakistan",
          "Pakistan",
          "Pakistan",
          "Pakistan",
          "Pakistan",
          "Pakistan",
          "Pakistan",
          "Pakistan",
          "Pakistan",
          "Pakistan",
          "Pakistan",
          "Pakistan",
          "Pakistan",
          "Pakistan",
          "Pakistan",
          "Pakistan",
          "Pakistan",
          "Pakistan"
         ],
         "legendgroup": "Mangoes, mangosteens, guavas",
         "line": {
          "color": "#ab63fa",
          "dash": "solid",
          "shape": "spline"
         },
         "marker": {
          "symbol": "circle"
         },
         "mode": "lines",
         "name": "Mangoes, mangosteens, guavas",
         "orientation": "v",
         "showlegend": true,
         "type": "scatter",
         "x": [
          1991,
          1992,
          1993,
          1994,
          1995,
          1996,
          1997,
          1998,
          1999,
          2000,
          2002,
          2003,
          2004,
          2005,
          2006,
          2007,
          2008,
          2009,
          2010
         ],
         "xaxis": "x",
         "y": [
          375,
          323,
          382,
          343,
          369,
          418,
          362,
          319,
          268,
          326,
          280,
          322,
          326,
          328,
          365,
          395,
          398,
          392,
          446
         ],
         "yaxis": "y"
        },
        {
         "hovertemplate": "<b>%{hovertext}</b><br><br>Item=Milk, whole fresh buffalo<br>Area=Pakistan<br>Year=%{x}<br>Value=%{y}<extra></extra>",
         "hovertext": [
          "Pakistan",
          "Pakistan",
          "Pakistan",
          "Pakistan",
          "Pakistan",
          "Pakistan",
          "Pakistan",
          "Pakistan",
          "Pakistan",
          "Pakistan",
          "Pakistan",
          "Pakistan",
          "Pakistan",
          "Pakistan",
          "Pakistan",
          "Pakistan",
          "Pakistan",
          "Pakistan"
         ],
         "legendgroup": "Milk, whole fresh buffalo",
         "line": {
          "color": "#FFA15A",
          "dash": "solid",
          "shape": "spline"
         },
         "marker": {
          "symbol": "circle"
         },
         "mode": "lines",
         "name": "Milk, whole fresh buffalo",
         "orientation": "v",
         "showlegend": true,
         "type": "scatter",
         "x": [
          1991,
          1992,
          1993,
          1994,
          1995,
          1996,
          1997,
          1998,
          1999,
          2000,
          2001,
          2002,
          2003,
          2004,
          2005,
          2006,
          2007,
          2008
         ],
         "xaxis": "x",
         "y": [
          308,
          317,
          320,
          336,
          356,
          344,
          331,
          332,
          316,
          296,
          259,
          277,
          286,
          288,
          286,
          299,
          309,
          276
         ],
         "yaxis": "y"
        },
        {
         "hovertemplate": "<b>%{hovertext}</b><br><br>Item=Milk, whole fresh cow<br>Area=Pakistan<br>Year=%{x}<br>Value=%{y}<extra></extra>",
         "hovertext": [
          "Pakistan",
          "Pakistan",
          "Pakistan",
          "Pakistan",
          "Pakistan",
          "Pakistan",
          "Pakistan",
          "Pakistan",
          "Pakistan",
          "Pakistan"
         ],
         "legendgroup": "Milk, whole fresh cow",
         "line": {
          "color": "#19d3f3",
          "dash": "solid",
          "shape": "spline"
         },
         "marker": {
          "symbol": "circle"
         },
         "mode": "lines",
         "name": "Milk, whole fresh cow",
         "orientation": "v",
         "showlegend": true,
         "type": "scatter",
         "x": [
          1991,
          1992,
          1993,
          1994,
          1995,
          1996,
          1997,
          1998,
          1999,
          2000
         ],
         "xaxis": "x",
         "y": [
          308,
          317,
          320,
          336,
          356,
          344,
          331,
          332,
          316,
          296
         ],
         "yaxis": "y"
        },
        {
         "hovertemplate": "<b>%{hovertext}</b><br><br>Item=Millet<br>Area=Pakistan<br>Year=%{x}<br>Value=%{y}<extra></extra>",
         "hovertext": [
          "Pakistan",
          "Pakistan",
          "Pakistan",
          "Pakistan",
          "Pakistan",
          "Pakistan",
          "Pakistan",
          "Pakistan",
          "Pakistan",
          "Pakistan",
          "Pakistan",
          "Pakistan",
          "Pakistan",
          "Pakistan",
          "Pakistan",
          "Pakistan",
          "Pakistan",
          "Pakistan",
          "Pakistan"
         ],
         "legendgroup": "Millet",
         "line": {
          "color": "#FF6692",
          "dash": "solid",
          "shape": "spline"
         },
         "marker": {
          "symbol": "circle"
         },
         "mode": "lines",
         "name": "Millet",
         "orientation": "v",
         "showlegend": true,
         "type": "scatter",
         "x": [
          1991,
          1992,
          1993,
          1994,
          1995,
          1996,
          1997,
          1998,
          1999,
          2000,
          2002,
          2003,
          2004,
          2005,
          2006,
          2007,
          2008,
          2009,
          2010
         ],
         "xaxis": "x",
         "y": [
          854,
          705,
          529,
          536,
          743,
          717,
          707,
          670,
          623,
          609,
          157,
          167,
          168,
          166,
          203,
          272,
          300,
          337,
          343
         ],
         "yaxis": "y"
        },
        {
         "hovertemplate": "<b>%{hovertext}</b><br><br>Item=Onions, dry<br>Area=Pakistan<br>Year=%{x}<br>Value=%{y}<extra></extra>",
         "hovertext": [
          "Pakistan",
          "Pakistan",
          "Pakistan",
          "Pakistan",
          "Pakistan",
          "Pakistan",
          "Pakistan",
          "Pakistan",
          "Pakistan",
          "Pakistan",
          "Pakistan",
          "Pakistan",
          "Pakistan",
          "Pakistan",
          "Pakistan",
          "Pakistan",
          "Pakistan",
          "Pakistan",
          "Pakistan",
          "Pakistan"
         ],
         "legendgroup": "Onions, dry",
         "line": {
          "color": "#B6E880",
          "dash": "solid",
          "shape": "spline"
         },
         "marker": {
          "symbol": "circle"
         },
         "mode": "lines",
         "name": "Onions, dry",
         "orientation": "v",
         "showlegend": true,
         "type": "scatter",
         "x": [
          1991,
          1992,
          1993,
          1994,
          1995,
          1996,
          1997,
          1998,
          1999,
          2000,
          2001,
          2002,
          2003,
          2004,
          2005,
          2006,
          2007,
          2008,
          2009,
          2010
         ],
         "xaxis": "x",
         "y": [
          100,
          181,
          160,
          168,
          153,
          173,
          171,
          251,
          81,
          132,
          105,
          95,
          133,
          146,
          160,
          151,
          160,
          139,
          193,
          223
         ],
         "yaxis": "y"
        },
        {
         "hovertemplate": "<b>%{hovertext}</b><br><br>Item=Oranges<br>Area=Pakistan<br>Year=%{x}<br>Value=%{y}<extra></extra>",
         "hovertext": [
          "Pakistan",
          "Pakistan",
          "Pakistan",
          "Pakistan",
          "Pakistan",
          "Pakistan",
          "Pakistan",
          "Pakistan",
          "Pakistan",
          "Pakistan",
          "Pakistan",
          "Pakistan",
          "Pakistan",
          "Pakistan",
          "Pakistan",
          "Pakistan",
          "Pakistan",
          "Pakistan",
          "Pakistan"
         ],
         "legendgroup": "Oranges",
         "line": {
          "color": "#FF97FF",
          "dash": "solid",
          "shape": "spline"
         },
         "marker": {
          "symbol": "circle"
         },
         "mode": "lines",
         "name": "Oranges",
         "orientation": "v",
         "showlegend": true,
         "type": "scatter",
         "x": [
          1991,
          1992,
          1993,
          1994,
          1995,
          1996,
          1997,
          1998,
          1999,
          2000,
          2002,
          2003,
          2004,
          2005,
          2006,
          2007,
          2008,
          2009,
          2010
         ],
         "xaxis": "x",
         "y": [
          107,
          107,
          129,
          153,
          139,
          124,
          127,
          128,
          66,
          108,
          195,
          237,
          239,
          235,
          265,
          261,
          238,
          239,
          251
         ],
         "yaxis": "y"
        },
        {
         "hovertemplate": "<b>%{hovertext}</b><br><br>Item=Peaches and nectarines<br>Area=Pakistan<br>Year=%{x}<br>Value=%{y}<extra></extra>",
         "hovertext": [
          "Pakistan",
          "Pakistan",
          "Pakistan",
          "Pakistan",
          "Pakistan",
          "Pakistan",
          "Pakistan",
          "Pakistan",
          "Pakistan",
          "Pakistan",
          "Pakistan",
          "Pakistan",
          "Pakistan",
          "Pakistan",
          "Pakistan",
          "Pakistan",
          "Pakistan",
          "Pakistan",
          "Pakistan"
         ],
         "legendgroup": "Peaches and nectarines",
         "line": {
          "color": "#FECB52",
          "dash": "solid",
          "shape": "spline"
         },
         "marker": {
          "symbol": "circle"
         },
         "mode": "lines",
         "name": "Peaches and nectarines",
         "orientation": "v",
         "showlegend": true,
         "type": "scatter",
         "x": [
          1991,
          1992,
          1993,
          1994,
          1995,
          1996,
          1997,
          1998,
          1999,
          2000,
          2002,
          2003,
          2004,
          2005,
          2006,
          2007,
          2008,
          2009,
          2010
         ],
         "xaxis": "x",
         "y": [
          491,
          490,
          458,
          319,
          423,
          362,
          279,
          299,
          222,
          230,
          368,
          381,
          446,
          588,
          630,
          527,
          511,
          477,
          493
         ],
         "yaxis": "y"
        },
        {
         "hovertemplate": "<b>%{hovertext}</b><br><br>Item=Pears<br>Area=Pakistan<br>Year=%{x}<br>Value=%{y}<extra></extra>",
         "hovertext": [
          "Pakistan",
          "Pakistan",
          "Pakistan",
          "Pakistan",
          "Pakistan",
          "Pakistan",
          "Pakistan",
          "Pakistan",
          "Pakistan",
          "Pakistan",
          "Pakistan",
          "Pakistan",
          "Pakistan",
          "Pakistan",
          "Pakistan",
          "Pakistan",
          "Pakistan",
          "Pakistan",
          "Pakistan"
         ],
         "legendgroup": "Pears",
         "line": {
          "color": "#636efa",
          "dash": "solid",
          "shape": "spline"
         },
         "marker": {
          "symbol": "circle"
         },
         "mode": "lines",
         "name": "Pears",
         "orientation": "v",
         "showlegend": true,
         "type": "scatter",
         "x": [
          1991,
          1992,
          1993,
          1994,
          1995,
          1996,
          1997,
          1998,
          1999,
          2000,
          2002,
          2003,
          2004,
          2005,
          2006,
          2007,
          2008,
          2009,
          2010
         ],
         "xaxis": "x",
         "y": [
          184,
          245,
          197,
          204,
          215,
          219,
          181,
          271,
          226,
          235,
          177,
          246,
          253,
          252,
          265,
          264,
          249,
          239,
          252
         ],
         "yaxis": "y"
        },
        {
         "hovertemplate": "<b>%{hovertext}</b><br><br>Item=Peas, dry<br>Area=Pakistan<br>Year=%{x}<br>Value=%{y}<extra></extra>",
         "hovertext": [
          "Pakistan",
          "Pakistan",
          "Pakistan",
          "Pakistan",
          "Pakistan",
          "Pakistan",
          "Pakistan",
          "Pakistan",
          "Pakistan",
          "Pakistan",
          "Pakistan",
          "Pakistan",
          "Pakistan",
          "Pakistan"
         ],
         "legendgroup": "Peas, dry",
         "line": {
          "color": "#EF553B",
          "dash": "solid",
          "shape": "spline"
         },
         "marker": {
          "symbol": "circle"
         },
         "mode": "lines",
         "name": "Peas, dry",
         "orientation": "v",
         "showlegend": true,
         "type": "scatter",
         "x": [
          1991,
          1992,
          1993,
          1994,
          1995,
          1996,
          1997,
          1998,
          1999,
          2000,
          2002,
          2003,
          2004,
          2005
         ],
         "xaxis": "x",
         "y": [
          284,
          275,
          263,
          286,
          347,
          277,
          208,
          235,
          156,
          274,
          226,
          234,
          237,
          234
         ],
         "yaxis": "y"
        },
        {
         "hovertemplate": "<b>%{hovertext}</b><br><br>Item=Plums and sloes<br>Area=Pakistan<br>Year=%{x}<br>Value=%{y}<extra></extra>",
         "hovertext": [
          "Pakistan",
          "Pakistan",
          "Pakistan",
          "Pakistan",
          "Pakistan",
          "Pakistan",
          "Pakistan",
          "Pakistan",
          "Pakistan",
          "Pakistan",
          "Pakistan",
          "Pakistan",
          "Pakistan",
          "Pakistan",
          "Pakistan",
          "Pakistan",
          "Pakistan",
          "Pakistan",
          "Pakistan"
         ],
         "legendgroup": "Plums and sloes",
         "line": {
          "color": "#00cc96",
          "dash": "solid",
          "shape": "spline"
         },
         "marker": {
          "symbol": "circle"
         },
         "mode": "lines",
         "name": "Plums and sloes",
         "orientation": "v",
         "showlegend": true,
         "type": "scatter",
         "x": [
          1991,
          1992,
          1993,
          1994,
          1995,
          1996,
          1997,
          1998,
          1999,
          2000,
          2002,
          2003,
          2004,
          2005,
          2006,
          2007,
          2008,
          2009,
          2010
         ],
         "xaxis": "x",
         "y": [
          421,
          318,
          338,
          360,
          318,
          243,
          249,
          284,
          258,
          252,
          288,
          454,
          477,
          488,
          538,
          601,
          546,
          520,
          528
         ],
         "yaxis": "y"
        },
        {
         "hovertemplate": "<b>%{hovertext}</b><br><br>Item=Potatoes<br>Area=Pakistan<br>Year=%{x}<br>Value=%{y}<extra></extra>",
         "hovertext": [
          "Pakistan",
          "Pakistan",
          "Pakistan",
          "Pakistan",
          "Pakistan",
          "Pakistan",
          "Pakistan",
          "Pakistan",
          "Pakistan",
          "Pakistan",
          "Pakistan",
          "Pakistan",
          "Pakistan",
          "Pakistan",
          "Pakistan",
          "Pakistan",
          "Pakistan",
          "Pakistan",
          "Pakistan",
          "Pakistan"
         ],
         "legendgroup": "Potatoes",
         "line": {
          "color": "#ab63fa",
          "dash": "solid",
          "shape": "spline"
         },
         "marker": {
          "symbol": "circle"
         },
         "mode": "lines",
         "name": "Potatoes",
         "orientation": "v",
         "showlegend": true,
         "type": "scatter",
         "x": [
          1991,
          1992,
          1993,
          1994,
          1995,
          1996,
          1997,
          1998,
          1999,
          2000,
          2001,
          2002,
          2003,
          2004,
          2005,
          2006,
          2007,
          2008,
          2009,
          2010
         ],
         "xaxis": "x",
         "y": [
          175,
          143,
          124,
          126,
          231,
          240,
          150,
          118,
          113,
          111,
          127,
          104,
          97,
          180,
          196,
          180,
          189,
          149,
          158,
          184
         ],
         "yaxis": "y"
        },
        {
         "hovertemplate": "<b>%{hovertext}</b><br><br>Item=Pulses nes<br>Area=Pakistan<br>Year=%{x}<br>Value=%{y}<extra></extra>",
         "hovertext": [
          "Pakistan",
          "Pakistan",
          "Pakistan",
          "Pakistan",
          "Pakistan",
          "Pakistan",
          "Pakistan",
          "Pakistan",
          "Pakistan",
          "Pakistan",
          "Pakistan"
         ],
         "legendgroup": "Pulses nes",
         "line": {
          "color": "#FFA15A",
          "dash": "solid",
          "shape": "spline"
         },
         "marker": {
          "symbol": "circle"
         },
         "mode": "lines",
         "name": "Pulses nes",
         "orientation": "v",
         "showlegend": true,
         "type": "scatter",
         "x": [
          1991,
          1992,
          1993,
          1994,
          1995,
          1996,
          1997,
          1998,
          1999,
          2000,
          2001
         ],
         "xaxis": "x",
         "y": [
          582,
          563,
          375,
          683,
          884,
          703,
          508,
          531,
          673,
          774,
          563
         ],
         "yaxis": "y"
        },
        {
         "hovertemplate": "<b>%{hovertext}</b><br><br>Item=Rapeseed<br>Area=Pakistan<br>Year=%{x}<br>Value=%{y}<extra></extra>",
         "hovertext": [
          "Pakistan",
          "Pakistan",
          "Pakistan",
          "Pakistan",
          "Pakistan",
          "Pakistan",
          "Pakistan",
          "Pakistan",
          "Pakistan",
          "Pakistan",
          "Pakistan",
          "Pakistan",
          "Pakistan",
          "Pakistan"
         ],
         "legendgroup": "Rapeseed",
         "line": {
          "color": "#19d3f3",
          "dash": "solid",
          "shape": "spline"
         },
         "marker": {
          "symbol": "circle"
         },
         "mode": "lines",
         "name": "Rapeseed",
         "orientation": "v",
         "showlegend": true,
         "type": "scatter",
         "x": [
          1991,
          1992,
          1993,
          1994,
          1995,
          1996,
          1997,
          1998,
          1999,
          2000,
          2002,
          2003,
          2004,
          2005
         ],
         "xaxis": "x",
         "y": [
          362,
          357,
          382,
          434,
          398,
          387,
          337,
          463,
          311,
          289,
          267,
          332,
          335,
          336
         ],
         "yaxis": "y"
        },
        {
         "hovertemplate": "<b>%{hovertext}</b><br><br>Item=Rice, paddy<br>Area=Pakistan<br>Year=%{x}<br>Value=%{y}<extra></extra>",
         "hovertext": [
          "Pakistan",
          "Pakistan",
          "Pakistan",
          "Pakistan",
          "Pakistan",
          "Pakistan",
          "Pakistan",
          "Pakistan",
          "Pakistan",
          "Pakistan",
          "Pakistan",
          "Pakistan",
          "Pakistan"
         ],
         "legendgroup": "Rice, paddy",
         "line": {
          "color": "#FF6692",
          "dash": "solid",
          "shape": "spline"
         },
         "marker": {
          "symbol": "circle"
         },
         "mode": "lines",
         "name": "Rice, paddy",
         "orientation": "v",
         "showlegend": true,
         "type": "scatter",
         "x": [
          1991,
          1992,
          1993,
          1994,
          1995,
          1996,
          1997,
          2002,
          2012,
          2013,
          2014,
          2015,
          2016
         ],
         "xaxis": "x",
         "y": [
          163,
          174,
          165,
          172,
          175,
          177,
          189,
          165,
          372,
          474,
          563,
          340,
          193
         ],
         "yaxis": "y"
        },
        {
         "hovertemplate": "<b>%{hovertext}</b><br><br>Item=Safflower seed<br>Area=Pakistan<br>Year=%{x}<br>Value=%{y}<extra></extra>",
         "hovertext": [
          "Pakistan",
          "Pakistan",
          "Pakistan",
          "Pakistan",
          "Pakistan",
          "Pakistan",
          "Pakistan",
          "Pakistan",
          "Pakistan",
          "Pakistan",
          "Pakistan",
          "Pakistan"
         ],
         "legendgroup": "Safflower seed",
         "line": {
          "color": "#B6E880",
          "dash": "solid",
          "shape": "spline"
         },
         "marker": {
          "symbol": "circle"
         },
         "mode": "lines",
         "name": "Safflower seed",
         "orientation": "v",
         "showlegend": true,
         "type": "scatter",
         "x": [
          1991,
          1993,
          1994,
          2002,
          2003,
          2004,
          2005,
          2006,
          2007,
          2008,
          2009,
          2010
         ],
         "xaxis": "x",
         "y": [
          231,
          240,
          221,
          190,
          193,
          206,
          206,
          216,
          227,
          207,
          224,
          262
         ],
         "yaxis": "y"
        },
        {
         "hovertemplate": "<b>%{hovertext}</b><br><br>Item=Seed cotton<br>Area=Pakistan<br>Year=%{x}<br>Value=%{y}<extra></extra>",
         "hovertext": [
          "Pakistan",
          "Pakistan",
          "Pakistan",
          "Pakistan",
          "Pakistan",
          "Pakistan",
          "Pakistan",
          "Pakistan",
          "Pakistan",
          "Pakistan",
          "Pakistan",
          "Pakistan",
          "Pakistan",
          "Pakistan",
          "Pakistan",
          "Pakistan",
          "Pakistan",
          "Pakistan",
          "Pakistan",
          "Pakistan",
          "Pakistan",
          "Pakistan",
          "Pakistan",
          "Pakistan"
         ],
         "legendgroup": "Seed cotton",
         "line": {
          "color": "#FF97FF",
          "dash": "solid",
          "shape": "spline"
         },
         "marker": {
          "symbol": "circle"
         },
         "mode": "lines",
         "name": "Seed cotton",
         "orientation": "v",
         "showlegend": true,
         "type": "scatter",
         "x": [
          1991,
          1992,
          1993,
          1994,
          1995,
          1996,
          1997,
          1998,
          1999,
          2000,
          2002,
          2003,
          2004,
          2005,
          2006,
          2007,
          2008,
          2009,
          2010,
          2012,
          2013,
          2014,
          2015,
          2016
         ],
         "xaxis": "x",
         "y": [
          147,
          194,
          213,
          204,
          199,
          208,
          198,
          205,
          179,
          177,
          155,
          160,
          160,
          160,
          166,
          181,
          173,
          213,
          264,
          675,
          619,
          743,
          583,
          668
         ],
         "yaxis": "y"
        },
        {
         "hovertemplate": "<b>%{hovertext}</b><br><br>Item=Sesame seed<br>Area=Pakistan<br>Year=%{x}<br>Value=%{y}<extra></extra>",
         "hovertext": [
          "Pakistan",
          "Pakistan",
          "Pakistan",
          "Pakistan",
          "Pakistan",
          "Pakistan",
          "Pakistan",
          "Pakistan",
          "Pakistan",
          "Pakistan",
          "Pakistan",
          "Pakistan",
          "Pakistan",
          "Pakistan",
          "Pakistan",
          "Pakistan",
          "Pakistan",
          "Pakistan",
          "Pakistan"
         ],
         "legendgroup": "Sesame seed",
         "line": {
          "color": "#FECB52",
          "dash": "solid",
          "shape": "spline"
         },
         "marker": {
          "symbol": "circle"
         },
         "mode": "lines",
         "name": "Sesame seed",
         "orientation": "v",
         "showlegend": true,
         "type": "scatter",
         "x": [
          1991,
          1992,
          1993,
          1994,
          1995,
          1996,
          1997,
          1998,
          1999,
          2000,
          2002,
          2003,
          2004,
          2005,
          2006,
          2007,
          2008,
          2009,
          2010
         ],
         "xaxis": "x",
         "y": [
          630,
          548,
          538,
          632,
          920,
          868,
          619,
          704,
          712,
          693,
          489,
          648,
          648,
          638,
          664,
          675,
          625,
          605,
          614
         ],
         "yaxis": "y"
        },
        {
         "hovertemplate": "<b>%{hovertext}</b><br><br>Item=Sorghum<br>Area=Pakistan<br>Year=%{x}<br>Value=%{y}<extra></extra>",
         "hovertext": [
          "Pakistan",
          "Pakistan",
          "Pakistan",
          "Pakistan",
          "Pakistan",
          "Pakistan",
          "Pakistan",
          "Pakistan",
          "Pakistan",
          "Pakistan",
          "Pakistan",
          "Pakistan",
          "Pakistan",
          "Pakistan",
          "Pakistan",
          "Pakistan",
          "Pakistan",
          "Pakistan",
          "Pakistan"
         ],
         "legendgroup": "Sorghum",
         "line": {
          "color": "#636efa",
          "dash": "solid",
          "shape": "spline"
         },
         "marker": {
          "symbol": "circle"
         },
         "mode": "lines",
         "name": "Sorghum",
         "orientation": "v",
         "showlegend": true,
         "type": "scatter",
         "x": [
          1991,
          1992,
          1993,
          1994,
          1995,
          1996,
          1997,
          1998,
          1999,
          2000,
          2002,
          2003,
          2004,
          2005,
          2006,
          2007,
          2008,
          2009,
          2010
         ],
         "xaxis": "x",
         "y": [
          215,
          135,
          156,
          160,
          165,
          155,
          140,
          136,
          126,
          130,
          134,
          171,
          170,
          168,
          237,
          285,
          312,
          310,
          323
         ],
         "yaxis": "y"
        },
        {
         "hovertemplate": "<b>%{hovertext}</b><br><br>Item=Soybeans<br>Area=Pakistan<br>Year=%{x}<br>Value=%{y}<extra></extra>",
         "hovertext": [
          "Pakistan",
          "Pakistan",
          "Pakistan",
          "Pakistan",
          "Pakistan",
          "Pakistan",
          "Pakistan",
          "Pakistan",
          "Pakistan",
          "Pakistan",
          "Pakistan",
          "Pakistan",
          "Pakistan",
          "Pakistan",
          "Pakistan",
          "Pakistan"
         ],
         "legendgroup": "Soybeans",
         "line": {
          "color": "#EF553B",
          "dash": "solid",
          "shape": "spline"
         },
         "marker": {
          "symbol": "circle"
         },
         "mode": "lines",
         "name": "Soybeans",
         "orientation": "v",
         "showlegend": true,
         "type": "scatter",
         "x": [
          1991,
          1992,
          1993,
          1994,
          1995,
          1999,
          2000,
          2002,
          2003,
          2004,
          2005,
          2006,
          2007,
          2008,
          2009,
          2010
         ],
         "xaxis": "x",
         "y": [
          242,
          249,
          245,
          225,
          218,
          290,
          277,
          278,
          307,
          309,
          336,
          398,
          420,
          369,
          392,
          416
         ],
         "yaxis": "y"
        },
        {
         "hovertemplate": "<b>%{hovertext}</b><br><br>Item=Sugar beet<br>Area=Pakistan<br>Year=%{x}<br>Value=%{y}<extra></extra>",
         "hovertext": [
          "Pakistan"
         ],
         "legendgroup": "Sugar beet",
         "line": {
          "color": "#00cc96",
          "dash": "solid",
          "shape": "spline"
         },
         "marker": {
          "symbol": "circle"
         },
         "mode": "lines",
         "name": "Sugar beet",
         "orientation": "v",
         "showlegend": true,
         "type": "scatter",
         "x": [
          1991
         ],
         "xaxis": "x",
         "y": [
          18
         ],
         "yaxis": "y"
        },
        {
         "hovertemplate": "<b>%{hovertext}</b><br><br>Item=Sugar cane<br>Area=Pakistan<br>Year=%{x}<br>Value=%{y}<extra></extra>",
         "hovertext": [
          "Pakistan",
          "Pakistan",
          "Pakistan",
          "Pakistan",
          "Pakistan",
          "Pakistan",
          "Pakistan",
          "Pakistan",
          "Pakistan",
          "Pakistan",
          "Pakistan",
          "Pakistan"
         ],
         "legendgroup": "Sugar cane",
         "line": {
          "color": "#ab63fa",
          "dash": "solid",
          "shape": "spline"
         },
         "marker": {
          "symbol": "circle"
         },
         "mode": "lines",
         "name": "Sugar cane",
         "orientation": "v",
         "showlegend": true,
         "type": "scatter",
         "x": [
          1991,
          1992,
          1993,
          1994,
          1995,
          1996,
          1997,
          2012,
          2013,
          2014,
          2015,
          2016
         ],
         "xaxis": "x",
         "y": [
          16,
          17,
          16,
          15,
          16,
          15,
          15,
          37,
          38,
          30,
          40,
          39
         ],
         "yaxis": "y"
        },
        {
         "hovertemplate": "<b>%{hovertext}</b><br><br>Item=Sunflower seed<br>Area=Pakistan<br>Year=%{x}<br>Value=%{y}<extra></extra>",
         "hovertext": [
          "Pakistan",
          "Pakistan",
          "Pakistan",
          "Pakistan",
          "Pakistan",
          "Pakistan",
          "Pakistan",
          "Pakistan",
          "Pakistan",
          "Pakistan",
          "Pakistan",
          "Pakistan",
          "Pakistan",
          "Pakistan",
          "Pakistan",
          "Pakistan",
          "Pakistan"
         ],
         "legendgroup": "Sunflower seed",
         "line": {
          "color": "#FFA15A",
          "dash": "solid",
          "shape": "spline"
         },
         "marker": {
          "symbol": "circle"
         },
         "mode": "lines",
         "name": "Sunflower seed",
         "orientation": "v",
         "showlegend": true,
         "type": "scatter",
         "x": [
          1991,
          1992,
          1993,
          1994,
          1996,
          1998,
          1999,
          2000,
          2002,
          2003,
          2004,
          2005,
          2006,
          2007,
          2008,
          2009,
          2010
         ],
         "xaxis": "x",
         "y": [
          263,
          279,
          280,
          258,
          312,
          327,
          303,
          284,
          275,
          320,
          321,
          328,
          332,
          346,
          355,
          404,
          455
         ],
         "yaxis": "y"
        },
        {
         "hovertemplate": "<b>%{hovertext}</b><br><br>Item=Walnuts, with shell<br>Area=Pakistan<br>Year=%{x}<br>Value=%{y}<extra></extra>",
         "hovertext": [
          "Pakistan",
          "Pakistan",
          "Pakistan",
          "Pakistan",
          "Pakistan",
          "Pakistan",
          "Pakistan",
          "Pakistan",
          "Pakistan",
          "Pakistan",
          "Pakistan",
          "Pakistan",
          "Pakistan",
          "Pakistan",
          "Pakistan",
          "Pakistan",
          "Pakistan",
          "Pakistan",
          "Pakistan"
         ],
         "legendgroup": "Walnuts, with shell",
         "line": {
          "color": "#19d3f3",
          "dash": "solid",
          "shape": "spline"
         },
         "marker": {
          "symbol": "circle"
         },
         "mode": "lines",
         "name": "Walnuts, with shell",
         "orientation": "v",
         "showlegend": true,
         "type": "scatter",
         "x": [
          1991,
          1992,
          1993,
          1994,
          1995,
          1996,
          1997,
          1998,
          1999,
          2000,
          2002,
          2003,
          2004,
          2005,
          2006,
          2007,
          2008,
          2009,
          2010
         ],
         "xaxis": "x",
         "y": [
          630,
          621,
          533,
          430,
          1172,
          778,
          636,
          516,
          795,
          955,
          713,
          708,
          721,
          739,
          796,
          856,
          852,
          1469,
          1761
         ],
         "yaxis": "y"
        },
        {
         "hovertemplate": "<b>%{hovertext}</b><br><br>Item=Wheat<br>Area=Pakistan<br>Year=%{x}<br>Value=%{y}<extra></extra>",
         "hovertext": [
          "Pakistan",
          "Pakistan",
          "Pakistan",
          "Pakistan",
          "Pakistan",
          "Pakistan",
          "Pakistan",
          "Pakistan",
          "Pakistan",
          "Pakistan",
          "Pakistan",
          "Pakistan",
          "Pakistan",
          "Pakistan",
          "Pakistan",
          "Pakistan",
          "Pakistan",
          "Pakistan",
          "Pakistan",
          "Pakistan",
          "Pakistan",
          "Pakistan",
          "Pakistan",
          "Pakistan",
          "Pakistan"
         ],
         "legendgroup": "Wheat",
         "line": {
          "color": "#FF6692",
          "dash": "solid",
          "shape": "spline"
         },
         "marker": {
          "symbol": "circle"
         },
         "mode": "lines",
         "name": "Wheat",
         "orientation": "v",
         "showlegend": true,
         "type": "scatter",
         "x": [
          1991,
          1992,
          1993,
          1994,
          1995,
          1996,
          1997,
          1998,
          1999,
          2000,
          2001,
          2002,
          2003,
          2004,
          2005,
          2006,
          2007,
          2008,
          2009,
          2010,
          2012,
          2013,
          2014,
          2015,
          2016
         ],
         "xaxis": "x",
         "y": [
          143,
          145,
          144,
          153,
          149,
          166,
          180,
          161,
          155,
          154,
          127,
          148,
          158,
          184,
          187,
          178,
          178,
          162,
          298,
          295,
          260,
          286,
          299,
          287,
          286
         ],
         "yaxis": "y"
        },
        {
         "hovertemplate": "<b>%{hovertext}</b><br><br>Item=Wool, greasy<br>Area=Pakistan<br>Year=%{x}<br>Value=%{y}<extra></extra>",
         "hovertext": [
          "Pakistan",
          "Pakistan",
          "Pakistan",
          "Pakistan",
          "Pakistan",
          "Pakistan",
          "Pakistan",
          "Pakistan",
          "Pakistan",
          "Pakistan"
         ],
         "legendgroup": "Wool, greasy",
         "line": {
          "color": "#B6E880",
          "dash": "solid",
          "shape": "spline"
         },
         "marker": {
          "symbol": "circle"
         },
         "mode": "lines",
         "name": "Wool, greasy",
         "orientation": "v",
         "showlegend": true,
         "type": "scatter",
         "x": [
          1991,
          1992,
          1993,
          1994,
          1995,
          1996,
          1997,
          1998,
          1999,
          2000
         ],
         "xaxis": "x",
         "y": [
          640,
          591,
          440,
          437,
          612,
          637,
          639,
          679,
          631,
          600
         ],
         "yaxis": "y"
        },
        {
         "hovertemplate": "<b>%{hovertext}</b><br><br>Item=Roots and tubers nes<br>Area=Pakistan<br>Year=%{x}<br>Value=%{y}<extra></extra>",
         "hovertext": [
          "Pakistan"
         ],
         "legendgroup": "Roots and tubers nes",
         "line": {
          "color": "#FF97FF",
          "dash": "solid",
          "shape": "spline"
         },
         "marker": {
          "symbol": "circle"
         },
         "mode": "lines",
         "name": "Roots and tubers nes",
         "orientation": "v",
         "showlegend": true,
         "type": "scatter",
         "x": [
          1993
         ],
         "xaxis": "x",
         "y": [
          203
         ],
         "yaxis": "y"
        },
        {
         "hovertemplate": "<b>%{hovertext}</b><br><br>Item=Linseed<br>Area=Pakistan<br>Year=%{x}<br>Value=%{y}<extra></extra>",
         "hovertext": [
          "Pakistan",
          "Pakistan",
          "Pakistan",
          "Pakistan",
          "Pakistan",
          "Pakistan",
          "Pakistan",
          "Pakistan"
         ],
         "legendgroup": "Linseed",
         "line": {
          "color": "#FECB52",
          "dash": "solid",
          "shape": "spline"
         },
         "marker": {
          "symbol": "circle"
         },
         "mode": "lines",
         "name": "Linseed",
         "orientation": "v",
         "showlegend": true,
         "type": "scatter",
         "x": [
          1997,
          1998,
          1999,
          2000,
          2002,
          2003,
          2004,
          2005
         ],
         "xaxis": "x",
         "y": [
          357,
          432,
          398,
          370,
          158,
          374,
          374,
          370
         ],
         "yaxis": "y"
        },
        {
         "hovertemplate": "<b>%{hovertext}</b><br><br>Item=Castor oil seed<br>Area=Pakistan<br>Year=%{x}<br>Value=%{y}<extra></extra>",
         "hovertext": [
          "Pakistan",
          "Pakistan",
          "Pakistan",
          "Pakistan"
         ],
         "legendgroup": "Castor oil seed",
         "line": {
          "color": "#636efa",
          "dash": "solid",
          "shape": "spline"
         },
         "marker": {
          "symbol": "circle"
         },
         "mode": "lines",
         "name": "Castor oil seed",
         "orientation": "v",
         "showlegend": true,
         "type": "scatter",
         "x": [
          2002,
          2003,
          2004,
          2005
         ],
         "xaxis": "x",
         "y": [
          278,
          287,
          287,
          294
         ],
         "yaxis": "y"
        },
        {
         "hovertemplate": "<b>%{hovertext}</b><br><br>Item=Melons, other (inc.cantaloupes)<br>Area=Pakistan<br>Year=%{x}<br>Value=%{y}<extra></extra>",
         "hovertext": [
          "Pakistan",
          "Pakistan",
          "Pakistan",
          "Pakistan"
         ],
         "legendgroup": "Melons, other (inc.cantaloupes)",
         "line": {
          "color": "#EF553B",
          "dash": "solid",
          "shape": "spline"
         },
         "marker": {
          "symbol": "circle"
         },
         "mode": "lines",
         "name": "Melons, other (inc.cantaloupes)",
         "orientation": "v",
         "showlegend": true,
         "type": "scatter",
         "x": [
          2002,
          2003,
          2004,
          2005
         ],
         "xaxis": "x",
         "y": [
          165,
          67,
          67,
          67
         ],
         "yaxis": "y"
        },
        {
         "hovertemplate": "<b>%{hovertext}</b><br><br>Item=Ginger<br>Area=Pakistan<br>Year=%{x}<br>Value=%{y}<extra></extra>",
         "hovertext": [
          "Pakistan",
          "Pakistan",
          "Pakistan",
          "Pakistan",
          "Pakistan",
          "Pakistan"
         ],
         "legendgroup": "Ginger",
         "line": {
          "color": "#00cc96",
          "dash": "solid",
          "shape": "spline"
         },
         "marker": {
          "symbol": "circle"
         },
         "mode": "lines",
         "name": "Ginger",
         "orientation": "v",
         "showlegend": true,
         "type": "scatter",
         "x": [
          2005,
          2006,
          2007,
          2008,
          2009,
          2010
         ],
         "xaxis": "x",
         "y": [
          596,
          604,
          696,
          710,
          1224,
          1761
         ],
         "yaxis": "y"
        }
       ],
       "layout": {
        "legend": {
         "title": {
          "text": "Item"
         },
         "tracegroupgap": 0
        },
        "template": {
         "data": {
          "bar": [
           {
            "error_x": {
             "color": "#2a3f5f"
            },
            "error_y": {
             "color": "#2a3f5f"
            },
            "marker": {
             "line": {
              "color": "#E5ECF6",
              "width": 0.5
             },
             "pattern": {
              "fillmode": "overlay",
              "size": 10,
              "solidity": 0.2
             }
            },
            "type": "bar"
           }
          ],
          "barpolar": [
           {
            "marker": {
             "line": {
              "color": "#E5ECF6",
              "width": 0.5
             },
             "pattern": {
              "fillmode": "overlay",
              "size": 10,
              "solidity": 0.2
             }
            },
            "type": "barpolar"
           }
          ],
          "carpet": [
           {
            "aaxis": {
             "endlinecolor": "#2a3f5f",
             "gridcolor": "white",
             "linecolor": "white",
             "minorgridcolor": "white",
             "startlinecolor": "#2a3f5f"
            },
            "baxis": {
             "endlinecolor": "#2a3f5f",
             "gridcolor": "white",
             "linecolor": "white",
             "minorgridcolor": "white",
             "startlinecolor": "#2a3f5f"
            },
            "type": "carpet"
           }
          ],
          "choropleth": [
           {
            "colorbar": {
             "outlinewidth": 0,
             "ticks": ""
            },
            "type": "choropleth"
           }
          ],
          "contour": [
           {
            "colorbar": {
             "outlinewidth": 0,
             "ticks": ""
            },
            "colorscale": [
             [
              0,
              "#0d0887"
             ],
             [
              0.1111111111111111,
              "#46039f"
             ],
             [
              0.2222222222222222,
              "#7201a8"
             ],
             [
              0.3333333333333333,
              "#9c179e"
             ],
             [
              0.4444444444444444,
              "#bd3786"
             ],
             [
              0.5555555555555556,
              "#d8576b"
             ],
             [
              0.6666666666666666,
              "#ed7953"
             ],
             [
              0.7777777777777778,
              "#fb9f3a"
             ],
             [
              0.8888888888888888,
              "#fdca26"
             ],
             [
              1,
              "#f0f921"
             ]
            ],
            "type": "contour"
           }
          ],
          "contourcarpet": [
           {
            "colorbar": {
             "outlinewidth": 0,
             "ticks": ""
            },
            "type": "contourcarpet"
           }
          ],
          "heatmap": [
           {
            "colorbar": {
             "outlinewidth": 0,
             "ticks": ""
            },
            "colorscale": [
             [
              0,
              "#0d0887"
             ],
             [
              0.1111111111111111,
              "#46039f"
             ],
             [
              0.2222222222222222,
              "#7201a8"
             ],
             [
              0.3333333333333333,
              "#9c179e"
             ],
             [
              0.4444444444444444,
              "#bd3786"
             ],
             [
              0.5555555555555556,
              "#d8576b"
             ],
             [
              0.6666666666666666,
              "#ed7953"
             ],
             [
              0.7777777777777778,
              "#fb9f3a"
             ],
             [
              0.8888888888888888,
              "#fdca26"
             ],
             [
              1,
              "#f0f921"
             ]
            ],
            "type": "heatmap"
           }
          ],
          "heatmapgl": [
           {
            "colorbar": {
             "outlinewidth": 0,
             "ticks": ""
            },
            "colorscale": [
             [
              0,
              "#0d0887"
             ],
             [
              0.1111111111111111,
              "#46039f"
             ],
             [
              0.2222222222222222,
              "#7201a8"
             ],
             [
              0.3333333333333333,
              "#9c179e"
             ],
             [
              0.4444444444444444,
              "#bd3786"
             ],
             [
              0.5555555555555556,
              "#d8576b"
             ],
             [
              0.6666666666666666,
              "#ed7953"
             ],
             [
              0.7777777777777778,
              "#fb9f3a"
             ],
             [
              0.8888888888888888,
              "#fdca26"
             ],
             [
              1,
              "#f0f921"
             ]
            ],
            "type": "heatmapgl"
           }
          ],
          "histogram": [
           {
            "marker": {
             "pattern": {
              "fillmode": "overlay",
              "size": 10,
              "solidity": 0.2
             }
            },
            "type": "histogram"
           }
          ],
          "histogram2d": [
           {
            "colorbar": {
             "outlinewidth": 0,
             "ticks": ""
            },
            "colorscale": [
             [
              0,
              "#0d0887"
             ],
             [
              0.1111111111111111,
              "#46039f"
             ],
             [
              0.2222222222222222,
              "#7201a8"
             ],
             [
              0.3333333333333333,
              "#9c179e"
             ],
             [
              0.4444444444444444,
              "#bd3786"
             ],
             [
              0.5555555555555556,
              "#d8576b"
             ],
             [
              0.6666666666666666,
              "#ed7953"
             ],
             [
              0.7777777777777778,
              "#fb9f3a"
             ],
             [
              0.8888888888888888,
              "#fdca26"
             ],
             [
              1,
              "#f0f921"
             ]
            ],
            "type": "histogram2d"
           }
          ],
          "histogram2dcontour": [
           {
            "colorbar": {
             "outlinewidth": 0,
             "ticks": ""
            },
            "colorscale": [
             [
              0,
              "#0d0887"
             ],
             [
              0.1111111111111111,
              "#46039f"
             ],
             [
              0.2222222222222222,
              "#7201a8"
             ],
             [
              0.3333333333333333,
              "#9c179e"
             ],
             [
              0.4444444444444444,
              "#bd3786"
             ],
             [
              0.5555555555555556,
              "#d8576b"
             ],
             [
              0.6666666666666666,
              "#ed7953"
             ],
             [
              0.7777777777777778,
              "#fb9f3a"
             ],
             [
              0.8888888888888888,
              "#fdca26"
             ],
             [
              1,
              "#f0f921"
             ]
            ],
            "type": "histogram2dcontour"
           }
          ],
          "mesh3d": [
           {
            "colorbar": {
             "outlinewidth": 0,
             "ticks": ""
            },
            "type": "mesh3d"
           }
          ],
          "parcoords": [
           {
            "line": {
             "colorbar": {
              "outlinewidth": 0,
              "ticks": ""
             }
            },
            "type": "parcoords"
           }
          ],
          "pie": [
           {
            "automargin": true,
            "type": "pie"
           }
          ],
          "scatter": [
           {
            "marker": {
             "colorbar": {
              "outlinewidth": 0,
              "ticks": ""
             }
            },
            "type": "scatter"
           }
          ],
          "scatter3d": [
           {
            "line": {
             "colorbar": {
              "outlinewidth": 0,
              "ticks": ""
             }
            },
            "marker": {
             "colorbar": {
              "outlinewidth": 0,
              "ticks": ""
             }
            },
            "type": "scatter3d"
           }
          ],
          "scattercarpet": [
           {
            "marker": {
             "colorbar": {
              "outlinewidth": 0,
              "ticks": ""
             }
            },
            "type": "scattercarpet"
           }
          ],
          "scattergeo": [
           {
            "marker": {
             "colorbar": {
              "outlinewidth": 0,
              "ticks": ""
             }
            },
            "type": "scattergeo"
           }
          ],
          "scattergl": [
           {
            "marker": {
             "colorbar": {
              "outlinewidth": 0,
              "ticks": ""
             }
            },
            "type": "scattergl"
           }
          ],
          "scattermapbox": [
           {
            "marker": {
             "colorbar": {
              "outlinewidth": 0,
              "ticks": ""
             }
            },
            "type": "scattermapbox"
           }
          ],
          "scatterpolar": [
           {
            "marker": {
             "colorbar": {
              "outlinewidth": 0,
              "ticks": ""
             }
            },
            "type": "scatterpolar"
           }
          ],
          "scatterpolargl": [
           {
            "marker": {
             "colorbar": {
              "outlinewidth": 0,
              "ticks": ""
             }
            },
            "type": "scatterpolargl"
           }
          ],
          "scatterternary": [
           {
            "marker": {
             "colorbar": {
              "outlinewidth": 0,
              "ticks": ""
             }
            },
            "type": "scatterternary"
           }
          ],
          "surface": [
           {
            "colorbar": {
             "outlinewidth": 0,
             "ticks": ""
            },
            "colorscale": [
             [
              0,
              "#0d0887"
             ],
             [
              0.1111111111111111,
              "#46039f"
             ],
             [
              0.2222222222222222,
              "#7201a8"
             ],
             [
              0.3333333333333333,
              "#9c179e"
             ],
             [
              0.4444444444444444,
              "#bd3786"
             ],
             [
              0.5555555555555556,
              "#d8576b"
             ],
             [
              0.6666666666666666,
              "#ed7953"
             ],
             [
              0.7777777777777778,
              "#fb9f3a"
             ],
             [
              0.8888888888888888,
              "#fdca26"
             ],
             [
              1,
              "#f0f921"
             ]
            ],
            "type": "surface"
           }
          ],
          "table": [
           {
            "cells": {
             "fill": {
              "color": "#EBF0F8"
             },
             "line": {
              "color": "white"
             }
            },
            "header": {
             "fill": {
              "color": "#C8D4E3"
             },
             "line": {
              "color": "white"
             }
            },
            "type": "table"
           }
          ]
         },
         "layout": {
          "annotationdefaults": {
           "arrowcolor": "#2a3f5f",
           "arrowhead": 0,
           "arrowwidth": 1
          },
          "autotypenumbers": "strict",
          "coloraxis": {
           "colorbar": {
            "outlinewidth": 0,
            "ticks": ""
           }
          },
          "colorscale": {
           "diverging": [
            [
             0,
             "#8e0152"
            ],
            [
             0.1,
             "#c51b7d"
            ],
            [
             0.2,
             "#de77ae"
            ],
            [
             0.3,
             "#f1b6da"
            ],
            [
             0.4,
             "#fde0ef"
            ],
            [
             0.5,
             "#f7f7f7"
            ],
            [
             0.6,
             "#e6f5d0"
            ],
            [
             0.7,
             "#b8e186"
            ],
            [
             0.8,
             "#7fbc41"
            ],
            [
             0.9,
             "#4d9221"
            ],
            [
             1,
             "#276419"
            ]
           ],
           "sequential": [
            [
             0,
             "#0d0887"
            ],
            [
             0.1111111111111111,
             "#46039f"
            ],
            [
             0.2222222222222222,
             "#7201a8"
            ],
            [
             0.3333333333333333,
             "#9c179e"
            ],
            [
             0.4444444444444444,
             "#bd3786"
            ],
            [
             0.5555555555555556,
             "#d8576b"
            ],
            [
             0.6666666666666666,
             "#ed7953"
            ],
            [
             0.7777777777777778,
             "#fb9f3a"
            ],
            [
             0.8888888888888888,
             "#fdca26"
            ],
            [
             1,
             "#f0f921"
            ]
           ],
           "sequentialminus": [
            [
             0,
             "#0d0887"
            ],
            [
             0.1111111111111111,
             "#46039f"
            ],
            [
             0.2222222222222222,
             "#7201a8"
            ],
            [
             0.3333333333333333,
             "#9c179e"
            ],
            [
             0.4444444444444444,
             "#bd3786"
            ],
            [
             0.5555555555555556,
             "#d8576b"
            ],
            [
             0.6666666666666666,
             "#ed7953"
            ],
            [
             0.7777777777777778,
             "#fb9f3a"
            ],
            [
             0.8888888888888888,
             "#fdca26"
            ],
            [
             1,
             "#f0f921"
            ]
           ]
          },
          "colorway": [
           "#636efa",
           "#EF553B",
           "#00cc96",
           "#ab63fa",
           "#FFA15A",
           "#19d3f3",
           "#FF6692",
           "#B6E880",
           "#FF97FF",
           "#FECB52"
          ],
          "font": {
           "color": "#2a3f5f"
          },
          "geo": {
           "bgcolor": "white",
           "lakecolor": "white",
           "landcolor": "#E5ECF6",
           "showlakes": true,
           "showland": true,
           "subunitcolor": "white"
          },
          "hoverlabel": {
           "align": "left"
          },
          "hovermode": "closest",
          "mapbox": {
           "style": "light"
          },
          "paper_bgcolor": "white",
          "plot_bgcolor": "#E5ECF6",
          "polar": {
           "angularaxis": {
            "gridcolor": "white",
            "linecolor": "white",
            "ticks": ""
           },
           "bgcolor": "#E5ECF6",
           "radialaxis": {
            "gridcolor": "white",
            "linecolor": "white",
            "ticks": ""
           }
          },
          "scene": {
           "xaxis": {
            "backgroundcolor": "#E5ECF6",
            "gridcolor": "white",
            "gridwidth": 2,
            "linecolor": "white",
            "showbackground": true,
            "ticks": "",
            "zerolinecolor": "white"
           },
           "yaxis": {
            "backgroundcolor": "#E5ECF6",
            "gridcolor": "white",
            "gridwidth": 2,
            "linecolor": "white",
            "showbackground": true,
            "ticks": "",
            "zerolinecolor": "white"
           },
           "zaxis": {
            "backgroundcolor": "#E5ECF6",
            "gridcolor": "white",
            "gridwidth": 2,
            "linecolor": "white",
            "showbackground": true,
            "ticks": "",
            "zerolinecolor": "white"
           }
          },
          "shapedefaults": {
           "line": {
            "color": "#2a3f5f"
           }
          },
          "ternary": {
           "aaxis": {
            "gridcolor": "white",
            "linecolor": "white",
            "ticks": ""
           },
           "baxis": {
            "gridcolor": "white",
            "linecolor": "white",
            "ticks": ""
           },
           "bgcolor": "#E5ECF6",
           "caxis": {
            "gridcolor": "white",
            "linecolor": "white",
            "ticks": ""
           }
          },
          "title": {
           "x": 0.05
          },
          "xaxis": {
           "automargin": true,
           "gridcolor": "white",
           "linecolor": "white",
           "ticks": "",
           "title": {
            "standoff": 15
           },
           "zerolinecolor": "white",
           "zerolinewidth": 2
          },
          "yaxis": {
           "automargin": true,
           "gridcolor": "white",
           "linecolor": "white",
           "ticks": "",
           "title": {
            "standoff": 15
           },
           "zerolinecolor": "white",
           "zerolinewidth": 2
          }
         }
        },
        "title": {
         "text": "Annual Producer price (USD/tonne) of different Argricultural products in Pakistan"
        },
        "xaxis": {
         "anchor": "y",
         "domain": [
          0,
          1
         ],
         "title": {
          "text": "Year"
         }
        },
        "yaxis": {
         "anchor": "x",
         "domain": [
          0,
          1
         ],
         "title": {
          "text": "Value"
         }
        }
       }
      }
     },
     "metadata": {},
     "output_type": "display_data"
    }
   ],
   "source": [
    "import plotly.express as px\n",
    "df2= pd.read_csv(\"DAP.csv\")\n",
    "fig = px.line(df2, x=\"Year\", y=\"Value\", color=\"Item\", line_group=\"Area\", hover_name=\"Area\",\n",
    "        line_shape=\"spline\", render_mode=\"svg\", title='Annual Producer price (USD/tonne) of different Argricultural products in Pakistan')\n",
    "fig.show()"
   ]
  },
  {
   "cell_type": "markdown",
   "metadata": {},
   "source": [
    "## Annual Population of Pakistan {Unit = 1000}"
   ]
  },
  {
   "cell_type": "code",
   "execution_count": 38,
   "metadata": {},
   "outputs": [
    {
     "data": {
      "application/vnd.plotly.v1+json": {
       "config": {
        "plotlyServerURL": "https://plot.ly"
       },
       "data": [
        {
         "hovertemplate": "<b>%{hovertext}</b><br><br>Element=Total Population - Male<br>Year=%{x}<br>Value=%{y}<extra></extra>",
         "hovertext": [
          "Pakistan",
          "Pakistan",
          "Pakistan",
          "Pakistan",
          "Pakistan",
          "Pakistan",
          "Pakistan",
          "Pakistan",
          "Pakistan",
          "Pakistan",
          "Pakistan",
          "Pakistan",
          "Pakistan",
          "Pakistan",
          "Pakistan",
          "Pakistan",
          "Pakistan",
          "Pakistan",
          "Pakistan",
          "Pakistan",
          "Pakistan",
          "Pakistan",
          "Pakistan",
          "Pakistan",
          "Pakistan",
          "Pakistan",
          "Pakistan",
          "Pakistan",
          "Pakistan",
          "Pakistan",
          "Pakistan",
          "Pakistan",
          "Pakistan",
          "Pakistan",
          "Pakistan",
          "Pakistan",
          "Pakistan",
          "Pakistan",
          "Pakistan",
          "Pakistan",
          "Pakistan",
          "Pakistan",
          "Pakistan",
          "Pakistan",
          "Pakistan",
          "Pakistan",
          "Pakistan",
          "Pakistan",
          "Pakistan",
          "Pakistan",
          "Pakistan",
          "Pakistan",
          "Pakistan",
          "Pakistan",
          "Pakistan",
          "Pakistan",
          "Pakistan",
          "Pakistan",
          "Pakistan",
          "Pakistan",
          "Pakistan",
          "Pakistan",
          "Pakistan",
          "Pakistan",
          "Pakistan",
          "Pakistan",
          "Pakistan",
          "Pakistan",
          "Pakistan"
         ],
         "legendgroup": "Total Population - Male",
         "marker": {
          "color": "#636efa",
          "symbol": "circle"
         },
         "mode": "markers",
         "name": "Total Population - Male",
         "orientation": "v",
         "showlegend": true,
         "type": "scatter",
         "x": [
          1950,
          1951,
          1952,
          1953,
          1954,
          1955,
          1956,
          1957,
          1958,
          1959,
          1960,
          1961,
          1962,
          1963,
          1964,
          1965,
          1966,
          1967,
          1968,
          1969,
          1970,
          1971,
          1972,
          1973,
          1974,
          1975,
          1976,
          1977,
          1978,
          1979,
          1980,
          1981,
          1982,
          1983,
          1984,
          1985,
          1986,
          1987,
          1988,
          1989,
          1990,
          1991,
          1992,
          1993,
          1994,
          1995,
          1996,
          1997,
          1998,
          1999,
          2000,
          2001,
          2002,
          2003,
          2004,
          2005,
          2006,
          2007,
          2008,
          2009,
          2010,
          2011,
          2012,
          2013,
          2014,
          2015,
          2016,
          2017,
          2018
         ],
         "xaxis": "x",
         "y": [
          20461.235,
          20667.31,
          20913.115,
          21196.358,
          21515.099,
          21867.756,
          22253.111,
          22670.309,
          23118.814,
          23598.33,
          24108.624,
          24649.289,
          25219.575,
          25818.3,
          26444.062,
          27095.945,
          27774.755,
          28481.156,
          29214.187,
          29972.569,
          30756.292,
          31565.434,
          32403.115,
          33276.37,
          34194.323,
          35164.163,
          36186.89,
          37262.511,
          38395.617,
          39591.261,
          40851.929,
          42179.398,
          43569.701,
          45012.112,
          46491.948,
          47997.656,
          49527.604,
          51082.019,
          52653.703,
          54234.733,
          55820.76,
          57403.279,
          58985.934,
          60591.329,
          62250.817,
          63984.934,
          65804.517,
          67697.425,
          69633.257,
          71568.899,
          73473.693,
          75336.518,
          77167.82,
          78984.832,
          80814.409,
          82676.228,
          84575.681,
          86506.754,
          88464.386,
          90439.737,
          92426.989,
          94423.091,
          96432.134,
          98463.549,
          100530.36,
          102640.691,
          104797.415,
          106993.868,
          109216.763
         ],
         "yaxis": "y"
        },
        {
         "hovertemplate": "<b>%{hovertext}</b><br><br>Element=Total Population - Female<br>Year=%{x}<br>Value=%{y}<extra></extra>",
         "hovertext": [
          "Pakistan",
          "Pakistan",
          "Pakistan",
          "Pakistan",
          "Pakistan",
          "Pakistan",
          "Pakistan",
          "Pakistan",
          "Pakistan",
          "Pakistan",
          "Pakistan",
          "Pakistan",
          "Pakistan",
          "Pakistan",
          "Pakistan",
          "Pakistan",
          "Pakistan",
          "Pakistan",
          "Pakistan",
          "Pakistan",
          "Pakistan",
          "Pakistan",
          "Pakistan",
          "Pakistan",
          "Pakistan",
          "Pakistan",
          "Pakistan",
          "Pakistan",
          "Pakistan",
          "Pakistan",
          "Pakistan",
          "Pakistan",
          "Pakistan",
          "Pakistan",
          "Pakistan",
          "Pakistan",
          "Pakistan",
          "Pakistan",
          "Pakistan",
          "Pakistan",
          "Pakistan",
          "Pakistan",
          "Pakistan",
          "Pakistan",
          "Pakistan",
          "Pakistan",
          "Pakistan",
          "Pakistan",
          "Pakistan",
          "Pakistan",
          "Pakistan",
          "Pakistan",
          "Pakistan",
          "Pakistan",
          "Pakistan",
          "Pakistan",
          "Pakistan",
          "Pakistan",
          "Pakistan",
          "Pakistan",
          "Pakistan",
          "Pakistan",
          "Pakistan",
          "Pakistan",
          "Pakistan",
          "Pakistan",
          "Pakistan",
          "Pakistan",
          "Pakistan"
         ],
         "legendgroup": "Total Population - Female",
         "marker": {
          "color": "#EF553B",
          "symbol": "circle"
         },
         "mode": "markers",
         "name": "Total Population - Female",
         "orientation": "v",
         "showlegend": true,
         "type": "scatter",
         "x": [
          1950,
          1951,
          1952,
          1953,
          1954,
          1955,
          1956,
          1957,
          1958,
          1959,
          1960,
          1961,
          1962,
          1963,
          1964,
          1965,
          1966,
          1967,
          1968,
          1969,
          1970,
          1971,
          1972,
          1973,
          1974,
          1975,
          1976,
          1977,
          1978,
          1979,
          1980,
          1981,
          1982,
          1983,
          1984,
          1985,
          1986,
          1987,
          1988,
          1989,
          1990,
          1991,
          1992,
          1993,
          1994,
          1995,
          1996,
          1997,
          1998,
          1999,
          2000,
          2001,
          2002,
          2003,
          2004,
          2005,
          2006,
          2007,
          2008,
          2009,
          2010,
          2011,
          2012,
          2013,
          2014,
          2015,
          2016,
          2017,
          2018
         ],
         "xaxis": "x",
         "y": [
          17081.135,
          17325.574,
          17603.399,
          17912.732,
          18252.07,
          18620.276,
          19016.61,
          19440.702,
          19892.51,
          20372.23,
          20880.066,
          21415.94,
          21979.311,
          22568.993,
          23183.561,
          23822.03,
          24485.428,
          25174.627,
          25888.503,
          26625.579,
          27385.77,
          28169.045,
          28978.867,
          29823.034,
          30711.673,
          31652.712,
          32647.434,
          33695.657,
          34801.637,
          35969.867,
          37202.417,
          38501.063,
          39861.896,
          41273.824,
          42721.76,
          44193.849,
          45687.771,
          47203.743,
          48735.9,
          50278.141,
          51827.158,
          53375.376,
          54925.192,
          56495.351,
          58111.947,
          59791.901,
          61544.776,
          63360.007,
          65209.976,
          67055.726,
          68869.89,
          70641.89,
          72381.875,
          74108.539,
          75850.289,
          77627.779,
          79446.945,
          81301.352,
          83184.598,
          85085.873,
          86997.654,
          88917.077,
          90847.991,
          92797.25,
          94774.652,
          96786.262,
          98833.941,
          100912.342,
          103011.525
         ],
         "yaxis": "y"
        }
       ],
       "layout": {
        "legend": {
         "title": {
          "text": "Element"
         },
         "tracegroupgap": 0
        },
        "template": {
         "data": {
          "bar": [
           {
            "error_x": {
             "color": "#2a3f5f"
            },
            "error_y": {
             "color": "#2a3f5f"
            },
            "marker": {
             "line": {
              "color": "#E5ECF6",
              "width": 0.5
             },
             "pattern": {
              "fillmode": "overlay",
              "size": 10,
              "solidity": 0.2
             }
            },
            "type": "bar"
           }
          ],
          "barpolar": [
           {
            "marker": {
             "line": {
              "color": "#E5ECF6",
              "width": 0.5
             },
             "pattern": {
              "fillmode": "overlay",
              "size": 10,
              "solidity": 0.2
             }
            },
            "type": "barpolar"
           }
          ],
          "carpet": [
           {
            "aaxis": {
             "endlinecolor": "#2a3f5f",
             "gridcolor": "white",
             "linecolor": "white",
             "minorgridcolor": "white",
             "startlinecolor": "#2a3f5f"
            },
            "baxis": {
             "endlinecolor": "#2a3f5f",
             "gridcolor": "white",
             "linecolor": "white",
             "minorgridcolor": "white",
             "startlinecolor": "#2a3f5f"
            },
            "type": "carpet"
           }
          ],
          "choropleth": [
           {
            "colorbar": {
             "outlinewidth": 0,
             "ticks": ""
            },
            "type": "choropleth"
           }
          ],
          "contour": [
           {
            "colorbar": {
             "outlinewidth": 0,
             "ticks": ""
            },
            "colorscale": [
             [
              0,
              "#0d0887"
             ],
             [
              0.1111111111111111,
              "#46039f"
             ],
             [
              0.2222222222222222,
              "#7201a8"
             ],
             [
              0.3333333333333333,
              "#9c179e"
             ],
             [
              0.4444444444444444,
              "#bd3786"
             ],
             [
              0.5555555555555556,
              "#d8576b"
             ],
             [
              0.6666666666666666,
              "#ed7953"
             ],
             [
              0.7777777777777778,
              "#fb9f3a"
             ],
             [
              0.8888888888888888,
              "#fdca26"
             ],
             [
              1,
              "#f0f921"
             ]
            ],
            "type": "contour"
           }
          ],
          "contourcarpet": [
           {
            "colorbar": {
             "outlinewidth": 0,
             "ticks": ""
            },
            "type": "contourcarpet"
           }
          ],
          "heatmap": [
           {
            "colorbar": {
             "outlinewidth": 0,
             "ticks": ""
            },
            "colorscale": [
             [
              0,
              "#0d0887"
             ],
             [
              0.1111111111111111,
              "#46039f"
             ],
             [
              0.2222222222222222,
              "#7201a8"
             ],
             [
              0.3333333333333333,
              "#9c179e"
             ],
             [
              0.4444444444444444,
              "#bd3786"
             ],
             [
              0.5555555555555556,
              "#d8576b"
             ],
             [
              0.6666666666666666,
              "#ed7953"
             ],
             [
              0.7777777777777778,
              "#fb9f3a"
             ],
             [
              0.8888888888888888,
              "#fdca26"
             ],
             [
              1,
              "#f0f921"
             ]
            ],
            "type": "heatmap"
           }
          ],
          "heatmapgl": [
           {
            "colorbar": {
             "outlinewidth": 0,
             "ticks": ""
            },
            "colorscale": [
             [
              0,
              "#0d0887"
             ],
             [
              0.1111111111111111,
              "#46039f"
             ],
             [
              0.2222222222222222,
              "#7201a8"
             ],
             [
              0.3333333333333333,
              "#9c179e"
             ],
             [
              0.4444444444444444,
              "#bd3786"
             ],
             [
              0.5555555555555556,
              "#d8576b"
             ],
             [
              0.6666666666666666,
              "#ed7953"
             ],
             [
              0.7777777777777778,
              "#fb9f3a"
             ],
             [
              0.8888888888888888,
              "#fdca26"
             ],
             [
              1,
              "#f0f921"
             ]
            ],
            "type": "heatmapgl"
           }
          ],
          "histogram": [
           {
            "marker": {
             "pattern": {
              "fillmode": "overlay",
              "size": 10,
              "solidity": 0.2
             }
            },
            "type": "histogram"
           }
          ],
          "histogram2d": [
           {
            "colorbar": {
             "outlinewidth": 0,
             "ticks": ""
            },
            "colorscale": [
             [
              0,
              "#0d0887"
             ],
             [
              0.1111111111111111,
              "#46039f"
             ],
             [
              0.2222222222222222,
              "#7201a8"
             ],
             [
              0.3333333333333333,
              "#9c179e"
             ],
             [
              0.4444444444444444,
              "#bd3786"
             ],
             [
              0.5555555555555556,
              "#d8576b"
             ],
             [
              0.6666666666666666,
              "#ed7953"
             ],
             [
              0.7777777777777778,
              "#fb9f3a"
             ],
             [
              0.8888888888888888,
              "#fdca26"
             ],
             [
              1,
              "#f0f921"
             ]
            ],
            "type": "histogram2d"
           }
          ],
          "histogram2dcontour": [
           {
            "colorbar": {
             "outlinewidth": 0,
             "ticks": ""
            },
            "colorscale": [
             [
              0,
              "#0d0887"
             ],
             [
              0.1111111111111111,
              "#46039f"
             ],
             [
              0.2222222222222222,
              "#7201a8"
             ],
             [
              0.3333333333333333,
              "#9c179e"
             ],
             [
              0.4444444444444444,
              "#bd3786"
             ],
             [
              0.5555555555555556,
              "#d8576b"
             ],
             [
              0.6666666666666666,
              "#ed7953"
             ],
             [
              0.7777777777777778,
              "#fb9f3a"
             ],
             [
              0.8888888888888888,
              "#fdca26"
             ],
             [
              1,
              "#f0f921"
             ]
            ],
            "type": "histogram2dcontour"
           }
          ],
          "mesh3d": [
           {
            "colorbar": {
             "outlinewidth": 0,
             "ticks": ""
            },
            "type": "mesh3d"
           }
          ],
          "parcoords": [
           {
            "line": {
             "colorbar": {
              "outlinewidth": 0,
              "ticks": ""
             }
            },
            "type": "parcoords"
           }
          ],
          "pie": [
           {
            "automargin": true,
            "type": "pie"
           }
          ],
          "scatter": [
           {
            "marker": {
             "colorbar": {
              "outlinewidth": 0,
              "ticks": ""
             }
            },
            "type": "scatter"
           }
          ],
          "scatter3d": [
           {
            "line": {
             "colorbar": {
              "outlinewidth": 0,
              "ticks": ""
             }
            },
            "marker": {
             "colorbar": {
              "outlinewidth": 0,
              "ticks": ""
             }
            },
            "type": "scatter3d"
           }
          ],
          "scattercarpet": [
           {
            "marker": {
             "colorbar": {
              "outlinewidth": 0,
              "ticks": ""
             }
            },
            "type": "scattercarpet"
           }
          ],
          "scattergeo": [
           {
            "marker": {
             "colorbar": {
              "outlinewidth": 0,
              "ticks": ""
             }
            },
            "type": "scattergeo"
           }
          ],
          "scattergl": [
           {
            "marker": {
             "colorbar": {
              "outlinewidth": 0,
              "ticks": ""
             }
            },
            "type": "scattergl"
           }
          ],
          "scattermapbox": [
           {
            "marker": {
             "colorbar": {
              "outlinewidth": 0,
              "ticks": ""
             }
            },
            "type": "scattermapbox"
           }
          ],
          "scatterpolar": [
           {
            "marker": {
             "colorbar": {
              "outlinewidth": 0,
              "ticks": ""
             }
            },
            "type": "scatterpolar"
           }
          ],
          "scatterpolargl": [
           {
            "marker": {
             "colorbar": {
              "outlinewidth": 0,
              "ticks": ""
             }
            },
            "type": "scatterpolargl"
           }
          ],
          "scatterternary": [
           {
            "marker": {
             "colorbar": {
              "outlinewidth": 0,
              "ticks": ""
             }
            },
            "type": "scatterternary"
           }
          ],
          "surface": [
           {
            "colorbar": {
             "outlinewidth": 0,
             "ticks": ""
            },
            "colorscale": [
             [
              0,
              "#0d0887"
             ],
             [
              0.1111111111111111,
              "#46039f"
             ],
             [
              0.2222222222222222,
              "#7201a8"
             ],
             [
              0.3333333333333333,
              "#9c179e"
             ],
             [
              0.4444444444444444,
              "#bd3786"
             ],
             [
              0.5555555555555556,
              "#d8576b"
             ],
             [
              0.6666666666666666,
              "#ed7953"
             ],
             [
              0.7777777777777778,
              "#fb9f3a"
             ],
             [
              0.8888888888888888,
              "#fdca26"
             ],
             [
              1,
              "#f0f921"
             ]
            ],
            "type": "surface"
           }
          ],
          "table": [
           {
            "cells": {
             "fill": {
              "color": "#EBF0F8"
             },
             "line": {
              "color": "white"
             }
            },
            "header": {
             "fill": {
              "color": "#C8D4E3"
             },
             "line": {
              "color": "white"
             }
            },
            "type": "table"
           }
          ]
         },
         "layout": {
          "annotationdefaults": {
           "arrowcolor": "#2a3f5f",
           "arrowhead": 0,
           "arrowwidth": 1
          },
          "autotypenumbers": "strict",
          "coloraxis": {
           "colorbar": {
            "outlinewidth": 0,
            "ticks": ""
           }
          },
          "colorscale": {
           "diverging": [
            [
             0,
             "#8e0152"
            ],
            [
             0.1,
             "#c51b7d"
            ],
            [
             0.2,
             "#de77ae"
            ],
            [
             0.3,
             "#f1b6da"
            ],
            [
             0.4,
             "#fde0ef"
            ],
            [
             0.5,
             "#f7f7f7"
            ],
            [
             0.6,
             "#e6f5d0"
            ],
            [
             0.7,
             "#b8e186"
            ],
            [
             0.8,
             "#7fbc41"
            ],
            [
             0.9,
             "#4d9221"
            ],
            [
             1,
             "#276419"
            ]
           ],
           "sequential": [
            [
             0,
             "#0d0887"
            ],
            [
             0.1111111111111111,
             "#46039f"
            ],
            [
             0.2222222222222222,
             "#7201a8"
            ],
            [
             0.3333333333333333,
             "#9c179e"
            ],
            [
             0.4444444444444444,
             "#bd3786"
            ],
            [
             0.5555555555555556,
             "#d8576b"
            ],
            [
             0.6666666666666666,
             "#ed7953"
            ],
            [
             0.7777777777777778,
             "#fb9f3a"
            ],
            [
             0.8888888888888888,
             "#fdca26"
            ],
            [
             1,
             "#f0f921"
            ]
           ],
           "sequentialminus": [
            [
             0,
             "#0d0887"
            ],
            [
             0.1111111111111111,
             "#46039f"
            ],
            [
             0.2222222222222222,
             "#7201a8"
            ],
            [
             0.3333333333333333,
             "#9c179e"
            ],
            [
             0.4444444444444444,
             "#bd3786"
            ],
            [
             0.5555555555555556,
             "#d8576b"
            ],
            [
             0.6666666666666666,
             "#ed7953"
            ],
            [
             0.7777777777777778,
             "#fb9f3a"
            ],
            [
             0.8888888888888888,
             "#fdca26"
            ],
            [
             1,
             "#f0f921"
            ]
           ]
          },
          "colorway": [
           "#636efa",
           "#EF553B",
           "#00cc96",
           "#ab63fa",
           "#FFA15A",
           "#19d3f3",
           "#FF6692",
           "#B6E880",
           "#FF97FF",
           "#FECB52"
          ],
          "font": {
           "color": "#2a3f5f"
          },
          "geo": {
           "bgcolor": "white",
           "lakecolor": "white",
           "landcolor": "#E5ECF6",
           "showlakes": true,
           "showland": true,
           "subunitcolor": "white"
          },
          "hoverlabel": {
           "align": "left"
          },
          "hovermode": "closest",
          "mapbox": {
           "style": "light"
          },
          "paper_bgcolor": "white",
          "plot_bgcolor": "#E5ECF6",
          "polar": {
           "angularaxis": {
            "gridcolor": "white",
            "linecolor": "white",
            "ticks": ""
           },
           "bgcolor": "#E5ECF6",
           "radialaxis": {
            "gridcolor": "white",
            "linecolor": "white",
            "ticks": ""
           }
          },
          "scene": {
           "xaxis": {
            "backgroundcolor": "#E5ECF6",
            "gridcolor": "white",
            "gridwidth": 2,
            "linecolor": "white",
            "showbackground": true,
            "ticks": "",
            "zerolinecolor": "white"
           },
           "yaxis": {
            "backgroundcolor": "#E5ECF6",
            "gridcolor": "white",
            "gridwidth": 2,
            "linecolor": "white",
            "showbackground": true,
            "ticks": "",
            "zerolinecolor": "white"
           },
           "zaxis": {
            "backgroundcolor": "#E5ECF6",
            "gridcolor": "white",
            "gridwidth": 2,
            "linecolor": "white",
            "showbackground": true,
            "ticks": "",
            "zerolinecolor": "white"
           }
          },
          "shapedefaults": {
           "line": {
            "color": "#2a3f5f"
           }
          },
          "ternary": {
           "aaxis": {
            "gridcolor": "white",
            "linecolor": "white",
            "ticks": ""
           },
           "baxis": {
            "gridcolor": "white",
            "linecolor": "white",
            "ticks": ""
           },
           "bgcolor": "#E5ECF6",
           "caxis": {
            "gridcolor": "white",
            "linecolor": "white",
            "ticks": ""
           }
          },
          "title": {
           "x": 0.05
          },
          "xaxis": {
           "automargin": true,
           "gridcolor": "white",
           "linecolor": "white",
           "ticks": "",
           "title": {
            "standoff": 15
           },
           "zerolinecolor": "white",
           "zerolinewidth": 2
          },
          "yaxis": {
           "automargin": true,
           "gridcolor": "white",
           "linecolor": "white",
           "ticks": "",
           "title": {
            "standoff": 15
           },
           "zerolinecolor": "white",
           "zerolinewidth": 2
          }
         }
        },
        "title": {
         "text": "Annual Population of Pakistan {Unit = 1000}"
        },
        "xaxis": {
         "anchor": "y",
         "domain": [
          0,
          1
         ],
         "title": {
          "text": "Year"
         },
         "type": "log"
        },
        "yaxis": {
         "anchor": "x",
         "domain": [
          0,
          1
         ],
         "title": {
          "text": "Value"
         }
        }
       }
      }
     },
     "metadata": {},
     "output_type": "display_data"
    }
   ],
   "source": [
    "import plotly.express as px\n",
    "df3= pd.read_csv(\"POP.csv\")\n",
    "\n",
    "fig = px.scatter(df3, x=\"Year\", y=\"Value\",\n",
    "\t          color=\"Element\",\n",
    "                 hover_name=\"Area\", log_x=True, size_max=60 ,title='Annual Population of Pakistan {Unit = 1000}')\n",
    "fig.show()\n"
   ]
  },
  {
   "cell_type": "markdown",
   "metadata": {},
   "source": [
    "# Annual Emission of diffferent gases in pakistan"
   ]
  },
  {
   "cell_type": "code",
   "execution_count": 44,
   "metadata": {},
   "outputs": [
    {
     "data": {
      "application/vnd.plotly.v1+json": {
       "config": {
        "plotlyServerURL": "https://plot.ly"
       },
       "data": [
        {
         "alignmentgroup": "True",
         "hovertemplate": "Element=Emissions (CH4)<br>Year=%{x}<br>Value=%{y}<extra></extra>",
         "legendgroup": "Emissions (CH4)",
         "marker": {
          "color": "#636efa"
         },
         "name": "Emissions (CH4)",
         "notched": true,
         "offsetgroup": "Emissions (CH4)",
         "orientation": "v",
         "showlegend": true,
         "type": "box",
         "x": [
          1972,
          1973,
          1974,
          1975,
          1976,
          1977,
          1978,
          1979,
          1980,
          1981,
          1982,
          1983,
          1984,
          1985,
          1986,
          1987,
          1988,
          1989,
          1990,
          1991,
          1992,
          1993,
          1994,
          1995,
          1996,
          1997,
          1998,
          1999,
          2000,
          2001,
          2002,
          2003,
          2004,
          2005,
          2006,
          2007,
          2008,
          2009,
          2010,
          2011,
          2012,
          2013,
          2014,
          2015,
          2016,
          2017,
          2018,
          2019,
          1970,
          1971,
          1972,
          1973,
          1974,
          1975,
          1976,
          1977,
          1978,
          1979,
          1980,
          1981,
          1982,
          1983,
          1984,
          1985,
          1986,
          1987,
          1988,
          1989,
          1990,
          1991,
          1992,
          1993,
          1994,
          1995,
          1996,
          1997,
          1998,
          1999,
          2000,
          2001,
          2002,
          2003,
          2004,
          2005,
          2006,
          2007,
          2008,
          2009,
          2010,
          2011,
          2012,
          2013,
          2014,
          2015,
          2016,
          2017,
          2018,
          2019,
          1970,
          1971,
          1972,
          1973,
          1974,
          1975,
          1976,
          1977,
          1978,
          1979,
          1980,
          1981,
          1982,
          1983,
          1984,
          1985,
          1986,
          1987,
          1988,
          1989,
          1990,
          1991,
          1992,
          1993,
          1994,
          1995,
          1996,
          1997,
          1998,
          1999,
          2000,
          2001,
          2002,
          2003,
          2004,
          2005,
          2006,
          2007,
          2008,
          2009,
          2010,
          2011,
          2012,
          2013,
          2014,
          2015,
          2016,
          2017,
          2018,
          2019,
          1971,
          1972,
          1973,
          1974,
          1975,
          1976,
          1977,
          1978,
          1979,
          1980,
          1981,
          1982,
          1983,
          1984,
          1985,
          1986,
          1987,
          1988,
          1989,
          1990,
          1991,
          1992,
          1993,
          1994,
          1995,
          1996,
          1997,
          1998,
          1999,
          2000,
          2001,
          2002,
          2003,
          2004,
          2005,
          2006,
          2007,
          2008,
          2009,
          2010,
          2011,
          2012,
          2013,
          2014,
          2015,
          2016,
          2017,
          2018,
          1972,
          1973,
          1974,
          1975,
          1976,
          1977,
          1978,
          1979,
          1980,
          1981,
          1982,
          1983,
          1984,
          1985,
          1986,
          1987,
          1988,
          1989,
          1990,
          1991,
          1992,
          1993,
          1994,
          1995,
          1996,
          1997,
          1998,
          1999,
          2000,
          2001,
          2002,
          2003,
          2004,
          2005,
          2006,
          2007,
          2008,
          2009,
          2010,
          2011,
          2012,
          2013,
          2014,
          2015,
          2016,
          2017,
          2018,
          2019,
          1972,
          1973,
          1974,
          1975,
          1976,
          1977,
          1978,
          1979,
          1980,
          1981,
          1982,
          1983,
          1984,
          1985,
          1986,
          1987,
          1988,
          1989,
          1990,
          1991,
          1992,
          1993,
          1994,
          1995,
          1996,
          1997,
          1998,
          1999,
          2000,
          2001,
          2002,
          2003,
          2004,
          2005,
          2006,
          2007,
          2008,
          2009,
          2010,
          2011,
          2012,
          2013,
          2014,
          2015,
          2016,
          2017,
          2018,
          2019,
          1970,
          1971,
          1972,
          1973,
          1974,
          1975,
          1976,
          1977,
          1978,
          1979,
          1980,
          1981,
          1982,
          1983,
          1984,
          1985,
          1986,
          1987,
          1988,
          1989,
          1990,
          1991,
          1992,
          1993,
          1994,
          1995,
          1996,
          1997,
          1998,
          1999,
          2000,
          2001,
          2002,
          2003,
          2004,
          2005,
          2006,
          2007,
          2008,
          2009,
          2010,
          2011,
          2012,
          2013,
          2014,
          2015,
          2016,
          2017,
          2018,
          2019
         ],
         "x0": " ",
         "xaxis": "x",
         "y": [
          0.0507,
          0.0576,
          0.0423,
          0.0482,
          0.0444,
          0.0434,
          0.0471,
          0.0418,
          0.0446,
          0.0319,
          0.0221,
          0.0287,
          0.0309,
          0.0391,
          0.0434,
          0.0428,
          0.0589,
          0.0525,
          0.0512,
          0.0473,
          0.0503,
          0.0512,
          0.055,
          0.048,
          0.0446,
          0.048,
          0.0437,
          0.0444,
          0.0521,
          0.0451,
          0.0346,
          0.0325,
          0.0252,
          0.0146,
          0.0173,
          0.0194,
          0.0125,
          0.0104,
          0.0072,
          0.0041,
          0.0057,
          0.0084,
          0.0066,
          0.0027,
          0.0023,
          0.0027,
          0.0027,
          0.0019,
          0.005,
          0.0051,
          0.0033,
          0.0032,
          0.0031,
          0.0034,
          0.0035,
          0.0037,
          0.0043,
          0.0049,
          0.0064,
          0.007,
          0.0077,
          0.0083,
          0.009,
          0.0095,
          0.01,
          0.0106,
          0.0115,
          0.0121,
          0.0131,
          0.0134,
          0.0138,
          0.0143,
          0.0142,
          0.0138,
          0.0127,
          0.011,
          0.0092,
          0.0069,
          0.0051,
          0.0042,
          0.0042,
          0.0042,
          0.004,
          0.003,
          0.0026,
          0.0034,
          0.0043,
          0.0067,
          0.0072,
          0.0081,
          0.008,
          0.0058,
          0.002,
          0.0019,
          0.0019,
          0.0015,
          0.0011,
          0.0009,
          0.023,
          0.024,
          0.0195,
          0.0227,
          0.0266,
          0.0297,
          0.0337,
          0.0347,
          0.0367,
          0.0387,
          0.0426,
          0.048,
          0.0508,
          0.052,
          0.0503,
          0.0524,
          0.0542,
          0.055,
          0.0521,
          0.062,
          0.0577,
          0.0526,
          0.0407,
          0.0379,
          0.0364,
          0.0339,
          0.03,
          0.0264,
          0.0274,
          0.0277,
          0.0291,
          0.0305,
          0.0342,
          0.0378,
          0.0404,
          0.0437,
          0.0486,
          0.0554,
          0.0492,
          0.045,
          0.0395,
          0.0334,
          0.0248,
          0.0255,
          0.0312,
          0.0349,
          0.045,
          0.0483,
          0.0535,
          0.0579,
          0.0001,
          0.0001,
          0.0001,
          0.0001,
          0.0001,
          0.0002,
          0.0002,
          0.0002,
          0.0002,
          0.0003,
          0.0007,
          0.001,
          0.001,
          0.0015,
          0.0016,
          0.0015,
          0.0022,
          0.0029,
          0.0029,
          0.0028,
          0.0033,
          0.0029,
          0.0029,
          0.0028,
          0.0038,
          0.0045,
          0.0041,
          0.0045,
          0.0048,
          0.0053,
          0.007,
          0.0072,
          0.0078,
          0.0092,
          0.0128,
          0.0135,
          0.0127,
          0.0117,
          0.0116,
          0.0103,
          0.0101,
          0.0115,
          0.0105,
          0.011,
          0.0126,
          0.0078,
          0.0021,
          0.0018,
          0.0012,
          0.0009,
          0.0007,
          0.0004,
          0.0004,
          0.0003,
          0.0003,
          0.0003,
          0.0003,
          0.0003,
          0.0003,
          0.0003,
          0.0004,
          0.0003,
          0.0002,
          0,
          0,
          0,
          0.0014,
          0.0013,
          0.0012,
          0.0015,
          0.0016,
          0.0019,
          0.0024,
          0.0021,
          0.002,
          0.0021,
          0.0021,
          0.0016,
          0.0014,
          0.0012,
          0.0012,
          0.0009,
          0.0007,
          0.0006,
          0.0006,
          0.0005,
          0.0009,
          0.0009,
          0.0009,
          0.0006,
          0.0005,
          0.0016,
          0.0017,
          0.0013,
          0.0013,
          0.0015,
          1.1248,
          1.1167,
          1.0163,
          1.0782,
          0.9194,
          1.0512,
          1.1122,
          1.2181,
          1.3903,
          1.3867,
          1.5679,
          1.4136,
          1.6558,
          1.9778,
          1.9518,
          2.0088,
          2.4408,
          2.1849,
          2.5336,
          2.3815,
          2.3075,
          2.3262,
          2.6184,
          2.202,
          2.3724,
          2.1701,
          1.7851,
          1.8044,
          1.4962,
          1.3484,
          1.6304,
          2.233,
          2.7362,
          2.9846,
          3.1385,
          3.9957,
          2.6932,
          2.8725,
          2.5094,
          2.2122,
          1.6591,
          1.4741,
          1.3355,
          1.0482,
          1.0035,
          1.0819,
          0.981,
          0.9101,
          1.4015,
          1.4843,
          1.1963,
          1.4027,
          1.3559,
          1.8371,
          1.6739,
          1.6787,
          2.1119,
          2.1647,
          2.4803,
          2.5619,
          2.8427,
          3.0707,
          3.2075,
          3.3575,
          3.4798,
          4.165,
          5.2978,
          5.2546,
          6.0321,
          6.7437,
          7.0161,
          6.7617,
          6.9261,
          7.5009,
          8.0348,
          8.5028,
          8.324,
          6.7437,
          5.4478,
          5.9085,
          7.2189,
          8.0024,
          8.3852,
          9.5384,
          9.8108,
          10.1659,
          10.5535,
          11.6263,
          10.7647,
          10.2571,
          9.236,
          9.9475,
          9.6392,
          10.2307,
          11.0659,
          11.3587,
          11.813,
          12.2478
         ],
         "y0": " ",
         "yaxis": "y"
        },
        {
         "alignmentgroup": "True",
         "hovertemplate": "Element=Emissions (N2O)<br>Year=%{x}<br>Value=%{y}<extra></extra>",
         "legendgroup": "Emissions (N2O)",
         "marker": {
          "color": "#EF553B"
         },
         "name": "Emissions (N2O)",
         "notched": true,
         "offsetgroup": "Emissions (N2O)",
         "orientation": "v",
         "showlegend": true,
         "type": "box",
         "x": [
          1972,
          1973,
          1974,
          1975,
          1976,
          1977,
          1978,
          1979,
          1980,
          1981,
          1982,
          1983,
          1984,
          1985,
          1986,
          1987,
          1988,
          1989,
          1990,
          1991,
          1992,
          1993,
          1994,
          1995,
          1996,
          1997,
          1998,
          1999,
          2000,
          2001,
          2002,
          2003,
          2004,
          2005,
          2006,
          2007,
          2008,
          2009,
          2010,
          2011,
          2012,
          2013,
          2014,
          2015,
          2016,
          2017,
          2018,
          2019,
          1970,
          1971,
          1972,
          1973,
          1974,
          1975,
          1976,
          1977,
          1978,
          1979,
          1980,
          1981,
          1982,
          1983,
          1984,
          1985,
          1986,
          1987,
          1988,
          1989,
          1990,
          1991,
          1992,
          1993,
          1994,
          1995,
          1996,
          1997,
          1998,
          1999,
          2000,
          2001,
          2002,
          2003,
          2004,
          2005,
          2006,
          2007,
          2008,
          2009,
          2010,
          2011,
          2012,
          2013,
          2014,
          2015,
          2016,
          2017,
          2018,
          2019,
          1970,
          1971,
          1972,
          1973,
          1974,
          1975,
          1976,
          1977,
          1978,
          1979,
          1980,
          1981,
          1982,
          1983,
          1984,
          1985,
          1986,
          1987,
          1988,
          1989,
          1990,
          1991,
          1992,
          1993,
          1994,
          1995,
          1996,
          1997,
          1998,
          1999,
          2000,
          2001,
          2002,
          2003,
          2004,
          2005,
          2006,
          2007,
          2008,
          2009,
          2010,
          2011,
          2012,
          2013,
          2014,
          2015,
          2016,
          2017,
          2018,
          2019,
          1971,
          1972,
          1973,
          1974,
          1975,
          1976,
          1977,
          1978,
          1979,
          1980,
          1981,
          1982,
          1983,
          1984,
          1985,
          1986,
          1987,
          1988,
          1989,
          1990,
          1991,
          1992,
          1993,
          1994,
          1995,
          1996,
          1997,
          1998,
          1999,
          2000,
          2001,
          2002,
          2003,
          2004,
          2005,
          2006,
          2007,
          2008,
          2009,
          2010,
          2011,
          2012,
          2013,
          2014,
          2015,
          2016,
          2017,
          2018,
          1972,
          1973,
          1974,
          1975,
          1976,
          1977,
          1978,
          1979,
          1980,
          1981,
          1982,
          1983,
          1984,
          1985,
          1986,
          1987,
          1988,
          1989,
          1990,
          1991,
          1992,
          1993,
          1994,
          1995,
          1996,
          1997,
          1998,
          1999,
          2000,
          2001,
          2002,
          2003,
          2004,
          2005,
          2006,
          2007,
          2008,
          2009,
          2010,
          2011,
          2012,
          2013,
          2014,
          2015,
          2016,
          2017,
          2018,
          2019,
          1972,
          1973,
          1974,
          1975,
          1976,
          1977,
          1978,
          1979,
          1980,
          1981,
          1982,
          1983,
          1984,
          1985,
          1986,
          1987,
          1988,
          1989,
          1990,
          1991,
          1992,
          1993,
          1994,
          1995,
          1996,
          1997,
          1998,
          1999,
          2000,
          2001,
          2002,
          2003,
          2004,
          2005,
          2006,
          2007,
          2008,
          2009,
          2010,
          2011,
          2012,
          2013,
          2014,
          2015,
          2016,
          2017,
          2018,
          2019,
          1970,
          1971,
          1972,
          1973,
          1974,
          1975,
          1976,
          1977,
          1978,
          1979,
          1980,
          1981,
          1982,
          1983,
          1984,
          1985,
          1986,
          1987,
          1988,
          1989,
          1990,
          1991,
          1992,
          1993,
          1994,
          1995,
          1996,
          1997,
          1998,
          1999,
          2000,
          2001,
          2002,
          2003,
          2004,
          2005,
          2006,
          2007,
          2008,
          2009,
          2010,
          2011,
          2012,
          2013,
          2014,
          2015,
          2016,
          2017,
          2018,
          2019
         ],
         "x0": " ",
         "xaxis": "x",
         "y": [
          0.3493,
          0.3972,
          0.2915,
          0.332,
          0.3062,
          0.2988,
          0.3247,
          0.2878,
          0.3075,
          0.2201,
          0.1525,
          0.198,
          0.2128,
          0.2693,
          0.2988,
          0.2952,
          0.4058,
          0.3616,
          0.353,
          0.3259,
          0.3468,
          0.353,
          0.3788,
          0.3308,
          0.3075,
          0.3308,
          0.3013,
          0.3062,
          0.3591,
          0.3111,
          0.2386,
          0.2236,
          0.1734,
          0.1006,
          0.1195,
          0.1339,
          0.0858,
          0.0714,
          0.0499,
          0.0283,
          0.0394,
          0.0578,
          0.0455,
          0.0184,
          0.016,
          0.0184,
          0.0184,
          0.013,
          0.0001,
          0.0001,
          0.0001,
          0.0001,
          0.0001,
          0.0001,
          0.0001,
          0.0001,
          0.0001,
          0.0001,
          0.0002,
          0.0002,
          0.0002,
          0.0002,
          0.0002,
          0.0002,
          0.0002,
          0.0003,
          0.0003,
          0.0003,
          0.0003,
          0.0003,
          0.0003,
          0.0004,
          0.0004,
          0.0003,
          0.0003,
          0.0003,
          0.0002,
          0.0002,
          0.0001,
          0.0001,
          0.0001,
          0.0001,
          0.0001,
          0.0001,
          0.0001,
          0.0001,
          0.0001,
          0.0002,
          0.0002,
          0.0002,
          0.0002,
          0.0001,
          0,
          0,
          0,
          0,
          0,
          0,
          0.0005,
          0.0005,
          0.0004,
          0.0005,
          0.0005,
          0.0006,
          0.0007,
          0.0007,
          0.0007,
          0.0008,
          0.0009,
          0.001,
          0.001,
          0.001,
          0.001,
          0.001,
          0.0011,
          0.0011,
          0.001,
          0.0012,
          0.0012,
          0.0011,
          0.0008,
          0.0008,
          0.0007,
          0.0007,
          0.0006,
          0.0005,
          0.0005,
          0.0006,
          0.0006,
          0.0006,
          0.0007,
          0.0008,
          0.0008,
          0.0009,
          0.001,
          0.0011,
          0.001,
          0.0009,
          0.0008,
          0.0007,
          0.0005,
          0.0005,
          0.0006,
          0.0007,
          0.0009,
          0.001,
          0.0011,
          0.0012,
          0,
          0,
          0,
          0,
          0,
          0,
          0,
          0,
          0,
          0,
          0,
          0,
          0,
          0,
          0,
          0,
          0,
          0.0001,
          0.0001,
          0.0001,
          0.0001,
          0.0001,
          0.0001,
          0.0001,
          0.0001,
          0.0001,
          0.0001,
          0.0001,
          0.0001,
          0.0001,
          0.0001,
          0.0001,
          0.0002,
          0.0002,
          0.0003,
          0.0003,
          0.0003,
          0.0002,
          0.0002,
          0.0002,
          0.0002,
          0.0002,
          0.0002,
          0.0002,
          0.0003,
          0.0002,
          0,
          0,
          0.0001,
          0.0001,
          0,
          0,
          0,
          0,
          0,
          0,
          0,
          0,
          0,
          0,
          0,
          0,
          0,
          0,
          0,
          0,
          0.0001,
          0.0001,
          0.0001,
          0.0001,
          0.0001,
          0.0001,
          0.0001,
          0.0001,
          0.0001,
          0.0001,
          0.0001,
          0.0001,
          0.0001,
          0.0001,
          0.0001,
          0.0001,
          0,
          0,
          0,
          0,
          0.0001,
          0.0001,
          0.0001,
          0,
          0,
          0.0001,
          0.0001,
          0.0001,
          0.0001,
          0.0001,
          0.0056,
          0.0056,
          0.0051,
          0.0054,
          0.0046,
          0.0053,
          0.0056,
          0.0061,
          0.007,
          0.0069,
          0.0078,
          0.0071,
          0.0083,
          0.0099,
          0.0098,
          0.01,
          0.0122,
          0.0109,
          0.0127,
          0.0119,
          0.0115,
          0.0116,
          0.0131,
          0.011,
          0.0119,
          0.0109,
          0.0089,
          0.009,
          0.0075,
          0.0067,
          0.0082,
          0.0112,
          0.0137,
          0.0149,
          0.0157,
          0.02,
          0.0135,
          0.0144,
          0.0125,
          0.0111,
          0.0083,
          0.0074,
          0.0067,
          0.0052,
          0.005,
          0.0054,
          0.0049,
          0.0046,
          0.0075,
          0.0079,
          0.0064,
          0.0075,
          0.0072,
          0.0098,
          0.0089,
          0.009,
          0.0113,
          0.0116,
          0.0132,
          0.0137,
          0.0152,
          0.0164,
          0.0171,
          0.0179,
          0.0186,
          0.0222,
          0.0283,
          0.0281,
          0.0322,
          0.036,
          0.0375,
          0.0361,
          0.037,
          0.0401,
          0.0429,
          0.0454,
          0.0444,
          0.036,
          0.0291,
          0.0316,
          0.0385,
          0.0427,
          0.0448,
          0.0509,
          0.0524,
          0.0543,
          0.0564,
          0.0621,
          0.0575,
          0.0548,
          0.0493,
          0.0531,
          0.0515,
          0.0547,
          0.0591,
          0.0607,
          0.0631,
          0.0654
         ],
         "y0": " ",
         "yaxis": "y"
        },
        {
         "alignmentgroup": "True",
         "hovertemplate": "Element=Emissions (CO2)<br>Year=%{x}<br>Value=%{y}<extra></extra>",
         "legendgroup": "Emissions (CO2)",
         "marker": {
          "color": "#00cc96"
         },
         "name": "Emissions (CO2)",
         "notched": true,
         "offsetgroup": "Emissions (CO2)",
         "orientation": "v",
         "showlegend": true,
         "type": "box",
         "x": [
          1972,
          1973,
          1974,
          1975,
          1976,
          1977,
          1978,
          1979,
          1980,
          1981,
          1982,
          1983,
          1984,
          1985,
          1986,
          1987,
          1988,
          1989,
          1990,
          1991,
          1992,
          1993,
          1994,
          1995,
          1996,
          1997,
          1998,
          1999,
          2000,
          2001,
          2002,
          2003,
          2004,
          2005,
          2006,
          2007,
          2008,
          2009,
          2010,
          2011,
          2012,
          2013,
          2014,
          2015,
          2016,
          2017,
          2018,
          2019,
          1970,
          1971,
          1972,
          1973,
          1974,
          1975,
          1976,
          1977,
          1978,
          1979,
          1980,
          1981,
          1982,
          1983,
          1984,
          1985,
          1986,
          1987,
          1988,
          1989,
          1990,
          1991,
          1992,
          1993,
          1994,
          1995,
          1996,
          1997,
          1998,
          1999,
          2000,
          2001,
          2002,
          2003,
          2004,
          2005,
          2006,
          2007,
          2008,
          2009,
          2010,
          2011,
          2012,
          2013,
          2014,
          2015,
          2016,
          2017,
          2018,
          2019,
          1970,
          1971,
          1972,
          1973,
          1974,
          1975,
          1976,
          1977,
          1978,
          1979,
          1980,
          1981,
          1982,
          1983,
          1984,
          1985,
          1986,
          1987,
          1988,
          1989,
          1990,
          1991,
          1992,
          1993,
          1994,
          1995,
          1996,
          1997,
          1998,
          1999,
          2000,
          2001,
          2002,
          2003,
          2004,
          2005,
          2006,
          2007,
          2008,
          2009,
          2010,
          2011,
          2012,
          2013,
          2014,
          2015,
          2016,
          2017,
          2018,
          2019,
          1971,
          1972,
          1973,
          1974,
          1975,
          1976,
          1977,
          1978,
          1979,
          1980,
          1981,
          1982,
          1983,
          1984,
          1985,
          1986,
          1987,
          1988,
          1989,
          1990,
          1991,
          1992,
          1993,
          1994,
          1995,
          1996,
          1997,
          1998,
          1999,
          2000,
          2001,
          2002,
          2003,
          2004,
          2005,
          2006,
          2007,
          2008,
          2009,
          2010,
          2011,
          2012,
          2013,
          2014,
          2015,
          2016,
          2017,
          2018,
          1972,
          1973,
          1974,
          1975,
          1976,
          1977,
          1978,
          1979,
          1980,
          1981,
          1982,
          1983,
          1984,
          1985,
          1986,
          1987,
          1988,
          1989,
          1990,
          1991,
          1992,
          1993,
          1994,
          1995,
          1996,
          1997,
          1998,
          1999,
          2000,
          2001,
          2002,
          2003,
          2004,
          2005,
          2006,
          2007,
          2008,
          2009,
          2010,
          2011,
          2012,
          2013,
          2014,
          2015,
          2016,
          2017,
          2018,
          2019,
          1972,
          1973,
          1974,
          1975,
          1976,
          1977,
          1978,
          1979,
          1980,
          1981,
          1982,
          1983,
          1984,
          1985,
          1986,
          1987,
          1988,
          1989,
          1990,
          1991,
          1992,
          1993,
          1994,
          1995,
          1996,
          1997,
          1998,
          1999,
          2000,
          2001,
          2002,
          2003,
          2004,
          2005,
          2006,
          2007,
          2008,
          2009,
          2010,
          2011,
          2012,
          2013,
          2014,
          2015,
          2016,
          2017,
          2018,
          2019,
          1970,
          1971,
          1972,
          1973,
          1974,
          1975,
          1976,
          1977,
          1978,
          1979,
          1980,
          1981,
          1982,
          1983,
          1984,
          1985,
          1986,
          1987,
          1988,
          1989,
          1990,
          1991,
          1992,
          1993,
          1994,
          1995,
          1996,
          1997,
          1998,
          1999,
          2000,
          2001,
          2002,
          2003,
          2004,
          2005,
          2006,
          2007,
          2008,
          2009,
          2010,
          2011,
          2012,
          2013,
          2014,
          2015,
          2016,
          2017,
          2018,
          2019
         ],
         "x0": " ",
         "xaxis": "x",
         "y": [
          904.9092,
          1029.1749,
          755.1531,
          860.301,
          793.3887,
          774.2709,
          841.1832,
          745.5942,
          796.575,
          570.3477,
          395.1012,
          512.9943,
          551.2299,
          697.7997,
          774.2709,
          764.712,
          1051.479,
          936.7722,
          914.4681,
          844.3695,
          898.5366,
          914.4681,
          981.3804,
          857.1147,
          796.575,
          857.1147,
          780.6435,
          793.3887,
          930.3996,
          806.1339,
          618.1422,
          579.4541,
          449.1408,
          260.719,
          309.7115,
          346.8829,
          222.3814,
          185.0348,
          129.3542,
          73.2849,
          101.9616,
          149.7561,
          117.8931,
          47.7945,
          41.4219,
          47.7945,
          47.7945,
          33.7748,
          4.3722,
          4.4594,
          2.8457,
          2.8021,
          2.7149,
          2.933,
          3.0311,
          3.1619,
          3.7507,
          4.2632,
          5.5825,
          6.0513,
          6.6619,
          7.1634,
          7.8176,
          8.2101,
          8.6245,
          9.2241,
          9.922,
          10.4453,
          11.3285,
          11.6229,
          11.9827,
          12.3752,
          12.288,
          11.9328,
          10.9672,
          9.5006,
          7.9878,
          5.9806,
          4.4111,
          3.6763,
          3.6577,
          3.666,
          3.461,
          2.5903,
          2.275,
          2.9204,
          3.742,
          5.7688,
          6.2404,
          6.9895,
          6.9678,
          4.9877,
          1.7282,
          1.614,
          1.6512,
          1.2801,
          0.9612,
          0.8078,
          258.2194,
          269.5459,
          218.9255,
          254.4317,
          297.9215,
          333.2719,
          377.6054,
          389.4959,
          411.6856,
          434.1779,
          477.443,
          538.1654,
          570.1912,
          583.0355,
          564.1703,
          588.1576,
          608.1829,
          616.6295,
          584.9939,
          696.1375,
          647.3225,
          590.6123,
          456.7032,
          425.6026,
          408.4547,
          380.4507,
          336.4348,
          295.9924,
          307.6118,
          311.1165,
          327.0071,
          342.1467,
          383.9679,
          423.6123,
          453.7703,
          490.3032,
          545.4142,
          621.922,
          552.4441,
          505.0541,
          443.6687,
          374.9805,
          277.7617,
          285.8148,
          349.9807,
          391.6779,
          504.7591,
          541.6107,
          600.1252,
          650.1541,
          0.8399,
          1.1199,
          1.3998,
          1.6798,
          1.6798,
          2.5197,
          2.7996,
          3.0796,
          3.0796,
          3.3596,
          8.9589,
          12.8784,
          12.8784,
          18.7576,
          19.5975,
          19.3176,
          27.9965,
          36.3954,
          36.3954,
          35.5555,
          41.1548,
          36.6754,
          36.6754,
          35.5555,
          47.8739,
          57.3927,
          52.3534,
          57.1128,
          60.1924,
          66.9115,
          87.9089,
          91.2685,
          98.4288,
          116.5339,
          161.9369,
          170.3296,
          160.4236,
          147.4982,
          146.1735,
          129.3618,
          127.3149,
          144.7655,
          132.5824,
          138.8846,
          159.4688,
          98.3258,
          27.1276,
          22.1305,
          9.3809,
          7.2962,
          5.2116,
          3.127,
          3.127,
          2.5893,
          2.581,
          2.6637,
          2.4817,
          2.5396,
          2.6554,
          2.6637,
          2.7878,
          2.2005,
          1.8696,
          0.0745,
          0.1985,
          0.1489,
          11.176,
          9.7945,
          9.6125,
          11.8378,
          12.7229,
          14.5511,
          18.6211,
          16.4289,
          15.792,
          16.4207,
          16.3462,
          12.0942,
          11.0271,
          9.4573,
          9.5435,
          7.2202,
          5.7156,
          4.5638,
          4.4304,
          3.9272,
          7.2996,
          7.3028,
          7.015,
          4.4304,
          3.9272,
          12.1463,
          12.8205,
          9.6952,
          10.2164,
          11.4742,
          354.6863,
          352.1407,
          320.4622,
          339.9784,
          289.915,
          331.4931,
          350.7265,
          384.1021,
          438.4081,
          437.2767,
          494.4112,
          445.762,
          522.1299,
          623.6709,
          615.4684,
          633.4403,
          769.6794,
          688.9614,
          798.9155,
          750.9513,
          727.646,
          733.5363,
          825.6796,
          694.3511,
          748.1124,
          684.2938,
          562.9099,
          568.9824,
          471.804,
          425.2044,
          514.1222,
          704.1503,
          862.8278,
          941.1299,
          989.6741,
          1259.9888,
          849.2705,
          905.7826,
          791.2837,
          697.5697,
          523.1598,
          464.8181,
          421.1378,
          330.5334,
          316.4503,
          341.1439,
          309.349,
          286.9912,
          476.1619,
          504.2913,
          406.4498,
          476.5695,
          460.6703,
          624.1471,
          568.7036,
          570.3342,
          717.5041,
          735.4417,
          842.6597,
          870.3814,
          965.7769,
          1043.2347,
          1089.7094,
          1140.6685,
          1182.2511,
          1415.0323,
          1799.8754,
          1785.1992,
          2049.3712,
          2326.2051,
          2298.9685,
          2165.1225,
          2257.7034,
          2531.1624,
          2963.8518,
          3215.208,
          2854.1093,
          2629.1995,
          2176.9781,
          2279.9169,
          2664.6891,
          2473.5768,
          2779.9515,
          3028.4331,
          3383.7913,
          3667.4297,
          3968.5925,
          4437.9467,
          3812.989,
          3503.2559,
          3214.4365,
          3447.1706,
          3340.3042,
          3545.3048,
          3834.7174,
          3936.1782,
          4093.6253,
          4244.2895
         ],
         "y0": " ",
         "yaxis": "y"
        }
       ],
       "layout": {
        "boxmode": "group",
        "legend": {
         "title": {
          "text": "Element"
         },
         "tracegroupgap": 0
        },
        "template": {
         "data": {
          "bar": [
           {
            "error_x": {
             "color": "#2a3f5f"
            },
            "error_y": {
             "color": "#2a3f5f"
            },
            "marker": {
             "line": {
              "color": "#E5ECF6",
              "width": 0.5
             },
             "pattern": {
              "fillmode": "overlay",
              "size": 10,
              "solidity": 0.2
             }
            },
            "type": "bar"
           }
          ],
          "barpolar": [
           {
            "marker": {
             "line": {
              "color": "#E5ECF6",
              "width": 0.5
             },
             "pattern": {
              "fillmode": "overlay",
              "size": 10,
              "solidity": 0.2
             }
            },
            "type": "barpolar"
           }
          ],
          "carpet": [
           {
            "aaxis": {
             "endlinecolor": "#2a3f5f",
             "gridcolor": "white",
             "linecolor": "white",
             "minorgridcolor": "white",
             "startlinecolor": "#2a3f5f"
            },
            "baxis": {
             "endlinecolor": "#2a3f5f",
             "gridcolor": "white",
             "linecolor": "white",
             "minorgridcolor": "white",
             "startlinecolor": "#2a3f5f"
            },
            "type": "carpet"
           }
          ],
          "choropleth": [
           {
            "colorbar": {
             "outlinewidth": 0,
             "ticks": ""
            },
            "type": "choropleth"
           }
          ],
          "contour": [
           {
            "colorbar": {
             "outlinewidth": 0,
             "ticks": ""
            },
            "colorscale": [
             [
              0,
              "#0d0887"
             ],
             [
              0.1111111111111111,
              "#46039f"
             ],
             [
              0.2222222222222222,
              "#7201a8"
             ],
             [
              0.3333333333333333,
              "#9c179e"
             ],
             [
              0.4444444444444444,
              "#bd3786"
             ],
             [
              0.5555555555555556,
              "#d8576b"
             ],
             [
              0.6666666666666666,
              "#ed7953"
             ],
             [
              0.7777777777777778,
              "#fb9f3a"
             ],
             [
              0.8888888888888888,
              "#fdca26"
             ],
             [
              1,
              "#f0f921"
             ]
            ],
            "type": "contour"
           }
          ],
          "contourcarpet": [
           {
            "colorbar": {
             "outlinewidth": 0,
             "ticks": ""
            },
            "type": "contourcarpet"
           }
          ],
          "heatmap": [
           {
            "colorbar": {
             "outlinewidth": 0,
             "ticks": ""
            },
            "colorscale": [
             [
              0,
              "#0d0887"
             ],
             [
              0.1111111111111111,
              "#46039f"
             ],
             [
              0.2222222222222222,
              "#7201a8"
             ],
             [
              0.3333333333333333,
              "#9c179e"
             ],
             [
              0.4444444444444444,
              "#bd3786"
             ],
             [
              0.5555555555555556,
              "#d8576b"
             ],
             [
              0.6666666666666666,
              "#ed7953"
             ],
             [
              0.7777777777777778,
              "#fb9f3a"
             ],
             [
              0.8888888888888888,
              "#fdca26"
             ],
             [
              1,
              "#f0f921"
             ]
            ],
            "type": "heatmap"
           }
          ],
          "heatmapgl": [
           {
            "colorbar": {
             "outlinewidth": 0,
             "ticks": ""
            },
            "colorscale": [
             [
              0,
              "#0d0887"
             ],
             [
              0.1111111111111111,
              "#46039f"
             ],
             [
              0.2222222222222222,
              "#7201a8"
             ],
             [
              0.3333333333333333,
              "#9c179e"
             ],
             [
              0.4444444444444444,
              "#bd3786"
             ],
             [
              0.5555555555555556,
              "#d8576b"
             ],
             [
              0.6666666666666666,
              "#ed7953"
             ],
             [
              0.7777777777777778,
              "#fb9f3a"
             ],
             [
              0.8888888888888888,
              "#fdca26"
             ],
             [
              1,
              "#f0f921"
             ]
            ],
            "type": "heatmapgl"
           }
          ],
          "histogram": [
           {
            "marker": {
             "pattern": {
              "fillmode": "overlay",
              "size": 10,
              "solidity": 0.2
             }
            },
            "type": "histogram"
           }
          ],
          "histogram2d": [
           {
            "colorbar": {
             "outlinewidth": 0,
             "ticks": ""
            },
            "colorscale": [
             [
              0,
              "#0d0887"
             ],
             [
              0.1111111111111111,
              "#46039f"
             ],
             [
              0.2222222222222222,
              "#7201a8"
             ],
             [
              0.3333333333333333,
              "#9c179e"
             ],
             [
              0.4444444444444444,
              "#bd3786"
             ],
             [
              0.5555555555555556,
              "#d8576b"
             ],
             [
              0.6666666666666666,
              "#ed7953"
             ],
             [
              0.7777777777777778,
              "#fb9f3a"
             ],
             [
              0.8888888888888888,
              "#fdca26"
             ],
             [
              1,
              "#f0f921"
             ]
            ],
            "type": "histogram2d"
           }
          ],
          "histogram2dcontour": [
           {
            "colorbar": {
             "outlinewidth": 0,
             "ticks": ""
            },
            "colorscale": [
             [
              0,
              "#0d0887"
             ],
             [
              0.1111111111111111,
              "#46039f"
             ],
             [
              0.2222222222222222,
              "#7201a8"
             ],
             [
              0.3333333333333333,
              "#9c179e"
             ],
             [
              0.4444444444444444,
              "#bd3786"
             ],
             [
              0.5555555555555556,
              "#d8576b"
             ],
             [
              0.6666666666666666,
              "#ed7953"
             ],
             [
              0.7777777777777778,
              "#fb9f3a"
             ],
             [
              0.8888888888888888,
              "#fdca26"
             ],
             [
              1,
              "#f0f921"
             ]
            ],
            "type": "histogram2dcontour"
           }
          ],
          "mesh3d": [
           {
            "colorbar": {
             "outlinewidth": 0,
             "ticks": ""
            },
            "type": "mesh3d"
           }
          ],
          "parcoords": [
           {
            "line": {
             "colorbar": {
              "outlinewidth": 0,
              "ticks": ""
             }
            },
            "type": "parcoords"
           }
          ],
          "pie": [
           {
            "automargin": true,
            "type": "pie"
           }
          ],
          "scatter": [
           {
            "marker": {
             "colorbar": {
              "outlinewidth": 0,
              "ticks": ""
             }
            },
            "type": "scatter"
           }
          ],
          "scatter3d": [
           {
            "line": {
             "colorbar": {
              "outlinewidth": 0,
              "ticks": ""
             }
            },
            "marker": {
             "colorbar": {
              "outlinewidth": 0,
              "ticks": ""
             }
            },
            "type": "scatter3d"
           }
          ],
          "scattercarpet": [
           {
            "marker": {
             "colorbar": {
              "outlinewidth": 0,
              "ticks": ""
             }
            },
            "type": "scattercarpet"
           }
          ],
          "scattergeo": [
           {
            "marker": {
             "colorbar": {
              "outlinewidth": 0,
              "ticks": ""
             }
            },
            "type": "scattergeo"
           }
          ],
          "scattergl": [
           {
            "marker": {
             "colorbar": {
              "outlinewidth": 0,
              "ticks": ""
             }
            },
            "type": "scattergl"
           }
          ],
          "scattermapbox": [
           {
            "marker": {
             "colorbar": {
              "outlinewidth": 0,
              "ticks": ""
             }
            },
            "type": "scattermapbox"
           }
          ],
          "scatterpolar": [
           {
            "marker": {
             "colorbar": {
              "outlinewidth": 0,
              "ticks": ""
             }
            },
            "type": "scatterpolar"
           }
          ],
          "scatterpolargl": [
           {
            "marker": {
             "colorbar": {
              "outlinewidth": 0,
              "ticks": ""
             }
            },
            "type": "scatterpolargl"
           }
          ],
          "scatterternary": [
           {
            "marker": {
             "colorbar": {
              "outlinewidth": 0,
              "ticks": ""
             }
            },
            "type": "scatterternary"
           }
          ],
          "surface": [
           {
            "colorbar": {
             "outlinewidth": 0,
             "ticks": ""
            },
            "colorscale": [
             [
              0,
              "#0d0887"
             ],
             [
              0.1111111111111111,
              "#46039f"
             ],
             [
              0.2222222222222222,
              "#7201a8"
             ],
             [
              0.3333333333333333,
              "#9c179e"
             ],
             [
              0.4444444444444444,
              "#bd3786"
             ],
             [
              0.5555555555555556,
              "#d8576b"
             ],
             [
              0.6666666666666666,
              "#ed7953"
             ],
             [
              0.7777777777777778,
              "#fb9f3a"
             ],
             [
              0.8888888888888888,
              "#fdca26"
             ],
             [
              1,
              "#f0f921"
             ]
            ],
            "type": "surface"
           }
          ],
          "table": [
           {
            "cells": {
             "fill": {
              "color": "#EBF0F8"
             },
             "line": {
              "color": "white"
             }
            },
            "header": {
             "fill": {
              "color": "#C8D4E3"
             },
             "line": {
              "color": "white"
             }
            },
            "type": "table"
           }
          ]
         },
         "layout": {
          "annotationdefaults": {
           "arrowcolor": "#2a3f5f",
           "arrowhead": 0,
           "arrowwidth": 1
          },
          "autotypenumbers": "strict",
          "coloraxis": {
           "colorbar": {
            "outlinewidth": 0,
            "ticks": ""
           }
          },
          "colorscale": {
           "diverging": [
            [
             0,
             "#8e0152"
            ],
            [
             0.1,
             "#c51b7d"
            ],
            [
             0.2,
             "#de77ae"
            ],
            [
             0.3,
             "#f1b6da"
            ],
            [
             0.4,
             "#fde0ef"
            ],
            [
             0.5,
             "#f7f7f7"
            ],
            [
             0.6,
             "#e6f5d0"
            ],
            [
             0.7,
             "#b8e186"
            ],
            [
             0.8,
             "#7fbc41"
            ],
            [
             0.9,
             "#4d9221"
            ],
            [
             1,
             "#276419"
            ]
           ],
           "sequential": [
            [
             0,
             "#0d0887"
            ],
            [
             0.1111111111111111,
             "#46039f"
            ],
            [
             0.2222222222222222,
             "#7201a8"
            ],
            [
             0.3333333333333333,
             "#9c179e"
            ],
            [
             0.4444444444444444,
             "#bd3786"
            ],
            [
             0.5555555555555556,
             "#d8576b"
            ],
            [
             0.6666666666666666,
             "#ed7953"
            ],
            [
             0.7777777777777778,
             "#fb9f3a"
            ],
            [
             0.8888888888888888,
             "#fdca26"
            ],
            [
             1,
             "#f0f921"
            ]
           ],
           "sequentialminus": [
            [
             0,
             "#0d0887"
            ],
            [
             0.1111111111111111,
             "#46039f"
            ],
            [
             0.2222222222222222,
             "#7201a8"
            ],
            [
             0.3333333333333333,
             "#9c179e"
            ],
            [
             0.4444444444444444,
             "#bd3786"
            ],
            [
             0.5555555555555556,
             "#d8576b"
            ],
            [
             0.6666666666666666,
             "#ed7953"
            ],
            [
             0.7777777777777778,
             "#fb9f3a"
            ],
            [
             0.8888888888888888,
             "#fdca26"
            ],
            [
             1,
             "#f0f921"
            ]
           ]
          },
          "colorway": [
           "#636efa",
           "#EF553B",
           "#00cc96",
           "#ab63fa",
           "#FFA15A",
           "#19d3f3",
           "#FF6692",
           "#B6E880",
           "#FF97FF",
           "#FECB52"
          ],
          "font": {
           "color": "#2a3f5f"
          },
          "geo": {
           "bgcolor": "white",
           "lakecolor": "white",
           "landcolor": "#E5ECF6",
           "showlakes": true,
           "showland": true,
           "subunitcolor": "white"
          },
          "hoverlabel": {
           "align": "left"
          },
          "hovermode": "closest",
          "mapbox": {
           "style": "light"
          },
          "paper_bgcolor": "white",
          "plot_bgcolor": "#E5ECF6",
          "polar": {
           "angularaxis": {
            "gridcolor": "white",
            "linecolor": "white",
            "ticks": ""
           },
           "bgcolor": "#E5ECF6",
           "radialaxis": {
            "gridcolor": "white",
            "linecolor": "white",
            "ticks": ""
           }
          },
          "scene": {
           "xaxis": {
            "backgroundcolor": "#E5ECF6",
            "gridcolor": "white",
            "gridwidth": 2,
            "linecolor": "white",
            "showbackground": true,
            "ticks": "",
            "zerolinecolor": "white"
           },
           "yaxis": {
            "backgroundcolor": "#E5ECF6",
            "gridcolor": "white",
            "gridwidth": 2,
            "linecolor": "white",
            "showbackground": true,
            "ticks": "",
            "zerolinecolor": "white"
           },
           "zaxis": {
            "backgroundcolor": "#E5ECF6",
            "gridcolor": "white",
            "gridwidth": 2,
            "linecolor": "white",
            "showbackground": true,
            "ticks": "",
            "zerolinecolor": "white"
           }
          },
          "shapedefaults": {
           "line": {
            "color": "#2a3f5f"
           }
          },
          "ternary": {
           "aaxis": {
            "gridcolor": "white",
            "linecolor": "white",
            "ticks": ""
           },
           "baxis": {
            "gridcolor": "white",
            "linecolor": "white",
            "ticks": ""
           },
           "bgcolor": "#E5ECF6",
           "caxis": {
            "gridcolor": "white",
            "linecolor": "white",
            "ticks": ""
           }
          },
          "title": {
           "x": 0.05
          },
          "xaxis": {
           "automargin": true,
           "gridcolor": "white",
           "linecolor": "white",
           "ticks": "",
           "title": {
            "standoff": 15
           },
           "zerolinecolor": "white",
           "zerolinewidth": 2
          },
          "yaxis": {
           "automargin": true,
           "gridcolor": "white",
           "linecolor": "white",
           "ticks": "",
           "title": {
            "standoff": 15
           },
           "zerolinecolor": "white",
           "zerolinewidth": 2
          }
         }
        },
        "title": {
         "text": "Annual Emission of diffferent gases in pakistan"
        },
        "xaxis": {
         "anchor": "y",
         "domain": [
          0,
          1
         ],
         "title": {
          "text": "Year"
         }
        },
        "yaxis": {
         "anchor": "x",
         "domain": [
          0,
          1
         ],
         "title": {
          "text": "Value"
         }
        }
       }
      }
     },
     "metadata": {},
     "output_type": "display_data"
    }
   ],
   "source": [
    "import plotly.express as px\n",
    "df4= pd.read_csv(\"POL.csv\")\n",
    "fig = px.box(df4, x=\"Year\", y=\"Value\", color=\"Element\", notched=True ,title='Annual Emission of diffferent gases in pakistan')\n",
    "fig.show()"
   ]
  },
  {
   "cell_type": "code",
   "execution_count": 55,
   "metadata": {},
   "outputs": [
    {
     "data": {
      "application/vnd.plotly.v1+json": {
       "config": {
        "plotlyServerURL": "https://plot.ly"
       },
       "data": [
        {
         "hovertemplate": "Element=Emissions (CH4)<br>Year=%{x}<br>Value=%{y}<extra></extra>",
         "legendgroup": "Emissions (CH4)",
         "marker": {
          "color": "#636efa",
          "symbol": "circle"
         },
         "mode": "markers",
         "name": "Emissions (CH4)",
         "showlegend": true,
         "type": "scattergl",
         "x": [
          1972,
          1973,
          1974,
          1975,
          1976,
          1977,
          1978,
          1979,
          1980,
          1981,
          1982,
          1983,
          1984,
          1985,
          1986,
          1987,
          1988,
          1989,
          1990,
          1991,
          1992,
          1993,
          1994,
          1995,
          1996,
          1997,
          1998,
          1999,
          2000,
          2001,
          2002,
          2003,
          2004,
          2005,
          2006,
          2007,
          2008,
          2009,
          2010,
          2011,
          2012,
          2013,
          2014,
          2015,
          2016,
          2017,
          2018,
          2019,
          1970,
          1971,
          1972,
          1973,
          1974,
          1975,
          1976,
          1977,
          1978,
          1979,
          1980,
          1981,
          1982,
          1983,
          1984,
          1985,
          1986,
          1987,
          1988,
          1989,
          1990,
          1991,
          1992,
          1993,
          1994,
          1995,
          1996,
          1997,
          1998,
          1999,
          2000,
          2001,
          2002,
          2003,
          2004,
          2005,
          2006,
          2007,
          2008,
          2009,
          2010,
          2011,
          2012,
          2013,
          2014,
          2015,
          2016,
          2017,
          2018,
          2019,
          1970,
          1971,
          1972,
          1973,
          1974,
          1975,
          1976,
          1977,
          1978,
          1979,
          1980,
          1981,
          1982,
          1983,
          1984,
          1985,
          1986,
          1987,
          1988,
          1989,
          1990,
          1991,
          1992,
          1993,
          1994,
          1995,
          1996,
          1997,
          1998,
          1999,
          2000,
          2001,
          2002,
          2003,
          2004,
          2005,
          2006,
          2007,
          2008,
          2009,
          2010,
          2011,
          2012,
          2013,
          2014,
          2015,
          2016,
          2017,
          2018,
          2019,
          1971,
          1972,
          1973,
          1974,
          1975,
          1976,
          1977,
          1978,
          1979,
          1980,
          1981,
          1982,
          1983,
          1984,
          1985,
          1986,
          1987,
          1988,
          1989,
          1990,
          1991,
          1992,
          1993,
          1994,
          1995,
          1996,
          1997,
          1998,
          1999,
          2000,
          2001,
          2002,
          2003,
          2004,
          2005,
          2006,
          2007,
          2008,
          2009,
          2010,
          2011,
          2012,
          2013,
          2014,
          2015,
          2016,
          2017,
          2018,
          1972,
          1973,
          1974,
          1975,
          1976,
          1977,
          1978,
          1979,
          1980,
          1981,
          1982,
          1983,
          1984,
          1985,
          1986,
          1987,
          1988,
          1989,
          1990,
          1991,
          1992,
          1993,
          1994,
          1995,
          1996,
          1997,
          1998,
          1999,
          2000,
          2001,
          2002,
          2003,
          2004,
          2005,
          2006,
          2007,
          2008,
          2009,
          2010,
          2011,
          2012,
          2013,
          2014,
          2015,
          2016,
          2017,
          2018,
          2019,
          1972,
          1973,
          1974,
          1975,
          1976,
          1977,
          1978,
          1979,
          1980,
          1981,
          1982,
          1983,
          1984,
          1985,
          1986,
          1987,
          1988,
          1989,
          1990,
          1991,
          1992,
          1993,
          1994,
          1995,
          1996,
          1997,
          1998,
          1999,
          2000,
          2001,
          2002,
          2003,
          2004,
          2005,
          2006,
          2007,
          2008,
          2009,
          2010,
          2011,
          2012,
          2013,
          2014,
          2015,
          2016,
          2017,
          2018,
          2019,
          1970,
          1971,
          1972,
          1973,
          1974,
          1975,
          1976,
          1977,
          1978,
          1979,
          1980,
          1981,
          1982,
          1983,
          1984,
          1985,
          1986,
          1987,
          1988,
          1989,
          1990,
          1991,
          1992,
          1993,
          1994,
          1995,
          1996,
          1997,
          1998,
          1999,
          2000,
          2001,
          2002,
          2003,
          2004,
          2005,
          2006,
          2007,
          2008,
          2009,
          2010,
          2011,
          2012,
          2013,
          2014,
          2015,
          2016,
          2017,
          2018,
          2019
         ],
         "xaxis": "x",
         "y": [
          0.0507,
          0.0576,
          0.0423,
          0.0482,
          0.0444,
          0.0434,
          0.0471,
          0.0418,
          0.0446,
          0.0319,
          0.0221,
          0.0287,
          0.0309,
          0.0391,
          0.0434,
          0.0428,
          0.0589,
          0.0525,
          0.0512,
          0.0473,
          0.0503,
          0.0512,
          0.055,
          0.048,
          0.0446,
          0.048,
          0.0437,
          0.0444,
          0.0521,
          0.0451,
          0.0346,
          0.0325,
          0.0252,
          0.0146,
          0.0173,
          0.0194,
          0.0125,
          0.0104,
          0.0072,
          0.0041,
          0.0057,
          0.0084,
          0.0066,
          0.0027,
          0.0023,
          0.0027,
          0.0027,
          0.0019,
          0.005,
          0.0051,
          0.0033,
          0.0032,
          0.0031,
          0.0034,
          0.0035,
          0.0037,
          0.0043,
          0.0049,
          0.0064,
          0.007,
          0.0077,
          0.0083,
          0.009,
          0.0095,
          0.01,
          0.0106,
          0.0115,
          0.0121,
          0.0131,
          0.0134,
          0.0138,
          0.0143,
          0.0142,
          0.0138,
          0.0127,
          0.011,
          0.0092,
          0.0069,
          0.0051,
          0.0042,
          0.0042,
          0.0042,
          0.004,
          0.003,
          0.0026,
          0.0034,
          0.0043,
          0.0067,
          0.0072,
          0.0081,
          0.008,
          0.0058,
          0.002,
          0.0019,
          0.0019,
          0.0015,
          0.0011,
          0.0009,
          0.023,
          0.024,
          0.0195,
          0.0227,
          0.0266,
          0.0297,
          0.0337,
          0.0347,
          0.0367,
          0.0387,
          0.0426,
          0.048,
          0.0508,
          0.052,
          0.0503,
          0.0524,
          0.0542,
          0.055,
          0.0521,
          0.062,
          0.0577,
          0.0526,
          0.0407,
          0.0379,
          0.0364,
          0.0339,
          0.03,
          0.0264,
          0.0274,
          0.0277,
          0.0291,
          0.0305,
          0.0342,
          0.0378,
          0.0404,
          0.0437,
          0.0486,
          0.0554,
          0.0492,
          0.045,
          0.0395,
          0.0334,
          0.0248,
          0.0255,
          0.0312,
          0.0349,
          0.045,
          0.0483,
          0.0535,
          0.0579,
          0.0001,
          0.0001,
          0.0001,
          0.0001,
          0.0001,
          0.0002,
          0.0002,
          0.0002,
          0.0002,
          0.0003,
          0.0007,
          0.001,
          0.001,
          0.0015,
          0.0016,
          0.0015,
          0.0022,
          0.0029,
          0.0029,
          0.0028,
          0.0033,
          0.0029,
          0.0029,
          0.0028,
          0.0038,
          0.0045,
          0.0041,
          0.0045,
          0.0048,
          0.0053,
          0.007,
          0.0072,
          0.0078,
          0.0092,
          0.0128,
          0.0135,
          0.0127,
          0.0117,
          0.0116,
          0.0103,
          0.0101,
          0.0115,
          0.0105,
          0.011,
          0.0126,
          0.0078,
          0.0021,
          0.0018,
          0.0012,
          0.0009,
          0.0007,
          0.0004,
          0.0004,
          0.0003,
          0.0003,
          0.0003,
          0.0003,
          0.0003,
          0.0003,
          0.0003,
          0.0004,
          0.0003,
          0.0002,
          0,
          0,
          0,
          0.0014,
          0.0013,
          0.0012,
          0.0015,
          0.0016,
          0.0019,
          0.0024,
          0.0021,
          0.002,
          0.0021,
          0.0021,
          0.0016,
          0.0014,
          0.0012,
          0.0012,
          0.0009,
          0.0007,
          0.0006,
          0.0006,
          0.0005,
          0.0009,
          0.0009,
          0.0009,
          0.0006,
          0.0005,
          0.0016,
          0.0017,
          0.0013,
          0.0013,
          0.0015,
          1.1248,
          1.1167,
          1.0163,
          1.0782,
          0.9194,
          1.0512,
          1.1122,
          1.2181,
          1.3903,
          1.3867,
          1.5679,
          1.4136,
          1.6558,
          1.9778,
          1.9518,
          2.0088,
          2.4408,
          2.1849,
          2.5336,
          2.3815,
          2.3075,
          2.3262,
          2.6184,
          2.202,
          2.3724,
          2.1701,
          1.7851,
          1.8044,
          1.4962,
          1.3484,
          1.6304,
          2.233,
          2.7362,
          2.9846,
          3.1385,
          3.9957,
          2.6932,
          2.8725,
          2.5094,
          2.2122,
          1.6591,
          1.4741,
          1.3355,
          1.0482,
          1.0035,
          1.0819,
          0.981,
          0.9101,
          1.4015,
          1.4843,
          1.1963,
          1.4027,
          1.3559,
          1.8371,
          1.6739,
          1.6787,
          2.1119,
          2.1647,
          2.4803,
          2.5619,
          2.8427,
          3.0707,
          3.2075,
          3.3575,
          3.4798,
          4.165,
          5.2978,
          5.2546,
          6.0321,
          6.7437,
          7.0161,
          6.7617,
          6.9261,
          7.5009,
          8.0348,
          8.5028,
          8.324,
          6.7437,
          5.4478,
          5.9085,
          7.2189,
          8.0024,
          8.3852,
          9.5384,
          9.8108,
          10.1659,
          10.5535,
          11.6263,
          10.7647,
          10.2571,
          9.236,
          9.9475,
          9.6392,
          10.2307,
          11.0659,
          11.3587,
          11.813,
          12.2478
         ],
         "yaxis": "y"
        },
        {
         "hovertemplate": "<b>OLS trendline</b><br>Value = 0.03608 * Year + -70.7766<br>R<sup>2</sup>=0.038193<br><br>Element=Emissions (CH4)<br>Year=%{x}<br>Value=%{y} <b>(trend)</b><extra></extra>",
         "legendgroup": "Emissions (CH4)",
         "marker": {
          "color": "#636efa",
          "symbol": "circle"
         },
         "mode": "lines",
         "name": "Emissions (CH4)",
         "showlegend": false,
         "type": "scattergl",
         "x": [
          1970,
          1970,
          1970,
          1971,
          1971,
          1971,
          1971,
          1972,
          1972,
          1972,
          1972,
          1972,
          1972,
          1972,
          1973,
          1973,
          1973,
          1973,
          1973,
          1973,
          1973,
          1974,
          1974,
          1974,
          1974,
          1974,
          1974,
          1974,
          1975,
          1975,
          1975,
          1975,
          1975,
          1975,
          1975,
          1976,
          1976,
          1976,
          1976,
          1976,
          1976,
          1976,
          1977,
          1977,
          1977,
          1977,
          1977,
          1977,
          1977,
          1978,
          1978,
          1978,
          1978,
          1978,
          1978,
          1978,
          1979,
          1979,
          1979,
          1979,
          1979,
          1979,
          1979,
          1980,
          1980,
          1980,
          1980,
          1980,
          1980,
          1980,
          1981,
          1981,
          1981,
          1981,
          1981,
          1981,
          1981,
          1982,
          1982,
          1982,
          1982,
          1982,
          1982,
          1982,
          1983,
          1983,
          1983,
          1983,
          1983,
          1983,
          1983,
          1984,
          1984,
          1984,
          1984,
          1984,
          1984,
          1984,
          1985,
          1985,
          1985,
          1985,
          1985,
          1985,
          1985,
          1986,
          1986,
          1986,
          1986,
          1986,
          1986,
          1986,
          1987,
          1987,
          1987,
          1987,
          1987,
          1987,
          1987,
          1988,
          1988,
          1988,
          1988,
          1988,
          1988,
          1988,
          1989,
          1989,
          1989,
          1989,
          1989,
          1989,
          1989,
          1990,
          1990,
          1990,
          1990,
          1990,
          1990,
          1990,
          1991,
          1991,
          1991,
          1991,
          1991,
          1991,
          1991,
          1992,
          1992,
          1992,
          1992,
          1992,
          1992,
          1992,
          1993,
          1993,
          1993,
          1993,
          1993,
          1993,
          1993,
          1994,
          1994,
          1994,
          1994,
          1994,
          1994,
          1994,
          1995,
          1995,
          1995,
          1995,
          1995,
          1995,
          1995,
          1996,
          1996,
          1996,
          1996,
          1996,
          1996,
          1996,
          1997,
          1997,
          1997,
          1997,
          1997,
          1997,
          1997,
          1998,
          1998,
          1998,
          1998,
          1998,
          1998,
          1998,
          1999,
          1999,
          1999,
          1999,
          1999,
          1999,
          1999,
          2000,
          2000,
          2000,
          2000,
          2000,
          2000,
          2000,
          2001,
          2001,
          2001,
          2001,
          2001,
          2001,
          2001,
          2002,
          2002,
          2002,
          2002,
          2002,
          2002,
          2002,
          2003,
          2003,
          2003,
          2003,
          2003,
          2003,
          2003,
          2004,
          2004,
          2004,
          2004,
          2004,
          2004,
          2004,
          2005,
          2005,
          2005,
          2005,
          2005,
          2005,
          2005,
          2006,
          2006,
          2006,
          2006,
          2006,
          2006,
          2006,
          2007,
          2007,
          2007,
          2007,
          2007,
          2007,
          2007,
          2008,
          2008,
          2008,
          2008,
          2008,
          2008,
          2008,
          2009,
          2009,
          2009,
          2009,
          2009,
          2009,
          2009,
          2010,
          2010,
          2010,
          2010,
          2010,
          2010,
          2010,
          2011,
          2011,
          2011,
          2011,
          2011,
          2011,
          2011,
          2012,
          2012,
          2012,
          2012,
          2012,
          2012,
          2012,
          2013,
          2013,
          2013,
          2013,
          2013,
          2013,
          2013,
          2014,
          2014,
          2014,
          2014,
          2014,
          2014,
          2014,
          2015,
          2015,
          2015,
          2015,
          2015,
          2015,
          2015,
          2016,
          2016,
          2016,
          2016,
          2016,
          2016,
          2016,
          2017,
          2017,
          2017,
          2017,
          2017,
          2017,
          2017,
          2018,
          2018,
          2018,
          2018,
          2018,
          2018,
          2018,
          2019,
          2019,
          2019,
          2019,
          2019,
          2019
         ],
         "xaxis": "x",
         "y": [
          0.3009904662839631,
          0.3009904662839631,
          0.3009904662839631,
          0.3370704686928434,
          0.3370704686928434,
          0.3370704686928434,
          0.3370704686928434,
          0.3731504711017237,
          0.3731504711017237,
          0.3731504711017237,
          0.3731504711017237,
          0.3731504711017237,
          0.3731504711017237,
          0.3731504711017237,
          0.40923047351060404,
          0.40923047351060404,
          0.40923047351060404,
          0.40923047351060404,
          0.40923047351060404,
          0.40923047351060404,
          0.40923047351060404,
          0.44531047591948436,
          0.44531047591948436,
          0.44531047591948436,
          0.44531047591948436,
          0.44531047591948436,
          0.44531047591948436,
          0.44531047591948436,
          0.4813904783283647,
          0.4813904783283647,
          0.4813904783283647,
          0.4813904783283647,
          0.4813904783283647,
          0.4813904783283647,
          0.4813904783283647,
          0.517470480737245,
          0.517470480737245,
          0.517470480737245,
          0.517470480737245,
          0.517470480737245,
          0.517470480737245,
          0.517470480737245,
          0.5535504831461253,
          0.5535504831461253,
          0.5535504831461253,
          0.5535504831461253,
          0.5535504831461253,
          0.5535504831461253,
          0.5535504831461253,
          0.5896304855550056,
          0.5896304855550056,
          0.5896304855550056,
          0.5896304855550056,
          0.5896304855550056,
          0.5896304855550056,
          0.5896304855550056,
          0.6257104879638717,
          0.6257104879638717,
          0.6257104879638717,
          0.6257104879638717,
          0.6257104879638717,
          0.6257104879638717,
          0.6257104879638717,
          0.6617904903727521,
          0.6617904903727521,
          0.6617904903727521,
          0.6617904903727521,
          0.6617904903727521,
          0.6617904903727521,
          0.6617904903727521,
          0.6978704927816324,
          0.6978704927816324,
          0.6978704927816324,
          0.6978704927816324,
          0.6978704927816324,
          0.6978704927816324,
          0.6978704927816324,
          0.7339504951905127,
          0.7339504951905127,
          0.7339504951905127,
          0.7339504951905127,
          0.7339504951905127,
          0.7339504951905127,
          0.7339504951905127,
          0.770030497599393,
          0.770030497599393,
          0.770030497599393,
          0.770030497599393,
          0.770030497599393,
          0.770030497599393,
          0.770030497599393,
          0.8061105000082733,
          0.8061105000082733,
          0.8061105000082733,
          0.8061105000082733,
          0.8061105000082733,
          0.8061105000082733,
          0.8061105000082733,
          0.8421905024171537,
          0.8421905024171537,
          0.8421905024171537,
          0.8421905024171537,
          0.8421905024171537,
          0.8421905024171537,
          0.8421905024171537,
          0.878270504826034,
          0.878270504826034,
          0.878270504826034,
          0.878270504826034,
          0.878270504826034,
          0.878270504826034,
          0.878270504826034,
          0.9143505072349001,
          0.9143505072349001,
          0.9143505072349001,
          0.9143505072349001,
          0.9143505072349001,
          0.9143505072349001,
          0.9143505072349001,
          0.9504305096437804,
          0.9504305096437804,
          0.9504305096437804,
          0.9504305096437804,
          0.9504305096437804,
          0.9504305096437804,
          0.9504305096437804,
          0.9865105120526607,
          0.9865105120526607,
          0.9865105120526607,
          0.9865105120526607,
          0.9865105120526607,
          0.9865105120526607,
          0.9865105120526607,
          1.022590514461541,
          1.022590514461541,
          1.022590514461541,
          1.022590514461541,
          1.022590514461541,
          1.022590514461541,
          1.022590514461541,
          1.0586705168704214,
          1.0586705168704214,
          1.0586705168704214,
          1.0586705168704214,
          1.0586705168704214,
          1.0586705168704214,
          1.0586705168704214,
          1.0947505192793017,
          1.0947505192793017,
          1.0947505192793017,
          1.0947505192793017,
          1.0947505192793017,
          1.0947505192793017,
          1.0947505192793017,
          1.130830521688182,
          1.130830521688182,
          1.130830521688182,
          1.130830521688182,
          1.130830521688182,
          1.130830521688182,
          1.130830521688182,
          1.1669105240970623,
          1.1669105240970623,
          1.1669105240970623,
          1.1669105240970623,
          1.1669105240970623,
          1.1669105240970623,
          1.1669105240970623,
          1.2029905265059284,
          1.2029905265059284,
          1.2029905265059284,
          1.2029905265059284,
          1.2029905265059284,
          1.2029905265059284,
          1.2029905265059284,
          1.2390705289148087,
          1.2390705289148087,
          1.2390705289148087,
          1.2390705289148087,
          1.2390705289148087,
          1.2390705289148087,
          1.2390705289148087,
          1.275150531323689,
          1.275150531323689,
          1.275150531323689,
          1.275150531323689,
          1.275150531323689,
          1.275150531323689,
          1.275150531323689,
          1.3112305337325694,
          1.3112305337325694,
          1.3112305337325694,
          1.3112305337325694,
          1.3112305337325694,
          1.3112305337325694,
          1.3112305337325694,
          1.3473105361414497,
          1.3473105361414497,
          1.3473105361414497,
          1.3473105361414497,
          1.3473105361414497,
          1.3473105361414497,
          1.3473105361414497,
          1.38339053855033,
          1.38339053855033,
          1.38339053855033,
          1.38339053855033,
          1.38339053855033,
          1.38339053855033,
          1.38339053855033,
          1.4194705409592103,
          1.4194705409592103,
          1.4194705409592103,
          1.4194705409592103,
          1.4194705409592103,
          1.4194705409592103,
          1.4194705409592103,
          1.4555505433680906,
          1.4555505433680906,
          1.4555505433680906,
          1.4555505433680906,
          1.4555505433680906,
          1.4555505433680906,
          1.4555505433680906,
          1.4916305457769568,
          1.4916305457769568,
          1.4916305457769568,
          1.4916305457769568,
          1.4916305457769568,
          1.4916305457769568,
          1.4916305457769568,
          1.527710548185837,
          1.527710548185837,
          1.527710548185837,
          1.527710548185837,
          1.527710548185837,
          1.527710548185837,
          1.527710548185837,
          1.5637905505947174,
          1.5637905505947174,
          1.5637905505947174,
          1.5637905505947174,
          1.5637905505947174,
          1.5637905505947174,
          1.5637905505947174,
          1.5998705530035977,
          1.5998705530035977,
          1.5998705530035977,
          1.5998705530035977,
          1.5998705530035977,
          1.5998705530035977,
          1.5998705530035977,
          1.635950555412478,
          1.635950555412478,
          1.635950555412478,
          1.635950555412478,
          1.635950555412478,
          1.635950555412478,
          1.635950555412478,
          1.6720305578213583,
          1.6720305578213583,
          1.6720305578213583,
          1.6720305578213583,
          1.6720305578213583,
          1.6720305578213583,
          1.6720305578213583,
          1.7081105602302387,
          1.7081105602302387,
          1.7081105602302387,
          1.7081105602302387,
          1.7081105602302387,
          1.7081105602302387,
          1.7081105602302387,
          1.744190562639119,
          1.744190562639119,
          1.744190562639119,
          1.744190562639119,
          1.744190562639119,
          1.744190562639119,
          1.744190562639119,
          1.780270565047985,
          1.780270565047985,
          1.780270565047985,
          1.780270565047985,
          1.780270565047985,
          1.780270565047985,
          1.780270565047985,
          1.8163505674568654,
          1.8163505674568654,
          1.8163505674568654,
          1.8163505674568654,
          1.8163505674568654,
          1.8163505674568654,
          1.8163505674568654,
          1.8524305698657457,
          1.8524305698657457,
          1.8524305698657457,
          1.8524305698657457,
          1.8524305698657457,
          1.8524305698657457,
          1.8524305698657457,
          1.888510572274626,
          1.888510572274626,
          1.888510572274626,
          1.888510572274626,
          1.888510572274626,
          1.888510572274626,
          1.888510572274626,
          1.9245905746835064,
          1.9245905746835064,
          1.9245905746835064,
          1.9245905746835064,
          1.9245905746835064,
          1.9245905746835064,
          1.9245905746835064,
          1.9606705770923867,
          1.9606705770923867,
          1.9606705770923867,
          1.9606705770923867,
          1.9606705770923867,
          1.9606705770923867,
          1.9606705770923867,
          1.996750579501267,
          1.996750579501267,
          1.996750579501267,
          1.996750579501267,
          1.996750579501267,
          1.996750579501267,
          1.996750579501267,
          2.0328305819101473,
          2.0328305819101473,
          2.0328305819101473,
          2.0328305819101473,
          2.0328305819101473,
          2.0328305819101473,
          2.0328305819101473,
          2.0689105843190276,
          2.0689105843190276,
          2.0689105843190276,
          2.0689105843190276,
          2.0689105843190276,
          2.0689105843190276
         ],
         "yaxis": "y"
        },
        {
         "hovertemplate": "Element=Emissions (N2O)<br>Year=%{x}<br>Value=%{y}<extra></extra>",
         "legendgroup": "Emissions (N2O)",
         "marker": {
          "color": "#EF553B",
          "symbol": "circle"
         },
         "mode": "markers",
         "name": "Emissions (N2O)",
         "showlegend": true,
         "type": "scattergl",
         "x": [
          1972,
          1973,
          1974,
          1975,
          1976,
          1977,
          1978,
          1979,
          1980,
          1981,
          1982,
          1983,
          1984,
          1985,
          1986,
          1987,
          1988,
          1989,
          1990,
          1991,
          1992,
          1993,
          1994,
          1995,
          1996,
          1997,
          1998,
          1999,
          2000,
          2001,
          2002,
          2003,
          2004,
          2005,
          2006,
          2007,
          2008,
          2009,
          2010,
          2011,
          2012,
          2013,
          2014,
          2015,
          2016,
          2017,
          2018,
          2019,
          1970,
          1971,
          1972,
          1973,
          1974,
          1975,
          1976,
          1977,
          1978,
          1979,
          1980,
          1981,
          1982,
          1983,
          1984,
          1985,
          1986,
          1987,
          1988,
          1989,
          1990,
          1991,
          1992,
          1993,
          1994,
          1995,
          1996,
          1997,
          1998,
          1999,
          2000,
          2001,
          2002,
          2003,
          2004,
          2005,
          2006,
          2007,
          2008,
          2009,
          2010,
          2011,
          2012,
          2013,
          2014,
          2015,
          2016,
          2017,
          2018,
          2019,
          1970,
          1971,
          1972,
          1973,
          1974,
          1975,
          1976,
          1977,
          1978,
          1979,
          1980,
          1981,
          1982,
          1983,
          1984,
          1985,
          1986,
          1987,
          1988,
          1989,
          1990,
          1991,
          1992,
          1993,
          1994,
          1995,
          1996,
          1997,
          1998,
          1999,
          2000,
          2001,
          2002,
          2003,
          2004,
          2005,
          2006,
          2007,
          2008,
          2009,
          2010,
          2011,
          2012,
          2013,
          2014,
          2015,
          2016,
          2017,
          2018,
          2019,
          1971,
          1972,
          1973,
          1974,
          1975,
          1976,
          1977,
          1978,
          1979,
          1980,
          1981,
          1982,
          1983,
          1984,
          1985,
          1986,
          1987,
          1988,
          1989,
          1990,
          1991,
          1992,
          1993,
          1994,
          1995,
          1996,
          1997,
          1998,
          1999,
          2000,
          2001,
          2002,
          2003,
          2004,
          2005,
          2006,
          2007,
          2008,
          2009,
          2010,
          2011,
          2012,
          2013,
          2014,
          2015,
          2016,
          2017,
          2018,
          1972,
          1973,
          1974,
          1975,
          1976,
          1977,
          1978,
          1979,
          1980,
          1981,
          1982,
          1983,
          1984,
          1985,
          1986,
          1987,
          1988,
          1989,
          1990,
          1991,
          1992,
          1993,
          1994,
          1995,
          1996,
          1997,
          1998,
          1999,
          2000,
          2001,
          2002,
          2003,
          2004,
          2005,
          2006,
          2007,
          2008,
          2009,
          2010,
          2011,
          2012,
          2013,
          2014,
          2015,
          2016,
          2017,
          2018,
          2019,
          1972,
          1973,
          1974,
          1975,
          1976,
          1977,
          1978,
          1979,
          1980,
          1981,
          1982,
          1983,
          1984,
          1985,
          1986,
          1987,
          1988,
          1989,
          1990,
          1991,
          1992,
          1993,
          1994,
          1995,
          1996,
          1997,
          1998,
          1999,
          2000,
          2001,
          2002,
          2003,
          2004,
          2005,
          2006,
          2007,
          2008,
          2009,
          2010,
          2011,
          2012,
          2013,
          2014,
          2015,
          2016,
          2017,
          2018,
          2019,
          1970,
          1971,
          1972,
          1973,
          1974,
          1975,
          1976,
          1977,
          1978,
          1979,
          1980,
          1981,
          1982,
          1983,
          1984,
          1985,
          1986,
          1987,
          1988,
          1989,
          1990,
          1991,
          1992,
          1993,
          1994,
          1995,
          1996,
          1997,
          1998,
          1999,
          2000,
          2001,
          2002,
          2003,
          2004,
          2005,
          2006,
          2007,
          2008,
          2009,
          2010,
          2011,
          2012,
          2013,
          2014,
          2015,
          2016,
          2017,
          2018,
          2019
         ],
         "xaxis": "x2",
         "y": [
          0.3493,
          0.3972,
          0.2915,
          0.332,
          0.3062,
          0.2988,
          0.3247,
          0.2878,
          0.3075,
          0.2201,
          0.1525,
          0.198,
          0.2128,
          0.2693,
          0.2988,
          0.2952,
          0.4058,
          0.3616,
          0.353,
          0.3259,
          0.3468,
          0.353,
          0.3788,
          0.3308,
          0.3075,
          0.3308,
          0.3013,
          0.3062,
          0.3591,
          0.3111,
          0.2386,
          0.2236,
          0.1734,
          0.1006,
          0.1195,
          0.1339,
          0.0858,
          0.0714,
          0.0499,
          0.0283,
          0.0394,
          0.0578,
          0.0455,
          0.0184,
          0.016,
          0.0184,
          0.0184,
          0.013,
          0.0001,
          0.0001,
          0.0001,
          0.0001,
          0.0001,
          0.0001,
          0.0001,
          0.0001,
          0.0001,
          0.0001,
          0.0002,
          0.0002,
          0.0002,
          0.0002,
          0.0002,
          0.0002,
          0.0002,
          0.0003,
          0.0003,
          0.0003,
          0.0003,
          0.0003,
          0.0003,
          0.0004,
          0.0004,
          0.0003,
          0.0003,
          0.0003,
          0.0002,
          0.0002,
          0.0001,
          0.0001,
          0.0001,
          0.0001,
          0.0001,
          0.0001,
          0.0001,
          0.0001,
          0.0001,
          0.0002,
          0.0002,
          0.0002,
          0.0002,
          0.0001,
          0,
          0,
          0,
          0,
          0,
          0,
          0.0005,
          0.0005,
          0.0004,
          0.0005,
          0.0005,
          0.0006,
          0.0007,
          0.0007,
          0.0007,
          0.0008,
          0.0009,
          0.001,
          0.001,
          0.001,
          0.001,
          0.001,
          0.0011,
          0.0011,
          0.001,
          0.0012,
          0.0012,
          0.0011,
          0.0008,
          0.0008,
          0.0007,
          0.0007,
          0.0006,
          0.0005,
          0.0005,
          0.0006,
          0.0006,
          0.0006,
          0.0007,
          0.0008,
          0.0008,
          0.0009,
          0.001,
          0.0011,
          0.001,
          0.0009,
          0.0008,
          0.0007,
          0.0005,
          0.0005,
          0.0006,
          0.0007,
          0.0009,
          0.001,
          0.0011,
          0.0012,
          0,
          0,
          0,
          0,
          0,
          0,
          0,
          0,
          0,
          0,
          0,
          0,
          0,
          0,
          0,
          0,
          0,
          0.0001,
          0.0001,
          0.0001,
          0.0001,
          0.0001,
          0.0001,
          0.0001,
          0.0001,
          0.0001,
          0.0001,
          0.0001,
          0.0001,
          0.0001,
          0.0001,
          0.0001,
          0.0002,
          0.0002,
          0.0003,
          0.0003,
          0.0003,
          0.0002,
          0.0002,
          0.0002,
          0.0002,
          0.0002,
          0.0002,
          0.0002,
          0.0003,
          0.0002,
          0,
          0,
          0.0001,
          0.0001,
          0,
          0,
          0,
          0,
          0,
          0,
          0,
          0,
          0,
          0,
          0,
          0,
          0,
          0,
          0,
          0,
          0.0001,
          0.0001,
          0.0001,
          0.0001,
          0.0001,
          0.0001,
          0.0001,
          0.0001,
          0.0001,
          0.0001,
          0.0001,
          0.0001,
          0.0001,
          0.0001,
          0.0001,
          0.0001,
          0,
          0,
          0,
          0,
          0.0001,
          0.0001,
          0.0001,
          0,
          0,
          0.0001,
          0.0001,
          0.0001,
          0.0001,
          0.0001,
          0.0056,
          0.0056,
          0.0051,
          0.0054,
          0.0046,
          0.0053,
          0.0056,
          0.0061,
          0.007,
          0.0069,
          0.0078,
          0.0071,
          0.0083,
          0.0099,
          0.0098,
          0.01,
          0.0122,
          0.0109,
          0.0127,
          0.0119,
          0.0115,
          0.0116,
          0.0131,
          0.011,
          0.0119,
          0.0109,
          0.0089,
          0.009,
          0.0075,
          0.0067,
          0.0082,
          0.0112,
          0.0137,
          0.0149,
          0.0157,
          0.02,
          0.0135,
          0.0144,
          0.0125,
          0.0111,
          0.0083,
          0.0074,
          0.0067,
          0.0052,
          0.005,
          0.0054,
          0.0049,
          0.0046,
          0.0075,
          0.0079,
          0.0064,
          0.0075,
          0.0072,
          0.0098,
          0.0089,
          0.009,
          0.0113,
          0.0116,
          0.0132,
          0.0137,
          0.0152,
          0.0164,
          0.0171,
          0.0179,
          0.0186,
          0.0222,
          0.0283,
          0.0281,
          0.0322,
          0.036,
          0.0375,
          0.0361,
          0.037,
          0.0401,
          0.0429,
          0.0454,
          0.0444,
          0.036,
          0.0291,
          0.0316,
          0.0385,
          0.0427,
          0.0448,
          0.0509,
          0.0524,
          0.0543,
          0.0564,
          0.0621,
          0.0575,
          0.0548,
          0.0493,
          0.0531,
          0.0515,
          0.0547,
          0.0591,
          0.0607,
          0.0631,
          0.0654
         ],
         "yaxis": "y2"
        },
        {
         "hovertemplate": "<b>OLS trendline</b><br>Value = -0.000670913 * Year + 1.37632<br>R<sup>2</sup>=0.011052<br><br>Element=Emissions (N2O)<br>Year=%{x}<br>Value=%{y} <b>(trend)</b><extra></extra>",
         "legendgroup": "Emissions (N2O)",
         "marker": {
          "color": "#EF553B",
          "symbol": "circle"
         },
         "mode": "lines",
         "name": "Emissions (N2O)",
         "showlegend": false,
         "type": "scattergl",
         "x": [
          1970,
          1970,
          1970,
          1971,
          1971,
          1971,
          1971,
          1972,
          1972,
          1972,
          1972,
          1972,
          1972,
          1972,
          1973,
          1973,
          1973,
          1973,
          1973,
          1973,
          1973,
          1974,
          1974,
          1974,
          1974,
          1974,
          1974,
          1974,
          1975,
          1975,
          1975,
          1975,
          1975,
          1975,
          1975,
          1976,
          1976,
          1976,
          1976,
          1976,
          1976,
          1976,
          1977,
          1977,
          1977,
          1977,
          1977,
          1977,
          1977,
          1978,
          1978,
          1978,
          1978,
          1978,
          1978,
          1978,
          1979,
          1979,
          1979,
          1979,
          1979,
          1979,
          1979,
          1980,
          1980,
          1980,
          1980,
          1980,
          1980,
          1980,
          1981,
          1981,
          1981,
          1981,
          1981,
          1981,
          1981,
          1982,
          1982,
          1982,
          1982,
          1982,
          1982,
          1982,
          1983,
          1983,
          1983,
          1983,
          1983,
          1983,
          1983,
          1984,
          1984,
          1984,
          1984,
          1984,
          1984,
          1984,
          1985,
          1985,
          1985,
          1985,
          1985,
          1985,
          1985,
          1986,
          1986,
          1986,
          1986,
          1986,
          1986,
          1986,
          1987,
          1987,
          1987,
          1987,
          1987,
          1987,
          1987,
          1988,
          1988,
          1988,
          1988,
          1988,
          1988,
          1988,
          1989,
          1989,
          1989,
          1989,
          1989,
          1989,
          1989,
          1990,
          1990,
          1990,
          1990,
          1990,
          1990,
          1990,
          1991,
          1991,
          1991,
          1991,
          1991,
          1991,
          1991,
          1992,
          1992,
          1992,
          1992,
          1992,
          1992,
          1992,
          1993,
          1993,
          1993,
          1993,
          1993,
          1993,
          1993,
          1994,
          1994,
          1994,
          1994,
          1994,
          1994,
          1994,
          1995,
          1995,
          1995,
          1995,
          1995,
          1995,
          1995,
          1996,
          1996,
          1996,
          1996,
          1996,
          1996,
          1996,
          1997,
          1997,
          1997,
          1997,
          1997,
          1997,
          1997,
          1998,
          1998,
          1998,
          1998,
          1998,
          1998,
          1998,
          1999,
          1999,
          1999,
          1999,
          1999,
          1999,
          1999,
          2000,
          2000,
          2000,
          2000,
          2000,
          2000,
          2000,
          2001,
          2001,
          2001,
          2001,
          2001,
          2001,
          2001,
          2002,
          2002,
          2002,
          2002,
          2002,
          2002,
          2002,
          2003,
          2003,
          2003,
          2003,
          2003,
          2003,
          2003,
          2004,
          2004,
          2004,
          2004,
          2004,
          2004,
          2004,
          2005,
          2005,
          2005,
          2005,
          2005,
          2005,
          2005,
          2006,
          2006,
          2006,
          2006,
          2006,
          2006,
          2006,
          2007,
          2007,
          2007,
          2007,
          2007,
          2007,
          2007,
          2008,
          2008,
          2008,
          2008,
          2008,
          2008,
          2008,
          2009,
          2009,
          2009,
          2009,
          2009,
          2009,
          2009,
          2010,
          2010,
          2010,
          2010,
          2010,
          2010,
          2010,
          2011,
          2011,
          2011,
          2011,
          2011,
          2011,
          2011,
          2012,
          2012,
          2012,
          2012,
          2012,
          2012,
          2012,
          2013,
          2013,
          2013,
          2013,
          2013,
          2013,
          2013,
          2014,
          2014,
          2014,
          2014,
          2014,
          2014,
          2014,
          2015,
          2015,
          2015,
          2015,
          2015,
          2015,
          2015,
          2016,
          2016,
          2016,
          2016,
          2016,
          2016,
          2016,
          2017,
          2017,
          2017,
          2017,
          2017,
          2017,
          2017,
          2018,
          2018,
          2018,
          2018,
          2018,
          2018,
          2018,
          2019,
          2019,
          2019,
          2019,
          2019,
          2019
         ],
         "xaxis": "x2",
         "y": [
          0.054616933815846425,
          0.054616933815846425,
          0.054616933815846425,
          0.0539460208315663,
          0.0539460208315663,
          0.0539460208315663,
          0.0539460208315663,
          0.053275107847286174,
          0.053275107847286174,
          0.053275107847286174,
          0.053275107847286174,
          0.053275107847286174,
          0.053275107847286174,
          0.053275107847286174,
          0.05260419486300605,
          0.05260419486300605,
          0.05260419486300605,
          0.05260419486300605,
          0.05260419486300605,
          0.05260419486300605,
          0.05260419486300605,
          0.05193328187872592,
          0.05193328187872592,
          0.05193328187872592,
          0.05193328187872592,
          0.05193328187872592,
          0.05193328187872592,
          0.05193328187872592,
          0.0512623688944458,
          0.0512623688944458,
          0.0512623688944458,
          0.0512623688944458,
          0.0512623688944458,
          0.0512623688944458,
          0.0512623688944458,
          0.05059145591016567,
          0.05059145591016567,
          0.05059145591016567,
          0.05059145591016567,
          0.05059145591016567,
          0.05059145591016567,
          0.05059145591016567,
          0.04992054292588555,
          0.04992054292588555,
          0.04992054292588555,
          0.04992054292588555,
          0.04992054292588555,
          0.04992054292588555,
          0.04992054292588555,
          0.04924962994160542,
          0.04924962994160542,
          0.04924962994160542,
          0.04924962994160542,
          0.04924962994160542,
          0.04924962994160542,
          0.04924962994160542,
          0.048578716957325296,
          0.048578716957325296,
          0.048578716957325296,
          0.048578716957325296,
          0.048578716957325296,
          0.048578716957325296,
          0.048578716957325296,
          0.04790780397304495,
          0.04790780397304495,
          0.04790780397304495,
          0.04790780397304495,
          0.04790780397304495,
          0.04790780397304495,
          0.04790780397304495,
          0.047236890988764824,
          0.047236890988764824,
          0.047236890988764824,
          0.047236890988764824,
          0.047236890988764824,
          0.047236890988764824,
          0.047236890988764824,
          0.0465659780044847,
          0.0465659780044847,
          0.0465659780044847,
          0.0465659780044847,
          0.0465659780044847,
          0.0465659780044847,
          0.0465659780044847,
          0.04589506502020457,
          0.04589506502020457,
          0.04589506502020457,
          0.04589506502020457,
          0.04589506502020457,
          0.04589506502020457,
          0.04589506502020457,
          0.04522415203592445,
          0.04522415203592445,
          0.04522415203592445,
          0.04522415203592445,
          0.04522415203592445,
          0.04522415203592445,
          0.04522415203592445,
          0.04455323905164432,
          0.04455323905164432,
          0.04455323905164432,
          0.04455323905164432,
          0.04455323905164432,
          0.04455323905164432,
          0.04455323905164432,
          0.0438823260673642,
          0.0438823260673642,
          0.0438823260673642,
          0.0438823260673642,
          0.0438823260673642,
          0.0438823260673642,
          0.0438823260673642,
          0.04321141308308407,
          0.04321141308308407,
          0.04321141308308407,
          0.04321141308308407,
          0.04321141308308407,
          0.04321141308308407,
          0.04321141308308407,
          0.042540500098803946,
          0.042540500098803946,
          0.042540500098803946,
          0.042540500098803946,
          0.042540500098803946,
          0.042540500098803946,
          0.042540500098803946,
          0.04186958711452382,
          0.04186958711452382,
          0.04186958711452382,
          0.04186958711452382,
          0.04186958711452382,
          0.04186958711452382,
          0.04186958711452382,
          0.041198674130243695,
          0.041198674130243695,
          0.041198674130243695,
          0.041198674130243695,
          0.041198674130243695,
          0.041198674130243695,
          0.041198674130243695,
          0.04052776114596357,
          0.04052776114596357,
          0.04052776114596357,
          0.04052776114596357,
          0.04052776114596357,
          0.04052776114596357,
          0.04052776114596357,
          0.039856848161683445,
          0.039856848161683445,
          0.039856848161683445,
          0.039856848161683445,
          0.039856848161683445,
          0.039856848161683445,
          0.039856848161683445,
          0.03918593517740332,
          0.03918593517740332,
          0.03918593517740332,
          0.03918593517740332,
          0.03918593517740332,
          0.03918593517740332,
          0.03918593517740332,
          0.038515022193123194,
          0.038515022193123194,
          0.038515022193123194,
          0.038515022193123194,
          0.038515022193123194,
          0.038515022193123194,
          0.038515022193123194,
          0.03784410920884285,
          0.03784410920884285,
          0.03784410920884285,
          0.03784410920884285,
          0.03784410920884285,
          0.03784410920884285,
          0.03784410920884285,
          0.03717319622456272,
          0.03717319622456272,
          0.03717319622456272,
          0.03717319622456272,
          0.03717319622456272,
          0.03717319622456272,
          0.03717319622456272,
          0.036502283240282596,
          0.036502283240282596,
          0.036502283240282596,
          0.036502283240282596,
          0.036502283240282596,
          0.036502283240282596,
          0.036502283240282596,
          0.03583137025600247,
          0.03583137025600247,
          0.03583137025600247,
          0.03583137025600247,
          0.03583137025600247,
          0.03583137025600247,
          0.03583137025600247,
          0.035160457271722345,
          0.035160457271722345,
          0.035160457271722345,
          0.035160457271722345,
          0.035160457271722345,
          0.035160457271722345,
          0.035160457271722345,
          0.03448954428744222,
          0.03448954428744222,
          0.03448954428744222,
          0.03448954428744222,
          0.03448954428744222,
          0.03448954428744222,
          0.03448954428744222,
          0.033818631303162094,
          0.033818631303162094,
          0.033818631303162094,
          0.033818631303162094,
          0.033818631303162094,
          0.033818631303162094,
          0.033818631303162094,
          0.03314771831888197,
          0.03314771831888197,
          0.03314771831888197,
          0.03314771831888197,
          0.03314771831888197,
          0.03314771831888197,
          0.03314771831888197,
          0.032476805334601844,
          0.032476805334601844,
          0.032476805334601844,
          0.032476805334601844,
          0.032476805334601844,
          0.032476805334601844,
          0.032476805334601844,
          0.03180589235032172,
          0.03180589235032172,
          0.03180589235032172,
          0.03180589235032172,
          0.03180589235032172,
          0.03180589235032172,
          0.03180589235032172,
          0.031134979366041593,
          0.031134979366041593,
          0.031134979366041593,
          0.031134979366041593,
          0.031134979366041593,
          0.031134979366041593,
          0.031134979366041593,
          0.030464066381761468,
          0.030464066381761468,
          0.030464066381761468,
          0.030464066381761468,
          0.030464066381761468,
          0.030464066381761468,
          0.030464066381761468,
          0.029793153397481342,
          0.029793153397481342,
          0.029793153397481342,
          0.029793153397481342,
          0.029793153397481342,
          0.029793153397481342,
          0.029793153397481342,
          0.029122240413201217,
          0.029122240413201217,
          0.029122240413201217,
          0.029122240413201217,
          0.029122240413201217,
          0.029122240413201217,
          0.029122240413201217,
          0.02845132742892109,
          0.02845132742892109,
          0.02845132742892109,
          0.02845132742892109,
          0.02845132742892109,
          0.02845132742892109,
          0.02845132742892109,
          0.027780414444640966,
          0.027780414444640966,
          0.027780414444640966,
          0.027780414444640966,
          0.027780414444640966,
          0.027780414444640966,
          0.027780414444640966,
          0.02710950146036062,
          0.02710950146036062,
          0.02710950146036062,
          0.02710950146036062,
          0.02710950146036062,
          0.02710950146036062,
          0.02710950146036062,
          0.026438588476080493,
          0.026438588476080493,
          0.026438588476080493,
          0.026438588476080493,
          0.026438588476080493,
          0.026438588476080493,
          0.026438588476080493,
          0.025767675491800368,
          0.025767675491800368,
          0.025767675491800368,
          0.025767675491800368,
          0.025767675491800368,
          0.025767675491800368,
          0.025767675491800368,
          0.025096762507520243,
          0.025096762507520243,
          0.025096762507520243,
          0.025096762507520243,
          0.025096762507520243,
          0.025096762507520243,
          0.025096762507520243,
          0.024425849523240117,
          0.024425849523240117,
          0.024425849523240117,
          0.024425849523240117,
          0.024425849523240117,
          0.024425849523240117,
          0.024425849523240117,
          0.023754936538959992,
          0.023754936538959992,
          0.023754936538959992,
          0.023754936538959992,
          0.023754936538959992,
          0.023754936538959992,
          0.023754936538959992,
          0.023084023554679867,
          0.023084023554679867,
          0.023084023554679867,
          0.023084023554679867,
          0.023084023554679867,
          0.023084023554679867,
          0.023084023554679867,
          0.02241311057039974,
          0.02241311057039974,
          0.02241311057039974,
          0.02241311057039974,
          0.02241311057039974,
          0.02241311057039974,
          0.02241311057039974,
          0.021742197586119616,
          0.021742197586119616,
          0.021742197586119616,
          0.021742197586119616,
          0.021742197586119616,
          0.021742197586119616
         ],
         "yaxis": "y2"
        },
        {
         "hovertemplate": "Element=Emissions (CO2)<br>Year=%{x}<br>Value=%{y}<extra></extra>",
         "legendgroup": "Emissions (CO2)",
         "marker": {
          "color": "#00cc96",
          "symbol": "circle"
         },
         "mode": "markers",
         "name": "Emissions (CO2)",
         "showlegend": true,
         "type": "scattergl",
         "x": [
          1972,
          1973,
          1974,
          1975,
          1976,
          1977,
          1978,
          1979,
          1980,
          1981,
          1982,
          1983,
          1984,
          1985,
          1986,
          1987,
          1988,
          1989,
          1990,
          1991,
          1992,
          1993,
          1994,
          1995,
          1996,
          1997,
          1998,
          1999,
          2000,
          2001,
          2002,
          2003,
          2004,
          2005,
          2006,
          2007,
          2008,
          2009,
          2010,
          2011,
          2012,
          2013,
          2014,
          2015,
          2016,
          2017,
          2018,
          2019,
          1970,
          1971,
          1972,
          1973,
          1974,
          1975,
          1976,
          1977,
          1978,
          1979,
          1980,
          1981,
          1982,
          1983,
          1984,
          1985,
          1986,
          1987,
          1988,
          1989,
          1990,
          1991,
          1992,
          1993,
          1994,
          1995,
          1996,
          1997,
          1998,
          1999,
          2000,
          2001,
          2002,
          2003,
          2004,
          2005,
          2006,
          2007,
          2008,
          2009,
          2010,
          2011,
          2012,
          2013,
          2014,
          2015,
          2016,
          2017,
          2018,
          2019,
          1970,
          1971,
          1972,
          1973,
          1974,
          1975,
          1976,
          1977,
          1978,
          1979,
          1980,
          1981,
          1982,
          1983,
          1984,
          1985,
          1986,
          1987,
          1988,
          1989,
          1990,
          1991,
          1992,
          1993,
          1994,
          1995,
          1996,
          1997,
          1998,
          1999,
          2000,
          2001,
          2002,
          2003,
          2004,
          2005,
          2006,
          2007,
          2008,
          2009,
          2010,
          2011,
          2012,
          2013,
          2014,
          2015,
          2016,
          2017,
          2018,
          2019,
          1971,
          1972,
          1973,
          1974,
          1975,
          1976,
          1977,
          1978,
          1979,
          1980,
          1981,
          1982,
          1983,
          1984,
          1985,
          1986,
          1987,
          1988,
          1989,
          1990,
          1991,
          1992,
          1993,
          1994,
          1995,
          1996,
          1997,
          1998,
          1999,
          2000,
          2001,
          2002,
          2003,
          2004,
          2005,
          2006,
          2007,
          2008,
          2009,
          2010,
          2011,
          2012,
          2013,
          2014,
          2015,
          2016,
          2017,
          2018,
          1972,
          1973,
          1974,
          1975,
          1976,
          1977,
          1978,
          1979,
          1980,
          1981,
          1982,
          1983,
          1984,
          1985,
          1986,
          1987,
          1988,
          1989,
          1990,
          1991,
          1992,
          1993,
          1994,
          1995,
          1996,
          1997,
          1998,
          1999,
          2000,
          2001,
          2002,
          2003,
          2004,
          2005,
          2006,
          2007,
          2008,
          2009,
          2010,
          2011,
          2012,
          2013,
          2014,
          2015,
          2016,
          2017,
          2018,
          2019,
          1972,
          1973,
          1974,
          1975,
          1976,
          1977,
          1978,
          1979,
          1980,
          1981,
          1982,
          1983,
          1984,
          1985,
          1986,
          1987,
          1988,
          1989,
          1990,
          1991,
          1992,
          1993,
          1994,
          1995,
          1996,
          1997,
          1998,
          1999,
          2000,
          2001,
          2002,
          2003,
          2004,
          2005,
          2006,
          2007,
          2008,
          2009,
          2010,
          2011,
          2012,
          2013,
          2014,
          2015,
          2016,
          2017,
          2018,
          2019,
          1970,
          1971,
          1972,
          1973,
          1974,
          1975,
          1976,
          1977,
          1978,
          1979,
          1980,
          1981,
          1982,
          1983,
          1984,
          1985,
          1986,
          1987,
          1988,
          1989,
          1990,
          1991,
          1992,
          1993,
          1994,
          1995,
          1996,
          1997,
          1998,
          1999,
          2000,
          2001,
          2002,
          2003,
          2004,
          2005,
          2006,
          2007,
          2008,
          2009,
          2010,
          2011,
          2012,
          2013,
          2014,
          2015,
          2016,
          2017,
          2018,
          2019
         ],
         "xaxis": "x3",
         "y": [
          904.9092,
          1029.1749,
          755.1531,
          860.301,
          793.3887,
          774.2709,
          841.1832,
          745.5942,
          796.575,
          570.3477,
          395.1012,
          512.9943,
          551.2299,
          697.7997,
          774.2709,
          764.712,
          1051.479,
          936.7722,
          914.4681,
          844.3695,
          898.5366,
          914.4681,
          981.3804,
          857.1147,
          796.575,
          857.1147,
          780.6435,
          793.3887,
          930.3996,
          806.1339,
          618.1422,
          579.4541,
          449.1408,
          260.719,
          309.7115,
          346.8829,
          222.3814,
          185.0348,
          129.3542,
          73.2849,
          101.9616,
          149.7561,
          117.8931,
          47.7945,
          41.4219,
          47.7945,
          47.7945,
          33.7748,
          4.3722,
          4.4594,
          2.8457,
          2.8021,
          2.7149,
          2.933,
          3.0311,
          3.1619,
          3.7507,
          4.2632,
          5.5825,
          6.0513,
          6.6619,
          7.1634,
          7.8176,
          8.2101,
          8.6245,
          9.2241,
          9.922,
          10.4453,
          11.3285,
          11.6229,
          11.9827,
          12.3752,
          12.288,
          11.9328,
          10.9672,
          9.5006,
          7.9878,
          5.9806,
          4.4111,
          3.6763,
          3.6577,
          3.666,
          3.461,
          2.5903,
          2.275,
          2.9204,
          3.742,
          5.7688,
          6.2404,
          6.9895,
          6.9678,
          4.9877,
          1.7282,
          1.614,
          1.6512,
          1.2801,
          0.9612,
          0.8078,
          258.2194,
          269.5459,
          218.9255,
          254.4317,
          297.9215,
          333.2719,
          377.6054,
          389.4959,
          411.6856,
          434.1779,
          477.443,
          538.1654,
          570.1912,
          583.0355,
          564.1703,
          588.1576,
          608.1829,
          616.6295,
          584.9939,
          696.1375,
          647.3225,
          590.6123,
          456.7032,
          425.6026,
          408.4547,
          380.4507,
          336.4348,
          295.9924,
          307.6118,
          311.1165,
          327.0071,
          342.1467,
          383.9679,
          423.6123,
          453.7703,
          490.3032,
          545.4142,
          621.922,
          552.4441,
          505.0541,
          443.6687,
          374.9805,
          277.7617,
          285.8148,
          349.9807,
          391.6779,
          504.7591,
          541.6107,
          600.1252,
          650.1541,
          0.8399,
          1.1199,
          1.3998,
          1.6798,
          1.6798,
          2.5197,
          2.7996,
          3.0796,
          3.0796,
          3.3596,
          8.9589,
          12.8784,
          12.8784,
          18.7576,
          19.5975,
          19.3176,
          27.9965,
          36.3954,
          36.3954,
          35.5555,
          41.1548,
          36.6754,
          36.6754,
          35.5555,
          47.8739,
          57.3927,
          52.3534,
          57.1128,
          60.1924,
          66.9115,
          87.9089,
          91.2685,
          98.4288,
          116.5339,
          161.9369,
          170.3296,
          160.4236,
          147.4982,
          146.1735,
          129.3618,
          127.3149,
          144.7655,
          132.5824,
          138.8846,
          159.4688,
          98.3258,
          27.1276,
          22.1305,
          9.3809,
          7.2962,
          5.2116,
          3.127,
          3.127,
          2.5893,
          2.581,
          2.6637,
          2.4817,
          2.5396,
          2.6554,
          2.6637,
          2.7878,
          2.2005,
          1.8696,
          0.0745,
          0.1985,
          0.1489,
          11.176,
          9.7945,
          9.6125,
          11.8378,
          12.7229,
          14.5511,
          18.6211,
          16.4289,
          15.792,
          16.4207,
          16.3462,
          12.0942,
          11.0271,
          9.4573,
          9.5435,
          7.2202,
          5.7156,
          4.5638,
          4.4304,
          3.9272,
          7.2996,
          7.3028,
          7.015,
          4.4304,
          3.9272,
          12.1463,
          12.8205,
          9.6952,
          10.2164,
          11.4742,
          354.6863,
          352.1407,
          320.4622,
          339.9784,
          289.915,
          331.4931,
          350.7265,
          384.1021,
          438.4081,
          437.2767,
          494.4112,
          445.762,
          522.1299,
          623.6709,
          615.4684,
          633.4403,
          769.6794,
          688.9614,
          798.9155,
          750.9513,
          727.646,
          733.5363,
          825.6796,
          694.3511,
          748.1124,
          684.2938,
          562.9099,
          568.9824,
          471.804,
          425.2044,
          514.1222,
          704.1503,
          862.8278,
          941.1299,
          989.6741,
          1259.9888,
          849.2705,
          905.7826,
          791.2837,
          697.5697,
          523.1598,
          464.8181,
          421.1378,
          330.5334,
          316.4503,
          341.1439,
          309.349,
          286.9912,
          476.1619,
          504.2913,
          406.4498,
          476.5695,
          460.6703,
          624.1471,
          568.7036,
          570.3342,
          717.5041,
          735.4417,
          842.6597,
          870.3814,
          965.7769,
          1043.2347,
          1089.7094,
          1140.6685,
          1182.2511,
          1415.0323,
          1799.8754,
          1785.1992,
          2049.3712,
          2326.2051,
          2298.9685,
          2165.1225,
          2257.7034,
          2531.1624,
          2963.8518,
          3215.208,
          2854.1093,
          2629.1995,
          2176.9781,
          2279.9169,
          2664.6891,
          2473.5768,
          2779.9515,
          3028.4331,
          3383.7913,
          3667.4297,
          3968.5925,
          4437.9467,
          3812.989,
          3503.2559,
          3214.4365,
          3447.1706,
          3340.3042,
          3545.3048,
          3834.7174,
          3936.1782,
          4093.6253,
          4244.2895
         ],
         "yaxis": "y3"
        },
        {
         "hovertemplate": "<b>OLS trendline</b><br>Value = 11.0181 * Year + -21417.6<br>R<sup>2</sup>=0.031215<br><br>Element=Emissions (CO2)<br>Year=%{x}<br>Value=%{y} <b>(trend)</b><extra></extra>",
         "legendgroup": "Emissions (CO2)",
         "marker": {
          "color": "#00cc96",
          "symbol": "circle"
         },
         "mode": "lines",
         "name": "Emissions (CO2)",
         "showlegend": false,
         "type": "scattergl",
         "x": [
          1970,
          1970,
          1970,
          1971,
          1971,
          1971,
          1971,
          1972,
          1972,
          1972,
          1972,
          1972,
          1972,
          1972,
          1973,
          1973,
          1973,
          1973,
          1973,
          1973,
          1973,
          1974,
          1974,
          1974,
          1974,
          1974,
          1974,
          1974,
          1975,
          1975,
          1975,
          1975,
          1975,
          1975,
          1975,
          1976,
          1976,
          1976,
          1976,
          1976,
          1976,
          1976,
          1977,
          1977,
          1977,
          1977,
          1977,
          1977,
          1977,
          1978,
          1978,
          1978,
          1978,
          1978,
          1978,
          1978,
          1979,
          1979,
          1979,
          1979,
          1979,
          1979,
          1979,
          1980,
          1980,
          1980,
          1980,
          1980,
          1980,
          1980,
          1981,
          1981,
          1981,
          1981,
          1981,
          1981,
          1981,
          1982,
          1982,
          1982,
          1982,
          1982,
          1982,
          1982,
          1983,
          1983,
          1983,
          1983,
          1983,
          1983,
          1983,
          1984,
          1984,
          1984,
          1984,
          1984,
          1984,
          1984,
          1985,
          1985,
          1985,
          1985,
          1985,
          1985,
          1985,
          1986,
          1986,
          1986,
          1986,
          1986,
          1986,
          1986,
          1987,
          1987,
          1987,
          1987,
          1987,
          1987,
          1987,
          1988,
          1988,
          1988,
          1988,
          1988,
          1988,
          1988,
          1989,
          1989,
          1989,
          1989,
          1989,
          1989,
          1989,
          1990,
          1990,
          1990,
          1990,
          1990,
          1990,
          1990,
          1991,
          1991,
          1991,
          1991,
          1991,
          1991,
          1991,
          1992,
          1992,
          1992,
          1992,
          1992,
          1992,
          1992,
          1993,
          1993,
          1993,
          1993,
          1993,
          1993,
          1993,
          1994,
          1994,
          1994,
          1994,
          1994,
          1994,
          1994,
          1995,
          1995,
          1995,
          1995,
          1995,
          1995,
          1995,
          1996,
          1996,
          1996,
          1996,
          1996,
          1996,
          1996,
          1997,
          1997,
          1997,
          1997,
          1997,
          1997,
          1997,
          1998,
          1998,
          1998,
          1998,
          1998,
          1998,
          1998,
          1999,
          1999,
          1999,
          1999,
          1999,
          1999,
          1999,
          2000,
          2000,
          2000,
          2000,
          2000,
          2000,
          2000,
          2001,
          2001,
          2001,
          2001,
          2001,
          2001,
          2001,
          2002,
          2002,
          2002,
          2002,
          2002,
          2002,
          2002,
          2003,
          2003,
          2003,
          2003,
          2003,
          2003,
          2003,
          2004,
          2004,
          2004,
          2004,
          2004,
          2004,
          2004,
          2005,
          2005,
          2005,
          2005,
          2005,
          2005,
          2005,
          2006,
          2006,
          2006,
          2006,
          2006,
          2006,
          2006,
          2007,
          2007,
          2007,
          2007,
          2007,
          2007,
          2007,
          2008,
          2008,
          2008,
          2008,
          2008,
          2008,
          2008,
          2009,
          2009,
          2009,
          2009,
          2009,
          2009,
          2009,
          2010,
          2010,
          2010,
          2010,
          2010,
          2010,
          2010,
          2011,
          2011,
          2011,
          2011,
          2011,
          2011,
          2011,
          2012,
          2012,
          2012,
          2012,
          2012,
          2012,
          2012,
          2013,
          2013,
          2013,
          2013,
          2013,
          2013,
          2013,
          2014,
          2014,
          2014,
          2014,
          2014,
          2014,
          2014,
          2015,
          2015,
          2015,
          2015,
          2015,
          2015,
          2015,
          2016,
          2016,
          2016,
          2016,
          2016,
          2016,
          2016,
          2017,
          2017,
          2017,
          2017,
          2017,
          2017,
          2017,
          2018,
          2018,
          2018,
          2018,
          2018,
          2018,
          2018,
          2019,
          2019,
          2019,
          2019,
          2019,
          2019
         ],
         "xaxis": "x3",
         "y": [
          288.1021824944073,
          288.1021824944073,
          288.1021824944073,
          299.12029175017597,
          299.12029175017597,
          299.12029175017597,
          299.12029175017597,
          310.1384010059446,
          310.1384010059446,
          310.1384010059446,
          310.1384010059446,
          310.1384010059446,
          310.1384010059446,
          310.1384010059446,
          321.1565102617096,
          321.1565102617096,
          321.1565102617096,
          321.1565102617096,
          321.1565102617096,
          321.1565102617096,
          321.1565102617096,
          332.1746195174783,
          332.1746195174783,
          332.1746195174783,
          332.1746195174783,
          332.1746195174783,
          332.1746195174783,
          332.1746195174783,
          343.1927287732469,
          343.1927287732469,
          343.1927287732469,
          343.1927287732469,
          343.1927287732469,
          343.1927287732469,
          343.1927287732469,
          354.2108380290156,
          354.2108380290156,
          354.2108380290156,
          354.2108380290156,
          354.2108380290156,
          354.2108380290156,
          354.2108380290156,
          365.2289472847842,
          365.2289472847842,
          365.2289472847842,
          365.2289472847842,
          365.2289472847842,
          365.2289472847842,
          365.2289472847842,
          376.2470565405529,
          376.2470565405529,
          376.2470565405529,
          376.2470565405529,
          376.2470565405529,
          376.2470565405529,
          376.2470565405529,
          387.2651657963215,
          387.2651657963215,
          387.2651657963215,
          387.2651657963215,
          387.2651657963215,
          387.2651657963215,
          387.2651657963215,
          398.2832750520902,
          398.2832750520902,
          398.2832750520902,
          398.2832750520902,
          398.2832750520902,
          398.2832750520902,
          398.2832750520902,
          409.3013843078588,
          409.3013843078588,
          409.3013843078588,
          409.3013843078588,
          409.3013843078588,
          409.3013843078588,
          409.3013843078588,
          420.3194935636275,
          420.3194935636275,
          420.3194935636275,
          420.3194935636275,
          420.3194935636275,
          420.3194935636275,
          420.3194935636275,
          431.3376028193961,
          431.3376028193961,
          431.3376028193961,
          431.3376028193961,
          431.3376028193961,
          431.3376028193961,
          431.3376028193961,
          442.3557120751648,
          442.3557120751648,
          442.3557120751648,
          442.3557120751648,
          442.3557120751648,
          442.3557120751648,
          442.3557120751648,
          453.3738213309334,
          453.3738213309334,
          453.3738213309334,
          453.3738213309334,
          453.3738213309334,
          453.3738213309334,
          453.3738213309334,
          464.3919305867021,
          464.3919305867021,
          464.3919305867021,
          464.3919305867021,
          464.3919305867021,
          464.3919305867021,
          464.3919305867021,
          475.4100398424707,
          475.4100398424707,
          475.4100398424707,
          475.4100398424707,
          475.4100398424707,
          475.4100398424707,
          475.4100398424707,
          486.4281490982394,
          486.4281490982394,
          486.4281490982394,
          486.4281490982394,
          486.4281490982394,
          486.4281490982394,
          486.4281490982394,
          497.446258354008,
          497.446258354008,
          497.446258354008,
          497.446258354008,
          497.446258354008,
          497.446258354008,
          497.446258354008,
          508.4643676097767,
          508.4643676097767,
          508.4643676097767,
          508.4643676097767,
          508.4643676097767,
          508.4643676097767,
          508.4643676097767,
          519.4824768655453,
          519.4824768655453,
          519.4824768655453,
          519.4824768655453,
          519.4824768655453,
          519.4824768655453,
          519.4824768655453,
          530.500586121314,
          530.500586121314,
          530.500586121314,
          530.500586121314,
          530.500586121314,
          530.500586121314,
          530.500586121314,
          541.5186953770826,
          541.5186953770826,
          541.5186953770826,
          541.5186953770826,
          541.5186953770826,
          541.5186953770826,
          541.5186953770826,
          552.5368046328513,
          552.5368046328513,
          552.5368046328513,
          552.5368046328513,
          552.5368046328513,
          552.5368046328513,
          552.5368046328513,
          563.5549138886163,
          563.5549138886163,
          563.5549138886163,
          563.5549138886163,
          563.5549138886163,
          563.5549138886163,
          563.5549138886163,
          574.5730231443849,
          574.5730231443849,
          574.5730231443849,
          574.5730231443849,
          574.5730231443849,
          574.5730231443849,
          574.5730231443849,
          585.5911324001536,
          585.5911324001536,
          585.5911324001536,
          585.5911324001536,
          585.5911324001536,
          585.5911324001536,
          585.5911324001536,
          596.6092416559222,
          596.6092416559222,
          596.6092416559222,
          596.6092416559222,
          596.6092416559222,
          596.6092416559222,
          596.6092416559222,
          607.6273509116909,
          607.6273509116909,
          607.6273509116909,
          607.6273509116909,
          607.6273509116909,
          607.6273509116909,
          607.6273509116909,
          618.6454601674595,
          618.6454601674595,
          618.6454601674595,
          618.6454601674595,
          618.6454601674595,
          618.6454601674595,
          618.6454601674595,
          629.6635694232282,
          629.6635694232282,
          629.6635694232282,
          629.6635694232282,
          629.6635694232282,
          629.6635694232282,
          629.6635694232282,
          640.6816786789968,
          640.6816786789968,
          640.6816786789968,
          640.6816786789968,
          640.6816786789968,
          640.6816786789968,
          640.6816786789968,
          651.6997879347655,
          651.6997879347655,
          651.6997879347655,
          651.6997879347655,
          651.6997879347655,
          651.6997879347655,
          651.6997879347655,
          662.7178971905341,
          662.7178971905341,
          662.7178971905341,
          662.7178971905341,
          662.7178971905341,
          662.7178971905341,
          662.7178971905341,
          673.7360064463028,
          673.7360064463028,
          673.7360064463028,
          673.7360064463028,
          673.7360064463028,
          673.7360064463028,
          673.7360064463028,
          684.7541157020714,
          684.7541157020714,
          684.7541157020714,
          684.7541157020714,
          684.7541157020714,
          684.7541157020714,
          684.7541157020714,
          695.7722249578401,
          695.7722249578401,
          695.7722249578401,
          695.7722249578401,
          695.7722249578401,
          695.7722249578401,
          695.7722249578401,
          706.7903342136087,
          706.7903342136087,
          706.7903342136087,
          706.7903342136087,
          706.7903342136087,
          706.7903342136087,
          706.7903342136087,
          717.8084434693774,
          717.8084434693774,
          717.8084434693774,
          717.8084434693774,
          717.8084434693774,
          717.8084434693774,
          717.8084434693774,
          728.826552725146,
          728.826552725146,
          728.826552725146,
          728.826552725146,
          728.826552725146,
          728.826552725146,
          728.826552725146,
          739.8446619809147,
          739.8446619809147,
          739.8446619809147,
          739.8446619809147,
          739.8446619809147,
          739.8446619809147,
          739.8446619809147,
          750.8627712366833,
          750.8627712366833,
          750.8627712366833,
          750.8627712366833,
          750.8627712366833,
          750.8627712366833,
          750.8627712366833,
          761.880880492452,
          761.880880492452,
          761.880880492452,
          761.880880492452,
          761.880880492452,
          761.880880492452,
          761.880880492452,
          772.8989897482206,
          772.8989897482206,
          772.8989897482206,
          772.8989897482206,
          772.8989897482206,
          772.8989897482206,
          772.8989897482206,
          783.9170990039893,
          783.9170990039893,
          783.9170990039893,
          783.9170990039893,
          783.9170990039893,
          783.9170990039893,
          783.9170990039893,
          794.9352082597543,
          794.9352082597543,
          794.9352082597543,
          794.9352082597543,
          794.9352082597543,
          794.9352082597543,
          794.9352082597543,
          805.9533175155229,
          805.9533175155229,
          805.9533175155229,
          805.9533175155229,
          805.9533175155229,
          805.9533175155229,
          805.9533175155229,
          816.9714267712916,
          816.9714267712916,
          816.9714267712916,
          816.9714267712916,
          816.9714267712916,
          816.9714267712916,
          816.9714267712916,
          827.9895360270602,
          827.9895360270602,
          827.9895360270602,
          827.9895360270602,
          827.9895360270602,
          827.9895360270602
         ],
         "yaxis": "y3"
        }
       ],
       "layout": {
        "annotations": [
         {
          "font": {},
          "showarrow": false,
          "text": "Element=Emissions (CH4)",
          "x": 0.15999999999999998,
          "xanchor": "center",
          "xref": "paper",
          "y": 1,
          "yanchor": "bottom",
          "yref": "paper"
         },
         {
          "font": {},
          "showarrow": false,
          "text": "Element=Emissions (N2O)",
          "x": 0.49999999999999994,
          "xanchor": "center",
          "xref": "paper",
          "y": 1,
          "yanchor": "bottom",
          "yref": "paper"
         },
         {
          "font": {},
          "showarrow": false,
          "text": "Element=Emissions (CO2)",
          "x": 0.8399999999999999,
          "xanchor": "center",
          "xref": "paper",
          "y": 1,
          "yanchor": "bottom",
          "yref": "paper"
         }
        ],
        "legend": {
         "title": {
          "text": "Element"
         },
         "tracegroupgap": 0
        },
        "template": {
         "data": {
          "bar": [
           {
            "error_x": {
             "color": "#2a3f5f"
            },
            "error_y": {
             "color": "#2a3f5f"
            },
            "marker": {
             "line": {
              "color": "#E5ECF6",
              "width": 0.5
             },
             "pattern": {
              "fillmode": "overlay",
              "size": 10,
              "solidity": 0.2
             }
            },
            "type": "bar"
           }
          ],
          "barpolar": [
           {
            "marker": {
             "line": {
              "color": "#E5ECF6",
              "width": 0.5
             },
             "pattern": {
              "fillmode": "overlay",
              "size": 10,
              "solidity": 0.2
             }
            },
            "type": "barpolar"
           }
          ],
          "carpet": [
           {
            "aaxis": {
             "endlinecolor": "#2a3f5f",
             "gridcolor": "white",
             "linecolor": "white",
             "minorgridcolor": "white",
             "startlinecolor": "#2a3f5f"
            },
            "baxis": {
             "endlinecolor": "#2a3f5f",
             "gridcolor": "white",
             "linecolor": "white",
             "minorgridcolor": "white",
             "startlinecolor": "#2a3f5f"
            },
            "type": "carpet"
           }
          ],
          "choropleth": [
           {
            "colorbar": {
             "outlinewidth": 0,
             "ticks": ""
            },
            "type": "choropleth"
           }
          ],
          "contour": [
           {
            "colorbar": {
             "outlinewidth": 0,
             "ticks": ""
            },
            "colorscale": [
             [
              0,
              "#0d0887"
             ],
             [
              0.1111111111111111,
              "#46039f"
             ],
             [
              0.2222222222222222,
              "#7201a8"
             ],
             [
              0.3333333333333333,
              "#9c179e"
             ],
             [
              0.4444444444444444,
              "#bd3786"
             ],
             [
              0.5555555555555556,
              "#d8576b"
             ],
             [
              0.6666666666666666,
              "#ed7953"
             ],
             [
              0.7777777777777778,
              "#fb9f3a"
             ],
             [
              0.8888888888888888,
              "#fdca26"
             ],
             [
              1,
              "#f0f921"
             ]
            ],
            "type": "contour"
           }
          ],
          "contourcarpet": [
           {
            "colorbar": {
             "outlinewidth": 0,
             "ticks": ""
            },
            "type": "contourcarpet"
           }
          ],
          "heatmap": [
           {
            "colorbar": {
             "outlinewidth": 0,
             "ticks": ""
            },
            "colorscale": [
             [
              0,
              "#0d0887"
             ],
             [
              0.1111111111111111,
              "#46039f"
             ],
             [
              0.2222222222222222,
              "#7201a8"
             ],
             [
              0.3333333333333333,
              "#9c179e"
             ],
             [
              0.4444444444444444,
              "#bd3786"
             ],
             [
              0.5555555555555556,
              "#d8576b"
             ],
             [
              0.6666666666666666,
              "#ed7953"
             ],
             [
              0.7777777777777778,
              "#fb9f3a"
             ],
             [
              0.8888888888888888,
              "#fdca26"
             ],
             [
              1,
              "#f0f921"
             ]
            ],
            "type": "heatmap"
           }
          ],
          "heatmapgl": [
           {
            "colorbar": {
             "outlinewidth": 0,
             "ticks": ""
            },
            "colorscale": [
             [
              0,
              "#0d0887"
             ],
             [
              0.1111111111111111,
              "#46039f"
             ],
             [
              0.2222222222222222,
              "#7201a8"
             ],
             [
              0.3333333333333333,
              "#9c179e"
             ],
             [
              0.4444444444444444,
              "#bd3786"
             ],
             [
              0.5555555555555556,
              "#d8576b"
             ],
             [
              0.6666666666666666,
              "#ed7953"
             ],
             [
              0.7777777777777778,
              "#fb9f3a"
             ],
             [
              0.8888888888888888,
              "#fdca26"
             ],
             [
              1,
              "#f0f921"
             ]
            ],
            "type": "heatmapgl"
           }
          ],
          "histogram": [
           {
            "marker": {
             "pattern": {
              "fillmode": "overlay",
              "size": 10,
              "solidity": 0.2
             }
            },
            "type": "histogram"
           }
          ],
          "histogram2d": [
           {
            "colorbar": {
             "outlinewidth": 0,
             "ticks": ""
            },
            "colorscale": [
             [
              0,
              "#0d0887"
             ],
             [
              0.1111111111111111,
              "#46039f"
             ],
             [
              0.2222222222222222,
              "#7201a8"
             ],
             [
              0.3333333333333333,
              "#9c179e"
             ],
             [
              0.4444444444444444,
              "#bd3786"
             ],
             [
              0.5555555555555556,
              "#d8576b"
             ],
             [
              0.6666666666666666,
              "#ed7953"
             ],
             [
              0.7777777777777778,
              "#fb9f3a"
             ],
             [
              0.8888888888888888,
              "#fdca26"
             ],
             [
              1,
              "#f0f921"
             ]
            ],
            "type": "histogram2d"
           }
          ],
          "histogram2dcontour": [
           {
            "colorbar": {
             "outlinewidth": 0,
             "ticks": ""
            },
            "colorscale": [
             [
              0,
              "#0d0887"
             ],
             [
              0.1111111111111111,
              "#46039f"
             ],
             [
              0.2222222222222222,
              "#7201a8"
             ],
             [
              0.3333333333333333,
              "#9c179e"
             ],
             [
              0.4444444444444444,
              "#bd3786"
             ],
             [
              0.5555555555555556,
              "#d8576b"
             ],
             [
              0.6666666666666666,
              "#ed7953"
             ],
             [
              0.7777777777777778,
              "#fb9f3a"
             ],
             [
              0.8888888888888888,
              "#fdca26"
             ],
             [
              1,
              "#f0f921"
             ]
            ],
            "type": "histogram2dcontour"
           }
          ],
          "mesh3d": [
           {
            "colorbar": {
             "outlinewidth": 0,
             "ticks": ""
            },
            "type": "mesh3d"
           }
          ],
          "parcoords": [
           {
            "line": {
             "colorbar": {
              "outlinewidth": 0,
              "ticks": ""
             }
            },
            "type": "parcoords"
           }
          ],
          "pie": [
           {
            "automargin": true,
            "type": "pie"
           }
          ],
          "scatter": [
           {
            "marker": {
             "colorbar": {
              "outlinewidth": 0,
              "ticks": ""
             }
            },
            "type": "scatter"
           }
          ],
          "scatter3d": [
           {
            "line": {
             "colorbar": {
              "outlinewidth": 0,
              "ticks": ""
             }
            },
            "marker": {
             "colorbar": {
              "outlinewidth": 0,
              "ticks": ""
             }
            },
            "type": "scatter3d"
           }
          ],
          "scattercarpet": [
           {
            "marker": {
             "colorbar": {
              "outlinewidth": 0,
              "ticks": ""
             }
            },
            "type": "scattercarpet"
           }
          ],
          "scattergeo": [
           {
            "marker": {
             "colorbar": {
              "outlinewidth": 0,
              "ticks": ""
             }
            },
            "type": "scattergeo"
           }
          ],
          "scattergl": [
           {
            "marker": {
             "colorbar": {
              "outlinewidth": 0,
              "ticks": ""
             }
            },
            "type": "scattergl"
           }
          ],
          "scattermapbox": [
           {
            "marker": {
             "colorbar": {
              "outlinewidth": 0,
              "ticks": ""
             }
            },
            "type": "scattermapbox"
           }
          ],
          "scatterpolar": [
           {
            "marker": {
             "colorbar": {
              "outlinewidth": 0,
              "ticks": ""
             }
            },
            "type": "scatterpolar"
           }
          ],
          "scatterpolargl": [
           {
            "marker": {
             "colorbar": {
              "outlinewidth": 0,
              "ticks": ""
             }
            },
            "type": "scatterpolargl"
           }
          ],
          "scatterternary": [
           {
            "marker": {
             "colorbar": {
              "outlinewidth": 0,
              "ticks": ""
             }
            },
            "type": "scatterternary"
           }
          ],
          "surface": [
           {
            "colorbar": {
             "outlinewidth": 0,
             "ticks": ""
            },
            "colorscale": [
             [
              0,
              "#0d0887"
             ],
             [
              0.1111111111111111,
              "#46039f"
             ],
             [
              0.2222222222222222,
              "#7201a8"
             ],
             [
              0.3333333333333333,
              "#9c179e"
             ],
             [
              0.4444444444444444,
              "#bd3786"
             ],
             [
              0.5555555555555556,
              "#d8576b"
             ],
             [
              0.6666666666666666,
              "#ed7953"
             ],
             [
              0.7777777777777778,
              "#fb9f3a"
             ],
             [
              0.8888888888888888,
              "#fdca26"
             ],
             [
              1,
              "#f0f921"
             ]
            ],
            "type": "surface"
           }
          ],
          "table": [
           {
            "cells": {
             "fill": {
              "color": "#EBF0F8"
             },
             "line": {
              "color": "white"
             }
            },
            "header": {
             "fill": {
              "color": "#C8D4E3"
             },
             "line": {
              "color": "white"
             }
            },
            "type": "table"
           }
          ]
         },
         "layout": {
          "annotationdefaults": {
           "arrowcolor": "#2a3f5f",
           "arrowhead": 0,
           "arrowwidth": 1
          },
          "autotypenumbers": "strict",
          "coloraxis": {
           "colorbar": {
            "outlinewidth": 0,
            "ticks": ""
           }
          },
          "colorscale": {
           "diverging": [
            [
             0,
             "#8e0152"
            ],
            [
             0.1,
             "#c51b7d"
            ],
            [
             0.2,
             "#de77ae"
            ],
            [
             0.3,
             "#f1b6da"
            ],
            [
             0.4,
             "#fde0ef"
            ],
            [
             0.5,
             "#f7f7f7"
            ],
            [
             0.6,
             "#e6f5d0"
            ],
            [
             0.7,
             "#b8e186"
            ],
            [
             0.8,
             "#7fbc41"
            ],
            [
             0.9,
             "#4d9221"
            ],
            [
             1,
             "#276419"
            ]
           ],
           "sequential": [
            [
             0,
             "#0d0887"
            ],
            [
             0.1111111111111111,
             "#46039f"
            ],
            [
             0.2222222222222222,
             "#7201a8"
            ],
            [
             0.3333333333333333,
             "#9c179e"
            ],
            [
             0.4444444444444444,
             "#bd3786"
            ],
            [
             0.5555555555555556,
             "#d8576b"
            ],
            [
             0.6666666666666666,
             "#ed7953"
            ],
            [
             0.7777777777777778,
             "#fb9f3a"
            ],
            [
             0.8888888888888888,
             "#fdca26"
            ],
            [
             1,
             "#f0f921"
            ]
           ],
           "sequentialminus": [
            [
             0,
             "#0d0887"
            ],
            [
             0.1111111111111111,
             "#46039f"
            ],
            [
             0.2222222222222222,
             "#7201a8"
            ],
            [
             0.3333333333333333,
             "#9c179e"
            ],
            [
             0.4444444444444444,
             "#bd3786"
            ],
            [
             0.5555555555555556,
             "#d8576b"
            ],
            [
             0.6666666666666666,
             "#ed7953"
            ],
            [
             0.7777777777777778,
             "#fb9f3a"
            ],
            [
             0.8888888888888888,
             "#fdca26"
            ],
            [
             1,
             "#f0f921"
            ]
           ]
          },
          "colorway": [
           "#636efa",
           "#EF553B",
           "#00cc96",
           "#ab63fa",
           "#FFA15A",
           "#19d3f3",
           "#FF6692",
           "#B6E880",
           "#FF97FF",
           "#FECB52"
          ],
          "font": {
           "color": "#2a3f5f"
          },
          "geo": {
           "bgcolor": "white",
           "lakecolor": "white",
           "landcolor": "#E5ECF6",
           "showlakes": true,
           "showland": true,
           "subunitcolor": "white"
          },
          "hoverlabel": {
           "align": "left"
          },
          "hovermode": "closest",
          "mapbox": {
           "style": "light"
          },
          "paper_bgcolor": "white",
          "plot_bgcolor": "#E5ECF6",
          "polar": {
           "angularaxis": {
            "gridcolor": "white",
            "linecolor": "white",
            "ticks": ""
           },
           "bgcolor": "#E5ECF6",
           "radialaxis": {
            "gridcolor": "white",
            "linecolor": "white",
            "ticks": ""
           }
          },
          "scene": {
           "xaxis": {
            "backgroundcolor": "#E5ECF6",
            "gridcolor": "white",
            "gridwidth": 2,
            "linecolor": "white",
            "showbackground": true,
            "ticks": "",
            "zerolinecolor": "white"
           },
           "yaxis": {
            "backgroundcolor": "#E5ECF6",
            "gridcolor": "white",
            "gridwidth": 2,
            "linecolor": "white",
            "showbackground": true,
            "ticks": "",
            "zerolinecolor": "white"
           },
           "zaxis": {
            "backgroundcolor": "#E5ECF6",
            "gridcolor": "white",
            "gridwidth": 2,
            "linecolor": "white",
            "showbackground": true,
            "ticks": "",
            "zerolinecolor": "white"
           }
          },
          "shapedefaults": {
           "line": {
            "color": "#2a3f5f"
           }
          },
          "ternary": {
           "aaxis": {
            "gridcolor": "white",
            "linecolor": "white",
            "ticks": ""
           },
           "baxis": {
            "gridcolor": "white",
            "linecolor": "white",
            "ticks": ""
           },
           "bgcolor": "#E5ECF6",
           "caxis": {
            "gridcolor": "white",
            "linecolor": "white",
            "ticks": ""
           }
          },
          "title": {
           "x": 0.05
          },
          "xaxis": {
           "automargin": true,
           "gridcolor": "white",
           "linecolor": "white",
           "ticks": "",
           "title": {
            "standoff": 15
           },
           "zerolinecolor": "white",
           "zerolinewidth": 2
          },
          "yaxis": {
           "automargin": true,
           "gridcolor": "white",
           "linecolor": "white",
           "ticks": "",
           "title": {
            "standoff": 15
           },
           "zerolinecolor": "white",
           "zerolinewidth": 2
          }
         }
        },
        "title": {
         "font": {
          "size": 24
         },
         "text": "Emmissions of Different Gasses in Pakistan"
        },
        "xaxis": {
         "anchor": "y",
         "domain": [
          0,
          0.31999999999999995
         ],
         "showgrid": false,
         "title": {
          "text": "Year"
         }
        },
        "xaxis2": {
         "anchor": "y2",
         "domain": [
          0.33999999999999997,
          0.6599999999999999
         ],
         "matches": "x",
         "showgrid": false,
         "title": {
          "text": "Year"
         }
        },
        "xaxis3": {
         "anchor": "y3",
         "domain": [
          0.6799999999999999,
          0.9999999999999999
         ],
         "matches": "x",
         "showgrid": false,
         "title": {
          "text": "Year"
         }
        },
        "yaxis": {
         "anchor": "x",
         "domain": [
          0,
          1
         ],
         "title": {
          "text": "Value"
         }
        },
        "yaxis2": {
         "anchor": "x2",
         "domain": [
          0,
          1
         ],
         "matches": "y",
         "showticklabels": false
        },
        "yaxis3": {
         "anchor": "x3",
         "domain": [
          0,
          1
         ],
         "matches": "y",
         "showticklabels": false
        }
       }
      }
     },
     "metadata": {},
     "output_type": "display_data"
    }
   ],
   "source": [
    "import plotly.express as px\n",
    "import statsmodels.api as sm\n",
    "df4= pd.read_csv(\"POL.csv\")\n",
    "\n",
    "(px.scatter(df4, x=\"Year\", y=\"Value\", color=\"Element\",\n",
    "            facet_col=\"Element\", trendline=\"ols\",\n",
    "            title=\"Annual Emmissions of Different Gasses in Pakistan\")\n",
    " .update_layout(title_font_size=24)\n",
    " .update_xaxes(showgrid=False)\n",
    " .update_traces(\n",
    "     line=dict(dash=\"dot\", width=4),\n",
    "     selector=dict(type=\"scatter\", mode=\"lines\"))\n",
    ").show()"
   ]
  },
  {
   "cell_type": "markdown",
   "metadata": {},
   "source": [
    "# Annual CO2 Emmissions beacause of coal in different countries"
   ]
  },
  {
   "cell_type": "code",
   "execution_count": 60,
   "metadata": {},
   "outputs": [
    {
     "data": {
      "application/vnd.plotly.v1+json": {
       "config": {
        "plotlyServerURL": "https://plot.ly"
       },
       "data": [
        {
         "hovertemplate": "Area=Afghanistan<br>Year=%{x}<br>Value=%{y}<extra></extra>",
         "legendgroup": "Afghanistan",
         "marker": {
          "color": "#1F77B4",
          "symbol": "circle"
         },
         "mode": "markers",
         "name": "Afghanistan",
         "orientation": "v",
         "showlegend": true,
         "type": "scatter",
         "x": [
          1990,
          1991,
          1992,
          1993,
          1994,
          1995,
          1996,
          1997,
          1998,
          1999,
          2000,
          2001,
          2002,
          2003,
          2004,
          2005,
          2006,
          2007,
          2008,
          2009,
          2010,
          2011,
          2012,
          2013,
          2014,
          2015,
          2016,
          2017,
          2018,
          2019
         ],
         "xaxis": "x",
         "y": [
          16.7353,
          13.3877,
          1.9023,
          1.5946,
          1.4195,
          1.1565,
          0.6929,
          0.4276,
          0.4004,
          0.1868,
          0.1673,
          0.8831,
          0.1442,
          0.6906,
          0.5358,
          0.4033,
          0.667,
          22.9862,
          34.3212,
          52.0269,
          67.1909,
          126.3472,
          74.8305,
          73.3048,
          58.5288,
          30.7229,
          25.3473,
          26.0221,
          25.5075,
          18.9033
         ],
         "yaxis": "y"
        },
        {
         "alignmentgroup": "True",
         "hovertemplate": "Area=Afghanistan<br>Year=%{x}<extra></extra>",
         "legendgroup": "Afghanistan",
         "marker": {
          "color": "#1F77B4",
          "symbol": "circle"
         },
         "name": "Afghanistan",
         "notched": true,
         "offsetgroup": "Afghanistan",
         "showlegend": false,
         "type": "box",
         "x": [
          1990,
          1991,
          1992,
          1993,
          1994,
          1995,
          1996,
          1997,
          1998,
          1999,
          2000,
          2001,
          2002,
          2003,
          2004,
          2005,
          2006,
          2007,
          2008,
          2009,
          2010,
          2011,
          2012,
          2013,
          2014,
          2015,
          2016,
          2017,
          2018,
          2019
         ],
         "xaxis": "x3",
         "yaxis": "y3"
        },
        {
         "alignmentgroup": "True",
         "hovertemplate": "Area=Afghanistan<br>Value=%{y}<extra></extra>",
         "legendgroup": "Afghanistan",
         "marker": {
          "color": "#1F77B4",
          "symbol": "circle"
         },
         "name": "Afghanistan",
         "offsetgroup": "Afghanistan",
         "scalegroup": "y",
         "showlegend": false,
         "type": "violin",
         "xaxis": "x2",
         "y": [
          16.7353,
          13.3877,
          1.9023,
          1.5946,
          1.4195,
          1.1565,
          0.6929,
          0.4276,
          0.4004,
          0.1868,
          0.1673,
          0.8831,
          0.1442,
          0.6906,
          0.5358,
          0.4033,
          0.667,
          22.9862,
          34.3212,
          52.0269,
          67.1909,
          126.3472,
          74.8305,
          73.3048,
          58.5288,
          30.7229,
          25.3473,
          26.0221,
          25.5075,
          18.9033
         ],
         "yaxis": "y2"
        },
        {
         "hovertemplate": "<b>OLS trendline</b><br>Value = 1.95428 * Year + -3894.76<br>R<sup>2</sup>=0.309473<br><br>Area=Afghanistan<br>Year=%{x}<br>Value=%{y} <b>(trend)</b><extra></extra>",
         "legendgroup": "Afghanistan",
         "marker": {
          "color": "#1F77B4",
          "symbol": "circle"
         },
         "mode": "lines",
         "name": "Afghanistan",
         "showlegend": false,
         "type": "scatter",
         "x": [
          1990,
          1991,
          1992,
          1993,
          1994,
          1995,
          1996,
          1997,
          1998,
          1999,
          2000,
          2001,
          2002,
          2003,
          2004,
          2005,
          2006,
          2007,
          2008,
          2009,
          2010,
          2011,
          2012,
          2013,
          2014,
          2015,
          2016,
          2017,
          2018,
          2019
         ],
         "xaxis": "x",
         "y": [
          -5.755843225807439,
          -3.8015678309238865,
          -1.8472924360407887,
          0.10698295884230902,
          2.0612583537254068,
          4.0155337486085045,
          5.969809143492057,
          7.924084538375155,
          9.878359933258253,
          11.83263532814135,
          13.786910723024903,
          15.741186117908,
          17.6954615127911,
          19.649736907674196,
          21.604012302557294,
          23.558287697440846,
          25.512563092323944,
          27.466838487207042,
          29.42111388209014,
          31.375389276973692,
          33.32966467185679,
          35.28394006673989,
          37.238215461622985,
          39.19249085650608,
          41.146766251389636,
          43.10104164627273,
          45.05531704115583,
          47.00959243603893,
          48.96386783092203,
          50.91814322580558
         ],
         "yaxis": "y"
        },
        {
         "hovertemplate": "Area=Bangladesh<br>Year=%{x}<br>Value=%{y}<extra></extra>",
         "legendgroup": "Bangladesh",
         "marker": {
          "color": "#FF7F0E",
          "symbol": "circle"
         },
         "mode": "markers",
         "name": "Bangladesh",
         "orientation": "v",
         "showlegend": true,
         "type": "scatter",
         "x": [
          1972,
          1973,
          1974,
          1975,
          1976,
          1977,
          1978,
          1979,
          1980,
          1981,
          1982,
          1983,
          1984,
          1985,
          1986,
          1987,
          1988,
          1989,
          1990,
          1991,
          1992,
          1993,
          1994,
          1995,
          1996,
          1997,
          1998,
          1999,
          2000,
          2001,
          2002,
          2003,
          2004,
          2005,
          2006,
          2007,
          2008,
          2009,
          2010,
          2011,
          2012,
          2013,
          2014,
          2015,
          2016,
          2017,
          2018,
          2019
         ],
         "xaxis": "x",
         "y": [
          52.0433,
          67.8825,
          61.0943,
          70.711,
          69.8625,
          72.9737,
          70.711,
          52.609,
          66.4683,
          69.5796,
          84.5703,
          45.255,
          17.5363,
          27.7187,
          41.8609,
          65.8303,
          56.9715,
          14.1783,
          143.6658,
          44.6257,
          40.187,
          14.3518,
          12.539,
          148.4921,
          82.6873,
          138.0987,
          37.2337,
          17.1853,
          110.4222,
          103.0263,
          100.9497,
          193.0958,
          187.513,
          227.2157,
          198.7619,
          187.6098,
          194.407,
          252.7876,
          246.2309,
          197.5012,
          212.5486,
          197.5495,
          132.4326,
          298.0721,
          166.6834,
          171.5164,
          150.7318,
          154.3917
         ],
         "yaxis": "y"
        },
        {
         "alignmentgroup": "True",
         "hovertemplate": "Area=Bangladesh<br>Year=%{x}<extra></extra>",
         "legendgroup": "Bangladesh",
         "marker": {
          "color": "#FF7F0E",
          "symbol": "circle"
         },
         "name": "Bangladesh",
         "notched": true,
         "offsetgroup": "Bangladesh",
         "showlegend": false,
         "type": "box",
         "x": [
          1972,
          1973,
          1974,
          1975,
          1976,
          1977,
          1978,
          1979,
          1980,
          1981,
          1982,
          1983,
          1984,
          1985,
          1986,
          1987,
          1988,
          1989,
          1990,
          1991,
          1992,
          1993,
          1994,
          1995,
          1996,
          1997,
          1998,
          1999,
          2000,
          2001,
          2002,
          2003,
          2004,
          2005,
          2006,
          2007,
          2008,
          2009,
          2010,
          2011,
          2012,
          2013,
          2014,
          2015,
          2016,
          2017,
          2018,
          2019
         ],
         "xaxis": "x3",
         "yaxis": "y3"
        },
        {
         "alignmentgroup": "True",
         "hovertemplate": "Area=Bangladesh<br>Value=%{y}<extra></extra>",
         "legendgroup": "Bangladesh",
         "marker": {
          "color": "#FF7F0E",
          "symbol": "circle"
         },
         "name": "Bangladesh",
         "offsetgroup": "Bangladesh",
         "scalegroup": "y",
         "showlegend": false,
         "type": "violin",
         "xaxis": "x2",
         "y": [
          52.0433,
          67.8825,
          61.0943,
          70.711,
          69.8625,
          72.9737,
          70.711,
          52.609,
          66.4683,
          69.5796,
          84.5703,
          45.255,
          17.5363,
          27.7187,
          41.8609,
          65.8303,
          56.9715,
          14.1783,
          143.6658,
          44.6257,
          40.187,
          14.3518,
          12.539,
          148.4921,
          82.6873,
          138.0987,
          37.2337,
          17.1853,
          110.4222,
          103.0263,
          100.9497,
          193.0958,
          187.513,
          227.2157,
          198.7619,
          187.6098,
          194.407,
          252.7876,
          246.2309,
          197.5012,
          212.5486,
          197.5495,
          132.4326,
          298.0721,
          166.6834,
          171.5164,
          150.7318,
          154.3917
         ],
         "yaxis": "y2"
        },
        {
         "hovertemplate": "<b>OLS trendline</b><br>Value = 3.91706 * Year + -7704.61<br>R<sup>2</sup>=0.535506<br><br>Area=Bangladesh<br>Year=%{x}<br>Value=%{y} <b>(trend)</b><extra></extra>",
         "legendgroup": "Bangladesh",
         "marker": {
          "color": "#FF7F0E",
          "symbol": "circle"
         },
         "mode": "lines",
         "name": "Bangladesh",
         "showlegend": false,
         "type": "scatter",
         "x": [
          1972,
          1973,
          1974,
          1975,
          1976,
          1977,
          1978,
          1979,
          1980,
          1981,
          1982,
          1983,
          1984,
          1985,
          1986,
          1987,
          1988,
          1989,
          1990,
          1991,
          1992,
          1993,
          1994,
          1995,
          1996,
          1997,
          1998,
          1999,
          2000,
          2001,
          2002,
          2003,
          2004,
          2005,
          2006,
          2007,
          2008,
          2009,
          2010,
          2011,
          2012,
          2013,
          2014,
          2015,
          2016,
          2017,
          2018,
          2019
         ],
         "xaxis": "x",
         "y": [
          19.83176896257828,
          23.748830301050475,
          27.66589163952176,
          31.582952977993045,
          35.50001431646524,
          39.417075654936525,
          43.33413699340781,
          47.251198331880005,
          51.16825967035129,
          55.085321008823485,
          59.00238234729477,
          62.919443685766055,
          66.83650502423825,
          70.75356636270953,
          74.67062770118173,
          78.58768903965301,
          82.5047503781243,
          86.4218117165965,
          90.33887305506778,
          94.25593439353997,
          98.17299573201126,
          102.09005707048254,
          106.00711840895474,
          109.92417974742602,
          113.84124108589822,
          117.7583024243695,
          121.67536376284079,
          125.59242510131298,
          129.50948643978427,
          133.42654777825646,
          137.34360911672775,
          141.26067045519903,
          145.17773179367123,
          149.0947931321425,
          153.0118544706138,
          156.928915809086,
          160.84597714755728,
          164.76303848602947,
          168.68009982450076,
          172.59716116297204,
          176.51422250144424,
          180.43128383991552,
          184.34834517838772,
          188.265406516859,
          192.1824678553303,
          196.09952919380248,
          200.01659053227377,
          203.93365187074596
         ],
         "yaxis": "y"
        },
        {
         "hovertemplate": "Area=Germany<br>Year=%{x}<br>Value=%{y}<extra></extra>",
         "legendgroup": "Germany",
         "marker": {
          "color": "#2CA02C",
          "symbol": "circle"
         },
         "mode": "markers",
         "name": "Germany",
         "orientation": "v",
         "showlegend": true,
         "type": "scatter",
         "x": [
          1970,
          1971,
          1972,
          1973,
          1974,
          1975,
          1976,
          1977,
          1978,
          1979,
          1980,
          1981,
          1982,
          1983,
          1984,
          1985,
          1986,
          1987,
          1988,
          1989,
          1990,
          1991,
          1992,
          1993,
          1994,
          1995,
          1996,
          1997,
          1998,
          1999,
          2000,
          2001,
          2002,
          2003,
          2004,
          2005,
          2006,
          2007,
          2008,
          2009,
          2010,
          2011,
          2012,
          2013,
          2014,
          2015,
          2016,
          2017,
          2018,
          2019
         ],
         "xaxis": "x",
         "y": [
          1348.2676,
          1091.7317,
          1100.4562,
          1139.2521,
          1088.7617,
          855.1197,
          780.0647,
          745.8476,
          482.5053,
          471.3677,
          404.4803,
          442.0387,
          471.244,
          483.4335,
          508.493,
          488.136,
          439.3224,
          317.2884,
          146.4408,
          146.4408,
          151.3222,
          488.136,
          390.5088,
          341.6952,
          346.5766,
          429.5597,
          395.3902,
          488.136,
          185.4917,
          170.8476,
          156.2035,
          180.6103,
          146.4408,
          180.6103,
          175.729,
          97.6272,
          48.8136,
          64.8875,
          56.2529,
          47.5849,
          52.5668,
          60.1848,
          49.5955,
          38.6711,
          43.2732,
          64.0274,
          59.8832,
          59.5034,
          39.5312,
          38.7828
         ],
         "yaxis": "y"
        },
        {
         "alignmentgroup": "True",
         "hovertemplate": "Area=Germany<br>Year=%{x}<extra></extra>",
         "legendgroup": "Germany",
         "marker": {
          "color": "#2CA02C",
          "symbol": "circle"
         },
         "name": "Germany",
         "notched": true,
         "offsetgroup": "Germany",
         "showlegend": false,
         "type": "box",
         "x": [
          1970,
          1971,
          1972,
          1973,
          1974,
          1975,
          1976,
          1977,
          1978,
          1979,
          1980,
          1981,
          1982,
          1983,
          1984,
          1985,
          1986,
          1987,
          1988,
          1989,
          1990,
          1991,
          1992,
          1993,
          1994,
          1995,
          1996,
          1997,
          1998,
          1999,
          2000,
          2001,
          2002,
          2003,
          2004,
          2005,
          2006,
          2007,
          2008,
          2009,
          2010,
          2011,
          2012,
          2013,
          2014,
          2015,
          2016,
          2017,
          2018,
          2019
         ],
         "xaxis": "x3",
         "yaxis": "y3"
        },
        {
         "alignmentgroup": "True",
         "hovertemplate": "Area=Germany<br>Value=%{y}<extra></extra>",
         "legendgroup": "Germany",
         "marker": {
          "color": "#2CA02C",
          "symbol": "circle"
         },
         "name": "Germany",
         "offsetgroup": "Germany",
         "scalegroup": "y",
         "showlegend": false,
         "type": "violin",
         "xaxis": "x2",
         "y": [
          1348.2676,
          1091.7317,
          1100.4562,
          1139.2521,
          1088.7617,
          855.1197,
          780.0647,
          745.8476,
          482.5053,
          471.3677,
          404.4803,
          442.0387,
          471.244,
          483.4335,
          508.493,
          488.136,
          439.3224,
          317.2884,
          146.4408,
          146.4408,
          151.3222,
          488.136,
          390.5088,
          341.6952,
          346.5766,
          429.5597,
          395.3902,
          488.136,
          185.4917,
          170.8476,
          156.2035,
          180.6103,
          146.4408,
          180.6103,
          175.729,
          97.6272,
          48.8136,
          64.8875,
          56.2529,
          47.5849,
          52.5668,
          60.1848,
          49.5955,
          38.6711,
          43.2732,
          64.0274,
          59.8832,
          59.5034,
          39.5312,
          38.7828
         ],
         "yaxis": "y2"
        },
        {
         "hovertemplate": "<b>OLS trendline</b><br>Value = -20.2821 * Year + 40812.6<br>R<sup>2</sup>=0.750522<br><br>Area=Germany<br>Year=%{x}<br>Value=%{y} <b>(trend)</b><extra></extra>",
         "legendgroup": "Germany",
         "marker": {
          "color": "#2CA02C",
          "symbol": "circle"
         },
         "mode": "lines",
         "name": "Germany",
         "showlegend": false,
         "type": "scatter",
         "x": [
          1970,
          1971,
          1972,
          1973,
          1974,
          1975,
          1976,
          1977,
          1978,
          1979,
          1980,
          1981,
          1982,
          1983,
          1984,
          1985,
          1986,
          1987,
          1988,
          1989,
          1990,
          1991,
          1992,
          1993,
          1994,
          1995,
          1996,
          1997,
          1998,
          1999,
          2000,
          2001,
          2002,
          2003,
          2004,
          2005,
          2006,
          2007,
          2008,
          2009,
          2010,
          2011,
          2012,
          2013,
          2014,
          2015,
          2016,
          2017,
          2018,
          2019
         ],
         "xaxis": "x",
         "y": [
          856.8943595294113,
          836.6122514669842,
          816.330143404557,
          796.0480353421372,
          775.76592727971,
          755.4838192172829,
          735.201711154863,
          714.9196030924359,
          694.6374950300087,
          674.3553869675816,
          654.0732789051617,
          633.7911708427346,
          613.5090627803074,
          593.2269547178876,
          572.9448466554604,
          552.6627385930333,
          532.3806305306134,
          512.0985224681863,
          491.81641440575913,
          471.534306343332,
          451.2521982809121,
          430.970090218485,
          410.68798215605784,
          390.405874093638,
          370.12376603121083,
          349.8416579687837,
          329.5595499063638,
          309.2774418439367,
          288.99533378150954,
          268.7132257190824,
          248.43111765666254,
          228.1490095942354,
          207.86690153180825,
          187.5847934693884,
          167.30268540696125,
          147.0205773445341,
          126.73846928210696,
          106.4563612196871,
          86.17425315725995,
          65.89214509483281,
          45.61003703241295,
          25.327928969985805,
          5.045820907558664,
          -15.236287154861202,
          -35.518395217288344,
          -55.800503279715485,
          -76.08261134214263,
          -96.36471940456249,
          -116.64682746698963,
          -136.92893552941678
         ],
         "yaxis": "y"
        },
        {
         "hovertemplate": "Area=India<br>Year=%{x}<br>Value=%{y}<extra></extra>",
         "legendgroup": "India",
         "marker": {
          "color": "#D62728",
          "symbol": "circle"
         },
         "mode": "markers",
         "name": "India",
         "orientation": "v",
         "showlegend": true,
         "type": "scatter",
         "x": [
          1970,
          1971,
          1972,
          1973,
          1974,
          1975,
          1976,
          1977,
          1978,
          1979,
          1980,
          1981,
          1982,
          1983,
          1984,
          1985,
          1986,
          1987,
          1988,
          1989,
          1990,
          1991,
          1992,
          1993,
          1994,
          1995,
          1996,
          1997,
          1998,
          1999,
          2000,
          2001,
          2002,
          2003,
          2004,
          2005,
          2006,
          2007,
          2008,
          2009,
          2010,
          2011,
          2012,
          2013,
          2014,
          2015,
          2016,
          2017,
          2018,
          2019
         ],
         "xaxis": "x",
         "y": [
          13566.6094,
          13170.3451,
          13879.4348,
          14369.0377,
          15548.7798,
          16178.6732,
          16413.4337,
          17413.8527,
          15906.0117,
          15202.5788,
          17754.9625,
          17259.1371,
          16992.6981,
          19084.329,
          17904.5869,
          19809.8237,
          20731.3292,
          20975.858,
          22867.2917,
          22881.9727,
          21232.6661,
          21591.3983,
          20637.5611,
          22306.7921,
          21200.5668,
          21549.6334,
          21630.3584,
          21242.8225,
          17401.7625,
          14688.3754,
          11729.6831,
          9631.9319,
          10642.114,
          10917.6448,
          10529.1238,
          12766.4274,
          14945.6925,
          16255.6224,
          19957.9158,
          21046.0046,
          17326.6037,
          13215.5484,
          11083.9402,
          20417.914,
          16526.89,
          13199.1569,
          10533.0808,
          8840.0965,
          7127.9532,
          5248.1658
         ],
         "yaxis": "y"
        },
        {
         "alignmentgroup": "True",
         "hovertemplate": "Area=India<br>Year=%{x}<extra></extra>",
         "legendgroup": "India",
         "marker": {
          "color": "#D62728",
          "symbol": "circle"
         },
         "name": "India",
         "notched": true,
         "offsetgroup": "India",
         "showlegend": false,
         "type": "box",
         "x": [
          1970,
          1971,
          1972,
          1973,
          1974,
          1975,
          1976,
          1977,
          1978,
          1979,
          1980,
          1981,
          1982,
          1983,
          1984,
          1985,
          1986,
          1987,
          1988,
          1989,
          1990,
          1991,
          1992,
          1993,
          1994,
          1995,
          1996,
          1997,
          1998,
          1999,
          2000,
          2001,
          2002,
          2003,
          2004,
          2005,
          2006,
          2007,
          2008,
          2009,
          2010,
          2011,
          2012,
          2013,
          2014,
          2015,
          2016,
          2017,
          2018,
          2019
         ],
         "xaxis": "x3",
         "yaxis": "y3"
        },
        {
         "alignmentgroup": "True",
         "hovertemplate": "Area=India<br>Value=%{y}<extra></extra>",
         "legendgroup": "India",
         "marker": {
          "color": "#D62728",
          "symbol": "circle"
         },
         "name": "India",
         "offsetgroup": "India",
         "scalegroup": "y",
         "showlegend": false,
         "type": "violin",
         "xaxis": "x2",
         "y": [
          13566.6094,
          13170.3451,
          13879.4348,
          14369.0377,
          15548.7798,
          16178.6732,
          16413.4337,
          17413.8527,
          15906.0117,
          15202.5788,
          17754.9625,
          17259.1371,
          16992.6981,
          19084.329,
          17904.5869,
          19809.8237,
          20731.3292,
          20975.858,
          22867.2917,
          22881.9727,
          21232.6661,
          21591.3983,
          20637.5611,
          22306.7921,
          21200.5668,
          21549.6334,
          21630.3584,
          21242.8225,
          17401.7625,
          14688.3754,
          11729.6831,
          9631.9319,
          10642.114,
          10917.6448,
          10529.1238,
          12766.4274,
          14945.6925,
          16255.6224,
          19957.9158,
          21046.0046,
          17326.6037,
          13215.5484,
          11083.9402,
          20417.914,
          16526.89,
          13199.1569,
          10533.0808,
          8840.0965,
          7127.9532,
          5248.1658
         ],
         "yaxis": "y2"
        },
        {
         "hovertemplate": "<b>OLS trendline</b><br>Value = -105.421 * Year + 226528<br>R<sup>2</sup>=0.119422<br><br>Area=India<br>Year=%{x}<br>Value=%{y} <b>(trend)</b><extra></extra>",
         "legendgroup": "India",
         "marker": {
          "color": "#D62728",
          "symbol": "circle"
         },
         "mode": "lines",
         "name": "India",
         "showlegend": false,
         "type": "scatter",
         "x": [
          1970,
          1971,
          1972,
          1973,
          1974,
          1975,
          1976,
          1977,
          1978,
          1979,
          1980,
          1981,
          1982,
          1983,
          1984,
          1985,
          1986,
          1987,
          1988,
          1989,
          1990,
          1991,
          1992,
          1993,
          1994,
          1995,
          1996,
          1997,
          1998,
          1999,
          2000,
          2001,
          2002,
          2003,
          2004,
          2005,
          2006,
          2007,
          2008,
          2009,
          2010,
          2011,
          2012,
          2013,
          2014,
          2015,
          2016,
          2017,
          2018,
          2019
         ],
         "xaxis": "x",
         "y": [
          18849.489583999966,
          18744.068941551,
          18638.648299102002,
          18533.227656653035,
          18427.807014204038,
          18322.38637175507,
          18216.965729306103,
          18111.545086857106,
          18006.12444440814,
          17900.70380195917,
          17795.283159510174,
          17689.862517061207,
          17584.44187461221,
          17479.021232163243,
          17373.600589714275,
          17268.17994726528,
          17162.75930481631,
          17057.338662367314,
          16951.918019918347,
          16846.49737746938,
          16741.076735020382,
          16635.656092571415,
          16530.235450122447,
          16424.81480767345,
          16319.394165224483,
          16213.973522775486,
          16108.552880326519,
          16003.132237877551,
          15897.711595428555,
          15792.290952979587,
          15686.87031053059,
          15581.449668081623,
          15476.029025632655,
          15370.608383183659,
          15265.187740734691,
          15159.767098285723,
          15054.346455836727,
          14948.92581338776,
          14843.505170938763,
          14738.084528489795,
          14632.663886040827,
          14527.24324359183,
          14421.822601142863,
          14316.401958693867,
          14210.981316244899,
          14105.560673795932,
          14000.140031346935,
          13894.719388897967,
          13789.298746449,
          13683.878104000003
         ],
         "yaxis": "y"
        },
        {
         "hovertemplate": "Area=Pakistan<br>Year=%{x}<br>Value=%{y}<extra></extra>",
         "legendgroup": "Pakistan",
         "marker": {
          "color": "#9467BD",
          "symbol": "circle"
         },
         "mode": "markers",
         "name": "Pakistan",
         "orientation": "v",
         "showlegend": true,
         "type": "scatter",
         "x": [
          1972,
          1973,
          1974,
          1975,
          1976,
          1977,
          1978,
          1979,
          1980,
          1981,
          1982,
          1983,
          1984,
          1985,
          1986,
          1987,
          1988,
          1989,
          1990,
          1991,
          1992,
          1993,
          1994,
          1995,
          1996,
          1997,
          1998,
          1999,
          2000,
          2001,
          2002,
          2003,
          2004,
          2005,
          2006,
          2007,
          2008,
          2009,
          2010,
          2011,
          2012,
          2013,
          2014,
          2015,
          2016,
          2017,
          2018,
          2019
         ],
         "xaxis": "x",
         "y": [
          354.6863,
          352.1407,
          320.4622,
          339.9784,
          289.915,
          331.4931,
          350.7265,
          384.1021,
          438.4081,
          437.2767,
          494.4112,
          445.762,
          522.1299,
          623.6709,
          615.4684,
          633.4403,
          769.6794,
          688.9614,
          798.9155,
          750.9513,
          727.646,
          733.5363,
          825.6796,
          694.3511,
          748.1124,
          684.2938,
          562.9099,
          568.9824,
          471.804,
          425.2044,
          514.1222,
          704.1503,
          862.8278,
          941.1299,
          989.6741,
          1259.9888,
          849.2705,
          905.7826,
          791.2837,
          697.5697,
          523.1598,
          464.8181,
          421.1378,
          330.5334,
          316.4503,
          341.1439,
          309.349,
          286.9912
         ],
         "yaxis": "y"
        },
        {
         "alignmentgroup": "True",
         "hovertemplate": "Area=Pakistan<br>Year=%{x}<extra></extra>",
         "legendgroup": "Pakistan",
         "marker": {
          "color": "#9467BD",
          "symbol": "circle"
         },
         "name": "Pakistan",
         "notched": true,
         "offsetgroup": "Pakistan",
         "showlegend": false,
         "type": "box",
         "x": [
          1972,
          1973,
          1974,
          1975,
          1976,
          1977,
          1978,
          1979,
          1980,
          1981,
          1982,
          1983,
          1984,
          1985,
          1986,
          1987,
          1988,
          1989,
          1990,
          1991,
          1992,
          1993,
          1994,
          1995,
          1996,
          1997,
          1998,
          1999,
          2000,
          2001,
          2002,
          2003,
          2004,
          2005,
          2006,
          2007,
          2008,
          2009,
          2010,
          2011,
          2012,
          2013,
          2014,
          2015,
          2016,
          2017,
          2018,
          2019
         ],
         "xaxis": "x3",
         "yaxis": "y3"
        },
        {
         "alignmentgroup": "True",
         "hovertemplate": "Area=Pakistan<br>Value=%{y}<extra></extra>",
         "legendgroup": "Pakistan",
         "marker": {
          "color": "#9467BD",
          "symbol": "circle"
         },
         "name": "Pakistan",
         "offsetgroup": "Pakistan",
         "scalegroup": "y",
         "showlegend": false,
         "type": "violin",
         "xaxis": "x2",
         "y": [
          354.6863,
          352.1407,
          320.4622,
          339.9784,
          289.915,
          331.4931,
          350.7265,
          384.1021,
          438.4081,
          437.2767,
          494.4112,
          445.762,
          522.1299,
          623.6709,
          615.4684,
          633.4403,
          769.6794,
          688.9614,
          798.9155,
          750.9513,
          727.646,
          733.5363,
          825.6796,
          694.3511,
          748.1124,
          684.2938,
          562.9099,
          568.9824,
          471.804,
          425.2044,
          514.1222,
          704.1503,
          862.8278,
          941.1299,
          989.6741,
          1259.9888,
          849.2705,
          905.7826,
          791.2837,
          697.5697,
          523.1598,
          464.8181,
          421.1378,
          330.5334,
          316.4503,
          341.1439,
          309.349,
          286.9912
         ],
         "yaxis": "y2"
        },
        {
         "hovertemplate": "<b>OLS trendline</b><br>Value = 3.8171 * Year + -7035.88<br>R<sup>2</sup>=0.057221<br><br>Area=Pakistan<br>Year=%{x}<br>Value=%{y} <b>(trend)</b><extra></extra>",
         "legendgroup": "Pakistan",
         "marker": {
          "color": "#9467BD",
          "symbol": "circle"
         },
         "mode": "lines",
         "name": "Pakistan",
         "showlegend": false,
         "type": "scatter",
         "x": [
          1972,
          1973,
          1974,
          1975,
          1976,
          1977,
          1978,
          1979,
          1980,
          1981,
          1982,
          1983,
          1984,
          1985,
          1986,
          1987,
          1988,
          1989,
          1990,
          1991,
          1992,
          1993,
          1994,
          1995,
          1996,
          1997,
          1998,
          1999,
          2000,
          2001,
          2002,
          2003,
          2004,
          2005,
          2006,
          2007,
          2008,
          2009,
          2010,
          2011,
          2012,
          2013,
          2014,
          2015,
          2016,
          2017,
          2018,
          2019
         ],
         "xaxis": "x",
         "y": [
          491.4332515306123,
          495.2503493378208,
          499.0674471450284,
          502.88454495223596,
          506.70164275944444,
          510.518740566652,
          514.3358383738605,
          518.1529361810681,
          521.9700339882766,
          525.7871317954841,
          529.6042296026917,
          533.4213274099002,
          537.2384252171078,
          541.0555230243162,
          544.8726208315238,
          548.6897186387314,
          552.5068164459399,
          556.3239142531474,
          560.1410120603559,
          563.9581098675635,
          567.775207674772,
          571.5923054819796,
          575.4094032891871,
          579.2265010963956,
          583.0435989036032,
          586.8606967108117,
          590.6777945180193,
          594.4948923252268,
          598.3119901324353,
          602.1290879396429,
          605.9461857468514,
          609.763283554059,
          613.5803813612674,
          617.397479168475,
          621.2145769756826,
          625.0316747828911,
          628.8487725900986,
          632.6658703973071,
          636.4829682045147,
          640.3000660117223,
          644.1171638189307,
          647.9342616261383,
          651.7513594333468,
          655.5684572405544,
          659.3855550477629,
          663.2026528549704,
          667.019750662178,
          670.8368484693865
         ],
         "yaxis": "y"
        }
       ],
       "layout": {
        "legend": {
         "title": {
          "text": "Area"
         },
         "tracegroupgap": 0
        },
        "template": {
         "data": {
          "bar": [
           {
            "error_x": {
             "color": "rgb(36,36,36)"
            },
            "error_y": {
             "color": "rgb(36,36,36)"
            },
            "marker": {
             "line": {
              "color": "white",
              "width": 0.5
             },
             "pattern": {
              "fillmode": "overlay",
              "size": 10,
              "solidity": 0.2
             }
            },
            "type": "bar"
           }
          ],
          "barpolar": [
           {
            "marker": {
             "line": {
              "color": "white",
              "width": 0.5
             },
             "pattern": {
              "fillmode": "overlay",
              "size": 10,
              "solidity": 0.2
             }
            },
            "type": "barpolar"
           }
          ],
          "carpet": [
           {
            "aaxis": {
             "endlinecolor": "rgb(36,36,36)",
             "gridcolor": "white",
             "linecolor": "white",
             "minorgridcolor": "white",
             "startlinecolor": "rgb(36,36,36)"
            },
            "baxis": {
             "endlinecolor": "rgb(36,36,36)",
             "gridcolor": "white",
             "linecolor": "white",
             "minorgridcolor": "white",
             "startlinecolor": "rgb(36,36,36)"
            },
            "type": "carpet"
           }
          ],
          "choropleth": [
           {
            "colorbar": {
             "outlinewidth": 1,
             "tickcolor": "rgb(36,36,36)",
             "ticks": "outside"
            },
            "type": "choropleth"
           }
          ],
          "contour": [
           {
            "colorbar": {
             "outlinewidth": 1,
             "tickcolor": "rgb(36,36,36)",
             "ticks": "outside"
            },
            "colorscale": [
             [
              0,
              "#440154"
             ],
             [
              0.1111111111111111,
              "#482878"
             ],
             [
              0.2222222222222222,
              "#3e4989"
             ],
             [
              0.3333333333333333,
              "#31688e"
             ],
             [
              0.4444444444444444,
              "#26828e"
             ],
             [
              0.5555555555555556,
              "#1f9e89"
             ],
             [
              0.6666666666666666,
              "#35b779"
             ],
             [
              0.7777777777777778,
              "#6ece58"
             ],
             [
              0.8888888888888888,
              "#b5de2b"
             ],
             [
              1,
              "#fde725"
             ]
            ],
            "type": "contour"
           }
          ],
          "contourcarpet": [
           {
            "colorbar": {
             "outlinewidth": 1,
             "tickcolor": "rgb(36,36,36)",
             "ticks": "outside"
            },
            "type": "contourcarpet"
           }
          ],
          "heatmap": [
           {
            "colorbar": {
             "outlinewidth": 1,
             "tickcolor": "rgb(36,36,36)",
             "ticks": "outside"
            },
            "colorscale": [
             [
              0,
              "#440154"
             ],
             [
              0.1111111111111111,
              "#482878"
             ],
             [
              0.2222222222222222,
              "#3e4989"
             ],
             [
              0.3333333333333333,
              "#31688e"
             ],
             [
              0.4444444444444444,
              "#26828e"
             ],
             [
              0.5555555555555556,
              "#1f9e89"
             ],
             [
              0.6666666666666666,
              "#35b779"
             ],
             [
              0.7777777777777778,
              "#6ece58"
             ],
             [
              0.8888888888888888,
              "#b5de2b"
             ],
             [
              1,
              "#fde725"
             ]
            ],
            "type": "heatmap"
           }
          ],
          "heatmapgl": [
           {
            "colorbar": {
             "outlinewidth": 1,
             "tickcolor": "rgb(36,36,36)",
             "ticks": "outside"
            },
            "colorscale": [
             [
              0,
              "#440154"
             ],
             [
              0.1111111111111111,
              "#482878"
             ],
             [
              0.2222222222222222,
              "#3e4989"
             ],
             [
              0.3333333333333333,
              "#31688e"
             ],
             [
              0.4444444444444444,
              "#26828e"
             ],
             [
              0.5555555555555556,
              "#1f9e89"
             ],
             [
              0.6666666666666666,
              "#35b779"
             ],
             [
              0.7777777777777778,
              "#6ece58"
             ],
             [
              0.8888888888888888,
              "#b5de2b"
             ],
             [
              1,
              "#fde725"
             ]
            ],
            "type": "heatmapgl"
           }
          ],
          "histogram": [
           {
            "marker": {
             "line": {
              "color": "white",
              "width": 0.6
             }
            },
            "type": "histogram"
           }
          ],
          "histogram2d": [
           {
            "colorbar": {
             "outlinewidth": 1,
             "tickcolor": "rgb(36,36,36)",
             "ticks": "outside"
            },
            "colorscale": [
             [
              0,
              "#440154"
             ],
             [
              0.1111111111111111,
              "#482878"
             ],
             [
              0.2222222222222222,
              "#3e4989"
             ],
             [
              0.3333333333333333,
              "#31688e"
             ],
             [
              0.4444444444444444,
              "#26828e"
             ],
             [
              0.5555555555555556,
              "#1f9e89"
             ],
             [
              0.6666666666666666,
              "#35b779"
             ],
             [
              0.7777777777777778,
              "#6ece58"
             ],
             [
              0.8888888888888888,
              "#b5de2b"
             ],
             [
              1,
              "#fde725"
             ]
            ],
            "type": "histogram2d"
           }
          ],
          "histogram2dcontour": [
           {
            "colorbar": {
             "outlinewidth": 1,
             "tickcolor": "rgb(36,36,36)",
             "ticks": "outside"
            },
            "colorscale": [
             [
              0,
              "#440154"
             ],
             [
              0.1111111111111111,
              "#482878"
             ],
             [
              0.2222222222222222,
              "#3e4989"
             ],
             [
              0.3333333333333333,
              "#31688e"
             ],
             [
              0.4444444444444444,
              "#26828e"
             ],
             [
              0.5555555555555556,
              "#1f9e89"
             ],
             [
              0.6666666666666666,
              "#35b779"
             ],
             [
              0.7777777777777778,
              "#6ece58"
             ],
             [
              0.8888888888888888,
              "#b5de2b"
             ],
             [
              1,
              "#fde725"
             ]
            ],
            "type": "histogram2dcontour"
           }
          ],
          "mesh3d": [
           {
            "colorbar": {
             "outlinewidth": 1,
             "tickcolor": "rgb(36,36,36)",
             "ticks": "outside"
            },
            "type": "mesh3d"
           }
          ],
          "parcoords": [
           {
            "line": {
             "colorbar": {
              "outlinewidth": 1,
              "tickcolor": "rgb(36,36,36)",
              "ticks": "outside"
             }
            },
            "type": "parcoords"
           }
          ],
          "pie": [
           {
            "automargin": true,
            "type": "pie"
           }
          ],
          "scatter": [
           {
            "marker": {
             "colorbar": {
              "outlinewidth": 1,
              "tickcolor": "rgb(36,36,36)",
              "ticks": "outside"
             }
            },
            "type": "scatter"
           }
          ],
          "scatter3d": [
           {
            "line": {
             "colorbar": {
              "outlinewidth": 1,
              "tickcolor": "rgb(36,36,36)",
              "ticks": "outside"
             }
            },
            "marker": {
             "colorbar": {
              "outlinewidth": 1,
              "tickcolor": "rgb(36,36,36)",
              "ticks": "outside"
             }
            },
            "type": "scatter3d"
           }
          ],
          "scattercarpet": [
           {
            "marker": {
             "colorbar": {
              "outlinewidth": 1,
              "tickcolor": "rgb(36,36,36)",
              "ticks": "outside"
             }
            },
            "type": "scattercarpet"
           }
          ],
          "scattergeo": [
           {
            "marker": {
             "colorbar": {
              "outlinewidth": 1,
              "tickcolor": "rgb(36,36,36)",
              "ticks": "outside"
             }
            },
            "type": "scattergeo"
           }
          ],
          "scattergl": [
           {
            "marker": {
             "colorbar": {
              "outlinewidth": 1,
              "tickcolor": "rgb(36,36,36)",
              "ticks": "outside"
             }
            },
            "type": "scattergl"
           }
          ],
          "scattermapbox": [
           {
            "marker": {
             "colorbar": {
              "outlinewidth": 1,
              "tickcolor": "rgb(36,36,36)",
              "ticks": "outside"
             }
            },
            "type": "scattermapbox"
           }
          ],
          "scatterpolar": [
           {
            "marker": {
             "colorbar": {
              "outlinewidth": 1,
              "tickcolor": "rgb(36,36,36)",
              "ticks": "outside"
             }
            },
            "type": "scatterpolar"
           }
          ],
          "scatterpolargl": [
           {
            "marker": {
             "colorbar": {
              "outlinewidth": 1,
              "tickcolor": "rgb(36,36,36)",
              "ticks": "outside"
             }
            },
            "type": "scatterpolargl"
           }
          ],
          "scatterternary": [
           {
            "marker": {
             "colorbar": {
              "outlinewidth": 1,
              "tickcolor": "rgb(36,36,36)",
              "ticks": "outside"
             }
            },
            "type": "scatterternary"
           }
          ],
          "surface": [
           {
            "colorbar": {
             "outlinewidth": 1,
             "tickcolor": "rgb(36,36,36)",
             "ticks": "outside"
            },
            "colorscale": [
             [
              0,
              "#440154"
             ],
             [
              0.1111111111111111,
              "#482878"
             ],
             [
              0.2222222222222222,
              "#3e4989"
             ],
             [
              0.3333333333333333,
              "#31688e"
             ],
             [
              0.4444444444444444,
              "#26828e"
             ],
             [
              0.5555555555555556,
              "#1f9e89"
             ],
             [
              0.6666666666666666,
              "#35b779"
             ],
             [
              0.7777777777777778,
              "#6ece58"
             ],
             [
              0.8888888888888888,
              "#b5de2b"
             ],
             [
              1,
              "#fde725"
             ]
            ],
            "type": "surface"
           }
          ],
          "table": [
           {
            "cells": {
             "fill": {
              "color": "rgb(237,237,237)"
             },
             "line": {
              "color": "white"
             }
            },
            "header": {
             "fill": {
              "color": "rgb(217,217,217)"
             },
             "line": {
              "color": "white"
             }
            },
            "type": "table"
           }
          ]
         },
         "layout": {
          "annotationdefaults": {
           "arrowhead": 0,
           "arrowwidth": 1
          },
          "autotypenumbers": "strict",
          "coloraxis": {
           "colorbar": {
            "outlinewidth": 1,
            "tickcolor": "rgb(36,36,36)",
            "ticks": "outside"
           }
          },
          "colorscale": {
           "diverging": [
            [
             0,
             "rgb(103,0,31)"
            ],
            [
             0.1,
             "rgb(178,24,43)"
            ],
            [
             0.2,
             "rgb(214,96,77)"
            ],
            [
             0.3,
             "rgb(244,165,130)"
            ],
            [
             0.4,
             "rgb(253,219,199)"
            ],
            [
             0.5,
             "rgb(247,247,247)"
            ],
            [
             0.6,
             "rgb(209,229,240)"
            ],
            [
             0.7,
             "rgb(146,197,222)"
            ],
            [
             0.8,
             "rgb(67,147,195)"
            ],
            [
             0.9,
             "rgb(33,102,172)"
            ],
            [
             1,
             "rgb(5,48,97)"
            ]
           ],
           "sequential": [
            [
             0,
             "#440154"
            ],
            [
             0.1111111111111111,
             "#482878"
            ],
            [
             0.2222222222222222,
             "#3e4989"
            ],
            [
             0.3333333333333333,
             "#31688e"
            ],
            [
             0.4444444444444444,
             "#26828e"
            ],
            [
             0.5555555555555556,
             "#1f9e89"
            ],
            [
             0.6666666666666666,
             "#35b779"
            ],
            [
             0.7777777777777778,
             "#6ece58"
            ],
            [
             0.8888888888888888,
             "#b5de2b"
            ],
            [
             1,
             "#fde725"
            ]
           ],
           "sequentialminus": [
            [
             0,
             "#440154"
            ],
            [
             0.1111111111111111,
             "#482878"
            ],
            [
             0.2222222222222222,
             "#3e4989"
            ],
            [
             0.3333333333333333,
             "#31688e"
            ],
            [
             0.4444444444444444,
             "#26828e"
            ],
            [
             0.5555555555555556,
             "#1f9e89"
            ],
            [
             0.6666666666666666,
             "#35b779"
            ],
            [
             0.7777777777777778,
             "#6ece58"
            ],
            [
             0.8888888888888888,
             "#b5de2b"
            ],
            [
             1,
             "#fde725"
            ]
           ]
          },
          "colorway": [
           "#1F77B4",
           "#FF7F0E",
           "#2CA02C",
           "#D62728",
           "#9467BD",
           "#8C564B",
           "#E377C2",
           "#7F7F7F",
           "#BCBD22",
           "#17BECF"
          ],
          "font": {
           "color": "rgb(36,36,36)"
          },
          "geo": {
           "bgcolor": "white",
           "lakecolor": "white",
           "landcolor": "white",
           "showlakes": true,
           "showland": true,
           "subunitcolor": "white"
          },
          "hoverlabel": {
           "align": "left"
          },
          "hovermode": "closest",
          "mapbox": {
           "style": "light"
          },
          "paper_bgcolor": "white",
          "plot_bgcolor": "white",
          "polar": {
           "angularaxis": {
            "gridcolor": "rgb(232,232,232)",
            "linecolor": "rgb(36,36,36)",
            "showgrid": false,
            "showline": true,
            "ticks": "outside"
           },
           "bgcolor": "white",
           "radialaxis": {
            "gridcolor": "rgb(232,232,232)",
            "linecolor": "rgb(36,36,36)",
            "showgrid": false,
            "showline": true,
            "ticks": "outside"
           }
          },
          "scene": {
           "xaxis": {
            "backgroundcolor": "white",
            "gridcolor": "rgb(232,232,232)",
            "gridwidth": 2,
            "linecolor": "rgb(36,36,36)",
            "showbackground": true,
            "showgrid": false,
            "showline": true,
            "ticks": "outside",
            "zeroline": false,
            "zerolinecolor": "rgb(36,36,36)"
           },
           "yaxis": {
            "backgroundcolor": "white",
            "gridcolor": "rgb(232,232,232)",
            "gridwidth": 2,
            "linecolor": "rgb(36,36,36)",
            "showbackground": true,
            "showgrid": false,
            "showline": true,
            "ticks": "outside",
            "zeroline": false,
            "zerolinecolor": "rgb(36,36,36)"
           },
           "zaxis": {
            "backgroundcolor": "white",
            "gridcolor": "rgb(232,232,232)",
            "gridwidth": 2,
            "linecolor": "rgb(36,36,36)",
            "showbackground": true,
            "showgrid": false,
            "showline": true,
            "ticks": "outside",
            "zeroline": false,
            "zerolinecolor": "rgb(36,36,36)"
           }
          },
          "shapedefaults": {
           "fillcolor": "black",
           "line": {
            "width": 0
           },
           "opacity": 0.3
          },
          "ternary": {
           "aaxis": {
            "gridcolor": "rgb(232,232,232)",
            "linecolor": "rgb(36,36,36)",
            "showgrid": false,
            "showline": true,
            "ticks": "outside"
           },
           "baxis": {
            "gridcolor": "rgb(232,232,232)",
            "linecolor": "rgb(36,36,36)",
            "showgrid": false,
            "showline": true,
            "ticks": "outside"
           },
           "bgcolor": "white",
           "caxis": {
            "gridcolor": "rgb(232,232,232)",
            "linecolor": "rgb(36,36,36)",
            "showgrid": false,
            "showline": true,
            "ticks": "outside"
           }
          },
          "title": {
           "x": 0.05
          },
          "xaxis": {
           "automargin": true,
           "gridcolor": "rgb(232,232,232)",
           "linecolor": "rgb(36,36,36)",
           "showgrid": false,
           "showline": true,
           "ticks": "outside",
           "title": {
            "standoff": 15
           },
           "zeroline": false,
           "zerolinecolor": "rgb(36,36,36)"
          },
          "yaxis": {
           "automargin": true,
           "gridcolor": "rgb(232,232,232)",
           "linecolor": "rgb(36,36,36)",
           "showgrid": false,
           "showline": true,
           "ticks": "outside",
           "title": {
            "standoff": 15
           },
           "zeroline": false,
           "zerolinecolor": "rgb(36,36,36)"
          }
         }
        },
        "title": {
         "text": "Annual CO2 Emmissions beacause of coal in different countries"
        },
        "xaxis": {
         "anchor": "y",
         "domain": [
          0,
          0.7363
         ],
         "title": {
          "text": "Year"
         }
        },
        "xaxis2": {
         "anchor": "y2",
         "domain": [
          0.7413,
          1
         ],
         "matches": "x2",
         "showline": false,
         "showticklabels": false,
         "ticks": ""
        },
        "xaxis3": {
         "anchor": "y3",
         "domain": [
          0,
          0.7363
         ],
         "matches": "x",
         "showticklabels": false
        },
        "xaxis4": {
         "anchor": "y4",
         "domain": [
          0.7413,
          1
         ],
         "matches": "x2",
         "showline": false,
         "showticklabels": false,
         "ticks": ""
        },
        "yaxis": {
         "anchor": "x",
         "domain": [
          0,
          0.7326
         ],
         "title": {
          "text": "Value"
         }
        },
        "yaxis2": {
         "anchor": "x2",
         "domain": [
          0,
          0.7326
         ],
         "matches": "y",
         "showticklabels": false
        },
        "yaxis3": {
         "anchor": "x3",
         "domain": [
          0.7426,
          1
         ],
         "matches": "y3",
         "showline": false,
         "showticklabels": false,
         "ticks": ""
        },
        "yaxis4": {
         "anchor": "x4",
         "domain": [
          0.7426,
          1
         ],
         "matches": "y3",
         "showline": false,
         "showticklabels": false,
         "ticks": ""
        }
       }
      }
     },
     "metadata": {},
     "output_type": "display_data"
    }
   ],
   "source": [
    "import plotly.express as px\n",
    "df4= pd.read_csv(\"CEC.csv\")\n",
    "fig = px.scatter(df4, x=\"Year\", y=\"Value\", color=\"Area\", marginal_y=\"violin\",\n",
    "           marginal_x=\"box\", trendline=\"ols\", template=\"simple_white\",  title=\"Annual CO2 Emmissions beacause of coal in different countries\")\n",
    "fig.show()"
   ]
  },
  {
   "cell_type": "markdown",
   "metadata": {},
   "source": [
    "# Export value of different animals from pakistan"
   ]
  },
  {
   "cell_type": "code",
   "execution_count": 71,
   "metadata": {},
   "outputs": [
    {
     "data": {
      "application/vnd.plotly.v1+json": {
       "config": {
        "plotlyServerURL": "https://plot.ly"
       },
       "data": [
        {
         "domain": {
          "x": [
           0,
           1
          ],
          "y": [
           0,
           1
          ]
         },
         "hovertemplate": "Item=%{label}<br>Value=%{value}<extra></extra>",
         "labels": [
          "Animals live nes",
          "Animals live nes",
          "Animals live nes",
          "Animals live nes",
          "Animals live nes",
          "Animals live nes",
          "Animals live nes",
          "Animals live nes",
          "Animals live nes",
          "Animals live nes",
          "Animals live nes",
          "Animals live nes",
          "Animals live nes",
          "Animals live nes",
          "Animals live nes",
          "Animals live nes",
          "Animals live nes",
          "Animals live nes",
          "Animals live nes",
          "Animals live nes",
          "Animals live nes",
          "Animals live nes",
          "Animals live nes",
          "Animals live nes",
          "Animals live nes",
          "Animals live nes",
          "Animals live nes",
          "Animals live nes",
          "Animals live nes",
          "Animals live nes",
          "Animals live nes",
          "Animals live nes",
          "Animals live nes",
          "Animals live nes",
          "Animals live nes",
          "Animals live nes",
          "Animals live nes",
          "Animals live nes",
          "Animals live nes",
          "Animals live nes",
          "Animals live nes",
          "Animals live nes",
          "Animals live nes",
          "Animals live nes",
          "Animals live nes",
          "Animals live nes",
          "Animals live nes",
          "Animals live nes",
          "Animals live nes",
          "Animals live nes",
          "Animals live nes",
          "Animals live nes",
          "Animals live nes",
          "Animals live nes",
          "Animals live nes",
          "Animals live nes",
          "Animals live nes",
          "Animals live nes",
          "Animals live nes",
          "Animals live nes",
          "Animals, live, non-food",
          "Animals, live, non-food",
          "Animals, live, non-food",
          "Animals, live, non-food",
          "Animals, live, non-food",
          "Animals, live, non-food",
          "Animals, live, non-food",
          "Animals, live, non-food",
          "Animals, live, non-food",
          "Animals, live, non-food",
          "Animals, live, non-food",
          "Animals, live, non-food",
          "Animals, live, non-food",
          "Animals, live, non-food",
          "Animals, live, non-food",
          "Animals, live, non-food",
          "Animals, live, non-food",
          "Animals, live, non-food",
          "Animals, live, non-food",
          "Animals, live, non-food",
          "Animals, live, non-food",
          "Animals, live, non-food",
          "Animals, live, non-food",
          "Animals, live, non-food",
          "Animals, live, non-food",
          "Animals, live, non-food",
          "Animals, live, non-food",
          "Animals, live, non-food",
          "Animals, live, non-food",
          "Animals, live, non-food",
          "Animals, live, non-food",
          "Animals, live, non-food",
          "Animals, live, non-food",
          "Animals, live, non-food",
          "Animals, live, non-food",
          "Animals, live, non-food",
          "Animals, live, non-food",
          "Animals, live, non-food",
          "Animals, live, non-food",
          "Animals, live, non-food",
          "Animals, live, non-food",
          "Animals, live, non-food",
          "Animals, live, non-food",
          "Animals, live, non-food",
          "Animals, live, non-food",
          "Animals, live, non-food",
          "Animals, live, non-food",
          "Animals, live, non-food",
          "Animals, live, non-food",
          "Animals, live, non-food",
          "Animals, live, non-food",
          "Animals, live, non-food",
          "Animals, live, non-food",
          "Animals, live, non-food",
          "Animals, live, non-food",
          "Animals, live, non-food",
          "Animals, live, non-food",
          "Animals, live, non-food",
          "Animals, live, non-food",
          "Animals, live, non-food",
          "Buffaloes",
          "Buffaloes",
          "Buffaloes",
          "Buffaloes",
          "Buffaloes",
          "Buffaloes",
          "Buffaloes",
          "Buffaloes",
          "Buffaloes",
          "Buffaloes",
          "Buffaloes",
          "Buffaloes",
          "Buffaloes",
          "Buffaloes",
          "Buffaloes",
          "Buffaloes",
          "Buffaloes",
          "Buffaloes",
          "Buffaloes",
          "Buffaloes",
          "Buffaloes",
          "Buffaloes",
          "Buffaloes",
          "Buffaloes",
          "Buffaloes",
          "Buffaloes",
          "Buffaloes",
          "Buffaloes",
          "Buffaloes",
          "Buffaloes",
          "Buffaloes",
          "Buffaloes",
          "Buffaloes",
          "Buffaloes",
          "Buffaloes",
          "Buffaloes",
          "Buffaloes",
          "Buffaloes",
          "Buffaloes",
          "Buffaloes",
          "Buffaloes",
          "Buffaloes",
          "Buffaloes",
          "Buffaloes",
          "Buffaloes",
          "Buffaloes",
          "Buffaloes",
          "Buffaloes",
          "Buffaloes",
          "Buffaloes",
          "Buffaloes",
          "Buffaloes",
          "Buffaloes",
          "Buffaloes",
          "Camels",
          "Camels",
          "Camels",
          "Camels",
          "Camels",
          "Camels",
          "Camels",
          "Camels",
          "Camels",
          "Camels",
          "Camels",
          "Camels",
          "Camels",
          "Camels",
          "Camels",
          "Camels",
          "Camels",
          "Camels",
          "Camels",
          "Camels",
          "Camels",
          "Camels",
          "Camels",
          "Camels",
          "Camels",
          "Camels",
          "Camels",
          "Camels",
          "Camels",
          "Camels",
          "Camels",
          "Camels",
          "Camels",
          "Camels",
          "Camels",
          "Camels",
          "Camels",
          "Camels",
          "Camels",
          "Camels",
          "Camels",
          "Camels",
          "Camels",
          "Camels",
          "Camels",
          "Camels",
          "Camels",
          "Camels",
          "Camels",
          "Camels",
          "Camels",
          "Camels",
          "Camels",
          "Cattle",
          "Cattle",
          "Cattle",
          "Cattle",
          "Cattle",
          "Cattle",
          "Cattle",
          "Cattle",
          "Cattle",
          "Cattle",
          "Cattle",
          "Cattle",
          "Cattle",
          "Cattle",
          "Cattle",
          "Cattle",
          "Cattle",
          "Cattle",
          "Cattle",
          "Cattle",
          "Cattle",
          "Cattle",
          "Cattle",
          "Cattle",
          "Cattle",
          "Cattle",
          "Cattle",
          "Cattle",
          "Cattle",
          "Cattle",
          "Cattle",
          "Cattle",
          "Cattle",
          "Cattle",
          "Cattle",
          "Cattle",
          "Cattle",
          "Cattle",
          "Cattle",
          "Cattle",
          "Cattle",
          "Cattle",
          "Cattle",
          "Cattle",
          "Cattle",
          "Cattle",
          "Cattle",
          "Cattle",
          "Cattle",
          "Cattle",
          "Cattle",
          "Cattle",
          "Cattle",
          "Cattle",
          "Cattle",
          "Chickens",
          "Chickens",
          "Chickens",
          "Chickens",
          "Chickens",
          "Chickens",
          "Chickens",
          "Chickens",
          "Chickens",
          "Chickens",
          "Chickens",
          "Chickens",
          "Chickens",
          "Chickens",
          "Chickens",
          "Chickens",
          "Chickens",
          "Chickens",
          "Chickens",
          "Chickens",
          "Chickens",
          "Chickens",
          "Chickens",
          "Chickens",
          "Chickens",
          "Chickens",
          "Chickens",
          "Chickens",
          "Chickens",
          "Chickens",
          "Chickens",
          "Chickens",
          "Chickens",
          "Chickens",
          "Chickens",
          "Chickens",
          "Chickens",
          "Chickens",
          "Chickens",
          "Chickens",
          "Chickens",
          "Chickens",
          "Chickens",
          "Chickens",
          "Chickens",
          "Chickens",
          "Chickens",
          "Chickens",
          "Chickens",
          "Chickens",
          "Chickens",
          "Chickens",
          "Chickens",
          "Chickens",
          "Chickens",
          "Chickens",
          "Chickens",
          "Chickens",
          "Chickens",
          "Chickens",
          "Ducks",
          "Ducks",
          "Ducks",
          "Ducks",
          "Ducks",
          "Ducks",
          "Ducks",
          "Ducks",
          "Ducks",
          "Ducks",
          "Ducks",
          "Ducks",
          "Ducks",
          "Ducks",
          "Ducks",
          "Ducks",
          "Ducks",
          "Ducks",
          "Ducks",
          "Ducks",
          "Ducks",
          "Ducks",
          "Ducks",
          "Ducks",
          "Ducks",
          "Ducks",
          "Ducks",
          "Ducks",
          "Ducks",
          "Ducks",
          "Ducks",
          "Ducks",
          "Ducks",
          "Ducks",
          "Ducks",
          "Ducks",
          "Ducks",
          "Ducks",
          "Ducks",
          "Ducks",
          "Ducks",
          "Ducks",
          "Ducks",
          "Ducks",
          "Ducks",
          "Ducks",
          "Ducks",
          "Ducks",
          "Ducks",
          "Ducks",
          "Ducks",
          "Ducks",
          "Ducks",
          "Goats",
          "Goats",
          "Goats",
          "Goats",
          "Goats",
          "Goats",
          "Goats",
          "Goats",
          "Goats",
          "Goats",
          "Goats",
          "Goats",
          "Goats",
          "Goats",
          "Goats",
          "Goats",
          "Goats",
          "Goats",
          "Goats",
          "Goats",
          "Goats",
          "Goats",
          "Goats",
          "Goats",
          "Goats",
          "Goats",
          "Goats",
          "Goats",
          "Goats",
          "Goats",
          "Goats",
          "Goats",
          "Goats",
          "Goats",
          "Goats",
          "Goats",
          "Goats",
          "Goats",
          "Goats",
          "Goats",
          "Goats",
          "Goats",
          "Goats",
          "Goats",
          "Goats",
          "Goats",
          "Goats",
          "Goats",
          "Goats",
          "Goats",
          "Goats",
          "Goats",
          "Goats",
          "Goats",
          "Goats",
          "Goats",
          "Goats",
          "Goats",
          "Horses",
          "Horses",
          "Horses",
          "Horses",
          "Horses",
          "Horses",
          "Horses",
          "Horses",
          "Horses",
          "Horses",
          "Horses",
          "Horses",
          "Horses",
          "Horses",
          "Horses",
          "Horses",
          "Horses",
          "Horses",
          "Horses",
          "Horses",
          "Horses",
          "Horses",
          "Horses",
          "Horses",
          "Horses",
          "Horses",
          "Horses",
          "Horses",
          "Horses",
          "Horses",
          "Horses",
          "Horses",
          "Horses",
          "Horses",
          "Horses",
          "Horses",
          "Horses",
          "Horses",
          "Horses",
          "Horses",
          "Horses",
          "Horses",
          "Horses",
          "Horses",
          "Horses",
          "Horses",
          "Horses",
          "Horses",
          "Horses",
          "Horses",
          "Horses",
          "Horses",
          "Horses",
          "Mules",
          "Mules",
          "Mules",
          "Mules",
          "Mules",
          "Mules",
          "Mules",
          "Mules",
          "Mules",
          "Mules",
          "Mules",
          "Mules",
          "Mules",
          "Mules",
          "Mules",
          "Mules",
          "Mules",
          "Mules",
          "Mules",
          "Mules",
          "Mules",
          "Mules",
          "Mules",
          "Mules",
          "Mules",
          "Mules",
          "Mules",
          "Mules",
          "Mules",
          "Mules",
          "Mules",
          "Mules",
          "Mules",
          "Mules",
          "Mules",
          "Mules",
          "Mules",
          "Mules",
          "Mules",
          "Mules",
          "Mules",
          "Mules",
          "Mules",
          "Mules",
          "Mules",
          "Mules",
          "Mules",
          "Mules",
          "Mules",
          "Mules",
          "Mules",
          "Mules",
          "Mules",
          "Mules",
          "Mules",
          "Mules",
          "Mules",
          "Rabbits and hares",
          "Rabbits and hares",
          "Rabbits and hares",
          "Rabbits and hares",
          "Rabbits and hares",
          "Rabbits and hares",
          "Rabbits and hares",
          "Rabbits and hares",
          "Rabbits and hares",
          "Rabbits and hares",
          "Rabbits and hares",
          "Rabbits and hares",
          "Rabbits and hares",
          "Rabbits and hares",
          "Rabbits and hares",
          "Rabbits and hares",
          "Rabbits and hares",
          "Rabbits and hares",
          "Rabbits and hares",
          "Rabbits and hares",
          "Rabbits and hares",
          "Rabbits and hares",
          "Rabbits and hares",
          "Rabbits and hares",
          "Rabbits and hares",
          "Rabbits and hares",
          "Rabbits and hares",
          "Rabbits and hares",
          "Rabbits and hares",
          "Rabbits and hares",
          "Rabbits and hares",
          "Rabbits and hares",
          "Rabbits and hares",
          "Rabbits and hares",
          "Rabbits and hares",
          "Rabbits and hares",
          "Rabbits and hares",
          "Rabbits and hares",
          "Rabbits and hares",
          "Rabbits and hares",
          "Rabbits and hares",
          "Rabbits and hares",
          "Rabbits and hares",
          "Rabbits and hares",
          "Rabbits and hares",
          "Rabbits and hares",
          "Rabbits and hares",
          "Rabbits and hares",
          "Rabbits and hares",
          "Rabbits and hares",
          "Rabbits and hares",
          "Rabbits and hares",
          "Rabbits and hares",
          "Rabbits and hares",
          "Rabbits and hares",
          "Rabbits and hares",
          "Rabbits and hares",
          "Rabbits and hares",
          "Sheep",
          "Sheep",
          "Sheep",
          "Sheep",
          "Sheep",
          "Sheep",
          "Sheep",
          "Sheep",
          "Sheep",
          "Sheep",
          "Sheep",
          "Sheep",
          "Sheep",
          "Sheep",
          "Sheep",
          "Sheep",
          "Sheep",
          "Sheep",
          "Sheep",
          "Sheep",
          "Sheep",
          "Sheep",
          "Sheep",
          "Sheep",
          "Sheep",
          "Sheep",
          "Sheep",
          "Sheep",
          "Sheep",
          "Sheep",
          "Sheep",
          "Sheep",
          "Sheep",
          "Sheep",
          "Sheep",
          "Sheep",
          "Sheep",
          "Sheep",
          "Sheep",
          "Sheep",
          "Sheep",
          "Sheep",
          "Sheep",
          "Sheep",
          "Sheep",
          "Sheep",
          "Sheep",
          "Sheep",
          "Sheep",
          "Sheep",
          "Sheep",
          "Sheep",
          "Sheep",
          "Sheep",
          "Sheep"
         ],
         "legendgroup": "",
         "name": "",
         "showlegend": true,
         "type": "pie",
         "values": [
          0,
          0,
          0,
          0,
          1,
          2,
          4,
          23,
          8,
          0,
          1,
          2,
          1,
          2,
          3,
          15,
          0,
          0,
          7,
          48,
          101,
          133,
          376,
          55,
          6,
          15,
          6,
          13,
          42,
          784,
          896,
          10,
          23,
          38,
          81,
          42,
          17,
          5,
          5,
          0,
          0,
          0,
          0,
          109,
          1289,
          2,
          2,
          0,
          7,
          180,
          104,
          332,
          288,
          219,
          133,
          365,
          156,
          5,
          61,
          277,
          0,
          0,
          0,
          0,
          0,
          0,
          0,
          0,
          0,
          0,
          0,
          0,
          0,
          0,
          0,
          0,
          0,
          0,
          0,
          0,
          0,
          0,
          24,
          83,
          49,
          71,
          42,
          107,
          16,
          87,
          152,
          1493,
          902,
          955,
          1660,
          2064,
          1477,
          1314,
          1470,
          1533,
          1510,
          1905,
          2281,
          1398,
          875,
          529,
          107,
          11,
          116,
          843,
          746,
          1241,
          1172,
          872,
          684,
          1155,
          1256,
          605,
          826,
          571,
          0,
          0,
          0,
          0,
          0,
          0,
          0,
          0,
          0,
          0,
          0,
          0,
          0,
          10,
          0,
          0,
          0,
          0,
          0,
          1882,
          603,
          7,
          31,
          0,
          32,
          55,
          16,
          0,
          200,
          206,
          85,
          179,
          0,
          5,
          14,
          0,
          0,
          0,
          0,
          312,
          677,
          1273,
          0,
          0,
          0,
          0,
          0,
          0,
          0,
          0,
          0,
          141,
          1681,
          422,
          0,
          0,
          0,
          0,
          0,
          0,
          0,
          0,
          0,
          0,
          0,
          0,
          0,
          0,
          0,
          0,
          0,
          0,
          0,
          0,
          0,
          21,
          27,
          2915,
          5196,
          4330,
          1362,
          838,
          724,
          328,
          0,
          0,
          3,
          0,
          0,
          3,
          0,
          0,
          389,
          55,
          324,
          557,
          0,
          0,
          0,
          0,
          0,
          0,
          0,
          0,
          0,
          0,
          0,
          0,
          0,
          0,
          0,
          0,
          0,
          0,
          0,
          0,
          0,
          0,
          0,
          10,
          5,
          35,
          74,
          0,
          0,
          190,
          51,
          78,
          68,
          2645,
          2458,
          5320,
          3986,
          4218,
          5635,
          4015,
          1755,
          1158,
          1671,
          1649,
          878,
          319,
          0,
          0,
          0,
          0,
          2013,
          683,
          2371,
          14421,
          2807,
          1,
          88,
          11,
          11,
          432,
          17653,
          17463,
          14171,
          10756,
          708,
          549,
          0,
          0,
          0,
          0,
          0,
          1,
          37,
          149,
          127,
          96,
          70,
          80,
          298,
          3,
          0,
          35,
          0,
          0,
          108,
          89,
          58,
          18,
          3,
          2,
          0,
          116,
          86,
          197,
          77,
          77,
          62,
          84,
          50,
          3,
          3,
          0,
          153,
          449,
          258,
          469,
          657,
          869,
          3288,
          3050,
          2023,
          979,
          117,
          84,
          38,
          345,
          3596,
          2221,
          3119,
          2421,
          2187,
          4400,
          3806,
          8318,
          5141,
          8626,
          0,
          0,
          0,
          0,
          0,
          0,
          0,
          0,
          0,
          0,
          0,
          0,
          0,
          0,
          0,
          0,
          0,
          0,
          0,
          0,
          2,
          0,
          1,
          0,
          0,
          1,
          2,
          0,
          0,
          0,
          0,
          0,
          0,
          0,
          0,
          0,
          0,
          0,
          0,
          0,
          2,
          2,
          0,
          0,
          0,
          0,
          0,
          0,
          0,
          0,
          0,
          0,
          0,
          0,
          0,
          0,
          0,
          0,
          0,
          0,
          0,
          0,
          0,
          0,
          0,
          3,
          2,
          7,
          10,
          0,
          0,
          0,
          0,
          12,
          58,
          22,
          2983,
          5172,
          3758,
          4513,
          421,
          1402,
          4541,
          624,
          747,
          305,
          643,
          133,
          18,
          21,
          62,
          235,
          87,
          420,
          60,
          801,
          79,
          3,
          0,
          0,
          0,
          14,
          879,
          335,
          628,
          109,
          150,
          150,
          120,
          120,
          27,
          0,
          0,
          0,
          0,
          0,
          0,
          0,
          0,
          0,
          33,
          2,
          0,
          0,
          4,
          19,
          13,
          0,
          0,
          8,
          5,
          108,
          0,
          10,
          0,
          84,
          2,
          0,
          7,
          5,
          0,
          0,
          0,
          0,
          0,
          5,
          0,
          0,
          0,
          0,
          0,
          0,
          0,
          1056,
          0,
          1,
          0,
          58,
          0,
          30,
          0,
          4,
          0,
          0,
          null,
          null,
          null,
          null,
          null,
          null,
          null,
          null,
          null,
          null,
          null,
          null,
          null,
          null,
          null,
          null,
          null,
          null,
          null,
          null,
          null,
          null,
          null,
          null,
          null,
          null,
          null,
          null,
          null,
          null,
          null,
          null,
          null,
          null,
          null,
          null,
          null,
          null,
          null,
          null,
          null,
          null,
          null,
          null,
          null,
          null,
          null,
          null,
          null,
          null,
          null,
          0,
          0,
          4,
          4,
          15,
          1,
          null,
          null,
          null,
          null,
          null,
          null,
          null,
          null,
          null,
          null,
          null,
          null,
          null,
          null,
          null,
          null,
          null,
          null,
          null,
          null,
          null,
          null,
          null,
          null,
          null,
          null,
          null,
          null,
          null,
          null,
          null,
          null,
          null,
          null,
          null,
          null,
          null,
          null,
          null,
          null,
          null,
          null,
          null,
          null,
          null,
          null,
          null,
          null,
          null,
          null,
          null,
          null,
          8,
          1,
          0,
          1,
          1,
          0,
          0,
          0,
          0,
          0,
          0,
          0,
          0,
          0,
          0,
          0,
          0,
          0,
          0,
          1,
          2,
          0,
          0,
          0,
          16,
          5,
          14,
          5,
          0,
          10,
          0,
          0,
          0,
          121,
          0,
          0,
          0,
          0,
          0,
          1,
          0,
          0,
          0,
          35,
          70,
          4,
          239,
          3,
          304,
          0,
          0,
          0,
          0,
          0,
          0,
          6061,
          693,
          727,
          297,
          49,
          18
         ]
        }
       ],
       "layout": {
        "legend": {
         "tracegroupgap": 0
        },
        "template": {
         "data": {
          "bar": [
           {
            "error_x": {
             "color": "#2a3f5f"
            },
            "error_y": {
             "color": "#2a3f5f"
            },
            "marker": {
             "line": {
              "color": "#E5ECF6",
              "width": 0.5
             },
             "pattern": {
              "fillmode": "overlay",
              "size": 10,
              "solidity": 0.2
             }
            },
            "type": "bar"
           }
          ],
          "barpolar": [
           {
            "marker": {
             "line": {
              "color": "#E5ECF6",
              "width": 0.5
             },
             "pattern": {
              "fillmode": "overlay",
              "size": 10,
              "solidity": 0.2
             }
            },
            "type": "barpolar"
           }
          ],
          "carpet": [
           {
            "aaxis": {
             "endlinecolor": "#2a3f5f",
             "gridcolor": "white",
             "linecolor": "white",
             "minorgridcolor": "white",
             "startlinecolor": "#2a3f5f"
            },
            "baxis": {
             "endlinecolor": "#2a3f5f",
             "gridcolor": "white",
             "linecolor": "white",
             "minorgridcolor": "white",
             "startlinecolor": "#2a3f5f"
            },
            "type": "carpet"
           }
          ],
          "choropleth": [
           {
            "colorbar": {
             "outlinewidth": 0,
             "ticks": ""
            },
            "type": "choropleth"
           }
          ],
          "contour": [
           {
            "colorbar": {
             "outlinewidth": 0,
             "ticks": ""
            },
            "colorscale": [
             [
              0,
              "#0d0887"
             ],
             [
              0.1111111111111111,
              "#46039f"
             ],
             [
              0.2222222222222222,
              "#7201a8"
             ],
             [
              0.3333333333333333,
              "#9c179e"
             ],
             [
              0.4444444444444444,
              "#bd3786"
             ],
             [
              0.5555555555555556,
              "#d8576b"
             ],
             [
              0.6666666666666666,
              "#ed7953"
             ],
             [
              0.7777777777777778,
              "#fb9f3a"
             ],
             [
              0.8888888888888888,
              "#fdca26"
             ],
             [
              1,
              "#f0f921"
             ]
            ],
            "type": "contour"
           }
          ],
          "contourcarpet": [
           {
            "colorbar": {
             "outlinewidth": 0,
             "ticks": ""
            },
            "type": "contourcarpet"
           }
          ],
          "heatmap": [
           {
            "colorbar": {
             "outlinewidth": 0,
             "ticks": ""
            },
            "colorscale": [
             [
              0,
              "#0d0887"
             ],
             [
              0.1111111111111111,
              "#46039f"
             ],
             [
              0.2222222222222222,
              "#7201a8"
             ],
             [
              0.3333333333333333,
              "#9c179e"
             ],
             [
              0.4444444444444444,
              "#bd3786"
             ],
             [
              0.5555555555555556,
              "#d8576b"
             ],
             [
              0.6666666666666666,
              "#ed7953"
             ],
             [
              0.7777777777777778,
              "#fb9f3a"
             ],
             [
              0.8888888888888888,
              "#fdca26"
             ],
             [
              1,
              "#f0f921"
             ]
            ],
            "type": "heatmap"
           }
          ],
          "heatmapgl": [
           {
            "colorbar": {
             "outlinewidth": 0,
             "ticks": ""
            },
            "colorscale": [
             [
              0,
              "#0d0887"
             ],
             [
              0.1111111111111111,
              "#46039f"
             ],
             [
              0.2222222222222222,
              "#7201a8"
             ],
             [
              0.3333333333333333,
              "#9c179e"
             ],
             [
              0.4444444444444444,
              "#bd3786"
             ],
             [
              0.5555555555555556,
              "#d8576b"
             ],
             [
              0.6666666666666666,
              "#ed7953"
             ],
             [
              0.7777777777777778,
              "#fb9f3a"
             ],
             [
              0.8888888888888888,
              "#fdca26"
             ],
             [
              1,
              "#f0f921"
             ]
            ],
            "type": "heatmapgl"
           }
          ],
          "histogram": [
           {
            "marker": {
             "pattern": {
              "fillmode": "overlay",
              "size": 10,
              "solidity": 0.2
             }
            },
            "type": "histogram"
           }
          ],
          "histogram2d": [
           {
            "colorbar": {
             "outlinewidth": 0,
             "ticks": ""
            },
            "colorscale": [
             [
              0,
              "#0d0887"
             ],
             [
              0.1111111111111111,
              "#46039f"
             ],
             [
              0.2222222222222222,
              "#7201a8"
             ],
             [
              0.3333333333333333,
              "#9c179e"
             ],
             [
              0.4444444444444444,
              "#bd3786"
             ],
             [
              0.5555555555555556,
              "#d8576b"
             ],
             [
              0.6666666666666666,
              "#ed7953"
             ],
             [
              0.7777777777777778,
              "#fb9f3a"
             ],
             [
              0.8888888888888888,
              "#fdca26"
             ],
             [
              1,
              "#f0f921"
             ]
            ],
            "type": "histogram2d"
           }
          ],
          "histogram2dcontour": [
           {
            "colorbar": {
             "outlinewidth": 0,
             "ticks": ""
            },
            "colorscale": [
             [
              0,
              "#0d0887"
             ],
             [
              0.1111111111111111,
              "#46039f"
             ],
             [
              0.2222222222222222,
              "#7201a8"
             ],
             [
              0.3333333333333333,
              "#9c179e"
             ],
             [
              0.4444444444444444,
              "#bd3786"
             ],
             [
              0.5555555555555556,
              "#d8576b"
             ],
             [
              0.6666666666666666,
              "#ed7953"
             ],
             [
              0.7777777777777778,
              "#fb9f3a"
             ],
             [
              0.8888888888888888,
              "#fdca26"
             ],
             [
              1,
              "#f0f921"
             ]
            ],
            "type": "histogram2dcontour"
           }
          ],
          "mesh3d": [
           {
            "colorbar": {
             "outlinewidth": 0,
             "ticks": ""
            },
            "type": "mesh3d"
           }
          ],
          "parcoords": [
           {
            "line": {
             "colorbar": {
              "outlinewidth": 0,
              "ticks": ""
             }
            },
            "type": "parcoords"
           }
          ],
          "pie": [
           {
            "automargin": true,
            "type": "pie"
           }
          ],
          "scatter": [
           {
            "marker": {
             "colorbar": {
              "outlinewidth": 0,
              "ticks": ""
             }
            },
            "type": "scatter"
           }
          ],
          "scatter3d": [
           {
            "line": {
             "colorbar": {
              "outlinewidth": 0,
              "ticks": ""
             }
            },
            "marker": {
             "colorbar": {
              "outlinewidth": 0,
              "ticks": ""
             }
            },
            "type": "scatter3d"
           }
          ],
          "scattercarpet": [
           {
            "marker": {
             "colorbar": {
              "outlinewidth": 0,
              "ticks": ""
             }
            },
            "type": "scattercarpet"
           }
          ],
          "scattergeo": [
           {
            "marker": {
             "colorbar": {
              "outlinewidth": 0,
              "ticks": ""
             }
            },
            "type": "scattergeo"
           }
          ],
          "scattergl": [
           {
            "marker": {
             "colorbar": {
              "outlinewidth": 0,
              "ticks": ""
             }
            },
            "type": "scattergl"
           }
          ],
          "scattermapbox": [
           {
            "marker": {
             "colorbar": {
              "outlinewidth": 0,
              "ticks": ""
             }
            },
            "type": "scattermapbox"
           }
          ],
          "scatterpolar": [
           {
            "marker": {
             "colorbar": {
              "outlinewidth": 0,
              "ticks": ""
             }
            },
            "type": "scatterpolar"
           }
          ],
          "scatterpolargl": [
           {
            "marker": {
             "colorbar": {
              "outlinewidth": 0,
              "ticks": ""
             }
            },
            "type": "scatterpolargl"
           }
          ],
          "scatterternary": [
           {
            "marker": {
             "colorbar": {
              "outlinewidth": 0,
              "ticks": ""
             }
            },
            "type": "scatterternary"
           }
          ],
          "surface": [
           {
            "colorbar": {
             "outlinewidth": 0,
             "ticks": ""
            },
            "colorscale": [
             [
              0,
              "#0d0887"
             ],
             [
              0.1111111111111111,
              "#46039f"
             ],
             [
              0.2222222222222222,
              "#7201a8"
             ],
             [
              0.3333333333333333,
              "#9c179e"
             ],
             [
              0.4444444444444444,
              "#bd3786"
             ],
             [
              0.5555555555555556,
              "#d8576b"
             ],
             [
              0.6666666666666666,
              "#ed7953"
             ],
             [
              0.7777777777777778,
              "#fb9f3a"
             ],
             [
              0.8888888888888888,
              "#fdca26"
             ],
             [
              1,
              "#f0f921"
             ]
            ],
            "type": "surface"
           }
          ],
          "table": [
           {
            "cells": {
             "fill": {
              "color": "#EBF0F8"
             },
             "line": {
              "color": "white"
             }
            },
            "header": {
             "fill": {
              "color": "#C8D4E3"
             },
             "line": {
              "color": "white"
             }
            },
            "type": "table"
           }
          ]
         },
         "layout": {
          "annotationdefaults": {
           "arrowcolor": "#2a3f5f",
           "arrowhead": 0,
           "arrowwidth": 1
          },
          "autotypenumbers": "strict",
          "coloraxis": {
           "colorbar": {
            "outlinewidth": 0,
            "ticks": ""
           }
          },
          "colorscale": {
           "diverging": [
            [
             0,
             "#8e0152"
            ],
            [
             0.1,
             "#c51b7d"
            ],
            [
             0.2,
             "#de77ae"
            ],
            [
             0.3,
             "#f1b6da"
            ],
            [
             0.4,
             "#fde0ef"
            ],
            [
             0.5,
             "#f7f7f7"
            ],
            [
             0.6,
             "#e6f5d0"
            ],
            [
             0.7,
             "#b8e186"
            ],
            [
             0.8,
             "#7fbc41"
            ],
            [
             0.9,
             "#4d9221"
            ],
            [
             1,
             "#276419"
            ]
           ],
           "sequential": [
            [
             0,
             "#0d0887"
            ],
            [
             0.1111111111111111,
             "#46039f"
            ],
            [
             0.2222222222222222,
             "#7201a8"
            ],
            [
             0.3333333333333333,
             "#9c179e"
            ],
            [
             0.4444444444444444,
             "#bd3786"
            ],
            [
             0.5555555555555556,
             "#d8576b"
            ],
            [
             0.6666666666666666,
             "#ed7953"
            ],
            [
             0.7777777777777778,
             "#fb9f3a"
            ],
            [
             0.8888888888888888,
             "#fdca26"
            ],
            [
             1,
             "#f0f921"
            ]
           ],
           "sequentialminus": [
            [
             0,
             "#0d0887"
            ],
            [
             0.1111111111111111,
             "#46039f"
            ],
            [
             0.2222222222222222,
             "#7201a8"
            ],
            [
             0.3333333333333333,
             "#9c179e"
            ],
            [
             0.4444444444444444,
             "#bd3786"
            ],
            [
             0.5555555555555556,
             "#d8576b"
            ],
            [
             0.6666666666666666,
             "#ed7953"
            ],
            [
             0.7777777777777778,
             "#fb9f3a"
            ],
            [
             0.8888888888888888,
             "#fdca26"
            ],
            [
             1,
             "#f0f921"
            ]
           ]
          },
          "colorway": [
           "#636efa",
           "#EF553B",
           "#00cc96",
           "#ab63fa",
           "#FFA15A",
           "#19d3f3",
           "#FF6692",
           "#B6E880",
           "#FF97FF",
           "#FECB52"
          ],
          "font": {
           "color": "#2a3f5f"
          },
          "geo": {
           "bgcolor": "white",
           "lakecolor": "white",
           "landcolor": "#E5ECF6",
           "showlakes": true,
           "showland": true,
           "subunitcolor": "white"
          },
          "hoverlabel": {
           "align": "left"
          },
          "hovermode": "closest",
          "mapbox": {
           "style": "light"
          },
          "paper_bgcolor": "white",
          "plot_bgcolor": "#E5ECF6",
          "polar": {
           "angularaxis": {
            "gridcolor": "white",
            "linecolor": "white",
            "ticks": ""
           },
           "bgcolor": "#E5ECF6",
           "radialaxis": {
            "gridcolor": "white",
            "linecolor": "white",
            "ticks": ""
           }
          },
          "scene": {
           "xaxis": {
            "backgroundcolor": "#E5ECF6",
            "gridcolor": "white",
            "gridwidth": 2,
            "linecolor": "white",
            "showbackground": true,
            "ticks": "",
            "zerolinecolor": "white"
           },
           "yaxis": {
            "backgroundcolor": "#E5ECF6",
            "gridcolor": "white",
            "gridwidth": 2,
            "linecolor": "white",
            "showbackground": true,
            "ticks": "",
            "zerolinecolor": "white"
           },
           "zaxis": {
            "backgroundcolor": "#E5ECF6",
            "gridcolor": "white",
            "gridwidth": 2,
            "linecolor": "white",
            "showbackground": true,
            "ticks": "",
            "zerolinecolor": "white"
           }
          },
          "shapedefaults": {
           "line": {
            "color": "#2a3f5f"
           }
          },
          "ternary": {
           "aaxis": {
            "gridcolor": "white",
            "linecolor": "white",
            "ticks": ""
           },
           "baxis": {
            "gridcolor": "white",
            "linecolor": "white",
            "ticks": ""
           },
           "bgcolor": "#E5ECF6",
           "caxis": {
            "gridcolor": "white",
            "linecolor": "white",
            "ticks": ""
           }
          },
          "title": {
           "x": 0.05
          },
          "xaxis": {
           "automargin": true,
           "gridcolor": "white",
           "linecolor": "white",
           "ticks": "",
           "title": {
            "standoff": 15
           },
           "zerolinecolor": "white",
           "zerolinewidth": 2
          },
          "yaxis": {
           "automargin": true,
           "gridcolor": "white",
           "linecolor": "white",
           "ticks": "",
           "title": {
            "standoff": 15
           },
           "zerolinecolor": "white",
           "zerolinewidth": 2
          }
         }
        },
        "title": {
         "text": "Export value of different animals from pakistan"
        }
       }
      }
     },
     "metadata": {},
     "output_type": "display_data"
    }
   ],
   "source": [
    "import plotly.express as px\n",
    "df5= pd.read_csv(\"AE.csv\") #.query(\"Year == 2007\")\n",
    "fig = px.pie(df5, values='Value', names='Item', title='Export value of different animals from pakistan')\n",
    "fig.show()"
   ]
  },
  {
   "cell_type": "code",
   "execution_count": 5,
   "metadata": {},
   "outputs": [
    {
     "data": {
      "text/html": [
       "<div>\n",
       "<style scoped>\n",
       "    .dataframe tbody tr th:only-of-type {\n",
       "        vertical-align: middle;\n",
       "    }\n",
       "\n",
       "    .dataframe tbody tr th {\n",
       "        vertical-align: top;\n",
       "    }\n",
       "\n",
       "    .dataframe thead th {\n",
       "        text-align: right;\n",
       "    }\n",
       "</style>\n",
       "<table border=\"1\" class=\"dataframe\">\n",
       "  <thead>\n",
       "    <tr style=\"text-align: right;\">\n",
       "      <th></th>\n",
       "      <th>Domain Code</th>\n",
       "      <th>Domain</th>\n",
       "      <th>Area Code (FAO)</th>\n",
       "      <th>Area</th>\n",
       "      <th>Element Code</th>\n",
       "      <th>Element</th>\n",
       "      <th>Item Code (CPC)</th>\n",
       "      <th>Item</th>\n",
       "      <th>Year Code</th>\n",
       "      <th>Year</th>\n",
       "      <th>Unit</th>\n",
       "      <th>Value</th>\n",
       "      <th>Flag</th>\n",
       "      <th>Flag Description</th>\n",
       "    </tr>\n",
       "  </thead>\n",
       "  <tbody>\n",
       "    <tr>\n",
       "      <th>0</th>\n",
       "      <td>SCL</td>\n",
       "      <td>Supply Utilization Accounts</td>\n",
       "      <td>165</td>\n",
       "      <td>Pakistan</td>\n",
       "      <td>5910</td>\n",
       "      <td>Export Quantity</td>\n",
       "      <td>1341</td>\n",
       "      <td>Apples</td>\n",
       "      <td>2010</td>\n",
       "      <td>2010</td>\n",
       "      <td>tonnes</td>\n",
       "      <td>1573</td>\n",
       "      <td>NaN</td>\n",
       "      <td>Official data</td>\n",
       "    </tr>\n",
       "    <tr>\n",
       "      <th>1</th>\n",
       "      <td>SCL</td>\n",
       "      <td>Supply Utilization Accounts</td>\n",
       "      <td>165</td>\n",
       "      <td>Pakistan</td>\n",
       "      <td>5910</td>\n",
       "      <td>Export Quantity</td>\n",
       "      <td>1341</td>\n",
       "      <td>Apples</td>\n",
       "      <td>2011</td>\n",
       "      <td>2011</td>\n",
       "      <td>tonnes</td>\n",
       "      <td>996</td>\n",
       "      <td>NaN</td>\n",
       "      <td>Official data</td>\n",
       "    </tr>\n",
       "    <tr>\n",
       "      <th>2</th>\n",
       "      <td>SCL</td>\n",
       "      <td>Supply Utilization Accounts</td>\n",
       "      <td>165</td>\n",
       "      <td>Pakistan</td>\n",
       "      <td>5910</td>\n",
       "      <td>Export Quantity</td>\n",
       "      <td>1341</td>\n",
       "      <td>Apples</td>\n",
       "      <td>2012</td>\n",
       "      <td>2012</td>\n",
       "      <td>tonnes</td>\n",
       "      <td>2165</td>\n",
       "      <td>NaN</td>\n",
       "      <td>Official data</td>\n",
       "    </tr>\n",
       "    <tr>\n",
       "      <th>3</th>\n",
       "      <td>SCL</td>\n",
       "      <td>Supply Utilization Accounts</td>\n",
       "      <td>165</td>\n",
       "      <td>Pakistan</td>\n",
       "      <td>5910</td>\n",
       "      <td>Export Quantity</td>\n",
       "      <td>1341</td>\n",
       "      <td>Apples</td>\n",
       "      <td>2013</td>\n",
       "      <td>2013</td>\n",
       "      <td>tonnes</td>\n",
       "      <td>599</td>\n",
       "      <td>NaN</td>\n",
       "      <td>Official data</td>\n",
       "    </tr>\n",
       "    <tr>\n",
       "      <th>4</th>\n",
       "      <td>SCL</td>\n",
       "      <td>Supply Utilization Accounts</td>\n",
       "      <td>165</td>\n",
       "      <td>Pakistan</td>\n",
       "      <td>5910</td>\n",
       "      <td>Export Quantity</td>\n",
       "      <td>1341</td>\n",
       "      <td>Apples</td>\n",
       "      <td>2014</td>\n",
       "      <td>2014</td>\n",
       "      <td>tonnes</td>\n",
       "      <td>807</td>\n",
       "      <td>NaN</td>\n",
       "      <td>Official data</td>\n",
       "    </tr>\n",
       "  </tbody>\n",
       "</table>\n",
       "</div>"
      ],
      "text/plain": [
       "  Domain Code                       Domain  Area Code (FAO)      Area  \\\n",
       "0         SCL  Supply Utilization Accounts              165  Pakistan   \n",
       "1         SCL  Supply Utilization Accounts              165  Pakistan   \n",
       "2         SCL  Supply Utilization Accounts              165  Pakistan   \n",
       "3         SCL  Supply Utilization Accounts              165  Pakistan   \n",
       "4         SCL  Supply Utilization Accounts              165  Pakistan   \n",
       "\n",
       "   Element Code          Element  Item Code (CPC)    Item  Year Code  Year  \\\n",
       "0          5910  Export Quantity             1341  Apples       2010  2010   \n",
       "1          5910  Export Quantity             1341  Apples       2011  2011   \n",
       "2          5910  Export Quantity             1341  Apples       2012  2012   \n",
       "3          5910  Export Quantity             1341  Apples       2013  2013   \n",
       "4          5910  Export Quantity             1341  Apples       2014  2014   \n",
       "\n",
       "     Unit  Value Flag Flag Description  \n",
       "0  tonnes   1573  NaN    Official data  \n",
       "1  tonnes    996  NaN    Official data  \n",
       "2  tonnes   2165  NaN    Official data  \n",
       "3  tonnes    599  NaN    Official data  \n",
       "4  tonnes    807  NaN    Official data  "
      ]
     },
     "execution_count": 5,
     "metadata": {},
     "output_type": "execute_result"
    }
   ],
   "source": [
    "import plotly.express as px\n",
    "df6= pd.read_csv(\"EOF.csv\")\n",
    "df6.head()"
   ]
  },
  {
   "cell_type": "code",
   "execution_count": 6,
   "metadata": {},
   "outputs": [
    {
     "data": {
      "application/vnd.plotly.v1+json": {
       "config": {
        "plotlyServerURL": "https://plot.ly"
       },
       "data": [
        {
         "hovertemplate": "Item=Apples<br>Year=%{x}<br>Value=%{y}<extra></extra>",
         "legendgroup": "Apples",
         "marker": {
          "color": "#1F77B4",
          "symbol": "circle"
         },
         "mode": "markers",
         "name": "Apples",
         "orientation": "v",
         "showlegend": true,
         "type": "scatter",
         "x": [
          2010,
          2011,
          2012,
          2013,
          2014,
          2015,
          2016,
          2017,
          2018,
          2019
         ],
         "xaxis": "x",
         "y": [
          1573,
          996,
          2165,
          599,
          807,
          376,
          767,
          206,
          349,
          350
         ],
         "yaxis": "y"
        },
        {
         "alignmentgroup": "True",
         "hovertemplate": "Item=Apples<br>Year=%{x}<extra></extra>",
         "legendgroup": "Apples",
         "marker": {
          "color": "#1F77B4",
          "symbol": "circle"
         },
         "name": "Apples",
         "notched": true,
         "offsetgroup": "Apples",
         "showlegend": false,
         "type": "box",
         "x": [
          2010,
          2011,
          2012,
          2013,
          2014,
          2015,
          2016,
          2017,
          2018,
          2019
         ],
         "xaxis": "x3",
         "yaxis": "y3"
        },
        {
         "alignmentgroup": "True",
         "hovertemplate": "Item=Apples<br>Value=%{y}<extra></extra>",
         "legendgroup": "Apples",
         "marker": {
          "color": "#1F77B4",
          "symbol": "circle"
         },
         "name": "Apples",
         "offsetgroup": "Apples",
         "scalegroup": "y",
         "showlegend": false,
         "type": "violin",
         "xaxis": "x2",
         "y": [
          1573,
          996,
          2165,
          599,
          807,
          376,
          767,
          206,
          349,
          350
         ],
         "yaxis": "y2"
        },
        {
         "hovertemplate": "<b>OLS trendline</b><br>Value = -153.079 * Year + 309196<br>R<sup>2</sup>=0.556216<br><br>Item=Apples<br>Year=%{x}<br>Value=%{y} <b>(trend)</b><extra></extra>",
         "legendgroup": "Apples",
         "marker": {
          "color": "#1F77B4",
          "symbol": "circle"
         },
         "mode": "lines",
         "name": "Apples",
         "showlegend": false,
         "type": "scatter",
         "x": [
          2010,
          2011,
          2012,
          2013,
          2014,
          2015,
          2016,
          2017,
          2018,
          2019
         ],
         "xaxis": "x",
         "y": [
          1507.654545454483,
          1354.575757575687,
          1201.4969696969492,
          1048.4181818181532,
          895.3393939393573,
          742.2606060606195,
          589.1818181818235,
          436.1030303030275,
          283.0242424242897,
          129.9454545454937
         ],
         "yaxis": "y"
        },
        {
         "hovertemplate": "Item=Bananas<br>Year=%{x}<br>Value=%{y}<extra></extra>",
         "legendgroup": "Bananas",
         "marker": {
          "color": "#FF7F0E",
          "symbol": "circle"
         },
         "mode": "markers",
         "name": "Bananas",
         "orientation": "v",
         "showlegend": true,
         "type": "scatter",
         "x": [
          2010,
          2011,
          2012,
          2013,
          2014,
          2015,
          2016,
          2017,
          2018,
          2019
         ],
         "xaxis": "x",
         "y": [
          84489,
          58786,
          47624,
          86108,
          43249,
          53488,
          50259,
          45933,
          65139,
          116265
         ],
         "yaxis": "y"
        },
        {
         "alignmentgroup": "True",
         "hovertemplate": "Item=Bananas<br>Year=%{x}<extra></extra>",
         "legendgroup": "Bananas",
         "marker": {
          "color": "#FF7F0E",
          "symbol": "circle"
         },
         "name": "Bananas",
         "notched": true,
         "offsetgroup": "Bananas",
         "showlegend": false,
         "type": "box",
         "x": [
          2010,
          2011,
          2012,
          2013,
          2014,
          2015,
          2016,
          2017,
          2018,
          2019
         ],
         "xaxis": "x3",
         "yaxis": "y3"
        },
        {
         "alignmentgroup": "True",
         "hovertemplate": "Item=Bananas<br>Value=%{y}<extra></extra>",
         "legendgroup": "Bananas",
         "marker": {
          "color": "#FF7F0E",
          "symbol": "circle"
         },
         "name": "Bananas",
         "offsetgroup": "Bananas",
         "scalegroup": "y",
         "showlegend": false,
         "type": "violin",
         "xaxis": "x2",
         "y": [
          84489,
          58786,
          47624,
          86108,
          43249,
          53488,
          50259,
          45933,
          65139,
          116265
         ],
         "yaxis": "y2"
        },
        {
         "hovertemplate": "<b>OLS trendline</b><br>Value = 1361.77 * Year + -2.67815e+06<br>R<sup>2</sup>=0.030719<br><br>Item=Bananas<br>Year=%{x}<br>Value=%{y} <b>(trend)</b><extra></extra>",
         "legendgroup": "Bananas",
         "marker": {
          "color": "#FF7F0E",
          "symbol": "circle"
         },
         "mode": "lines",
         "name": "Bananas",
         "showlegend": false,
         "type": "scatter",
         "x": [
          2010,
          2011,
          2012,
          2013,
          2014,
          2015,
          2016,
          2017,
          2018,
          2019
         ],
         "xaxis": "x",
         "y": [
          59006.036363637075,
          60367.80606060615,
          61729.57575757522,
          63091.345454544295,
          64453.11515151337,
          65814.88484848244,
          67176.65454545151,
          68538.42424242059,
          69900.19393938966,
          71261.96363635873
         ],
         "yaxis": "y"
        },
        {
         "hovertemplate": "Item=Mangoes, mangosteens, guavas<br>Year=%{x}<br>Value=%{y}<extra></extra>",
         "legendgroup": "Mangoes, mangosteens, guavas",
         "marker": {
          "color": "#2CA02C",
          "symbol": "circle"
         },
         "mode": "markers",
         "name": "Mangoes, mangosteens, guavas",
         "orientation": "v",
         "showlegend": true,
         "type": "scatter",
         "x": [
          2010,
          2011,
          2012,
          2013,
          2014,
          2015,
          2016,
          2017,
          2018,
          2019
         ],
         "xaxis": "x",
         "y": [
          85923,
          105130,
          101164,
          98926,
          77330,
          43714,
          82658,
          35616,
          70781,
          97099
         ],
         "yaxis": "y"
        },
        {
         "alignmentgroup": "True",
         "hovertemplate": "Item=Mangoes, mangosteens, guavas<br>Year=%{x}<extra></extra>",
         "legendgroup": "Mangoes, mangosteens, guavas",
         "marker": {
          "color": "#2CA02C",
          "symbol": "circle"
         },
         "name": "Mangoes, mangosteens, guavas",
         "notched": true,
         "offsetgroup": "Mangoes, mangosteens, guavas",
         "showlegend": false,
         "type": "box",
         "x": [
          2010,
          2011,
          2012,
          2013,
          2014,
          2015,
          2016,
          2017,
          2018,
          2019
         ],
         "xaxis": "x3",
         "yaxis": "y3"
        },
        {
         "alignmentgroup": "True",
         "hovertemplate": "Item=Mangoes, mangosteens, guavas<br>Value=%{y}<extra></extra>",
         "legendgroup": "Mangoes, mangosteens, guavas",
         "marker": {
          "color": "#2CA02C",
          "symbol": "circle"
         },
         "name": "Mangoes, mangosteens, guavas",
         "offsetgroup": "Mangoes, mangosteens, guavas",
         "scalegroup": "y",
         "showlegend": false,
         "type": "violin",
         "xaxis": "x2",
         "y": [
          85923,
          105130,
          101164,
          98926,
          77330,
          43714,
          82658,
          35616,
          70781,
          97099
         ],
         "yaxis": "y2"
        },
        {
         "hovertemplate": "<b>OLS trendline</b><br>Value = -3333.45 * Year + 6.79507e+06<br>R<sup>2</sup>=0.177985<br><br>Item=Mangoes, mangosteens, guavas<br>Year=%{x}<br>Value=%{y} <b>(trend)</b><extra></extra>",
         "legendgroup": "Mangoes, mangosteens, guavas",
         "marker": {
          "color": "#2CA02C",
          "symbol": "circle"
         },
         "mode": "lines",
         "name": "Mangoes, mangosteens, guavas",
         "showlegend": false,
         "type": "scatter",
         "x": [
          2010,
          2011,
          2012,
          2013,
          2014,
          2015,
          2016,
          2017,
          2018,
          2019
         ],
         "xaxis": "x",
         "y": [
          94834.61818181816,
          91501.16969696991,
          88167.72121212166,
          84834.27272727434,
          81500.82424242608,
          78167.37575757783,
          74833.92727272958,
          71500.47878788225,
          68167.030303034,
          64833.58181818575
         ],
         "yaxis": "y"
        },
        {
         "hovertemplate": "Item=Oranges<br>Year=%{x}<br>Value=%{y}<extra></extra>",
         "legendgroup": "Oranges",
         "marker": {
          "color": "#D62728",
          "symbol": "circle"
         },
         "mode": "markers",
         "name": "Oranges",
         "orientation": "v",
         "showlegend": true,
         "type": "scatter",
         "x": [
          2010,
          2011,
          2012,
          2013,
          2014,
          2015,
          2016,
          2017,
          2018,
          2019
         ],
         "xaxis": "x",
         "y": [
          2476,
          6813,
          341,
          7127,
          1703,
          452,
          2686,
          5433,
          9798,
          7046
         ],
         "yaxis": "y"
        },
        {
         "alignmentgroup": "True",
         "hovertemplate": "Item=Oranges<br>Year=%{x}<extra></extra>",
         "legendgroup": "Oranges",
         "marker": {
          "color": "#D62728",
          "symbol": "circle"
         },
         "name": "Oranges",
         "notched": true,
         "offsetgroup": "Oranges",
         "showlegend": false,
         "type": "box",
         "x": [
          2010,
          2011,
          2012,
          2013,
          2014,
          2015,
          2016,
          2017,
          2018,
          2019
         ],
         "xaxis": "x3",
         "yaxis": "y3"
        },
        {
         "alignmentgroup": "True",
         "hovertemplate": "Item=Oranges<br>Value=%{y}<extra></extra>",
         "legendgroup": "Oranges",
         "marker": {
          "color": "#D62728",
          "symbol": "circle"
         },
         "name": "Oranges",
         "offsetgroup": "Oranges",
         "scalegroup": "y",
         "showlegend": false,
         "type": "violin",
         "xaxis": "x2",
         "y": [
          2476,
          6813,
          341,
          7127,
          1703,
          452,
          2686,
          5433,
          9798,
          7046
         ],
         "yaxis": "y2"
        },
        {
         "hovertemplate": "<b>OLS trendline</b><br>Value = 441.885 * Year + -885790<br>R<sup>2</sup>=0.167038<br><br>Item=Oranges<br>Year=%{x}<br>Value=%{y} <b>(trend)</b><extra></extra>",
         "legendgroup": "Oranges",
         "marker": {
          "color": "#D62728",
          "symbol": "circle"
         },
         "mode": "lines",
         "name": "Oranges",
         "showlegend": false,
         "type": "scatter",
         "x": [
          2010,
          2011,
          2012,
          2013,
          2014,
          2015,
          2016,
          2017,
          2018,
          2019
         ],
         "xaxis": "x",
         "y": [
          2399.018181818654,
          2840.9030303034233,
          3282.787878788309,
          3724.6727272730786,
          4166.557575757848,
          4608.442424242734,
          5050.327272727503,
          5492.212121212273,
          5934.096969697159,
          6375.981818181928
         ],
         "yaxis": "y"
        }
       ],
       "layout": {
        "legend": {
         "title": {
          "text": "Item"
         },
         "tracegroupgap": 0
        },
        "margin": {
         "t": 60
        },
        "template": {
         "data": {
          "bar": [
           {
            "error_x": {
             "color": "rgb(36,36,36)"
            },
            "error_y": {
             "color": "rgb(36,36,36)"
            },
            "marker": {
             "line": {
              "color": "white",
              "width": 0.5
             },
             "pattern": {
              "fillmode": "overlay",
              "size": 10,
              "solidity": 0.2
             }
            },
            "type": "bar"
           }
          ],
          "barpolar": [
           {
            "marker": {
             "line": {
              "color": "white",
              "width": 0.5
             },
             "pattern": {
              "fillmode": "overlay",
              "size": 10,
              "solidity": 0.2
             }
            },
            "type": "barpolar"
           }
          ],
          "carpet": [
           {
            "aaxis": {
             "endlinecolor": "rgb(36,36,36)",
             "gridcolor": "white",
             "linecolor": "white",
             "minorgridcolor": "white",
             "startlinecolor": "rgb(36,36,36)"
            },
            "baxis": {
             "endlinecolor": "rgb(36,36,36)",
             "gridcolor": "white",
             "linecolor": "white",
             "minorgridcolor": "white",
             "startlinecolor": "rgb(36,36,36)"
            },
            "type": "carpet"
           }
          ],
          "choropleth": [
           {
            "colorbar": {
             "outlinewidth": 1,
             "tickcolor": "rgb(36,36,36)",
             "ticks": "outside"
            },
            "type": "choropleth"
           }
          ],
          "contour": [
           {
            "colorbar": {
             "outlinewidth": 1,
             "tickcolor": "rgb(36,36,36)",
             "ticks": "outside"
            },
            "colorscale": [
             [
              0,
              "#440154"
             ],
             [
              0.1111111111111111,
              "#482878"
             ],
             [
              0.2222222222222222,
              "#3e4989"
             ],
             [
              0.3333333333333333,
              "#31688e"
             ],
             [
              0.4444444444444444,
              "#26828e"
             ],
             [
              0.5555555555555556,
              "#1f9e89"
             ],
             [
              0.6666666666666666,
              "#35b779"
             ],
             [
              0.7777777777777778,
              "#6ece58"
             ],
             [
              0.8888888888888888,
              "#b5de2b"
             ],
             [
              1,
              "#fde725"
             ]
            ],
            "type": "contour"
           }
          ],
          "contourcarpet": [
           {
            "colorbar": {
             "outlinewidth": 1,
             "tickcolor": "rgb(36,36,36)",
             "ticks": "outside"
            },
            "type": "contourcarpet"
           }
          ],
          "heatmap": [
           {
            "colorbar": {
             "outlinewidth": 1,
             "tickcolor": "rgb(36,36,36)",
             "ticks": "outside"
            },
            "colorscale": [
             [
              0,
              "#440154"
             ],
             [
              0.1111111111111111,
              "#482878"
             ],
             [
              0.2222222222222222,
              "#3e4989"
             ],
             [
              0.3333333333333333,
              "#31688e"
             ],
             [
              0.4444444444444444,
              "#26828e"
             ],
             [
              0.5555555555555556,
              "#1f9e89"
             ],
             [
              0.6666666666666666,
              "#35b779"
             ],
             [
              0.7777777777777778,
              "#6ece58"
             ],
             [
              0.8888888888888888,
              "#b5de2b"
             ],
             [
              1,
              "#fde725"
             ]
            ],
            "type": "heatmap"
           }
          ],
          "heatmapgl": [
           {
            "colorbar": {
             "outlinewidth": 1,
             "tickcolor": "rgb(36,36,36)",
             "ticks": "outside"
            },
            "colorscale": [
             [
              0,
              "#440154"
             ],
             [
              0.1111111111111111,
              "#482878"
             ],
             [
              0.2222222222222222,
              "#3e4989"
             ],
             [
              0.3333333333333333,
              "#31688e"
             ],
             [
              0.4444444444444444,
              "#26828e"
             ],
             [
              0.5555555555555556,
              "#1f9e89"
             ],
             [
              0.6666666666666666,
              "#35b779"
             ],
             [
              0.7777777777777778,
              "#6ece58"
             ],
             [
              0.8888888888888888,
              "#b5de2b"
             ],
             [
              1,
              "#fde725"
             ]
            ],
            "type": "heatmapgl"
           }
          ],
          "histogram": [
           {
            "marker": {
             "line": {
              "color": "white",
              "width": 0.6
             }
            },
            "type": "histogram"
           }
          ],
          "histogram2d": [
           {
            "colorbar": {
             "outlinewidth": 1,
             "tickcolor": "rgb(36,36,36)",
             "ticks": "outside"
            },
            "colorscale": [
             [
              0,
              "#440154"
             ],
             [
              0.1111111111111111,
              "#482878"
             ],
             [
              0.2222222222222222,
              "#3e4989"
             ],
             [
              0.3333333333333333,
              "#31688e"
             ],
             [
              0.4444444444444444,
              "#26828e"
             ],
             [
              0.5555555555555556,
              "#1f9e89"
             ],
             [
              0.6666666666666666,
              "#35b779"
             ],
             [
              0.7777777777777778,
              "#6ece58"
             ],
             [
              0.8888888888888888,
              "#b5de2b"
             ],
             [
              1,
              "#fde725"
             ]
            ],
            "type": "histogram2d"
           }
          ],
          "histogram2dcontour": [
           {
            "colorbar": {
             "outlinewidth": 1,
             "tickcolor": "rgb(36,36,36)",
             "ticks": "outside"
            },
            "colorscale": [
             [
              0,
              "#440154"
             ],
             [
              0.1111111111111111,
              "#482878"
             ],
             [
              0.2222222222222222,
              "#3e4989"
             ],
             [
              0.3333333333333333,
              "#31688e"
             ],
             [
              0.4444444444444444,
              "#26828e"
             ],
             [
              0.5555555555555556,
              "#1f9e89"
             ],
             [
              0.6666666666666666,
              "#35b779"
             ],
             [
              0.7777777777777778,
              "#6ece58"
             ],
             [
              0.8888888888888888,
              "#b5de2b"
             ],
             [
              1,
              "#fde725"
             ]
            ],
            "type": "histogram2dcontour"
           }
          ],
          "mesh3d": [
           {
            "colorbar": {
             "outlinewidth": 1,
             "tickcolor": "rgb(36,36,36)",
             "ticks": "outside"
            },
            "type": "mesh3d"
           }
          ],
          "parcoords": [
           {
            "line": {
             "colorbar": {
              "outlinewidth": 1,
              "tickcolor": "rgb(36,36,36)",
              "ticks": "outside"
             }
            },
            "type": "parcoords"
           }
          ],
          "pie": [
           {
            "automargin": true,
            "type": "pie"
           }
          ],
          "scatter": [
           {
            "marker": {
             "colorbar": {
              "outlinewidth": 1,
              "tickcolor": "rgb(36,36,36)",
              "ticks": "outside"
             }
            },
            "type": "scatter"
           }
          ],
          "scatter3d": [
           {
            "line": {
             "colorbar": {
              "outlinewidth": 1,
              "tickcolor": "rgb(36,36,36)",
              "ticks": "outside"
             }
            },
            "marker": {
             "colorbar": {
              "outlinewidth": 1,
              "tickcolor": "rgb(36,36,36)",
              "ticks": "outside"
             }
            },
            "type": "scatter3d"
           }
          ],
          "scattercarpet": [
           {
            "marker": {
             "colorbar": {
              "outlinewidth": 1,
              "tickcolor": "rgb(36,36,36)",
              "ticks": "outside"
             }
            },
            "type": "scattercarpet"
           }
          ],
          "scattergeo": [
           {
            "marker": {
             "colorbar": {
              "outlinewidth": 1,
              "tickcolor": "rgb(36,36,36)",
              "ticks": "outside"
             }
            },
            "type": "scattergeo"
           }
          ],
          "scattergl": [
           {
            "marker": {
             "colorbar": {
              "outlinewidth": 1,
              "tickcolor": "rgb(36,36,36)",
              "ticks": "outside"
             }
            },
            "type": "scattergl"
           }
          ],
          "scattermapbox": [
           {
            "marker": {
             "colorbar": {
              "outlinewidth": 1,
              "tickcolor": "rgb(36,36,36)",
              "ticks": "outside"
             }
            },
            "type": "scattermapbox"
           }
          ],
          "scatterpolar": [
           {
            "marker": {
             "colorbar": {
              "outlinewidth": 1,
              "tickcolor": "rgb(36,36,36)",
              "ticks": "outside"
             }
            },
            "type": "scatterpolar"
           }
          ],
          "scatterpolargl": [
           {
            "marker": {
             "colorbar": {
              "outlinewidth": 1,
              "tickcolor": "rgb(36,36,36)",
              "ticks": "outside"
             }
            },
            "type": "scatterpolargl"
           }
          ],
          "scatterternary": [
           {
            "marker": {
             "colorbar": {
              "outlinewidth": 1,
              "tickcolor": "rgb(36,36,36)",
              "ticks": "outside"
             }
            },
            "type": "scatterternary"
           }
          ],
          "surface": [
           {
            "colorbar": {
             "outlinewidth": 1,
             "tickcolor": "rgb(36,36,36)",
             "ticks": "outside"
            },
            "colorscale": [
             [
              0,
              "#440154"
             ],
             [
              0.1111111111111111,
              "#482878"
             ],
             [
              0.2222222222222222,
              "#3e4989"
             ],
             [
              0.3333333333333333,
              "#31688e"
             ],
             [
              0.4444444444444444,
              "#26828e"
             ],
             [
              0.5555555555555556,
              "#1f9e89"
             ],
             [
              0.6666666666666666,
              "#35b779"
             ],
             [
              0.7777777777777778,
              "#6ece58"
             ],
             [
              0.8888888888888888,
              "#b5de2b"
             ],
             [
              1,
              "#fde725"
             ]
            ],
            "type": "surface"
           }
          ],
          "table": [
           {
            "cells": {
             "fill": {
              "color": "rgb(237,237,237)"
             },
             "line": {
              "color": "white"
             }
            },
            "header": {
             "fill": {
              "color": "rgb(217,217,217)"
             },
             "line": {
              "color": "white"
             }
            },
            "type": "table"
           }
          ]
         },
         "layout": {
          "annotationdefaults": {
           "arrowhead": 0,
           "arrowwidth": 1
          },
          "autotypenumbers": "strict",
          "coloraxis": {
           "colorbar": {
            "outlinewidth": 1,
            "tickcolor": "rgb(36,36,36)",
            "ticks": "outside"
           }
          },
          "colorscale": {
           "diverging": [
            [
             0,
             "rgb(103,0,31)"
            ],
            [
             0.1,
             "rgb(178,24,43)"
            ],
            [
             0.2,
             "rgb(214,96,77)"
            ],
            [
             0.3,
             "rgb(244,165,130)"
            ],
            [
             0.4,
             "rgb(253,219,199)"
            ],
            [
             0.5,
             "rgb(247,247,247)"
            ],
            [
             0.6,
             "rgb(209,229,240)"
            ],
            [
             0.7,
             "rgb(146,197,222)"
            ],
            [
             0.8,
             "rgb(67,147,195)"
            ],
            [
             0.9,
             "rgb(33,102,172)"
            ],
            [
             1,
             "rgb(5,48,97)"
            ]
           ],
           "sequential": [
            [
             0,
             "#440154"
            ],
            [
             0.1111111111111111,
             "#482878"
            ],
            [
             0.2222222222222222,
             "#3e4989"
            ],
            [
             0.3333333333333333,
             "#31688e"
            ],
            [
             0.4444444444444444,
             "#26828e"
            ],
            [
             0.5555555555555556,
             "#1f9e89"
            ],
            [
             0.6666666666666666,
             "#35b779"
            ],
            [
             0.7777777777777778,
             "#6ece58"
            ],
            [
             0.8888888888888888,
             "#b5de2b"
            ],
            [
             1,
             "#fde725"
            ]
           ],
           "sequentialminus": [
            [
             0,
             "#440154"
            ],
            [
             0.1111111111111111,
             "#482878"
            ],
            [
             0.2222222222222222,
             "#3e4989"
            ],
            [
             0.3333333333333333,
             "#31688e"
            ],
            [
             0.4444444444444444,
             "#26828e"
            ],
            [
             0.5555555555555556,
             "#1f9e89"
            ],
            [
             0.6666666666666666,
             "#35b779"
            ],
            [
             0.7777777777777778,
             "#6ece58"
            ],
            [
             0.8888888888888888,
             "#b5de2b"
            ],
            [
             1,
             "#fde725"
            ]
           ]
          },
          "colorway": [
           "#1F77B4",
           "#FF7F0E",
           "#2CA02C",
           "#D62728",
           "#9467BD",
           "#8C564B",
           "#E377C2",
           "#7F7F7F",
           "#BCBD22",
           "#17BECF"
          ],
          "font": {
           "color": "rgb(36,36,36)"
          },
          "geo": {
           "bgcolor": "white",
           "lakecolor": "white",
           "landcolor": "white",
           "showlakes": true,
           "showland": true,
           "subunitcolor": "white"
          },
          "hoverlabel": {
           "align": "left"
          },
          "hovermode": "closest",
          "mapbox": {
           "style": "light"
          },
          "paper_bgcolor": "white",
          "plot_bgcolor": "white",
          "polar": {
           "angularaxis": {
            "gridcolor": "rgb(232,232,232)",
            "linecolor": "rgb(36,36,36)",
            "showgrid": false,
            "showline": true,
            "ticks": "outside"
           },
           "bgcolor": "white",
           "radialaxis": {
            "gridcolor": "rgb(232,232,232)",
            "linecolor": "rgb(36,36,36)",
            "showgrid": false,
            "showline": true,
            "ticks": "outside"
           }
          },
          "scene": {
           "xaxis": {
            "backgroundcolor": "white",
            "gridcolor": "rgb(232,232,232)",
            "gridwidth": 2,
            "linecolor": "rgb(36,36,36)",
            "showbackground": true,
            "showgrid": false,
            "showline": true,
            "ticks": "outside",
            "zeroline": false,
            "zerolinecolor": "rgb(36,36,36)"
           },
           "yaxis": {
            "backgroundcolor": "white",
            "gridcolor": "rgb(232,232,232)",
            "gridwidth": 2,
            "linecolor": "rgb(36,36,36)",
            "showbackground": true,
            "showgrid": false,
            "showline": true,
            "ticks": "outside",
            "zeroline": false,
            "zerolinecolor": "rgb(36,36,36)"
           },
           "zaxis": {
            "backgroundcolor": "white",
            "gridcolor": "rgb(232,232,232)",
            "gridwidth": 2,
            "linecolor": "rgb(36,36,36)",
            "showbackground": true,
            "showgrid": false,
            "showline": true,
            "ticks": "outside",
            "zeroline": false,
            "zerolinecolor": "rgb(36,36,36)"
           }
          },
          "shapedefaults": {
           "fillcolor": "black",
           "line": {
            "width": 0
           },
           "opacity": 0.3
          },
          "ternary": {
           "aaxis": {
            "gridcolor": "rgb(232,232,232)",
            "linecolor": "rgb(36,36,36)",
            "showgrid": false,
            "showline": true,
            "ticks": "outside"
           },
           "baxis": {
            "gridcolor": "rgb(232,232,232)",
            "linecolor": "rgb(36,36,36)",
            "showgrid": false,
            "showline": true,
            "ticks": "outside"
           },
           "bgcolor": "white",
           "caxis": {
            "gridcolor": "rgb(232,232,232)",
            "linecolor": "rgb(36,36,36)",
            "showgrid": false,
            "showline": true,
            "ticks": "outside"
           }
          },
          "title": {
           "x": 0.05
          },
          "xaxis": {
           "automargin": true,
           "gridcolor": "rgb(232,232,232)",
           "linecolor": "rgb(36,36,36)",
           "showgrid": false,
           "showline": true,
           "ticks": "outside",
           "title": {
            "standoff": 15
           },
           "zeroline": false,
           "zerolinecolor": "rgb(36,36,36)"
          },
          "yaxis": {
           "automargin": true,
           "gridcolor": "rgb(232,232,232)",
           "linecolor": "rgb(36,36,36)",
           "showgrid": false,
           "showline": true,
           "ticks": "outside",
           "title": {
            "standoff": 15
           },
           "zeroline": false,
           "zerolinecolor": "rgb(36,36,36)"
          }
         }
        },
        "xaxis": {
         "anchor": "y",
         "domain": [
          0,
          0.7363
         ],
         "title": {
          "text": "Year"
         }
        },
        "xaxis2": {
         "anchor": "y2",
         "domain": [
          0.7413,
          1
         ],
         "matches": "x2",
         "showline": false,
         "showticklabels": false,
         "ticks": ""
        },
        "xaxis3": {
         "anchor": "y3",
         "domain": [
          0,
          0.7363
         ],
         "matches": "x",
         "showticklabels": false
        },
        "xaxis4": {
         "anchor": "y4",
         "domain": [
          0.7413,
          1
         ],
         "matches": "x2",
         "showline": false,
         "showticklabels": false,
         "ticks": ""
        },
        "yaxis": {
         "anchor": "x",
         "domain": [
          0,
          0.7326
         ],
         "title": {
          "text": "Value"
         }
        },
        "yaxis2": {
         "anchor": "x2",
         "domain": [
          0,
          0.7326
         ],
         "matches": "y",
         "showticklabels": false
        },
        "yaxis3": {
         "anchor": "x3",
         "domain": [
          0.7426,
          1
         ],
         "matches": "y3",
         "showline": false,
         "showticklabels": false,
         "ticks": ""
        },
        "yaxis4": {
         "anchor": "x4",
         "domain": [
          0.7426,
          1
         ],
         "matches": "y3",
         "showline": false,
         "showticklabels": false,
         "ticks": ""
        }
       }
      }
     },
     "metadata": {},
     "output_type": "display_data"
    }
   ],
   "source": [
    "import plotly.express as px\n",
    "df6= pd.read_csv(\"EOF.csv\")\n",
    "fig = px.scatter(df6, x=\"Year\", y=\"Value\", color=\"Item\", marginal_y=\"violin\",\n",
    "           marginal_x=\"box\", trendline=\"ols\", template=\"simple_white\")\n",
    "fig.show()"
   ]
  },
  {
   "cell_type": "code",
   "execution_count": 9,
   "metadata": {},
   "outputs": [
    {
     "data": {
      "application/vnd.plotly.v1+json": {
       "config": {
        "plotlyServerURL": "https://plot.ly"
       },
       "data": [
        {
         "hovertemplate": "Item=Apples<br>Area=Pakistan<br>Year=%{x}<br>Export Quantity in tonnes=%{y}<extra></extra>",
         "legendgroup": "Apples",
         "line": {
          "color": "#636efa"
         },
         "marker": {
          "symbol": "circle"
         },
         "mode": "lines",
         "name": "Apples",
         "orientation": "v",
         "showlegend": true,
         "stackgroup": "1",
         "type": "scatter",
         "x": [
          2010,
          2011,
          2012,
          2013,
          2014,
          2015,
          2016,
          2017,
          2018,
          2019
         ],
         "xaxis": "x",
         "y": [
          1573,
          996,
          2165,
          599,
          807,
          376,
          767,
          206,
          349,
          350
         ],
         "yaxis": "y"
        },
        {
         "hovertemplate": "Item=Bananas<br>Area=Pakistan<br>Year=%{x}<br>Export Quantity in tonnes=%{y}<extra></extra>",
         "legendgroup": "Bananas",
         "line": {
          "color": "#EF553B"
         },
         "marker": {
          "symbol": "circle"
         },
         "mode": "lines",
         "name": "Bananas",
         "orientation": "v",
         "showlegend": true,
         "stackgroup": "1",
         "type": "scatter",
         "x": [
          2010,
          2011,
          2012,
          2013,
          2014,
          2015,
          2016,
          2017,
          2018,
          2019
         ],
         "xaxis": "x",
         "y": [
          84489,
          58786,
          47624,
          86108,
          43249,
          53488,
          50259,
          45933,
          65139,
          116265
         ],
         "yaxis": "y"
        },
        {
         "hovertemplate": "Item=Mangoes, mangosteens, guavas<br>Area=Pakistan<br>Year=%{x}<br>Export Quantity in tonnes=%{y}<extra></extra>",
         "legendgroup": "Mangoes, mangosteens, guavas",
         "line": {
          "color": "#00cc96"
         },
         "marker": {
          "symbol": "circle"
         },
         "mode": "lines",
         "name": "Mangoes, mangosteens, guavas",
         "orientation": "v",
         "showlegend": true,
         "stackgroup": "1",
         "type": "scatter",
         "x": [
          2010,
          2011,
          2012,
          2013,
          2014,
          2015,
          2016,
          2017,
          2018,
          2019
         ],
         "xaxis": "x",
         "y": [
          85923,
          105130,
          101164,
          98926,
          77330,
          43714,
          82658,
          35616,
          70781,
          97099
         ],
         "yaxis": "y"
        },
        {
         "hovertemplate": "Item=Oranges<br>Area=Pakistan<br>Year=%{x}<br>Export Quantity in tonnes=%{y}<extra></extra>",
         "legendgroup": "Oranges",
         "line": {
          "color": "#ab63fa"
         },
         "marker": {
          "symbol": "circle"
         },
         "mode": "lines",
         "name": "Oranges",
         "orientation": "v",
         "showlegend": true,
         "stackgroup": "1",
         "type": "scatter",
         "x": [
          2010,
          2011,
          2012,
          2013,
          2014,
          2015,
          2016,
          2017,
          2018,
          2019
         ],
         "xaxis": "x",
         "y": [
          2476,
          6813,
          341,
          7127,
          1703,
          452,
          2686,
          5433,
          9798,
          7046
         ],
         "yaxis": "y"
        }
       ],
       "layout": {
        "legend": {
         "title": {
          "text": "Item"
         },
         "tracegroupgap": 0
        },
        "template": {
         "data": {
          "bar": [
           {
            "error_x": {
             "color": "#2a3f5f"
            },
            "error_y": {
             "color": "#2a3f5f"
            },
            "marker": {
             "line": {
              "color": "#E5ECF6",
              "width": 0.5
             },
             "pattern": {
              "fillmode": "overlay",
              "size": 10,
              "solidity": 0.2
             }
            },
            "type": "bar"
           }
          ],
          "barpolar": [
           {
            "marker": {
             "line": {
              "color": "#E5ECF6",
              "width": 0.5
             },
             "pattern": {
              "fillmode": "overlay",
              "size": 10,
              "solidity": 0.2
             }
            },
            "type": "barpolar"
           }
          ],
          "carpet": [
           {
            "aaxis": {
             "endlinecolor": "#2a3f5f",
             "gridcolor": "white",
             "linecolor": "white",
             "minorgridcolor": "white",
             "startlinecolor": "#2a3f5f"
            },
            "baxis": {
             "endlinecolor": "#2a3f5f",
             "gridcolor": "white",
             "linecolor": "white",
             "minorgridcolor": "white",
             "startlinecolor": "#2a3f5f"
            },
            "type": "carpet"
           }
          ],
          "choropleth": [
           {
            "colorbar": {
             "outlinewidth": 0,
             "ticks": ""
            },
            "type": "choropleth"
           }
          ],
          "contour": [
           {
            "colorbar": {
             "outlinewidth": 0,
             "ticks": ""
            },
            "colorscale": [
             [
              0,
              "#0d0887"
             ],
             [
              0.1111111111111111,
              "#46039f"
             ],
             [
              0.2222222222222222,
              "#7201a8"
             ],
             [
              0.3333333333333333,
              "#9c179e"
             ],
             [
              0.4444444444444444,
              "#bd3786"
             ],
             [
              0.5555555555555556,
              "#d8576b"
             ],
             [
              0.6666666666666666,
              "#ed7953"
             ],
             [
              0.7777777777777778,
              "#fb9f3a"
             ],
             [
              0.8888888888888888,
              "#fdca26"
             ],
             [
              1,
              "#f0f921"
             ]
            ],
            "type": "contour"
           }
          ],
          "contourcarpet": [
           {
            "colorbar": {
             "outlinewidth": 0,
             "ticks": ""
            },
            "type": "contourcarpet"
           }
          ],
          "heatmap": [
           {
            "colorbar": {
             "outlinewidth": 0,
             "ticks": ""
            },
            "colorscale": [
             [
              0,
              "#0d0887"
             ],
             [
              0.1111111111111111,
              "#46039f"
             ],
             [
              0.2222222222222222,
              "#7201a8"
             ],
             [
              0.3333333333333333,
              "#9c179e"
             ],
             [
              0.4444444444444444,
              "#bd3786"
             ],
             [
              0.5555555555555556,
              "#d8576b"
             ],
             [
              0.6666666666666666,
              "#ed7953"
             ],
             [
              0.7777777777777778,
              "#fb9f3a"
             ],
             [
              0.8888888888888888,
              "#fdca26"
             ],
             [
              1,
              "#f0f921"
             ]
            ],
            "type": "heatmap"
           }
          ],
          "heatmapgl": [
           {
            "colorbar": {
             "outlinewidth": 0,
             "ticks": ""
            },
            "colorscale": [
             [
              0,
              "#0d0887"
             ],
             [
              0.1111111111111111,
              "#46039f"
             ],
             [
              0.2222222222222222,
              "#7201a8"
             ],
             [
              0.3333333333333333,
              "#9c179e"
             ],
             [
              0.4444444444444444,
              "#bd3786"
             ],
             [
              0.5555555555555556,
              "#d8576b"
             ],
             [
              0.6666666666666666,
              "#ed7953"
             ],
             [
              0.7777777777777778,
              "#fb9f3a"
             ],
             [
              0.8888888888888888,
              "#fdca26"
             ],
             [
              1,
              "#f0f921"
             ]
            ],
            "type": "heatmapgl"
           }
          ],
          "histogram": [
           {
            "marker": {
             "pattern": {
              "fillmode": "overlay",
              "size": 10,
              "solidity": 0.2
             }
            },
            "type": "histogram"
           }
          ],
          "histogram2d": [
           {
            "colorbar": {
             "outlinewidth": 0,
             "ticks": ""
            },
            "colorscale": [
             [
              0,
              "#0d0887"
             ],
             [
              0.1111111111111111,
              "#46039f"
             ],
             [
              0.2222222222222222,
              "#7201a8"
             ],
             [
              0.3333333333333333,
              "#9c179e"
             ],
             [
              0.4444444444444444,
              "#bd3786"
             ],
             [
              0.5555555555555556,
              "#d8576b"
             ],
             [
              0.6666666666666666,
              "#ed7953"
             ],
             [
              0.7777777777777778,
              "#fb9f3a"
             ],
             [
              0.8888888888888888,
              "#fdca26"
             ],
             [
              1,
              "#f0f921"
             ]
            ],
            "type": "histogram2d"
           }
          ],
          "histogram2dcontour": [
           {
            "colorbar": {
             "outlinewidth": 0,
             "ticks": ""
            },
            "colorscale": [
             [
              0,
              "#0d0887"
             ],
             [
              0.1111111111111111,
              "#46039f"
             ],
             [
              0.2222222222222222,
              "#7201a8"
             ],
             [
              0.3333333333333333,
              "#9c179e"
             ],
             [
              0.4444444444444444,
              "#bd3786"
             ],
             [
              0.5555555555555556,
              "#d8576b"
             ],
             [
              0.6666666666666666,
              "#ed7953"
             ],
             [
              0.7777777777777778,
              "#fb9f3a"
             ],
             [
              0.8888888888888888,
              "#fdca26"
             ],
             [
              1,
              "#f0f921"
             ]
            ],
            "type": "histogram2dcontour"
           }
          ],
          "mesh3d": [
           {
            "colorbar": {
             "outlinewidth": 0,
             "ticks": ""
            },
            "type": "mesh3d"
           }
          ],
          "parcoords": [
           {
            "line": {
             "colorbar": {
              "outlinewidth": 0,
              "ticks": ""
             }
            },
            "type": "parcoords"
           }
          ],
          "pie": [
           {
            "automargin": true,
            "type": "pie"
           }
          ],
          "scatter": [
           {
            "marker": {
             "colorbar": {
              "outlinewidth": 0,
              "ticks": ""
             }
            },
            "type": "scatter"
           }
          ],
          "scatter3d": [
           {
            "line": {
             "colorbar": {
              "outlinewidth": 0,
              "ticks": ""
             }
            },
            "marker": {
             "colorbar": {
              "outlinewidth": 0,
              "ticks": ""
             }
            },
            "type": "scatter3d"
           }
          ],
          "scattercarpet": [
           {
            "marker": {
             "colorbar": {
              "outlinewidth": 0,
              "ticks": ""
             }
            },
            "type": "scattercarpet"
           }
          ],
          "scattergeo": [
           {
            "marker": {
             "colorbar": {
              "outlinewidth": 0,
              "ticks": ""
             }
            },
            "type": "scattergeo"
           }
          ],
          "scattergl": [
           {
            "marker": {
             "colorbar": {
              "outlinewidth": 0,
              "ticks": ""
             }
            },
            "type": "scattergl"
           }
          ],
          "scattermapbox": [
           {
            "marker": {
             "colorbar": {
              "outlinewidth": 0,
              "ticks": ""
             }
            },
            "type": "scattermapbox"
           }
          ],
          "scatterpolar": [
           {
            "marker": {
             "colorbar": {
              "outlinewidth": 0,
              "ticks": ""
             }
            },
            "type": "scatterpolar"
           }
          ],
          "scatterpolargl": [
           {
            "marker": {
             "colorbar": {
              "outlinewidth": 0,
              "ticks": ""
             }
            },
            "type": "scatterpolargl"
           }
          ],
          "scatterternary": [
           {
            "marker": {
             "colorbar": {
              "outlinewidth": 0,
              "ticks": ""
             }
            },
            "type": "scatterternary"
           }
          ],
          "surface": [
           {
            "colorbar": {
             "outlinewidth": 0,
             "ticks": ""
            },
            "colorscale": [
             [
              0,
              "#0d0887"
             ],
             [
              0.1111111111111111,
              "#46039f"
             ],
             [
              0.2222222222222222,
              "#7201a8"
             ],
             [
              0.3333333333333333,
              "#9c179e"
             ],
             [
              0.4444444444444444,
              "#bd3786"
             ],
             [
              0.5555555555555556,
              "#d8576b"
             ],
             [
              0.6666666666666666,
              "#ed7953"
             ],
             [
              0.7777777777777778,
              "#fb9f3a"
             ],
             [
              0.8888888888888888,
              "#fdca26"
             ],
             [
              1,
              "#f0f921"
             ]
            ],
            "type": "surface"
           }
          ],
          "table": [
           {
            "cells": {
             "fill": {
              "color": "#EBF0F8"
             },
             "line": {
              "color": "white"
             }
            },
            "header": {
             "fill": {
              "color": "#C8D4E3"
             },
             "line": {
              "color": "white"
             }
            },
            "type": "table"
           }
          ]
         },
         "layout": {
          "annotationdefaults": {
           "arrowcolor": "#2a3f5f",
           "arrowhead": 0,
           "arrowwidth": 1
          },
          "autotypenumbers": "strict",
          "coloraxis": {
           "colorbar": {
            "outlinewidth": 0,
            "ticks": ""
           }
          },
          "colorscale": {
           "diverging": [
            [
             0,
             "#8e0152"
            ],
            [
             0.1,
             "#c51b7d"
            ],
            [
             0.2,
             "#de77ae"
            ],
            [
             0.3,
             "#f1b6da"
            ],
            [
             0.4,
             "#fde0ef"
            ],
            [
             0.5,
             "#f7f7f7"
            ],
            [
             0.6,
             "#e6f5d0"
            ],
            [
             0.7,
             "#b8e186"
            ],
            [
             0.8,
             "#7fbc41"
            ],
            [
             0.9,
             "#4d9221"
            ],
            [
             1,
             "#276419"
            ]
           ],
           "sequential": [
            [
             0,
             "#0d0887"
            ],
            [
             0.1111111111111111,
             "#46039f"
            ],
            [
             0.2222222222222222,
             "#7201a8"
            ],
            [
             0.3333333333333333,
             "#9c179e"
            ],
            [
             0.4444444444444444,
             "#bd3786"
            ],
            [
             0.5555555555555556,
             "#d8576b"
            ],
            [
             0.6666666666666666,
             "#ed7953"
            ],
            [
             0.7777777777777778,
             "#fb9f3a"
            ],
            [
             0.8888888888888888,
             "#fdca26"
            ],
            [
             1,
             "#f0f921"
            ]
           ],
           "sequentialminus": [
            [
             0,
             "#0d0887"
            ],
            [
             0.1111111111111111,
             "#46039f"
            ],
            [
             0.2222222222222222,
             "#7201a8"
            ],
            [
             0.3333333333333333,
             "#9c179e"
            ],
            [
             0.4444444444444444,
             "#bd3786"
            ],
            [
             0.5555555555555556,
             "#d8576b"
            ],
            [
             0.6666666666666666,
             "#ed7953"
            ],
            [
             0.7777777777777778,
             "#fb9f3a"
            ],
            [
             0.8888888888888888,
             "#fdca26"
            ],
            [
             1,
             "#f0f921"
            ]
           ]
          },
          "colorway": [
           "#636efa",
           "#EF553B",
           "#00cc96",
           "#ab63fa",
           "#FFA15A",
           "#19d3f3",
           "#FF6692",
           "#B6E880",
           "#FF97FF",
           "#FECB52"
          ],
          "font": {
           "color": "#2a3f5f"
          },
          "geo": {
           "bgcolor": "white",
           "lakecolor": "white",
           "landcolor": "#E5ECF6",
           "showlakes": true,
           "showland": true,
           "subunitcolor": "white"
          },
          "hoverlabel": {
           "align": "left"
          },
          "hovermode": "closest",
          "mapbox": {
           "style": "light"
          },
          "paper_bgcolor": "white",
          "plot_bgcolor": "#E5ECF6",
          "polar": {
           "angularaxis": {
            "gridcolor": "white",
            "linecolor": "white",
            "ticks": ""
           },
           "bgcolor": "#E5ECF6",
           "radialaxis": {
            "gridcolor": "white",
            "linecolor": "white",
            "ticks": ""
           }
          },
          "scene": {
           "xaxis": {
            "backgroundcolor": "#E5ECF6",
            "gridcolor": "white",
            "gridwidth": 2,
            "linecolor": "white",
            "showbackground": true,
            "ticks": "",
            "zerolinecolor": "white"
           },
           "yaxis": {
            "backgroundcolor": "#E5ECF6",
            "gridcolor": "white",
            "gridwidth": 2,
            "linecolor": "white",
            "showbackground": true,
            "ticks": "",
            "zerolinecolor": "white"
           },
           "zaxis": {
            "backgroundcolor": "#E5ECF6",
            "gridcolor": "white",
            "gridwidth": 2,
            "linecolor": "white",
            "showbackground": true,
            "ticks": "",
            "zerolinecolor": "white"
           }
          },
          "shapedefaults": {
           "line": {
            "color": "#2a3f5f"
           }
          },
          "ternary": {
           "aaxis": {
            "gridcolor": "white",
            "linecolor": "white",
            "ticks": ""
           },
           "baxis": {
            "gridcolor": "white",
            "linecolor": "white",
            "ticks": ""
           },
           "bgcolor": "#E5ECF6",
           "caxis": {
            "gridcolor": "white",
            "linecolor": "white",
            "ticks": ""
           }
          },
          "title": {
           "x": 0.05
          },
          "xaxis": {
           "automargin": true,
           "gridcolor": "white",
           "linecolor": "white",
           "ticks": "",
           "title": {
            "standoff": 15
           },
           "zerolinecolor": "white",
           "zerolinewidth": 2
          },
          "yaxis": {
           "automargin": true,
           "gridcolor": "white",
           "linecolor": "white",
           "ticks": "",
           "title": {
            "standoff": 15
           },
           "zerolinecolor": "white",
           "zerolinewidth": 2
          }
         }
        },
        "title": {
         "text": "Export Quantity of different fruits from pakistan"
        },
        "xaxis": {
         "anchor": "y",
         "domain": [
          0,
          1
         ],
         "title": {
          "text": "Year"
         }
        },
        "yaxis": {
         "anchor": "x",
         "domain": [
          0,
          1
         ],
         "title": {
          "text": "Export Quantity in tonnes"
         }
        }
       }
      }
     },
     "metadata": {},
     "output_type": "display_data"
    }
   ],
   "source": [
    "import plotly.express as px\n",
    "df6= pd.read_csv(\"EOF.csv\")\n",
    "fig = px.area(df6, x=\"Year\", y=\"Value\", color=\"Item\", line_group=\"Area\", title='Export Quantity of different fruits from pakistan'\n",
    ",labels={\"Value\": \"Export Quantity in tonnes\"} )\n",
    "fig.show()"
   ]
  },
  {
   "cell_type": "code",
   "execution_count": 13,
   "metadata": {},
   "outputs": [
    {
     "data": {
      "application/vnd.plotly.v1+json": {
       "config": {
        "plotlyServerURL": "https://plot.ly"
       },
       "data": [
        {
         "hovertemplate": "<b>%{hovertext}</b><br><br>Item=Apples<br>Area=Pakistan<br>Year=%{x}<br>Quantity in tonnes=%{y}<extra></extra>",
         "hovertext": [
          "Pakistan",
          "Pakistan",
          "Pakistan",
          "Pakistan",
          "Pakistan",
          "Pakistan",
          "Pakistan",
          "Pakistan",
          "Pakistan",
          "Pakistan"
         ],
         "legendgroup": "Apples",
         "line": {
          "color": "#636efa",
          "dash": "solid",
          "shape": "spline"
         },
         "marker": {
          "symbol": "circle"
         },
         "mode": "lines",
         "name": "Apples",
         "orientation": "v",
         "showlegend": true,
         "type": "scatter",
         "x": [
          2010,
          2011,
          2012,
          2013,
          2014,
          2015,
          2016,
          2017,
          2018,
          2019
         ],
         "xaxis": "x",
         "y": [
          1573,
          996,
          2165,
          599,
          807,
          376,
          767,
          206,
          349,
          350
         ],
         "yaxis": "y"
        },
        {
         "hovertemplate": "<b>%{hovertext}</b><br><br>Item=Bananas<br>Area=Pakistan<br>Year=%{x}<br>Quantity in tonnes=%{y}<extra></extra>",
         "hovertext": [
          "Pakistan",
          "Pakistan",
          "Pakistan",
          "Pakistan",
          "Pakistan",
          "Pakistan",
          "Pakistan",
          "Pakistan",
          "Pakistan",
          "Pakistan"
         ],
         "legendgroup": "Bananas",
         "line": {
          "color": "#EF553B",
          "dash": "solid",
          "shape": "spline"
         },
         "marker": {
          "symbol": "circle"
         },
         "mode": "lines",
         "name": "Bananas",
         "orientation": "v",
         "showlegend": true,
         "type": "scatter",
         "x": [
          2010,
          2011,
          2012,
          2013,
          2014,
          2015,
          2016,
          2017,
          2018,
          2019
         ],
         "xaxis": "x",
         "y": [
          84489,
          58786,
          47624,
          86108,
          43249,
          53488,
          50259,
          45933,
          65139,
          116265
         ],
         "yaxis": "y"
        },
        {
         "hovertemplate": "<b>%{hovertext}</b><br><br>Item=Mangoes, mangosteens, guavas<br>Area=Pakistan<br>Year=%{x}<br>Quantity in tonnes=%{y}<extra></extra>",
         "hovertext": [
          "Pakistan",
          "Pakistan",
          "Pakistan",
          "Pakistan",
          "Pakistan",
          "Pakistan",
          "Pakistan",
          "Pakistan",
          "Pakistan",
          "Pakistan"
         ],
         "legendgroup": "Mangoes, mangosteens, guavas",
         "line": {
          "color": "#00cc96",
          "dash": "solid",
          "shape": "spline"
         },
         "marker": {
          "symbol": "circle"
         },
         "mode": "lines",
         "name": "Mangoes, mangosteens, guavas",
         "orientation": "v",
         "showlegend": true,
         "type": "scatter",
         "x": [
          2010,
          2011,
          2012,
          2013,
          2014,
          2015,
          2016,
          2017,
          2018,
          2019
         ],
         "xaxis": "x",
         "y": [
          85923,
          105130,
          101164,
          98926,
          77330,
          43714,
          82658,
          35616,
          70781,
          97099
         ],
         "yaxis": "y"
        },
        {
         "hovertemplate": "<b>%{hovertext}</b><br><br>Item=Oranges<br>Area=Pakistan<br>Year=%{x}<br>Quantity in tonnes=%{y}<extra></extra>",
         "hovertext": [
          "Pakistan",
          "Pakistan",
          "Pakistan",
          "Pakistan",
          "Pakistan",
          "Pakistan",
          "Pakistan",
          "Pakistan",
          "Pakistan",
          "Pakistan"
         ],
         "legendgroup": "Oranges",
         "line": {
          "color": "#ab63fa",
          "dash": "solid",
          "shape": "spline"
         },
         "marker": {
          "symbol": "circle"
         },
         "mode": "lines",
         "name": "Oranges",
         "orientation": "v",
         "showlegend": true,
         "type": "scatter",
         "x": [
          2010,
          2011,
          2012,
          2013,
          2014,
          2015,
          2016,
          2017,
          2018,
          2019
         ],
         "xaxis": "x",
         "y": [
          2476,
          6813,
          341,
          7127,
          1703,
          452,
          2686,
          5433,
          9798,
          7046
         ],
         "yaxis": "y"
        }
       ],
       "layout": {
        "legend": {
         "title": {
          "text": "Item"
         },
         "tracegroupgap": 0
        },
        "template": {
         "data": {
          "bar": [
           {
            "error_x": {
             "color": "#2a3f5f"
            },
            "error_y": {
             "color": "#2a3f5f"
            },
            "marker": {
             "line": {
              "color": "#E5ECF6",
              "width": 0.5
             },
             "pattern": {
              "fillmode": "overlay",
              "size": 10,
              "solidity": 0.2
             }
            },
            "type": "bar"
           }
          ],
          "barpolar": [
           {
            "marker": {
             "line": {
              "color": "#E5ECF6",
              "width": 0.5
             },
             "pattern": {
              "fillmode": "overlay",
              "size": 10,
              "solidity": 0.2
             }
            },
            "type": "barpolar"
           }
          ],
          "carpet": [
           {
            "aaxis": {
             "endlinecolor": "#2a3f5f",
             "gridcolor": "white",
             "linecolor": "white",
             "minorgridcolor": "white",
             "startlinecolor": "#2a3f5f"
            },
            "baxis": {
             "endlinecolor": "#2a3f5f",
             "gridcolor": "white",
             "linecolor": "white",
             "minorgridcolor": "white",
             "startlinecolor": "#2a3f5f"
            },
            "type": "carpet"
           }
          ],
          "choropleth": [
           {
            "colorbar": {
             "outlinewidth": 0,
             "ticks": ""
            },
            "type": "choropleth"
           }
          ],
          "contour": [
           {
            "colorbar": {
             "outlinewidth": 0,
             "ticks": ""
            },
            "colorscale": [
             [
              0,
              "#0d0887"
             ],
             [
              0.1111111111111111,
              "#46039f"
             ],
             [
              0.2222222222222222,
              "#7201a8"
             ],
             [
              0.3333333333333333,
              "#9c179e"
             ],
             [
              0.4444444444444444,
              "#bd3786"
             ],
             [
              0.5555555555555556,
              "#d8576b"
             ],
             [
              0.6666666666666666,
              "#ed7953"
             ],
             [
              0.7777777777777778,
              "#fb9f3a"
             ],
             [
              0.8888888888888888,
              "#fdca26"
             ],
             [
              1,
              "#f0f921"
             ]
            ],
            "type": "contour"
           }
          ],
          "contourcarpet": [
           {
            "colorbar": {
             "outlinewidth": 0,
             "ticks": ""
            },
            "type": "contourcarpet"
           }
          ],
          "heatmap": [
           {
            "colorbar": {
             "outlinewidth": 0,
             "ticks": ""
            },
            "colorscale": [
             [
              0,
              "#0d0887"
             ],
             [
              0.1111111111111111,
              "#46039f"
             ],
             [
              0.2222222222222222,
              "#7201a8"
             ],
             [
              0.3333333333333333,
              "#9c179e"
             ],
             [
              0.4444444444444444,
              "#bd3786"
             ],
             [
              0.5555555555555556,
              "#d8576b"
             ],
             [
              0.6666666666666666,
              "#ed7953"
             ],
             [
              0.7777777777777778,
              "#fb9f3a"
             ],
             [
              0.8888888888888888,
              "#fdca26"
             ],
             [
              1,
              "#f0f921"
             ]
            ],
            "type": "heatmap"
           }
          ],
          "heatmapgl": [
           {
            "colorbar": {
             "outlinewidth": 0,
             "ticks": ""
            },
            "colorscale": [
             [
              0,
              "#0d0887"
             ],
             [
              0.1111111111111111,
              "#46039f"
             ],
             [
              0.2222222222222222,
              "#7201a8"
             ],
             [
              0.3333333333333333,
              "#9c179e"
             ],
             [
              0.4444444444444444,
              "#bd3786"
             ],
             [
              0.5555555555555556,
              "#d8576b"
             ],
             [
              0.6666666666666666,
              "#ed7953"
             ],
             [
              0.7777777777777778,
              "#fb9f3a"
             ],
             [
              0.8888888888888888,
              "#fdca26"
             ],
             [
              1,
              "#f0f921"
             ]
            ],
            "type": "heatmapgl"
           }
          ],
          "histogram": [
           {
            "marker": {
             "pattern": {
              "fillmode": "overlay",
              "size": 10,
              "solidity": 0.2
             }
            },
            "type": "histogram"
           }
          ],
          "histogram2d": [
           {
            "colorbar": {
             "outlinewidth": 0,
             "ticks": ""
            },
            "colorscale": [
             [
              0,
              "#0d0887"
             ],
             [
              0.1111111111111111,
              "#46039f"
             ],
             [
              0.2222222222222222,
              "#7201a8"
             ],
             [
              0.3333333333333333,
              "#9c179e"
             ],
             [
              0.4444444444444444,
              "#bd3786"
             ],
             [
              0.5555555555555556,
              "#d8576b"
             ],
             [
              0.6666666666666666,
              "#ed7953"
             ],
             [
              0.7777777777777778,
              "#fb9f3a"
             ],
             [
              0.8888888888888888,
              "#fdca26"
             ],
             [
              1,
              "#f0f921"
             ]
            ],
            "type": "histogram2d"
           }
          ],
          "histogram2dcontour": [
           {
            "colorbar": {
             "outlinewidth": 0,
             "ticks": ""
            },
            "colorscale": [
             [
              0,
              "#0d0887"
             ],
             [
              0.1111111111111111,
              "#46039f"
             ],
             [
              0.2222222222222222,
              "#7201a8"
             ],
             [
              0.3333333333333333,
              "#9c179e"
             ],
             [
              0.4444444444444444,
              "#bd3786"
             ],
             [
              0.5555555555555556,
              "#d8576b"
             ],
             [
              0.6666666666666666,
              "#ed7953"
             ],
             [
              0.7777777777777778,
              "#fb9f3a"
             ],
             [
              0.8888888888888888,
              "#fdca26"
             ],
             [
              1,
              "#f0f921"
             ]
            ],
            "type": "histogram2dcontour"
           }
          ],
          "mesh3d": [
           {
            "colorbar": {
             "outlinewidth": 0,
             "ticks": ""
            },
            "type": "mesh3d"
           }
          ],
          "parcoords": [
           {
            "line": {
             "colorbar": {
              "outlinewidth": 0,
              "ticks": ""
             }
            },
            "type": "parcoords"
           }
          ],
          "pie": [
           {
            "automargin": true,
            "type": "pie"
           }
          ],
          "scatter": [
           {
            "marker": {
             "colorbar": {
              "outlinewidth": 0,
              "ticks": ""
             }
            },
            "type": "scatter"
           }
          ],
          "scatter3d": [
           {
            "line": {
             "colorbar": {
              "outlinewidth": 0,
              "ticks": ""
             }
            },
            "marker": {
             "colorbar": {
              "outlinewidth": 0,
              "ticks": ""
             }
            },
            "type": "scatter3d"
           }
          ],
          "scattercarpet": [
           {
            "marker": {
             "colorbar": {
              "outlinewidth": 0,
              "ticks": ""
             }
            },
            "type": "scattercarpet"
           }
          ],
          "scattergeo": [
           {
            "marker": {
             "colorbar": {
              "outlinewidth": 0,
              "ticks": ""
             }
            },
            "type": "scattergeo"
           }
          ],
          "scattergl": [
           {
            "marker": {
             "colorbar": {
              "outlinewidth": 0,
              "ticks": ""
             }
            },
            "type": "scattergl"
           }
          ],
          "scattermapbox": [
           {
            "marker": {
             "colorbar": {
              "outlinewidth": 0,
              "ticks": ""
             }
            },
            "type": "scattermapbox"
           }
          ],
          "scatterpolar": [
           {
            "marker": {
             "colorbar": {
              "outlinewidth": 0,
              "ticks": ""
             }
            },
            "type": "scatterpolar"
           }
          ],
          "scatterpolargl": [
           {
            "marker": {
             "colorbar": {
              "outlinewidth": 0,
              "ticks": ""
             }
            },
            "type": "scatterpolargl"
           }
          ],
          "scatterternary": [
           {
            "marker": {
             "colorbar": {
              "outlinewidth": 0,
              "ticks": ""
             }
            },
            "type": "scatterternary"
           }
          ],
          "surface": [
           {
            "colorbar": {
             "outlinewidth": 0,
             "ticks": ""
            },
            "colorscale": [
             [
              0,
              "#0d0887"
             ],
             [
              0.1111111111111111,
              "#46039f"
             ],
             [
              0.2222222222222222,
              "#7201a8"
             ],
             [
              0.3333333333333333,
              "#9c179e"
             ],
             [
              0.4444444444444444,
              "#bd3786"
             ],
             [
              0.5555555555555556,
              "#d8576b"
             ],
             [
              0.6666666666666666,
              "#ed7953"
             ],
             [
              0.7777777777777778,
              "#fb9f3a"
             ],
             [
              0.8888888888888888,
              "#fdca26"
             ],
             [
              1,
              "#f0f921"
             ]
            ],
            "type": "surface"
           }
          ],
          "table": [
           {
            "cells": {
             "fill": {
              "color": "#EBF0F8"
             },
             "line": {
              "color": "white"
             }
            },
            "header": {
             "fill": {
              "color": "#C8D4E3"
             },
             "line": {
              "color": "white"
             }
            },
            "type": "table"
           }
          ]
         },
         "layout": {
          "annotationdefaults": {
           "arrowcolor": "#2a3f5f",
           "arrowhead": 0,
           "arrowwidth": 1
          },
          "autotypenumbers": "strict",
          "coloraxis": {
           "colorbar": {
            "outlinewidth": 0,
            "ticks": ""
           }
          },
          "colorscale": {
           "diverging": [
            [
             0,
             "#8e0152"
            ],
            [
             0.1,
             "#c51b7d"
            ],
            [
             0.2,
             "#de77ae"
            ],
            [
             0.3,
             "#f1b6da"
            ],
            [
             0.4,
             "#fde0ef"
            ],
            [
             0.5,
             "#f7f7f7"
            ],
            [
             0.6,
             "#e6f5d0"
            ],
            [
             0.7,
             "#b8e186"
            ],
            [
             0.8,
             "#7fbc41"
            ],
            [
             0.9,
             "#4d9221"
            ],
            [
             1,
             "#276419"
            ]
           ],
           "sequential": [
            [
             0,
             "#0d0887"
            ],
            [
             0.1111111111111111,
             "#46039f"
            ],
            [
             0.2222222222222222,
             "#7201a8"
            ],
            [
             0.3333333333333333,
             "#9c179e"
            ],
            [
             0.4444444444444444,
             "#bd3786"
            ],
            [
             0.5555555555555556,
             "#d8576b"
            ],
            [
             0.6666666666666666,
             "#ed7953"
            ],
            [
             0.7777777777777778,
             "#fb9f3a"
            ],
            [
             0.8888888888888888,
             "#fdca26"
            ],
            [
             1,
             "#f0f921"
            ]
           ],
           "sequentialminus": [
            [
             0,
             "#0d0887"
            ],
            [
             0.1111111111111111,
             "#46039f"
            ],
            [
             0.2222222222222222,
             "#7201a8"
            ],
            [
             0.3333333333333333,
             "#9c179e"
            ],
            [
             0.4444444444444444,
             "#bd3786"
            ],
            [
             0.5555555555555556,
             "#d8576b"
            ],
            [
             0.6666666666666666,
             "#ed7953"
            ],
            [
             0.7777777777777778,
             "#fb9f3a"
            ],
            [
             0.8888888888888888,
             "#fdca26"
            ],
            [
             1,
             "#f0f921"
            ]
           ]
          },
          "colorway": [
           "#636efa",
           "#EF553B",
           "#00cc96",
           "#ab63fa",
           "#FFA15A",
           "#19d3f3",
           "#FF6692",
           "#B6E880",
           "#FF97FF",
           "#FECB52"
          ],
          "font": {
           "color": "#2a3f5f"
          },
          "geo": {
           "bgcolor": "white",
           "lakecolor": "white",
           "landcolor": "#E5ECF6",
           "showlakes": true,
           "showland": true,
           "subunitcolor": "white"
          },
          "hoverlabel": {
           "align": "left"
          },
          "hovermode": "closest",
          "mapbox": {
           "style": "light"
          },
          "paper_bgcolor": "white",
          "plot_bgcolor": "#E5ECF6",
          "polar": {
           "angularaxis": {
            "gridcolor": "white",
            "linecolor": "white",
            "ticks": ""
           },
           "bgcolor": "#E5ECF6",
           "radialaxis": {
            "gridcolor": "white",
            "linecolor": "white",
            "ticks": ""
           }
          },
          "scene": {
           "xaxis": {
            "backgroundcolor": "#E5ECF6",
            "gridcolor": "white",
            "gridwidth": 2,
            "linecolor": "white",
            "showbackground": true,
            "ticks": "",
            "zerolinecolor": "white"
           },
           "yaxis": {
            "backgroundcolor": "#E5ECF6",
            "gridcolor": "white",
            "gridwidth": 2,
            "linecolor": "white",
            "showbackground": true,
            "ticks": "",
            "zerolinecolor": "white"
           },
           "zaxis": {
            "backgroundcolor": "#E5ECF6",
            "gridcolor": "white",
            "gridwidth": 2,
            "linecolor": "white",
            "showbackground": true,
            "ticks": "",
            "zerolinecolor": "white"
           }
          },
          "shapedefaults": {
           "line": {
            "color": "#2a3f5f"
           }
          },
          "ternary": {
           "aaxis": {
            "gridcolor": "white",
            "linecolor": "white",
            "ticks": ""
           },
           "baxis": {
            "gridcolor": "white",
            "linecolor": "white",
            "ticks": ""
           },
           "bgcolor": "#E5ECF6",
           "caxis": {
            "gridcolor": "white",
            "linecolor": "white",
            "ticks": ""
           }
          },
          "title": {
           "x": 0.05
          },
          "xaxis": {
           "automargin": true,
           "gridcolor": "white",
           "linecolor": "white",
           "ticks": "",
           "title": {
            "standoff": 15
           },
           "zerolinecolor": "white",
           "zerolinewidth": 2
          },
          "yaxis": {
           "automargin": true,
           "gridcolor": "white",
           "linecolor": "white",
           "ticks": "",
           "title": {
            "standoff": 15
           },
           "zerolinecolor": "white",
           "zerolinewidth": 2
          }
         }
        },
        "title": {
         "text": "Export of different fruits from pakistan"
        },
        "xaxis": {
         "anchor": "y",
         "domain": [
          0,
          1
         ],
         "title": {
          "text": "Year"
         }
        },
        "yaxis": {
         "anchor": "x",
         "domain": [
          0,
          1
         ],
         "title": {
          "text": "Quantity in tonnes"
         }
        }
       }
      }
     },
     "metadata": {},
     "output_type": "display_data"
    }
   ],
   "source": [
    "import plotly.express as px\n",
    "df6= pd.read_csv(\"EOF.csv\")\n",
    "fig = px.line(df6, x=\"Year\", y=\"Value\", color=\"Item\", line_group=\"Area\", hover_name=\"Area\",\n",
    "        line_shape=\"spline\", render_mode=\"svg\", title='Export of different fruits from pakistan',labels={\"Value\": \"Quantity in tonnes\"})\n",
    "fig.show()"
   ]
  },
  {
   "cell_type": "code",
   "execution_count": 42,
   "metadata": {},
   "outputs": [
    {
     "data": {
      "text/html": [
       "<div>\n",
       "<style scoped>\n",
       "    .dataframe tbody tr th:only-of-type {\n",
       "        vertical-align: middle;\n",
       "    }\n",
       "\n",
       "    .dataframe tbody tr th {\n",
       "        vertical-align: top;\n",
       "    }\n",
       "\n",
       "    .dataframe thead th {\n",
       "        text-align: right;\n",
       "    }\n",
       "</style>\n",
       "<table border=\"1\" class=\"dataframe\">\n",
       "  <thead>\n",
       "    <tr style=\"text-align: right;\">\n",
       "      <th></th>\n",
       "      <th>Domain Code</th>\n",
       "      <th>Domain</th>\n",
       "      <th>Area Code (FAO)</th>\n",
       "      <th>Area</th>\n",
       "      <th>Element Code</th>\n",
       "      <th>Element</th>\n",
       "      <th>Item Code</th>\n",
       "      <th>Item</th>\n",
       "      <th>Year Code</th>\n",
       "      <th>Year</th>\n",
       "      <th>Unit</th>\n",
       "      <th>Value</th>\n",
       "      <th>Flag</th>\n",
       "      <th>Flag Description</th>\n",
       "      <th>Note</th>\n",
       "    </tr>\n",
       "  </thead>\n",
       "  <tbody>\n",
       "    <tr>\n",
       "      <th>0</th>\n",
       "      <td>FS</td>\n",
       "      <td>Suite of Food Security Indicators</td>\n",
       "      <td>16</td>\n",
       "      <td>Bangladesh</td>\n",
       "      <td>6132</td>\n",
       "      <td>Value</td>\n",
       "      <td>210011</td>\n",
       "      <td>Number of people undernourished (million) (3-y...</td>\n",
       "      <td>20002002</td>\n",
       "      <td>2000-2002</td>\n",
       "      <td>millions</td>\n",
       "      <td>20.7</td>\n",
       "      <td>F</td>\n",
       "      <td>FAO estimate</td>\n",
       "      <td>NaN</td>\n",
       "    </tr>\n",
       "    <tr>\n",
       "      <th>1</th>\n",
       "      <td>FS</td>\n",
       "      <td>Suite of Food Security Indicators</td>\n",
       "      <td>16</td>\n",
       "      <td>Bangladesh</td>\n",
       "      <td>6132</td>\n",
       "      <td>Value</td>\n",
       "      <td>210011</td>\n",
       "      <td>Number of people undernourished (million) (3-y...</td>\n",
       "      <td>20012003</td>\n",
       "      <td>2001-2003</td>\n",
       "      <td>millions</td>\n",
       "      <td>20.0</td>\n",
       "      <td>F</td>\n",
       "      <td>FAO estimate</td>\n",
       "      <td>NaN</td>\n",
       "    </tr>\n",
       "    <tr>\n",
       "      <th>2</th>\n",
       "      <td>FS</td>\n",
       "      <td>Suite of Food Security Indicators</td>\n",
       "      <td>16</td>\n",
       "      <td>Bangladesh</td>\n",
       "      <td>6132</td>\n",
       "      <td>Value</td>\n",
       "      <td>210011</td>\n",
       "      <td>Number of people undernourished (million) (3-y...</td>\n",
       "      <td>20022004</td>\n",
       "      <td>2002-2004</td>\n",
       "      <td>millions</td>\n",
       "      <td>20.0</td>\n",
       "      <td>F</td>\n",
       "      <td>FAO estimate</td>\n",
       "      <td>NaN</td>\n",
       "    </tr>\n",
       "    <tr>\n",
       "      <th>3</th>\n",
       "      <td>FS</td>\n",
       "      <td>Suite of Food Security Indicators</td>\n",
       "      <td>16</td>\n",
       "      <td>Bangladesh</td>\n",
       "      <td>6132</td>\n",
       "      <td>Value</td>\n",
       "      <td>210011</td>\n",
       "      <td>Number of people undernourished (million) (3-y...</td>\n",
       "      <td>20032005</td>\n",
       "      <td>2003-2005</td>\n",
       "      <td>millions</td>\n",
       "      <td>19.7</td>\n",
       "      <td>F</td>\n",
       "      <td>FAO estimate</td>\n",
       "      <td>NaN</td>\n",
       "    </tr>\n",
       "    <tr>\n",
       "      <th>4</th>\n",
       "      <td>FS</td>\n",
       "      <td>Suite of Food Security Indicators</td>\n",
       "      <td>16</td>\n",
       "      <td>Bangladesh</td>\n",
       "      <td>6132</td>\n",
       "      <td>Value</td>\n",
       "      <td>210011</td>\n",
       "      <td>Number of people undernourished (million) (3-y...</td>\n",
       "      <td>20042006</td>\n",
       "      <td>2004-2006</td>\n",
       "      <td>millions</td>\n",
       "      <td>19.7</td>\n",
       "      <td>F</td>\n",
       "      <td>FAO estimate</td>\n",
       "      <td>NaN</td>\n",
       "    </tr>\n",
       "  </tbody>\n",
       "</table>\n",
       "</div>"
      ],
      "text/plain": [
       "  Domain Code                             Domain  Area Code (FAO)        Area  \\\n",
       "0          FS  Suite of Food Security Indicators               16  Bangladesh   \n",
       "1          FS  Suite of Food Security Indicators               16  Bangladesh   \n",
       "2          FS  Suite of Food Security Indicators               16  Bangladesh   \n",
       "3          FS  Suite of Food Security Indicators               16  Bangladesh   \n",
       "4          FS  Suite of Food Security Indicators               16  Bangladesh   \n",
       "\n",
       "   Element Code Element  Item Code  \\\n",
       "0          6132   Value     210011   \n",
       "1          6132   Value     210011   \n",
       "2          6132   Value     210011   \n",
       "3          6132   Value     210011   \n",
       "4          6132   Value     210011   \n",
       "\n",
       "                                                Item  Year Code       Year  \\\n",
       "0  Number of people undernourished (million) (3-y...   20002002  2000-2002   \n",
       "1  Number of people undernourished (million) (3-y...   20012003  2001-2003   \n",
       "2  Number of people undernourished (million) (3-y...   20022004  2002-2004   \n",
       "3  Number of people undernourished (million) (3-y...   20032005  2003-2005   \n",
       "4  Number of people undernourished (million) (3-y...   20042006  2004-2006   \n",
       "\n",
       "       Unit  Value Flag Flag Description  Note  \n",
       "0  millions   20.7    F     FAO estimate   NaN  \n",
       "1  millions   20.0    F     FAO estimate   NaN  \n",
       "2  millions   20.0    F     FAO estimate   NaN  \n",
       "3  millions   19.7    F     FAO estimate   NaN  \n",
       "4  millions   19.7    F     FAO estimate   NaN  "
      ]
     },
     "execution_count": 42,
     "metadata": {},
     "output_type": "execute_result"
    }
   ],
   "source": [
    "df7= pd.read_csv(\"UPA.csv\")\n",
    "df7.head()"
   ]
  },
  {
   "cell_type": "code",
   "execution_count": 56,
   "metadata": {},
   "outputs": [
    {
     "data": {
      "application/vnd.plotly.v1+json": {
       "config": {
        "plotlyServerURL": "https://plot.ly"
       },
       "data": [
        {
         "alignmentgroup": "True",
         "hovertemplate": "Area=Bangladesh<br>Year=%{x}<br>Quantity in Millions=%{y}<extra></extra>",
         "legendgroup": "Bangladesh",
         "marker": {
          "color": "#636efa",
          "pattern": {
           "shape": ""
          }
         },
         "name": "Bangladesh",
         "offsetgroup": "Bangladesh",
         "orientation": "v",
         "showlegend": true,
         "textposition": "auto",
         "type": "bar",
         "x": [
          "2000-2002",
          "2001-2003",
          "2002-2004",
          "2003-2005",
          "2004-2006",
          "2005-2007",
          "2006-2008",
          "2007-2009",
          "2008-2010",
          "2009-2011",
          "2010-2012",
          "2011-2013",
          "2012-2014",
          "2013-2015",
          "2014-2016",
          "2015-2017",
          "2016-2018",
          "2017-2019",
          "2018-2020"
         ],
         "xaxis": "x",
         "y": [
          20.7,
          20,
          20,
          19.7,
          19.7,
          19.4,
          19.8,
          19.6,
          21.5,
          22.4,
          23.5,
          23.4,
          23,
          21.9,
          21.8,
          21,
          20,
          17.5,
          15.9
         ],
         "yaxis": "y"
        },
        {
         "alignmentgroup": "True",
         "hovertemplate": "Area=India<br>Year=%{x}<br>Quantity in Millions=%{y}<extra></extra>",
         "legendgroup": "India",
         "marker": {
          "color": "#EF553B",
          "pattern": {
           "shape": ""
          }
         },
         "name": "India",
         "offsetgroup": "India",
         "orientation": "v",
         "showlegend": true,
         "textposition": "auto",
         "type": "bar",
         "x": [
          "2000-2002",
          "2001-2003",
          "2002-2004",
          "2003-2005",
          "2004-2006",
          "2005-2007",
          "2006-2008",
          "2007-2009",
          "2008-2010",
          "2009-2011",
          "2010-2012",
          "2011-2013",
          "2012-2014",
          "2013-2015",
          "2014-2016",
          "2015-2017",
          "2016-2018",
          "2017-2019",
          "2018-2020"
         ],
         "xaxis": "x",
         "y": [
          198.3,
          219.3,
          239.3,
          249.6,
          247.8,
          228.8,
          207.2,
          199,
          199,
          197.2,
          195,
          189.9,
          193.2,
          193.3,
          192.3,
          187.6,
          184.9,
          189.9,
          208.6
         ],
         "yaxis": "y"
        },
        {
         "alignmentgroup": "True",
         "hovertemplate": "Area=Pakistan<br>Year=%{x}<br>Quantity in Millions=%{y}<extra></extra>",
         "legendgroup": "Pakistan",
         "marker": {
          "color": "#00cc96",
          "pattern": {
           "shape": ""
          }
         },
         "name": "Pakistan",
         "offsetgroup": "Pakistan",
         "orientation": "v",
         "showlegend": true,
         "textposition": "auto",
         "type": "bar",
         "x": [
          "2000-2002",
          "2001-2003",
          "2002-2004",
          "2003-2005",
          "2004-2006",
          "2005-2007",
          "2006-2008",
          "2007-2009",
          "2008-2010",
          "2009-2011",
          "2010-2012",
          "2011-2013",
          "2012-2014",
          "2013-2015",
          "2014-2016",
          "2015-2017",
          "2016-2018",
          "2017-2019",
          "2018-2020"
         ],
         "xaxis": "x",
         "y": [
          30.8,
          32.5,
          32.1,
          29.8,
          28.2,
          26.8,
          26.5,
          27.1,
          28,
          28.6,
          29.2,
          29.7,
          28.9,
          27.1,
          25.5,
          25.2,
          25.2,
          25.8,
          27.9
         ],
         "yaxis": "y"
        }
       ],
       "layout": {
        "barmode": "group",
        "legend": {
         "title": {
          "text": "Area"
         },
         "tracegroupgap": 0
        },
        "template": {
         "data": {
          "bar": [
           {
            "error_x": {
             "color": "#2a3f5f"
            },
            "error_y": {
             "color": "#2a3f5f"
            },
            "marker": {
             "line": {
              "color": "#E5ECF6",
              "width": 0.5
             },
             "pattern": {
              "fillmode": "overlay",
              "size": 10,
              "solidity": 0.2
             }
            },
            "type": "bar"
           }
          ],
          "barpolar": [
           {
            "marker": {
             "line": {
              "color": "#E5ECF6",
              "width": 0.5
             },
             "pattern": {
              "fillmode": "overlay",
              "size": 10,
              "solidity": 0.2
             }
            },
            "type": "barpolar"
           }
          ],
          "carpet": [
           {
            "aaxis": {
             "endlinecolor": "#2a3f5f",
             "gridcolor": "white",
             "linecolor": "white",
             "minorgridcolor": "white",
             "startlinecolor": "#2a3f5f"
            },
            "baxis": {
             "endlinecolor": "#2a3f5f",
             "gridcolor": "white",
             "linecolor": "white",
             "minorgridcolor": "white",
             "startlinecolor": "#2a3f5f"
            },
            "type": "carpet"
           }
          ],
          "choropleth": [
           {
            "colorbar": {
             "outlinewidth": 0,
             "ticks": ""
            },
            "type": "choropleth"
           }
          ],
          "contour": [
           {
            "colorbar": {
             "outlinewidth": 0,
             "ticks": ""
            },
            "colorscale": [
             [
              0,
              "#0d0887"
             ],
             [
              0.1111111111111111,
              "#46039f"
             ],
             [
              0.2222222222222222,
              "#7201a8"
             ],
             [
              0.3333333333333333,
              "#9c179e"
             ],
             [
              0.4444444444444444,
              "#bd3786"
             ],
             [
              0.5555555555555556,
              "#d8576b"
             ],
             [
              0.6666666666666666,
              "#ed7953"
             ],
             [
              0.7777777777777778,
              "#fb9f3a"
             ],
             [
              0.8888888888888888,
              "#fdca26"
             ],
             [
              1,
              "#f0f921"
             ]
            ],
            "type": "contour"
           }
          ],
          "contourcarpet": [
           {
            "colorbar": {
             "outlinewidth": 0,
             "ticks": ""
            },
            "type": "contourcarpet"
           }
          ],
          "heatmap": [
           {
            "colorbar": {
             "outlinewidth": 0,
             "ticks": ""
            },
            "colorscale": [
             [
              0,
              "#0d0887"
             ],
             [
              0.1111111111111111,
              "#46039f"
             ],
             [
              0.2222222222222222,
              "#7201a8"
             ],
             [
              0.3333333333333333,
              "#9c179e"
             ],
             [
              0.4444444444444444,
              "#bd3786"
             ],
             [
              0.5555555555555556,
              "#d8576b"
             ],
             [
              0.6666666666666666,
              "#ed7953"
             ],
             [
              0.7777777777777778,
              "#fb9f3a"
             ],
             [
              0.8888888888888888,
              "#fdca26"
             ],
             [
              1,
              "#f0f921"
             ]
            ],
            "type": "heatmap"
           }
          ],
          "heatmapgl": [
           {
            "colorbar": {
             "outlinewidth": 0,
             "ticks": ""
            },
            "colorscale": [
             [
              0,
              "#0d0887"
             ],
             [
              0.1111111111111111,
              "#46039f"
             ],
             [
              0.2222222222222222,
              "#7201a8"
             ],
             [
              0.3333333333333333,
              "#9c179e"
             ],
             [
              0.4444444444444444,
              "#bd3786"
             ],
             [
              0.5555555555555556,
              "#d8576b"
             ],
             [
              0.6666666666666666,
              "#ed7953"
             ],
             [
              0.7777777777777778,
              "#fb9f3a"
             ],
             [
              0.8888888888888888,
              "#fdca26"
             ],
             [
              1,
              "#f0f921"
             ]
            ],
            "type": "heatmapgl"
           }
          ],
          "histogram": [
           {
            "marker": {
             "pattern": {
              "fillmode": "overlay",
              "size": 10,
              "solidity": 0.2
             }
            },
            "type": "histogram"
           }
          ],
          "histogram2d": [
           {
            "colorbar": {
             "outlinewidth": 0,
             "ticks": ""
            },
            "colorscale": [
             [
              0,
              "#0d0887"
             ],
             [
              0.1111111111111111,
              "#46039f"
             ],
             [
              0.2222222222222222,
              "#7201a8"
             ],
             [
              0.3333333333333333,
              "#9c179e"
             ],
             [
              0.4444444444444444,
              "#bd3786"
             ],
             [
              0.5555555555555556,
              "#d8576b"
             ],
             [
              0.6666666666666666,
              "#ed7953"
             ],
             [
              0.7777777777777778,
              "#fb9f3a"
             ],
             [
              0.8888888888888888,
              "#fdca26"
             ],
             [
              1,
              "#f0f921"
             ]
            ],
            "type": "histogram2d"
           }
          ],
          "histogram2dcontour": [
           {
            "colorbar": {
             "outlinewidth": 0,
             "ticks": ""
            },
            "colorscale": [
             [
              0,
              "#0d0887"
             ],
             [
              0.1111111111111111,
              "#46039f"
             ],
             [
              0.2222222222222222,
              "#7201a8"
             ],
             [
              0.3333333333333333,
              "#9c179e"
             ],
             [
              0.4444444444444444,
              "#bd3786"
             ],
             [
              0.5555555555555556,
              "#d8576b"
             ],
             [
              0.6666666666666666,
              "#ed7953"
             ],
             [
              0.7777777777777778,
              "#fb9f3a"
             ],
             [
              0.8888888888888888,
              "#fdca26"
             ],
             [
              1,
              "#f0f921"
             ]
            ],
            "type": "histogram2dcontour"
           }
          ],
          "mesh3d": [
           {
            "colorbar": {
             "outlinewidth": 0,
             "ticks": ""
            },
            "type": "mesh3d"
           }
          ],
          "parcoords": [
           {
            "line": {
             "colorbar": {
              "outlinewidth": 0,
              "ticks": ""
             }
            },
            "type": "parcoords"
           }
          ],
          "pie": [
           {
            "automargin": true,
            "type": "pie"
           }
          ],
          "scatter": [
           {
            "marker": {
             "colorbar": {
              "outlinewidth": 0,
              "ticks": ""
             }
            },
            "type": "scatter"
           }
          ],
          "scatter3d": [
           {
            "line": {
             "colorbar": {
              "outlinewidth": 0,
              "ticks": ""
             }
            },
            "marker": {
             "colorbar": {
              "outlinewidth": 0,
              "ticks": ""
             }
            },
            "type": "scatter3d"
           }
          ],
          "scattercarpet": [
           {
            "marker": {
             "colorbar": {
              "outlinewidth": 0,
              "ticks": ""
             }
            },
            "type": "scattercarpet"
           }
          ],
          "scattergeo": [
           {
            "marker": {
             "colorbar": {
              "outlinewidth": 0,
              "ticks": ""
             }
            },
            "type": "scattergeo"
           }
          ],
          "scattergl": [
           {
            "marker": {
             "colorbar": {
              "outlinewidth": 0,
              "ticks": ""
             }
            },
            "type": "scattergl"
           }
          ],
          "scattermapbox": [
           {
            "marker": {
             "colorbar": {
              "outlinewidth": 0,
              "ticks": ""
             }
            },
            "type": "scattermapbox"
           }
          ],
          "scatterpolar": [
           {
            "marker": {
             "colorbar": {
              "outlinewidth": 0,
              "ticks": ""
             }
            },
            "type": "scatterpolar"
           }
          ],
          "scatterpolargl": [
           {
            "marker": {
             "colorbar": {
              "outlinewidth": 0,
              "ticks": ""
             }
            },
            "type": "scatterpolargl"
           }
          ],
          "scatterternary": [
           {
            "marker": {
             "colorbar": {
              "outlinewidth": 0,
              "ticks": ""
             }
            },
            "type": "scatterternary"
           }
          ],
          "surface": [
           {
            "colorbar": {
             "outlinewidth": 0,
             "ticks": ""
            },
            "colorscale": [
             [
              0,
              "#0d0887"
             ],
             [
              0.1111111111111111,
              "#46039f"
             ],
             [
              0.2222222222222222,
              "#7201a8"
             ],
             [
              0.3333333333333333,
              "#9c179e"
             ],
             [
              0.4444444444444444,
              "#bd3786"
             ],
             [
              0.5555555555555556,
              "#d8576b"
             ],
             [
              0.6666666666666666,
              "#ed7953"
             ],
             [
              0.7777777777777778,
              "#fb9f3a"
             ],
             [
              0.8888888888888888,
              "#fdca26"
             ],
             [
              1,
              "#f0f921"
             ]
            ],
            "type": "surface"
           }
          ],
          "table": [
           {
            "cells": {
             "fill": {
              "color": "#EBF0F8"
             },
             "line": {
              "color": "white"
             }
            },
            "header": {
             "fill": {
              "color": "#C8D4E3"
             },
             "line": {
              "color": "white"
             }
            },
            "type": "table"
           }
          ]
         },
         "layout": {
          "annotationdefaults": {
           "arrowcolor": "#2a3f5f",
           "arrowhead": 0,
           "arrowwidth": 1
          },
          "autotypenumbers": "strict",
          "coloraxis": {
           "colorbar": {
            "outlinewidth": 0,
            "ticks": ""
           }
          },
          "colorscale": {
           "diverging": [
            [
             0,
             "#8e0152"
            ],
            [
             0.1,
             "#c51b7d"
            ],
            [
             0.2,
             "#de77ae"
            ],
            [
             0.3,
             "#f1b6da"
            ],
            [
             0.4,
             "#fde0ef"
            ],
            [
             0.5,
             "#f7f7f7"
            ],
            [
             0.6,
             "#e6f5d0"
            ],
            [
             0.7,
             "#b8e186"
            ],
            [
             0.8,
             "#7fbc41"
            ],
            [
             0.9,
             "#4d9221"
            ],
            [
             1,
             "#276419"
            ]
           ],
           "sequential": [
            [
             0,
             "#0d0887"
            ],
            [
             0.1111111111111111,
             "#46039f"
            ],
            [
             0.2222222222222222,
             "#7201a8"
            ],
            [
             0.3333333333333333,
             "#9c179e"
            ],
            [
             0.4444444444444444,
             "#bd3786"
            ],
            [
             0.5555555555555556,
             "#d8576b"
            ],
            [
             0.6666666666666666,
             "#ed7953"
            ],
            [
             0.7777777777777778,
             "#fb9f3a"
            ],
            [
             0.8888888888888888,
             "#fdca26"
            ],
            [
             1,
             "#f0f921"
            ]
           ],
           "sequentialminus": [
            [
             0,
             "#0d0887"
            ],
            [
             0.1111111111111111,
             "#46039f"
            ],
            [
             0.2222222222222222,
             "#7201a8"
            ],
            [
             0.3333333333333333,
             "#9c179e"
            ],
            [
             0.4444444444444444,
             "#bd3786"
            ],
            [
             0.5555555555555556,
             "#d8576b"
            ],
            [
             0.6666666666666666,
             "#ed7953"
            ],
            [
             0.7777777777777778,
             "#fb9f3a"
            ],
            [
             0.8888888888888888,
             "#fdca26"
            ],
            [
             1,
             "#f0f921"
            ]
           ]
          },
          "colorway": [
           "#636efa",
           "#EF553B",
           "#00cc96",
           "#ab63fa",
           "#FFA15A",
           "#19d3f3",
           "#FF6692",
           "#B6E880",
           "#FF97FF",
           "#FECB52"
          ],
          "font": {
           "color": "#2a3f5f"
          },
          "geo": {
           "bgcolor": "white",
           "lakecolor": "white",
           "landcolor": "#E5ECF6",
           "showlakes": true,
           "showland": true,
           "subunitcolor": "white"
          },
          "hoverlabel": {
           "align": "left"
          },
          "hovermode": "closest",
          "mapbox": {
           "style": "light"
          },
          "paper_bgcolor": "white",
          "plot_bgcolor": "#E5ECF6",
          "polar": {
           "angularaxis": {
            "gridcolor": "white",
            "linecolor": "white",
            "ticks": ""
           },
           "bgcolor": "#E5ECF6",
           "radialaxis": {
            "gridcolor": "white",
            "linecolor": "white",
            "ticks": ""
           }
          },
          "scene": {
           "xaxis": {
            "backgroundcolor": "#E5ECF6",
            "gridcolor": "white",
            "gridwidth": 2,
            "linecolor": "white",
            "showbackground": true,
            "ticks": "",
            "zerolinecolor": "white"
           },
           "yaxis": {
            "backgroundcolor": "#E5ECF6",
            "gridcolor": "white",
            "gridwidth": 2,
            "linecolor": "white",
            "showbackground": true,
            "ticks": "",
            "zerolinecolor": "white"
           },
           "zaxis": {
            "backgroundcolor": "#E5ECF6",
            "gridcolor": "white",
            "gridwidth": 2,
            "linecolor": "white",
            "showbackground": true,
            "ticks": "",
            "zerolinecolor": "white"
           }
          },
          "shapedefaults": {
           "line": {
            "color": "#2a3f5f"
           }
          },
          "ternary": {
           "aaxis": {
            "gridcolor": "white",
            "linecolor": "white",
            "ticks": ""
           },
           "baxis": {
            "gridcolor": "white",
            "linecolor": "white",
            "ticks": ""
           },
           "bgcolor": "#E5ECF6",
           "caxis": {
            "gridcolor": "white",
            "linecolor": "white",
            "ticks": ""
           }
          },
          "title": {
           "x": 0.05
          },
          "xaxis": {
           "automargin": true,
           "gridcolor": "white",
           "linecolor": "white",
           "ticks": "",
           "title": {
            "standoff": 15
           },
           "zerolinecolor": "white",
           "zerolinewidth": 2
          },
          "yaxis": {
           "automargin": true,
           "gridcolor": "white",
           "linecolor": "white",
           "ticks": "",
           "title": {
            "standoff": 15
           },
           "zerolinecolor": "white",
           "zerolinewidth": 2
          }
         }
        },
        "title": {
         "text": "Number of Undernourished  People in South-Asia(3-year average)"
        },
        "xaxis": {
         "anchor": "y",
         "domain": [
          0,
          1
         ],
         "title": {
          "text": "Year"
         }
        },
        "yaxis": {
         "anchor": "x",
         "domain": [
          0,
          1
         ],
         "title": {
          "text": "Quantity in Millions"
         }
        }
       }
      }
     },
     "metadata": {},
     "output_type": "display_data"
    }
   ],
   "source": [
    "import plotly.express as px\n",
    "\n",
    "df7= pd.read_csv(\"UPA.csv\")\n",
    "fig = px.bar(df7, y='Value', x='Year', barmode=\"group\" ,color= \"Area\",\n",
    "            title=\"Number of Undernourished  People in South-Asia(3-year average)\" , labels = {\"Value\":\"Quantity in Millions\"})\n",
    "fig.show()"
   ]
  },
  {
   "cell_type": "code",
   "execution_count": 4,
   "metadata": {},
   "outputs": [
    {
     "data": {
      "text/html": [
       "<div>\n",
       "<style scoped>\n",
       "    .dataframe tbody tr th:only-of-type {\n",
       "        vertical-align: middle;\n",
       "    }\n",
       "\n",
       "    .dataframe tbody tr th {\n",
       "        vertical-align: top;\n",
       "    }\n",
       "\n",
       "    .dataframe thead th {\n",
       "        text-align: right;\n",
       "    }\n",
       "</style>\n",
       "<table border=\"1\" class=\"dataframe\">\n",
       "  <thead>\n",
       "    <tr style=\"text-align: right;\">\n",
       "      <th></th>\n",
       "      <th>Domain Code</th>\n",
       "      <th>Domain</th>\n",
       "      <th>Area Code (FAO)</th>\n",
       "      <th>Area</th>\n",
       "      <th>Element Code</th>\n",
       "      <th>Element</th>\n",
       "      <th>Item Code (FAO)</th>\n",
       "      <th>Item</th>\n",
       "      <th>Year Code</th>\n",
       "      <th>Year</th>\n",
       "      <th>Unit</th>\n",
       "      <th>Value</th>\n",
       "      <th>Flag</th>\n",
       "      <th>Flag Description</th>\n",
       "    </tr>\n",
       "  </thead>\n",
       "  <tbody>\n",
       "    <tr>\n",
       "      <th>0</th>\n",
       "      <td>TCL</td>\n",
       "      <td>Crops and livestock products</td>\n",
       "      <td>165</td>\n",
       "      <td>Pakistan</td>\n",
       "      <td>5610</td>\n",
       "      <td>Import Quantity</td>\n",
       "      <td>403</td>\n",
       "      <td>Onions, dry</td>\n",
       "      <td>2010</td>\n",
       "      <td>2010</td>\n",
       "      <td>tonnes</td>\n",
       "      <td>152647</td>\n",
       "      <td>NaN</td>\n",
       "      <td>Official data</td>\n",
       "    </tr>\n",
       "    <tr>\n",
       "      <th>1</th>\n",
       "      <td>TCL</td>\n",
       "      <td>Crops and livestock products</td>\n",
       "      <td>165</td>\n",
       "      <td>Pakistan</td>\n",
       "      <td>5610</td>\n",
       "      <td>Import Quantity</td>\n",
       "      <td>403</td>\n",
       "      <td>Onions, dry</td>\n",
       "      <td>2011</td>\n",
       "      <td>2011</td>\n",
       "      <td>tonnes</td>\n",
       "      <td>91038</td>\n",
       "      <td>NaN</td>\n",
       "      <td>Official data</td>\n",
       "    </tr>\n",
       "    <tr>\n",
       "      <th>2</th>\n",
       "      <td>TCL</td>\n",
       "      <td>Crops and livestock products</td>\n",
       "      <td>165</td>\n",
       "      <td>Pakistan</td>\n",
       "      <td>5610</td>\n",
       "      <td>Import Quantity</td>\n",
       "      <td>403</td>\n",
       "      <td>Onions, dry</td>\n",
       "      <td>2012</td>\n",
       "      <td>2012</td>\n",
       "      <td>tonnes</td>\n",
       "      <td>137774</td>\n",
       "      <td>NaN</td>\n",
       "      <td>Official data</td>\n",
       "    </tr>\n",
       "    <tr>\n",
       "      <th>3</th>\n",
       "      <td>TCL</td>\n",
       "      <td>Crops and livestock products</td>\n",
       "      <td>165</td>\n",
       "      <td>Pakistan</td>\n",
       "      <td>5610</td>\n",
       "      <td>Import Quantity</td>\n",
       "      <td>403</td>\n",
       "      <td>Onions, dry</td>\n",
       "      <td>2013</td>\n",
       "      <td>2013</td>\n",
       "      <td>tonnes</td>\n",
       "      <td>170946</td>\n",
       "      <td>NaN</td>\n",
       "      <td>Official data</td>\n",
       "    </tr>\n",
       "    <tr>\n",
       "      <th>4</th>\n",
       "      <td>TCL</td>\n",
       "      <td>Crops and livestock products</td>\n",
       "      <td>165</td>\n",
       "      <td>Pakistan</td>\n",
       "      <td>5610</td>\n",
       "      <td>Import Quantity</td>\n",
       "      <td>403</td>\n",
       "      <td>Onions, dry</td>\n",
       "      <td>2014</td>\n",
       "      <td>2014</td>\n",
       "      <td>tonnes</td>\n",
       "      <td>66915</td>\n",
       "      <td>NaN</td>\n",
       "      <td>Official data</td>\n",
       "    </tr>\n",
       "  </tbody>\n",
       "</table>\n",
       "</div>"
      ],
      "text/plain": [
       "  Domain Code                        Domain  Area Code (FAO)      Area  \\\n",
       "0         TCL  Crops and livestock products              165  Pakistan   \n",
       "1         TCL  Crops and livestock products              165  Pakistan   \n",
       "2         TCL  Crops and livestock products              165  Pakistan   \n",
       "3         TCL  Crops and livestock products              165  Pakistan   \n",
       "4         TCL  Crops and livestock products              165  Pakistan   \n",
       "\n",
       "   Element Code          Element  Item Code (FAO)         Item  Year Code  \\\n",
       "0          5610  Import Quantity              403  Onions, dry       2010   \n",
       "1          5610  Import Quantity              403  Onions, dry       2011   \n",
       "2          5610  Import Quantity              403  Onions, dry       2012   \n",
       "3          5610  Import Quantity              403  Onions, dry       2013   \n",
       "4          5610  Import Quantity              403  Onions, dry       2014   \n",
       "\n",
       "   Year    Unit   Value Flag Flag Description  \n",
       "0  2010  tonnes  152647  NaN    Official data  \n",
       "1  2011  tonnes   91038  NaN    Official data  \n",
       "2  2012  tonnes  137774  NaN    Official data  \n",
       "3  2013  tonnes  170946  NaN    Official data  \n",
       "4  2014  tonnes   66915  NaN    Official data  "
      ]
     },
     "execution_count": 4,
     "metadata": {},
     "output_type": "execute_result"
    }
   ],
   "source": [
    "df8= pd.read_csv(\"EOPTO.csv\")\n",
    "df8.head()"
   ]
  },
  {
   "cell_type": "code",
   "execution_count": 13,
   "metadata": {},
   "outputs": [
    {
     "data": {
      "text/plain": [
       "<seaborn.axisgrid.FacetGrid at 0x1ab0789eb00>"
      ]
     },
     "execution_count": 13,
     "metadata": {},
     "output_type": "execute_result"
    },
    {
     "data": {
      "image/png": "[encoded data removed]",
      "text/plain": [
       "<Figure size 453.25x360 with 1 Axes>"
      ]
     },
     "metadata": {
      "needs_background": "light"
     },
     "output_type": "display_data"
    }
   ],
   "source": [
    "import plotly.express as px\n",
    "import statsmodels.api as sm\n",
    "import seaborn as sns\n",
    "import pandas as pd\n",
    "df8= pd.read_csv(\"EOPTO.csv\")\n",
    "\n",
    "sns.relplot(x=\"Year\", y=\"Value\", hue= \"Item\", data=df8 , kind=\"line\")"
   ]
  },
  {
   "cell_type": "code",
   "execution_count": 15,
   "metadata": {},
   "outputs": [
    {
     "data": {
      "application/vnd.plotly.v1+json": {
       "config": {
        "plotlyServerURL": "https://plot.ly"
       },
       "data": [
        {
         "hovertemplate": "Item=Onions, dry<br>Year=%{x}<br>Export Quantity in tonnes=%{y}<extra></extra>",
         "legendgroup": "Onions, dry",
         "line": {
          "color": "#636efa"
         },
         "marker": {
          "symbol": "circle"
         },
         "mode": "lines",
         "name": "Onions, dry",
         "orientation": "v",
         "showlegend": true,
         "stackgroup": "1",
         "type": "scatter",
         "x": [
          2010,
          2011,
          2012,
          2013,
          2014,
          2015,
          2016,
          2017,
          2018,
          2019,
          2020
         ],
         "xaxis": "x",
         "y": [
          152647,
          91038,
          137774,
          170946,
          66915,
          109906,
          47992,
          75838,
          54422,
          85604,
          165237
         ],
         "yaxis": "y"
        },
        {
         "hovertemplate": "Item=Potatoes<br>Year=%{x}<br>Export Quantity in tonnes=%{y}<extra></extra>",
         "legendgroup": "Potatoes",
         "line": {
          "color": "#EF553B"
         },
         "marker": {
          "symbol": "circle"
         },
         "mode": "lines",
         "name": "Potatoes",
         "orientation": "v",
         "showlegend": true,
         "stackgroup": "1",
         "type": "scatter",
         "x": [
          2010,
          2011,
          2012,
          2013,
          2014,
          2015,
          2016,
          2017,
          2018,
          2019,
          2020
         ],
         "xaxis": "x",
         "y": [
          12986,
          6332,
          5435,
          11447,
          232174,
          6898,
          7494,
          7945,
          5389,
          5940,
          35913
         ],
         "yaxis": "y"
        },
        {
         "hovertemplate": "Item=Tomatoes<br>Year=%{x}<br>Export Quantity in tonnes=%{y}<extra></extra>",
         "legendgroup": "Tomatoes",
         "line": {
          "color": "#00cc96"
         },
         "marker": {
          "symbol": "circle"
         },
         "mode": "lines",
         "name": "Tomatoes",
         "orientation": "v",
         "showlegend": true,
         "stackgroup": "1",
         "type": "scatter",
         "x": [
          2010,
          2011,
          2012,
          2013,
          2014,
          2015,
          2016,
          2017,
          2018,
          2019,
          2020
         ],
         "xaxis": "x",
         "y": [
          76890,
          171319,
          247984,
          265353,
          287406,
          269285,
          254546,
          56855,
          181605,
          232786,
          365380
         ],
         "yaxis": "y"
        }
       ],
       "layout": {
        "legend": {
         "title": {
          "text": "Item"
         },
         "tracegroupgap": 0
        },
        "template": {
         "data": {
          "bar": [
           {
            "error_x": {
             "color": "#2a3f5f"
            },
            "error_y": {
             "color": "#2a3f5f"
            },
            "marker": {
             "line": {
              "color": "#E5ECF6",
              "width": 0.5
             },
             "pattern": {
              "fillmode": "overlay",
              "size": 10,
              "solidity": 0.2
             }
            },
            "type": "bar"
           }
          ],
          "barpolar": [
           {
            "marker": {
             "line": {
              "color": "#E5ECF6",
              "width": 0.5
             },
             "pattern": {
              "fillmode": "overlay",
              "size": 10,
              "solidity": 0.2
             }
            },
            "type": "barpolar"
           }
          ],
          "carpet": [
           {
            "aaxis": {
             "endlinecolor": "#2a3f5f",
             "gridcolor": "white",
             "linecolor": "white",
             "minorgridcolor": "white",
             "startlinecolor": "#2a3f5f"
            },
            "baxis": {
             "endlinecolor": "#2a3f5f",
             "gridcolor": "white",
             "linecolor": "white",
             "minorgridcolor": "white",
             "startlinecolor": "#2a3f5f"
            },
            "type": "carpet"
           }
          ],
          "choropleth": [
           {
            "colorbar": {
             "outlinewidth": 0,
             "ticks": ""
            },
            "type": "choropleth"
           }
          ],
          "contour": [
           {
            "colorbar": {
             "outlinewidth": 0,
             "ticks": ""
            },
            "colorscale": [
             [
              0,
              "#0d0887"
             ],
             [
              0.1111111111111111,
              "#46039f"
             ],
             [
              0.2222222222222222,
              "#7201a8"
             ],
             [
              0.3333333333333333,
              "#9c179e"
             ],
             [
              0.4444444444444444,
              "#bd3786"
             ],
             [
              0.5555555555555556,
              "#d8576b"
             ],
             [
              0.6666666666666666,
              "#ed7953"
             ],
             [
              0.7777777777777778,
              "#fb9f3a"
             ],
             [
              0.8888888888888888,
              "#fdca26"
             ],
             [
              1,
              "#f0f921"
             ]
            ],
            "type": "contour"
           }
          ],
          "contourcarpet": [
           {
            "colorbar": {
             "outlinewidth": 0,
             "ticks": ""
            },
            "type": "contourcarpet"
           }
          ],
          "heatmap": [
           {
            "colorbar": {
             "outlinewidth": 0,
             "ticks": ""
            },
            "colorscale": [
             [
              0,
              "#0d0887"
             ],
             [
              0.1111111111111111,
              "#46039f"
             ],
             [
              0.2222222222222222,
              "#7201a8"
             ],
             [
              0.3333333333333333,
              "#9c179e"
             ],
             [
              0.4444444444444444,
              "#bd3786"
             ],
             [
              0.5555555555555556,
              "#d8576b"
             ],
             [
              0.6666666666666666,
              "#ed7953"
             ],
             [
              0.7777777777777778,
              "#fb9f3a"
             ],
             [
              0.8888888888888888,
              "#fdca26"
             ],
             [
              1,
              "#f0f921"
             ]
            ],
            "type": "heatmap"
           }
          ],
          "heatmapgl": [
           {
            "colorbar": {
             "outlinewidth": 0,
             "ticks": ""
            },
            "colorscale": [
             [
              0,
              "#0d0887"
             ],
             [
              0.1111111111111111,
              "#46039f"
             ],
             [
              0.2222222222222222,
              "#7201a8"
             ],
             [
              0.3333333333333333,
              "#9c179e"
             ],
             [
              0.4444444444444444,
              "#bd3786"
             ],
             [
              0.5555555555555556,
              "#d8576b"
             ],
             [
              0.6666666666666666,
              "#ed7953"
             ],
             [
              0.7777777777777778,
              "#fb9f3a"
             ],
             [
              0.8888888888888888,
              "#fdca26"
             ],
             [
              1,
              "#f0f921"
             ]
            ],
            "type": "heatmapgl"
           }
          ],
          "histogram": [
           {
            "marker": {
             "pattern": {
              "fillmode": "overlay",
              "size": 10,
              "solidity": 0.2
             }
            },
            "type": "histogram"
           }
          ],
          "histogram2d": [
           {
            "colorbar": {
             "outlinewidth": 0,
             "ticks": ""
            },
            "colorscale": [
             [
              0,
              "#0d0887"
             ],
             [
              0.1111111111111111,
              "#46039f"
             ],
             [
              0.2222222222222222,
              "#7201a8"
             ],
             [
              0.3333333333333333,
              "#9c179e"
             ],
             [
              0.4444444444444444,
              "#bd3786"
             ],
             [
              0.5555555555555556,
              "#d8576b"
             ],
             [
              0.6666666666666666,
              "#ed7953"
             ],
             [
              0.7777777777777778,
              "#fb9f3a"
             ],
             [
              0.8888888888888888,
              "#fdca26"
             ],
             [
              1,
              "#f0f921"
             ]
            ],
            "type": "histogram2d"
           }
          ],
          "histogram2dcontour": [
           {
            "colorbar": {
             "outlinewidth": 0,
             "ticks": ""
            },
            "colorscale": [
             [
              0,
              "#0d0887"
             ],
             [
              0.1111111111111111,
              "#46039f"
             ],
             [
              0.2222222222222222,
              "#7201a8"
             ],
             [
              0.3333333333333333,
              "#9c179e"
             ],
             [
              0.4444444444444444,
              "#bd3786"
             ],
             [
              0.5555555555555556,
              "#d8576b"
             ],
             [
              0.6666666666666666,
              "#ed7953"
             ],
             [
              0.7777777777777778,
              "#fb9f3a"
             ],
             [
              0.8888888888888888,
              "#fdca26"
             ],
             [
              1,
              "#f0f921"
             ]
            ],
            "type": "histogram2dcontour"
           }
          ],
          "mesh3d": [
           {
            "colorbar": {
             "outlinewidth": 0,
             "ticks": ""
            },
            "type": "mesh3d"
           }
          ],
          "parcoords": [
           {
            "line": {
             "colorbar": {
              "outlinewidth": 0,
              "ticks": ""
             }
            },
            "type": "parcoords"
           }
          ],
          "pie": [
           {
            "automargin": true,
            "type": "pie"
           }
          ],
          "scatter": [
           {
            "marker": {
             "colorbar": {
              "outlinewidth": 0,
              "ticks": ""
             }
            },
            "type": "scatter"
           }
          ],
          "scatter3d": [
           {
            "line": {
             "colorbar": {
              "outlinewidth": 0,
              "ticks": ""
             }
            },
            "marker": {
             "colorbar": {
              "outlinewidth": 0,
              "ticks": ""
             }
            },
            "type": "scatter3d"
           }
          ],
          "scattercarpet": [
           {
            "marker": {
             "colorbar": {
              "outlinewidth": 0,
              "ticks": ""
             }
            },
            "type": "scattercarpet"
           }
          ],
          "scattergeo": [
           {
            "marker": {
             "colorbar": {
              "outlinewidth": 0,
              "ticks": ""
             }
            },
            "type": "scattergeo"
           }
          ],
          "scattergl": [
           {
            "marker": {
             "colorbar": {
              "outlinewidth": 0,
              "ticks": ""
             }
            },
            "type": "scattergl"
           }
          ],
          "scattermapbox": [
           {
            "marker": {
             "colorbar": {
              "outlinewidth": 0,
              "ticks": ""
             }
            },
            "type": "scattermapbox"
           }
          ],
          "scatterpolar": [
           {
            "marker": {
             "colorbar": {
              "outlinewidth": 0,
              "ticks": ""
             }
            },
            "type": "scatterpolar"
           }
          ],
          "scatterpolargl": [
           {
            "marker": {
             "colorbar": {
              "outlinewidth": 0,
              "ticks": ""
             }
            },
            "type": "scatterpolargl"
           }
          ],
          "scatterternary": [
           {
            "marker": {
             "colorbar": {
              "outlinewidth": 0,
              "ticks": ""
             }
            },
            "type": "scatterternary"
           }
          ],
          "surface": [
           {
            "colorbar": {
             "outlinewidth": 0,
             "ticks": ""
            },
            "colorscale": [
             [
              0,
              "#0d0887"
             ],
             [
              0.1111111111111111,
              "#46039f"
             ],
             [
              0.2222222222222222,
              "#7201a8"
             ],
             [
              0.3333333333333333,
              "#9c179e"
             ],
             [
              0.4444444444444444,
              "#bd3786"
             ],
             [
              0.5555555555555556,
              "#d8576b"
             ],
             [
              0.6666666666666666,
              "#ed7953"
             ],
             [
              0.7777777777777778,
              "#fb9f3a"
             ],
             [
              0.8888888888888888,
              "#fdca26"
             ],
             [
              1,
              "#f0f921"
             ]
            ],
            "type": "surface"
           }
          ],
          "table": [
           {
            "cells": {
             "fill": {
              "color": "#EBF0F8"
             },
             "line": {
              "color": "white"
             }
            },
            "header": {
             "fill": {
              "color": "#C8D4E3"
             },
             "line": {
              "color": "white"
             }
            },
            "type": "table"
           }
          ]
         },
         "layout": {
          "annotationdefaults": {
           "arrowcolor": "#2a3f5f",
           "arrowhead": 0,
           "arrowwidth": 1
          },
          "autotypenumbers": "strict",
          "coloraxis": {
           "colorbar": {
            "outlinewidth": 0,
            "ticks": ""
           }
          },
          "colorscale": {
           "diverging": [
            [
             0,
             "#8e0152"
            ],
            [
             0.1,
             "#c51b7d"
            ],
            [
             0.2,
             "#de77ae"
            ],
            [
             0.3,
             "#f1b6da"
            ],
            [
             0.4,
             "#fde0ef"
            ],
            [
             0.5,
             "#f7f7f7"
            ],
            [
             0.6,
             "#e6f5d0"
            ],
            [
             0.7,
             "#b8e186"
            ],
            [
             0.8,
             "#7fbc41"
            ],
            [
             0.9,
             "#4d9221"
            ],
            [
             1,
             "#276419"
            ]
           ],
           "sequential": [
            [
             0,
             "#0d0887"
            ],
            [
             0.1111111111111111,
             "#46039f"
            ],
            [
             0.2222222222222222,
             "#7201a8"
            ],
            [
             0.3333333333333333,
             "#9c179e"
            ],
            [
             0.4444444444444444,
             "#bd3786"
            ],
            [
             0.5555555555555556,
             "#d8576b"
            ],
            [
             0.6666666666666666,
             "#ed7953"
            ],
            [
             0.7777777777777778,
             "#fb9f3a"
            ],
            [
             0.8888888888888888,
             "#fdca26"
            ],
            [
             1,
             "#f0f921"
            ]
           ],
           "sequentialminus": [
            [
             0,
             "#0d0887"
            ],
            [
             0.1111111111111111,
             "#46039f"
            ],
            [
             0.2222222222222222,
             "#7201a8"
            ],
            [
             0.3333333333333333,
             "#9c179e"
            ],
            [
             0.4444444444444444,
             "#bd3786"
            ],
            [
             0.5555555555555556,
             "#d8576b"
            ],
            [
             0.6666666666666666,
             "#ed7953"
            ],
            [
             0.7777777777777778,
             "#fb9f3a"
            ],
            [
             0.8888888888888888,
             "#fdca26"
            ],
            [
             1,
             "#f0f921"
            ]
           ]
          },
          "colorway": [
           "#636efa",
           "#EF553B",
           "#00cc96",
           "#ab63fa",
           "#FFA15A",
           "#19d3f3",
           "#FF6692",
           "#B6E880",
           "#FF97FF",
           "#FECB52"
          ],
          "font": {
           "color": "#2a3f5f"
          },
          "geo": {
           "bgcolor": "white",
           "lakecolor": "white",
           "landcolor": "#E5ECF6",
           "showlakes": true,
           "showland": true,
           "subunitcolor": "white"
          },
          "hoverlabel": {
           "align": "left"
          },
          "hovermode": "closest",
          "mapbox": {
           "style": "light"
          },
          "paper_bgcolor": "white",
          "plot_bgcolor": "#E5ECF6",
          "polar": {
           "angularaxis": {
            "gridcolor": "white",
            "linecolor": "white",
            "ticks": ""
           },
           "bgcolor": "#E5ECF6",
           "radialaxis": {
            "gridcolor": "white",
            "linecolor": "white",
            "ticks": ""
           }
          },
          "scene": {
           "xaxis": {
            "backgroundcolor": "#E5ECF6",
            "gridcolor": "white",
            "gridwidth": 2,
            "linecolor": "white",
            "showbackground": true,
            "ticks": "",
            "zerolinecolor": "white"
           },
           "yaxis": {
            "backgroundcolor": "#E5ECF6",
            "gridcolor": "white",
            "gridwidth": 2,
            "linecolor": "white",
            "showbackground": true,
            "ticks": "",
            "zerolinecolor": "white"
           },
           "zaxis": {
            "backgroundcolor": "#E5ECF6",
            "gridcolor": "white",
            "gridwidth": 2,
            "linecolor": "white",
            "showbackground": true,
            "ticks": "",
            "zerolinecolor": "white"
           }
          },
          "shapedefaults": {
           "line": {
            "color": "#2a3f5f"
           }
          },
          "ternary": {
           "aaxis": {
            "gridcolor": "white",
            "linecolor": "white",
            "ticks": ""
           },
           "baxis": {
            "gridcolor": "white",
            "linecolor": "white",
            "ticks": ""
           },
           "bgcolor": "#E5ECF6",
           "caxis": {
            "gridcolor": "white",
            "linecolor": "white",
            "ticks": ""
           }
          },
          "title": {
           "x": 0.05
          },
          "xaxis": {
           "automargin": true,
           "gridcolor": "white",
           "linecolor": "white",
           "ticks": "",
           "title": {
            "standoff": 15
           },
           "zerolinecolor": "white",
           "zerolinewidth": 2
          },
          "yaxis": {
           "automargin": true,
           "gridcolor": "white",
           "linecolor": "white",
           "ticks": "",
           "title": {
            "standoff": 15
           },
           "zerolinecolor": "white",
           "zerolinewidth": 2
          }
         }
        },
        "title": {
         "text": "Export Quantity of different fruits from pakistan"
        },
        "xaxis": {
         "anchor": "y",
         "domain": [
          0,
          1
         ],
         "title": {
          "text": "Year"
         }
        },
        "yaxis": {
         "anchor": "x",
         "domain": [
          0,
          1
         ],
         "title": {
          "text": "Export Quantity in tonnes"
         }
        }
       }
      }
     },
     "metadata": {},
     "output_type": "display_data"
    }
   ],
   "source": [
    "fig = px.area(df8, x=\"Year\", y=\"Value\", color=\"Item\", line_group=\"Item\", title='Export Quantity of different fruits from pakistan'\n",
    ",labels={\"Value\": \"Export Quantity in tonnes\"} )\n",
    "fig.show()"
   ]
  },
  {
   "cell_type": "code",
   "execution_count": 35,
   "metadata": {},
   "outputs": [
    {
     "data": {
      "text/plain": [
       "Text(0.5, 1.0, 'Import Quantity of Commonly Used Vegetables in Pakistan')"
      ]
     },
     "execution_count": 35,
     "metadata": {},
     "output_type": "execute_result"
    },
    {
     "data": {
      "image/png": "[encoded data removed]",
      "text/plain": [
       "<Figure size 1080x720 with 1 Axes>"
      ]
     },
     "metadata": {
      "needs_background": "light"
     },
     "output_type": "display_data"
    }
   ],
   "source": [
    "import matplotlib.pyplot as plt\n",
    "plt.figure(figsize=(15,10))\n",
    "line=sns.lineplot(x=\"Year\", y=\"Value\",hue=\"Item\",marker=\"o\",data=df8)\n",
    "plt.xticks(size=12,rotation=90, horizontalalignment='left',fontweight='light')\n",
    "plt.xlabel('Year', size=15)\n",
    "plt.ylabel('Import Quantity in tonnes', size=15)\n",
    "plt.title(\"Import Quantity of Commonly Used Vegetables in Pakistan\" , size =20 )"
   ]
  }
 ],
 "metadata": {
  "interpreter": {
   "hash": "266c4d81548097d9dd641a4c19dbdb8cb4ce739c1b70c23a83575cb49d14a5df"
  },
  "kernelspec": {
   "display_name": "Python 3.10.1 64-bit",
   "language": "python",
   "name": "python3"
  },
  "language_info": {
   "codemirror_mode": {
    "name": "ipython",
    "version": 3
   },
   "file_extension": ".py",
   "mimetype": "text/x-python",
   "name": "python",
   "nbconvert_exporter": "python",
   "pygments_lexer": "ipython3",
   "version": "3.10.1"
  },
  "orig_nbformat": 4
 },
 "nbformat": 4,
 "nbformat_minor": 2
}
