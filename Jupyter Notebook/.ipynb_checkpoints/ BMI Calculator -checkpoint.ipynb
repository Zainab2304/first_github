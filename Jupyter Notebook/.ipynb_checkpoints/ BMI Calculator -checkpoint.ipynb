{
 "cells": [
  {
   "cell_type": "code",
   "execution_count": null,
   "id": "19ac78fd",
   "metadata": {},
   "outputs": [],
   "source": [
    "#units of BMI is wiegh in kg / height in m and its square "
   ]
  },
  {
   "cell_type": "code",
   "execution_count": 11,
   "id": "f6722afb",
   "metadata": {},
   "outputs": [
    {
     "name": "stdout",
     "output_type": "stream",
     "text": [
      "What is your name ?  Zain SHoukat \n",
      "what is your weight?  75.5\n",
      "and your height ?  1.67\n",
      "Zain SHoukat  your BMI IS 27.071605292409195\n"
     ]
    }
   ],
   "source": [
    "name= input(\"What is your name ?  \")\n",
    "greetings= (\"Hello\" ,name)\n",
    "greetings\n",
    "weight= float(input(\"what is your weight?  \"))\n",
    "height= float(input(\"and your height ?  \"))\n",
    "\n",
    "\n",
    "bmi= weight/height**2\n",
    "bmi\n",
    "\n",
    "print(name ,\"your BMI IS\", bmi)\n"
   ]
  },
  {
   "cell_type": "code",
   "execution_count": null,
   "id": "175d9d3f",
   "metadata": {},
   "outputs": [],
   "source": []
  },
  {
   "cell_type": "code",
   "execution_count": null,
   "id": "49fe945a",
   "metadata": {},
   "outputs": [],
   "source": []
  }
 ],
 "metadata": {
  "kernelspec": {
   "display_name": "Python 3 (ipykernel)",
   "language": "python",
   "name": "python3"
  },
  "language_info": {
   "codemirror_mode": {
    "name": "ipython",
    "version": 3
   },
   "file_extension": ".py",
   "mimetype": "text/x-python",
   "name": "python",
   "nbconvert_exporter": "python",
   "pygments_lexer": "ipython3",
   "version": "3.9.7"
  }
 },
 "nbformat": 4,
 "nbformat_minor": 5
}
