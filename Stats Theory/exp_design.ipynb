{
 "cells": [
  {
   "cell_type": "markdown",
   "metadata": {},
   "source": [
    "## Types of Experimental Designs | Statistics"
   ]
  },
  {
   "cell_type": "markdown",
   "metadata": {},
   "source": [
    "### 1. Completely Randomized Design (CRD):\n",
    "\n",
    "The design which is used when the experimental material is limited and homogeneous is known as completely randomized design. This design is specially used for pot culture experiments.\n",
    "\n",
    "\n",
    "The whole field is divided into plots of similar shape and size. The number of plots is equal to the product of treatments and replications. These plots are then serially numbered"
   ]
  },
  {
   "cell_type": "markdown",
   "metadata": {},
   "source": [
    "### 2. Randomized Block Design (RBD):\n",
    "\n",
    "The experimental design which controls the fertility variation in one direction only is known as randomized block design (RBD). Adoption of this design is useful when the variation between the blocks is significant.\n",
    "\n",
    "First the experimental field is divided into homogeneous groups equal to the number of replications. These homogeneous groups are known as blocks. Then each block is further divided into plots of similar shape and size equal to the number of treatments."
   ]
  },
  {
   "cell_type": "markdown",
   "metadata": {},
   "source": [
    "### 3. Latin Square Design (LSD):\n",
    "\n",
    "The experimental design which simultaneously controls the fertility variation in two directions is called Latin square design (LSD). In other words, Latin square designs are adopted for eliminating the variation of two factors which are generally called rows and columns.\n",
    "\n",
    "In this design the field is divided into homogeneous blocks in two ways. The blocks in one direction are commonly known as rows and the blocks in other direction as columns. The number of plots in each row is the same as the number of plots in each column. This number is equal to the number of treatments."
   ]
  },
  {
   "cell_type": "markdown",
   "metadata": {},
   "source": [
    "### 4. Split Plot Design (SPD):\n",
    "\n",
    "The experimental design in which experimental plots are split or divided into main plots, sub­plots and ultimate-plots is called split plot design (SPD). In this design several factors are studied simultaneously with different levels of precision. The factors are such that some of them require larger plots like irrigation, depth of ploughing and sowing dates, and others require smaller plots.\n",
    "\n",
    "The layout of this design consists of four steps as given below:\n",
    "\n",
    "(a) First the experimental field is divided into homogeneous blocks equal to the number of replications\n",
    "\n",
    "(b) Then each block is divided into a number of plots equal to the number of levels of the first factor. These plots are known as main plots.\n",
    "\n",
    "(c) Then each main plot is divided into a number of sub-plots equal to the number of levels of second factor.\n",
    "\n",
    "(d) Then each sub-plot is divided into a number of ultimate plots equal to the number of levels of third factor."
   ]
  },
  {
   "cell_type": "markdown",
   "metadata": {},
   "source": [
    "### 5. Lattice Design:\n",
    "\n",
    "Lattice designs are incomplete block designs in which the number of varieties or treatments forms a square.\n",
    "\n",
    "The experimental field is divided into homogeneous parts equal to the number of replications. Each part is further divided into plots of equal size in such a way that the number of plots should form a square and each replication has equal plots in each direction (i.e., equal rows and columns)."
   ]
  },
  {
   "cell_type": "markdown",
   "metadata": {},
   "source": [
    "### 6. Augmented Designs:\n",
    "\n",
    "This is an experimental design which is used to test a large number of germplasm lines in a limited area.\n",
    "\n",
    "In this design, standard or check varieties are replicated among the cultures. Thus, standards are replicated and cultures are non-replicated. The number of check varieties should be at least 4.\n",
    "\n"
   ]
  }
 ],
 "metadata": {
  "interpreter": {
   "hash": "266c4d81548097d9dd641a4c19dbdb8cb4ce739c1b70c23a83575cb49d14a5df"
  },
  "kernelspec": {
   "display_name": "Python 3.10.1 64-bit",
   "language": "python",
   "name": "python3"
  },
  "language_info": {
   "name": "python",
   "version": "3.10.1"
  },
  "orig_nbformat": 4
 },
 "nbformat": 4,
 "nbformat_minor": 2
}
