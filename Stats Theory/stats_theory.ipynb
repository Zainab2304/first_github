{
 "cells": [
  {
   "cell_type": "markdown",
   "metadata": {},
   "source": [
    "# Tests and their types \n",
    "- Parametric test \n",
    "- Non-Parametric test "
   ]
  },
  {
   "cell_type": "markdown",
   "metadata": {},
   "source": [
    "### Parametric test\n",
    "    Parametric tests are those tests for which we have prior knowledge of the population distribution\n",
    "### Non-Parametric test \n",
    "    Non-Parametric tests are those in which we don’t make any assumption about the parameters for the given population"
   ]
  },
  {
   "cell_type": "markdown",
   "metadata": {},
   "source": [
    "## Steps before data analysis \n",
    "\n",
    "### Step 1 : Normality test \n",
    "    Test to be used are :\n",
    "        1- Shapiro-Wilk Test \n",
    "            * Specififc (Reliable)\n",
    "        2- Kolmogorov-Simirnov Test\n",
    "            * General (Less- reliable)\n"
   ]
  },
  {
   "cell_type": "markdown",
   "metadata": {},
   "source": [
    "### Step 2 : Homogeneity test \n",
    "    The variance of the variable in data are equal \n",
    "    Tesy to be used : **Levene's Test**"
   ]
  },
  {
   "cell_type": "markdown",
   "metadata": {},
   "source": [
    "### Step 3 : Purpose of test \n",
    "    Know the purpose of the research question \n",
    "    Their are two types of purpose \n",
    "        1- Comparison\n",
    "        2- Relationship "
   ]
  },
  {
   "cell_type": "markdown",
   "metadata": {},
   "source": [
    "### Step 4 : Type of the data\n",
    "    Know the type of the data \n",
    "        - Catagorical = Qualitative \n",
    "        - Numerical = Quantitative \n"
   ]
  },
  {
   "cell_type": "markdown",
   "metadata": {},
   "source": [
    "### Step 5 : Statistical test \n",
    "    Choose a statistical test from three main families \n",
    "        1- Chi-Squared test \n",
    "            Purpose : Comparison \n",
    "            Data : Catagorical only \n",
    "            Types:\n",
    "                * Chi- squared test of homogeneity\n",
    "                * Chi- squared test of independence  \n",
    "        2- t-test/ANOVA\n",
    "            Purpose : Comparison \n",
    "            Data : Catagorical and continuous\n",
    "            Types: \n",
    "                * One sample t-test \n",
    "                * Two sample t-test\n",
    "                    ** Un-paired t-test\n",
    "                    ** Paired t-test\n",
    "                * ANOVA\n",
    "                     ** One way ANOVA\n",
    "                     ** Two way ANOVA\n",
    "                     ** Repeated measures of ANOVA \n",
    "                * MANOVA\n",
    "                * MANCOVA \n",
    "        3- Correlation \n",
    "            Purpose : Relationship \n",
    "            Data : Continuous only \n",
    "            Types:\n",
    "                1- Pearson Correlation\n",
    "                2- Regression\n",
    "             "
   ]
  },
  {
   "cell_type": "markdown",
   "metadata": {},
   "source": [
    "## Definations \n",
    "- Chi-Squared test \n",
    "  \n",
    "        Chi-square is a statistical test used to examine the differences between categorical variables from a random sample in order to judge goodness of fit between expected and observed results.This is non parametric test.\n",
    "\n"
   ]
  },
  {
   "cell_type": "markdown",
   "metadata": {},
   "source": [
    "- One sample t-test\n",
    "\n",
    "        The One Sample t Test examines whether the mean of a population is statistically different from a known or hypothesized value. The One Sample t Test is a parametric test."
   ]
  },
  {
   "cell_type": "markdown",
   "metadata": {},
   "source": [
    "- Two sample t-test or Independent Samples t-Test\n",
    "  \n",
    "        The Independent Samples t Test compares the means of two independent groups in order to determine whether there is statistical evidence that the associated population means are significantly different. The Independent Samples t Test is a parametric test.\n",
    "\n",
    "Unpaired t-test = Comparison between math marks of girls and boys (comparison between different population is onvolve)\n",
    "\n",
    "Paired t-test = Comparison betwwen the math and stat marks of boys (boy= pne type of population and comparison is envolve in thier subjects)"
   ]
  },
  {
   "cell_type": "markdown",
   "metadata": {},
   "source": [
    "- ANOVA = Analysis of varianvce \n",
    "  \n",
    "\n",
    "\n"
   ]
  },
  {
   "cell_type": "markdown",
   "metadata": {},
   "source": [
    "- One way ANOVA \n",
    "  \n",
    "        \"one-way\" ANOVA compares levels (i.e. groups) of a single factor based on single continuous response variable (e.g. comparing *test score*(continous variable) by 'level of education')\n",
    "\n",
    "        One factor and one continous variable\n"
   ]
  },
  {
   "cell_type": "markdown",
   "metadata": {},
   "source": [
    "- Two way ANOVA \n",
    "  \n",
    "        a \"two-way\" ANOVA compares levels of two or more factors for mean differences on a single continuous response variable(e.g. comparing test score by both 'level of education' and 'zodiac sign').\n",
    "\n",
    "        Two factor for one continous variable "
   ]
  },
  {
   "cell_type": "markdown",
   "metadata": {},
   "source": [
    "- Repeated measures of ANOVA\n",
    "\n",
    "        The repeated measures ANOVA compares means across one or more variables that are based on repeated observations. A repeated measures ANOVA model can also include zero or more independent variables. Again, a repeated measures ANOVA has at least 1 dependent variable that has more than one observation.\n"
   ]
  },
  {
   "cell_type": "markdown",
   "metadata": {},
   "source": [
    "- MANOVA  \"Multivariate Analysis of Variance\"\n",
    "  \n",
    "        In basic terms, A MANOVA is an ANOVA with two or more continuous response variables\n",
    "\n",
    "\n",
    "\n"
   ]
  },
  {
   "cell_type": "markdown",
   "metadata": {},
   "source": [
    "\n",
    " - One Way MANOVA\n",
    "       \n",
    "        When comparing two or more continuous response variables by a single factor, a one-way MANOVA is appropriate (e.g. comparing ‘test score’ and ‘annual income’ together by ‘level of education’).\n",
    "\n",
    "        Two continous variable with one factor\n"
   ]
  },
  {
   "cell_type": "markdown",
   "metadata": {},
   "source": [
    " - Two way MANOVA\n",
    "  \n",
    "        A two-way MANOVA also entails two or more continuous response variables, but compares them by at least two factors (e.g. comparing ‘test score’ and ‘annual income’ together by both ‘level of education’ and ‘zodiac sign’). \n",
    "\n",
    "        Two continous variable with two factors\n",
    "  "
   ]
  },
  {
   "cell_type": "markdown",
   "metadata": {},
   "source": [
    "- MANCOVA (Multi-variate analysis of co-variance)\n",
    "\n",
    "        an analysis evolves from MANOVA to MANCOVA when one or more covariates are added to the mix. \n",
    "        eg: MANCOVA compares two or more continuous response variables (e.g.comparing continous variable (Test Scores and Annual Income) by levels of a factor variable (e.g. Level of Education), controlling for a covariate (e.g. Number of Hours Spent Studying).\n",
    "\n",
    "![MANCOVA](mancova.png)"
   ]
  }
 ],
 "metadata": {
  "interpreter": {
   "hash": "266c4d81548097d9dd641a4c19dbdb8cb4ce739c1b70c23a83575cb49d14a5df"
  },
  "kernelspec": {
   "display_name": "Python 3.10.1 64-bit",
   "language": "python",
   "name": "python3"
  },
  "language_info": {
   "name": "python",
   "version": "3.10.1"
  },
  "orig_nbformat": 4
 },
 "nbformat": 4,
 "nbformat_minor": 2
}
