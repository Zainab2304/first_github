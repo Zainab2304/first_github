{
 "cells": [
  {
   "cell_type": "markdown",
   "id": "04de75a5",
   "metadata": {},
   "source": [
    "# Practice Graphs "
   ]
  },
  {
   "cell_type": "markdown",
   "id": "aa721949",
   "metadata": {},
   "source": [
    "## Importing our data set "
   ]
  },
  {
   "cell_type": "code",
   "execution_count": 29,
   "id": "087e121a",
   "metadata": {},
   "outputs": [
    {
     "data": {
      "text/html": [
       "<div>\n",
       "<style scoped>\n",
       "    .dataframe tbody tr th:only-of-type {\n",
       "        vertical-align: middle;\n",
       "    }\n",
       "\n",
       "    .dataframe tbody tr th {\n",
       "        vertical-align: top;\n",
       "    }\n",
       "\n",
       "    .dataframe thead th {\n",
       "        text-align: right;\n",
       "    }\n",
       "</style>\n",
       "<table border=\"1\" class=\"dataframe\">\n",
       "  <thead>\n",
       "    <tr style=\"text-align: right;\">\n",
       "      <th></th>\n",
       "      <th>Gender</th>\n",
       "      <th>Location</th>\n",
       "      <th>Age_range</th>\n",
       "      <th>Qualification</th>\n",
       "      <th>field_of_study</th>\n",
       "      <th>Purpose_for_chilla</th>\n",
       "      <th>Work_status</th>\n",
       "      <th>Blood_group</th>\n",
       "      <th>Mobile_sim</th>\n",
       "      <th>Sim_type</th>\n",
       "      <th>...</th>\n",
       "      <th>Your favorite programming language?</th>\n",
       "      <th>Marital Status?</th>\n",
       "      <th>Are you Vaccinated?</th>\n",
       "      <th>Where do you live?</th>\n",
       "      <th>Working experience</th>\n",
       "      <th>Age</th>\n",
       "      <th>Weight_in_kg</th>\n",
       "      <th>Height_in_cm</th>\n",
       "      <th>How many hours you code a day? (int)</th>\n",
       "      <th>Light kitni der band hti hy? int</th>\n",
       "    </tr>\n",
       "  </thead>\n",
       "  <tbody>\n",
       "    <tr>\n",
       "      <th>0</th>\n",
       "      <td>Male</td>\n",
       "      <td>Pakistan</td>\n",
       "      <td>36-40</td>\n",
       "      <td>Masters</td>\n",
       "      <td>Natural Sciences</td>\n",
       "      <td>to boost my skill set</td>\n",
       "      <td>Unemplyed</td>\n",
       "      <td>B+</td>\n",
       "      <td>U-fone</td>\n",
       "      <td>Prepaid</td>\n",
       "      <td>...</td>\n",
       "      <td>Python</td>\n",
       "      <td>Yes</td>\n",
       "      <td>Yes</td>\n",
       "      <td>Urbun</td>\n",
       "      <td>5.0</td>\n",
       "      <td>38.00</td>\n",
       "      <td>77.0</td>\n",
       "      <td>179.000</td>\n",
       "      <td>3.0</td>\n",
       "      <td>2</td>\n",
       "    </tr>\n",
       "    <tr>\n",
       "      <th>1</th>\n",
       "      <td>Male</td>\n",
       "      <td>Pakistan</td>\n",
       "      <td>26-30</td>\n",
       "      <td>Bachelors</td>\n",
       "      <td>CS/IT</td>\n",
       "      <td>to boost my skill set</td>\n",
       "      <td>Student</td>\n",
       "      <td>B+</td>\n",
       "      <td>U-fone</td>\n",
       "      <td>Prepaid</td>\n",
       "      <td>...</td>\n",
       "      <td>Python</td>\n",
       "      <td>No</td>\n",
       "      <td>Yes</td>\n",
       "      <td>Urbun</td>\n",
       "      <td>1.0</td>\n",
       "      <td>25.00</td>\n",
       "      <td>53.6</td>\n",
       "      <td>178.000</td>\n",
       "      <td>2.0</td>\n",
       "      <td>6</td>\n",
       "    </tr>\n",
       "    <tr>\n",
       "      <th>2</th>\n",
       "      <td>Male</td>\n",
       "      <td>Pakistan</td>\n",
       "      <td>31-35</td>\n",
       "      <td>Masters</td>\n",
       "      <td>Enginnering</td>\n",
       "      <td>Switch my field of study</td>\n",
       "      <td>Employed</td>\n",
       "      <td>B+</td>\n",
       "      <td>Zong</td>\n",
       "      <td>Prepaid</td>\n",
       "      <td>...</td>\n",
       "      <td>Python</td>\n",
       "      <td>Yes</td>\n",
       "      <td>Yes</td>\n",
       "      <td>Urbun</td>\n",
       "      <td>5.5</td>\n",
       "      <td>31.34</td>\n",
       "      <td>93.0</td>\n",
       "      <td>173.000</td>\n",
       "      <td>2.0</td>\n",
       "      <td>0</td>\n",
       "    </tr>\n",
       "    <tr>\n",
       "      <th>3</th>\n",
       "      <td>Female</td>\n",
       "      <td>Pakistan</td>\n",
       "      <td>31-35</td>\n",
       "      <td>Masters</td>\n",
       "      <td>CS/IT</td>\n",
       "      <td>to boost my skill set</td>\n",
       "      <td>Employed</td>\n",
       "      <td>O+</td>\n",
       "      <td>U-fone</td>\n",
       "      <td>Postpaid</td>\n",
       "      <td>...</td>\n",
       "      <td>Python</td>\n",
       "      <td>Yes</td>\n",
       "      <td>Yes</td>\n",
       "      <td>Urbun</td>\n",
       "      <td>5.0</td>\n",
       "      <td>33.00</td>\n",
       "      <td>60.0</td>\n",
       "      <td>157.000</td>\n",
       "      <td>3.0</td>\n",
       "      <td>24</td>\n",
       "    </tr>\n",
       "    <tr>\n",
       "      <th>4</th>\n",
       "      <td>Female</td>\n",
       "      <td>Pakistan</td>\n",
       "      <td>26-30</td>\n",
       "      <td>Masters</td>\n",
       "      <td>Enginnering</td>\n",
       "      <td>to boost my skill set</td>\n",
       "      <td>Student</td>\n",
       "      <td>A-</td>\n",
       "      <td>Mobilink</td>\n",
       "      <td>Prepaid</td>\n",
       "      <td>...</td>\n",
       "      <td>Javascript</td>\n",
       "      <td>No</td>\n",
       "      <td>Yes</td>\n",
       "      <td>Rural</td>\n",
       "      <td>3.5</td>\n",
       "      <td>27.00</td>\n",
       "      <td>59.9</td>\n",
       "      <td>164.544</td>\n",
       "      <td>6.0</td>\n",
       "      <td>12</td>\n",
       "    </tr>\n",
       "  </tbody>\n",
       "</table>\n",
       "<p>5 rows × 23 columns</p>\n",
       "</div>"
      ],
      "text/plain": [
       "   Gender  Location Age_range Qualification    field_of_study  \\\n",
       "0    Male  Pakistan     36-40       Masters  Natural Sciences   \n",
       "1    Male  Pakistan     26-30     Bachelors             CS/IT   \n",
       "2    Male  Pakistan     31-35       Masters       Enginnering   \n",
       "3  Female  Pakistan     31-35       Masters             CS/IT   \n",
       "4  Female  Pakistan     26-30       Masters       Enginnering   \n",
       "\n",
       "         Purpose_for_chilla Work_status Blood_group  Mobile_sim  Sim_type  \\\n",
       "0     to boost my skill set   Unemplyed           B+     U-fone   Prepaid   \n",
       "1     to boost my skill set     Student           B+     U-fone   Prepaid   \n",
       "2  Switch my field of study    Employed           B+       Zong   Prepaid   \n",
       "3     to boost my skill set    Employed           O+     U-fone  Postpaid   \n",
       "4     to boost my skill set     Student           A-   Mobilink   Prepaid   \n",
       "\n",
       "   ... Your favorite programming language? Marital Status?  \\\n",
       "0  ...                              Python             Yes   \n",
       "1  ...                              Python              No   \n",
       "2  ...                              Python             Yes   \n",
       "3  ...                              Python             Yes   \n",
       "4  ...                          Javascript              No   \n",
       "\n",
       "  Are you Vaccinated? Where do you live? Working experience   Age   \\\n",
       "0                 Yes              Urbun                5.0  38.00   \n",
       "1                 Yes              Urbun                1.0  25.00   \n",
       "2                 Yes              Urbun                5.5  31.34   \n",
       "3                 Yes              Urbun                5.0  33.00   \n",
       "4                 Yes              Rural                3.5  27.00   \n",
       "\n",
       "  Weight_in_kg  Height_in_cm  How many hours you code a day? (int)   \\\n",
       "0         77.0       179.000                                    3.0   \n",
       "1         53.6       178.000                                    2.0   \n",
       "2         93.0       173.000                                    2.0   \n",
       "3         60.0       157.000                                    3.0   \n",
       "4         59.9       164.544                                    6.0   \n",
       "\n",
       "   Light kitni der band hti hy? int  \n",
       "0                                 2  \n",
       "1                                 6  \n",
       "2                                 0  \n",
       "3                                24  \n",
       "4                                12  \n",
       "\n",
       "[5 rows x 23 columns]"
      ]
     },
     "execution_count": 29,
     "metadata": {},
     "output_type": "execute_result"
    }
   ],
   "source": [
    "import pandas as pd \n",
    "my_data= pd.read_csv(\"new_data.csv\")\n",
    "my_data.head()"
   ]
  },
  {
   "cell_type": "code",
   "execution_count": 43,
   "id": "0937b499",
   "metadata": {},
   "outputs": [
    {
     "data": {
      "application/vnd.plotly.v1+json": {
       "config": {
        "plotlyServerURL": "https://plot.ly"
       },
       "data": [
        {
         "hovertemplate": "Sex=Male<br>Married=Yes<br>Qualification=Masters<br>Weight_in_kg=%{x}<br>Working experience=%{y}<extra></extra>",
         "legendgroup": "Male, Yes",
         "marker": {
          "color": "#636efa",
          "symbol": "circle"
         },
         "mode": "markers",
         "name": "Male, Yes",
         "orientation": "v",
         "showlegend": true,
         "type": "scatter",
         "x": [
          77,
          93,
          99,
          75.8,
          72.5,
          75,
          84,
          72.5,
          62.5,
          100.5,
          78.9,
          70,
          100,
          75.4,
          75.5,
          70.2,
          88.4,
          83.5,
          90,
          77.5,
          93.5,
          97,
          79.5,
          75.6,
          82.5,
          70.5,
          75.5,
          54.3,
          82.27,
          101.5,
          86.5,
          75,
          70,
          70.5,
          82.4,
          70.2,
          58.1,
          80,
          65.5,
          75.45,
          70,
          63,
          84,
          88,
          80,
          78.5,
          90,
          72.5,
          78.5,
          51,
          58,
          87,
          70,
          55,
          69.1,
          90,
          65.6,
          58,
          92,
          75,
          60.5,
          84,
          63,
          55,
          75.55,
          70.5
         ],
         "xaxis": "x",
         "y": [
          5,
          5.5,
          15,
          2,
          2.5,
          14,
          4,
          4,
          0,
          12,
          9.5,
          4.5,
          5,
          3,
          7,
          10.2,
          4.5,
          2,
          17,
          2.5,
          6.5,
          13,
          3.8,
          1,
          20,
          20.5,
          1,
          0,
          8.5,
          5,
          4.5,
          1,
          7,
          10,
          4.5,
          4,
          1.3,
          2,
          6.5,
          1,
          3,
          8,
          8,
          8,
          10,
          5.6,
          2.5,
          5,
          3.5,
          0,
          6,
          16.5,
          2,
          3,
          0,
          2.5,
          5,
          1,
          1,
          15,
          7,
          5,
          0,
          3,
          0.5,
          7
         ],
         "yaxis": "y"
        },
        {
         "hovertemplate": "Sex=Male<br>Married=Yes<br>Qualification=Bachelors<br>Weight_in_kg=%{x}<br>Working experience=%{y}<extra></extra>",
         "legendgroup": "Male, Yes",
         "marker": {
          "color": "#636efa",
          "symbol": "circle"
         },
         "mode": "markers",
         "name": "Male, Yes",
         "orientation": "v",
         "showlegend": false,
         "type": "scatter",
         "x": [
          100,
          72,
          64,
          87.5,
          105.5,
          72,
          79,
          60,
          70.5,
          78,
          68,
          135,
          80,
          85,
          56,
          86.34,
          64,
          72,
          68.5,
          85,
          83.4
         ],
         "xaxis": "x2",
         "y": [
          4,
          4,
          0,
          8.5,
          3.5,
          7.5,
          4,
          0,
          20,
          8,
          1,
          0.7,
          4,
          7.5,
          0,
          11.3,
          0,
          7.5,
          8,
          7,
          5
         ],
         "yaxis": "y2"
        },
        {
         "hovertemplate": "Sex=Male<br>Married=Yes<br>Qualification=PhD<br>Weight_in_kg=%{x}<br>Working experience=%{y}<extra></extra>",
         "legendgroup": "Male, Yes",
         "marker": {
          "color": "#636efa",
          "symbol": "circle"
         },
         "mode": "markers",
         "name": "Male, Yes",
         "orientation": "v",
         "showlegend": false,
         "type": "scatter",
         "x": [
          70.2,
          80,
          82,
          104.5,
          77,
          65.21,
          72,
          72,
          82.5,
          79,
          85,
          68,
          80,
          85.5
         ],
         "xaxis": "x3",
         "y": [
          2,
          2,
          5,
          4,
          10,
          4,
          5.5,
          2,
          3.5,
          7,
          8,
          40,
          3,
          2
         ],
         "yaxis": "y3"
        },
        {
         "hovertemplate": "Sex=Male<br>Married=Yes<br>Qualification=Pre-Bachelors<br>Weight_in_kg=%{x}<br>Working experience=%{y}<extra></extra>",
         "legendgroup": "Male, Yes",
         "marker": {
          "color": "#636efa",
          "symbol": "circle"
         },
         "mode": "markers",
         "name": "Male, Yes",
         "orientation": "v",
         "showlegend": false,
         "type": "scatter",
         "x": [
          52,
          75
         ],
         "xaxis": "x4",
         "y": [
          0,
          0
         ],
         "yaxis": "y4"
        },
        {
         "hovertemplate": "Sex=Male<br>Married=No<br>Qualification=Masters<br>Weight_in_kg=%{x}<br>Working experience=%{y}<extra></extra>",
         "legendgroup": "Male, No",
         "marker": {
          "color": "#636efa",
          "symbol": "diamond"
         },
         "mode": "markers",
         "name": "Male, No",
         "orientation": "v",
         "showlegend": true,
         "type": "scatter",
         "x": [
          58,
          50,
          68.5,
          67,
          68.3,
          96,
          88.6,
          60,
          93.9,
          65,
          85.6,
          78.5,
          68,
          63.5,
          88,
          98,
          55.5,
          68.3,
          82.5,
          106.05,
          80,
          61.5,
          69,
          54,
          68,
          94.5,
          63.5,
          67,
          71.5,
          74,
          55,
          105,
          69.5,
          85,
          56.5,
          78.5,
          55,
          78.8,
          65,
          70,
          60,
          85,
          110,
          68,
          65,
          61,
          70,
          84,
          58,
          74,
          82,
          61,
          66.5,
          92,
          79.75,
          75,
          76,
          78,
          90,
          70,
          75,
          85,
          86
         ],
         "xaxis": "x",
         "y": [
          0,
          2,
          2.5,
          0,
          4.5,
          3,
          2,
          2.5,
          5,
          2,
          2.5,
          4,
          0,
          3.5,
          8,
          8,
          5,
          1.2,
          1.5,
          2.5,
          5,
          1,
          0,
          2,
          1,
          0,
          2,
          2,
          6,
          6,
          0,
          1,
          2,
          7,
          3,
          2.5,
          3.2,
          3,
          1,
          3,
          1,
          7,
          1,
          1,
          1,
          1,
          1.2,
          0.5,
          1,
          2,
          1.4,
          4,
          1.5,
          5,
          10.5,
          1,
          2,
          5,
          0,
          2,
          4,
          1.5,
          2
         ],
         "yaxis": "y"
        },
        {
         "hovertemplate": "Sex=Male<br>Married=No<br>Qualification=Bachelors<br>Weight_in_kg=%{x}<br>Working experience=%{y}<extra></extra>",
         "legendgroup": "Male, No",
         "marker": {
          "color": "#636efa",
          "symbol": "diamond"
         },
         "mode": "markers",
         "name": "Male, No",
         "orientation": "v",
         "showlegend": false,
         "type": "scatter",
         "x": [
          53.6,
          76.8,
          84,
          88.2,
          72,
          130,
          83.5,
          69.5,
          55.5,
          78,
          93.5,
          71.2,
          89,
          88.2,
          62,
          69,
          75,
          50,
          84,
          90,
          67.9,
          76,
          76,
          67.4,
          54,
          60.5,
          74,
          86,
          61,
          70,
          52.27,
          65,
          68,
          60,
          72,
          70,
          65.8,
          68,
          60,
          90.2,
          90,
          52,
          74,
          53,
          59.5,
          75,
          65,
          161,
          72.5,
          65,
          100,
          68,
          65,
          60.2,
          65.7,
          74,
          70.85,
          56.61,
          63.5,
          66,
          53,
          52.1,
          59.5,
          58,
          114,
          64,
          86,
          65,
          31.75,
          67,
          65,
          70,
          52.1,
          67.5,
          60.5,
          54,
          66,
          68.7,
          78,
          50,
          67,
          66.5,
          70,
          60,
          70,
          60
         ],
         "xaxis": "x2",
         "y": [
          1,
          0.5,
          0.5,
          2,
          5.5,
          0,
          0,
          3.1,
          1,
          0,
          0.2,
          2.5,
          2,
          3,
          1,
          2,
          0,
          2,
          0,
          0,
          1.5,
          0.6,
          3.5,
          1.5,
          2,
          1,
          1,
          0,
          1.3,
          2,
          2,
          0,
          2,
          0.5,
          0,
          3,
          1,
          4,
          0,
          5,
          1,
          1,
          0,
          0,
          0,
          1,
          1,
          6,
          4,
          0.5,
          1,
          1,
          0,
          1.5,
          2,
          3.3,
          1,
          1,
          1,
          6,
          0,
          1,
          0,
          0,
          3,
          0,
          2,
          3,
          2,
          2,
          0,
          0,
          1,
          3,
          5,
          0,
          6.2,
          3,
          3,
          1.5,
          1.5,
          6,
          1,
          0,
          2,
          0
         ],
         "yaxis": "y2"
        },
        {
         "hovertemplate": "Sex=Male<br>Married=No<br>Qualification=PhD<br>Weight_in_kg=%{x}<br>Working experience=%{y}<extra></extra>",
         "legendgroup": "Male, No",
         "marker": {
          "color": "#636efa",
          "symbol": "diamond"
         },
         "mode": "markers",
         "name": "Male, No",
         "orientation": "v",
         "showlegend": false,
         "type": "scatter",
         "x": [
          78,
          74.5,
          65.5,
          60,
          97.5,
          85,
          89.5,
          68.5,
          65,
          65
         ],
         "xaxis": "x3",
         "y": [
          3,
          0.6,
          4.5,
          9,
          8.4,
          6,
          1.5,
          2.5,
          2,
          5
         ],
         "yaxis": "y3"
        },
        {
         "hovertemplate": "Sex=Male<br>Married=No<br>Qualification=Pre-Bachelors<br>Weight_in_kg=%{x}<br>Working experience=%{y}<extra></extra>",
         "legendgroup": "Male, No",
         "marker": {
          "color": "#636efa",
          "symbol": "diamond"
         },
         "mode": "markers",
         "name": "Male, No",
         "orientation": "v",
         "showlegend": false,
         "type": "scatter",
         "x": [
          63,
          55,
          52.5,
          75,
          63.5,
          52,
          50,
          64,
          68.5,
          57.4,
          71.5,
          48,
          59,
          55.2,
          50,
          68.5,
          75.5,
          63.5,
          68.2,
          67.12,
          85,
          50,
          75,
          68,
          52,
          60,
          55,
          53,
          48,
          72,
          45,
          49,
          64,
          60,
          70.5,
          64
         ],
         "xaxis": "x4",
         "y": [
          1,
          0,
          0,
          0,
          0,
          0.5,
          0,
          1,
          0,
          0,
          0,
          0,
          0,
          0,
          0,
          0,
          0,
          0,
          1,
          0,
          1,
          0,
          0,
          1,
          0,
          0,
          0,
          0,
          0,
          0,
          2,
          0,
          0,
          0,
          0,
          0
         ],
         "yaxis": "y4"
        },
        {
         "hovertemplate": "Sex=Female<br>Married=Yes<br>Qualification=Masters<br>Weight_in_kg=%{x}<br>Working experience=%{y}<extra></extra>",
         "legendgroup": "Female, Yes",
         "marker": {
          "color": "#EF553B",
          "symbol": "circle"
         },
         "mode": "markers",
         "name": "Female, Yes",
         "orientation": "v",
         "showlegend": true,
         "type": "scatter",
         "x": [
          60,
          60,
          70,
          57,
          65,
          40,
          76.6,
          90,
          88.8,
          80.2,
          54.5
         ],
         "xaxis": "x",
         "y": [
          5,
          6,
          4,
          0,
          6,
          1,
          13,
          10.1,
          3,
          0,
          3
         ],
         "yaxis": "y"
        },
        {
         "hovertemplate": "Sex=Female<br>Married=Yes<br>Qualification=Bachelors<br>Weight_in_kg=%{x}<br>Working experience=%{y}<extra></extra>",
         "legendgroup": "Female, Yes",
         "marker": {
          "color": "#EF553B",
          "symbol": "circle"
         },
         "mode": "markers",
         "name": "Female, Yes",
         "orientation": "v",
         "showlegend": false,
         "type": "scatter",
         "x": [
          50,
          71,
          70,
          82
         ],
         "xaxis": "x2",
         "y": [
          3,
          0,
          2,
          2
         ],
         "yaxis": "y2"
        },
        {
         "hovertemplate": "Sex=Female<br>Married=Yes<br>Qualification=PhD<br>Weight_in_kg=%{x}<br>Working experience=%{y}<extra></extra>",
         "legendgroup": "Female, Yes",
         "marker": {
          "color": "#EF553B",
          "symbol": "circle"
         },
         "mode": "markers",
         "name": "Female, Yes",
         "orientation": "v",
         "showlegend": false,
         "type": "scatter",
         "x": [
          80,
          65
         ],
         "xaxis": "x3",
         "y": [
          4,
          4.5
         ],
         "yaxis": "y3"
        },
        {
         "hovertemplate": "Sex=Female<br>Married=Yes<br>Qualification=Pre-Bachelors<br>Weight_in_kg=%{x}<br>Working experience=%{y}<extra></extra>",
         "legendgroup": "Female, Yes",
         "marker": {
          "color": "#EF553B",
          "symbol": "circle"
         },
         "mode": "markers",
         "name": "Female, Yes",
         "orientation": "v",
         "showlegend": false,
         "type": "scatter",
         "x": [
          64
         ],
         "xaxis": "x4",
         "y": [
          0
         ],
         "yaxis": "y4"
        },
        {
         "hovertemplate": "Sex=Female<br>Married=No<br>Qualification=Masters<br>Weight_in_kg=%{x}<br>Working experience=%{y}<extra></extra>",
         "legendgroup": "Female, No",
         "marker": {
          "color": "#EF553B",
          "symbol": "diamond"
         },
         "mode": "markers",
         "name": "Female, No",
         "orientation": "v",
         "showlegend": true,
         "type": "scatter",
         "x": [
          59.9,
          64.21,
          60,
          47,
          50,
          98,
          63.4,
          42.6,
          55,
          56,
          56.9,
          56.5,
          50.2,
          46,
          48.2,
          45,
          68.5,
          46.5,
          54.5,
          65,
          46.9,
          50.2,
          45,
          48,
          72,
          58,
          45.5,
          58,
          48
         ],
         "xaxis": "x",
         "y": [
          3.5,
          3,
          4,
          1.5,
          7,
          7.5,
          1,
          1.5,
          1,
          0,
          2.3,
          5.9,
          2,
          5,
          1,
          1,
          2,
          4,
          5.1,
          3,
          4,
          2,
          2,
          1,
          1,
          1,
          0,
          2.5,
          0
         ],
         "yaxis": "y"
        },
        {
         "hovertemplate": "Sex=Female<br>Married=No<br>Qualification=Bachelors<br>Weight_in_kg=%{x}<br>Working experience=%{y}<extra></extra>",
         "legendgroup": "Female, No",
         "marker": {
          "color": "#EF553B",
          "symbol": "diamond"
         },
         "mode": "markers",
         "name": "Female, No",
         "orientation": "v",
         "showlegend": false,
         "type": "scatter",
         "x": [
          69,
          57.5,
          43,
          39.5,
          48,
          41.2,
          62,
          43,
          60.5,
          47.5,
          55,
          50,
          58.5,
          57,
          50,
          42,
          46,
          55,
          54.5,
          46,
          55.5,
          50
         ],
         "xaxis": "x2",
         "y": [
          2,
          0,
          1,
          0,
          3,
          0,
          0,
          2,
          2.5,
          0,
          0,
          0,
          0,
          0,
          1,
          0,
          0,
          0,
          5,
          6,
          1.3,
          0
         ],
         "yaxis": "y2"
        },
        {
         "hovertemplate": "Sex=Female<br>Married=No<br>Qualification=PhD<br>Weight_in_kg=%{x}<br>Working experience=%{y}<extra></extra>",
         "legendgroup": "Female, No",
         "marker": {
          "color": "#EF553B",
          "symbol": "diamond"
         },
         "mode": "markers",
         "name": "Female, No",
         "orientation": "v",
         "showlegend": false,
         "type": "scatter",
         "x": [
          65.5,
          54
         ],
         "xaxis": "x3",
         "y": [
          0.5,
          1.5
         ],
         "yaxis": "y3"
        },
        {
         "hovertemplate": "Sex=Female<br>Married=No<br>Qualification=Pre-Bachelors<br>Weight_in_kg=%{x}<br>Working experience=%{y}<extra></extra>",
         "legendgroup": "Female, No",
         "marker": {
          "color": "#EF553B",
          "symbol": "diamond"
         },
         "mode": "markers",
         "name": "Female, No",
         "orientation": "v",
         "showlegend": false,
         "type": "scatter",
         "x": [
          30.5,
          48,
          48,
          60,
          92.4,
          60
         ],
         "xaxis": "x4",
         "y": [
          0,
          0,
          0,
          0,
          0,
          0
         ],
         "yaxis": "y4"
        }
       ],
       "layout": {
        "annotations": [
         {
          "font": {},
          "showarrow": false,
          "text": "Qualification=Masters",
          "x": 0.1175,
          "xanchor": "center",
          "xref": "paper",
          "y": 1,
          "yanchor": "bottom",
          "yref": "paper"
         },
         {
          "font": {},
          "showarrow": false,
          "text": "Qualification=Bachelors",
          "x": 0.3725,
          "xanchor": "center",
          "xref": "paper",
          "y": 1,
          "yanchor": "bottom",
          "yref": "paper"
         },
         {
          "font": {},
          "showarrow": false,
          "text": "Qualification=PhD",
          "x": 0.6275,
          "xanchor": "center",
          "xref": "paper",
          "y": 1,
          "yanchor": "bottom",
          "yref": "paper"
         },
         {
          "font": {},
          "showarrow": false,
          "text": "Qualification=Pre-Bachelors",
          "x": 0.8824999999999998,
          "xanchor": "center",
          "xref": "paper",
          "y": 1,
          "yanchor": "bottom",
          "yref": "paper"
         }
        ],
        "legend": {
         "title": {
          "text": "Sex, Married"
         },
         "tracegroupgap": 0
        },
        "margin": {
         "t": 60
        },
        "template": {
         "data": {
          "bar": [
           {
            "error_x": {
             "color": "#2a3f5f"
            },
            "error_y": {
             "color": "#2a3f5f"
            },
            "marker": {
             "line": {
              "color": "#E5ECF6",
              "width": 0.5
             },
             "pattern": {
              "fillmode": "overlay",
              "size": 10,
              "solidity": 0.2
             }
            },
            "type": "bar"
           }
          ],
          "barpolar": [
           {
            "marker": {
             "line": {
              "color": "#E5ECF6",
              "width": 0.5
             },
             "pattern": {
              "fillmode": "overlay",
              "size": 10,
              "solidity": 0.2
             }
            },
            "type": "barpolar"
           }
          ],
          "carpet": [
           {
            "aaxis": {
             "endlinecolor": "#2a3f5f",
             "gridcolor": "white",
             "linecolor": "white",
             "minorgridcolor": "white",
             "startlinecolor": "#2a3f5f"
            },
            "baxis": {
             "endlinecolor": "#2a3f5f",
             "gridcolor": "white",
             "linecolor": "white",
             "minorgridcolor": "white",
             "startlinecolor": "#2a3f5f"
            },
            "type": "carpet"
           }
          ],
          "choropleth": [
           {
            "colorbar": {
             "outlinewidth": 0,
             "ticks": ""
            },
            "type": "choropleth"
           }
          ],
          "contour": [
           {
            "colorbar": {
             "outlinewidth": 0,
             "ticks": ""
            },
            "colorscale": [
             [
              0,
              "#0d0887"
             ],
             [
              0.1111111111111111,
              "#46039f"
             ],
             [
              0.2222222222222222,
              "#7201a8"
             ],
             [
              0.3333333333333333,
              "#9c179e"
             ],
             [
              0.4444444444444444,
              "#bd3786"
             ],
             [
              0.5555555555555556,
              "#d8576b"
             ],
             [
              0.6666666666666666,
              "#ed7953"
             ],
             [
              0.7777777777777778,
              "#fb9f3a"
             ],
             [
              0.8888888888888888,
              "#fdca26"
             ],
             [
              1,
              "#f0f921"
             ]
            ],
            "type": "contour"
           }
          ],
          "contourcarpet": [
           {
            "colorbar": {
             "outlinewidth": 0,
             "ticks": ""
            },
            "type": "contourcarpet"
           }
          ],
          "heatmap": [
           {
            "colorbar": {
             "outlinewidth": 0,
             "ticks": ""
            },
            "colorscale": [
             [
              0,
              "#0d0887"
             ],
             [
              0.1111111111111111,
              "#46039f"
             ],
             [
              0.2222222222222222,
              "#7201a8"
             ],
             [
              0.3333333333333333,
              "#9c179e"
             ],
             [
              0.4444444444444444,
              "#bd3786"
             ],
             [
              0.5555555555555556,
              "#d8576b"
             ],
             [
              0.6666666666666666,
              "#ed7953"
             ],
             [
              0.7777777777777778,
              "#fb9f3a"
             ],
             [
              0.8888888888888888,
              "#fdca26"
             ],
             [
              1,
              "#f0f921"
             ]
            ],
            "type": "heatmap"
           }
          ],
          "heatmapgl": [
           {
            "colorbar": {
             "outlinewidth": 0,
             "ticks": ""
            },
            "colorscale": [
             [
              0,
              "#0d0887"
             ],
             [
              0.1111111111111111,
              "#46039f"
             ],
             [
              0.2222222222222222,
              "#7201a8"
             ],
             [
              0.3333333333333333,
              "#9c179e"
             ],
             [
              0.4444444444444444,
              "#bd3786"
             ],
             [
              0.5555555555555556,
              "#d8576b"
             ],
             [
              0.6666666666666666,
              "#ed7953"
             ],
             [
              0.7777777777777778,
              "#fb9f3a"
             ],
             [
              0.8888888888888888,
              "#fdca26"
             ],
             [
              1,
              "#f0f921"
             ]
            ],
            "type": "heatmapgl"
           }
          ],
          "histogram": [
           {
            "marker": {
             "pattern": {
              "fillmode": "overlay",
              "size": 10,
              "solidity": 0.2
             }
            },
            "type": "histogram"
           }
          ],
          "histogram2d": [
           {
            "colorbar": {
             "outlinewidth": 0,
             "ticks": ""
            },
            "colorscale": [
             [
              0,
              "#0d0887"
             ],
             [
              0.1111111111111111,
              "#46039f"
             ],
             [
              0.2222222222222222,
              "#7201a8"
             ],
             [
              0.3333333333333333,
              "#9c179e"
             ],
             [
              0.4444444444444444,
              "#bd3786"
             ],
             [
              0.5555555555555556,
              "#d8576b"
             ],
             [
              0.6666666666666666,
              "#ed7953"
             ],
             [
              0.7777777777777778,
              "#fb9f3a"
             ],
             [
              0.8888888888888888,
              "#fdca26"
             ],
             [
              1,
              "#f0f921"
             ]
            ],
            "type": "histogram2d"
           }
          ],
          "histogram2dcontour": [
           {
            "colorbar": {
             "outlinewidth": 0,
             "ticks": ""
            },
            "colorscale": [
             [
              0,
              "#0d0887"
             ],
             [
              0.1111111111111111,
              "#46039f"
             ],
             [
              0.2222222222222222,
              "#7201a8"
             ],
             [
              0.3333333333333333,
              "#9c179e"
             ],
             [
              0.4444444444444444,
              "#bd3786"
             ],
             [
              0.5555555555555556,
              "#d8576b"
             ],
             [
              0.6666666666666666,
              "#ed7953"
             ],
             [
              0.7777777777777778,
              "#fb9f3a"
             ],
             [
              0.8888888888888888,
              "#fdca26"
             ],
             [
              1,
              "#f0f921"
             ]
            ],
            "type": "histogram2dcontour"
           }
          ],
          "mesh3d": [
           {
            "colorbar": {
             "outlinewidth": 0,
             "ticks": ""
            },
            "type": "mesh3d"
           }
          ],
          "parcoords": [
           {
            "line": {
             "colorbar": {
              "outlinewidth": 0,
              "ticks": ""
             }
            },
            "type": "parcoords"
           }
          ],
          "pie": [
           {
            "automargin": true,
            "type": "pie"
           }
          ],
          "scatter": [
           {
            "marker": {
             "colorbar": {
              "outlinewidth": 0,
              "ticks": ""
             }
            },
            "type": "scatter"
           }
          ],
          "scatter3d": [
           {
            "line": {
             "colorbar": {
              "outlinewidth": 0,
              "ticks": ""
             }
            },
            "marker": {
             "colorbar": {
              "outlinewidth": 0,
              "ticks": ""
             }
            },
            "type": "scatter3d"
           }
          ],
          "scattercarpet": [
           {
            "marker": {
             "colorbar": {
              "outlinewidth": 0,
              "ticks": ""
             }
            },
            "type": "scattercarpet"
           }
          ],
          "scattergeo": [
           {
            "marker": {
             "colorbar": {
              "outlinewidth": 0,
              "ticks": ""
             }
            },
            "type": "scattergeo"
           }
          ],
          "scattergl": [
           {
            "marker": {
             "colorbar": {
              "outlinewidth": 0,
              "ticks": ""
             }
            },
            "type": "scattergl"
           }
          ],
          "scattermapbox": [
           {
            "marker": {
             "colorbar": {
              "outlinewidth": 0,
              "ticks": ""
             }
            },
            "type": "scattermapbox"
           }
          ],
          "scatterpolar": [
           {
            "marker": {
             "colorbar": {
              "outlinewidth": 0,
              "ticks": ""
             }
            },
            "type": "scatterpolar"
           }
          ],
          "scatterpolargl": [
           {
            "marker": {
             "colorbar": {
              "outlinewidth": 0,
              "ticks": ""
             }
            },
            "type": "scatterpolargl"
           }
          ],
          "scatterternary": [
           {
            "marker": {
             "colorbar": {
              "outlinewidth": 0,
              "ticks": ""
             }
            },
            "type": "scatterternary"
           }
          ],
          "surface": [
           {
            "colorbar": {
             "outlinewidth": 0,
             "ticks": ""
            },
            "colorscale": [
             [
              0,
              "#0d0887"
             ],
             [
              0.1111111111111111,
              "#46039f"
             ],
             [
              0.2222222222222222,
              "#7201a8"
             ],
             [
              0.3333333333333333,
              "#9c179e"
             ],
             [
              0.4444444444444444,
              "#bd3786"
             ],
             [
              0.5555555555555556,
              "#d8576b"
             ],
             [
              0.6666666666666666,
              "#ed7953"
             ],
             [
              0.7777777777777778,
              "#fb9f3a"
             ],
             [
              0.8888888888888888,
              "#fdca26"
             ],
             [
              1,
              "#f0f921"
             ]
            ],
            "type": "surface"
           }
          ],
          "table": [
           {
            "cells": {
             "fill": {
              "color": "#EBF0F8"
             },
             "line": {
              "color": "white"
             }
            },
            "header": {
             "fill": {
              "color": "#C8D4E3"
             },
             "line": {
              "color": "white"
             }
            },
            "type": "table"
           }
          ]
         },
         "layout": {
          "annotationdefaults": {
           "arrowcolor": "#2a3f5f",
           "arrowhead": 0,
           "arrowwidth": 1
          },
          "autotypenumbers": "strict",
          "coloraxis": {
           "colorbar": {
            "outlinewidth": 0,
            "ticks": ""
           }
          },
          "colorscale": {
           "diverging": [
            [
             0,
             "#8e0152"
            ],
            [
             0.1,
             "#c51b7d"
            ],
            [
             0.2,
             "#de77ae"
            ],
            [
             0.3,
             "#f1b6da"
            ],
            [
             0.4,
             "#fde0ef"
            ],
            [
             0.5,
             "#f7f7f7"
            ],
            [
             0.6,
             "#e6f5d0"
            ],
            [
             0.7,
             "#b8e186"
            ],
            [
             0.8,
             "#7fbc41"
            ],
            [
             0.9,
             "#4d9221"
            ],
            [
             1,
             "#276419"
            ]
           ],
           "sequential": [
            [
             0,
             "#0d0887"
            ],
            [
             0.1111111111111111,
             "#46039f"
            ],
            [
             0.2222222222222222,
             "#7201a8"
            ],
            [
             0.3333333333333333,
             "#9c179e"
            ],
            [
             0.4444444444444444,
             "#bd3786"
            ],
            [
             0.5555555555555556,
             "#d8576b"
            ],
            [
             0.6666666666666666,
             "#ed7953"
            ],
            [
             0.7777777777777778,
             "#fb9f3a"
            ],
            [
             0.8888888888888888,
             "#fdca26"
            ],
            [
             1,
             "#f0f921"
            ]
           ],
           "sequentialminus": [
            [
             0,
             "#0d0887"
            ],
            [
             0.1111111111111111,
             "#46039f"
            ],
            [
             0.2222222222222222,
             "#7201a8"
            ],
            [
             0.3333333333333333,
             "#9c179e"
            ],
            [
             0.4444444444444444,
             "#bd3786"
            ],
            [
             0.5555555555555556,
             "#d8576b"
            ],
            [
             0.6666666666666666,
             "#ed7953"
            ],
            [
             0.7777777777777778,
             "#fb9f3a"
            ],
            [
             0.8888888888888888,
             "#fdca26"
            ],
            [
             1,
             "#f0f921"
            ]
           ]
          },
          "colorway": [
           "#636efa",
           "#EF553B",
           "#00cc96",
           "#ab63fa",
           "#FFA15A",
           "#19d3f3",
           "#FF6692",
           "#B6E880",
           "#FF97FF",
           "#FECB52"
          ],
          "font": {
           "color": "#2a3f5f"
          },
          "geo": {
           "bgcolor": "white",
           "lakecolor": "white",
           "landcolor": "#E5ECF6",
           "showlakes": true,
           "showland": true,
           "subunitcolor": "white"
          },
          "hoverlabel": {
           "align": "left"
          },
          "hovermode": "closest",
          "mapbox": {
           "style": "light"
          },
          "paper_bgcolor": "white",
          "plot_bgcolor": "#E5ECF6",
          "polar": {
           "angularaxis": {
            "gridcolor": "white",
            "linecolor": "white",
            "ticks": ""
           },
           "bgcolor": "#E5ECF6",
           "radialaxis": {
            "gridcolor": "white",
            "linecolor": "white",
            "ticks": ""
           }
          },
          "scene": {
           "xaxis": {
            "backgroundcolor": "#E5ECF6",
            "gridcolor": "white",
            "gridwidth": 2,
            "linecolor": "white",
            "showbackground": true,
            "ticks": "",
            "zerolinecolor": "white"
           },
           "yaxis": {
            "backgroundcolor": "#E5ECF6",
            "gridcolor": "white",
            "gridwidth": 2,
            "linecolor": "white",
            "showbackground": true,
            "ticks": "",
            "zerolinecolor": "white"
           },
           "zaxis": {
            "backgroundcolor": "#E5ECF6",
            "gridcolor": "white",
            "gridwidth": 2,
            "linecolor": "white",
            "showbackground": true,
            "ticks": "",
            "zerolinecolor": "white"
           }
          },
          "shapedefaults": {
           "line": {
            "color": "#2a3f5f"
           }
          },
          "ternary": {
           "aaxis": {
            "gridcolor": "white",
            "linecolor": "white",
            "ticks": ""
           },
           "baxis": {
            "gridcolor": "white",
            "linecolor": "white",
            "ticks": ""
           },
           "bgcolor": "#E5ECF6",
           "caxis": {
            "gridcolor": "white",
            "linecolor": "white",
            "ticks": ""
           }
          },
          "title": {
           "x": 0.05
          },
          "xaxis": {
           "automargin": true,
           "gridcolor": "white",
           "linecolor": "white",
           "ticks": "",
           "title": {
            "standoff": 15
           },
           "zerolinecolor": "white",
           "zerolinewidth": 2
          },
          "yaxis": {
           "automargin": true,
           "gridcolor": "white",
           "linecolor": "white",
           "ticks": "",
           "title": {
            "standoff": 15
           },
           "zerolinecolor": "white",
           "zerolinewidth": 2
          }
         }
        },
        "xaxis": {
         "anchor": "y",
         "domain": [
          0,
          0.235
         ],
         "title": {
          "text": "Weight_in_kg"
         }
        },
        "xaxis2": {
         "anchor": "y2",
         "domain": [
          0.255,
          0.49
         ],
         "matches": "x",
         "title": {
          "text": "Weight_in_kg"
         }
        },
        "xaxis3": {
         "anchor": "y3",
         "domain": [
          0.51,
          0.745
         ],
         "matches": "x",
         "title": {
          "text": "Weight_in_kg"
         }
        },
        "xaxis4": {
         "anchor": "y4",
         "domain": [
          0.7649999999999999,
          0.9999999999999999
         ],
         "matches": "x",
         "title": {
          "text": "Weight_in_kg"
         }
        },
        "yaxis": {
         "anchor": "x",
         "domain": [
          0,
          1
         ],
         "title": {
          "text": "Working experience"
         }
        },
        "yaxis2": {
         "anchor": "x2",
         "domain": [
          0,
          1
         ],
         "matches": "y",
         "showticklabels": false
        },
        "yaxis3": {
         "anchor": "x3",
         "domain": [
          0,
          1
         ],
         "matches": "y",
         "showticklabels": false
        },
        "yaxis4": {
         "anchor": "x4",
         "domain": [
          0,
          1
         ],
         "matches": "y",
         "showticklabels": false
        }
       }
      },
      "text/html": [
       "<div>                            <div id=\"65aa016d-5e29-438e-be2e-e05fc5da5c1f\" class=\"plotly-graph-div\" style=\"height:525px; width:100%;\"></div>            <script type=\"text/javascript\">                require([\"plotly\"], function(Plotly) {                    window.PLOTLYENV=window.PLOTLYENV || {};                                    if (document.getElementById(\"65aa016d-5e29-438e-be2e-e05fc5da5c1f\")) {                    Plotly.newPlot(                        \"65aa016d-5e29-438e-be2e-e05fc5da5c1f\",                        [{\"hovertemplate\":\"Sex=Male<br>Married=Yes<br>Qualification=Masters<br>Weight_in_kg=%{x}<br>Working experience=%{y}<extra></extra>\",\"legendgroup\":\"Male, Yes\",\"marker\":{\"color\":\"#636efa\",\"symbol\":\"circle\"},\"mode\":\"markers\",\"name\":\"Male, Yes\",\"orientation\":\"v\",\"showlegend\":true,\"x\":[77.0,93.0,99.0,75.8,72.5,75.0,84.0,72.5,62.5,100.5,78.9,70.0,100.0,75.4,75.5,70.2,88.4,83.5,90.0,77.5,93.5,97.0,79.5,75.6,82.5,70.5,75.5,54.3,82.27,101.5,86.5,75.0,70.0,70.5,82.4,70.2,58.1,80.0,65.5,75.45,70.0,63.0,84.0,88.0,80.0,78.5,90.0,72.5,78.5,51.0,58.0,87.0,70.0,55.0,69.1,90.0,65.6,58.0,92.0,75.0,60.5,84.0,63.0,55.0,75.55,70.5],\"xaxis\":\"x\",\"y\":[5.0,5.5,15.0,2.0,2.5,14.0,4.0,4.0,0.0,12.0,9.5,4.5,5.0,3.0,7.0,10.2,4.5,2.0,17.0,2.5,6.5,13.0,3.8,1.0,20.0,20.5,1.0,0.0,8.5,5.0,4.5,1.0,7.0,10.0,4.5,4.0,1.3,2.0,6.5,1.0,3.0,8.0,8.0,8.0,10.0,5.6,2.5,5.0,3.5,0.0,6.0,16.5,2.0,3.0,0.0,2.5,5.0,1.0,1.0,15.0,7.0,5.0,0.0,3.0,0.5,7.0],\"yaxis\":\"y\",\"type\":\"scatter\"},{\"hovertemplate\":\"Sex=Male<br>Married=Yes<br>Qualification=Bachelors<br>Weight_in_kg=%{x}<br>Working experience=%{y}<extra></extra>\",\"legendgroup\":\"Male, Yes\",\"marker\":{\"color\":\"#636efa\",\"symbol\":\"circle\"},\"mode\":\"markers\",\"name\":\"Male, Yes\",\"orientation\":\"v\",\"showlegend\":false,\"x\":[100.0,72.0,64.0,87.5,105.5,72.0,79.0,60.0,70.5,78.0,68.0,135.0,80.0,85.0,56.0,86.34,64.0,72.0,68.5,85.0,83.4],\"xaxis\":\"x2\",\"y\":[4.0,4.0,0.0,8.5,3.5,7.5,4.0,0.0,20.0,8.0,1.0,0.7,4.0,7.5,0.0,11.3,0.0,7.5,8.0,7.0,5.0],\"yaxis\":\"y2\",\"type\":\"scatter\"},{\"hovertemplate\":\"Sex=Male<br>Married=Yes<br>Qualification=PhD<br>Weight_in_kg=%{x}<br>Working experience=%{y}<extra></extra>\",\"legendgroup\":\"Male, Yes\",\"marker\":{\"color\":\"#636efa\",\"symbol\":\"circle\"},\"mode\":\"markers\",\"name\":\"Male, Yes\",\"orientation\":\"v\",\"showlegend\":false,\"x\":[70.2,80.0,82.0,104.5,77.0,65.21,72.0,72.0,82.5,79.0,85.0,68.0,80.0,85.5],\"xaxis\":\"x3\",\"y\":[2.0,2.0,5.0,4.0,10.0,4.0,5.5,2.0,3.5,7.0,8.0,40.0,3.0,2.0],\"yaxis\":\"y3\",\"type\":\"scatter\"},{\"hovertemplate\":\"Sex=Male<br>Married=Yes<br>Qualification=Pre-Bachelors<br>Weight_in_kg=%{x}<br>Working experience=%{y}<extra></extra>\",\"legendgroup\":\"Male, Yes\",\"marker\":{\"color\":\"#636efa\",\"symbol\":\"circle\"},\"mode\":\"markers\",\"name\":\"Male, Yes\",\"orientation\":\"v\",\"showlegend\":false,\"x\":[52.0,75.0],\"xaxis\":\"x4\",\"y\":[0.0,0.0],\"yaxis\":\"y4\",\"type\":\"scatter\"},{\"hovertemplate\":\"Sex=Male<br>Married=No<br>Qualification=Masters<br>Weight_in_kg=%{x}<br>Working experience=%{y}<extra></extra>\",\"legendgroup\":\"Male, No\",\"marker\":{\"color\":\"#636efa\",\"symbol\":\"diamond\"},\"mode\":\"markers\",\"name\":\"Male, No\",\"orientation\":\"v\",\"showlegend\":true,\"x\":[58.0,50.0,68.5,67.0,68.3,96.0,88.6,60.0,93.9,65.0,85.6,78.5,68.0,63.5,88.0,98.0,55.5,68.3,82.5,106.05,80.0,61.5,69.0,54.0,68.0,94.5,63.5,67.0,71.5,74.0,55.0,105.0,69.5,85.0,56.5,78.5,55.0,78.8,65.0,70.0,60.0,85.0,110.0,68.0,65.0,61.0,70.0,84.0,58.0,74.0,82.0,61.0,66.5,92.0,79.75,75.0,76.0,78.0,90.0,70.0,75.0,85.0,86.0],\"xaxis\":\"x\",\"y\":[0.0,2.0,2.5,0.0,4.5,3.0,2.0,2.5,5.0,2.0,2.5,4.0,0.0,3.5,8.0,8.0,5.0,1.2,1.5,2.5,5.0,1.0,0.0,2.0,1.0,0.0,2.0,2.0,6.0,6.0,0.0,1.0,2.0,7.0,3.0,2.5,3.2,3.0,1.0,3.0,1.0,7.0,1.0,1.0,1.0,1.0,1.2,0.5,1.0,2.0,1.4,4.0,1.5,5.0,10.5,1.0,2.0,5.0,0.0,2.0,4.0,1.5,2.0],\"yaxis\":\"y\",\"type\":\"scatter\"},{\"hovertemplate\":\"Sex=Male<br>Married=No<br>Qualification=Bachelors<br>Weight_in_kg=%{x}<br>Working experience=%{y}<extra></extra>\",\"legendgroup\":\"Male, No\",\"marker\":{\"color\":\"#636efa\",\"symbol\":\"diamond\"},\"mode\":\"markers\",\"name\":\"Male, No\",\"orientation\":\"v\",\"showlegend\":false,\"x\":[53.6,76.8,84.0,88.2,72.0,130.0,83.5,69.5,55.5,78.0,93.5,71.2,89.0,88.2,62.0,69.0,75.0,50.0,84.0,90.0,67.9,76.0,76.0,67.4,54.0,60.5,74.0,86.0,61.0,70.0,52.27,65.0,68.0,60.0,72.0,70.0,65.8,68.0,60.0,90.2,90.0,52.0,74.0,53.0,59.5,75.0,65.0,161.0,72.5,65.0,100.0,68.0,65.0,60.2,65.7,74.0,70.85,56.61,63.5,66.0,53.0,52.1,59.5,58.0,114.0,64.0,86.0,65.0,31.75,67.0,65.0,70.0,52.1,67.5,60.5,54.0,66.0,68.7,78.0,50.0,67.0,66.5,70.0,60.0,70.0,60.0],\"xaxis\":\"x2\",\"y\":[1.0,0.5,0.5,2.0,5.5,0.0,0.0,3.1,1.0,0.0,0.2,2.5,2.0,3.0,1.0,2.0,0.0,2.0,0.0,0.0,1.5,0.6,3.5,1.5,2.0,1.0,1.0,0.0,1.3,2.0,2.0,0.0,2.0,0.5,0.0,3.0,1.0,4.0,0.0,5.0,1.0,1.0,0.0,0.0,0.0,1.0,1.0,6.0,4.0,0.5,1.0,1.0,0.0,1.5,2.0,3.3,1.0,1.0,1.0,6.0,0.0,1.0,0.0,0.0,3.0,0.0,2.0,3.0,2.0,2.0,0.0,0.0,1.0,3.0,5.0,0.0,6.2,3.0,3.0,1.5,1.5,6.0,1.0,0.0,2.0,0.0],\"yaxis\":\"y2\",\"type\":\"scatter\"},{\"hovertemplate\":\"Sex=Male<br>Married=No<br>Qualification=PhD<br>Weight_in_kg=%{x}<br>Working experience=%{y}<extra></extra>\",\"legendgroup\":\"Male, No\",\"marker\":{\"color\":\"#636efa\",\"symbol\":\"diamond\"},\"mode\":\"markers\",\"name\":\"Male, No\",\"orientation\":\"v\",\"showlegend\":false,\"x\":[78.0,74.5,65.5,60.0,97.5,85.0,89.5,68.5,65.0,65.0],\"xaxis\":\"x3\",\"y\":[3.0,0.6,4.5,9.0,8.4,6.0,1.5,2.5,2.0,5.0],\"yaxis\":\"y3\",\"type\":\"scatter\"},{\"hovertemplate\":\"Sex=Male<br>Married=No<br>Qualification=Pre-Bachelors<br>Weight_in_kg=%{x}<br>Working experience=%{y}<extra></extra>\",\"legendgroup\":\"Male, No\",\"marker\":{\"color\":\"#636efa\",\"symbol\":\"diamond\"},\"mode\":\"markers\",\"name\":\"Male, No\",\"orientation\":\"v\",\"showlegend\":false,\"x\":[63.0,55.0,52.5,75.0,63.5,52.0,50.0,64.0,68.5,57.4,71.5,48.0,59.0,55.2,50.0,68.5,75.5,63.5,68.2,67.12,85.0,50.0,75.0,68.0,52.0,60.0,55.0,53.0,48.0,72.0,45.0,49.0,64.0,60.0,70.5,64.0],\"xaxis\":\"x4\",\"y\":[1.0,0.0,0.0,0.0,0.0,0.5,0.0,1.0,0.0,0.0,0.0,0.0,0.0,0.0,0.0,0.0,0.0,0.0,1.0,0.0,1.0,0.0,0.0,1.0,0.0,0.0,0.0,0.0,0.0,0.0,2.0,0.0,0.0,0.0,0.0,0.0],\"yaxis\":\"y4\",\"type\":\"scatter\"},{\"hovertemplate\":\"Sex=Female<br>Married=Yes<br>Qualification=Masters<br>Weight_in_kg=%{x}<br>Working experience=%{y}<extra></extra>\",\"legendgroup\":\"Female, Yes\",\"marker\":{\"color\":\"#EF553B\",\"symbol\":\"circle\"},\"mode\":\"markers\",\"name\":\"Female, Yes\",\"orientation\":\"v\",\"showlegend\":true,\"x\":[60.0,60.0,70.0,57.0,65.0,40.0,76.6,90.0,88.8,80.2,54.5],\"xaxis\":\"x\",\"y\":[5.0,6.0,4.0,0.0,6.0,1.0,13.0,10.1,3.0,0.0,3.0],\"yaxis\":\"y\",\"type\":\"scatter\"},{\"hovertemplate\":\"Sex=Female<br>Married=Yes<br>Qualification=Bachelors<br>Weight_in_kg=%{x}<br>Working experience=%{y}<extra></extra>\",\"legendgroup\":\"Female, Yes\",\"marker\":{\"color\":\"#EF553B\",\"symbol\":\"circle\"},\"mode\":\"markers\",\"name\":\"Female, Yes\",\"orientation\":\"v\",\"showlegend\":false,\"x\":[50.0,71.0,70.0,82.0],\"xaxis\":\"x2\",\"y\":[3.0,0.0,2.0,2.0],\"yaxis\":\"y2\",\"type\":\"scatter\"},{\"hovertemplate\":\"Sex=Female<br>Married=Yes<br>Qualification=PhD<br>Weight_in_kg=%{x}<br>Working experience=%{y}<extra></extra>\",\"legendgroup\":\"Female, Yes\",\"marker\":{\"color\":\"#EF553B\",\"symbol\":\"circle\"},\"mode\":\"markers\",\"name\":\"Female, Yes\",\"orientation\":\"v\",\"showlegend\":false,\"x\":[80.0,65.0],\"xaxis\":\"x3\",\"y\":[4.0,4.5],\"yaxis\":\"y3\",\"type\":\"scatter\"},{\"hovertemplate\":\"Sex=Female<br>Married=Yes<br>Qualification=Pre-Bachelors<br>Weight_in_kg=%{x}<br>Working experience=%{y}<extra></extra>\",\"legendgroup\":\"Female, Yes\",\"marker\":{\"color\":\"#EF553B\",\"symbol\":\"circle\"},\"mode\":\"markers\",\"name\":\"Female, Yes\",\"orientation\":\"v\",\"showlegend\":false,\"x\":[64.0],\"xaxis\":\"x4\",\"y\":[0.0],\"yaxis\":\"y4\",\"type\":\"scatter\"},{\"hovertemplate\":\"Sex=Female<br>Married=No<br>Qualification=Masters<br>Weight_in_kg=%{x}<br>Working experience=%{y}<extra></extra>\",\"legendgroup\":\"Female, No\",\"marker\":{\"color\":\"#EF553B\",\"symbol\":\"diamond\"},\"mode\":\"markers\",\"name\":\"Female, No\",\"orientation\":\"v\",\"showlegend\":true,\"x\":[59.9,64.21,60.0,47.0,50.0,98.0,63.4,42.6,55.0,56.0,56.9,56.5,50.2,46.0,48.2,45.0,68.5,46.5,54.5,65.0,46.9,50.2,45.0,48.0,72.0,58.0,45.5,58.0,48.0],\"xaxis\":\"x\",\"y\":[3.5,3.0,4.0,1.5,7.0,7.5,1.0,1.5,1.0,0.0,2.3,5.9,2.0,5.0,1.0,1.0,2.0,4.0,5.1,3.0,4.0,2.0,2.0,1.0,1.0,1.0,0.0,2.5,0.0],\"yaxis\":\"y\",\"type\":\"scatter\"},{\"hovertemplate\":\"Sex=Female<br>Married=No<br>Qualification=Bachelors<br>Weight_in_kg=%{x}<br>Working experience=%{y}<extra></extra>\",\"legendgroup\":\"Female, No\",\"marker\":{\"color\":\"#EF553B\",\"symbol\":\"diamond\"},\"mode\":\"markers\",\"name\":\"Female, No\",\"orientation\":\"v\",\"showlegend\":false,\"x\":[69.0,57.5,43.0,39.5,48.0,41.2,62.0,43.0,60.5,47.5,55.0,50.0,58.5,57.0,50.0,42.0,46.0,55.0,54.5,46.0,55.5,50.0],\"xaxis\":\"x2\",\"y\":[2.0,0.0,1.0,0.0,3.0,0.0,0.0,2.0,2.5,0.0,0.0,0.0,0.0,0.0,1.0,0.0,0.0,0.0,5.0,6.0,1.3,0.0],\"yaxis\":\"y2\",\"type\":\"scatter\"},{\"hovertemplate\":\"Sex=Female<br>Married=No<br>Qualification=PhD<br>Weight_in_kg=%{x}<br>Working experience=%{y}<extra></extra>\",\"legendgroup\":\"Female, No\",\"marker\":{\"color\":\"#EF553B\",\"symbol\":\"diamond\"},\"mode\":\"markers\",\"name\":\"Female, No\",\"orientation\":\"v\",\"showlegend\":false,\"x\":[65.5,54.0],\"xaxis\":\"x3\",\"y\":[0.5,1.5],\"yaxis\":\"y3\",\"type\":\"scatter\"},{\"hovertemplate\":\"Sex=Female<br>Married=No<br>Qualification=Pre-Bachelors<br>Weight_in_kg=%{x}<br>Working experience=%{y}<extra></extra>\",\"legendgroup\":\"Female, No\",\"marker\":{\"color\":\"#EF553B\",\"symbol\":\"diamond\"},\"mode\":\"markers\",\"name\":\"Female, No\",\"orientation\":\"v\",\"showlegend\":false,\"x\":[30.5,48.0,48.0,60.0,92.4,60.0],\"xaxis\":\"x4\",\"y\":[0.0,0.0,0.0,0.0,0.0,0.0],\"yaxis\":\"y4\",\"type\":\"scatter\"}],                        {\"template\":{\"data\":{\"bar\":[{\"error_x\":{\"color\":\"#2a3f5f\"},\"error_y\":{\"color\":\"#2a3f5f\"},\"marker\":{\"line\":{\"color\":\"#E5ECF6\",\"width\":0.5},\"pattern\":{\"fillmode\":\"overlay\",\"size\":10,\"solidity\":0.2}},\"type\":\"bar\"}],\"barpolar\":[{\"marker\":{\"line\":{\"color\":\"#E5ECF6\",\"width\":0.5},\"pattern\":{\"fillmode\":\"overlay\",\"size\":10,\"solidity\":0.2}},\"type\":\"barpolar\"}],\"carpet\":[{\"aaxis\":{\"endlinecolor\":\"#2a3f5f\",\"gridcolor\":\"white\",\"linecolor\":\"white\",\"minorgridcolor\":\"white\",\"startlinecolor\":\"#2a3f5f\"},\"baxis\":{\"endlinecolor\":\"#2a3f5f\",\"gridcolor\":\"white\",\"linecolor\":\"white\",\"minorgridcolor\":\"white\",\"startlinecolor\":\"#2a3f5f\"},\"type\":\"carpet\"}],\"choropleth\":[{\"colorbar\":{\"outlinewidth\":0,\"ticks\":\"\"},\"type\":\"choropleth\"}],\"contour\":[{\"colorbar\":{\"outlinewidth\":0,\"ticks\":\"\"},\"colorscale\":[[0.0,\"#0d0887\"],[0.1111111111111111,\"#46039f\"],[0.2222222222222222,\"#7201a8\"],[0.3333333333333333,\"#9c179e\"],[0.4444444444444444,\"#bd3786\"],[0.5555555555555556,\"#d8576b\"],[0.6666666666666666,\"#ed7953\"],[0.7777777777777778,\"#fb9f3a\"],[0.8888888888888888,\"#fdca26\"],[1.0,\"#f0f921\"]],\"type\":\"contour\"}],\"contourcarpet\":[{\"colorbar\":{\"outlinewidth\":0,\"ticks\":\"\"},\"type\":\"contourcarpet\"}],\"heatmap\":[{\"colorbar\":{\"outlinewidth\":0,\"ticks\":\"\"},\"colorscale\":[[0.0,\"#0d0887\"],[0.1111111111111111,\"#46039f\"],[0.2222222222222222,\"#7201a8\"],[0.3333333333333333,\"#9c179e\"],[0.4444444444444444,\"#bd3786\"],[0.5555555555555556,\"#d8576b\"],[0.6666666666666666,\"#ed7953\"],[0.7777777777777778,\"#fb9f3a\"],[0.8888888888888888,\"#fdca26\"],[1.0,\"#f0f921\"]],\"type\":\"heatmap\"}],\"heatmapgl\":[{\"colorbar\":{\"outlinewidth\":0,\"ticks\":\"\"},\"colorscale\":[[0.0,\"#0d0887\"],[0.1111111111111111,\"#46039f\"],[0.2222222222222222,\"#7201a8\"],[0.3333333333333333,\"#9c179e\"],[0.4444444444444444,\"#bd3786\"],[0.5555555555555556,\"#d8576b\"],[0.6666666666666666,\"#ed7953\"],[0.7777777777777778,\"#fb9f3a\"],[0.8888888888888888,\"#fdca26\"],[1.0,\"#f0f921\"]],\"type\":\"heatmapgl\"}],\"histogram\":[{\"marker\":{\"pattern\":{\"fillmode\":\"overlay\",\"size\":10,\"solidity\":0.2}},\"type\":\"histogram\"}],\"histogram2d\":[{\"colorbar\":{\"outlinewidth\":0,\"ticks\":\"\"},\"colorscale\":[[0.0,\"#0d0887\"],[0.1111111111111111,\"#46039f\"],[0.2222222222222222,\"#7201a8\"],[0.3333333333333333,\"#9c179e\"],[0.4444444444444444,\"#bd3786\"],[0.5555555555555556,\"#d8576b\"],[0.6666666666666666,\"#ed7953\"],[0.7777777777777778,\"#fb9f3a\"],[0.8888888888888888,\"#fdca26\"],[1.0,\"#f0f921\"]],\"type\":\"histogram2d\"}],\"histogram2dcontour\":[{\"colorbar\":{\"outlinewidth\":0,\"ticks\":\"\"},\"colorscale\":[[0.0,\"#0d0887\"],[0.1111111111111111,\"#46039f\"],[0.2222222222222222,\"#7201a8\"],[0.3333333333333333,\"#9c179e\"],[0.4444444444444444,\"#bd3786\"],[0.5555555555555556,\"#d8576b\"],[0.6666666666666666,\"#ed7953\"],[0.7777777777777778,\"#fb9f3a\"],[0.8888888888888888,\"#fdca26\"],[1.0,\"#f0f921\"]],\"type\":\"histogram2dcontour\"}],\"mesh3d\":[{\"colorbar\":{\"outlinewidth\":0,\"ticks\":\"\"},\"type\":\"mesh3d\"}],\"parcoords\":[{\"line\":{\"colorbar\":{\"outlinewidth\":0,\"ticks\":\"\"}},\"type\":\"parcoords\"}],\"pie\":[{\"automargin\":true,\"type\":\"pie\"}],\"scatter\":[{\"marker\":{\"colorbar\":{\"outlinewidth\":0,\"ticks\":\"\"}},\"type\":\"scatter\"}],\"scatter3d\":[{\"line\":{\"colorbar\":{\"outlinewidth\":0,\"ticks\":\"\"}},\"marker\":{\"colorbar\":{\"outlinewidth\":0,\"ticks\":\"\"}},\"type\":\"scatter3d\"}],\"scattercarpet\":[{\"marker\":{\"colorbar\":{\"outlinewidth\":0,\"ticks\":\"\"}},\"type\":\"scattercarpet\"}],\"scattergeo\":[{\"marker\":{\"colorbar\":{\"outlinewidth\":0,\"ticks\":\"\"}},\"type\":\"scattergeo\"}],\"scattergl\":[{\"marker\":{\"colorbar\":{\"outlinewidth\":0,\"ticks\":\"\"}},\"type\":\"scattergl\"}],\"scattermapbox\":[{\"marker\":{\"colorbar\":{\"outlinewidth\":0,\"ticks\":\"\"}},\"type\":\"scattermapbox\"}],\"scatterpolar\":[{\"marker\":{\"colorbar\":{\"outlinewidth\":0,\"ticks\":\"\"}},\"type\":\"scatterpolar\"}],\"scatterpolargl\":[{\"marker\":{\"colorbar\":{\"outlinewidth\":0,\"ticks\":\"\"}},\"type\":\"scatterpolargl\"}],\"scatterternary\":[{\"marker\":{\"colorbar\":{\"outlinewidth\":0,\"ticks\":\"\"}},\"type\":\"scatterternary\"}],\"surface\":[{\"colorbar\":{\"outlinewidth\":0,\"ticks\":\"\"},\"colorscale\":[[0.0,\"#0d0887\"],[0.1111111111111111,\"#46039f\"],[0.2222222222222222,\"#7201a8\"],[0.3333333333333333,\"#9c179e\"],[0.4444444444444444,\"#bd3786\"],[0.5555555555555556,\"#d8576b\"],[0.6666666666666666,\"#ed7953\"],[0.7777777777777778,\"#fb9f3a\"],[0.8888888888888888,\"#fdca26\"],[1.0,\"#f0f921\"]],\"type\":\"surface\"}],\"table\":[{\"cells\":{\"fill\":{\"color\":\"#EBF0F8\"},\"line\":{\"color\":\"white\"}},\"header\":{\"fill\":{\"color\":\"#C8D4E3\"},\"line\":{\"color\":\"white\"}},\"type\":\"table\"}]},\"layout\":{\"annotationdefaults\":{\"arrowcolor\":\"#2a3f5f\",\"arrowhead\":0,\"arrowwidth\":1},\"autotypenumbers\":\"strict\",\"coloraxis\":{\"colorbar\":{\"outlinewidth\":0,\"ticks\":\"\"}},\"colorscale\":{\"diverging\":[[0,\"#8e0152\"],[0.1,\"#c51b7d\"],[0.2,\"#de77ae\"],[0.3,\"#f1b6da\"],[0.4,\"#fde0ef\"],[0.5,\"#f7f7f7\"],[0.6,\"#e6f5d0\"],[0.7,\"#b8e186\"],[0.8,\"#7fbc41\"],[0.9,\"#4d9221\"],[1,\"#276419\"]],\"sequential\":[[0.0,\"#0d0887\"],[0.1111111111111111,\"#46039f\"],[0.2222222222222222,\"#7201a8\"],[0.3333333333333333,\"#9c179e\"],[0.4444444444444444,\"#bd3786\"],[0.5555555555555556,\"#d8576b\"],[0.6666666666666666,\"#ed7953\"],[0.7777777777777778,\"#fb9f3a\"],[0.8888888888888888,\"#fdca26\"],[1.0,\"#f0f921\"]],\"sequentialminus\":[[0.0,\"#0d0887\"],[0.1111111111111111,\"#46039f\"],[0.2222222222222222,\"#7201a8\"],[0.3333333333333333,\"#9c179e\"],[0.4444444444444444,\"#bd3786\"],[0.5555555555555556,\"#d8576b\"],[0.6666666666666666,\"#ed7953\"],[0.7777777777777778,\"#fb9f3a\"],[0.8888888888888888,\"#fdca26\"],[1.0,\"#f0f921\"]]},\"colorway\":[\"#636efa\",\"#EF553B\",\"#00cc96\",\"#ab63fa\",\"#FFA15A\",\"#19d3f3\",\"#FF6692\",\"#B6E880\",\"#FF97FF\",\"#FECB52\"],\"font\":{\"color\":\"#2a3f5f\"},\"geo\":{\"bgcolor\":\"white\",\"lakecolor\":\"white\",\"landcolor\":\"#E5ECF6\",\"showlakes\":true,\"showland\":true,\"subunitcolor\":\"white\"},\"hoverlabel\":{\"align\":\"left\"},\"hovermode\":\"closest\",\"mapbox\":{\"style\":\"light\"},\"paper_bgcolor\":\"white\",\"plot_bgcolor\":\"#E5ECF6\",\"polar\":{\"angularaxis\":{\"gridcolor\":\"white\",\"linecolor\":\"white\",\"ticks\":\"\"},\"bgcolor\":\"#E5ECF6\",\"radialaxis\":{\"gridcolor\":\"white\",\"linecolor\":\"white\",\"ticks\":\"\"}},\"scene\":{\"xaxis\":{\"backgroundcolor\":\"#E5ECF6\",\"gridcolor\":\"white\",\"gridwidth\":2,\"linecolor\":\"white\",\"showbackground\":true,\"ticks\":\"\",\"zerolinecolor\":\"white\"},\"yaxis\":{\"backgroundcolor\":\"#E5ECF6\",\"gridcolor\":\"white\",\"gridwidth\":2,\"linecolor\":\"white\",\"showbackground\":true,\"ticks\":\"\",\"zerolinecolor\":\"white\"},\"zaxis\":{\"backgroundcolor\":\"#E5ECF6\",\"gridcolor\":\"white\",\"gridwidth\":2,\"linecolor\":\"white\",\"showbackground\":true,\"ticks\":\"\",\"zerolinecolor\":\"white\"}},\"shapedefaults\":{\"line\":{\"color\":\"#2a3f5f\"}},\"ternary\":{\"aaxis\":{\"gridcolor\":\"white\",\"linecolor\":\"white\",\"ticks\":\"\"},\"baxis\":{\"gridcolor\":\"white\",\"linecolor\":\"white\",\"ticks\":\"\"},\"bgcolor\":\"#E5ECF6\",\"caxis\":{\"gridcolor\":\"white\",\"linecolor\":\"white\",\"ticks\":\"\"}},\"title\":{\"x\":0.05},\"xaxis\":{\"automargin\":true,\"gridcolor\":\"white\",\"linecolor\":\"white\",\"ticks\":\"\",\"title\":{\"standoff\":15},\"zerolinecolor\":\"white\",\"zerolinewidth\":2},\"yaxis\":{\"automargin\":true,\"gridcolor\":\"white\",\"linecolor\":\"white\",\"ticks\":\"\",\"title\":{\"standoff\":15},\"zerolinecolor\":\"white\",\"zerolinewidth\":2}}},\"xaxis\":{\"anchor\":\"y\",\"domain\":[0.0,0.235],\"title\":{\"text\":\"Weight_in_kg\"}},\"yaxis\":{\"anchor\":\"x\",\"domain\":[0.0,1.0],\"title\":{\"text\":\"Working experience\"}},\"xaxis2\":{\"anchor\":\"y2\",\"domain\":[0.255,0.49],\"matches\":\"x\",\"title\":{\"text\":\"Weight_in_kg\"}},\"yaxis2\":{\"anchor\":\"x2\",\"domain\":[0.0,1.0],\"matches\":\"y\",\"showticklabels\":false},\"xaxis3\":{\"anchor\":\"y3\",\"domain\":[0.51,0.745],\"matches\":\"x\",\"title\":{\"text\":\"Weight_in_kg\"}},\"yaxis3\":{\"anchor\":\"x3\",\"domain\":[0.0,1.0],\"matches\":\"y\",\"showticklabels\":false},\"xaxis4\":{\"anchor\":\"y4\",\"domain\":[0.7649999999999999,0.9999999999999999],\"matches\":\"x\",\"title\":{\"text\":\"Weight_in_kg\"}},\"yaxis4\":{\"anchor\":\"x4\",\"domain\":[0.0,1.0],\"matches\":\"y\",\"showticklabels\":false},\"annotations\":[{\"font\":{},\"showarrow\":false,\"text\":\"Qualification=Masters\",\"x\":0.1175,\"xanchor\":\"center\",\"xref\":\"paper\",\"y\":1.0,\"yanchor\":\"bottom\",\"yref\":\"paper\"},{\"font\":{},\"showarrow\":false,\"text\":\"Qualification=Bachelors\",\"x\":0.3725,\"xanchor\":\"center\",\"xref\":\"paper\",\"y\":1.0,\"yanchor\":\"bottom\",\"yref\":\"paper\"},{\"font\":{},\"showarrow\":false,\"text\":\"Qualification=PhD\",\"x\":0.6275,\"xanchor\":\"center\",\"xref\":\"paper\",\"y\":1.0,\"yanchor\":\"bottom\",\"yref\":\"paper\"},{\"font\":{},\"showarrow\":false,\"text\":\"Qualification=Pre-Bachelors\",\"x\":0.8824999999999998,\"xanchor\":\"center\",\"xref\":\"paper\",\"y\":1.0,\"yanchor\":\"bottom\",\"yref\":\"paper\"}],\"legend\":{\"title\":{\"text\":\"Sex, Married\"},\"tracegroupgap\":0},\"margin\":{\"t\":60}},                        {\"responsive\": true}                    ).then(function(){\n",
       "                            \n",
       "var gd = document.getElementById('65aa016d-5e29-438e-be2e-e05fc5da5c1f');\n",
       "var x = new MutationObserver(function (mutations, observer) {{\n",
       "        var display = window.getComputedStyle(gd).display;\n",
       "        if (!display || display === 'none') {{\n",
       "            console.log([gd, 'removed!']);\n",
       "            Plotly.purge(gd);\n",
       "            observer.disconnect();\n",
       "        }}\n",
       "}});\n",
       "\n",
       "// Listen for the removal of the full notebook cells\n",
       "var notebookContainer = gd.closest('#notebook-container');\n",
       "if (notebookContainer) {{\n",
       "    x.observe(notebookContainer, {childList: true});\n",
       "}}\n",
       "\n",
       "// Listen for the clearing of the current output cell\n",
       "var outputEl = gd.closest('.output');\n",
       "if (outputEl) {{\n",
       "    x.observe(outputEl, {childList: true});\n",
       "}}\n",
       "\n",
       "                        })                };                });            </script>        </div>"
      ]
     },
     "metadata": {},
     "output_type": "display_data"
    }
   ],
   "source": [
    "import plotly.express as px\n",
    "import pandas as pd \n",
    "data= pd.read_csv(\"new_data.csv\")\n",
    "fig = px.scatter(data, x=\"Weight_in_kg\", y=\"Working experience\", color=\"Gender\", symbol=\"Marital Status?\", facet_col=\"Qualification\",\n",
    "          labels={\"Gender\": \"Sex\", \"Marital Status?\": \"Married\"})\n",
    "fig.show()"
   ]
  },
  {
   "cell_type": "markdown",
   "id": "5acdafb9",
   "metadata": {},
   "source": [
    "---"
   ]
  },
  {
   "cell_type": "code",
   "execution_count": 42,
   "id": "3f2ba5ad",
   "metadata": {},
   "outputs": [
    {
     "data": {
      "application/vnd.plotly.v1+json": {
       "config": {
        "plotlyServerURL": "https://plot.ly"
       },
       "data": [
        {
         "hovertemplate": "Sex=Male<br>Married=Yes<br>Qualification=Masters<br>Age=%{x}<br>Working experience=%{y}<extra></extra>",
         "legendgroup": "Male, Yes",
         "marker": {
          "color": "#636efa",
          "symbol": "circle"
         },
         "mode": "markers",
         "name": "Male, Yes",
         "orientation": "v",
         "showlegend": true,
         "type": "scatter",
         "x": [
          38,
          31.34,
          36,
          33,
          31,
          31,
          33,
          32.75,
          29,
          36,
          35,
          32,
          28,
          29.8,
          35,
          32.2,
          32.8,
          40,
          42,
          29,
          29.25,
          41,
          30,
          29,
          43,
          44.8,
          26,
          39.5,
          34.25,
          33,
          26,
          28,
          28,
          34,
          30.4,
          38,
          31.04,
          40,
          29,
          30,
          27,
          33,
          35,
          34.9,
          35,
          35.11,
          31,
          32,
          36.5,
          0,
          31,
          43,
          42,
          32,
          37,
          31,
          26,
          32,
          27.5,
          42,
          31,
          38,
          31,
          32,
          30,
          28
         ],
         "xaxis": "x",
         "y": [
          5,
          5.5,
          15,
          2,
          2.5,
          14,
          4,
          4,
          0,
          12,
          9.5,
          4.5,
          5,
          3,
          7,
          10.2,
          4.5,
          2,
          17,
          2.5,
          6.5,
          13,
          3.8,
          1,
          20,
          20.5,
          1,
          0,
          8.5,
          5,
          4.5,
          1,
          7,
          10,
          4.5,
          4,
          1.3,
          2,
          6.5,
          1,
          3,
          8,
          8,
          8,
          10,
          5.6,
          2.5,
          5,
          3.5,
          0,
          6,
          16.5,
          2,
          3,
          0,
          2.5,
          5,
          1,
          1,
          15,
          7,
          5,
          0,
          3,
          0.5,
          7
         ],
         "yaxis": "y"
        },
        {
         "hovertemplate": "Sex=Male<br>Married=Yes<br>Qualification=Bachelors<br>Age=%{x}<br>Working experience=%{y}<extra></extra>",
         "legendgroup": "Male, Yes",
         "marker": {
          "color": "#636efa",
          "symbol": "circle"
         },
         "mode": "markers",
         "name": "Male, Yes",
         "orientation": "v",
         "showlegend": false,
         "type": "scatter",
         "x": [
          27,
          33,
          31,
          34,
          25,
          32,
          28,
          22,
          51,
          33,
          33,
          25.2,
          30,
          32,
          24,
          40.1,
          26,
          32,
          36,
          32,
          33
         ],
         "xaxis": "x2",
         "y": [
          4,
          4,
          0,
          8.5,
          3.5,
          7.5,
          4,
          0,
          20,
          8,
          1,
          0.7,
          4,
          7.5,
          0,
          11.3,
          0,
          7.5,
          8,
          7,
          5
         ],
         "yaxis": "y2"
        },
        {
         "hovertemplate": "Sex=Male<br>Married=Yes<br>Qualification=PhD<br>Age=%{x}<br>Working experience=%{y}<extra></extra>",
         "legendgroup": "Male, Yes",
         "marker": {
          "color": "#636efa",
          "symbol": "circle"
         },
         "mode": "markers",
         "name": "Male, Yes",
         "orientation": "v",
         "showlegend": false,
         "type": "scatter",
         "x": [
          33,
          31,
          33,
          27,
          37,
          27,
          31.2,
          31,
          31.5,
          32,
          31,
          68,
          25,
          32.7
         ],
         "xaxis": "x3",
         "y": [
          2,
          2,
          5,
          4,
          10,
          4,
          5.5,
          2,
          3.5,
          7,
          8,
          40,
          3,
          2
         ],
         "yaxis": "y3"
        },
        {
         "hovertemplate": "Sex=Male<br>Married=Yes<br>Qualification=Pre-Bachelors<br>Age=%{x}<br>Working experience=%{y}<extra></extra>",
         "legendgroup": "Male, Yes",
         "marker": {
          "color": "#636efa",
          "symbol": "circle"
         },
         "mode": "markers",
         "name": "Male, Yes",
         "orientation": "v",
         "showlegend": false,
         "type": "scatter",
         "x": [
          18,
          20
         ],
         "xaxis": "x4",
         "y": [
          0,
          0
         ],
         "yaxis": "y4"
        },
        {
         "hovertemplate": "Sex=Male<br>Married=No<br>Qualification=Masters<br>Age=%{x}<br>Working experience=%{y}<extra></extra>",
         "legendgroup": "Male, No",
         "marker": {
          "color": "#636efa",
          "symbol": "diamond"
         },
         "mode": "markers",
         "name": "Male, No",
         "orientation": "v",
         "showlegend": true,
         "type": "scatter",
         "x": [
          0,
          27,
          25,
          23,
          28,
          26,
          27,
          25,
          38,
          26.5,
          27.75,
          28,
          0,
          27.9,
          30.4,
          31,
          27,
          28.11,
          26.5,
          26,
          29,
          27,
          29,
          24,
          25,
          23.5,
          27,
          25,
          31.5,
          32,
          24,
          26,
          30,
          33,
          26,
          34,
          30.1,
          30,
          30,
          31,
          25,
          33,
          27,
          22,
          26,
          25,
          22.9,
          28,
          23,
          25,
          25,
          30,
          27.3,
          29,
          10.5,
          25,
          26,
          35,
          29,
          28,
          25,
          28,
          29
         ],
         "xaxis": "x",
         "y": [
          0,
          2,
          2.5,
          0,
          4.5,
          3,
          2,
          2.5,
          5,
          2,
          2.5,
          4,
          0,
          3.5,
          8,
          8,
          5,
          1.2,
          1.5,
          2.5,
          5,
          1,
          0,
          2,
          1,
          0,
          2,
          2,
          6,
          6,
          0,
          1,
          2,
          7,
          3,
          2.5,
          3.2,
          3,
          1,
          3,
          1,
          7,
          1,
          1,
          1,
          1,
          1.2,
          0.5,
          1,
          2,
          1.4,
          4,
          1.5,
          5,
          10.5,
          1,
          2,
          5,
          0,
          2,
          4,
          1.5,
          2
         ],
         "yaxis": "y"
        },
        {
         "hovertemplate": "Sex=Male<br>Married=No<br>Qualification=Bachelors<br>Age=%{x}<br>Working experience=%{y}<extra></extra>",
         "legendgroup": "Male, No",
         "marker": {
          "color": "#636efa",
          "symbol": "diamond"
         },
         "mode": "markers",
         "name": "Male, No",
         "orientation": "v",
         "showlegend": false,
         "type": "scatter",
         "x": [
          25,
          22.2,
          24,
          24,
          33,
          25,
          24,
          25,
          26,
          29,
          24.3,
          26.3,
          26,
          29,
          25,
          26,
          25,
          19,
          25,
          90,
          23,
          25,
          26.11,
          22.6,
          27,
          24,
          29,
          25,
          30,
          2,
          25,
          24,
          26,
          22,
          27,
          28,
          24.1,
          26,
          22,
          26,
          26,
          24,
          19.8,
          23,
          23,
          25,
          26,
          28,
          28,
          23,
          24,
          24,
          29,
          23,
          26.3,
          26.95,
          23,
          24.6,
          28,
          29,
          20,
          21,
          23.4,
          22,
          25,
          25,
          32,
          24,
          22,
          21,
          25,
          22,
          21,
          26.5,
          27,
          24,
          29,
          26.6,
          27,
          26,
          27,
          29,
          28,
          24,
          24,
          22.8
         ],
         "xaxis": "x2",
         "y": [
          1,
          0.5,
          0.5,
          2,
          5.5,
          0,
          0,
          3.1,
          1,
          0,
          0.2,
          2.5,
          2,
          3,
          1,
          2,
          0,
          2,
          0,
          0,
          1.5,
          0.6,
          3.5,
          1.5,
          2,
          1,
          1,
          0,
          1.3,
          2,
          2,
          0,
          2,
          0.5,
          0,
          3,
          1,
          4,
          0,
          5,
          1,
          1,
          0,
          0,
          0,
          1,
          1,
          6,
          4,
          0.5,
          1,
          1,
          0,
          1.5,
          2,
          3.3,
          1,
          1,
          1,
          6,
          0,
          1,
          0,
          0,
          3,
          0,
          2,
          3,
          2,
          2,
          0,
          0,
          1,
          3,
          5,
          0,
          6.2,
          3,
          3,
          1.5,
          1.5,
          6,
          1,
          0,
          2,
          0
         ],
         "yaxis": "y2"
        },
        {
         "hovertemplate": "Sex=Male<br>Married=No<br>Qualification=PhD<br>Age=%{x}<br>Working experience=%{y}<extra></extra>",
         "legendgroup": "Male, No",
         "marker": {
          "color": "#636efa",
          "symbol": "diamond"
         },
         "mode": "markers",
         "name": "Male, No",
         "orientation": "v",
         "showlegend": false,
         "type": "scatter",
         "x": [
          25,
          30,
          30,
          30,
          33.9,
          30,
          30.5,
          28,
          31,
          29
         ],
         "xaxis": "x3",
         "y": [
          3,
          0.6,
          4.5,
          9,
          8.4,
          6,
          1.5,
          2.5,
          2,
          5
         ],
         "yaxis": "y3"
        },
        {
         "hovertemplate": "Sex=Male<br>Married=No<br>Qualification=Pre-Bachelors<br>Age=%{x}<br>Working experience=%{y}<extra></extra>",
         "legendgroup": "Male, No",
         "marker": {
          "color": "#636efa",
          "symbol": "diamond"
         },
         "mode": "markers",
         "name": "Male, No",
         "orientation": "v",
         "showlegend": false,
         "type": "scatter",
         "x": [
          22.5,
          21,
          21,
          20,
          21,
          19.5,
          21,
          20,
          22,
          18,
          21,
          20,
          21,
          19,
          21,
          21.6,
          19,
          22,
          22,
          20,
          23,
          24,
          23,
          20,
          19,
          21,
          23,
          20,
          22,
          21,
          11,
          22,
          20,
          21,
          20,
          20
         ],
         "xaxis": "x4",
         "y": [
          1,
          0,
          0,
          0,
          0,
          0.5,
          0,
          1,
          0,
          0,
          0,
          0,
          0,
          0,
          0,
          0,
          0,
          0,
          1,
          0,
          1,
          0,
          0,
          1,
          0,
          0,
          0,
          0,
          0,
          0,
          2,
          0,
          0,
          0,
          0,
          0
         ],
         "yaxis": "y4"
        },
        {
         "hovertemplate": "Sex=Female<br>Married=Yes<br>Qualification=Masters<br>Age=%{x}<br>Working experience=%{y}<extra></extra>",
         "legendgroup": "Female, Yes",
         "marker": {
          "color": "#EF553B",
          "symbol": "circle"
         },
         "mode": "markers",
         "name": "Female, Yes",
         "orientation": "v",
         "showlegend": true,
         "type": "scatter",
         "x": [
          33,
          32,
          43,
          27,
          29,
          30.5,
          31,
          46.4,
          26,
          33,
          31
         ],
         "xaxis": "x",
         "y": [
          5,
          6,
          4,
          0,
          6,
          1,
          13,
          10.1,
          3,
          0,
          3
         ],
         "yaxis": "y"
        },
        {
         "hovertemplate": "Sex=Female<br>Married=Yes<br>Qualification=Bachelors<br>Age=%{x}<br>Working experience=%{y}<extra></extra>",
         "legendgroup": "Female, Yes",
         "marker": {
          "color": "#EF553B",
          "symbol": "circle"
         },
         "mode": "markers",
         "name": "Female, Yes",
         "orientation": "v",
         "showlegend": false,
         "type": "scatter",
         "x": [
          28,
          39,
          29,
          29
         ],
         "xaxis": "x2",
         "y": [
          3,
          0,
          2,
          2
         ],
         "yaxis": "y2"
        },
        {
         "hovertemplate": "Sex=Female<br>Married=Yes<br>Qualification=PhD<br>Age=%{x}<br>Working experience=%{y}<extra></extra>",
         "legendgroup": "Female, Yes",
         "marker": {
          "color": "#EF553B",
          "symbol": "circle"
         },
         "mode": "markers",
         "name": "Female, Yes",
         "orientation": "v",
         "showlegend": false,
         "type": "scatter",
         "x": [
          30,
          37
         ],
         "xaxis": "x3",
         "y": [
          4,
          4.5
         ],
         "yaxis": "y3"
        },
        {
         "hovertemplate": "Sex=Female<br>Married=Yes<br>Qualification=Pre-Bachelors<br>Age=%{x}<br>Working experience=%{y}<extra></extra>",
         "legendgroup": "Female, Yes",
         "marker": {
          "color": "#EF553B",
          "symbol": "circle"
         },
         "mode": "markers",
         "name": "Female, Yes",
         "orientation": "v",
         "showlegend": false,
         "type": "scatter",
         "x": [
          22
         ],
         "xaxis": "x4",
         "y": [
          0
         ],
         "yaxis": "y4"
        },
        {
         "hovertemplate": "Sex=Female<br>Married=No<br>Qualification=Masters<br>Age=%{x}<br>Working experience=%{y}<extra></extra>",
         "legendgroup": "Female, No",
         "marker": {
          "color": "#EF553B",
          "symbol": "diamond"
         },
         "mode": "markers",
         "name": "Female, No",
         "orientation": "v",
         "showlegend": true,
         "type": "scatter",
         "x": [
          27,
          28,
          27.9,
          26,
          28,
          33,
          24.6,
          24,
          26,
          27.5,
          30,
          29,
          29,
          28,
          25,
          29,
          26,
          27.5,
          30,
          28,
          35,
          29,
          26,
          34,
          26.5,
          27,
          26,
          26,
          22
         ],
         "xaxis": "x",
         "y": [
          3.5,
          3,
          4,
          1.5,
          7,
          7.5,
          1,
          1.5,
          1,
          0,
          2.3,
          5.9,
          2,
          5,
          1,
          1,
          2,
          4,
          5.1,
          3,
          4,
          2,
          2,
          1,
          1,
          1,
          0,
          2.5,
          0
         ],
         "yaxis": "y"
        },
        {
         "hovertemplate": "Sex=Female<br>Married=No<br>Qualification=Bachelors<br>Age=%{x}<br>Working experience=%{y}<extra></extra>",
         "legendgroup": "Female, No",
         "marker": {
          "color": "#EF553B",
          "symbol": "diamond"
         },
         "mode": "markers",
         "name": "Female, No",
         "orientation": "v",
         "showlegend": false,
         "type": "scatter",
         "x": [
          25,
          23.99,
          24,
          22,
          24,
          23,
          23,
          25,
          28.1,
          25,
          22,
          20,
          21,
          25,
          23,
          25,
          25,
          24,
          32,
          28,
          30,
          23
         ],
         "xaxis": "x2",
         "y": [
          2,
          0,
          1,
          0,
          3,
          0,
          0,
          2,
          2.5,
          0,
          0,
          0,
          0,
          0,
          1,
          0,
          0,
          0,
          5,
          6,
          1.3,
          0
         ],
         "yaxis": "y2"
        },
        {
         "hovertemplate": "Sex=Female<br>Married=No<br>Qualification=PhD<br>Age=%{x}<br>Working experience=%{y}<extra></extra>",
         "legendgroup": "Female, No",
         "marker": {
          "color": "#EF553B",
          "symbol": "diamond"
         },
         "mode": "markers",
         "name": "Female, No",
         "orientation": "v",
         "showlegend": false,
         "type": "scatter",
         "x": [
          31.8,
          29
         ],
         "xaxis": "x3",
         "y": [
          0.5,
          1.5
         ],
         "yaxis": "y3"
        },
        {
         "hovertemplate": "Sex=Female<br>Married=No<br>Qualification=Pre-Bachelors<br>Age=%{x}<br>Working experience=%{y}<extra></extra>",
         "legendgroup": "Female, No",
         "marker": {
          "color": "#EF553B",
          "symbol": "diamond"
         },
         "mode": "markers",
         "name": "Female, No",
         "orientation": "v",
         "showlegend": false,
         "type": "scatter",
         "x": [
          14.2,
          22,
          21,
          16,
          21,
          19
         ],
         "xaxis": "x4",
         "y": [
          0,
          0,
          0,
          0,
          0,
          0
         ],
         "yaxis": "y4"
        }
       ],
       "layout": {
        "annotations": [
         {
          "font": {},
          "showarrow": false,
          "text": "Qualification=Masters",
          "x": 0.1175,
          "xanchor": "center",
          "xref": "paper",
          "y": 1,
          "yanchor": "bottom",
          "yref": "paper"
         },
         {
          "font": {},
          "showarrow": false,
          "text": "Qualification=Bachelors",
          "x": 0.3725,
          "xanchor": "center",
          "xref": "paper",
          "y": 1,
          "yanchor": "bottom",
          "yref": "paper"
         },
         {
          "font": {},
          "showarrow": false,
          "text": "Qualification=PhD",
          "x": 0.6275,
          "xanchor": "center",
          "xref": "paper",
          "y": 1,
          "yanchor": "bottom",
          "yref": "paper"
         },
         {
          "font": {},
          "showarrow": false,
          "text": "Qualification=Pre-Bachelors",
          "x": 0.8824999999999998,
          "xanchor": "center",
          "xref": "paper",
          "y": 1,
          "yanchor": "bottom",
          "yref": "paper"
         }
        ],
        "legend": {
         "title": {
          "text": "Sex, Married"
         },
         "tracegroupgap": 0
        },
        "margin": {
         "t": 60
        },
        "template": {
         "data": {
          "bar": [
           {
            "error_x": {
             "color": "#2a3f5f"
            },
            "error_y": {
             "color": "#2a3f5f"
            },
            "marker": {
             "line": {
              "color": "#E5ECF6",
              "width": 0.5
             },
             "pattern": {
              "fillmode": "overlay",
              "size": 10,
              "solidity": 0.2
             }
            },
            "type": "bar"
           }
          ],
          "barpolar": [
           {
            "marker": {
             "line": {
              "color": "#E5ECF6",
              "width": 0.5
             },
             "pattern": {
              "fillmode": "overlay",
              "size": 10,
              "solidity": 0.2
             }
            },
            "type": "barpolar"
           }
          ],
          "carpet": [
           {
            "aaxis": {
             "endlinecolor": "#2a3f5f",
             "gridcolor": "white",
             "linecolor": "white",
             "minorgridcolor": "white",
             "startlinecolor": "#2a3f5f"
            },
            "baxis": {
             "endlinecolor": "#2a3f5f",
             "gridcolor": "white",
             "linecolor": "white",
             "minorgridcolor": "white",
             "startlinecolor": "#2a3f5f"
            },
            "type": "carpet"
           }
          ],
          "choropleth": [
           {
            "colorbar": {
             "outlinewidth": 0,
             "ticks": ""
            },
            "type": "choropleth"
           }
          ],
          "contour": [
           {
            "colorbar": {
             "outlinewidth": 0,
             "ticks": ""
            },
            "colorscale": [
             [
              0,
              "#0d0887"
             ],
             [
              0.1111111111111111,
              "#46039f"
             ],
             [
              0.2222222222222222,
              "#7201a8"
             ],
             [
              0.3333333333333333,
              "#9c179e"
             ],
             [
              0.4444444444444444,
              "#bd3786"
             ],
             [
              0.5555555555555556,
              "#d8576b"
             ],
             [
              0.6666666666666666,
              "#ed7953"
             ],
             [
              0.7777777777777778,
              "#fb9f3a"
             ],
             [
              0.8888888888888888,
              "#fdca26"
             ],
             [
              1,
              "#f0f921"
             ]
            ],
            "type": "contour"
           }
          ],
          "contourcarpet": [
           {
            "colorbar": {
             "outlinewidth": 0,
             "ticks": ""
            },
            "type": "contourcarpet"
           }
          ],
          "heatmap": [
           {
            "colorbar": {
             "outlinewidth": 0,
             "ticks": ""
            },
            "colorscale": [
             [
              0,
              "#0d0887"
             ],
             [
              0.1111111111111111,
              "#46039f"
             ],
             [
              0.2222222222222222,
              "#7201a8"
             ],
             [
              0.3333333333333333,
              "#9c179e"
             ],
             [
              0.4444444444444444,
              "#bd3786"
             ],
             [
              0.5555555555555556,
              "#d8576b"
             ],
             [
              0.6666666666666666,
              "#ed7953"
             ],
             [
              0.7777777777777778,
              "#fb9f3a"
             ],
             [
              0.8888888888888888,
              "#fdca26"
             ],
             [
              1,
              "#f0f921"
             ]
            ],
            "type": "heatmap"
           }
          ],
          "heatmapgl": [
           {
            "colorbar": {
             "outlinewidth": 0,
             "ticks": ""
            },
            "colorscale": [
             [
              0,
              "#0d0887"
             ],
             [
              0.1111111111111111,
              "#46039f"
             ],
             [
              0.2222222222222222,
              "#7201a8"
             ],
             [
              0.3333333333333333,
              "#9c179e"
             ],
             [
              0.4444444444444444,
              "#bd3786"
             ],
             [
              0.5555555555555556,
              "#d8576b"
             ],
             [
              0.6666666666666666,
              "#ed7953"
             ],
             [
              0.7777777777777778,
              "#fb9f3a"
             ],
             [
              0.8888888888888888,
              "#fdca26"
             ],
             [
              1,
              "#f0f921"
             ]
            ],
            "type": "heatmapgl"
           }
          ],
          "histogram": [
           {
            "marker": {
             "pattern": {
              "fillmode": "overlay",
              "size": 10,
              "solidity": 0.2
             }
            },
            "type": "histogram"
           }
          ],
          "histogram2d": [
           {
            "colorbar": {
             "outlinewidth": 0,
             "ticks": ""
            },
            "colorscale": [
             [
              0,
              "#0d0887"
             ],
             [
              0.1111111111111111,
              "#46039f"
             ],
             [
              0.2222222222222222,
              "#7201a8"
             ],
             [
              0.3333333333333333,
              "#9c179e"
             ],
             [
              0.4444444444444444,
              "#bd3786"
             ],
             [
              0.5555555555555556,
              "#d8576b"
             ],
             [
              0.6666666666666666,
              "#ed7953"
             ],
             [
              0.7777777777777778,
              "#fb9f3a"
             ],
             [
              0.8888888888888888,
              "#fdca26"
             ],
             [
              1,
              "#f0f921"
             ]
            ],
            "type": "histogram2d"
           }
          ],
          "histogram2dcontour": [
           {
            "colorbar": {
             "outlinewidth": 0,
             "ticks": ""
            },
            "colorscale": [
             [
              0,
              "#0d0887"
             ],
             [
              0.1111111111111111,
              "#46039f"
             ],
             [
              0.2222222222222222,
              "#7201a8"
             ],
             [
              0.3333333333333333,
              "#9c179e"
             ],
             [
              0.4444444444444444,
              "#bd3786"
             ],
             [
              0.5555555555555556,
              "#d8576b"
             ],
             [
              0.6666666666666666,
              "#ed7953"
             ],
             [
              0.7777777777777778,
              "#fb9f3a"
             ],
             [
              0.8888888888888888,
              "#fdca26"
             ],
             [
              1,
              "#f0f921"
             ]
            ],
            "type": "histogram2dcontour"
           }
          ],
          "mesh3d": [
           {
            "colorbar": {
             "outlinewidth": 0,
             "ticks": ""
            },
            "type": "mesh3d"
           }
          ],
          "parcoords": [
           {
            "line": {
             "colorbar": {
              "outlinewidth": 0,
              "ticks": ""
             }
            },
            "type": "parcoords"
           }
          ],
          "pie": [
           {
            "automargin": true,
            "type": "pie"
           }
          ],
          "scatter": [
           {
            "marker": {
             "colorbar": {
              "outlinewidth": 0,
              "ticks": ""
             }
            },
            "type": "scatter"
           }
          ],
          "scatter3d": [
           {
            "line": {
             "colorbar": {
              "outlinewidth": 0,
              "ticks": ""
             }
            },
            "marker": {
             "colorbar": {
              "outlinewidth": 0,
              "ticks": ""
             }
            },
            "type": "scatter3d"
           }
          ],
          "scattercarpet": [
           {
            "marker": {
             "colorbar": {
              "outlinewidth": 0,
              "ticks": ""
             }
            },
            "type": "scattercarpet"
           }
          ],
          "scattergeo": [
           {
            "marker": {
             "colorbar": {
              "outlinewidth": 0,
              "ticks": ""
             }
            },
            "type": "scattergeo"
           }
          ],
          "scattergl": [
           {
            "marker": {
             "colorbar": {
              "outlinewidth": 0,
              "ticks": ""
             }
            },
            "type": "scattergl"
           }
          ],
          "scattermapbox": [
           {
            "marker": {
             "colorbar": {
              "outlinewidth": 0,
              "ticks": ""
             }
            },
            "type": "scattermapbox"
           }
          ],
          "scatterpolar": [
           {
            "marker": {
             "colorbar": {
              "outlinewidth": 0,
              "ticks": ""
             }
            },
            "type": "scatterpolar"
           }
          ],
          "scatterpolargl": [
           {
            "marker": {
             "colorbar": {
              "outlinewidth": 0,
              "ticks": ""
             }
            },
            "type": "scatterpolargl"
           }
          ],
          "scatterternary": [
           {
            "marker": {
             "colorbar": {
              "outlinewidth": 0,
              "ticks": ""
             }
            },
            "type": "scatterternary"
           }
          ],
          "surface": [
           {
            "colorbar": {
             "outlinewidth": 0,
             "ticks": ""
            },
            "colorscale": [
             [
              0,
              "#0d0887"
             ],
             [
              0.1111111111111111,
              "#46039f"
             ],
             [
              0.2222222222222222,
              "#7201a8"
             ],
             [
              0.3333333333333333,
              "#9c179e"
             ],
             [
              0.4444444444444444,
              "#bd3786"
             ],
             [
              0.5555555555555556,
              "#d8576b"
             ],
             [
              0.6666666666666666,
              "#ed7953"
             ],
             [
              0.7777777777777778,
              "#fb9f3a"
             ],
             [
              0.8888888888888888,
              "#fdca26"
             ],
             [
              1,
              "#f0f921"
             ]
            ],
            "type": "surface"
           }
          ],
          "table": [
           {
            "cells": {
             "fill": {
              "color": "#EBF0F8"
             },
             "line": {
              "color": "white"
             }
            },
            "header": {
             "fill": {
              "color": "#C8D4E3"
             },
             "line": {
              "color": "white"
             }
            },
            "type": "table"
           }
          ]
         },
         "layout": {
          "annotationdefaults": {
           "arrowcolor": "#2a3f5f",
           "arrowhead": 0,
           "arrowwidth": 1
          },
          "autotypenumbers": "strict",
          "coloraxis": {
           "colorbar": {
            "outlinewidth": 0,
            "ticks": ""
           }
          },
          "colorscale": {
           "diverging": [
            [
             0,
             "#8e0152"
            ],
            [
             0.1,
             "#c51b7d"
            ],
            [
             0.2,
             "#de77ae"
            ],
            [
             0.3,
             "#f1b6da"
            ],
            [
             0.4,
             "#fde0ef"
            ],
            [
             0.5,
             "#f7f7f7"
            ],
            [
             0.6,
             "#e6f5d0"
            ],
            [
             0.7,
             "#b8e186"
            ],
            [
             0.8,
             "#7fbc41"
            ],
            [
             0.9,
             "#4d9221"
            ],
            [
             1,
             "#276419"
            ]
           ],
           "sequential": [
            [
             0,
             "#0d0887"
            ],
            [
             0.1111111111111111,
             "#46039f"
            ],
            [
             0.2222222222222222,
             "#7201a8"
            ],
            [
             0.3333333333333333,
             "#9c179e"
            ],
            [
             0.4444444444444444,
             "#bd3786"
            ],
            [
             0.5555555555555556,
             "#d8576b"
            ],
            [
             0.6666666666666666,
             "#ed7953"
            ],
            [
             0.7777777777777778,
             "#fb9f3a"
            ],
            [
             0.8888888888888888,
             "#fdca26"
            ],
            [
             1,
             "#f0f921"
            ]
           ],
           "sequentialminus": [
            [
             0,
             "#0d0887"
            ],
            [
             0.1111111111111111,
             "#46039f"
            ],
            [
             0.2222222222222222,
             "#7201a8"
            ],
            [
             0.3333333333333333,
             "#9c179e"
            ],
            [
             0.4444444444444444,
             "#bd3786"
            ],
            [
             0.5555555555555556,
             "#d8576b"
            ],
            [
             0.6666666666666666,
             "#ed7953"
            ],
            [
             0.7777777777777778,
             "#fb9f3a"
            ],
            [
             0.8888888888888888,
             "#fdca26"
            ],
            [
             1,
             "#f0f921"
            ]
           ]
          },
          "colorway": [
           "#636efa",
           "#EF553B",
           "#00cc96",
           "#ab63fa",
           "#FFA15A",
           "#19d3f3",
           "#FF6692",
           "#B6E880",
           "#FF97FF",
           "#FECB52"
          ],
          "font": {
           "color": "#2a3f5f"
          },
          "geo": {
           "bgcolor": "white",
           "lakecolor": "white",
           "landcolor": "#E5ECF6",
           "showlakes": true,
           "showland": true,
           "subunitcolor": "white"
          },
          "hoverlabel": {
           "align": "left"
          },
          "hovermode": "closest",
          "mapbox": {
           "style": "light"
          },
          "paper_bgcolor": "white",
          "plot_bgcolor": "#E5ECF6",
          "polar": {
           "angularaxis": {
            "gridcolor": "white",
            "linecolor": "white",
            "ticks": ""
           },
           "bgcolor": "#E5ECF6",
           "radialaxis": {
            "gridcolor": "white",
            "linecolor": "white",
            "ticks": ""
           }
          },
          "scene": {
           "xaxis": {
            "backgroundcolor": "#E5ECF6",
            "gridcolor": "white",
            "gridwidth": 2,
            "linecolor": "white",
            "showbackground": true,
            "ticks": "",
            "zerolinecolor": "white"
           },
           "yaxis": {
            "backgroundcolor": "#E5ECF6",
            "gridcolor": "white",
            "gridwidth": 2,
            "linecolor": "white",
            "showbackground": true,
            "ticks": "",
            "zerolinecolor": "white"
           },
           "zaxis": {
            "backgroundcolor": "#E5ECF6",
            "gridcolor": "white",
            "gridwidth": 2,
            "linecolor": "white",
            "showbackground": true,
            "ticks": "",
            "zerolinecolor": "white"
           }
          },
          "shapedefaults": {
           "line": {
            "color": "#2a3f5f"
           }
          },
          "ternary": {
           "aaxis": {
            "gridcolor": "white",
            "linecolor": "white",
            "ticks": ""
           },
           "baxis": {
            "gridcolor": "white",
            "linecolor": "white",
            "ticks": ""
           },
           "bgcolor": "#E5ECF6",
           "caxis": {
            "gridcolor": "white",
            "linecolor": "white",
            "ticks": ""
           }
          },
          "title": {
           "x": 0.05
          },
          "xaxis": {
           "automargin": true,
           "gridcolor": "white",
           "linecolor": "white",
           "ticks": "",
           "title": {
            "standoff": 15
           },
           "zerolinecolor": "white",
           "zerolinewidth": 2
          },
          "yaxis": {
           "automargin": true,
           "gridcolor": "white",
           "linecolor": "white",
           "ticks": "",
           "title": {
            "standoff": 15
           },
           "zerolinecolor": "white",
           "zerolinewidth": 2
          }
         }
        },
        "xaxis": {
         "anchor": "y",
         "domain": [
          0,
          0.235
         ],
         "title": {
          "text": "Age"
         }
        },
        "xaxis2": {
         "anchor": "y2",
         "domain": [
          0.255,
          0.49
         ],
         "matches": "x",
         "title": {
          "text": "Age"
         }
        },
        "xaxis3": {
         "anchor": "y3",
         "domain": [
          0.51,
          0.745
         ],
         "matches": "x",
         "title": {
          "text": "Age"
         }
        },
        "xaxis4": {
         "anchor": "y4",
         "domain": [
          0.7649999999999999,
          0.9999999999999999
         ],
         "matches": "x",
         "title": {
          "text": "Age"
         }
        },
        "yaxis": {
         "anchor": "x",
         "domain": [
          0,
          1
         ],
         "title": {
          "text": "Working experience"
         }
        },
        "yaxis2": {
         "anchor": "x2",
         "domain": [
          0,
          1
         ],
         "matches": "y",
         "showticklabels": false
        },
        "yaxis3": {
         "anchor": "x3",
         "domain": [
          0,
          1
         ],
         "matches": "y",
         "showticklabels": false
        },
        "yaxis4": {
         "anchor": "x4",
         "domain": [
          0,
          1
         ],
         "matches": "y",
         "showticklabels": false
        }
       }
      },
      "text/html": [
       "<div>                            <div id=\"7e0340e0-c51b-4cb7-a35e-930199e2d031\" class=\"plotly-graph-div\" style=\"height:525px; width:100%;\"></div>            <script type=\"text/javascript\">                require([\"plotly\"], function(Plotly) {                    window.PLOTLYENV=window.PLOTLYENV || {};                                    if (document.getElementById(\"7e0340e0-c51b-4cb7-a35e-930199e2d031\")) {                    Plotly.newPlot(                        \"7e0340e0-c51b-4cb7-a35e-930199e2d031\",                        [{\"hovertemplate\":\"Sex=Male<br>Married=Yes<br>Qualification=Masters<br>Age=%{x}<br>Working experience=%{y}<extra></extra>\",\"legendgroup\":\"Male, Yes\",\"marker\":{\"color\":\"#636efa\",\"symbol\":\"circle\"},\"mode\":\"markers\",\"name\":\"Male, Yes\",\"orientation\":\"v\",\"showlegend\":true,\"x\":[38.0,31.34,36.0,33.0,31.0,31.0,33.0,32.75,29.0,36.0,35.0,32.0,28.0,29.8,35.0,32.2,32.8,40.0,42.0,29.0,29.25,41.0,30.0,29.0,43.0,44.8,26.0,39.5,34.25,33.0,26.0,28.0,28.0,34.0,30.4,38.0,31.04,40.0,29.0,30.0,27.0,33.0,35.0,34.9,35.0,35.11,31.0,32.0,36.5,0.0,31.0,43.0,42.0,32.0,37.0,31.0,26.0,32.0,27.5,42.0,31.0,38.0,31.0,32.0,30.0,28.0],\"xaxis\":\"x\",\"y\":[5.0,5.5,15.0,2.0,2.5,14.0,4.0,4.0,0.0,12.0,9.5,4.5,5.0,3.0,7.0,10.2,4.5,2.0,17.0,2.5,6.5,13.0,3.8,1.0,20.0,20.5,1.0,0.0,8.5,5.0,4.5,1.0,7.0,10.0,4.5,4.0,1.3,2.0,6.5,1.0,3.0,8.0,8.0,8.0,10.0,5.6,2.5,5.0,3.5,0.0,6.0,16.5,2.0,3.0,0.0,2.5,5.0,1.0,1.0,15.0,7.0,5.0,0.0,3.0,0.5,7.0],\"yaxis\":\"y\",\"type\":\"scatter\"},{\"hovertemplate\":\"Sex=Male<br>Married=Yes<br>Qualification=Bachelors<br>Age=%{x}<br>Working experience=%{y}<extra></extra>\",\"legendgroup\":\"Male, Yes\",\"marker\":{\"color\":\"#636efa\",\"symbol\":\"circle\"},\"mode\":\"markers\",\"name\":\"Male, Yes\",\"orientation\":\"v\",\"showlegend\":false,\"x\":[27.0,33.0,31.0,34.0,25.0,32.0,28.0,22.0,51.0,33.0,33.0,25.2,30.0,32.0,24.0,40.1,26.0,32.0,36.0,32.0,33.0],\"xaxis\":\"x2\",\"y\":[4.0,4.0,0.0,8.5,3.5,7.5,4.0,0.0,20.0,8.0,1.0,0.7,4.0,7.5,0.0,11.3,0.0,7.5,8.0,7.0,5.0],\"yaxis\":\"y2\",\"type\":\"scatter\"},{\"hovertemplate\":\"Sex=Male<br>Married=Yes<br>Qualification=PhD<br>Age=%{x}<br>Working experience=%{y}<extra></extra>\",\"legendgroup\":\"Male, Yes\",\"marker\":{\"color\":\"#636efa\",\"symbol\":\"circle\"},\"mode\":\"markers\",\"name\":\"Male, Yes\",\"orientation\":\"v\",\"showlegend\":false,\"x\":[33.0,31.0,33.0,27.0,37.0,27.0,31.2,31.0,31.5,32.0,31.0,68.0,25.0,32.7],\"xaxis\":\"x3\",\"y\":[2.0,2.0,5.0,4.0,10.0,4.0,5.5,2.0,3.5,7.0,8.0,40.0,3.0,2.0],\"yaxis\":\"y3\",\"type\":\"scatter\"},{\"hovertemplate\":\"Sex=Male<br>Married=Yes<br>Qualification=Pre-Bachelors<br>Age=%{x}<br>Working experience=%{y}<extra></extra>\",\"legendgroup\":\"Male, Yes\",\"marker\":{\"color\":\"#636efa\",\"symbol\":\"circle\"},\"mode\":\"markers\",\"name\":\"Male, Yes\",\"orientation\":\"v\",\"showlegend\":false,\"x\":[18.0,20.0],\"xaxis\":\"x4\",\"y\":[0.0,0.0],\"yaxis\":\"y4\",\"type\":\"scatter\"},{\"hovertemplate\":\"Sex=Male<br>Married=No<br>Qualification=Masters<br>Age=%{x}<br>Working experience=%{y}<extra></extra>\",\"legendgroup\":\"Male, No\",\"marker\":{\"color\":\"#636efa\",\"symbol\":\"diamond\"},\"mode\":\"markers\",\"name\":\"Male, No\",\"orientation\":\"v\",\"showlegend\":true,\"x\":[0.0,27.0,25.0,23.0,28.0,26.0,27.0,25.0,38.0,26.5,27.75,28.0,0.0,27.9,30.4,31.0,27.0,28.11,26.5,26.0,29.0,27.0,29.0,24.0,25.0,23.5,27.0,25.0,31.5,32.0,24.0,26.0,30.0,33.0,26.0,34.0,30.1,30.0,30.0,31.0,25.0,33.0,27.0,22.0,26.0,25.0,22.9,28.0,23.0,25.0,25.0,30.0,27.3,29.0,10.5,25.0,26.0,35.0,29.0,28.0,25.0,28.0,29.0],\"xaxis\":\"x\",\"y\":[0.0,2.0,2.5,0.0,4.5,3.0,2.0,2.5,5.0,2.0,2.5,4.0,0.0,3.5,8.0,8.0,5.0,1.2,1.5,2.5,5.0,1.0,0.0,2.0,1.0,0.0,2.0,2.0,6.0,6.0,0.0,1.0,2.0,7.0,3.0,2.5,3.2,3.0,1.0,3.0,1.0,7.0,1.0,1.0,1.0,1.0,1.2,0.5,1.0,2.0,1.4,4.0,1.5,5.0,10.5,1.0,2.0,5.0,0.0,2.0,4.0,1.5,2.0],\"yaxis\":\"y\",\"type\":\"scatter\"},{\"hovertemplate\":\"Sex=Male<br>Married=No<br>Qualification=Bachelors<br>Age=%{x}<br>Working experience=%{y}<extra></extra>\",\"legendgroup\":\"Male, No\",\"marker\":{\"color\":\"#636efa\",\"symbol\":\"diamond\"},\"mode\":\"markers\",\"name\":\"Male, No\",\"orientation\":\"v\",\"showlegend\":false,\"x\":[25.0,22.2,24.0,24.0,33.0,25.0,24.0,25.0,26.0,29.0,24.3,26.3,26.0,29.0,25.0,26.0,25.0,19.0,25.0,90.0,23.0,25.0,26.11,22.6,27.0,24.0,29.0,25.0,30.0,2.0,25.0,24.0,26.0,22.0,27.0,28.0,24.1,26.0,22.0,26.0,26.0,24.0,19.8,23.0,23.0,25.0,26.0,28.0,28.0,23.0,24.0,24.0,29.0,23.0,26.3,26.95,23.0,24.6,28.0,29.0,20.0,21.0,23.4,22.0,25.0,25.0,32.0,24.0,22.0,21.0,25.0,22.0,21.0,26.5,27.0,24.0,29.0,26.6,27.0,26.0,27.0,29.0,28.0,24.0,24.0,22.8],\"xaxis\":\"x2\",\"y\":[1.0,0.5,0.5,2.0,5.5,0.0,0.0,3.1,1.0,0.0,0.2,2.5,2.0,3.0,1.0,2.0,0.0,2.0,0.0,0.0,1.5,0.6,3.5,1.5,2.0,1.0,1.0,0.0,1.3,2.0,2.0,0.0,2.0,0.5,0.0,3.0,1.0,4.0,0.0,5.0,1.0,1.0,0.0,0.0,0.0,1.0,1.0,6.0,4.0,0.5,1.0,1.0,0.0,1.5,2.0,3.3,1.0,1.0,1.0,6.0,0.0,1.0,0.0,0.0,3.0,0.0,2.0,3.0,2.0,2.0,0.0,0.0,1.0,3.0,5.0,0.0,6.2,3.0,3.0,1.5,1.5,6.0,1.0,0.0,2.0,0.0],\"yaxis\":\"y2\",\"type\":\"scatter\"},{\"hovertemplate\":\"Sex=Male<br>Married=No<br>Qualification=PhD<br>Age=%{x}<br>Working experience=%{y}<extra></extra>\",\"legendgroup\":\"Male, No\",\"marker\":{\"color\":\"#636efa\",\"symbol\":\"diamond\"},\"mode\":\"markers\",\"name\":\"Male, No\",\"orientation\":\"v\",\"showlegend\":false,\"x\":[25.0,30.0,30.0,30.0,33.9,30.0,30.5,28.0,31.0,29.0],\"xaxis\":\"x3\",\"y\":[3.0,0.6,4.5,9.0,8.4,6.0,1.5,2.5,2.0,5.0],\"yaxis\":\"y3\",\"type\":\"scatter\"},{\"hovertemplate\":\"Sex=Male<br>Married=No<br>Qualification=Pre-Bachelors<br>Age=%{x}<br>Working experience=%{y}<extra></extra>\",\"legendgroup\":\"Male, No\",\"marker\":{\"color\":\"#636efa\",\"symbol\":\"diamond\"},\"mode\":\"markers\",\"name\":\"Male, No\",\"orientation\":\"v\",\"showlegend\":false,\"x\":[22.5,21.0,21.0,20.0,21.0,19.5,21.0,20.0,22.0,18.0,21.0,20.0,21.0,19.0,21.0,21.6,19.0,22.0,22.0,20.0,23.0,24.0,23.0,20.0,19.0,21.0,23.0,20.0,22.0,21.0,11.0,22.0,20.0,21.0,20.0,20.0],\"xaxis\":\"x4\",\"y\":[1.0,0.0,0.0,0.0,0.0,0.5,0.0,1.0,0.0,0.0,0.0,0.0,0.0,0.0,0.0,0.0,0.0,0.0,1.0,0.0,1.0,0.0,0.0,1.0,0.0,0.0,0.0,0.0,0.0,0.0,2.0,0.0,0.0,0.0,0.0,0.0],\"yaxis\":\"y4\",\"type\":\"scatter\"},{\"hovertemplate\":\"Sex=Female<br>Married=Yes<br>Qualification=Masters<br>Age=%{x}<br>Working experience=%{y}<extra></extra>\",\"legendgroup\":\"Female, Yes\",\"marker\":{\"color\":\"#EF553B\",\"symbol\":\"circle\"},\"mode\":\"markers\",\"name\":\"Female, Yes\",\"orientation\":\"v\",\"showlegend\":true,\"x\":[33.0,32.0,43.0,27.0,29.0,30.5,31.0,46.4,26.0,33.0,31.0],\"xaxis\":\"x\",\"y\":[5.0,6.0,4.0,0.0,6.0,1.0,13.0,10.1,3.0,0.0,3.0],\"yaxis\":\"y\",\"type\":\"scatter\"},{\"hovertemplate\":\"Sex=Female<br>Married=Yes<br>Qualification=Bachelors<br>Age=%{x}<br>Working experience=%{y}<extra></extra>\",\"legendgroup\":\"Female, Yes\",\"marker\":{\"color\":\"#EF553B\",\"symbol\":\"circle\"},\"mode\":\"markers\",\"name\":\"Female, Yes\",\"orientation\":\"v\",\"showlegend\":false,\"x\":[28.0,39.0,29.0,29.0],\"xaxis\":\"x2\",\"y\":[3.0,0.0,2.0,2.0],\"yaxis\":\"y2\",\"type\":\"scatter\"},{\"hovertemplate\":\"Sex=Female<br>Married=Yes<br>Qualification=PhD<br>Age=%{x}<br>Working experience=%{y}<extra></extra>\",\"legendgroup\":\"Female, Yes\",\"marker\":{\"color\":\"#EF553B\",\"symbol\":\"circle\"},\"mode\":\"markers\",\"name\":\"Female, Yes\",\"orientation\":\"v\",\"showlegend\":false,\"x\":[30.0,37.0],\"xaxis\":\"x3\",\"y\":[4.0,4.5],\"yaxis\":\"y3\",\"type\":\"scatter\"},{\"hovertemplate\":\"Sex=Female<br>Married=Yes<br>Qualification=Pre-Bachelors<br>Age=%{x}<br>Working experience=%{y}<extra></extra>\",\"legendgroup\":\"Female, Yes\",\"marker\":{\"color\":\"#EF553B\",\"symbol\":\"circle\"},\"mode\":\"markers\",\"name\":\"Female, Yes\",\"orientation\":\"v\",\"showlegend\":false,\"x\":[22.0],\"xaxis\":\"x4\",\"y\":[0.0],\"yaxis\":\"y4\",\"type\":\"scatter\"},{\"hovertemplate\":\"Sex=Female<br>Married=No<br>Qualification=Masters<br>Age=%{x}<br>Working experience=%{y}<extra></extra>\",\"legendgroup\":\"Female, No\",\"marker\":{\"color\":\"#EF553B\",\"symbol\":\"diamond\"},\"mode\":\"markers\",\"name\":\"Female, No\",\"orientation\":\"v\",\"showlegend\":true,\"x\":[27.0,28.0,27.9,26.0,28.0,33.0,24.6,24.0,26.0,27.5,30.0,29.0,29.0,28.0,25.0,29.0,26.0,27.5,30.0,28.0,35.0,29.0,26.0,34.0,26.5,27.0,26.0,26.0,22.0],\"xaxis\":\"x\",\"y\":[3.5,3.0,4.0,1.5,7.0,7.5,1.0,1.5,1.0,0.0,2.3,5.9,2.0,5.0,1.0,1.0,2.0,4.0,5.1,3.0,4.0,2.0,2.0,1.0,1.0,1.0,0.0,2.5,0.0],\"yaxis\":\"y\",\"type\":\"scatter\"},{\"hovertemplate\":\"Sex=Female<br>Married=No<br>Qualification=Bachelors<br>Age=%{x}<br>Working experience=%{y}<extra></extra>\",\"legendgroup\":\"Female, No\",\"marker\":{\"color\":\"#EF553B\",\"symbol\":\"diamond\"},\"mode\":\"markers\",\"name\":\"Female, No\",\"orientation\":\"v\",\"showlegend\":false,\"x\":[25.0,23.99,24.0,22.0,24.0,23.0,23.0,25.0,28.1,25.0,22.0,20.0,21.0,25.0,23.0,25.0,25.0,24.0,32.0,28.0,30.0,23.0],\"xaxis\":\"x2\",\"y\":[2.0,0.0,1.0,0.0,3.0,0.0,0.0,2.0,2.5,0.0,0.0,0.0,0.0,0.0,1.0,0.0,0.0,0.0,5.0,6.0,1.3,0.0],\"yaxis\":\"y2\",\"type\":\"scatter\"},{\"hovertemplate\":\"Sex=Female<br>Married=No<br>Qualification=PhD<br>Age=%{x}<br>Working experience=%{y}<extra></extra>\",\"legendgroup\":\"Female, No\",\"marker\":{\"color\":\"#EF553B\",\"symbol\":\"diamond\"},\"mode\":\"markers\",\"name\":\"Female, No\",\"orientation\":\"v\",\"showlegend\":false,\"x\":[31.8,29.0],\"xaxis\":\"x3\",\"y\":[0.5,1.5],\"yaxis\":\"y3\",\"type\":\"scatter\"},{\"hovertemplate\":\"Sex=Female<br>Married=No<br>Qualification=Pre-Bachelors<br>Age=%{x}<br>Working experience=%{y}<extra></extra>\",\"legendgroup\":\"Female, No\",\"marker\":{\"color\":\"#EF553B\",\"symbol\":\"diamond\"},\"mode\":\"markers\",\"name\":\"Female, No\",\"orientation\":\"v\",\"showlegend\":false,\"x\":[14.2,22.0,21.0,16.0,21.0,19.0],\"xaxis\":\"x4\",\"y\":[0.0,0.0,0.0,0.0,0.0,0.0],\"yaxis\":\"y4\",\"type\":\"scatter\"}],                        {\"template\":{\"data\":{\"bar\":[{\"error_x\":{\"color\":\"#2a3f5f\"},\"error_y\":{\"color\":\"#2a3f5f\"},\"marker\":{\"line\":{\"color\":\"#E5ECF6\",\"width\":0.5},\"pattern\":{\"fillmode\":\"overlay\",\"size\":10,\"solidity\":0.2}},\"type\":\"bar\"}],\"barpolar\":[{\"marker\":{\"line\":{\"color\":\"#E5ECF6\",\"width\":0.5},\"pattern\":{\"fillmode\":\"overlay\",\"size\":10,\"solidity\":0.2}},\"type\":\"barpolar\"}],\"carpet\":[{\"aaxis\":{\"endlinecolor\":\"#2a3f5f\",\"gridcolor\":\"white\",\"linecolor\":\"white\",\"minorgridcolor\":\"white\",\"startlinecolor\":\"#2a3f5f\"},\"baxis\":{\"endlinecolor\":\"#2a3f5f\",\"gridcolor\":\"white\",\"linecolor\":\"white\",\"minorgridcolor\":\"white\",\"startlinecolor\":\"#2a3f5f\"},\"type\":\"carpet\"}],\"choropleth\":[{\"colorbar\":{\"outlinewidth\":0,\"ticks\":\"\"},\"type\":\"choropleth\"}],\"contour\":[{\"colorbar\":{\"outlinewidth\":0,\"ticks\":\"\"},\"colorscale\":[[0.0,\"#0d0887\"],[0.1111111111111111,\"#46039f\"],[0.2222222222222222,\"#7201a8\"],[0.3333333333333333,\"#9c179e\"],[0.4444444444444444,\"#bd3786\"],[0.5555555555555556,\"#d8576b\"],[0.6666666666666666,\"#ed7953\"],[0.7777777777777778,\"#fb9f3a\"],[0.8888888888888888,\"#fdca26\"],[1.0,\"#f0f921\"]],\"type\":\"contour\"}],\"contourcarpet\":[{\"colorbar\":{\"outlinewidth\":0,\"ticks\":\"\"},\"type\":\"contourcarpet\"}],\"heatmap\":[{\"colorbar\":{\"outlinewidth\":0,\"ticks\":\"\"},\"colorscale\":[[0.0,\"#0d0887\"],[0.1111111111111111,\"#46039f\"],[0.2222222222222222,\"#7201a8\"],[0.3333333333333333,\"#9c179e\"],[0.4444444444444444,\"#bd3786\"],[0.5555555555555556,\"#d8576b\"],[0.6666666666666666,\"#ed7953\"],[0.7777777777777778,\"#fb9f3a\"],[0.8888888888888888,\"#fdca26\"],[1.0,\"#f0f921\"]],\"type\":\"heatmap\"}],\"heatmapgl\":[{\"colorbar\":{\"outlinewidth\":0,\"ticks\":\"\"},\"colorscale\":[[0.0,\"#0d0887\"],[0.1111111111111111,\"#46039f\"],[0.2222222222222222,\"#7201a8\"],[0.3333333333333333,\"#9c179e\"],[0.4444444444444444,\"#bd3786\"],[0.5555555555555556,\"#d8576b\"],[0.6666666666666666,\"#ed7953\"],[0.7777777777777778,\"#fb9f3a\"],[0.8888888888888888,\"#fdca26\"],[1.0,\"#f0f921\"]],\"type\":\"heatmapgl\"}],\"histogram\":[{\"marker\":{\"pattern\":{\"fillmode\":\"overlay\",\"size\":10,\"solidity\":0.2}},\"type\":\"histogram\"}],\"histogram2d\":[{\"colorbar\":{\"outlinewidth\":0,\"ticks\":\"\"},\"colorscale\":[[0.0,\"#0d0887\"],[0.1111111111111111,\"#46039f\"],[0.2222222222222222,\"#7201a8\"],[0.3333333333333333,\"#9c179e\"],[0.4444444444444444,\"#bd3786\"],[0.5555555555555556,\"#d8576b\"],[0.6666666666666666,\"#ed7953\"],[0.7777777777777778,\"#fb9f3a\"],[0.8888888888888888,\"#fdca26\"],[1.0,\"#f0f921\"]],\"type\":\"histogram2d\"}],\"histogram2dcontour\":[{\"colorbar\":{\"outlinewidth\":0,\"ticks\":\"\"},\"colorscale\":[[0.0,\"#0d0887\"],[0.1111111111111111,\"#46039f\"],[0.2222222222222222,\"#7201a8\"],[0.3333333333333333,\"#9c179e\"],[0.4444444444444444,\"#bd3786\"],[0.5555555555555556,\"#d8576b\"],[0.6666666666666666,\"#ed7953\"],[0.7777777777777778,\"#fb9f3a\"],[0.8888888888888888,\"#fdca26\"],[1.0,\"#f0f921\"]],\"type\":\"histogram2dcontour\"}],\"mesh3d\":[{\"colorbar\":{\"outlinewidth\":0,\"ticks\":\"\"},\"type\":\"mesh3d\"}],\"parcoords\":[{\"line\":{\"colorbar\":{\"outlinewidth\":0,\"ticks\":\"\"}},\"type\":\"parcoords\"}],\"pie\":[{\"automargin\":true,\"type\":\"pie\"}],\"scatter\":[{\"marker\":{\"colorbar\":{\"outlinewidth\":0,\"ticks\":\"\"}},\"type\":\"scatter\"}],\"scatter3d\":[{\"line\":{\"colorbar\":{\"outlinewidth\":0,\"ticks\":\"\"}},\"marker\":{\"colorbar\":{\"outlinewidth\":0,\"ticks\":\"\"}},\"type\":\"scatter3d\"}],\"scattercarpet\":[{\"marker\":{\"colorbar\":{\"outlinewidth\":0,\"ticks\":\"\"}},\"type\":\"scattercarpet\"}],\"scattergeo\":[{\"marker\":{\"colorbar\":{\"outlinewidth\":0,\"ticks\":\"\"}},\"type\":\"scattergeo\"}],\"scattergl\":[{\"marker\":{\"colorbar\":{\"outlinewidth\":0,\"ticks\":\"\"}},\"type\":\"scattergl\"}],\"scattermapbox\":[{\"marker\":{\"colorbar\":{\"outlinewidth\":0,\"ticks\":\"\"}},\"type\":\"scattermapbox\"}],\"scatterpolar\":[{\"marker\":{\"colorbar\":{\"outlinewidth\":0,\"ticks\":\"\"}},\"type\":\"scatterpolar\"}],\"scatterpolargl\":[{\"marker\":{\"colorbar\":{\"outlinewidth\":0,\"ticks\":\"\"}},\"type\":\"scatterpolargl\"}],\"scatterternary\":[{\"marker\":{\"colorbar\":{\"outlinewidth\":0,\"ticks\":\"\"}},\"type\":\"scatterternary\"}],\"surface\":[{\"colorbar\":{\"outlinewidth\":0,\"ticks\":\"\"},\"colorscale\":[[0.0,\"#0d0887\"],[0.1111111111111111,\"#46039f\"],[0.2222222222222222,\"#7201a8\"],[0.3333333333333333,\"#9c179e\"],[0.4444444444444444,\"#bd3786\"],[0.5555555555555556,\"#d8576b\"],[0.6666666666666666,\"#ed7953\"],[0.7777777777777778,\"#fb9f3a\"],[0.8888888888888888,\"#fdca26\"],[1.0,\"#f0f921\"]],\"type\":\"surface\"}],\"table\":[{\"cells\":{\"fill\":{\"color\":\"#EBF0F8\"},\"line\":{\"color\":\"white\"}},\"header\":{\"fill\":{\"color\":\"#C8D4E3\"},\"line\":{\"color\":\"white\"}},\"type\":\"table\"}]},\"layout\":{\"annotationdefaults\":{\"arrowcolor\":\"#2a3f5f\",\"arrowhead\":0,\"arrowwidth\":1},\"autotypenumbers\":\"strict\",\"coloraxis\":{\"colorbar\":{\"outlinewidth\":0,\"ticks\":\"\"}},\"colorscale\":{\"diverging\":[[0,\"#8e0152\"],[0.1,\"#c51b7d\"],[0.2,\"#de77ae\"],[0.3,\"#f1b6da\"],[0.4,\"#fde0ef\"],[0.5,\"#f7f7f7\"],[0.6,\"#e6f5d0\"],[0.7,\"#b8e186\"],[0.8,\"#7fbc41\"],[0.9,\"#4d9221\"],[1,\"#276419\"]],\"sequential\":[[0.0,\"#0d0887\"],[0.1111111111111111,\"#46039f\"],[0.2222222222222222,\"#7201a8\"],[0.3333333333333333,\"#9c179e\"],[0.4444444444444444,\"#bd3786\"],[0.5555555555555556,\"#d8576b\"],[0.6666666666666666,\"#ed7953\"],[0.7777777777777778,\"#fb9f3a\"],[0.8888888888888888,\"#fdca26\"],[1.0,\"#f0f921\"]],\"sequentialminus\":[[0.0,\"#0d0887\"],[0.1111111111111111,\"#46039f\"],[0.2222222222222222,\"#7201a8\"],[0.3333333333333333,\"#9c179e\"],[0.4444444444444444,\"#bd3786\"],[0.5555555555555556,\"#d8576b\"],[0.6666666666666666,\"#ed7953\"],[0.7777777777777778,\"#fb9f3a\"],[0.8888888888888888,\"#fdca26\"],[1.0,\"#f0f921\"]]},\"colorway\":[\"#636efa\",\"#EF553B\",\"#00cc96\",\"#ab63fa\",\"#FFA15A\",\"#19d3f3\",\"#FF6692\",\"#B6E880\",\"#FF97FF\",\"#FECB52\"],\"font\":{\"color\":\"#2a3f5f\"},\"geo\":{\"bgcolor\":\"white\",\"lakecolor\":\"white\",\"landcolor\":\"#E5ECF6\",\"showlakes\":true,\"showland\":true,\"subunitcolor\":\"white\"},\"hoverlabel\":{\"align\":\"left\"},\"hovermode\":\"closest\",\"mapbox\":{\"style\":\"light\"},\"paper_bgcolor\":\"white\",\"plot_bgcolor\":\"#E5ECF6\",\"polar\":{\"angularaxis\":{\"gridcolor\":\"white\",\"linecolor\":\"white\",\"ticks\":\"\"},\"bgcolor\":\"#E5ECF6\",\"radialaxis\":{\"gridcolor\":\"white\",\"linecolor\":\"white\",\"ticks\":\"\"}},\"scene\":{\"xaxis\":{\"backgroundcolor\":\"#E5ECF6\",\"gridcolor\":\"white\",\"gridwidth\":2,\"linecolor\":\"white\",\"showbackground\":true,\"ticks\":\"\",\"zerolinecolor\":\"white\"},\"yaxis\":{\"backgroundcolor\":\"#E5ECF6\",\"gridcolor\":\"white\",\"gridwidth\":2,\"linecolor\":\"white\",\"showbackground\":true,\"ticks\":\"\",\"zerolinecolor\":\"white\"},\"zaxis\":{\"backgroundcolor\":\"#E5ECF6\",\"gridcolor\":\"white\",\"gridwidth\":2,\"linecolor\":\"white\",\"showbackground\":true,\"ticks\":\"\",\"zerolinecolor\":\"white\"}},\"shapedefaults\":{\"line\":{\"color\":\"#2a3f5f\"}},\"ternary\":{\"aaxis\":{\"gridcolor\":\"white\",\"linecolor\":\"white\",\"ticks\":\"\"},\"baxis\":{\"gridcolor\":\"white\",\"linecolor\":\"white\",\"ticks\":\"\"},\"bgcolor\":\"#E5ECF6\",\"caxis\":{\"gridcolor\":\"white\",\"linecolor\":\"white\",\"ticks\":\"\"}},\"title\":{\"x\":0.05},\"xaxis\":{\"automargin\":true,\"gridcolor\":\"white\",\"linecolor\":\"white\",\"ticks\":\"\",\"title\":{\"standoff\":15},\"zerolinecolor\":\"white\",\"zerolinewidth\":2},\"yaxis\":{\"automargin\":true,\"gridcolor\":\"white\",\"linecolor\":\"white\",\"ticks\":\"\",\"title\":{\"standoff\":15},\"zerolinecolor\":\"white\",\"zerolinewidth\":2}}},\"xaxis\":{\"anchor\":\"y\",\"domain\":[0.0,0.235],\"title\":{\"text\":\"Age\"}},\"yaxis\":{\"anchor\":\"x\",\"domain\":[0.0,1.0],\"title\":{\"text\":\"Working experience\"}},\"xaxis2\":{\"anchor\":\"y2\",\"domain\":[0.255,0.49],\"matches\":\"x\",\"title\":{\"text\":\"Age\"}},\"yaxis2\":{\"anchor\":\"x2\",\"domain\":[0.0,1.0],\"matches\":\"y\",\"showticklabels\":false},\"xaxis3\":{\"anchor\":\"y3\",\"domain\":[0.51,0.745],\"matches\":\"x\",\"title\":{\"text\":\"Age\"}},\"yaxis3\":{\"anchor\":\"x3\",\"domain\":[0.0,1.0],\"matches\":\"y\",\"showticklabels\":false},\"xaxis4\":{\"anchor\":\"y4\",\"domain\":[0.7649999999999999,0.9999999999999999],\"matches\":\"x\",\"title\":{\"text\":\"Age\"}},\"yaxis4\":{\"anchor\":\"x4\",\"domain\":[0.0,1.0],\"matches\":\"y\",\"showticklabels\":false},\"annotations\":[{\"font\":{},\"showarrow\":false,\"text\":\"Qualification=Masters\",\"x\":0.1175,\"xanchor\":\"center\",\"xref\":\"paper\",\"y\":1.0,\"yanchor\":\"bottom\",\"yref\":\"paper\"},{\"font\":{},\"showarrow\":false,\"text\":\"Qualification=Bachelors\",\"x\":0.3725,\"xanchor\":\"center\",\"xref\":\"paper\",\"y\":1.0,\"yanchor\":\"bottom\",\"yref\":\"paper\"},{\"font\":{},\"showarrow\":false,\"text\":\"Qualification=PhD\",\"x\":0.6275,\"xanchor\":\"center\",\"xref\":\"paper\",\"y\":1.0,\"yanchor\":\"bottom\",\"yref\":\"paper\"},{\"font\":{},\"showarrow\":false,\"text\":\"Qualification=Pre-Bachelors\",\"x\":0.8824999999999998,\"xanchor\":\"center\",\"xref\":\"paper\",\"y\":1.0,\"yanchor\":\"bottom\",\"yref\":\"paper\"}],\"legend\":{\"title\":{\"text\":\"Sex, Married\"},\"tracegroupgap\":0},\"margin\":{\"t\":60}},                        {\"responsive\": true}                    ).then(function(){\n",
       "                            \n",
       "var gd = document.getElementById('7e0340e0-c51b-4cb7-a35e-930199e2d031');\n",
       "var x = new MutationObserver(function (mutations, observer) {{\n",
       "        var display = window.getComputedStyle(gd).display;\n",
       "        if (!display || display === 'none') {{\n",
       "            console.log([gd, 'removed!']);\n",
       "            Plotly.purge(gd);\n",
       "            observer.disconnect();\n",
       "        }}\n",
       "}});\n",
       "\n",
       "// Listen for the removal of the full notebook cells\n",
       "var notebookContainer = gd.closest('#notebook-container');\n",
       "if (notebookContainer) {{\n",
       "    x.observe(notebookContainer, {childList: true});\n",
       "}}\n",
       "\n",
       "// Listen for the clearing of the current output cell\n",
       "var outputEl = gd.closest('.output');\n",
       "if (outputEl) {{\n",
       "    x.observe(outputEl, {childList: true});\n",
       "}}\n",
       "\n",
       "                        })                };                });            </script>        </div>"
      ]
     },
     "metadata": {},
     "output_type": "display_data"
    }
   ],
   "source": [
    "import plotly.express as px\n",
    "import pandas as pd \n",
    "data= pd.read_csv(\"new_data.csv\")\n",
    "fig = px.scatter(data, x=\"Age\", y=\"Working experience\", color=\"Gender\", symbol=\"Marital Status?\", facet_col=\"Qualification\",\n",
    "          labels={\"Gender\": \"Sex\", \"Marital Status?\": \"Married\"})\n",
    "fig.show()"
   ]
  },
  {
   "cell_type": "markdown",
   "id": "622588de",
   "metadata": {},
   "source": [
    "---"
   ]
  },
  {
   "cell_type": "code",
   "execution_count": 41,
   "id": "742bc03a",
   "metadata": {},
   "outputs": [
    {
     "data": {
      "application/vnd.plotly.v1+json": {
       "config": {
        "plotlyServerURL": "https://plot.ly"
       },
       "data": [
        {
         "hovertemplate": "Location=Pakistan<br>Weight_in_kg=%{x}<br>Age=%{y}<br>Working experience=%{marker.size}<extra></extra>",
         "legendgroup": "Pakistan",
         "marker": {
          "color": "#636efa",
          "size": [
           5,
           1,
           5.5,
           5,
           3.5,
           15,
           0,
           0.5,
           2,
           1,
           2,
           2,
           5.5,
           0,
           2.5,
           2,
           0,
           0,
           9,
           3.1,
           4,
           1,
           4,
           0,
           0,
           0,
           0.2,
           3,
           0,
           14,
           4,
           0,
           1.5,
           7,
           0,
           2,
           0,
           3,
           2.5,
           12,
           5,
           9.5,
           4.5,
           2,
           0,
           5,
           3.5,
           2.5,
           2,
           4,
           5,
           0.5,
           3,
           0,
           7.5,
           7,
           0,
           4,
           3,
           10.2,
           0,
           1,
           1,
           1,
           0,
           0,
           2,
           3.5,
           0,
           1,
           0,
           2,
           8,
           0,
           7.5,
           8,
           4,
           5,
           4.5,
           0,
           1.5,
           2,
           17,
           0,
           1.5,
           0,
           0.6,
           0,
           3.5,
           1.5,
           4,
           3,
           1.5,
           2,
           1,
           1,
           6.5,
           2.5,
           13,
           10,
           3.8,
           5,
           1,
           0,
           1,
           20.5,
           0,
           0,
           0,
           1.3,
           0,
           1,
           1,
           0,
           1.5,
           2,
           0,
           5.9,
           2,
           0,
           4,
           2,
           0,
           2,
           1,
           5.5,
           20,
           5,
           5,
           0,
           4.5,
           0.5,
           0,
           2,
           2,
           2.5,
           0,
           1,
           2,
           0,
           0.5,
           6,
           7,
           0,
           1,
           1,
           8,
           2,
           1,
           4,
           0,
           0,
           7,
           0,
           3,
           1,
           2.5,
           1,
           0,
           0,
           0,
           1,
           4.5,
           0,
           0,
           3.2,
           1,
           3.5,
           0,
           0,
           0,
           4,
           1,
           3,
           1,
           4,
           2,
           1,
           2.5,
           3,
           0.5,
           6.5,
           1,
           0,
           0.7,
           0,
           1,
           1,
           2,
           0,
           1,
           1,
           1,
           0,
           3,
           1.5,
           0,
           2,
           3.3,
           8,
           4,
           1,
           6,
           7,
           0,
           4,
           1,
           1,
           1,
           8,
           1,
           1,
           0,
           0,
           1,
           1.2,
           0,
           7.5,
           7,
           6,
           0.5,
           0,
           1,
           13,
           10,
           5.6,
           1,
           0,
           0,
           0,
           2.5,
           10.1,
           5.1,
           1,
           0,
           8,
           0,
           5,
           0,
           40,
           0,
           1.5,
           3,
           0,
           0,
           0,
           6,
           16.5,
           0,
           0,
           2,
           2,
           3,
           1.4,
           4,
           2,
           2,
           2,
           1,
           5,
           1,
           3,
           1,
           3,
           2,
           6,
           0,
           0,
           2.5,
           1.5,
           5,
           2.5,
           2,
           5,
           2,
           0,
           1,
           1,
           3,
           0,
           11.3,
           15,
           0,
           0,
           1,
           2,
           2,
           0,
           3,
           0,
           5,
           0,
           7,
           5,
           0,
           1.3,
           2,
           7.5,
           0,
           0,
           6.2,
           5,
           3,
           8,
           3,
           0,
           1.5,
           3,
           0,
           1.5,
           7,
           6,
           4,
           1,
           0,
           0,
           0.5,
           2,
           7,
           5,
           0,
           2,
           3
          ],
          "sizemode": "area",
          "sizeref": 0.019753086419753086,
          "symbol": "circle"
         },
         "mode": "markers",
         "name": "Pakistan",
         "orientation": "v",
         "showlegend": true,
         "type": "scatter",
         "x": [
          77,
          53.6,
          93,
          60,
          59.9,
          99,
          58,
          76.8,
          50,
          63,
          88.2,
          75.8,
          72,
          130,
          72.5,
          70.2,
          55,
          83.5,
          60,
          69.5,
          72,
          55.5,
          60,
          78,
          52.5,
          67,
          93.5,
          96,
          64,
          75,
          84,
          75,
          47,
          50,
          62.5,
          88.6,
          52,
          50,
          60,
          100.5,
          93.9,
          78.9,
          70,
          65,
          63.5,
          82,
          105.5,
          85.6,
          89,
          80,
          100,
          52,
          75.4,
          50,
          98,
          75.5,
          71,
          78.5,
          88.2,
          70.2,
          57.5,
          63.4,
          62,
          64,
          68,
          68.5,
          69,
          63.5,
          57.4,
          43,
          75,
          50,
          88,
          39.5,
          72,
          98,
          79,
          55.5,
          88.4,
          84,
          82.5,
          83.5,
          90,
          90,
          67.9,
          71.5,
          76,
          48,
          76,
          42.6,
          70,
          48,
          67.4,
          54,
          60.5,
          55,
          93.5,
          106.05,
          97,
          77,
          79.5,
          80,
          74,
          75,
          75.6,
          70.5,
          56,
          86,
          41.2,
          61,
          59,
          75.5,
          61.5,
          54.3,
          89.5,
          70,
          69,
          56.5,
          50.2,
          60,
          65.21,
          54,
          65,
          68,
          68,
          72,
          70.5,
          46,
          101.5,
          94.5,
          86.5,
          65.5,
          62,
          43,
          63.5,
          60.5,
          50,
          75,
          67,
          68.5,
          60,
          74,
          70,
          72,
          48.2,
          105,
          78,
          69.5,
          65.8,
          68,
          60,
          47.5,
          85,
          75.5,
          56.5,
          90,
          78.5,
          52,
          55,
          74,
          63.5,
          68.2,
          82.4,
          50,
          53,
          55,
          45,
          82.5,
          67.12,
          59.5,
          58.5,
          70.2,
          75,
          78.8,
          65,
          72.5,
          80,
          65,
          68.5,
          70,
          65,
          65.5,
          85,
          50,
          135,
          75,
          68,
          75.45,
          68.5,
          52,
          100,
          60,
          68,
          65,
          70,
          60.2,
          57,
          65.7,
          74,
          63,
          80,
          70.85,
          65,
          85,
          60,
          46.5,
          56.61,
          110,
          63.5,
          88,
          68,
          61,
          55,
          53,
          50,
          70,
          48,
          85,
          79,
          66,
          84,
          56,
          40,
          76.6,
          80,
          78.5,
          58,
          48,
          53,
          42,
          90,
          90,
          54.5,
          52.1,
          48,
          85,
          59.5,
          72.5,
          58,
          68,
          46,
          54,
          114,
          92.4,
          72,
          51,
          58,
          87,
          49,
          64,
          74,
          86,
          65,
          82,
          46.9,
          50.2,
          70,
          45,
          48,
          54.5,
          72,
          55,
          58,
          88.8,
          65,
          46,
          45.5,
          69.1,
          58,
          66.5,
          92,
          90,
          31.75,
          65.6,
          67,
          64,
          58,
          92,
          80,
          65,
          86.34,
          75,
          70,
          64,
          52.1,
          85.5,
          76,
          60,
          67.5,
          80.2,
          60.5,
          60,
          60.5,
          78,
          90,
          55.5,
          70,
          72,
          70.5,
          54,
          66,
          84,
          68.7,
          68.5,
          78,
          50,
          50,
          55,
          64,
          67,
          85,
          66.5,
          75,
          70,
          48,
          60,
          75.55,
          70,
          70.5,
          83.4,
          60,
          86,
          54.5
         ],
         "xaxis": "x",
         "y": [
          38,
          25,
          31.34,
          33,
          27,
          36,
          0,
          22.2,
          27,
          22.5,
          24,
          33,
          33,
          25,
          31,
          33,
          21,
          24,
          30,
          25,
          33,
          26,
          27.9,
          29,
          21,
          23,
          24.3,
          26,
          31,
          31,
          33,
          20,
          26,
          28,
          29,
          27,
          18,
          28,
          25,
          36,
          38,
          35,
          32,
          26.5,
          21,
          33,
          25,
          27.75,
          26,
          30,
          28,
          19.5,
          29.8,
          21,
          33,
          35,
          39,
          28,
          29,
          32.2,
          23.99,
          24.6,
          25,
          20,
          0,
          22,
          26,
          27.9,
          18,
          24,
          25,
          19,
          30.4,
          22,
          32,
          31,
          28,
          27,
          32.8,
          25,
          26.5,
          40,
          42,
          90,
          23,
          21,
          25,
          20,
          26.11,
          24,
          43,
          24,
          22.6,
          27,
          24,
          26,
          29.25,
          26,
          41,
          37,
          30,
          29,
          29,
          20,
          29,
          44.8,
          27.5,
          25,
          23,
          30,
          21,
          26,
          27,
          39.5,
          30.5,
          2,
          29,
          29,
          29,
          22,
          27,
          24,
          24,
          26,
          25,
          31.2,
          51,
          28,
          33,
          23.5,
          26,
          31.8,
          23,
          25,
          27,
          28.1,
          21,
          28,
          25,
          21.6,
          22,
          32,
          28,
          27,
          25,
          26,
          33,
          30,
          24.1,
          26,
          22,
          25,
          33,
          19,
          26,
          26,
          34,
          24,
          22,
          19.8,
          22,
          22,
          30.4,
          20,
          23,
          30.1,
          29,
          31.5,
          20,
          23,
          21,
          38,
          25,
          30,
          26,
          28,
          40,
          30,
          28,
          31,
          23,
          29,
          23,
          24,
          25.2,
          23,
          20,
          30,
          26,
          19,
          24,
          25,
          24,
          29,
          27,
          23,
          25,
          26.3,
          26.95,
          33,
          30,
          23,
          29,
          33,
          21,
          27.5,
          24.6,
          27,
          28,
          34.9,
          22,
          25,
          23,
          20,
          23,
          22.9,
          22,
          32,
          32,
          29,
          28,
          24,
          30.5,
          31,
          35,
          35.11,
          23,
          22,
          20,
          25,
          31,
          46.4,
          30,
          21,
          21,
          31,
          23.4,
          32,
          22,
          68,
          25,
          29,
          25,
          21,
          21,
          0,
          31,
          43,
          22,
          25,
          25,
          32,
          24,
          25,
          35,
          29,
          42,
          26,
          34,
          32,
          26.5,
          32,
          27,
          26,
          31,
          28,
          26,
          37,
          26,
          27.3,
          29,
          31,
          22,
          26,
          21,
          22,
          32,
          27.5,
          25,
          25,
          40.1,
          42,
          22,
          26,
          21,
          32.7,
          26,
          21,
          26.5,
          33,
          27,
          19,
          31,
          35,
          29,
          30,
          28,
          32,
          20,
          24,
          29,
          38,
          26.6,
          36,
          27,
          23,
          26,
          32,
          20,
          27,
          32,
          29,
          25,
          28,
          22,
          24,
          30,
          24,
          28,
          33,
          22.8,
          29,
          31
         ],
         "yaxis": "y"
        },
        {
         "hovertemplate": "Location=West<br>Weight_in_kg=%{x}<br>Age=%{y}<br>Working experience=%{marker.size}<extra></extra>",
         "legendgroup": "West",
         "marker": {
          "color": "#EF553B",
          "size": [
           4,
           0.5,
           3,
           2,
           2,
           4.5,
           4,
           8.5,
           6,
           1.2,
           2.5,
           20,
           0,
           2,
           8.5,
           0,
           6,
           3,
           10,
           1,
           2,
           6,
           1.3,
           8,
           1,
           0,
           0,
           3,
           2,
           0,
           4.5,
           10.5,
           5,
           1,
           0,
           1.5
          ],
          "sizemode": "area",
          "sizeref": 0.019753086419753086,
          "symbol": "circle"
         },
         "mode": "markers",
         "name": "West",
         "orientation": "v",
         "showlegend": true,
         "type": "scatter",
         "x": [
          100,
          84,
          64.21,
          69,
          80,
          68.3,
          72.5,
          87.5,
          60,
          68.3,
          77.5,
          82.5,
          55.2,
          52.27,
          82.27,
          57,
          71.5,
          70,
          70.5,
          68,
          72,
          161,
          58.1,
          84,
          65,
          30.5,
          60,
          65,
          45,
          55,
          65,
          79.75,
          65,
          75,
          63,
          85
         ],
         "xaxis": "x",
         "y": [
          27,
          24,
          28,
          25,
          31,
          28,
          32.75,
          34,
          32,
          28.11,
          29,
          43,
          19,
          25,
          34.25,
          27,
          31.5,
          28,
          34,
          33,
          31,
          28,
          31.04,
          35,
          26,
          14.2,
          16,
          28,
          11,
          24,
          37,
          10.5,
          29,
          25,
          31,
          28
         ],
         "yaxis": "y"
        },
        {
         "hovertemplate": "Location=East<br>Weight_in_kg=%{x}<br>Age=%{y}<br>Working experience=%{marker.size}<extra></extra>",
         "legendgroup": "East",
         "marker": {
          "color": "#00cc96",
          "size": [
           3,
           2.5,
           0.6,
           4.5,
           8.4,
           6,
           2.5,
           4,
           2.3,
           5,
           2,
           3.5,
           0,
           2
          ],
          "sizemode": "area",
          "sizeref": 0.019753086419753086,
          "symbol": "circle"
         },
         "mode": "markers",
         "name": "East",
         "orientation": "v",
         "showlegend": true,
         "type": "scatter",
         "x": [
          78,
          68.5,
          74.5,
          65.5,
          97.5,
          85,
          71.2,
          104.5,
          56.9,
          90.2,
          70,
          78.5,
          64,
          82
         ],
         "xaxis": "x",
         "y": [
          25,
          25,
          30,
          30,
          33.9,
          30,
          26.3,
          27,
          30,
          26,
          29,
          36.5,
          20,
          29
         ],
         "yaxis": "y"
        },
        {
         "hovertemplate": "Location=India<br>Weight_in_kg=%{x}<br>Age=%{y}<br>Working experience=%{marker.size}<extra></extra>",
         "legendgroup": "India",
         "marker": {
          "color": "#ab63fa",
          "size": [
           0,
           4
          ],
          "sizemode": "area",
          "sizeref": 0.019753086419753086,
          "symbol": "circle"
         },
         "mode": "markers",
         "name": "India",
         "orientation": "v",
         "showlegend": true,
         "type": "scatter",
         "x": [
          55,
          61
         ],
         "xaxis": "x",
         "y": [
          24,
          30
         ],
         "yaxis": "y"
        }
       ],
       "layout": {
        "legend": {
         "itemsizing": "constant",
         "orientation": "h",
         "title": {
          "text": "Location"
         },
         "tracegroupgap": 0,
         "x": 1,
         "xanchor": "right",
         "y": 1,
         "yanchor": "bottom"
        },
        "margin": {
         "t": 60
        },
        "template": {
         "data": {
          "bar": [
           {
            "error_x": {
             "color": "#2a3f5f"
            },
            "error_y": {
             "color": "#2a3f5f"
            },
            "marker": {
             "line": {
              "color": "#E5ECF6",
              "width": 0.5
             },
             "pattern": {
              "fillmode": "overlay",
              "size": 10,
              "solidity": 0.2
             }
            },
            "type": "bar"
           }
          ],
          "barpolar": [
           {
            "marker": {
             "line": {
              "color": "#E5ECF6",
              "width": 0.5
             },
             "pattern": {
              "fillmode": "overlay",
              "size": 10,
              "solidity": 0.2
             }
            },
            "type": "barpolar"
           }
          ],
          "carpet": [
           {
            "aaxis": {
             "endlinecolor": "#2a3f5f",
             "gridcolor": "white",
             "linecolor": "white",
             "minorgridcolor": "white",
             "startlinecolor": "#2a3f5f"
            },
            "baxis": {
             "endlinecolor": "#2a3f5f",
             "gridcolor": "white",
             "linecolor": "white",
             "minorgridcolor": "white",
             "startlinecolor": "#2a3f5f"
            },
            "type": "carpet"
           }
          ],
          "choropleth": [
           {
            "colorbar": {
             "outlinewidth": 0,
             "ticks": ""
            },
            "type": "choropleth"
           }
          ],
          "contour": [
           {
            "colorbar": {
             "outlinewidth": 0,
             "ticks": ""
            },
            "colorscale": [
             [
              0,
              "#0d0887"
             ],
             [
              0.1111111111111111,
              "#46039f"
             ],
             [
              0.2222222222222222,
              "#7201a8"
             ],
             [
              0.3333333333333333,
              "#9c179e"
             ],
             [
              0.4444444444444444,
              "#bd3786"
             ],
             [
              0.5555555555555556,
              "#d8576b"
             ],
             [
              0.6666666666666666,
              "#ed7953"
             ],
             [
              0.7777777777777778,
              "#fb9f3a"
             ],
             [
              0.8888888888888888,
              "#fdca26"
             ],
             [
              1,
              "#f0f921"
             ]
            ],
            "type": "contour"
           }
          ],
          "contourcarpet": [
           {
            "colorbar": {
             "outlinewidth": 0,
             "ticks": ""
            },
            "type": "contourcarpet"
           }
          ],
          "heatmap": [
           {
            "colorbar": {
             "outlinewidth": 0,
             "ticks": ""
            },
            "colorscale": [
             [
              0,
              "#0d0887"
             ],
             [
              0.1111111111111111,
              "#46039f"
             ],
             [
              0.2222222222222222,
              "#7201a8"
             ],
             [
              0.3333333333333333,
              "#9c179e"
             ],
             [
              0.4444444444444444,
              "#bd3786"
             ],
             [
              0.5555555555555556,
              "#d8576b"
             ],
             [
              0.6666666666666666,
              "#ed7953"
             ],
             [
              0.7777777777777778,
              "#fb9f3a"
             ],
             [
              0.8888888888888888,
              "#fdca26"
             ],
             [
              1,
              "#f0f921"
             ]
            ],
            "type": "heatmap"
           }
          ],
          "heatmapgl": [
           {
            "colorbar": {
             "outlinewidth": 0,
             "ticks": ""
            },
            "colorscale": [
             [
              0,
              "#0d0887"
             ],
             [
              0.1111111111111111,
              "#46039f"
             ],
             [
              0.2222222222222222,
              "#7201a8"
             ],
             [
              0.3333333333333333,
              "#9c179e"
             ],
             [
              0.4444444444444444,
              "#bd3786"
             ],
             [
              0.5555555555555556,
              "#d8576b"
             ],
             [
              0.6666666666666666,
              "#ed7953"
             ],
             [
              0.7777777777777778,
              "#fb9f3a"
             ],
             [
              0.8888888888888888,
              "#fdca26"
             ],
             [
              1,
              "#f0f921"
             ]
            ],
            "type": "heatmapgl"
           }
          ],
          "histogram": [
           {
            "marker": {
             "pattern": {
              "fillmode": "overlay",
              "size": 10,
              "solidity": 0.2
             }
            },
            "type": "histogram"
           }
          ],
          "histogram2d": [
           {
            "colorbar": {
             "outlinewidth": 0,
             "ticks": ""
            },
            "colorscale": [
             [
              0,
              "#0d0887"
             ],
             [
              0.1111111111111111,
              "#46039f"
             ],
             [
              0.2222222222222222,
              "#7201a8"
             ],
             [
              0.3333333333333333,
              "#9c179e"
             ],
             [
              0.4444444444444444,
              "#bd3786"
             ],
             [
              0.5555555555555556,
              "#d8576b"
             ],
             [
              0.6666666666666666,
              "#ed7953"
             ],
             [
              0.7777777777777778,
              "#fb9f3a"
             ],
             [
              0.8888888888888888,
              "#fdca26"
             ],
             [
              1,
              "#f0f921"
             ]
            ],
            "type": "histogram2d"
           }
          ],
          "histogram2dcontour": [
           {
            "colorbar": {
             "outlinewidth": 0,
             "ticks": ""
            },
            "colorscale": [
             [
              0,
              "#0d0887"
             ],
             [
              0.1111111111111111,
              "#46039f"
             ],
             [
              0.2222222222222222,
              "#7201a8"
             ],
             [
              0.3333333333333333,
              "#9c179e"
             ],
             [
              0.4444444444444444,
              "#bd3786"
             ],
             [
              0.5555555555555556,
              "#d8576b"
             ],
             [
              0.6666666666666666,
              "#ed7953"
             ],
             [
              0.7777777777777778,
              "#fb9f3a"
             ],
             [
              0.8888888888888888,
              "#fdca26"
             ],
             [
              1,
              "#f0f921"
             ]
            ],
            "type": "histogram2dcontour"
           }
          ],
          "mesh3d": [
           {
            "colorbar": {
             "outlinewidth": 0,
             "ticks": ""
            },
            "type": "mesh3d"
           }
          ],
          "parcoords": [
           {
            "line": {
             "colorbar": {
              "outlinewidth": 0,
              "ticks": ""
             }
            },
            "type": "parcoords"
           }
          ],
          "pie": [
           {
            "automargin": true,
            "type": "pie"
           }
          ],
          "scatter": [
           {
            "marker": {
             "colorbar": {
              "outlinewidth": 0,
              "ticks": ""
             }
            },
            "type": "scatter"
           }
          ],
          "scatter3d": [
           {
            "line": {
             "colorbar": {
              "outlinewidth": 0,
              "ticks": ""
             }
            },
            "marker": {
             "colorbar": {
              "outlinewidth": 0,
              "ticks": ""
             }
            },
            "type": "scatter3d"
           }
          ],
          "scattercarpet": [
           {
            "marker": {
             "colorbar": {
              "outlinewidth": 0,
              "ticks": ""
             }
            },
            "type": "scattercarpet"
           }
          ],
          "scattergeo": [
           {
            "marker": {
             "colorbar": {
              "outlinewidth": 0,
              "ticks": ""
             }
            },
            "type": "scattergeo"
           }
          ],
          "scattergl": [
           {
            "marker": {
             "colorbar": {
              "outlinewidth": 0,
              "ticks": ""
             }
            },
            "type": "scattergl"
           }
          ],
          "scattermapbox": [
           {
            "marker": {
             "colorbar": {
              "outlinewidth": 0,
              "ticks": ""
             }
            },
            "type": "scattermapbox"
           }
          ],
          "scatterpolar": [
           {
            "marker": {
             "colorbar": {
              "outlinewidth": 0,
              "ticks": ""
             }
            },
            "type": "scatterpolar"
           }
          ],
          "scatterpolargl": [
           {
            "marker": {
             "colorbar": {
              "outlinewidth": 0,
              "ticks": ""
             }
            },
            "type": "scatterpolargl"
           }
          ],
          "scatterternary": [
           {
            "marker": {
             "colorbar": {
              "outlinewidth": 0,
              "ticks": ""
             }
            },
            "type": "scatterternary"
           }
          ],
          "surface": [
           {
            "colorbar": {
             "outlinewidth": 0,
             "ticks": ""
            },
            "colorscale": [
             [
              0,
              "#0d0887"
             ],
             [
              0.1111111111111111,
              "#46039f"
             ],
             [
              0.2222222222222222,
              "#7201a8"
             ],
             [
              0.3333333333333333,
              "#9c179e"
             ],
             [
              0.4444444444444444,
              "#bd3786"
             ],
             [
              0.5555555555555556,
              "#d8576b"
             ],
             [
              0.6666666666666666,
              "#ed7953"
             ],
             [
              0.7777777777777778,
              "#fb9f3a"
             ],
             [
              0.8888888888888888,
              "#fdca26"
             ],
             [
              1,
              "#f0f921"
             ]
            ],
            "type": "surface"
           }
          ],
          "table": [
           {
            "cells": {
             "fill": {
              "color": "#EBF0F8"
             },
             "line": {
              "color": "white"
             }
            },
            "header": {
             "fill": {
              "color": "#C8D4E3"
             },
             "line": {
              "color": "white"
             }
            },
            "type": "table"
           }
          ]
         },
         "layout": {
          "annotationdefaults": {
           "arrowcolor": "#2a3f5f",
           "arrowhead": 0,
           "arrowwidth": 1
          },
          "autotypenumbers": "strict",
          "coloraxis": {
           "colorbar": {
            "outlinewidth": 0,
            "ticks": ""
           }
          },
          "colorscale": {
           "diverging": [
            [
             0,
             "#8e0152"
            ],
            [
             0.1,
             "#c51b7d"
            ],
            [
             0.2,
             "#de77ae"
            ],
            [
             0.3,
             "#f1b6da"
            ],
            [
             0.4,
             "#fde0ef"
            ],
            [
             0.5,
             "#f7f7f7"
            ],
            [
             0.6,
             "#e6f5d0"
            ],
            [
             0.7,
             "#b8e186"
            ],
            [
             0.8,
             "#7fbc41"
            ],
            [
             0.9,
             "#4d9221"
            ],
            [
             1,
             "#276419"
            ]
           ],
           "sequential": [
            [
             0,
             "#0d0887"
            ],
            [
             0.1111111111111111,
             "#46039f"
            ],
            [
             0.2222222222222222,
             "#7201a8"
            ],
            [
             0.3333333333333333,
             "#9c179e"
            ],
            [
             0.4444444444444444,
             "#bd3786"
            ],
            [
             0.5555555555555556,
             "#d8576b"
            ],
            [
             0.6666666666666666,
             "#ed7953"
            ],
            [
             0.7777777777777778,
             "#fb9f3a"
            ],
            [
             0.8888888888888888,
             "#fdca26"
            ],
            [
             1,
             "#f0f921"
            ]
           ],
           "sequentialminus": [
            [
             0,
             "#0d0887"
            ],
            [
             0.1111111111111111,
             "#46039f"
            ],
            [
             0.2222222222222222,
             "#7201a8"
            ],
            [
             0.3333333333333333,
             "#9c179e"
            ],
            [
             0.4444444444444444,
             "#bd3786"
            ],
            [
             0.5555555555555556,
             "#d8576b"
            ],
            [
             0.6666666666666666,
             "#ed7953"
            ],
            [
             0.7777777777777778,
             "#fb9f3a"
            ],
            [
             0.8888888888888888,
             "#fdca26"
            ],
            [
             1,
             "#f0f921"
            ]
           ]
          },
          "colorway": [
           "#636efa",
           "#EF553B",
           "#00cc96",
           "#ab63fa",
           "#FFA15A",
           "#19d3f3",
           "#FF6692",
           "#B6E880",
           "#FF97FF",
           "#FECB52"
          ],
          "font": {
           "color": "#2a3f5f"
          },
          "geo": {
           "bgcolor": "white",
           "lakecolor": "white",
           "landcolor": "#E5ECF6",
           "showlakes": true,
           "showland": true,
           "subunitcolor": "white"
          },
          "hoverlabel": {
           "align": "left"
          },
          "hovermode": "closest",
          "mapbox": {
           "style": "light"
          },
          "paper_bgcolor": "white",
          "plot_bgcolor": "#E5ECF6",
          "polar": {
           "angularaxis": {
            "gridcolor": "white",
            "linecolor": "white",
            "ticks": ""
           },
           "bgcolor": "#E5ECF6",
           "radialaxis": {
            "gridcolor": "white",
            "linecolor": "white",
            "ticks": ""
           }
          },
          "scene": {
           "xaxis": {
            "backgroundcolor": "#E5ECF6",
            "gridcolor": "white",
            "gridwidth": 2,
            "linecolor": "white",
            "showbackground": true,
            "ticks": "",
            "zerolinecolor": "white"
           },
           "yaxis": {
            "backgroundcolor": "#E5ECF6",
            "gridcolor": "white",
            "gridwidth": 2,
            "linecolor": "white",
            "showbackground": true,
            "ticks": "",
            "zerolinecolor": "white"
           },
           "zaxis": {
            "backgroundcolor": "#E5ECF6",
            "gridcolor": "white",
            "gridwidth": 2,
            "linecolor": "white",
            "showbackground": true,
            "ticks": "",
            "zerolinecolor": "white"
           }
          },
          "shapedefaults": {
           "line": {
            "color": "#2a3f5f"
           }
          },
          "ternary": {
           "aaxis": {
            "gridcolor": "white",
            "linecolor": "white",
            "ticks": ""
           },
           "baxis": {
            "gridcolor": "white",
            "linecolor": "white",
            "ticks": ""
           },
           "bgcolor": "#E5ECF6",
           "caxis": {
            "gridcolor": "white",
            "linecolor": "white",
            "ticks": ""
           }
          },
          "title": {
           "x": 0.05
          },
          "xaxis": {
           "automargin": true,
           "gridcolor": "white",
           "linecolor": "white",
           "ticks": "",
           "title": {
            "standoff": 15
           },
           "zerolinecolor": "white",
           "zerolinewidth": 2
          },
          "yaxis": {
           "automargin": true,
           "gridcolor": "white",
           "linecolor": "white",
           "ticks": "",
           "title": {
            "standoff": 15
           },
           "zerolinecolor": "white",
           "zerolinewidth": 2
          }
         }
        },
        "xaxis": {
         "anchor": "y",
         "domain": [
          0,
          1
         ],
         "title": {
          "text": "Weight_in_kg"
         },
         "type": "log"
        },
        "yaxis": {
         "anchor": "x",
         "domain": [
          0,
          1
         ],
         "title": {
          "text": "Age"
         }
        }
       }
      },
      "text/html": [
       "<div>                            <div id=\"a3f1797e-6048-4d5a-a985-f58bae10f187\" class=\"plotly-graph-div\" style=\"height:525px; width:100%;\"></div>            <script type=\"text/javascript\">                require([\"plotly\"], function(Plotly) {                    window.PLOTLYENV=window.PLOTLYENV || {};                                    if (document.getElementById(\"a3f1797e-6048-4d5a-a985-f58bae10f187\")) {                    Plotly.newPlot(                        \"a3f1797e-6048-4d5a-a985-f58bae10f187\",                        [{\"hovertemplate\":\"Location=Pakistan<br>Weight_in_kg=%{x}<br>Age=%{y}<br>Working experience=%{marker.size}<extra></extra>\",\"legendgroup\":\"Pakistan\",\"marker\":{\"color\":\"#636efa\",\"size\":[5.0,1.0,5.5,5.0,3.5,15.0,0.0,0.5,2.0,1.0,2.0,2.0,5.5,0.0,2.5,2.0,0.0,0.0,9.0,3.1,4.0,1.0,4.0,0.0,0.0,0.0,0.2,3.0,0.0,14.0,4.0,0.0,1.5,7.0,0.0,2.0,0.0,3.0,2.5,12.0,5.0,9.5,4.5,2.0,0.0,5.0,3.5,2.5,2.0,4.0,5.0,0.5,3.0,0.0,7.5,7.0,0.0,4.0,3.0,10.2,0.0,1.0,1.0,1.0,0.0,0.0,2.0,3.5,0.0,1.0,0.0,2.0,8.0,0.0,7.5,8.0,4.0,5.0,4.5,0.0,1.5,2.0,17.0,0.0,1.5,0.0,0.6,0.0,3.5,1.5,4.0,3.0,1.5,2.0,1.0,1.0,6.5,2.5,13.0,10.0,3.8,5.0,1.0,0.0,1.0,20.5,0.0,0.0,0.0,1.3,0.0,1.0,1.0,0.0,1.5,2.0,0.0,5.9,2.0,0.0,4.0,2.0,0.0,2.0,1.0,5.5,20.0,5.0,5.0,0.0,4.5,0.5,0.0,2.0,2.0,2.5,0.0,1.0,2.0,0.0,0.5,6.0,7.0,0.0,1.0,1.0,8.0,2.0,1.0,4.0,0.0,0.0,7.0,0.0,3.0,1.0,2.5,1.0,0.0,0.0,0.0,1.0,4.5,0.0,0.0,3.2,1.0,3.5,0.0,0.0,0.0,4.0,1.0,3.0,1.0,4.0,2.0,1.0,2.5,3.0,0.5,6.5,1.0,0.0,0.7,0.0,1.0,1.0,2.0,0.0,1.0,1.0,1.0,0.0,3.0,1.5,0.0,2.0,3.3,8.0,4.0,1.0,6.0,7.0,0.0,4.0,1.0,1.0,1.0,8.0,1.0,1.0,0.0,0.0,1.0,1.2,0.0,7.5,7.0,6.0,0.5,0.0,1.0,13.0,10.0,5.6,1.0,0.0,0.0,0.0,2.5,10.1,5.1,1.0,0.0,8.0,0.0,5.0,0.0,40.0,0.0,1.5,3.0,0.0,0.0,0.0,6.0,16.5,0.0,0.0,2.0,2.0,3.0,1.4,4.0,2.0,2.0,2.0,1.0,5.0,1.0,3.0,1.0,3.0,2.0,6.0,0.0,0.0,2.5,1.5,5.0,2.5,2.0,5.0,2.0,0.0,1.0,1.0,3.0,0.0,11.3,15.0,0.0,0.0,1.0,2.0,2.0,0.0,3.0,0.0,5.0,0.0,7.0,5.0,0.0,1.3,2.0,7.5,0.0,0.0,6.2,5.0,3.0,8.0,3.0,0.0,1.5,3.0,0.0,1.5,7.0,6.0,4.0,1.0,0.0,0.0,0.5,2.0,7.0,5.0,0.0,2.0,3.0],\"sizemode\":\"area\",\"sizeref\":0.019753086419753086,\"symbol\":\"circle\"},\"mode\":\"markers\",\"name\":\"Pakistan\",\"orientation\":\"v\",\"showlegend\":true,\"x\":[77.0,53.6,93.0,60.0,59.9,99.0,58.0,76.8,50.0,63.0,88.2,75.8,72.0,130.0,72.5,70.2,55.0,83.5,60.0,69.5,72.0,55.5,60.0,78.0,52.5,67.0,93.5,96.0,64.0,75.0,84.0,75.0,47.0,50.0,62.5,88.6,52.0,50.0,60.0,100.5,93.9,78.9,70.0,65.0,63.5,82.0,105.5,85.6,89.0,80.0,100.0,52.0,75.4,50.0,98.0,75.5,71.0,78.5,88.2,70.2,57.5,63.4,62.0,64.0,68.0,68.5,69.0,63.5,57.4,43.0,75.0,50.0,88.0,39.5,72.0,98.0,79.0,55.5,88.4,84.0,82.5,83.5,90.0,90.0,67.9,71.5,76.0,48.0,76.0,42.6,70.0,48.0,67.4,54.0,60.5,55.0,93.5,106.05,97.0,77.0,79.5,80.0,74.0,75.0,75.6,70.5,56.0,86.0,41.2,61.0,59.0,75.5,61.5,54.3,89.5,70.0,69.0,56.5,50.2,60.0,65.21,54.0,65.0,68.0,68.0,72.0,70.5,46.0,101.5,94.5,86.5,65.5,62.0,43.0,63.5,60.5,50.0,75.0,67.0,68.5,60.0,74.0,70.0,72.0,48.2,105.0,78.0,69.5,65.8,68.0,60.0,47.5,85.0,75.5,56.5,90.0,78.5,52.0,55.0,74.0,63.5,68.2,82.4,50.0,53.0,55.0,45.0,82.5,67.12,59.5,58.5,70.2,75.0,78.8,65.0,72.5,80.0,65.0,68.5,70.0,65.0,65.5,85.0,50.0,135.0,75.0,68.0,75.45,68.5,52.0,100.0,60.0,68.0,65.0,70.0,60.2,57.0,65.7,74.0,63.0,80.0,70.85,65.0,85.0,60.0,46.5,56.61,110.0,63.5,88.0,68.0,61.0,55.0,53.0,50.0,70.0,48.0,85.0,79.0,66.0,84.0,56.0,40.0,76.6,80.0,78.5,58.0,48.0,53.0,42.0,90.0,90.0,54.5,52.1,48.0,85.0,59.5,72.5,58.0,68.0,46.0,54.0,114.0,92.4,72.0,51.0,58.0,87.0,49.0,64.0,74.0,86.0,65.0,82.0,46.9,50.2,70.0,45.0,48.0,54.5,72.0,55.0,58.0,88.8,65.0,46.0,45.5,69.1,58.0,66.5,92.0,90.0,31.75,65.6,67.0,64.0,58.0,92.0,80.0,65.0,86.34,75.0,70.0,64.0,52.1,85.5,76.0,60.0,67.5,80.2,60.5,60.0,60.5,78.0,90.0,55.5,70.0,72.0,70.5,54.0,66.0,84.0,68.7,68.5,78.0,50.0,50.0,55.0,64.0,67.0,85.0,66.5,75.0,70.0,48.0,60.0,75.55,70.0,70.5,83.4,60.0,86.0,54.5],\"xaxis\":\"x\",\"y\":[38.0,25.0,31.34,33.0,27.0,36.0,0.0,22.2,27.0,22.5,24.0,33.0,33.0,25.0,31.0,33.0,21.0,24.0,30.0,25.0,33.0,26.0,27.9,29.0,21.0,23.0,24.3,26.0,31.0,31.0,33.0,20.0,26.0,28.0,29.0,27.0,18.0,28.0,25.0,36.0,38.0,35.0,32.0,26.5,21.0,33.0,25.0,27.75,26.0,30.0,28.0,19.5,29.8,21.0,33.0,35.0,39.0,28.0,29.0,32.2,23.99,24.6,25.0,20.0,0.0,22.0,26.0,27.9,18.0,24.0,25.0,19.0,30.4,22.0,32.0,31.0,28.0,27.0,32.8,25.0,26.5,40.0,42.0,90.0,23.0,21.0,25.0,20.0,26.11,24.0,43.0,24.0,22.6,27.0,24.0,26.0,29.25,26.0,41.0,37.0,30.0,29.0,29.0,20.0,29.0,44.8,27.5,25.0,23.0,30.0,21.0,26.0,27.0,39.5,30.5,2.0,29.0,29.0,29.0,22.0,27.0,24.0,24.0,26.0,25.0,31.2,51.0,28.0,33.0,23.5,26.0,31.8,23.0,25.0,27.0,28.1,21.0,28.0,25.0,21.6,22.0,32.0,28.0,27.0,25.0,26.0,33.0,30.0,24.1,26.0,22.0,25.0,33.0,19.0,26.0,26.0,34.0,24.0,22.0,19.8,22.0,22.0,30.4,20.0,23.0,30.1,29.0,31.5,20.0,23.0,21.0,38.0,25.0,30.0,26.0,28.0,40.0,30.0,28.0,31.0,23.0,29.0,23.0,24.0,25.2,23.0,20.0,30.0,26.0,19.0,24.0,25.0,24.0,29.0,27.0,23.0,25.0,26.3,26.95,33.0,30.0,23.0,29.0,33.0,21.0,27.5,24.6,27.0,28.0,34.9,22.0,25.0,23.0,20.0,23.0,22.9,22.0,32.0,32.0,29.0,28.0,24.0,30.5,31.0,35.0,35.11,23.0,22.0,20.0,25.0,31.0,46.4,30.0,21.0,21.0,31.0,23.4,32.0,22.0,68.0,25.0,29.0,25.0,21.0,21.0,0.0,31.0,43.0,22.0,25.0,25.0,32.0,24.0,25.0,35.0,29.0,42.0,26.0,34.0,32.0,26.5,32.0,27.0,26.0,31.0,28.0,26.0,37.0,26.0,27.3,29.0,31.0,22.0,26.0,21.0,22.0,32.0,27.5,25.0,25.0,40.1,42.0,22.0,26.0,21.0,32.7,26.0,21.0,26.5,33.0,27.0,19.0,31.0,35.0,29.0,30.0,28.0,32.0,20.0,24.0,29.0,38.0,26.6,36.0,27.0,23.0,26.0,32.0,20.0,27.0,32.0,29.0,25.0,28.0,22.0,24.0,30.0,24.0,28.0,33.0,22.8,29.0,31.0],\"yaxis\":\"y\",\"type\":\"scatter\"},{\"hovertemplate\":\"Location=West<br>Weight_in_kg=%{x}<br>Age=%{y}<br>Working experience=%{marker.size}<extra></extra>\",\"legendgroup\":\"West\",\"marker\":{\"color\":\"#EF553B\",\"size\":[4.0,0.5,3.0,2.0,2.0,4.5,4.0,8.5,6.0,1.2,2.5,20.0,0.0,2.0,8.5,0.0,6.0,3.0,10.0,1.0,2.0,6.0,1.3,8.0,1.0,0.0,0.0,3.0,2.0,0.0,4.5,10.5,5.0,1.0,0.0,1.5],\"sizemode\":\"area\",\"sizeref\":0.019753086419753086,\"symbol\":\"circle\"},\"mode\":\"markers\",\"name\":\"West\",\"orientation\":\"v\",\"showlegend\":true,\"x\":[100.0,84.0,64.21,69.0,80.0,68.3,72.5,87.5,60.0,68.3,77.5,82.5,55.2,52.27,82.27,57.0,71.5,70.0,70.5,68.0,72.0,161.0,58.1,84.0,65.0,30.5,60.0,65.0,45.0,55.0,65.0,79.75,65.0,75.0,63.0,85.0],\"xaxis\":\"x\",\"y\":[27.0,24.0,28.0,25.0,31.0,28.0,32.75,34.0,32.0,28.11,29.0,43.0,19.0,25.0,34.25,27.0,31.5,28.0,34.0,33.0,31.0,28.0,31.04,35.0,26.0,14.2,16.0,28.0,11.0,24.0,37.0,10.5,29.0,25.0,31.0,28.0],\"yaxis\":\"y\",\"type\":\"scatter\"},{\"hovertemplate\":\"Location=East<br>Weight_in_kg=%{x}<br>Age=%{y}<br>Working experience=%{marker.size}<extra></extra>\",\"legendgroup\":\"East\",\"marker\":{\"color\":\"#00cc96\",\"size\":[3.0,2.5,0.6,4.5,8.4,6.0,2.5,4.0,2.3,5.0,2.0,3.5,0.0,2.0],\"sizemode\":\"area\",\"sizeref\":0.019753086419753086,\"symbol\":\"circle\"},\"mode\":\"markers\",\"name\":\"East\",\"orientation\":\"v\",\"showlegend\":true,\"x\":[78.0,68.5,74.5,65.5,97.5,85.0,71.2,104.5,56.9,90.2,70.0,78.5,64.0,82.0],\"xaxis\":\"x\",\"y\":[25.0,25.0,30.0,30.0,33.9,30.0,26.3,27.0,30.0,26.0,29.0,36.5,20.0,29.0],\"yaxis\":\"y\",\"type\":\"scatter\"},{\"hovertemplate\":\"Location=India<br>Weight_in_kg=%{x}<br>Age=%{y}<br>Working experience=%{marker.size}<extra></extra>\",\"legendgroup\":\"India\",\"marker\":{\"color\":\"#ab63fa\",\"size\":[0.0,4.0],\"sizemode\":\"area\",\"sizeref\":0.019753086419753086,\"symbol\":\"circle\"},\"mode\":\"markers\",\"name\":\"India\",\"orientation\":\"v\",\"showlegend\":true,\"x\":[55.0,61.0],\"xaxis\":\"x\",\"y\":[24.0,30.0],\"yaxis\":\"y\",\"type\":\"scatter\"}],                        {\"template\":{\"data\":{\"bar\":[{\"error_x\":{\"color\":\"#2a3f5f\"},\"error_y\":{\"color\":\"#2a3f5f\"},\"marker\":{\"line\":{\"color\":\"#E5ECF6\",\"width\":0.5},\"pattern\":{\"fillmode\":\"overlay\",\"size\":10,\"solidity\":0.2}},\"type\":\"bar\"}],\"barpolar\":[{\"marker\":{\"line\":{\"color\":\"#E5ECF6\",\"width\":0.5},\"pattern\":{\"fillmode\":\"overlay\",\"size\":10,\"solidity\":0.2}},\"type\":\"barpolar\"}],\"carpet\":[{\"aaxis\":{\"endlinecolor\":\"#2a3f5f\",\"gridcolor\":\"white\",\"linecolor\":\"white\",\"minorgridcolor\":\"white\",\"startlinecolor\":\"#2a3f5f\"},\"baxis\":{\"endlinecolor\":\"#2a3f5f\",\"gridcolor\":\"white\",\"linecolor\":\"white\",\"minorgridcolor\":\"white\",\"startlinecolor\":\"#2a3f5f\"},\"type\":\"carpet\"}],\"choropleth\":[{\"colorbar\":{\"outlinewidth\":0,\"ticks\":\"\"},\"type\":\"choropleth\"}],\"contour\":[{\"colorbar\":{\"outlinewidth\":0,\"ticks\":\"\"},\"colorscale\":[[0.0,\"#0d0887\"],[0.1111111111111111,\"#46039f\"],[0.2222222222222222,\"#7201a8\"],[0.3333333333333333,\"#9c179e\"],[0.4444444444444444,\"#bd3786\"],[0.5555555555555556,\"#d8576b\"],[0.6666666666666666,\"#ed7953\"],[0.7777777777777778,\"#fb9f3a\"],[0.8888888888888888,\"#fdca26\"],[1.0,\"#f0f921\"]],\"type\":\"contour\"}],\"contourcarpet\":[{\"colorbar\":{\"outlinewidth\":0,\"ticks\":\"\"},\"type\":\"contourcarpet\"}],\"heatmap\":[{\"colorbar\":{\"outlinewidth\":0,\"ticks\":\"\"},\"colorscale\":[[0.0,\"#0d0887\"],[0.1111111111111111,\"#46039f\"],[0.2222222222222222,\"#7201a8\"],[0.3333333333333333,\"#9c179e\"],[0.4444444444444444,\"#bd3786\"],[0.5555555555555556,\"#d8576b\"],[0.6666666666666666,\"#ed7953\"],[0.7777777777777778,\"#fb9f3a\"],[0.8888888888888888,\"#fdca26\"],[1.0,\"#f0f921\"]],\"type\":\"heatmap\"}],\"heatmapgl\":[{\"colorbar\":{\"outlinewidth\":0,\"ticks\":\"\"},\"colorscale\":[[0.0,\"#0d0887\"],[0.1111111111111111,\"#46039f\"],[0.2222222222222222,\"#7201a8\"],[0.3333333333333333,\"#9c179e\"],[0.4444444444444444,\"#bd3786\"],[0.5555555555555556,\"#d8576b\"],[0.6666666666666666,\"#ed7953\"],[0.7777777777777778,\"#fb9f3a\"],[0.8888888888888888,\"#fdca26\"],[1.0,\"#f0f921\"]],\"type\":\"heatmapgl\"}],\"histogram\":[{\"marker\":{\"pattern\":{\"fillmode\":\"overlay\",\"size\":10,\"solidity\":0.2}},\"type\":\"histogram\"}],\"histogram2d\":[{\"colorbar\":{\"outlinewidth\":0,\"ticks\":\"\"},\"colorscale\":[[0.0,\"#0d0887\"],[0.1111111111111111,\"#46039f\"],[0.2222222222222222,\"#7201a8\"],[0.3333333333333333,\"#9c179e\"],[0.4444444444444444,\"#bd3786\"],[0.5555555555555556,\"#d8576b\"],[0.6666666666666666,\"#ed7953\"],[0.7777777777777778,\"#fb9f3a\"],[0.8888888888888888,\"#fdca26\"],[1.0,\"#f0f921\"]],\"type\":\"histogram2d\"}],\"histogram2dcontour\":[{\"colorbar\":{\"outlinewidth\":0,\"ticks\":\"\"},\"colorscale\":[[0.0,\"#0d0887\"],[0.1111111111111111,\"#46039f\"],[0.2222222222222222,\"#7201a8\"],[0.3333333333333333,\"#9c179e\"],[0.4444444444444444,\"#bd3786\"],[0.5555555555555556,\"#d8576b\"],[0.6666666666666666,\"#ed7953\"],[0.7777777777777778,\"#fb9f3a\"],[0.8888888888888888,\"#fdca26\"],[1.0,\"#f0f921\"]],\"type\":\"histogram2dcontour\"}],\"mesh3d\":[{\"colorbar\":{\"outlinewidth\":0,\"ticks\":\"\"},\"type\":\"mesh3d\"}],\"parcoords\":[{\"line\":{\"colorbar\":{\"outlinewidth\":0,\"ticks\":\"\"}},\"type\":\"parcoords\"}],\"pie\":[{\"automargin\":true,\"type\":\"pie\"}],\"scatter\":[{\"marker\":{\"colorbar\":{\"outlinewidth\":0,\"ticks\":\"\"}},\"type\":\"scatter\"}],\"scatter3d\":[{\"line\":{\"colorbar\":{\"outlinewidth\":0,\"ticks\":\"\"}},\"marker\":{\"colorbar\":{\"outlinewidth\":0,\"ticks\":\"\"}},\"type\":\"scatter3d\"}],\"scattercarpet\":[{\"marker\":{\"colorbar\":{\"outlinewidth\":0,\"ticks\":\"\"}},\"type\":\"scattercarpet\"}],\"scattergeo\":[{\"marker\":{\"colorbar\":{\"outlinewidth\":0,\"ticks\":\"\"}},\"type\":\"scattergeo\"}],\"scattergl\":[{\"marker\":{\"colorbar\":{\"outlinewidth\":0,\"ticks\":\"\"}},\"type\":\"scattergl\"}],\"scattermapbox\":[{\"marker\":{\"colorbar\":{\"outlinewidth\":0,\"ticks\":\"\"}},\"type\":\"scattermapbox\"}],\"scatterpolar\":[{\"marker\":{\"colorbar\":{\"outlinewidth\":0,\"ticks\":\"\"}},\"type\":\"scatterpolar\"}],\"scatterpolargl\":[{\"marker\":{\"colorbar\":{\"outlinewidth\":0,\"ticks\":\"\"}},\"type\":\"scatterpolargl\"}],\"scatterternary\":[{\"marker\":{\"colorbar\":{\"outlinewidth\":0,\"ticks\":\"\"}},\"type\":\"scatterternary\"}],\"surface\":[{\"colorbar\":{\"outlinewidth\":0,\"ticks\":\"\"},\"colorscale\":[[0.0,\"#0d0887\"],[0.1111111111111111,\"#46039f\"],[0.2222222222222222,\"#7201a8\"],[0.3333333333333333,\"#9c179e\"],[0.4444444444444444,\"#bd3786\"],[0.5555555555555556,\"#d8576b\"],[0.6666666666666666,\"#ed7953\"],[0.7777777777777778,\"#fb9f3a\"],[0.8888888888888888,\"#fdca26\"],[1.0,\"#f0f921\"]],\"type\":\"surface\"}],\"table\":[{\"cells\":{\"fill\":{\"color\":\"#EBF0F8\"},\"line\":{\"color\":\"white\"}},\"header\":{\"fill\":{\"color\":\"#C8D4E3\"},\"line\":{\"color\":\"white\"}},\"type\":\"table\"}]},\"layout\":{\"annotationdefaults\":{\"arrowcolor\":\"#2a3f5f\",\"arrowhead\":0,\"arrowwidth\":1},\"autotypenumbers\":\"strict\",\"coloraxis\":{\"colorbar\":{\"outlinewidth\":0,\"ticks\":\"\"}},\"colorscale\":{\"diverging\":[[0,\"#8e0152\"],[0.1,\"#c51b7d\"],[0.2,\"#de77ae\"],[0.3,\"#f1b6da\"],[0.4,\"#fde0ef\"],[0.5,\"#f7f7f7\"],[0.6,\"#e6f5d0\"],[0.7,\"#b8e186\"],[0.8,\"#7fbc41\"],[0.9,\"#4d9221\"],[1,\"#276419\"]],\"sequential\":[[0.0,\"#0d0887\"],[0.1111111111111111,\"#46039f\"],[0.2222222222222222,\"#7201a8\"],[0.3333333333333333,\"#9c179e\"],[0.4444444444444444,\"#bd3786\"],[0.5555555555555556,\"#d8576b\"],[0.6666666666666666,\"#ed7953\"],[0.7777777777777778,\"#fb9f3a\"],[0.8888888888888888,\"#fdca26\"],[1.0,\"#f0f921\"]],\"sequentialminus\":[[0.0,\"#0d0887\"],[0.1111111111111111,\"#46039f\"],[0.2222222222222222,\"#7201a8\"],[0.3333333333333333,\"#9c179e\"],[0.4444444444444444,\"#bd3786\"],[0.5555555555555556,\"#d8576b\"],[0.6666666666666666,\"#ed7953\"],[0.7777777777777778,\"#fb9f3a\"],[0.8888888888888888,\"#fdca26\"],[1.0,\"#f0f921\"]]},\"colorway\":[\"#636efa\",\"#EF553B\",\"#00cc96\",\"#ab63fa\",\"#FFA15A\",\"#19d3f3\",\"#FF6692\",\"#B6E880\",\"#FF97FF\",\"#FECB52\"],\"font\":{\"color\":\"#2a3f5f\"},\"geo\":{\"bgcolor\":\"white\",\"lakecolor\":\"white\",\"landcolor\":\"#E5ECF6\",\"showlakes\":true,\"showland\":true,\"subunitcolor\":\"white\"},\"hoverlabel\":{\"align\":\"left\"},\"hovermode\":\"closest\",\"mapbox\":{\"style\":\"light\"},\"paper_bgcolor\":\"white\",\"plot_bgcolor\":\"#E5ECF6\",\"polar\":{\"angularaxis\":{\"gridcolor\":\"white\",\"linecolor\":\"white\",\"ticks\":\"\"},\"bgcolor\":\"#E5ECF6\",\"radialaxis\":{\"gridcolor\":\"white\",\"linecolor\":\"white\",\"ticks\":\"\"}},\"scene\":{\"xaxis\":{\"backgroundcolor\":\"#E5ECF6\",\"gridcolor\":\"white\",\"gridwidth\":2,\"linecolor\":\"white\",\"showbackground\":true,\"ticks\":\"\",\"zerolinecolor\":\"white\"},\"yaxis\":{\"backgroundcolor\":\"#E5ECF6\",\"gridcolor\":\"white\",\"gridwidth\":2,\"linecolor\":\"white\",\"showbackground\":true,\"ticks\":\"\",\"zerolinecolor\":\"white\"},\"zaxis\":{\"backgroundcolor\":\"#E5ECF6\",\"gridcolor\":\"white\",\"gridwidth\":2,\"linecolor\":\"white\",\"showbackground\":true,\"ticks\":\"\",\"zerolinecolor\":\"white\"}},\"shapedefaults\":{\"line\":{\"color\":\"#2a3f5f\"}},\"ternary\":{\"aaxis\":{\"gridcolor\":\"white\",\"linecolor\":\"white\",\"ticks\":\"\"},\"baxis\":{\"gridcolor\":\"white\",\"linecolor\":\"white\",\"ticks\":\"\"},\"bgcolor\":\"#E5ECF6\",\"caxis\":{\"gridcolor\":\"white\",\"linecolor\":\"white\",\"ticks\":\"\"}},\"title\":{\"x\":0.05},\"xaxis\":{\"automargin\":true,\"gridcolor\":\"white\",\"linecolor\":\"white\",\"ticks\":\"\",\"title\":{\"standoff\":15},\"zerolinecolor\":\"white\",\"zerolinewidth\":2},\"yaxis\":{\"automargin\":true,\"gridcolor\":\"white\",\"linecolor\":\"white\",\"ticks\":\"\",\"title\":{\"standoff\":15},\"zerolinecolor\":\"white\",\"zerolinewidth\":2}}},\"xaxis\":{\"anchor\":\"y\",\"domain\":[0.0,1.0],\"title\":{\"text\":\"Weight_in_kg\"},\"type\":\"log\"},\"yaxis\":{\"anchor\":\"x\",\"domain\":[0.0,1.0],\"title\":{\"text\":\"Age\"}},\"legend\":{\"title\":{\"text\":\"Location\"},\"tracegroupgap\":0,\"itemsizing\":\"constant\",\"orientation\":\"h\",\"yanchor\":\"bottom\",\"y\":1,\"xanchor\":\"right\",\"x\":1},\"margin\":{\"t\":60}},                        {\"responsive\": true}                    ).then(function(){\n",
       "                            \n",
       "var gd = document.getElementById('a3f1797e-6048-4d5a-a985-f58bae10f187');\n",
       "var x = new MutationObserver(function (mutations, observer) {{\n",
       "        var display = window.getComputedStyle(gd).display;\n",
       "        if (!display || display === 'none') {{\n",
       "            console.log([gd, 'removed!']);\n",
       "            Plotly.purge(gd);\n",
       "            observer.disconnect();\n",
       "        }}\n",
       "}});\n",
       "\n",
       "// Listen for the removal of the full notebook cells\n",
       "var notebookContainer = gd.closest('#notebook-container');\n",
       "if (notebookContainer) {{\n",
       "    x.observe(notebookContainer, {childList: true});\n",
       "}}\n",
       "\n",
       "// Listen for the clearing of the current output cell\n",
       "var outputEl = gd.closest('.output');\n",
       "if (outputEl) {{\n",
       "    x.observe(outputEl, {childList: true});\n",
       "}}\n",
       "\n",
       "                        })                };                });            </script>        </div>"
      ]
     },
     "metadata": {},
     "output_type": "display_data"
    }
   ],
   "source": [
    "import plotly.express as px\n",
    "import pandas as pd \n",
    "data= pd.read_csv(\"new_data.csv\")\n",
    "fig = px.scatter(data, x=\"Weight_in_kg\", y=\"Age\", color=\"Location\",\n",
    "    size=\"Working experience\", size_max=45, log_x=True)\n",
    "\n",
    "fig.update_layout(legend=dict(\n",
    "    orientation=\"h\",\n",
    "    yanchor=\"bottom\",\n",
    "    y=1,\n",
    "    xanchor=\"right\",\n",
    "    x=1\n",
    "))\n",
    "\n",
    "fig.show()"
   ]
  },
  {
   "cell_type": "markdown",
   "id": "8985e251",
   "metadata": {},
   "source": [
    "---"
   ]
  },
  {
   "cell_type": "code",
   "execution_count": 53,
   "id": "1c1ada4f",
   "metadata": {},
   "outputs": [
    {
     "data": {
      "text/plain": [
       "Text(0.5, 1.0, 'Konsi Country k loog ziada khate hain')"
      ]
     },
     "execution_count": 53,
     "metadata": {},
     "output_type": "execute_result"
    },
    {
     "data": {
      "image/png": "[encoded data removed]",
      "text/plain": [
       "<Figure size 720x720 with 1 Axes>"
      ]
     },
     "metadata": {},
     "output_type": "display_data"
    }
   ],
   "source": [
    "import seaborn as sns\n",
    "import matplotlib.pyplot as plt\n",
    "sns.set_theme(style=\"darkgrid\")\n",
    "plt.figure(figsize=(10,10))\n",
    "import pandas as pd \n",
    "my_data= pd.read_csv(\"new_data.csv\")\n",
    "sns.boxenplot(x=\"Location\", y=\"Weight_in_kg\",\n",
    "              color=\"b\",\n",
    "              scale=\"linear\", data=my_data)\n",
    "\n",
    "plt.title(\"Konsi Country k loog ziada khate hain\" ,size=25 , weight=\"bold\")"
   ]
  },
  {
   "cell_type": "markdown",
   "id": "4114e56e",
   "metadata": {},
   "source": [
    "---"
   ]
  },
  {
   "cell_type": "code",
   "execution_count": 65,
   "id": "6056fd0d",
   "metadata": {},
   "outputs": [
    {
     "data": {
      "application/vnd.plotly.v1+json": {
       "config": {
        "plotlyServerURL": "https://plot.ly"
       },
       "data": [
        {
         "hovertemplate": "Qualification=Masters<br>Location=Pakistan<br>Age=%{x}<br>Weight_in_kg=%{y}<extra></extra>",
         "legendgroup": "Masters",
         "line": {
          "color": "#636efa"
         },
         "marker": {
          "symbol": "circle"
         },
         "mode": "lines",
         "name": "Masters",
         "orientation": "v",
         "showlegend": true,
         "stackgroup": "1",
         "type": "scatter",
         "x": [
          38,
          31.34,
          33,
          27,
          36,
          0,
          27,
          33,
          31,
          27.9,
          23,
          26,
          31,
          33,
          26,
          28,
          29,
          27,
          25,
          36,
          38,
          35,
          32,
          26.5,
          27.75,
          28,
          29.8,
          33,
          35,
          28,
          32.2,
          24.6,
          0,
          27.9,
          30.4,
          31,
          27,
          32.8,
          26.5,
          40,
          42,
          24,
          43,
          26,
          29.25,
          26,
          41,
          30,
          29,
          29,
          44.8,
          27.5,
          26,
          27,
          39.5,
          29,
          29,
          29,
          24,
          25,
          28,
          33,
          23.5,
          26,
          27,
          28,
          25,
          32,
          28,
          25,
          26,
          30,
          33,
          26,
          34,
          30.4,
          30.1,
          29,
          38,
          30,
          40,
          30,
          31,
          29,
          30,
          26,
          25,
          27,
          33,
          29,
          33,
          27.5,
          27,
          34.9,
          22,
          25,
          22.9,
          28,
          30.5,
          31,
          35,
          35.11,
          23,
          31,
          46.4,
          30,
          32,
          0,
          31,
          43,
          25,
          25,
          35,
          29,
          42,
          26,
          34,
          26.5,
          32,
          27,
          26,
          26,
          37,
          26,
          27.3,
          29,
          31,
          26,
          32,
          27.5,
          42,
          26,
          33,
          31,
          35,
          29,
          28,
          38,
          32,
          25,
          22,
          30,
          28,
          29,
          31
         ],
         "xaxis": "x",
         "y": [
          77,
          93,
          60,
          59.9,
          99,
          58,
          50,
          75.8,
          72.5,
          60,
          67,
          96,
          75,
          84,
          47,
          50,
          62.5,
          88.6,
          60,
          100.5,
          93.9,
          78.9,
          70,
          65,
          85.6,
          100,
          75.4,
          98,
          75.5,
          78.5,
          70.2,
          63.4,
          68,
          63.5,
          88,
          98,
          55.5,
          88.4,
          82.5,
          83.5,
          90,
          42.6,
          70,
          55,
          93.5,
          106.05,
          97,
          79.5,
          80,
          75.6,
          70.5,
          56,
          75.5,
          61.5,
          54.3,
          69,
          56.5,
          50.2,
          54,
          68,
          46,
          101.5,
          94.5,
          86.5,
          63.5,
          75,
          67,
          74,
          70,
          48.2,
          105,
          69.5,
          85,
          56.5,
          78.5,
          82.4,
          55,
          45,
          70.2,
          78.8,
          80,
          65,
          70,
          65.5,
          75.45,
          68.5,
          60,
          70,
          63,
          65,
          85,
          46.5,
          110,
          88,
          68,
          61,
          70,
          84,
          40,
          76.6,
          80,
          78.5,
          58,
          90,
          90,
          54.5,
          72.5,
          51,
          58,
          87,
          74,
          82,
          46.9,
          50.2,
          70,
          45,
          48,
          72,
          55,
          58,
          88.8,
          45.5,
          69.1,
          58,
          66.5,
          92,
          90,
          65.6,
          58,
          92,
          75,
          76,
          80.2,
          60.5,
          78,
          90,
          70,
          84,
          55,
          75,
          48,
          75.55,
          70.5,
          86,
          54.5
         ],
         "yaxis": "y"
        },
        {
         "hovertemplate": "Qualification=Masters<br>Location=West<br>Age=%{x}<br>Weight_in_kg=%{y}<extra></extra>",
         "legendgroup": "Masters",
         "line": {
          "color": "#636efa"
         },
         "marker": {
          "symbol": "circle"
         },
         "mode": "lines",
         "name": "Masters",
         "orientation": "v",
         "showlegend": false,
         "stackgroup": "1",
         "type": "scatter",
         "x": [
          28,
          28,
          32.75,
          32,
          28.11,
          29,
          43,
          34.25,
          27,
          31.5,
          34,
          31.04,
          35,
          26,
          28,
          10.5,
          25,
          31,
          28
         ],
         "xaxis": "x",
         "y": [
          64.21,
          68.3,
          72.5,
          60,
          68.3,
          77.5,
          82.5,
          82.27,
          57,
          71.5,
          70.5,
          58.1,
          84,
          65,
          65,
          79.75,
          75,
          63,
          85
         ],
         "yaxis": "y"
        },
        {
         "hovertemplate": "Qualification=Masters<br>Location=East<br>Age=%{x}<br>Weight_in_kg=%{y}<extra></extra>",
         "legendgroup": "Masters",
         "line": {
          "color": "#636efa"
         },
         "marker": {
          "symbol": "circle"
         },
         "mode": "lines",
         "name": "Masters",
         "orientation": "v",
         "showlegend": false,
         "stackgroup": "1",
         "type": "scatter",
         "x": [
          25,
          30,
          36.5
         ],
         "xaxis": "x",
         "y": [
          68.5,
          56.9,
          78.5
         ],
         "yaxis": "y"
        },
        {
         "hovertemplate": "Qualification=Masters<br>Location=India<br>Age=%{x}<br>Weight_in_kg=%{y}<extra></extra>",
         "legendgroup": "Masters",
         "line": {
          "color": "#636efa"
         },
         "marker": {
          "symbol": "circle"
         },
         "mode": "lines",
         "name": "Masters",
         "orientation": "v",
         "showlegend": false,
         "stackgroup": "1",
         "type": "scatter",
         "x": [
          24,
          30
         ],
         "xaxis": "x",
         "y": [
          55,
          61
         ],
         "yaxis": "y"
        },
        {
         "hovertemplate": "Qualification=Bachelors<br>Location=Pakistan<br>Age=%{x}<br>Weight_in_kg=%{y}<extra></extra>",
         "legendgroup": "Bachelors",
         "line": {
          "color": "#EF553B"
         },
         "marker": {
          "symbol": "circle"
         },
         "mode": "lines",
         "name": "Bachelors",
         "orientation": "v",
         "showlegend": true,
         "stackgroup": "1",
         "type": "scatter",
         "x": [
          25,
          22.2,
          24,
          33,
          25,
          24,
          25,
          33,
          26,
          29,
          24.3,
          31,
          28,
          25,
          26,
          39,
          29,
          23.99,
          25,
          26,
          24,
          25,
          19,
          22,
          32,
          28,
          25,
          90,
          23,
          25,
          26.11,
          24,
          22.6,
          27,
          24,
          29,
          25,
          23,
          30,
          2,
          22,
          24,
          26,
          51,
          23,
          25,
          28.1,
          22,
          27,
          33,
          24.1,
          26,
          22,
          25,
          26,
          24,
          22,
          19.8,
          20,
          23,
          23,
          21,
          25,
          26,
          28,
          23,
          25.2,
          24,
          24,
          29,
          23,
          25,
          26.3,
          26.95,
          30,
          23,
          24.6,
          28,
          23,
          32,
          29,
          24,
          20,
          25,
          21,
          23.4,
          22,
          25,
          25,
          25,
          32,
          24,
          32,
          28,
          22,
          21,
          25,
          40.1,
          22,
          26,
          21,
          26.5,
          27,
          30,
          32,
          24,
          29,
          26.6,
          36,
          27,
          23,
          26,
          27,
          32,
          29,
          28,
          24,
          24,
          33,
          22.8
         ],
         "xaxis": "x",
         "y": [
          53.6,
          76.8,
          88.2,
          72,
          130,
          83.5,
          69.5,
          72,
          55.5,
          78,
          93.5,
          64,
          50,
          105.5,
          89,
          71,
          88.2,
          57.5,
          62,
          69,
          43,
          75,
          50,
          39.5,
          72,
          79,
          84,
          90,
          67.9,
          76,
          76,
          48,
          67.4,
          54,
          60.5,
          74,
          86,
          41.2,
          61,
          70,
          60,
          65,
          68,
          70.5,
          62,
          43,
          60.5,
          60,
          72,
          78,
          65.8,
          68,
          60,
          47.5,
          90,
          52,
          55,
          74,
          50,
          53,
          59.5,
          58.5,
          75,
          65,
          72.5,
          65,
          135,
          100,
          68,
          65,
          60.2,
          57,
          65.7,
          74,
          80,
          70.85,
          56.61,
          63.5,
          50,
          85,
          66,
          56,
          53,
          42,
          52.1,
          59.5,
          58,
          46,
          114,
          64,
          86,
          65,
          54.5,
          46,
          31.75,
          67,
          65,
          86.34,
          70,
          64,
          52.1,
          67.5,
          60.5,
          55.5,
          72,
          54,
          66,
          68.7,
          68.5,
          78,
          50,
          50,
          67,
          85,
          66.5,
          70,
          60,
          70,
          83.4,
          60
         ],
         "yaxis": "y"
        },
        {
         "hovertemplate": "Qualification=Bachelors<br>Location=West<br>Age=%{x}<br>Weight_in_kg=%{y}<extra></extra>",
         "legendgroup": "Bachelors",
         "line": {
          "color": "#EF553B"
         },
         "marker": {
          "symbol": "circle"
         },
         "mode": "lines",
         "name": "Bachelors",
         "orientation": "v",
         "showlegend": false,
         "stackgroup": "1",
         "type": "scatter",
         "x": [
          27,
          24,
          25,
          34,
          25,
          28,
          33,
          28,
          24
         ],
         "xaxis": "x",
         "y": [
          100,
          84,
          69,
          87.5,
          52.27,
          70,
          68,
          161,
          55
         ],
         "yaxis": "y"
        },
        {
         "hovertemplate": "Qualification=Bachelors<br>Location=East<br>Age=%{x}<br>Weight_in_kg=%{y}<extra></extra>",
         "legendgroup": "Bachelors",
         "line": {
          "color": "#EF553B"
         },
         "marker": {
          "symbol": "circle"
         },
         "mode": "lines",
         "name": "Bachelors",
         "orientation": "v",
         "showlegend": false,
         "stackgroup": "1",
         "type": "scatter",
         "x": [
          26.3,
          26,
          29,
          29
         ],
         "xaxis": "x",
         "y": [
          71.2,
          90.2,
          70,
          82
         ],
         "yaxis": "y"
        },
        {
         "hovertemplate": "Qualification=PhD<br>Location=Pakistan<br>Age=%{x}<br>Weight_in_kg=%{y}<extra></extra>",
         "legendgroup": "PhD",
         "line": {
          "color": "#00cc96"
         },
         "marker": {
          "symbol": "circle"
         },
         "mode": "lines",
         "name": "PhD",
         "orientation": "v",
         "showlegend": true,
         "stackgroup": "1",
         "type": "scatter",
         "x": [
          33,
          30,
          33,
          30,
          37,
          30.5,
          27,
          31.2,
          31.8,
          31.5,
          28,
          32,
          31,
          68,
          29,
          31,
          25,
          32.7
         ],
         "xaxis": "x",
         "y": [
          70.2,
          60,
          82,
          80,
          77,
          89.5,
          65.21,
          72,
          65.5,
          82.5,
          68.5,
          79,
          85,
          68,
          54,
          65,
          80,
          85.5
         ],
         "yaxis": "y"
        },
        {
         "hovertemplate": "Qualification=PhD<br>Location=West<br>Age=%{x}<br>Weight_in_kg=%{y}<extra></extra>",
         "legendgroup": "PhD",
         "line": {
          "color": "#00cc96"
         },
         "marker": {
          "symbol": "circle"
         },
         "mode": "lines",
         "name": "PhD",
         "orientation": "v",
         "showlegend": false,
         "stackgroup": "1",
         "type": "scatter",
         "x": [
          31,
          31,
          37,
          29
         ],
         "xaxis": "x",
         "y": [
          80,
          72,
          65,
          65
         ],
         "yaxis": "y"
        },
        {
         "hovertemplate": "Qualification=PhD<br>Location=East<br>Age=%{x}<br>Weight_in_kg=%{y}<extra></extra>",
         "legendgroup": "PhD",
         "line": {
          "color": "#00cc96"
         },
         "marker": {
          "symbol": "circle"
         },
         "mode": "lines",
         "name": "PhD",
         "orientation": "v",
         "showlegend": false,
         "stackgroup": "1",
         "type": "scatter",
         "x": [
          25,
          30,
          30,
          33.9,
          30,
          27
         ],
         "xaxis": "x",
         "y": [
          78,
          74.5,
          65.5,
          97.5,
          85,
          104.5
         ],
         "yaxis": "y"
        },
        {
         "hovertemplate": "Qualification=Pre-Bachelors<br>Location=Pakistan<br>Age=%{x}<br>Weight_in_kg=%{y}<extra></extra>",
         "legendgroup": "Pre-Bachelors",
         "line": {
          "color": "#ab63fa"
         },
         "marker": {
          "symbol": "circle"
         },
         "mode": "lines",
         "name": "Pre-Bachelors",
         "orientation": "v",
         "showlegend": true,
         "stackgroup": "1",
         "type": "scatter",
         "x": [
          22.5,
          21,
          21,
          20,
          18,
          21,
          19.5,
          21,
          20,
          22,
          18,
          21,
          20,
          20,
          21,
          21,
          21.6,
          19,
          22,
          22,
          20,
          23,
          24,
          23,
          20,
          19,
          21,
          23,
          20,
          22,
          22,
          21,
          21,
          21,
          22,
          22,
          21,
          19,
          20,
          20
         ],
         "xaxis": "x",
         "y": [
          63,
          55,
          52.5,
          75,
          52,
          63.5,
          52,
          50,
          64,
          68.5,
          57.4,
          71.5,
          48,
          75,
          59,
          50,
          68.5,
          75.5,
          63.5,
          68.2,
          67.12,
          85,
          50,
          75,
          68,
          52,
          60,
          55,
          53,
          48,
          48,
          48,
          92.4,
          72,
          49,
          64,
          60,
          60,
          70.5,
          64
         ],
         "yaxis": "y"
        },
        {
         "hovertemplate": "Qualification=Pre-Bachelors<br>Location=West<br>Age=%{x}<br>Weight_in_kg=%{y}<extra></extra>",
         "legendgroup": "Pre-Bachelors",
         "line": {
          "color": "#ab63fa"
         },
         "marker": {
          "symbol": "circle"
         },
         "mode": "lines",
         "name": "Pre-Bachelors",
         "orientation": "v",
         "showlegend": false,
         "stackgroup": "1",
         "type": "scatter",
         "x": [
          19,
          14.2,
          16,
          11
         ],
         "xaxis": "x",
         "y": [
          55.2,
          30.5,
          60,
          45
         ],
         "yaxis": "y"
        },
        {
         "hovertemplate": "Qualification=Pre-Bachelors<br>Location=East<br>Age=%{x}<br>Weight_in_kg=%{y}<extra></extra>",
         "legendgroup": "Pre-Bachelors",
         "line": {
          "color": "#ab63fa"
         },
         "marker": {
          "symbol": "circle"
         },
         "mode": "lines",
         "name": "Pre-Bachelors",
         "orientation": "v",
         "showlegend": false,
         "stackgroup": "1",
         "type": "scatter",
         "x": [
          20
         ],
         "xaxis": "x",
         "y": [
          64
         ],
         "yaxis": "y"
        }
       ],
       "layout": {
        "legend": {
         "title": {
          "text": "Qualification"
         },
         "tracegroupgap": 0
        },
        "margin": {
         "t": 60
        },
        "template": {
         "data": {
          "bar": [
           {
            "error_x": {
             "color": "#2a3f5f"
            },
            "error_y": {
             "color": "#2a3f5f"
            },
            "marker": {
             "line": {
              "color": "#E5ECF6",
              "width": 0.5
             },
             "pattern": {
              "fillmode": "overlay",
              "size": 10,
              "solidity": 0.2
             }
            },
            "type": "bar"
           }
          ],
          "barpolar": [
           {
            "marker": {
             "line": {
              "color": "#E5ECF6",
              "width": 0.5
             },
             "pattern": {
              "fillmode": "overlay",
              "size": 10,
              "solidity": 0.2
             }
            },
            "type": "barpolar"
           }
          ],
          "carpet": [
           {
            "aaxis": {
             "endlinecolor": "#2a3f5f",
             "gridcolor": "white",
             "linecolor": "white",
             "minorgridcolor": "white",
             "startlinecolor": "#2a3f5f"
            },
            "baxis": {
             "endlinecolor": "#2a3f5f",
             "gridcolor": "white",
             "linecolor": "white",
             "minorgridcolor": "white",
             "startlinecolor": "#2a3f5f"
            },
            "type": "carpet"
           }
          ],
          "choropleth": [
           {
            "colorbar": {
             "outlinewidth": 0,
             "ticks": ""
            },
            "type": "choropleth"
           }
          ],
          "contour": [
           {
            "colorbar": {
             "outlinewidth": 0,
             "ticks": ""
            },
            "colorscale": [
             [
              0,
              "#0d0887"
             ],
             [
              0.1111111111111111,
              "#46039f"
             ],
             [
              0.2222222222222222,
              "#7201a8"
             ],
             [
              0.3333333333333333,
              "#9c179e"
             ],
             [
              0.4444444444444444,
              "#bd3786"
             ],
             [
              0.5555555555555556,
              "#d8576b"
             ],
             [
              0.6666666666666666,
              "#ed7953"
             ],
             [
              0.7777777777777778,
              "#fb9f3a"
             ],
             [
              0.8888888888888888,
              "#fdca26"
             ],
             [
              1,
              "#f0f921"
             ]
            ],
            "type": "contour"
           }
          ],
          "contourcarpet": [
           {
            "colorbar": {
             "outlinewidth": 0,
             "ticks": ""
            },
            "type": "contourcarpet"
           }
          ],
          "heatmap": [
           {
            "colorbar": {
             "outlinewidth": 0,
             "ticks": ""
            },
            "colorscale": [
             [
              0,
              "#0d0887"
             ],
             [
              0.1111111111111111,
              "#46039f"
             ],
             [
              0.2222222222222222,
              "#7201a8"
             ],
             [
              0.3333333333333333,
              "#9c179e"
             ],
             [
              0.4444444444444444,
              "#bd3786"
             ],
             [
              0.5555555555555556,
              "#d8576b"
             ],
             [
              0.6666666666666666,
              "#ed7953"
             ],
             [
              0.7777777777777778,
              "#fb9f3a"
             ],
             [
              0.8888888888888888,
              "#fdca26"
             ],
             [
              1,
              "#f0f921"
             ]
            ],
            "type": "heatmap"
           }
          ],
          "heatmapgl": [
           {
            "colorbar": {
             "outlinewidth": 0,
             "ticks": ""
            },
            "colorscale": [
             [
              0,
              "#0d0887"
             ],
             [
              0.1111111111111111,
              "#46039f"
             ],
             [
              0.2222222222222222,
              "#7201a8"
             ],
             [
              0.3333333333333333,
              "#9c179e"
             ],
             [
              0.4444444444444444,
              "#bd3786"
             ],
             [
              0.5555555555555556,
              "#d8576b"
             ],
             [
              0.6666666666666666,
              "#ed7953"
             ],
             [
              0.7777777777777778,
              "#fb9f3a"
             ],
             [
              0.8888888888888888,
              "#fdca26"
             ],
             [
              1,
              "#f0f921"
             ]
            ],
            "type": "heatmapgl"
           }
          ],
          "histogram": [
           {
            "marker": {
             "pattern": {
              "fillmode": "overlay",
              "size": 10,
              "solidity": 0.2
             }
            },
            "type": "histogram"
           }
          ],
          "histogram2d": [
           {
            "colorbar": {
             "outlinewidth": 0,
             "ticks": ""
            },
            "colorscale": [
             [
              0,
              "#0d0887"
             ],
             [
              0.1111111111111111,
              "#46039f"
             ],
             [
              0.2222222222222222,
              "#7201a8"
             ],
             [
              0.3333333333333333,
              "#9c179e"
             ],
             [
              0.4444444444444444,
              "#bd3786"
             ],
             [
              0.5555555555555556,
              "#d8576b"
             ],
             [
              0.6666666666666666,
              "#ed7953"
             ],
             [
              0.7777777777777778,
              "#fb9f3a"
             ],
             [
              0.8888888888888888,
              "#fdca26"
             ],
             [
              1,
              "#f0f921"
             ]
            ],
            "type": "histogram2d"
           }
          ],
          "histogram2dcontour": [
           {
            "colorbar": {
             "outlinewidth": 0,
             "ticks": ""
            },
            "colorscale": [
             [
              0,
              "#0d0887"
             ],
             [
              0.1111111111111111,
              "#46039f"
             ],
             [
              0.2222222222222222,
              "#7201a8"
             ],
             [
              0.3333333333333333,
              "#9c179e"
             ],
             [
              0.4444444444444444,
              "#bd3786"
             ],
             [
              0.5555555555555556,
              "#d8576b"
             ],
             [
              0.6666666666666666,
              "#ed7953"
             ],
             [
              0.7777777777777778,
              "#fb9f3a"
             ],
             [
              0.8888888888888888,
              "#fdca26"
             ],
             [
              1,
              "#f0f921"
             ]
            ],
            "type": "histogram2dcontour"
           }
          ],
          "mesh3d": [
           {
            "colorbar": {
             "outlinewidth": 0,
             "ticks": ""
            },
            "type": "mesh3d"
           }
          ],
          "parcoords": [
           {
            "line": {
             "colorbar": {
              "outlinewidth": 0,
              "ticks": ""
             }
            },
            "type": "parcoords"
           }
          ],
          "pie": [
           {
            "automargin": true,
            "type": "pie"
           }
          ],
          "scatter": [
           {
            "marker": {
             "colorbar": {
              "outlinewidth": 0,
              "ticks": ""
             }
            },
            "type": "scatter"
           }
          ],
          "scatter3d": [
           {
            "line": {
             "colorbar": {
              "outlinewidth": 0,
              "ticks": ""
             }
            },
            "marker": {
             "colorbar": {
              "outlinewidth": 0,
              "ticks": ""
             }
            },
            "type": "scatter3d"
           }
          ],
          "scattercarpet": [
           {
            "marker": {
             "colorbar": {
              "outlinewidth": 0,
              "ticks": ""
             }
            },
            "type": "scattercarpet"
           }
          ],
          "scattergeo": [
           {
            "marker": {
             "colorbar": {
              "outlinewidth": 0,
              "ticks": ""
             }
            },
            "type": "scattergeo"
           }
          ],
          "scattergl": [
           {
            "marker": {
             "colorbar": {
              "outlinewidth": 0,
              "ticks": ""
             }
            },
            "type": "scattergl"
           }
          ],
          "scattermapbox": [
           {
            "marker": {
             "colorbar": {
              "outlinewidth": 0,
              "ticks": ""
             }
            },
            "type": "scattermapbox"
           }
          ],
          "scatterpolar": [
           {
            "marker": {
             "colorbar": {
              "outlinewidth": 0,
              "ticks": ""
             }
            },
            "type": "scatterpolar"
           }
          ],
          "scatterpolargl": [
           {
            "marker": {
             "colorbar": {
              "outlinewidth": 0,
              "ticks": ""
             }
            },
            "type": "scatterpolargl"
           }
          ],
          "scatterternary": [
           {
            "marker": {
             "colorbar": {
              "outlinewidth": 0,
              "ticks": ""
             }
            },
            "type": "scatterternary"
           }
          ],
          "surface": [
           {
            "colorbar": {
             "outlinewidth": 0,
             "ticks": ""
            },
            "colorscale": [
             [
              0,
              "#0d0887"
             ],
             [
              0.1111111111111111,
              "#46039f"
             ],
             [
              0.2222222222222222,
              "#7201a8"
             ],
             [
              0.3333333333333333,
              "#9c179e"
             ],
             [
              0.4444444444444444,
              "#bd3786"
             ],
             [
              0.5555555555555556,
              "#d8576b"
             ],
             [
              0.6666666666666666,
              "#ed7953"
             ],
             [
              0.7777777777777778,
              "#fb9f3a"
             ],
             [
              0.8888888888888888,
              "#fdca26"
             ],
             [
              1,
              "#f0f921"
             ]
            ],
            "type": "surface"
           }
          ],
          "table": [
           {
            "cells": {
             "fill": {
              "color": "#EBF0F8"
             },
             "line": {
              "color": "white"
             }
            },
            "header": {
             "fill": {
              "color": "#C8D4E3"
             },
             "line": {
              "color": "white"
             }
            },
            "type": "table"
           }
          ]
         },
         "layout": {
          "annotationdefaults": {
           "arrowcolor": "#2a3f5f",
           "arrowhead": 0,
           "arrowwidth": 1
          },
          "autotypenumbers": "strict",
          "coloraxis": {
           "colorbar": {
            "outlinewidth": 0,
            "ticks": ""
           }
          },
          "colorscale": {
           "diverging": [
            [
             0,
             "#8e0152"
            ],
            [
             0.1,
             "#c51b7d"
            ],
            [
             0.2,
             "#de77ae"
            ],
            [
             0.3,
             "#f1b6da"
            ],
            [
             0.4,
             "#fde0ef"
            ],
            [
             0.5,
             "#f7f7f7"
            ],
            [
             0.6,
             "#e6f5d0"
            ],
            [
             0.7,
             "#b8e186"
            ],
            [
             0.8,
             "#7fbc41"
            ],
            [
             0.9,
             "#4d9221"
            ],
            [
             1,
             "#276419"
            ]
           ],
           "sequential": [
            [
             0,
             "#0d0887"
            ],
            [
             0.1111111111111111,
             "#46039f"
            ],
            [
             0.2222222222222222,
             "#7201a8"
            ],
            [
             0.3333333333333333,
             "#9c179e"
            ],
            [
             0.4444444444444444,
             "#bd3786"
            ],
            [
             0.5555555555555556,
             "#d8576b"
            ],
            [
             0.6666666666666666,
             "#ed7953"
            ],
            [
             0.7777777777777778,
             "#fb9f3a"
            ],
            [
             0.8888888888888888,
             "#fdca26"
            ],
            [
             1,
             "#f0f921"
            ]
           ],
           "sequentialminus": [
            [
             0,
             "#0d0887"
            ],
            [
             0.1111111111111111,
             "#46039f"
            ],
            [
             0.2222222222222222,
             "#7201a8"
            ],
            [
             0.3333333333333333,
             "#9c179e"
            ],
            [
             0.4444444444444444,
             "#bd3786"
            ],
            [
             0.5555555555555556,
             "#d8576b"
            ],
            [
             0.6666666666666666,
             "#ed7953"
            ],
            [
             0.7777777777777778,
             "#fb9f3a"
            ],
            [
             0.8888888888888888,
             "#fdca26"
            ],
            [
             1,
             "#f0f921"
            ]
           ]
          },
          "colorway": [
           "#636efa",
           "#EF553B",
           "#00cc96",
           "#ab63fa",
           "#FFA15A",
           "#19d3f3",
           "#FF6692",
           "#B6E880",
           "#FF97FF",
           "#FECB52"
          ],
          "font": {
           "color": "#2a3f5f"
          },
          "geo": {
           "bgcolor": "white",
           "lakecolor": "white",
           "landcolor": "#E5ECF6",
           "showlakes": true,
           "showland": true,
           "subunitcolor": "white"
          },
          "hoverlabel": {
           "align": "left"
          },
          "hovermode": "closest",
          "mapbox": {
           "style": "light"
          },
          "paper_bgcolor": "white",
          "plot_bgcolor": "#E5ECF6",
          "polar": {
           "angularaxis": {
            "gridcolor": "white",
            "linecolor": "white",
            "ticks": ""
           },
           "bgcolor": "#E5ECF6",
           "radialaxis": {
            "gridcolor": "white",
            "linecolor": "white",
            "ticks": ""
           }
          },
          "scene": {
           "xaxis": {
            "backgroundcolor": "#E5ECF6",
            "gridcolor": "white",
            "gridwidth": 2,
            "linecolor": "white",
            "showbackground": true,
            "ticks": "",
            "zerolinecolor": "white"
           },
           "yaxis": {
            "backgroundcolor": "#E5ECF6",
            "gridcolor": "white",
            "gridwidth": 2,
            "linecolor": "white",
            "showbackground": true,
            "ticks": "",
            "zerolinecolor": "white"
           },
           "zaxis": {
            "backgroundcolor": "#E5ECF6",
            "gridcolor": "white",
            "gridwidth": 2,
            "linecolor": "white",
            "showbackground": true,
            "ticks": "",
            "zerolinecolor": "white"
           }
          },
          "shapedefaults": {
           "line": {
            "color": "#2a3f5f"
           }
          },
          "ternary": {
           "aaxis": {
            "gridcolor": "white",
            "linecolor": "white",
            "ticks": ""
           },
           "baxis": {
            "gridcolor": "white",
            "linecolor": "white",
            "ticks": ""
           },
           "bgcolor": "#E5ECF6",
           "caxis": {
            "gridcolor": "white",
            "linecolor": "white",
            "ticks": ""
           }
          },
          "title": {
           "x": 0.05
          },
          "xaxis": {
           "automargin": true,
           "gridcolor": "white",
           "linecolor": "white",
           "ticks": "",
           "title": {
            "standoff": 15
           },
           "zerolinecolor": "white",
           "zerolinewidth": 2
          },
          "yaxis": {
           "automargin": true,
           "gridcolor": "white",
           "linecolor": "white",
           "ticks": "",
           "title": {
            "standoff": 15
           },
           "zerolinecolor": "white",
           "zerolinewidth": 2
          }
         }
        },
        "xaxis": {
         "anchor": "y",
         "domain": [
          0,
          1
         ],
         "title": {
          "text": "Age"
         }
        },
        "yaxis": {
         "anchor": "x",
         "domain": [
          0,
          1
         ],
         "title": {
          "text": "Weight_in_kg"
         }
        }
       }
      },
      "text/html": [
       "<div>                            <div id=\"6617e00f-feae-4e66-b977-7640df4e5441\" class=\"plotly-graph-div\" style=\"height:525px; width:100%;\"></div>            <script type=\"text/javascript\">                require([\"plotly\"], function(Plotly) {                    window.PLOTLYENV=window.PLOTLYENV || {};                                    if (document.getElementById(\"6617e00f-feae-4e66-b977-7640df4e5441\")) {                    Plotly.newPlot(                        \"6617e00f-feae-4e66-b977-7640df4e5441\",                        [{\"hovertemplate\":\"Qualification=Masters<br>Location=Pakistan<br>Age=%{x}<br>Weight_in_kg=%{y}<extra></extra>\",\"legendgroup\":\"Masters\",\"line\":{\"color\":\"#636efa\"},\"marker\":{\"symbol\":\"circle\"},\"mode\":\"lines\",\"name\":\"Masters\",\"orientation\":\"v\",\"showlegend\":true,\"stackgroup\":\"1\",\"x\":[38.0,31.34,33.0,27.0,36.0,0.0,27.0,33.0,31.0,27.9,23.0,26.0,31.0,33.0,26.0,28.0,29.0,27.0,25.0,36.0,38.0,35.0,32.0,26.5,27.75,28.0,29.8,33.0,35.0,28.0,32.2,24.6,0.0,27.9,30.4,31.0,27.0,32.8,26.5,40.0,42.0,24.0,43.0,26.0,29.25,26.0,41.0,30.0,29.0,29.0,44.8,27.5,26.0,27.0,39.5,29.0,29.0,29.0,24.0,25.0,28.0,33.0,23.5,26.0,27.0,28.0,25.0,32.0,28.0,25.0,26.0,30.0,33.0,26.0,34.0,30.4,30.1,29.0,38.0,30.0,40.0,30.0,31.0,29.0,30.0,26.0,25.0,27.0,33.0,29.0,33.0,27.5,27.0,34.9,22.0,25.0,22.9,28.0,30.5,31.0,35.0,35.11,23.0,31.0,46.4,30.0,32.0,0.0,31.0,43.0,25.0,25.0,35.0,29.0,42.0,26.0,34.0,26.5,32.0,27.0,26.0,26.0,37.0,26.0,27.3,29.0,31.0,26.0,32.0,27.5,42.0,26.0,33.0,31.0,35.0,29.0,28.0,38.0,32.0,25.0,22.0,30.0,28.0,29.0,31.0],\"xaxis\":\"x\",\"y\":[77.0,93.0,60.0,59.9,99.0,58.0,50.0,75.8,72.5,60.0,67.0,96.0,75.0,84.0,47.0,50.0,62.5,88.6,60.0,100.5,93.9,78.9,70.0,65.0,85.6,100.0,75.4,98.0,75.5,78.5,70.2,63.4,68.0,63.5,88.0,98.0,55.5,88.4,82.5,83.5,90.0,42.6,70.0,55.0,93.5,106.05,97.0,79.5,80.0,75.6,70.5,56.0,75.5,61.5,54.3,69.0,56.5,50.2,54.0,68.0,46.0,101.5,94.5,86.5,63.5,75.0,67.0,74.0,70.0,48.2,105.0,69.5,85.0,56.5,78.5,82.4,55.0,45.0,70.2,78.8,80.0,65.0,70.0,65.5,75.45,68.5,60.0,70.0,63.0,65.0,85.0,46.5,110.0,88.0,68.0,61.0,70.0,84.0,40.0,76.6,80.0,78.5,58.0,90.0,90.0,54.5,72.5,51.0,58.0,87.0,74.0,82.0,46.9,50.2,70.0,45.0,48.0,72.0,55.0,58.0,88.8,45.5,69.1,58.0,66.5,92.0,90.0,65.6,58.0,92.0,75.0,76.0,80.2,60.5,78.0,90.0,70.0,84.0,55.0,75.0,48.0,75.55,70.5,86.0,54.5],\"yaxis\":\"y\",\"type\":\"scatter\"},{\"hovertemplate\":\"Qualification=Masters<br>Location=West<br>Age=%{x}<br>Weight_in_kg=%{y}<extra></extra>\",\"legendgroup\":\"Masters\",\"line\":{\"color\":\"#636efa\"},\"marker\":{\"symbol\":\"circle\"},\"mode\":\"lines\",\"name\":\"Masters\",\"orientation\":\"v\",\"showlegend\":false,\"stackgroup\":\"1\",\"x\":[28.0,28.0,32.75,32.0,28.11,29.0,43.0,34.25,27.0,31.5,34.0,31.04,35.0,26.0,28.0,10.5,25.0,31.0,28.0],\"xaxis\":\"x\",\"y\":[64.21,68.3,72.5,60.0,68.3,77.5,82.5,82.27,57.0,71.5,70.5,58.1,84.0,65.0,65.0,79.75,75.0,63.0,85.0],\"yaxis\":\"y\",\"type\":\"scatter\"},{\"hovertemplate\":\"Qualification=Masters<br>Location=East<br>Age=%{x}<br>Weight_in_kg=%{y}<extra></extra>\",\"legendgroup\":\"Masters\",\"line\":{\"color\":\"#636efa\"},\"marker\":{\"symbol\":\"circle\"},\"mode\":\"lines\",\"name\":\"Masters\",\"orientation\":\"v\",\"showlegend\":false,\"stackgroup\":\"1\",\"x\":[25.0,30.0,36.5],\"xaxis\":\"x\",\"y\":[68.5,56.9,78.5],\"yaxis\":\"y\",\"type\":\"scatter\"},{\"hovertemplate\":\"Qualification=Masters<br>Location=India<br>Age=%{x}<br>Weight_in_kg=%{y}<extra></extra>\",\"legendgroup\":\"Masters\",\"line\":{\"color\":\"#636efa\"},\"marker\":{\"symbol\":\"circle\"},\"mode\":\"lines\",\"name\":\"Masters\",\"orientation\":\"v\",\"showlegend\":false,\"stackgroup\":\"1\",\"x\":[24.0,30.0],\"xaxis\":\"x\",\"y\":[55.0,61.0],\"yaxis\":\"y\",\"type\":\"scatter\"},{\"hovertemplate\":\"Qualification=Bachelors<br>Location=Pakistan<br>Age=%{x}<br>Weight_in_kg=%{y}<extra></extra>\",\"legendgroup\":\"Bachelors\",\"line\":{\"color\":\"#EF553B\"},\"marker\":{\"symbol\":\"circle\"},\"mode\":\"lines\",\"name\":\"Bachelors\",\"orientation\":\"v\",\"showlegend\":true,\"stackgroup\":\"1\",\"x\":[25.0,22.2,24.0,33.0,25.0,24.0,25.0,33.0,26.0,29.0,24.3,31.0,28.0,25.0,26.0,39.0,29.0,23.99,25.0,26.0,24.0,25.0,19.0,22.0,32.0,28.0,25.0,90.0,23.0,25.0,26.11,24.0,22.6,27.0,24.0,29.0,25.0,23.0,30.0,2.0,22.0,24.0,26.0,51.0,23.0,25.0,28.1,22.0,27.0,33.0,24.1,26.0,22.0,25.0,26.0,24.0,22.0,19.8,20.0,23.0,23.0,21.0,25.0,26.0,28.0,23.0,25.2,24.0,24.0,29.0,23.0,25.0,26.3,26.95,30.0,23.0,24.6,28.0,23.0,32.0,29.0,24.0,20.0,25.0,21.0,23.4,22.0,25.0,25.0,25.0,32.0,24.0,32.0,28.0,22.0,21.0,25.0,40.1,22.0,26.0,21.0,26.5,27.0,30.0,32.0,24.0,29.0,26.6,36.0,27.0,23.0,26.0,27.0,32.0,29.0,28.0,24.0,24.0,33.0,22.8],\"xaxis\":\"x\",\"y\":[53.6,76.8,88.2,72.0,130.0,83.5,69.5,72.0,55.5,78.0,93.5,64.0,50.0,105.5,89.0,71.0,88.2,57.5,62.0,69.0,43.0,75.0,50.0,39.5,72.0,79.0,84.0,90.0,67.9,76.0,76.0,48.0,67.4,54.0,60.5,74.0,86.0,41.2,61.0,70.0,60.0,65.0,68.0,70.5,62.0,43.0,60.5,60.0,72.0,78.0,65.8,68.0,60.0,47.5,90.0,52.0,55.0,74.0,50.0,53.0,59.5,58.5,75.0,65.0,72.5,65.0,135.0,100.0,68.0,65.0,60.2,57.0,65.7,74.0,80.0,70.85,56.61,63.5,50.0,85.0,66.0,56.0,53.0,42.0,52.1,59.5,58.0,46.0,114.0,64.0,86.0,65.0,54.5,46.0,31.75,67.0,65.0,86.34,70.0,64.0,52.1,67.5,60.5,55.5,72.0,54.0,66.0,68.7,68.5,78.0,50.0,50.0,67.0,85.0,66.5,70.0,60.0,70.0,83.4,60.0],\"yaxis\":\"y\",\"type\":\"scatter\"},{\"hovertemplate\":\"Qualification=Bachelors<br>Location=West<br>Age=%{x}<br>Weight_in_kg=%{y}<extra></extra>\",\"legendgroup\":\"Bachelors\",\"line\":{\"color\":\"#EF553B\"},\"marker\":{\"symbol\":\"circle\"},\"mode\":\"lines\",\"name\":\"Bachelors\",\"orientation\":\"v\",\"showlegend\":false,\"stackgroup\":\"1\",\"x\":[27.0,24.0,25.0,34.0,25.0,28.0,33.0,28.0,24.0],\"xaxis\":\"x\",\"y\":[100.0,84.0,69.0,87.5,52.27,70.0,68.0,161.0,55.0],\"yaxis\":\"y\",\"type\":\"scatter\"},{\"hovertemplate\":\"Qualification=Bachelors<br>Location=East<br>Age=%{x}<br>Weight_in_kg=%{y}<extra></extra>\",\"legendgroup\":\"Bachelors\",\"line\":{\"color\":\"#EF553B\"},\"marker\":{\"symbol\":\"circle\"},\"mode\":\"lines\",\"name\":\"Bachelors\",\"orientation\":\"v\",\"showlegend\":false,\"stackgroup\":\"1\",\"x\":[26.3,26.0,29.0,29.0],\"xaxis\":\"x\",\"y\":[71.2,90.2,70.0,82.0],\"yaxis\":\"y\",\"type\":\"scatter\"},{\"hovertemplate\":\"Qualification=PhD<br>Location=Pakistan<br>Age=%{x}<br>Weight_in_kg=%{y}<extra></extra>\",\"legendgroup\":\"PhD\",\"line\":{\"color\":\"#00cc96\"},\"marker\":{\"symbol\":\"circle\"},\"mode\":\"lines\",\"name\":\"PhD\",\"orientation\":\"v\",\"showlegend\":true,\"stackgroup\":\"1\",\"x\":[33.0,30.0,33.0,30.0,37.0,30.5,27.0,31.2,31.8,31.5,28.0,32.0,31.0,68.0,29.0,31.0,25.0,32.7],\"xaxis\":\"x\",\"y\":[70.2,60.0,82.0,80.0,77.0,89.5,65.21,72.0,65.5,82.5,68.5,79.0,85.0,68.0,54.0,65.0,80.0,85.5],\"yaxis\":\"y\",\"type\":\"scatter\"},{\"hovertemplate\":\"Qualification=PhD<br>Location=West<br>Age=%{x}<br>Weight_in_kg=%{y}<extra></extra>\",\"legendgroup\":\"PhD\",\"line\":{\"color\":\"#00cc96\"},\"marker\":{\"symbol\":\"circle\"},\"mode\":\"lines\",\"name\":\"PhD\",\"orientation\":\"v\",\"showlegend\":false,\"stackgroup\":\"1\",\"x\":[31.0,31.0,37.0,29.0],\"xaxis\":\"x\",\"y\":[80.0,72.0,65.0,65.0],\"yaxis\":\"y\",\"type\":\"scatter\"},{\"hovertemplate\":\"Qualification=PhD<br>Location=East<br>Age=%{x}<br>Weight_in_kg=%{y}<extra></extra>\",\"legendgroup\":\"PhD\",\"line\":{\"color\":\"#00cc96\"},\"marker\":{\"symbol\":\"circle\"},\"mode\":\"lines\",\"name\":\"PhD\",\"orientation\":\"v\",\"showlegend\":false,\"stackgroup\":\"1\",\"x\":[25.0,30.0,30.0,33.9,30.0,27.0],\"xaxis\":\"x\",\"y\":[78.0,74.5,65.5,97.5,85.0,104.5],\"yaxis\":\"y\",\"type\":\"scatter\"},{\"hovertemplate\":\"Qualification=Pre-Bachelors<br>Location=Pakistan<br>Age=%{x}<br>Weight_in_kg=%{y}<extra></extra>\",\"legendgroup\":\"Pre-Bachelors\",\"line\":{\"color\":\"#ab63fa\"},\"marker\":{\"symbol\":\"circle\"},\"mode\":\"lines\",\"name\":\"Pre-Bachelors\",\"orientation\":\"v\",\"showlegend\":true,\"stackgroup\":\"1\",\"x\":[22.5,21.0,21.0,20.0,18.0,21.0,19.5,21.0,20.0,22.0,18.0,21.0,20.0,20.0,21.0,21.0,21.6,19.0,22.0,22.0,20.0,23.0,24.0,23.0,20.0,19.0,21.0,23.0,20.0,22.0,22.0,21.0,21.0,21.0,22.0,22.0,21.0,19.0,20.0,20.0],\"xaxis\":\"x\",\"y\":[63.0,55.0,52.5,75.0,52.0,63.5,52.0,50.0,64.0,68.5,57.4,71.5,48.0,75.0,59.0,50.0,68.5,75.5,63.5,68.2,67.12,85.0,50.0,75.0,68.0,52.0,60.0,55.0,53.0,48.0,48.0,48.0,92.4,72.0,49.0,64.0,60.0,60.0,70.5,64.0],\"yaxis\":\"y\",\"type\":\"scatter\"},{\"hovertemplate\":\"Qualification=Pre-Bachelors<br>Location=West<br>Age=%{x}<br>Weight_in_kg=%{y}<extra></extra>\",\"legendgroup\":\"Pre-Bachelors\",\"line\":{\"color\":\"#ab63fa\"},\"marker\":{\"symbol\":\"circle\"},\"mode\":\"lines\",\"name\":\"Pre-Bachelors\",\"orientation\":\"v\",\"showlegend\":false,\"stackgroup\":\"1\",\"x\":[19.0,14.2,16.0,11.0],\"xaxis\":\"x\",\"y\":[55.2,30.5,60.0,45.0],\"yaxis\":\"y\",\"type\":\"scatter\"},{\"hovertemplate\":\"Qualification=Pre-Bachelors<br>Location=East<br>Age=%{x}<br>Weight_in_kg=%{y}<extra></extra>\",\"legendgroup\":\"Pre-Bachelors\",\"line\":{\"color\":\"#ab63fa\"},\"marker\":{\"symbol\":\"circle\"},\"mode\":\"lines\",\"name\":\"Pre-Bachelors\",\"orientation\":\"v\",\"showlegend\":false,\"stackgroup\":\"1\",\"x\":[20.0],\"xaxis\":\"x\",\"y\":[64.0],\"yaxis\":\"y\",\"type\":\"scatter\"}],                        {\"template\":{\"data\":{\"bar\":[{\"error_x\":{\"color\":\"#2a3f5f\"},\"error_y\":{\"color\":\"#2a3f5f\"},\"marker\":{\"line\":{\"color\":\"#E5ECF6\",\"width\":0.5},\"pattern\":{\"fillmode\":\"overlay\",\"size\":10,\"solidity\":0.2}},\"type\":\"bar\"}],\"barpolar\":[{\"marker\":{\"line\":{\"color\":\"#E5ECF6\",\"width\":0.5},\"pattern\":{\"fillmode\":\"overlay\",\"size\":10,\"solidity\":0.2}},\"type\":\"barpolar\"}],\"carpet\":[{\"aaxis\":{\"endlinecolor\":\"#2a3f5f\",\"gridcolor\":\"white\",\"linecolor\":\"white\",\"minorgridcolor\":\"white\",\"startlinecolor\":\"#2a3f5f\"},\"baxis\":{\"endlinecolor\":\"#2a3f5f\",\"gridcolor\":\"white\",\"linecolor\":\"white\",\"minorgridcolor\":\"white\",\"startlinecolor\":\"#2a3f5f\"},\"type\":\"carpet\"}],\"choropleth\":[{\"colorbar\":{\"outlinewidth\":0,\"ticks\":\"\"},\"type\":\"choropleth\"}],\"contour\":[{\"colorbar\":{\"outlinewidth\":0,\"ticks\":\"\"},\"colorscale\":[[0.0,\"#0d0887\"],[0.1111111111111111,\"#46039f\"],[0.2222222222222222,\"#7201a8\"],[0.3333333333333333,\"#9c179e\"],[0.4444444444444444,\"#bd3786\"],[0.5555555555555556,\"#d8576b\"],[0.6666666666666666,\"#ed7953\"],[0.7777777777777778,\"#fb9f3a\"],[0.8888888888888888,\"#fdca26\"],[1.0,\"#f0f921\"]],\"type\":\"contour\"}],\"contourcarpet\":[{\"colorbar\":{\"outlinewidth\":0,\"ticks\":\"\"},\"type\":\"contourcarpet\"}],\"heatmap\":[{\"colorbar\":{\"outlinewidth\":0,\"ticks\":\"\"},\"colorscale\":[[0.0,\"#0d0887\"],[0.1111111111111111,\"#46039f\"],[0.2222222222222222,\"#7201a8\"],[0.3333333333333333,\"#9c179e\"],[0.4444444444444444,\"#bd3786\"],[0.5555555555555556,\"#d8576b\"],[0.6666666666666666,\"#ed7953\"],[0.7777777777777778,\"#fb9f3a\"],[0.8888888888888888,\"#fdca26\"],[1.0,\"#f0f921\"]],\"type\":\"heatmap\"}],\"heatmapgl\":[{\"colorbar\":{\"outlinewidth\":0,\"ticks\":\"\"},\"colorscale\":[[0.0,\"#0d0887\"],[0.1111111111111111,\"#46039f\"],[0.2222222222222222,\"#7201a8\"],[0.3333333333333333,\"#9c179e\"],[0.4444444444444444,\"#bd3786\"],[0.5555555555555556,\"#d8576b\"],[0.6666666666666666,\"#ed7953\"],[0.7777777777777778,\"#fb9f3a\"],[0.8888888888888888,\"#fdca26\"],[1.0,\"#f0f921\"]],\"type\":\"heatmapgl\"}],\"histogram\":[{\"marker\":{\"pattern\":{\"fillmode\":\"overlay\",\"size\":10,\"solidity\":0.2}},\"type\":\"histogram\"}],\"histogram2d\":[{\"colorbar\":{\"outlinewidth\":0,\"ticks\":\"\"},\"colorscale\":[[0.0,\"#0d0887\"],[0.1111111111111111,\"#46039f\"],[0.2222222222222222,\"#7201a8\"],[0.3333333333333333,\"#9c179e\"],[0.4444444444444444,\"#bd3786\"],[0.5555555555555556,\"#d8576b\"],[0.6666666666666666,\"#ed7953\"],[0.7777777777777778,\"#fb9f3a\"],[0.8888888888888888,\"#fdca26\"],[1.0,\"#f0f921\"]],\"type\":\"histogram2d\"}],\"histogram2dcontour\":[{\"colorbar\":{\"outlinewidth\":0,\"ticks\":\"\"},\"colorscale\":[[0.0,\"#0d0887\"],[0.1111111111111111,\"#46039f\"],[0.2222222222222222,\"#7201a8\"],[0.3333333333333333,\"#9c179e\"],[0.4444444444444444,\"#bd3786\"],[0.5555555555555556,\"#d8576b\"],[0.6666666666666666,\"#ed7953\"],[0.7777777777777778,\"#fb9f3a\"],[0.8888888888888888,\"#fdca26\"],[1.0,\"#f0f921\"]],\"type\":\"histogram2dcontour\"}],\"mesh3d\":[{\"colorbar\":{\"outlinewidth\":0,\"ticks\":\"\"},\"type\":\"mesh3d\"}],\"parcoords\":[{\"line\":{\"colorbar\":{\"outlinewidth\":0,\"ticks\":\"\"}},\"type\":\"parcoords\"}],\"pie\":[{\"automargin\":true,\"type\":\"pie\"}],\"scatter\":[{\"marker\":{\"colorbar\":{\"outlinewidth\":0,\"ticks\":\"\"}},\"type\":\"scatter\"}],\"scatter3d\":[{\"line\":{\"colorbar\":{\"outlinewidth\":0,\"ticks\":\"\"}},\"marker\":{\"colorbar\":{\"outlinewidth\":0,\"ticks\":\"\"}},\"type\":\"scatter3d\"}],\"scattercarpet\":[{\"marker\":{\"colorbar\":{\"outlinewidth\":0,\"ticks\":\"\"}},\"type\":\"scattercarpet\"}],\"scattergeo\":[{\"marker\":{\"colorbar\":{\"outlinewidth\":0,\"ticks\":\"\"}},\"type\":\"scattergeo\"}],\"scattergl\":[{\"marker\":{\"colorbar\":{\"outlinewidth\":0,\"ticks\":\"\"}},\"type\":\"scattergl\"}],\"scattermapbox\":[{\"marker\":{\"colorbar\":{\"outlinewidth\":0,\"ticks\":\"\"}},\"type\":\"scattermapbox\"}],\"scatterpolar\":[{\"marker\":{\"colorbar\":{\"outlinewidth\":0,\"ticks\":\"\"}},\"type\":\"scatterpolar\"}],\"scatterpolargl\":[{\"marker\":{\"colorbar\":{\"outlinewidth\":0,\"ticks\":\"\"}},\"type\":\"scatterpolargl\"}],\"scatterternary\":[{\"marker\":{\"colorbar\":{\"outlinewidth\":0,\"ticks\":\"\"}},\"type\":\"scatterternary\"}],\"surface\":[{\"colorbar\":{\"outlinewidth\":0,\"ticks\":\"\"},\"colorscale\":[[0.0,\"#0d0887\"],[0.1111111111111111,\"#46039f\"],[0.2222222222222222,\"#7201a8\"],[0.3333333333333333,\"#9c179e\"],[0.4444444444444444,\"#bd3786\"],[0.5555555555555556,\"#d8576b\"],[0.6666666666666666,\"#ed7953\"],[0.7777777777777778,\"#fb9f3a\"],[0.8888888888888888,\"#fdca26\"],[1.0,\"#f0f921\"]],\"type\":\"surface\"}],\"table\":[{\"cells\":{\"fill\":{\"color\":\"#EBF0F8\"},\"line\":{\"color\":\"white\"}},\"header\":{\"fill\":{\"color\":\"#C8D4E3\"},\"line\":{\"color\":\"white\"}},\"type\":\"table\"}]},\"layout\":{\"annotationdefaults\":{\"arrowcolor\":\"#2a3f5f\",\"arrowhead\":0,\"arrowwidth\":1},\"autotypenumbers\":\"strict\",\"coloraxis\":{\"colorbar\":{\"outlinewidth\":0,\"ticks\":\"\"}},\"colorscale\":{\"diverging\":[[0,\"#8e0152\"],[0.1,\"#c51b7d\"],[0.2,\"#de77ae\"],[0.3,\"#f1b6da\"],[0.4,\"#fde0ef\"],[0.5,\"#f7f7f7\"],[0.6,\"#e6f5d0\"],[0.7,\"#b8e186\"],[0.8,\"#7fbc41\"],[0.9,\"#4d9221\"],[1,\"#276419\"]],\"sequential\":[[0.0,\"#0d0887\"],[0.1111111111111111,\"#46039f\"],[0.2222222222222222,\"#7201a8\"],[0.3333333333333333,\"#9c179e\"],[0.4444444444444444,\"#bd3786\"],[0.5555555555555556,\"#d8576b\"],[0.6666666666666666,\"#ed7953\"],[0.7777777777777778,\"#fb9f3a\"],[0.8888888888888888,\"#fdca26\"],[1.0,\"#f0f921\"]],\"sequentialminus\":[[0.0,\"#0d0887\"],[0.1111111111111111,\"#46039f\"],[0.2222222222222222,\"#7201a8\"],[0.3333333333333333,\"#9c179e\"],[0.4444444444444444,\"#bd3786\"],[0.5555555555555556,\"#d8576b\"],[0.6666666666666666,\"#ed7953\"],[0.7777777777777778,\"#fb9f3a\"],[0.8888888888888888,\"#fdca26\"],[1.0,\"#f0f921\"]]},\"colorway\":[\"#636efa\",\"#EF553B\",\"#00cc96\",\"#ab63fa\",\"#FFA15A\",\"#19d3f3\",\"#FF6692\",\"#B6E880\",\"#FF97FF\",\"#FECB52\"],\"font\":{\"color\":\"#2a3f5f\"},\"geo\":{\"bgcolor\":\"white\",\"lakecolor\":\"white\",\"landcolor\":\"#E5ECF6\",\"showlakes\":true,\"showland\":true,\"subunitcolor\":\"white\"},\"hoverlabel\":{\"align\":\"left\"},\"hovermode\":\"closest\",\"mapbox\":{\"style\":\"light\"},\"paper_bgcolor\":\"white\",\"plot_bgcolor\":\"#E5ECF6\",\"polar\":{\"angularaxis\":{\"gridcolor\":\"white\",\"linecolor\":\"white\",\"ticks\":\"\"},\"bgcolor\":\"#E5ECF6\",\"radialaxis\":{\"gridcolor\":\"white\",\"linecolor\":\"white\",\"ticks\":\"\"}},\"scene\":{\"xaxis\":{\"backgroundcolor\":\"#E5ECF6\",\"gridcolor\":\"white\",\"gridwidth\":2,\"linecolor\":\"white\",\"showbackground\":true,\"ticks\":\"\",\"zerolinecolor\":\"white\"},\"yaxis\":{\"backgroundcolor\":\"#E5ECF6\",\"gridcolor\":\"white\",\"gridwidth\":2,\"linecolor\":\"white\",\"showbackground\":true,\"ticks\":\"\",\"zerolinecolor\":\"white\"},\"zaxis\":{\"backgroundcolor\":\"#E5ECF6\",\"gridcolor\":\"white\",\"gridwidth\":2,\"linecolor\":\"white\",\"showbackground\":true,\"ticks\":\"\",\"zerolinecolor\":\"white\"}},\"shapedefaults\":{\"line\":{\"color\":\"#2a3f5f\"}},\"ternary\":{\"aaxis\":{\"gridcolor\":\"white\",\"linecolor\":\"white\",\"ticks\":\"\"},\"baxis\":{\"gridcolor\":\"white\",\"linecolor\":\"white\",\"ticks\":\"\"},\"bgcolor\":\"#E5ECF6\",\"caxis\":{\"gridcolor\":\"white\",\"linecolor\":\"white\",\"ticks\":\"\"}},\"title\":{\"x\":0.05},\"xaxis\":{\"automargin\":true,\"gridcolor\":\"white\",\"linecolor\":\"white\",\"ticks\":\"\",\"title\":{\"standoff\":15},\"zerolinecolor\":\"white\",\"zerolinewidth\":2},\"yaxis\":{\"automargin\":true,\"gridcolor\":\"white\",\"linecolor\":\"white\",\"ticks\":\"\",\"title\":{\"standoff\":15},\"zerolinecolor\":\"white\",\"zerolinewidth\":2}}},\"xaxis\":{\"anchor\":\"y\",\"domain\":[0.0,1.0],\"title\":{\"text\":\"Age\"}},\"yaxis\":{\"anchor\":\"x\",\"domain\":[0.0,1.0],\"title\":{\"text\":\"Weight_in_kg\"}},\"legend\":{\"title\":{\"text\":\"Qualification\"},\"tracegroupgap\":0},\"margin\":{\"t\":60}},                        {\"responsive\": true}                    ).then(function(){\n",
       "                            \n",
       "var gd = document.getElementById('6617e00f-feae-4e66-b977-7640df4e5441');\n",
       "var x = new MutationObserver(function (mutations, observer) {{\n",
       "        var display = window.getComputedStyle(gd).display;\n",
       "        if (!display || display === 'none') {{\n",
       "            console.log([gd, 'removed!']);\n",
       "            Plotly.purge(gd);\n",
       "            observer.disconnect();\n",
       "        }}\n",
       "}});\n",
       "\n",
       "// Listen for the removal of the full notebook cells\n",
       "var notebookContainer = gd.closest('#notebook-container');\n",
       "if (notebookContainer) {{\n",
       "    x.observe(notebookContainer, {childList: true});\n",
       "}}\n",
       "\n",
       "// Listen for the clearing of the current output cell\n",
       "var outputEl = gd.closest('.output');\n",
       "if (outputEl) {{\n",
       "    x.observe(outputEl, {childList: true});\n",
       "}}\n",
       "\n",
       "                        })                };                });            </script>        </div>"
      ]
     },
     "metadata": {},
     "output_type": "display_data"
    }
   ],
   "source": [
    "import plotly.express as px\n",
    "import pandas as pd \n",
    "data= pd.read_csv(\"new_data.csv\")\n",
    "fig = px.area(data, x=\"Age\", y=\"Weight_in_kg\", color=\"Qualification\", line_group=\"Location\")\n",
    "fig.show()"
   ]
  },
  {
   "cell_type": "markdown",
   "id": "f3f46b42",
   "metadata": {},
   "source": [
    "___"
   ]
  },
  {
   "cell_type": "code",
   "execution_count": 69,
   "id": "3d9c1eaa",
   "metadata": {},
   "outputs": [
    {
     "data": {
      "application/vnd.plotly.v1+json": {
       "config": {
        "plotlyServerURL": "https://plot.ly"
       },
       "data": [
        {
         "branchvalues": "total",
         "customdata": [
          [
           "(?)",
           2.8263825929283772
          ],
          [
           "(?)",
           2.8333333333333335
          ],
          [
           "(?)",
           4.552359295054008
          ],
          [
           "No",
           0
          ],
          [
           "No",
           2.2222222222222223
          ],
          [
           "(?)",
           2.3202749357589894
          ],
          [
           "(?)",
           4.356964366838679
          ],
          [
           "(?)",
           8.366401892851107
          ],
          [
           "(?)",
           0.14031833413116324
          ],
          [
           "(?)",
           3.2016129032258065
          ],
          [
           "(?)",
           5.206722405052032
          ],
          [
           "(?)",
           3.40234375
          ],
          [
           "No",
           0.3654485049833887
          ],
          [
           "(?)",
           2.398008470374935
          ],
          [
           "(?)",
           4.401565
          ],
          [
           "(?)",
           6.9078383206788745
          ],
          [
           "(?)",
           0.15205284996724178
          ]
         ],
         "domain": {
          "x": [
           0,
           1
          ],
          "y": [
           0,
           1
          ]
         },
         "hovertemplate": "labels=%{label}<br>Age=%{value}<br>parent=%{parent}<br>id=%{id}<br>Marital Status?=%{customdata[0]}<br>Working experience=%{color}<extra></extra>",
         "ids": [
          "Bachelors/East",
          "Masters/East",
          "PhD/East",
          "Pre-Bachelors/East",
          "Masters/India",
          "Bachelors/Pakistan",
          "Masters/Pakistan",
          "PhD/Pakistan",
          "Pre-Bachelors/Pakistan",
          "Bachelors/West",
          "Masters/West",
          "PhD/West",
          "Pre-Bachelors/West",
          "Bachelors",
          "Masters",
          "PhD",
          "Pre-Bachelors"
         ],
         "labels": [
          "East",
          "East",
          "East",
          "East",
          "India",
          "Pakistan",
          "Pakistan",
          "Pakistan",
          "Pakistan",
          "West",
          "West",
          "West",
          "West",
          "Bachelors",
          "Masters",
          "PhD",
          "Pre-Bachelors"
         ],
         "marker": {
          "coloraxis": "coloraxis",
          "colors": [
           2.8263825929283772,
           2.8333333333333335,
           4.552359295054008,
           0,
           2.2222222222222223,
           2.3202749357589894,
           4.356964366838679,
           8.366401892851107,
           0.14031833413116324,
           3.2016129032258065,
           5.206722405052032,
           3.40234375,
           0.3654485049833887,
           2.398008470374935,
           4.401565,
           6.9078383206788745,
           0.15205284996724178
          ]
         },
         "name": "",
         "parents": [
          "Bachelors",
          "Masters",
          "PhD",
          "Pre-Bachelors",
          "Masters",
          "Bachelors",
          "Masters",
          "PhD",
          "Pre-Bachelors",
          "Bachelors",
          "Masters",
          "PhD",
          "Pre-Bachelors",
          "",
          "",
          "",
          ""
         ],
         "type": "sunburst",
         "values": [
          110.3,
          91.5,
          175.9,
          20,
          54,
          3171.65,
          4292.35,
          591.7,
          835.6,
          248,
          562.15,
          128,
          60.2,
          3529.95,
          5000,
          895.6,
          915.8
         ]
        }
       ],
       "layout": {
        "coloraxis": {
         "colorbar": {
          "title": {
           "text": "Working experience"
          }
         },
         "colorscale": [
          [
           0,
           "#0d0887"
          ],
          [
           0.1111111111111111,
           "#46039f"
          ],
          [
           0.2222222222222222,
           "#7201a8"
          ],
          [
           0.3333333333333333,
           "#9c179e"
          ],
          [
           0.4444444444444444,
           "#bd3786"
          ],
          [
           0.5555555555555556,
           "#d8576b"
          ],
          [
           0.6666666666666666,
           "#ed7953"
          ],
          [
           0.7777777777777778,
           "#fb9f3a"
          ],
          [
           0.8888888888888888,
           "#fdca26"
          ],
          [
           1,
           "#f0f921"
          ]
         ]
        },
        "legend": {
         "tracegroupgap": 0
        },
        "margin": {
         "t": 60
        },
        "template": {
         "data": {
          "bar": [
           {
            "error_x": {
             "color": "#2a3f5f"
            },
            "error_y": {
             "color": "#2a3f5f"
            },
            "marker": {
             "line": {
              "color": "#E5ECF6",
              "width": 0.5
             },
             "pattern": {
              "fillmode": "overlay",
              "size": 10,
              "solidity": 0.2
             }
            },
            "type": "bar"
           }
          ],
          "barpolar": [
           {
            "marker": {
             "line": {
              "color": "#E5ECF6",
              "width": 0.5
             },
             "pattern": {
              "fillmode": "overlay",
              "size": 10,
              "solidity": 0.2
             }
            },
            "type": "barpolar"
           }
          ],
          "carpet": [
           {
            "aaxis": {
             "endlinecolor": "#2a3f5f",
             "gridcolor": "white",
             "linecolor": "white",
             "minorgridcolor": "white",
             "startlinecolor": "#2a3f5f"
            },
            "baxis": {
             "endlinecolor": "#2a3f5f",
             "gridcolor": "white",
             "linecolor": "white",
             "minorgridcolor": "white",
             "startlinecolor": "#2a3f5f"
            },
            "type": "carpet"
           }
          ],
          "choropleth": [
           {
            "colorbar": {
             "outlinewidth": 0,
             "ticks": ""
            },
            "type": "choropleth"
           }
          ],
          "contour": [
           {
            "colorbar": {
             "outlinewidth": 0,
             "ticks": ""
            },
            "colorscale": [
             [
              0,
              "#0d0887"
             ],
             [
              0.1111111111111111,
              "#46039f"
             ],
             [
              0.2222222222222222,
              "#7201a8"
             ],
             [
              0.3333333333333333,
              "#9c179e"
             ],
             [
              0.4444444444444444,
              "#bd3786"
             ],
             [
              0.5555555555555556,
              "#d8576b"
             ],
             [
              0.6666666666666666,
              "#ed7953"
             ],
             [
              0.7777777777777778,
              "#fb9f3a"
             ],
             [
              0.8888888888888888,
              "#fdca26"
             ],
             [
              1,
              "#f0f921"
             ]
            ],
            "type": "contour"
           }
          ],
          "contourcarpet": [
           {
            "colorbar": {
             "outlinewidth": 0,
             "ticks": ""
            },
            "type": "contourcarpet"
           }
          ],
          "heatmap": [
           {
            "colorbar": {
             "outlinewidth": 0,
             "ticks": ""
            },
            "colorscale": [
             [
              0,
              "#0d0887"
             ],
             [
              0.1111111111111111,
              "#46039f"
             ],
             [
              0.2222222222222222,
              "#7201a8"
             ],
             [
              0.3333333333333333,
              "#9c179e"
             ],
             [
              0.4444444444444444,
              "#bd3786"
             ],
             [
              0.5555555555555556,
              "#d8576b"
             ],
             [
              0.6666666666666666,
              "#ed7953"
             ],
             [
              0.7777777777777778,
              "#fb9f3a"
             ],
             [
              0.8888888888888888,
              "#fdca26"
             ],
             [
              1,
              "#f0f921"
             ]
            ],
            "type": "heatmap"
           }
          ],
          "heatmapgl": [
           {
            "colorbar": {
             "outlinewidth": 0,
             "ticks": ""
            },
            "colorscale": [
             [
              0,
              "#0d0887"
             ],
             [
              0.1111111111111111,
              "#46039f"
             ],
             [
              0.2222222222222222,
              "#7201a8"
             ],
             [
              0.3333333333333333,
              "#9c179e"
             ],
             [
              0.4444444444444444,
              "#bd3786"
             ],
             [
              0.5555555555555556,
              "#d8576b"
             ],
             [
              0.6666666666666666,
              "#ed7953"
             ],
             [
              0.7777777777777778,
              "#fb9f3a"
             ],
             [
              0.8888888888888888,
              "#fdca26"
             ],
             [
              1,
              "#f0f921"
             ]
            ],
            "type": "heatmapgl"
           }
          ],
          "histogram": [
           {
            "marker": {
             "pattern": {
              "fillmode": "overlay",
              "size": 10,
              "solidity": 0.2
             }
            },
            "type": "histogram"
           }
          ],
          "histogram2d": [
           {
            "colorbar": {
             "outlinewidth": 0,
             "ticks": ""
            },
            "colorscale": [
             [
              0,
              "#0d0887"
             ],
             [
              0.1111111111111111,
              "#46039f"
             ],
             [
              0.2222222222222222,
              "#7201a8"
             ],
             [
              0.3333333333333333,
              "#9c179e"
             ],
             [
              0.4444444444444444,
              "#bd3786"
             ],
             [
              0.5555555555555556,
              "#d8576b"
             ],
             [
              0.6666666666666666,
              "#ed7953"
             ],
             [
              0.7777777777777778,
              "#fb9f3a"
             ],
             [
              0.8888888888888888,
              "#fdca26"
             ],
             [
              1,
              "#f0f921"
             ]
            ],
            "type": "histogram2d"
           }
          ],
          "histogram2dcontour": [
           {
            "colorbar": {
             "outlinewidth": 0,
             "ticks": ""
            },
            "colorscale": [
             [
              0,
              "#0d0887"
             ],
             [
              0.1111111111111111,
              "#46039f"
             ],
             [
              0.2222222222222222,
              "#7201a8"
             ],
             [
              0.3333333333333333,
              "#9c179e"
             ],
             [
              0.4444444444444444,
              "#bd3786"
             ],
             [
              0.5555555555555556,
              "#d8576b"
             ],
             [
              0.6666666666666666,
              "#ed7953"
             ],
             [
              0.7777777777777778,
              "#fb9f3a"
             ],
             [
              0.8888888888888888,
              "#fdca26"
             ],
             [
              1,
              "#f0f921"
             ]
            ],
            "type": "histogram2dcontour"
           }
          ],
          "mesh3d": [
           {
            "colorbar": {
             "outlinewidth": 0,
             "ticks": ""
            },
            "type": "mesh3d"
           }
          ],
          "parcoords": [
           {
            "line": {
             "colorbar": {
              "outlinewidth": 0,
              "ticks": ""
             }
            },
            "type": "parcoords"
           }
          ],
          "pie": [
           {
            "automargin": true,
            "type": "pie"
           }
          ],
          "scatter": [
           {
            "marker": {
             "colorbar": {
              "outlinewidth": 0,
              "ticks": ""
             }
            },
            "type": "scatter"
           }
          ],
          "scatter3d": [
           {
            "line": {
             "colorbar": {
              "outlinewidth": 0,
              "ticks": ""
             }
            },
            "marker": {
             "colorbar": {
              "outlinewidth": 0,
              "ticks": ""
             }
            },
            "type": "scatter3d"
           }
          ],
          "scattercarpet": [
           {
            "marker": {
             "colorbar": {
              "outlinewidth": 0,
              "ticks": ""
             }
            },
            "type": "scattercarpet"
           }
          ],
          "scattergeo": [
           {
            "marker": {
             "colorbar": {
              "outlinewidth": 0,
              "ticks": ""
             }
            },
            "type": "scattergeo"
           }
          ],
          "scattergl": [
           {
            "marker": {
             "colorbar": {
              "outlinewidth": 0,
              "ticks": ""
             }
            },
            "type": "scattergl"
           }
          ],
          "scattermapbox": [
           {
            "marker": {
             "colorbar": {
              "outlinewidth": 0,
              "ticks": ""
             }
            },
            "type": "scattermapbox"
           }
          ],
          "scatterpolar": [
           {
            "marker": {
             "colorbar": {
              "outlinewidth": 0,
              "ticks": ""
             }
            },
            "type": "scatterpolar"
           }
          ],
          "scatterpolargl": [
           {
            "marker": {
             "colorbar": {
              "outlinewidth": 0,
              "ticks": ""
             }
            },
            "type": "scatterpolargl"
           }
          ],
          "scatterternary": [
           {
            "marker": {
             "colorbar": {
              "outlinewidth": 0,
              "ticks": ""
             }
            },
            "type": "scatterternary"
           }
          ],
          "surface": [
           {
            "colorbar": {
             "outlinewidth": 0,
             "ticks": ""
            },
            "colorscale": [
             [
              0,
              "#0d0887"
             ],
             [
              0.1111111111111111,
              "#46039f"
             ],
             [
              0.2222222222222222,
              "#7201a8"
             ],
             [
              0.3333333333333333,
              "#9c179e"
             ],
             [
              0.4444444444444444,
              "#bd3786"
             ],
             [
              0.5555555555555556,
              "#d8576b"
             ],
             [
              0.6666666666666666,
              "#ed7953"
             ],
             [
              0.7777777777777778,
              "#fb9f3a"
             ],
             [
              0.8888888888888888,
              "#fdca26"
             ],
             [
              1,
              "#f0f921"
             ]
            ],
            "type": "surface"
           }
          ],
          "table": [
           {
            "cells": {
             "fill": {
              "color": "#EBF0F8"
             },
             "line": {
              "color": "white"
             }
            },
            "header": {
             "fill": {
              "color": "#C8D4E3"
             },
             "line": {
              "color": "white"
             }
            },
            "type": "table"
           }
          ]
         },
         "layout": {
          "annotationdefaults": {
           "arrowcolor": "#2a3f5f",
           "arrowhead": 0,
           "arrowwidth": 1
          },
          "autotypenumbers": "strict",
          "coloraxis": {
           "colorbar": {
            "outlinewidth": 0,
            "ticks": ""
           }
          },
          "colorscale": {
           "diverging": [
            [
             0,
             "#8e0152"
            ],
            [
             0.1,
             "#c51b7d"
            ],
            [
             0.2,
             "#de77ae"
            ],
            [
             0.3,
             "#f1b6da"
            ],
            [
             0.4,
             "#fde0ef"
            ],
            [
             0.5,
             "#f7f7f7"
            ],
            [
             0.6,
             "#e6f5d0"
            ],
            [
             0.7,
             "#b8e186"
            ],
            [
             0.8,
             "#7fbc41"
            ],
            [
             0.9,
             "#4d9221"
            ],
            [
             1,
             "#276419"
            ]
           ],
           "sequential": [
            [
             0,
             "#0d0887"
            ],
            [
             0.1111111111111111,
             "#46039f"
            ],
            [
             0.2222222222222222,
             "#7201a8"
            ],
            [
             0.3333333333333333,
             "#9c179e"
            ],
            [
             0.4444444444444444,
             "#bd3786"
            ],
            [
             0.5555555555555556,
             "#d8576b"
            ],
            [
             0.6666666666666666,
             "#ed7953"
            ],
            [
             0.7777777777777778,
             "#fb9f3a"
            ],
            [
             0.8888888888888888,
             "#fdca26"
            ],
            [
             1,
             "#f0f921"
            ]
           ],
           "sequentialminus": [
            [
             0,
             "#0d0887"
            ],
            [
             0.1111111111111111,
             "#46039f"
            ],
            [
             0.2222222222222222,
             "#7201a8"
            ],
            [
             0.3333333333333333,
             "#9c179e"
            ],
            [
             0.4444444444444444,
             "#bd3786"
            ],
            [
             0.5555555555555556,
             "#d8576b"
            ],
            [
             0.6666666666666666,
             "#ed7953"
            ],
            [
             0.7777777777777778,
             "#fb9f3a"
            ],
            [
             0.8888888888888888,
             "#fdca26"
            ],
            [
             1,
             "#f0f921"
            ]
           ]
          },
          "colorway": [
           "#636efa",
           "#EF553B",
           "#00cc96",
           "#ab63fa",
           "#FFA15A",
           "#19d3f3",
           "#FF6692",
           "#B6E880",
           "#FF97FF",
           "#FECB52"
          ],
          "font": {
           "color": "#2a3f5f"
          },
          "geo": {
           "bgcolor": "white",
           "lakecolor": "white",
           "landcolor": "#E5ECF6",
           "showlakes": true,
           "showland": true,
           "subunitcolor": "white"
          },
          "hoverlabel": {
           "align": "left"
          },
          "hovermode": "closest",
          "mapbox": {
           "style": "light"
          },
          "paper_bgcolor": "white",
          "plot_bgcolor": "#E5ECF6",
          "polar": {
           "angularaxis": {
            "gridcolor": "white",
            "linecolor": "white",
            "ticks": ""
           },
           "bgcolor": "#E5ECF6",
           "radialaxis": {
            "gridcolor": "white",
            "linecolor": "white",
            "ticks": ""
           }
          },
          "scene": {
           "xaxis": {
            "backgroundcolor": "#E5ECF6",
            "gridcolor": "white",
            "gridwidth": 2,
            "linecolor": "white",
            "showbackground": true,
            "ticks": "",
            "zerolinecolor": "white"
           },
           "yaxis": {
            "backgroundcolor": "#E5ECF6",
            "gridcolor": "white",
            "gridwidth": 2,
            "linecolor": "white",
            "showbackground": true,
            "ticks": "",
            "zerolinecolor": "white"
           },
           "zaxis": {
            "backgroundcolor": "#E5ECF6",
            "gridcolor": "white",
            "gridwidth": 2,
            "linecolor": "white",
            "showbackground": true,
            "ticks": "",
            "zerolinecolor": "white"
           }
          },
          "shapedefaults": {
           "line": {
            "color": "#2a3f5f"
           }
          },
          "ternary": {
           "aaxis": {
            "gridcolor": "white",
            "linecolor": "white",
            "ticks": ""
           },
           "baxis": {
            "gridcolor": "white",
            "linecolor": "white",
            "ticks": ""
           },
           "bgcolor": "#E5ECF6",
           "caxis": {
            "gridcolor": "white",
            "linecolor": "white",
            "ticks": ""
           }
          },
          "title": {
           "x": 0.05
          },
          "xaxis": {
           "automargin": true,
           "gridcolor": "white",
           "linecolor": "white",
           "ticks": "",
           "title": {
            "standoff": 15
           },
           "zerolinecolor": "white",
           "zerolinewidth": 2
          },
          "yaxis": {
           "automargin": true,
           "gridcolor": "white",
           "linecolor": "white",
           "ticks": "",
           "title": {
            "standoff": 15
           },
           "zerolinecolor": "white",
           "zerolinewidth": 2
          }
         }
        }
       }
      },
      "text/html": [
       "<div>                            <div id=\"d503c726-bce0-406b-92e2-2b9c3005d641\" class=\"plotly-graph-div\" style=\"height:525px; width:100%;\"></div>            <script type=\"text/javascript\">                require([\"plotly\"], function(Plotly) {                    window.PLOTLYENV=window.PLOTLYENV || {};                                    if (document.getElementById(\"d503c726-bce0-406b-92e2-2b9c3005d641\")) {                    Plotly.newPlot(                        \"d503c726-bce0-406b-92e2-2b9c3005d641\",                        [{\"branchvalues\":\"total\",\"customdata\":[[\"(?)\",2.8263825929283772],[\"(?)\",2.8333333333333335],[\"(?)\",4.552359295054008],[\"No\",0.0],[\"No\",2.2222222222222223],[\"(?)\",2.3202749357589894],[\"(?)\",4.356964366838679],[\"(?)\",8.366401892851107],[\"(?)\",0.14031833413116324],[\"(?)\",3.2016129032258065],[\"(?)\",5.206722405052032],[\"(?)\",3.40234375],[\"No\",0.3654485049833887],[\"(?)\",2.398008470374935],[\"(?)\",4.401565],[\"(?)\",6.9078383206788745],[\"(?)\",0.15205284996724178]],\"domain\":{\"x\":[0.0,1.0],\"y\":[0.0,1.0]},\"hovertemplate\":\"labels=%{label}<br>Age=%{value}<br>parent=%{parent}<br>id=%{id}<br>Marital Status?=%{customdata[0]}<br>Working experience=%{color}<extra></extra>\",\"ids\":[\"Bachelors/East\",\"Masters/East\",\"PhD/East\",\"Pre-Bachelors/East\",\"Masters/India\",\"Bachelors/Pakistan\",\"Masters/Pakistan\",\"PhD/Pakistan\",\"Pre-Bachelors/Pakistan\",\"Bachelors/West\",\"Masters/West\",\"PhD/West\",\"Pre-Bachelors/West\",\"Bachelors\",\"Masters\",\"PhD\",\"Pre-Bachelors\"],\"labels\":[\"East\",\"East\",\"East\",\"East\",\"India\",\"Pakistan\",\"Pakistan\",\"Pakistan\",\"Pakistan\",\"West\",\"West\",\"West\",\"West\",\"Bachelors\",\"Masters\",\"PhD\",\"Pre-Bachelors\"],\"marker\":{\"coloraxis\":\"coloraxis\",\"colors\":[2.8263825929283772,2.8333333333333335,4.552359295054008,0.0,2.2222222222222223,2.3202749357589894,4.356964366838679,8.366401892851107,0.14031833413116324,3.2016129032258065,5.206722405052032,3.40234375,0.3654485049833887,2.398008470374935,4.401565,6.9078383206788745,0.15205284996724178]},\"name\":\"\",\"parents\":[\"Bachelors\",\"Masters\",\"PhD\",\"Pre-Bachelors\",\"Masters\",\"Bachelors\",\"Masters\",\"PhD\",\"Pre-Bachelors\",\"Bachelors\",\"Masters\",\"PhD\",\"Pre-Bachelors\",\"\",\"\",\"\",\"\"],\"values\":[110.3,91.5,175.9,20.0,54.0,3171.65,4292.35,591.7,835.6,248.0,562.15,128.0,60.2,3529.95,5000.0,895.6,915.8],\"type\":\"sunburst\"}],                        {\"template\":{\"data\":{\"bar\":[{\"error_x\":{\"color\":\"#2a3f5f\"},\"error_y\":{\"color\":\"#2a3f5f\"},\"marker\":{\"line\":{\"color\":\"#E5ECF6\",\"width\":0.5},\"pattern\":{\"fillmode\":\"overlay\",\"size\":10,\"solidity\":0.2}},\"type\":\"bar\"}],\"barpolar\":[{\"marker\":{\"line\":{\"color\":\"#E5ECF6\",\"width\":0.5},\"pattern\":{\"fillmode\":\"overlay\",\"size\":10,\"solidity\":0.2}},\"type\":\"barpolar\"}],\"carpet\":[{\"aaxis\":{\"endlinecolor\":\"#2a3f5f\",\"gridcolor\":\"white\",\"linecolor\":\"white\",\"minorgridcolor\":\"white\",\"startlinecolor\":\"#2a3f5f\"},\"baxis\":{\"endlinecolor\":\"#2a3f5f\",\"gridcolor\":\"white\",\"linecolor\":\"white\",\"minorgridcolor\":\"white\",\"startlinecolor\":\"#2a3f5f\"},\"type\":\"carpet\"}],\"choropleth\":[{\"colorbar\":{\"outlinewidth\":0,\"ticks\":\"\"},\"type\":\"choropleth\"}],\"contour\":[{\"colorbar\":{\"outlinewidth\":0,\"ticks\":\"\"},\"colorscale\":[[0.0,\"#0d0887\"],[0.1111111111111111,\"#46039f\"],[0.2222222222222222,\"#7201a8\"],[0.3333333333333333,\"#9c179e\"],[0.4444444444444444,\"#bd3786\"],[0.5555555555555556,\"#d8576b\"],[0.6666666666666666,\"#ed7953\"],[0.7777777777777778,\"#fb9f3a\"],[0.8888888888888888,\"#fdca26\"],[1.0,\"#f0f921\"]],\"type\":\"contour\"}],\"contourcarpet\":[{\"colorbar\":{\"outlinewidth\":0,\"ticks\":\"\"},\"type\":\"contourcarpet\"}],\"heatmap\":[{\"colorbar\":{\"outlinewidth\":0,\"ticks\":\"\"},\"colorscale\":[[0.0,\"#0d0887\"],[0.1111111111111111,\"#46039f\"],[0.2222222222222222,\"#7201a8\"],[0.3333333333333333,\"#9c179e\"],[0.4444444444444444,\"#bd3786\"],[0.5555555555555556,\"#d8576b\"],[0.6666666666666666,\"#ed7953\"],[0.7777777777777778,\"#fb9f3a\"],[0.8888888888888888,\"#fdca26\"],[1.0,\"#f0f921\"]],\"type\":\"heatmap\"}],\"heatmapgl\":[{\"colorbar\":{\"outlinewidth\":0,\"ticks\":\"\"},\"colorscale\":[[0.0,\"#0d0887\"],[0.1111111111111111,\"#46039f\"],[0.2222222222222222,\"#7201a8\"],[0.3333333333333333,\"#9c179e\"],[0.4444444444444444,\"#bd3786\"],[0.5555555555555556,\"#d8576b\"],[0.6666666666666666,\"#ed7953\"],[0.7777777777777778,\"#fb9f3a\"],[0.8888888888888888,\"#fdca26\"],[1.0,\"#f0f921\"]],\"type\":\"heatmapgl\"}],\"histogram\":[{\"marker\":{\"pattern\":{\"fillmode\":\"overlay\",\"size\":10,\"solidity\":0.2}},\"type\":\"histogram\"}],\"histogram2d\":[{\"colorbar\":{\"outlinewidth\":0,\"ticks\":\"\"},\"colorscale\":[[0.0,\"#0d0887\"],[0.1111111111111111,\"#46039f\"],[0.2222222222222222,\"#7201a8\"],[0.3333333333333333,\"#9c179e\"],[0.4444444444444444,\"#bd3786\"],[0.5555555555555556,\"#d8576b\"],[0.6666666666666666,\"#ed7953\"],[0.7777777777777778,\"#fb9f3a\"],[0.8888888888888888,\"#fdca26\"],[1.0,\"#f0f921\"]],\"type\":\"histogram2d\"}],\"histogram2dcontour\":[{\"colorbar\":{\"outlinewidth\":0,\"ticks\":\"\"},\"colorscale\":[[0.0,\"#0d0887\"],[0.1111111111111111,\"#46039f\"],[0.2222222222222222,\"#7201a8\"],[0.3333333333333333,\"#9c179e\"],[0.4444444444444444,\"#bd3786\"],[0.5555555555555556,\"#d8576b\"],[0.6666666666666666,\"#ed7953\"],[0.7777777777777778,\"#fb9f3a\"],[0.8888888888888888,\"#fdca26\"],[1.0,\"#f0f921\"]],\"type\":\"histogram2dcontour\"}],\"mesh3d\":[{\"colorbar\":{\"outlinewidth\":0,\"ticks\":\"\"},\"type\":\"mesh3d\"}],\"parcoords\":[{\"line\":{\"colorbar\":{\"outlinewidth\":0,\"ticks\":\"\"}},\"type\":\"parcoords\"}],\"pie\":[{\"automargin\":true,\"type\":\"pie\"}],\"scatter\":[{\"marker\":{\"colorbar\":{\"outlinewidth\":0,\"ticks\":\"\"}},\"type\":\"scatter\"}],\"scatter3d\":[{\"line\":{\"colorbar\":{\"outlinewidth\":0,\"ticks\":\"\"}},\"marker\":{\"colorbar\":{\"outlinewidth\":0,\"ticks\":\"\"}},\"type\":\"scatter3d\"}],\"scattercarpet\":[{\"marker\":{\"colorbar\":{\"outlinewidth\":0,\"ticks\":\"\"}},\"type\":\"scattercarpet\"}],\"scattergeo\":[{\"marker\":{\"colorbar\":{\"outlinewidth\":0,\"ticks\":\"\"}},\"type\":\"scattergeo\"}],\"scattergl\":[{\"marker\":{\"colorbar\":{\"outlinewidth\":0,\"ticks\":\"\"}},\"type\":\"scattergl\"}],\"scattermapbox\":[{\"marker\":{\"colorbar\":{\"outlinewidth\":0,\"ticks\":\"\"}},\"type\":\"scattermapbox\"}],\"scatterpolar\":[{\"marker\":{\"colorbar\":{\"outlinewidth\":0,\"ticks\":\"\"}},\"type\":\"scatterpolar\"}],\"scatterpolargl\":[{\"marker\":{\"colorbar\":{\"outlinewidth\":0,\"ticks\":\"\"}},\"type\":\"scatterpolargl\"}],\"scatterternary\":[{\"marker\":{\"colorbar\":{\"outlinewidth\":0,\"ticks\":\"\"}},\"type\":\"scatterternary\"}],\"surface\":[{\"colorbar\":{\"outlinewidth\":0,\"ticks\":\"\"},\"colorscale\":[[0.0,\"#0d0887\"],[0.1111111111111111,\"#46039f\"],[0.2222222222222222,\"#7201a8\"],[0.3333333333333333,\"#9c179e\"],[0.4444444444444444,\"#bd3786\"],[0.5555555555555556,\"#d8576b\"],[0.6666666666666666,\"#ed7953\"],[0.7777777777777778,\"#fb9f3a\"],[0.8888888888888888,\"#fdca26\"],[1.0,\"#f0f921\"]],\"type\":\"surface\"}],\"table\":[{\"cells\":{\"fill\":{\"color\":\"#EBF0F8\"},\"line\":{\"color\":\"white\"}},\"header\":{\"fill\":{\"color\":\"#C8D4E3\"},\"line\":{\"color\":\"white\"}},\"type\":\"table\"}]},\"layout\":{\"annotationdefaults\":{\"arrowcolor\":\"#2a3f5f\",\"arrowhead\":0,\"arrowwidth\":1},\"autotypenumbers\":\"strict\",\"coloraxis\":{\"colorbar\":{\"outlinewidth\":0,\"ticks\":\"\"}},\"colorscale\":{\"diverging\":[[0,\"#8e0152\"],[0.1,\"#c51b7d\"],[0.2,\"#de77ae\"],[0.3,\"#f1b6da\"],[0.4,\"#fde0ef\"],[0.5,\"#f7f7f7\"],[0.6,\"#e6f5d0\"],[0.7,\"#b8e186\"],[0.8,\"#7fbc41\"],[0.9,\"#4d9221\"],[1,\"#276419\"]],\"sequential\":[[0.0,\"#0d0887\"],[0.1111111111111111,\"#46039f\"],[0.2222222222222222,\"#7201a8\"],[0.3333333333333333,\"#9c179e\"],[0.4444444444444444,\"#bd3786\"],[0.5555555555555556,\"#d8576b\"],[0.6666666666666666,\"#ed7953\"],[0.7777777777777778,\"#fb9f3a\"],[0.8888888888888888,\"#fdca26\"],[1.0,\"#f0f921\"]],\"sequentialminus\":[[0.0,\"#0d0887\"],[0.1111111111111111,\"#46039f\"],[0.2222222222222222,\"#7201a8\"],[0.3333333333333333,\"#9c179e\"],[0.4444444444444444,\"#bd3786\"],[0.5555555555555556,\"#d8576b\"],[0.6666666666666666,\"#ed7953\"],[0.7777777777777778,\"#fb9f3a\"],[0.8888888888888888,\"#fdca26\"],[1.0,\"#f0f921\"]]},\"colorway\":[\"#636efa\",\"#EF553B\",\"#00cc96\",\"#ab63fa\",\"#FFA15A\",\"#19d3f3\",\"#FF6692\",\"#B6E880\",\"#FF97FF\",\"#FECB52\"],\"font\":{\"color\":\"#2a3f5f\"},\"geo\":{\"bgcolor\":\"white\",\"lakecolor\":\"white\",\"landcolor\":\"#E5ECF6\",\"showlakes\":true,\"showland\":true,\"subunitcolor\":\"white\"},\"hoverlabel\":{\"align\":\"left\"},\"hovermode\":\"closest\",\"mapbox\":{\"style\":\"light\"},\"paper_bgcolor\":\"white\",\"plot_bgcolor\":\"#E5ECF6\",\"polar\":{\"angularaxis\":{\"gridcolor\":\"white\",\"linecolor\":\"white\",\"ticks\":\"\"},\"bgcolor\":\"#E5ECF6\",\"radialaxis\":{\"gridcolor\":\"white\",\"linecolor\":\"white\",\"ticks\":\"\"}},\"scene\":{\"xaxis\":{\"backgroundcolor\":\"#E5ECF6\",\"gridcolor\":\"white\",\"gridwidth\":2,\"linecolor\":\"white\",\"showbackground\":true,\"ticks\":\"\",\"zerolinecolor\":\"white\"},\"yaxis\":{\"backgroundcolor\":\"#E5ECF6\",\"gridcolor\":\"white\",\"gridwidth\":2,\"linecolor\":\"white\",\"showbackground\":true,\"ticks\":\"\",\"zerolinecolor\":\"white\"},\"zaxis\":{\"backgroundcolor\":\"#E5ECF6\",\"gridcolor\":\"white\",\"gridwidth\":2,\"linecolor\":\"white\",\"showbackground\":true,\"ticks\":\"\",\"zerolinecolor\":\"white\"}},\"shapedefaults\":{\"line\":{\"color\":\"#2a3f5f\"}},\"ternary\":{\"aaxis\":{\"gridcolor\":\"white\",\"linecolor\":\"white\",\"ticks\":\"\"},\"baxis\":{\"gridcolor\":\"white\",\"linecolor\":\"white\",\"ticks\":\"\"},\"bgcolor\":\"#E5ECF6\",\"caxis\":{\"gridcolor\":\"white\",\"linecolor\":\"white\",\"ticks\":\"\"}},\"title\":{\"x\":0.05},\"xaxis\":{\"automargin\":true,\"gridcolor\":\"white\",\"linecolor\":\"white\",\"ticks\":\"\",\"title\":{\"standoff\":15},\"zerolinecolor\":\"white\",\"zerolinewidth\":2},\"yaxis\":{\"automargin\":true,\"gridcolor\":\"white\",\"linecolor\":\"white\",\"ticks\":\"\",\"title\":{\"standoff\":15},\"zerolinecolor\":\"white\",\"zerolinewidth\":2}}},\"coloraxis\":{\"colorbar\":{\"title\":{\"text\":\"Working experience\"}},\"colorscale\":[[0.0,\"#0d0887\"],[0.1111111111111111,\"#46039f\"],[0.2222222222222222,\"#7201a8\"],[0.3333333333333333,\"#9c179e\"],[0.4444444444444444,\"#bd3786\"],[0.5555555555555556,\"#d8576b\"],[0.6666666666666666,\"#ed7953\"],[0.7777777777777778,\"#fb9f3a\"],[0.8888888888888888,\"#fdca26\"],[1.0,\"#f0f921\"]]},\"legend\":{\"tracegroupgap\":0},\"margin\":{\"t\":60}},                        {\"responsive\": true}                    ).then(function(){\n",
       "                            \n",
       "var gd = document.getElementById('d503c726-bce0-406b-92e2-2b9c3005d641');\n",
       "var x = new MutationObserver(function (mutations, observer) {{\n",
       "        var display = window.getComputedStyle(gd).display;\n",
       "        if (!display || display === 'none') {{\n",
       "            console.log([gd, 'removed!']);\n",
       "            Plotly.purge(gd);\n",
       "            observer.disconnect();\n",
       "        }}\n",
       "}});\n",
       "\n",
       "// Listen for the removal of the full notebook cells\n",
       "var notebookContainer = gd.closest('#notebook-container');\n",
       "if (notebookContainer) {{\n",
       "    x.observe(notebookContainer, {childList: true});\n",
       "}}\n",
       "\n",
       "// Listen for the clearing of the current output cell\n",
       "var outputEl = gd.closest('.output');\n",
       "if (outputEl) {{\n",
       "    x.observe(outputEl, {childList: true});\n",
       "}}\n",
       "\n",
       "                        })                };                });            </script>        </div>"
      ]
     },
     "metadata": {},
     "output_type": "display_data"
    }
   ],
   "source": [
    "import plotly.express as px\n",
    "import pandas as pd \n",
    "data= pd.read_csv(\"new_data.csv\")\n",
    "\n",
    "fig = px.sunburst(data, path=['Qualification', 'Location'], values='Age',\n",
    "                  color='Working experience', hover_data=['Marital Status?'])\n",
    "fig.show()"
   ]
  },
  {
   "cell_type": "markdown",
   "id": "3b2ee731",
   "metadata": {},
   "source": [
    "---"
   ]
  },
  {
   "cell_type": "code",
   "execution_count": 73,
   "id": "f8139eea",
   "metadata": {
    "scrolled": true
   },
   "outputs": [
    {
     "data": {
      "application/vnd.plotly.v1+json": {
       "config": {
        "plotlyServerURL": "https://plot.ly"
       },
       "data": [
        {
         "alignmentgroup": "True",
         "box": {
          "visible": true
         },
         "customdata": [
          [
           "Male",
           "Pakistan",
           "36-40",
           "Masters",
           "Natural Sciences",
           "to boost my skill set",
           "Unemplyed",
           "B+",
           "U-fone",
           "Prepaid",
           "Apna Laptop",
           "No",
           ">3 years ago",
           "Python",
           "Yes",
           "Urbun",
           5,
           77,
           179,
           3,
           2
          ],
          [
           "Male",
           "Pakistan",
           "26-30",
           "Bachelors",
           "CS/IT",
           "to boost my skill set",
           "Student",
           "B+",
           "U-fone",
           "Prepaid",
           "Apna Laptop",
           "No",
           ">3 years ago",
           "Python",
           "Yes",
           "Urbun",
           1,
           53.6,
           178,
           2,
           6
          ],
          [
           "Male",
           "Pakistan",
           "31-35",
           "Masters",
           "Enginnering",
           "Switch my field of study",
           "Employed",
           "B+",
           "Zong",
           "Prepaid",
           "Apna Laptop",
           "Yes",
           ">3 years ago",
           "Python",
           "Yes",
           "Urbun",
           5.5,
           93,
           173,
           2,
           0
          ],
          [
           "Male",
           "Pakistan",
           "36-40",
           "Masters",
           "Others",
           "Switch my field of study",
           "Employed",
           "B+",
           "Mobilink",
           "Prepaid",
           "Apna Laptop",
           "Yes",
           "<3 years ago",
           "Javascript",
           "Yes",
           "Urbun",
           15,
           99,
           178,
           1,
           0
          ],
          [
           "Male",
           "Pakistan",
           "21-25",
           "Masters",
           "Enginnering",
           "to boost my skill set",
           "Student",
           "O+",
           "Mobilink",
           "Prepaid",
           "Kisi ka laptop",
           "Yes",
           "In this chilla",
           "Python",
           "No",
           "Urbun",
           0,
           58,
           180.34,
           1,
           2
          ],
          [
           "Male",
           "West",
           "26-30",
           "Bachelors",
           "CS/IT",
           "to boost my skill set",
           "Student",
           "AB+",
           "International",
           "Prepaid",
           "Apna Laptop",
           "No",
           ">3 years ago",
           "Python",
           "Yes",
           "International",
           4,
           100,
           187,
           3,
           0
          ],
          [
           "Male",
           "Pakistan",
           "21-25",
           "Bachelors",
           "CS/IT",
           "to boost my skill set",
           "Unemplyed",
           "O+",
           "Zong",
           "Prepaid",
           "Apna Laptop",
           "No",
           ">3 years ago",
           "Python",
           "Yes",
           "Rural",
           0.5,
           76.8,
           1.75,
           3,
           0
          ],
          [
           "Male",
           "West",
           "21-25",
           "Bachelors",
           "Natural Sciences",
           "to boost my skill set",
           "Student",
           "B+",
           "Mobilink",
           "Prepaid",
           "Apna Laptop",
           "No",
           "<3 years ago",
           "Python",
           "No",
           "International",
           0.5,
           84,
           183,
           3,
           0
          ],
          [
           "Male",
           "East",
           "21-25",
           "PhD",
           "Natural Sciences",
           "to boost my skill set",
           "Student",
           "A+",
           "International",
           "Prepaid",
           "Apna Laptop",
           "No",
           "In this chilla",
           "Python",
           "Yes",
           "International",
           3,
           78,
           165,
           5,
           0
          ],
          [
           "Male",
           "Pakistan",
           "26-30",
           "Masters",
           "CS/IT",
           "to boost my skill set",
           "Unemplyed",
           "B+",
           "Telenor",
           "Prepaid",
           "Apna Laptop",
           "No",
           ">3 years ago",
           "Python",
           "Yes",
           "Urbun",
           2,
           50,
           163,
           1,
           0
          ],
          [
           "Male",
           "Pakistan",
           "21-25",
           "Pre-Bachelors",
           "Enginnering",
           "to boost my skill set",
           "Student",
           "O+",
           "Mobilink",
           "Prepaid",
           "Apna Laptop",
           "No",
           "<3 years ago",
           "Python",
           "Yes",
           "Urbun",
           1,
           63,
           178.2,
           1,
           1
          ],
          [
           "Male",
           "Pakistan",
           "21-25",
           "Bachelors",
           "CS/IT",
           "to boost my skill set",
           "Employed",
           "A+",
           "U-fone",
           "Prepaid",
           "Apna Laptop",
           "No",
           ">3 years ago",
           "Python",
           "Yes",
           "Urbun",
           2,
           88.2,
           185,
           4,
           2
          ],
          [
           "Male",
           "East",
           "21-25",
           "Masters",
           "Biology",
           "to boost my skill set",
           "Student",
           "O+",
           "International",
           "Postpaid",
           "Apna Laptop",
           "Yes",
           "In this chilla",
           "Python",
           "Yes",
           "International",
           2.5,
           68.5,
           180,
           2,
           0
          ],
          [
           "Male",
           "Pakistan",
           "31-35",
           "Masters",
           "CS/IT",
           "to boost my skill set",
           "Employed",
           "B+",
           "Zong",
           "Postpaid",
           "Apna Laptop",
           "No",
           ">3 years ago",
           "Python",
           "Yes",
           "Urbun",
           2,
           75.8,
           174,
           1,
           0
          ],
          [
           "Male",
           "Pakistan",
           "31-35",
           "Bachelors",
           "Enginnering",
           "to boost my skill set",
           "Employed",
           "O+",
           "Mobilink",
           "Prepaid",
           "Apna Laptop",
           "Yes",
           ">3 years ago",
           "C++",
           "Yes",
           "Urbun",
           5.5,
           72,
           164,
           4,
           0
          ],
          [
           "Male",
           "East",
           "26-30",
           "PhD",
           "Enginnering",
           "to boost my skill set",
           "Employed",
           "AB+",
           "International",
           "Prepaid",
           "Apna Laptop",
           "No",
           "In this chilla",
           "Python",
           "Yes",
           "International",
           0.6,
           74.5,
           174,
           2,
           0
          ],
          [
           "Male",
           "Pakistan",
           "21-25",
           "Bachelors",
           "Enginnering",
           "to boost my skill set",
           "Unemplyed",
           "B+",
           "Zong",
           "Prepaid",
           "Apna Laptop",
           "Yes",
           "In this chilla",
           "Python",
           "Yes",
           "Urbun",
           0,
           130,
           172.72,
           4,
           5
          ],
          [
           "Male",
           "Pakistan",
           "31-35",
           "Masters",
           "Enginnering",
           "to boost my skill set",
           "Employed",
           "O+",
           "Mobilink",
           "Prepaid",
           "Apna Laptop",
           "No",
           "<3 years ago",
           "Python",
           "Yes",
           "Rural",
           2.5,
           72.5,
           170.18,
           3,
           3
          ],
          [
           "Male",
           "Pakistan",
           "31-35",
           "PhD",
           "Enginnering",
           "to boost my skill set",
           "Employed",
           "O+",
           "Zong",
           "Postpaid",
           "Apna Laptop",
           "No",
           "In this chilla",
           "Python",
           "Yes",
           "Urbun",
           2,
           70.2,
           168,
           3,
           8
          ],
          [
           "Male",
           "Pakistan",
           "21-25",
           "Pre-Bachelors",
           "Enginnering",
           "Switch my field of study",
           "Student",
           "O+",
           "Zong",
           "Prepaid",
           "Apna Laptop",
           "No",
           "<3 years ago",
           "Python",
           "Yes",
           "Urbun",
           0,
           55,
           182.88,
           1,
           1
          ],
          [
           "Male",
           "East",
           "26-30",
           "PhD",
           "Others",
           "to boost my skill set",
           "Student",
           "AB+",
           "International",
           "Postpaid",
           "Apna Laptop",
           "No",
           "<3 years ago",
           "Python",
           "Yes",
           "International",
           4.5,
           65.5,
           174.5,
           3,
           1
          ],
          [
           "Male",
           "Pakistan",
           "21-25",
           "Bachelors",
           "Enginnering",
           "Switch my field of study",
           "Student",
           "B+",
           "Zong",
           "Prepaid",
           "Apna Laptop",
           "No",
           ">3 years ago",
           "Python",
           "Yes",
           "Rural",
           0,
           83.5,
           172.72,
           3,
           2
          ],
          [
           "Male",
           "Pakistan",
           "26-30",
           "PhD",
           "Biology",
           "to boost my skill set",
           "Student",
           "B+",
           "Zong",
           "Prepaid",
           "Apna Laptop",
           "No",
           "In this chilla",
           "Python",
           "Yes",
           "Rural",
           9,
           60,
           164.59,
           3,
           9
          ],
          [
           "Male",
           "Pakistan",
           "21-25",
           "Bachelors",
           "Enginnering",
           "Switch my field of study",
           "Employed",
           "O+",
           "U-fone",
           "Prepaid",
           "Apna Laptop",
           "No",
           "<3 years ago",
           "Python",
           "Yes",
           "Urbun",
           3.1,
           69.5,
           163.2,
           5,
           0
          ],
          [
           "Male",
           "Pakistan",
           "31-35",
           "Bachelors",
           "CS/IT",
           "to boost my skill set",
           "Employed",
           "B+",
           "Mobilink",
           "Postpaid",
           "Apna Laptop",
           "No",
           ">3 years ago",
           "Python",
           "Yes",
           "Urbun",
           4,
           72,
           177,
           1,
           0
          ],
          [
           "Male",
           "East",
           "31-35",
           "PhD",
           "Biology",
           "Switch my field of study",
           "Employed",
           "O+",
           "International",
           "Prepaid",
           "Apna Laptop",
           "No",
           "In this chilla",
           "Python",
           "Yes",
           "International",
           8.4,
           97.5,
           177,
           5,
           1
          ],
          [
           "Male",
           "East",
           "26-30",
           "PhD",
           "Enginnering",
           "to boost my skill set",
           "Employed",
           "AB+",
           "International",
           "Prepaid",
           "Apna Laptop",
           "No",
           "In this chilla",
           "Python",
           "Yes",
           "International",
           6,
           85,
           178,
           4,
           0
          ],
          [
           "Male",
           "Pakistan",
           "26-30",
           "Bachelors",
           "Business/Economics",
           "to boost my skill set",
           "Unemplyed",
           "B+",
           "Telenor",
           "Prepaid",
           "Kisi ka laptop",
           "No",
           "In this chilla",
           "Python",
           "Yes",
           "Rural",
           1,
           55.5,
           164,
           3,
           4
          ],
          [
           "Male",
           "West",
           "31-35",
           "PhD",
           "Enginnering",
           "to boost my skill set",
           "Student",
           "B-",
           "International",
           "Postpaid",
           "Apna Laptop",
           "Yes",
           "<3 years ago",
           "Python",
           "Yes",
           "International",
           2,
           80,
           176,
           3,
           0
          ],
          [
           "Male",
           "Pakistan",
           "26-30",
           "Bachelors",
           "Enginnering",
           "Switch my field of study",
           "Student",
           "A-",
           "Telenor",
           "Prepaid",
           "Apna Laptop",
           "No",
           "<3 years ago",
           "Python",
           "No",
           "Urbun",
           0,
           78,
           179,
           4,
           4
          ],
          [
           "Male",
           "Pakistan",
           "21-25",
           "Pre-Bachelors",
           "CS/IT",
           "to boost my skill set",
           "Student",
           "A+",
           "Zong",
           "Prepaid",
           "Apna Laptop",
           "No",
           "<3 years ago",
           "Python",
           "Yes",
           "Rural",
           0,
           52.5,
           164.344,
           1,
           0
          ],
          [
           "Male",
           "Pakistan",
           "21-25",
           "Masters",
           "Mathematics",
           "Abhi tak pata nahi",
           "Employed",
           "A-",
           "Telenor",
           "Prepaid",
           "Kisi ka laptop",
           "No",
           "<3 years ago",
           "C++",
           "Yes",
           "Rural",
           0,
           67,
           155,
           2,
           1
          ],
          [
           "Male",
           "Pakistan",
           "21-25",
           "Bachelors",
           "Enginnering",
           "Switch my field of study",
           "Unemplyed",
           "AB+",
           "U-fone",
           "Prepaid",
           "Apna Laptop",
           "No",
           "<3 years ago",
           "Python",
           "Yes",
           "Urbun",
           0.2,
           93.5,
           177.5,
           2,
           2
          ],
          [
           "Male",
           "West",
           "26-30",
           "Masters",
           "Biology",
           "to boost my skill set",
           "Student",
           "B+",
           "International",
           "Prepaid",
           "Apna Laptop",
           "No",
           "<3 years ago",
           "R",
           "Yes",
           "International",
           4.5,
           68.3,
           175.25,
           3,
           0
          ],
          [
           "Male",
           "Pakistan",
           "26-30",
           "Masters",
           "Software Eng.",
           "to boost my skill set",
           "Employed",
           "O+",
           "Mobilink",
           "Prepaid",
           "Apna Laptop",
           "No",
           ">3 years ago",
           "Python",
           "Yes",
           "Urbun",
           3,
           96,
           172,
           6,
           2
          ],
          [
           "Male",
           "Pakistan",
           "31-35",
           "Bachelors",
           "Enginnering",
           "Switch my field of study",
           "Employed",
           "B+",
           "U-fone",
           "Prepaid",
           "Apna Laptop",
           "No",
           "<3 years ago",
           "Python",
           "Yes",
           "Urbun",
           0,
           64,
           160,
           1,
           0
          ],
          [
           "Male",
           "Pakistan",
           "31-35",
           "Masters",
           "CS/IT",
           "to boost my skill set",
           "Employed",
           "O+",
           "Mobilink",
           "Postpaid",
           "Apna Laptop",
           "No",
           ">3 years ago",
           "Python",
           "Yes",
           "Rural",
           14,
           75,
           165,
           3,
           1
          ],
          [
           "Male",
           "Pakistan",
           "31-35",
           "Masters",
           "Enginnering",
           "to boost my skill set",
           "Employed",
           "A+",
           "Mobilink",
           "Postpaid",
           "Apna Laptop",
           "No",
           ">3 years ago",
           "Python",
           "Yes",
           "Urbun",
           4,
           84,
           183,
           3,
           2
          ],
          [
           "Male",
           "Pakistan",
           "21-25",
           "Pre-Bachelors",
           "CS/IT",
           "to boost my skill set",
           "Student",
           "A+",
           "Zong",
           "Prepaid",
           "Desktop",
           "No",
           "<3 years ago",
           "Python",
           "Yes",
           "Urbun",
           0,
           75,
           169,
           2,
           0
          ],
          [
           "Male",
           "West",
           "31-35",
           "Masters",
           "Mathematics",
           "to boost my skill set",
           "Employed",
           "B+",
           "International",
           "Postpaid",
           "Apna Laptop",
           "No",
           ">3 years ago",
           "Python",
           "Yes",
           "Urbun",
           4,
           72.5,
           173,
           2,
           0
          ],
          [
           "Male",
           "West",
           "31-35",
           "Bachelors",
           "Enginnering",
           "Awen",
           "Employed",
           "A+",
           "International",
           "Postpaid",
           "Apna Laptop",
           "No",
           "In this chilla",
           "Python",
           "Yes",
           "International",
           8.5,
           87.5,
           182,
           4,
           0
          ],
          [
           "Male",
           "Pakistan",
           "26-30",
           "Masters",
           "Software Eng.",
           "to boost my skill set",
           "Unemplyed",
           "O+",
           "Zong",
           "Prepaid",
           "Apna Laptop",
           "No",
           "In this chilla",
           "Others",
           "Yes",
           "Urbun",
           0,
           62.5,
           179.832,
           2,
           8
          ],
          [
           "Male",
           "Pakistan",
           "26-30",
           "Masters",
           "Enginnering",
           "to boost my skill set",
           "Employed",
           "B+",
           "Mobilink",
           "Prepaid",
           "Apna Laptop",
           "No",
           ">3 years ago",
           "C++",
           "Yes",
           "Urbun",
           2,
           88.6,
           600,
           3,
           0
          ],
          [
           "Male",
           "Pakistan",
           "16-20",
           "Pre-Bachelors",
           "Others",
           "to boost my skill set",
           "Student",
           "B+",
           "Zong",
           "Prepaid",
           "Kisi ka laptop",
           "Yes",
           "In this chilla",
           "Python",
           "Yes",
           "Urbun",
           0,
           52,
           174,
           2,
           2
          ],
          [
           "Male",
           "East",
           "26-30",
           "Bachelors",
           "Software Eng.",
           "to boost my skill set",
           "Employed",
           "B+",
           "International",
           "Prepaid",
           "Apna Laptop",
           "No",
           ">3 years ago",
           "Python",
           "Yes",
           "Urbun",
           2.5,
           71.2,
           172,
           1,
           0
          ],
          [
           "Male",
           "Pakistan",
           "21-25",
           "Masters",
           "Enginnering",
           "Switch my field of study",
           "Employed",
           "A+",
           "Mobilink",
           "Prepaid",
           "Apna Laptop",
           "No",
           ">3 years ago",
           "Others",
           "Yes",
           "Rural",
           2.5,
           60,
           177.8,
           1,
           0
          ],
          [
           "Male",
           "Pakistan",
           "36-40",
           "Masters",
           "Natural Sciences",
           "to boost my skill set",
           "Employed",
           "A+",
           "U-fone",
           "Prepaid",
           "Apna Laptop",
           "No",
           ">3 years ago",
           "Python",
           "Yes",
           "Urbun",
           12,
           100.5,
           180.5,
           2,
           2
          ],
          [
           "Male",
           "Pakistan",
           "36-40",
           "Masters",
           "Business/Economics",
           "Switch my field of study",
           "Student",
           "B-",
           "Mobilink",
           "Prepaid",
           "Apna Laptop",
           "No",
           "<3 years ago",
           "Python",
           "Yes",
           "Urbun",
           5,
           93.9,
           177.8,
           4,
           1
          ],
          [
           "Male",
           "Pakistan",
           "31-35",
           "Masters",
           "Natural Sciences",
           "to boost my skill set",
           "Employed",
           "A+",
           "Zong",
           "Prepaid",
           "Apna Laptop",
           "No",
           "<3 years ago",
           "SQL",
           "Yes",
           "Urbun",
           9.5,
           78.9,
           170,
           1,
           1
          ],
          [
           "Male",
           "Pakistan",
           "31-35",
           "Masters",
           "CS/IT",
           "Switch my field of study",
           "Employed",
           "A+",
           "U-fone",
           "Postpaid",
           "Apna Laptop",
           "No",
           "<3 years ago",
           "Python",
           "Yes",
           "Urbun",
           4.5,
           70,
           170,
           4,
           2
          ],
          [
           "Male",
           "Pakistan",
           "26-30",
           "Masters",
           "Enginnering",
           "to boost my skill set",
           "Employed",
           "B+",
           "U-fone",
           "Postpaid",
           "Apna Laptop",
           "No",
           "<3 years ago",
           "Python",
           "Yes",
           "Urbun",
           2,
           65,
           175,
           3,
           2
          ],
          [
           "Male",
           "Pakistan",
           "21-25",
           "Pre-Bachelors",
           "CS/IT",
           "to boost my skill set",
           "Student",
           "O+",
           "Mobilink",
           "Prepaid",
           "Apna Laptop",
           "No",
           ">3 years ago",
           "Python",
           "Yes",
           "Rural",
           0,
           63.5,
           173,
           3,
           8
          ],
          [
           "Male",
           "Pakistan",
           "31-35",
           "PhD",
           "Enginnering",
           "to boost my skill set",
           "Employed",
           "O+",
           "U-fone",
           "Prepaid",
           "Apna Laptop",
           "Yes",
           ">3 years ago",
           "Python",
           "Yes",
           "Urbun",
           5,
           82,
           175,
           2,
           2
          ],
          [
           "Male",
           "Pakistan",
           "21-25",
           "Bachelors",
           "Enginnering",
           "Awen",
           "Employed",
           "B+",
           "Mobilink",
           "Prepaid",
           "Apna Laptop",
           "Yes",
           "In this chilla",
           "Python",
           "Yes",
           "Urbun",
           3.5,
           105.5,
           5.7,
           4,
           0
          ],
          [
           "Male",
           "Pakistan",
           "26-30",
           "Masters",
           "Enginnering",
           "to boost my skill set",
           "Employed",
           "A+",
           "Mobilink",
           "Postpaid",
           "Apna Laptop",
           "Yes",
           "<3 years ago",
           "Python",
           "Yes",
           "Urbun",
           2.5,
           85.6,
           165,
           4,
           4
          ],
          [
           "Male",
           "Pakistan",
           "26-30",
           "Bachelors",
           "Enginnering",
           "Switch my field of study",
           "Unemplyed",
           "B+",
           "U-fone",
           "Prepaid",
           "Apna Laptop",
           "Yes",
           ">3 years ago",
           "Python",
           "Yes",
           "Urbun",
           2,
           89,
           157,
           3,
           1
          ],
          [
           "Male",
           "Pakistan",
           "26-30",
           "Masters",
           "Software Eng.",
           "to boost my skill set",
           "Employed",
           "A+",
           "Mobilink",
           "Prepaid",
           "Apna Laptop",
           "No",
           ">3 years ago",
           "Python",
           "Yes",
           "Urbun",
           5,
           100,
           169,
           9,
           3
          ],
          [
           "Male",
           "Pakistan",
           "16-20",
           "Pre-Bachelors",
           "CS/IT",
           "to boost my skill set",
           "Student",
           "O+",
           "Mobilink",
           "Prepaid",
           "Apna Laptop",
           "No",
           "<3 years ago",
           "Python",
           "Yes",
           "Urbun",
           0.5,
           52,
           170.688,
           4,
           0
          ],
          [
           "Male",
           "Pakistan",
           "26-30",
           "Masters",
           "Enginnering",
           "to boost my skill set",
           "Employed",
           "O+",
           "Telenor",
           "Prepaid",
           "Apna Laptop",
           "Yes",
           ">3 years ago",
           "Python",
           "Yes",
           "Urbun",
           3,
           75.4,
           172.3,
           3,
           0
          ],
          [
           "Male",
           "Pakistan",
           "21-25",
           "Pre-Bachelors",
           "CS/IT",
           "to boost my skill set",
           "Student",
           "AB+",
           "Mobilink",
           "Prepaid",
           "Apna Laptop",
           "No",
           "<3 years ago",
           "Python",
           "Yes",
           "Rural",
           0,
           50,
           1.73,
           2,
           2
          ],
          [
           "Male",
           "Pakistan",
           "31-35",
           "Masters",
           "Natural Sciences",
           "to boost my skill set",
           "Employed",
           "B+",
           "U-fone",
           "Prepaid",
           "Apna Laptop",
           "No",
           ">3 years ago",
           "Python",
           "Yes",
           "Urbun",
           7,
           75.5,
           170.5,
           2,
           0
          ],
          [
           "Male",
           "Pakistan",
           "26-30",
           "Masters",
           "Biology",
           "to boost my skill set",
           "Student",
           "B+",
           "U-fone",
           "Prepaid",
           "Apna Laptop",
           "Yes",
           "In this chilla",
           "Python",
           "Yes",
           "Urbun",
           4,
           78.5,
           176,
           3,
           0
          ],
          [
           "Male",
           "Pakistan",
           "26-30",
           "Bachelors",
           "Enginnering",
           "to boost my skill set",
           "Employed",
           "B+",
           "Zong",
           "Prepaid",
           "Apna Laptop",
           "No",
           ">3 years ago",
           "Python",
           "Yes",
           "Urbun",
           3,
           88.2,
           178,
           3,
           2
          ],
          [
           "Male",
           "Pakistan",
           "31-35",
           "Masters",
           "Natural Sciences",
           "to boost my skill set",
           "Employed",
           "O-",
           "U-fone",
           "Prepaid",
           "Apna Laptop",
           "No",
           "In this chilla",
           "Python",
           "Yes",
           "Urbun",
           10.2,
           70.2,
           175.2,
           3,
           6
          ],
          [
           "Male",
           "Pakistan",
           "21-25",
           "Bachelors",
           "Enginnering",
           "to boost my skill set",
           "Employed",
           "O+",
           "Telenor",
           "Prepaid",
           "Apna Laptop",
           "No",
           ">3 years ago",
           "Python",
           "Yes",
           "Urbun",
           1,
           62,
           184.3,
           1,
           2
          ],
          [
           "Male",
           "Pakistan",
           "16-20",
           "Pre-Bachelors",
           "Natural Sciences",
           "to boost my skill set",
           "Student",
           "B+",
           "Mobilink",
           "Prepaid",
           "Apna Laptop",
           "No",
           "<3 years ago",
           "Python",
           "Yes",
           "Rural",
           1,
           64,
           166,
           3,
           4
          ],
          [
           "Male",
           "Pakistan",
           "21-25",
           "Masters",
           "Natural Sciences",
           "to boost my skill set",
           "Student",
           "AB+",
           "Telenor",
           "Prepaid",
           "Apna Laptop",
           "No",
           "In this chilla",
           "Python",
           "Yes",
           "Rural",
           0,
           68,
           176.8,
           1,
           22
          ],
          [
           "Male",
           "Pakistan",
           "21-25",
           "Pre-Bachelors",
           "CS/IT",
           "to boost my skill set",
           "Student",
           "AB-",
           "Zong",
           "Prepaid",
           "Apna Laptop",
           "Yes",
           ">3 years ago",
           "Python",
           "Yes",
           "Rural",
           0,
           68.5,
           164.592,
           2,
           1
          ],
          [
           "Male",
           "Pakistan",
           "26-30",
           "Bachelors",
           "Biology",
           "to boost my skill set",
           "Student",
           "O+",
           "Mobilink",
           "Prepaid",
           "Apna Laptop",
           "Yes",
           "In this chilla",
           "Python",
           "Yes",
           "Urbun",
           2,
           69,
           164.5,
           2,
           1
          ],
          [
           "Male",
           "Pakistan",
           "26-30",
           "Masters",
           "Software Eng.",
           "to boost my skill set",
           "Employed",
           "O+",
           "U-fone",
           "Prepaid",
           "Apna Laptop",
           "No",
           ">3 years ago",
           "Python",
           "Yes",
           "Urbun",
           3.5,
           63.5,
           182,
           6,
           0
          ],
          [
           "Male",
           "Pakistan",
           "16-20",
           "Pre-Bachelors",
           "CS/IT",
           "to boost my skill set",
           "Student",
           "O+",
           "Telenor",
           "Prepaid",
           "Apna Laptop",
           "No",
           "<3 years ago",
           "Python",
           "No",
           "Urbun",
           0,
           57.4,
           173.736,
           3,
           0
          ],
          [
           "Male",
           "Pakistan",
           "21-25",
           "Bachelors",
           "Others",
           "to boost my skill set",
           "Employed",
           "O+",
           "Mobilink",
           "Prepaid",
           "Apna Laptop",
           "Yes",
           "<3 years ago",
           "Python",
           "Yes",
           "Rural",
           0,
           75,
           166.5,
           4,
           5
          ],
          [
           "Male",
           "Pakistan",
           "16-20",
           "Bachelors",
           "CS/IT",
           "to boost my skill set",
           "Student",
           "O+",
           "Mobilink",
           "Prepaid",
           "Apna Laptop",
           "Yes",
           "<3 years ago",
           "Python",
           "Yes",
           "Urbun",
           2,
           50,
           180.34,
           3,
           0
          ],
          [
           "Male",
           "Pakistan",
           "26-30",
           "Masters",
           "CS/IT",
           "to boost my skill set",
           "Employed",
           "O+",
           "Mobilink",
           "Prepaid",
           "Apna Laptop",
           "No",
           ">3 years ago",
           "Python",
           "Yes",
           "Urbun",
           8,
           88,
           177.8,
           5,
           3
          ],
          [
           "Male",
           "Pakistan",
           "31-35",
           "Bachelors",
           "Enginnering",
           "to boost my skill set",
           "Employed",
           "B+",
           "U-fone",
           "Prepaid",
           "Apna Laptop",
           "No",
           "In this chilla",
           "Python",
           "Yes",
           "Urbun",
           7.5,
           72,
           170,
           2,
           4
          ],
          [
           "Male",
           "Pakistan",
           "31-35",
           "Masters",
           "Enginnering",
           "Switch my field of study",
           "Employed",
           "A+",
           "U-fone",
           "Prepaid",
           "Apna Laptop",
           "No",
           "<3 years ago",
           "Python",
           "Yes",
           "Urbun",
           8,
           98,
           177.8,
           2,
           0
          ],
          [
           "Male",
           "Pakistan",
           "26-30",
           "Bachelors",
           "CS/IT",
           "to boost my skill set",
           "Employed",
           "B+",
           "Mobilink",
           "Prepaid",
           "Apna Laptop",
           "No",
           ">3 years ago",
           "Python",
           "Yes",
           "Urbun",
           4,
           79,
           5.11,
           0,
           0
          ],
          [
           "Male",
           "Pakistan",
           "26-30",
           "Masters",
           "Biology",
           "to boost my skill set",
           "Student",
           "O+",
           "Telenor",
           "Prepaid",
           "Apna Laptop",
           "No",
           ">3 years ago",
           "Python",
           "Yes",
           "Rural",
           5,
           55.5,
           176.7,
           1,
           0
          ],
          [
           "Male",
           "West",
           "26-30",
           "Masters",
           "Natural Sciences",
           "to boost my skill set",
           "Student",
           "A+",
           "International",
           "Prepaid",
           "Apna Laptop",
           "No",
           "<3 years ago",
           "Python",
           "No",
           "International",
           1.2,
           68.3,
           175.1,
           5,
           0
          ],
          [
           "Male",
           "Pakistan",
           "31-35",
           "Masters",
           "Enginnering",
           "to boost my skill set",
           "Employed",
           "A+",
           "Mobilink",
           "Prepaid",
           "Desktop",
           "Yes",
           "In this chilla",
           "C++",
           "Yes",
           "Urbun",
           4.5,
           88.4,
           180.34,
           2,
           0
          ],
          [
           "Male",
           "Pakistan",
           "21-25",
           "Bachelors",
           "CS/IT",
           "Switch my field of study",
           "Student",
           "B+",
           "U-fone",
           "Prepaid",
           "Apna Laptop",
           "Yes",
           ">3 years ago",
           "Python",
           "Yes",
           "Urbun",
           0,
           84,
           174,
           1,
           4
          ],
          [
           "Male",
           "Pakistan",
           "26-30",
           "Masters",
           "Enginnering",
           "Switch my field of study",
           "Student",
           "O+",
           "U-fone",
           "Postpaid",
           "Desktop",
           "Yes",
           "In this chilla",
           "Python",
           "Yes",
           "Urbun",
           1.5,
           82.5,
           160.02,
           5,
           0
          ],
          [
           "Male",
           "Pakistan",
           "41-45",
           "Masters",
           "Natural Sciences",
           "Abhi tak pata nahi",
           "Employed",
           "O+",
           "Mobilink",
           "Prepaid",
           "Apna Laptop",
           "No",
           "<3 years ago",
           "Python",
           "Yes",
           "Urbun",
           2,
           83.5,
           175.5,
           1,
           3
          ],
          [
           "Male",
           "Pakistan",
           "41-45",
           "Masters",
           "Natural Sciences",
           "to boost my skill set",
           "Employed",
           "O+",
           "Mobilink",
           "Postpaid",
           "Apna Laptop",
           "Yes",
           "In this chilla",
           "Others",
           "Yes",
           "Urbun",
           17,
           90,
           179,
           1,
           20
          ],
          [
           "Male",
           "West",
           "26-30",
           "Masters",
           "Natural Sciences",
           "to boost my skill set",
           "Student",
           "B+",
           "International",
           "Postpaid",
           "Apna Laptop",
           "No",
           "<3 years ago",
           "Python",
           "Yes",
           "International",
           2.5,
           77.5,
           171.5,
           2,
           0
          ],
          [
           "Male",
           "Pakistan",
           "21-25",
           "Bachelors",
           "CS/IT",
           "to boost my skill set",
           "Unemplyed",
           "AB+",
           "Mobilink",
           "Prepaid",
           "Apna Laptop",
           "No",
           "In this chilla",
           "Python",
           "Yes",
           "Rural",
           0,
           90,
           1.4,
           4,
           5
          ],
          [
           "Male",
           "Pakistan",
           "21-25",
           "Bachelors",
           "Enginnering",
           "to boost my skill set",
           "Unemplyed",
           "O+",
           "Telenor",
           "Prepaid",
           "Apna Laptop",
           "Yes",
           ">3 years ago",
           "C++",
           "Yes",
           "Urbun",
           1.5,
           67.9,
           17,
           1.5,
           0
          ],
          [
           "Male",
           "Pakistan",
           "21-25",
           "Pre-Bachelors",
           "Software Eng.",
           "to boost my skill set",
           "Student",
           "A-",
           "Zong",
           "Prepaid",
           "Apna Laptop",
           "Yes",
           ">3 years ago",
           "Javascript",
           "Yes",
           "Urbun",
           0,
           71.5,
           170.688,
           6,
           4
          ],
          [
           "Male",
           "Pakistan",
           "21-25",
           "Bachelors",
           "Enginnering",
           "to boost my skill set",
           "Student",
           "O+",
           "International",
           "Prepaid",
           "Apna Laptop",
           "Yes",
           "<3 years ago",
           "Python",
           "Yes",
           "International",
           0.6,
           76,
           176,
           1,
           0
          ],
          [
           "Male",
           "Pakistan",
           "16-20",
           "Pre-Bachelors",
           "Enginnering",
           "Switch my field of study",
           "Employed",
           "A+",
           "Mobilink",
           "Prepaid",
           "Desktop",
           "No",
           "In this chilla",
           "Python",
           "Yes",
           "Urbun",
           0,
           48,
           155,
           2,
           0
          ],
          [
           "Male",
           "Pakistan",
           "26-30",
           "Bachelors",
           "CS/IT",
           "to boost my skill set",
           "Employed",
           "B+",
           "Zong",
           "Prepaid",
           "Apna Laptop",
           "No",
           ">3 years ago",
           "Python",
           "Yes",
           "Urbun",
           3.5,
           76,
           60.6,
           4,
           3
          ],
          [
           "Male",
           "Pakistan",
           "21-25",
           "Bachelors",
           "Enginnering",
           "to boost my skill set",
           "Student",
           "A+",
           "Telenor",
           "Prepaid",
           "Apna Laptop",
           "No",
           ">3 years ago",
           "Python",
           "Yes",
           "Urbun",
           1.5,
           67.4,
           172,
           3,
           12
          ],
          [
           "Male",
           "Pakistan",
           "26-30",
           "Bachelors",
           "Enginnering",
           "to boost my skill set",
           "Unemplyed",
           "B+",
           "Zong",
           "Prepaid",
           "Apna Laptop",
           "No",
           ">3 years ago",
           "Python",
           "Yes",
           "Urbun",
           2,
           54,
           165,
           1,
           8
          ],
          [
           "Male",
           "Pakistan",
           "21-25",
           "Bachelors",
           "Enginnering",
           "Switch my field of study",
           "Student",
           "B+",
           "U-fone",
           "Prepaid",
           "Apna Laptop",
           "No",
           "In this chilla",
           "Python",
           "Yes",
           "Rural",
           1,
           60.5,
           179.832,
           2,
           0
          ],
          [
           "Male",
           "East",
           "26-30",
           "PhD",
           "Business/Economics",
           "to boost my skill set",
           "Student",
           "A+",
           "International",
           "Prepaid",
           "Desktop",
           "Yes",
           "In this chilla",
           "Python",
           "Yes",
           "International",
           4,
           104.5,
           1.73,
           2,
           0
          ],
          [
           "Male",
           "Pakistan",
           "26-30",
           "Masters",
           "Enginnering",
           "to boost my skill set",
           "Student",
           "O-",
           "Mobilink",
           "Postpaid",
           "Apna Laptop",
           "No",
           ">3 years ago",
           "Python",
           "Yes",
           "Urbun",
           6.5,
           93.5,
           168.5,
           3,
           1
          ],
          [
           "Male",
           "Pakistan",
           "26-30",
           "Masters",
           "Biology",
           "to boost my skill set",
           "Student",
           "A+",
           "U-fone",
           "Prepaid",
           "Apna Laptop",
           "Yes",
           "In this chilla",
           "Python",
           "Yes",
           "Urbun",
           2.5,
           106.05,
           177.78,
           2,
           0
          ],
          [
           "Male",
           "Pakistan",
           "41-45",
           "Masters",
           "Natural Sciences",
           "to boost my skill set",
           "Employed",
           "B+",
           "U-fone",
           "Prepaid",
           "Kisi ka laptop",
           "No",
           ">3 years ago",
           "Others",
           "Yes",
           "Rural",
           13,
           97,
           164.592,
           4,
           1
          ],
          [
           "Male",
           "Pakistan",
           "36-40",
           "PhD",
           "Enginnering",
           "to boost my skill set",
           "Unemplyed",
           "O+",
           "Mobilink",
           "Prepaid",
           "Apna Laptop",
           "Yes",
           ">3 years ago",
           "Python",
           "Yes",
           "Rural",
           10,
           77,
           167.64,
           2,
           2
          ],
          [
           "Male",
           "Pakistan",
           "26-30",
           "Masters",
           "Mathematics",
           "Switch my field of study",
           "Student",
           "B+",
           "Mobilink",
           "Prepaid",
           "Apna Laptop",
           "No",
           ">3 years ago",
           "Python",
           "Yes",
           "Rural",
           3.8,
           79.5,
           5.9,
           2,
           1
          ],
          [
           "Male",
           "Pakistan",
           "26-30",
           "Masters",
           "Enginnering",
           "to boost my skill set",
           "Employed",
           "B+",
           "Zong",
           "Prepaid",
           "Apna Laptop",
           "Yes",
           "<3 years ago",
           "Python",
           "Yes",
           "Rural",
           5,
           80,
           180,
           3,
           0
          ],
          [
           "Male",
           "Pakistan",
           "26-30",
           "Bachelors",
           "Enginnering",
           "Switch my field of study",
           "Employed",
           "AB+",
           "Mobilink",
           "Prepaid",
           "Apna Laptop",
           "No",
           ">3 years ago",
           "Python",
           "Yes",
           "Urbun",
           1,
           74,
           182.88,
           2,
           3
          ],
          [
           "Male",
           "Pakistan",
           "36-40",
           "Pre-Bachelors",
           "Others",
           "Abhi tak pata nahi",
           "Unemplyed",
           "O+",
           "Mobilink",
           "Prepaid",
           "Desktop",
           "Yes",
           "In this chilla",
           "Python",
           "No",
           "Urbun",
           0,
           75,
           5.6,
           0.01,
           0
          ],
          [
           "Male",
           "Pakistan",
           "26-30",
           "Masters",
           "Natural Sciences",
           "Switch my field of study",
           "Unemplyed",
           "B+",
           "Zong",
           "Postpaid",
           "Apna Laptop",
           "No",
           "In this chilla",
           "Python",
           "Yes",
           "Urbun",
           1,
           75.6,
           155.4,
           2,
           1
          ],
          [
           "Male",
           "West",
           "41-45",
           "Masters",
           "CS/IT",
           "to boost my skill set",
           "Employed",
           "B+",
           "International",
           "Prepaid",
           "Apna Laptop",
           "Yes",
           ">3 years ago",
           "Others",
           "Yes",
           "International",
           20,
           82.5,
           182.5,
           1,
           0
          ],
          [
           "Male",
           "Pakistan",
           "41-45",
           "Masters",
           "CS/IT",
           "to boost my skill set",
           "Employed",
           "B+",
           "Mobilink",
           "Prepaid",
           "Apna Laptop",
           "Yes",
           "<3 years ago",
           "Python",
           "Yes",
           "Urbun",
           20.5,
           70.5,
           1.76,
           1,
           3
          ],
          [
           "Male",
           "Pakistan",
           "21-25",
           "Bachelors",
           "CS/IT",
           "to boost my skill set",
           "Student",
           "B+",
           "Mobilink",
           "Prepaid",
           "Apna Laptop",
           "No",
           ">3 years ago",
           "Python",
           "Yes",
           "Rural",
           0,
           86,
           174,
           3,
           2
          ],
          [
           "Male",
           "Pakistan",
           "26-30",
           "Bachelors",
           "Enginnering",
           "to boost my skill set",
           "Unemplyed",
           "B+",
           "Mobilink",
           "Prepaid",
           "Kisi ka laptop",
           "Yes",
           ">3 years ago",
           "Python",
           "Yes",
           "Urbun",
           1.3,
           61,
           169,
           5,
           1
          ],
          [
           "Male",
           "Pakistan",
           "21-25",
           "Pre-Bachelors",
           "Enginnering",
           "Awen",
           "Student",
           "O+",
           "Mobilink",
           "Prepaid",
           "Apna Laptop",
           "No",
           "<3 years ago",
           "C++",
           "Yes",
           "Urbun",
           0,
           59,
           163.5,
           1,
           2
          ],
          [
           "Male",
           "Pakistan",
           "26-30",
           "Masters",
           "Enginnering",
           "to boost my skill set",
           "Employed",
           "O+",
           "Telenor",
           "Prepaid",
           "Apna Laptop",
           "No",
           "<3 years ago",
           "Python",
           "Yes",
           "Rural",
           1,
           75.5,
           182.28,
           2,
           3
          ],
          [
           "Male",
           "Pakistan",
           "26-30",
           "Masters",
           "Enginnering",
           "to boost my skill set",
           "Student",
           "AB+",
           "Zong",
           "Prepaid",
           "Apna Laptop",
           "No",
           "In this chilla",
           "Python",
           "Yes",
           "Urbun",
           1,
           61.5,
           45.5,
           4,
           5
          ],
          [
           "Male",
           "Pakistan",
           "36-40",
           "Masters",
           "CS/IT",
           "to boost my skill set",
           "Employed",
           "O+",
           "U-fone",
           "Prepaid",
           "Apna Laptop",
           "Yes",
           "In this chilla",
           "Python",
           "Yes",
           "International",
           0,
           54.3,
           44.5,
           3,
           5
          ],
          [
           "Male",
           "Pakistan",
           "31-35",
           "PhD",
           "Natural Sciences",
           "to boost my skill set",
           "Unemplyed",
           "O+",
           "Mobilink",
           "Prepaid",
           "Apna Laptop",
           "No",
           "In this chilla",
           "Python",
           "Yes",
           "Urbun",
           1.5,
           89.5,
           155.44,
           4,
           2
          ],
          [
           "Male",
           "Pakistan",
           "31-35",
           "Bachelors",
           "CS/IT",
           "to boost my skill set",
           "Employed",
           "AB-",
           "Zong",
           "Prepaid",
           "Apna Laptop",
           "No",
           "<3 years ago",
           "Python",
           "Yes",
           "Urbun",
           2,
           70,
           64,
           1,
           0
          ],
          [
           "Male",
           "West",
           "16-20",
           "Pre-Bachelors",
           "Mathematics",
           "to boost my skill set",
           "Student",
           "O+",
           "Zong",
           "Prepaid",
           "Apna Laptop",
           "No",
           "In this chilla",
           "Python",
           "Yes",
           "Rural",
           0,
           55.2,
           167.64,
           8,
           8
          ],
          [
           "Male",
           "Pakistan",
           "26-30",
           "Masters",
           "CS/IT",
           "to boost my skill set",
           "Unemplyed",
           "B-",
           "Mobilink",
           "Prepaid",
           "Apna Laptop",
           "No",
           "In this chilla",
           "Python",
           "Yes",
           "Urbun",
           0,
           69,
           0,
           5,
           0
          ],
          [
           "Male",
           "West",
           "21-25",
           "Bachelors",
           "Enginnering",
           "to boost my skill set",
           "Student",
           "B+",
           "International",
           "Prepaid",
           "Apna Laptop",
           "No",
           ">3 years ago",
           "Python",
           "Yes",
           "International",
           2,
           52.27,
           171.5,
           7,
           24
          ],
          [
           "Male",
           "Pakistan",
           "31-35",
           "Bachelors",
           "CS/IT",
           "Switch my field of study",
           "Student",
           "O+",
           "Telenor",
           "Prepaid",
           "Apna Laptop",
           "No",
           "<3 years ago",
           "Python",
           "Yes",
           "Rural",
           0,
           60,
           32,
           3,
           2
          ],
          [
           "Male",
           "Pakistan",
           "26-30",
           "PhD",
           "Mathematics",
           "Switch my field of study",
           "Student",
           "B+",
           "Zong",
           "Prepaid",
           "Apna Laptop",
           "Yes",
           ">3 years ago",
           "Python",
           "Yes",
           "Urbun",
           4,
           65.21,
           1.74,
           5,
           7
          ],
          [
           "Male",
           "Pakistan",
           "21-25",
           "Masters",
           "Biology",
           "to boost my skill set",
           "Unemplyed",
           "B+",
           "Telenor",
           "Prepaid",
           "Apna Laptop",
           "Yes",
           "In this chilla",
           "Python",
           "Yes",
           "Urbun",
           2,
           54,
           5.6,
           1,
           3
          ],
          [
           "Male",
           "Pakistan",
           "21-25",
           "Bachelors",
           "Enginnering",
           "Switch my field of study",
           "Student",
           "A+",
           "Zong",
           "Prepaid",
           "Apna Laptop",
           "No",
           "In this chilla",
           "Python",
           "Yes",
           "Urbun",
           0,
           65,
           170.18,
           2,
           1
          ],
          [
           "Male",
           "Pakistan",
           "26-30",
           "Bachelors",
           "Enginnering",
           "to boost my skill set",
           "Employed",
           "O+",
           "Mobilink",
           "Prepaid",
           "Apna Laptop",
           "No",
           ">3 years ago",
           "Python",
           "Yes",
           "Rural",
           2,
           68,
           161.544,
           2,
           18
          ],
          [
           "Male",
           "Pakistan",
           "21-25",
           "Masters",
           "Enginnering",
           "to boost my skill set",
           "Unemplyed",
           "O+",
           "Mobilink",
           "Prepaid",
           "Apna Laptop",
           "Yes",
           "<3 years ago",
           "Python",
           "Yes",
           "Rural",
           1,
           68,
           167.64,
           3,
           0
          ],
          [
           "Male",
           "Pakistan",
           "31-35",
           "PhD",
           "Others",
           "to boost my skill set",
           "Employed",
           "B+",
           "Zong",
           "Prepaid",
           "Apna Laptop",
           "No",
           "In this chilla",
           "Python",
           "Yes",
           "Urbun",
           5.5,
           72,
           162,
           1,
           8
          ],
          [
           "Male",
           "Pakistan",
           "46-60",
           "Bachelors",
           "CS/IT",
           "to boost my skill set",
           "Unemplyed",
           "O+",
           "Mobilink",
           "Prepaid",
           "Apna Laptop",
           "No",
           "<3 years ago",
           "Python",
           "No",
           "Urbun",
           20,
           70.5,
           170.18,
           4,
           0
          ],
          [
           "Male",
           "West",
           "31-35",
           "Masters",
           "Business/Economics",
           "to boost my skill set",
           "Employed",
           "O+",
           "International",
           "Postpaid",
           "Apna Laptop",
           "No",
           "<3 years ago",
           "Python",
           "Yes",
           "International",
           8.5,
           82.27,
           177,
           3,
           0
          ],
          [
           "Male",
           "Pakistan",
           "31-35",
           "Masters",
           "Enginnering",
           "to boost my skill set",
           "Unemplyed",
           "A-",
           "U-fone",
           "Prepaid",
           "Apna Laptop",
           "Yes",
           "<3 years ago",
           "R",
           "Yes",
           "Rural",
           5,
           101.5,
           179,
           1,
           8
          ],
          [
           "Male",
           "Pakistan",
           "21-25",
           "Masters",
           "CS/IT",
           "to boost my skill set",
           "Employed",
           "A+",
           "Mobilink",
           "Prepaid",
           "Apna Laptop",
           "No",
           ">3 years ago",
           "Python",
           "Yes",
           "Urbun",
           0,
           94.5,
           6.1,
           5,
           1
          ],
          [
           "Male",
           "Pakistan",
           "26-30",
           "Masters",
           "Enginnering",
           "to boost my skill set",
           "Employed",
           "B+",
           "Mobilink",
           "Postpaid",
           "Apna Laptop",
           "Yes",
           "<3 years ago",
           "Python",
           "Yes",
           "Urbun",
           4.5,
           86.5,
           185.92,
           1,
           1
          ],
          [
           "Male",
           "Pakistan",
           "26-30",
           "Masters",
           "Enginnering",
           "to boost my skill set",
           "Student",
           "B+",
           "U-fone",
           "Postpaid",
           "Apna Laptop",
           "No",
           "In this chilla",
           "Python",
           "Yes",
           "Rural",
           2,
           63.5,
           175.5,
           4,
           4
          ],
          [
           "Male",
           "Pakistan",
           "21-25",
           "Pre-Bachelors",
           "CS/IT",
           "to boost my skill set",
           "Student",
           "B+",
           "Mobilink",
           "Prepaid",
           "Desktop",
           "Yes",
           "<3 years ago",
           "Python",
           "Yes",
           "Urbun",
           0,
           50,
           164,
           1,
           0
          ],
          [
           "Male",
           "Pakistan",
           "26-30",
           "Masters",
           "Software Eng.",
           "to boost my skill set",
           "Employed",
           "A+",
           "Zong",
           "Prepaid",
           "Apna Laptop",
           "No",
           ">3 years ago",
           "Python",
           "Yes",
           "Urbun",
           1,
           75,
           170,
           2,
           1
          ],
          [
           "Male",
           "Pakistan",
           "26-30",
           "Masters",
           "Natural Sciences",
           "to boost my skill set",
           "Unemplyed",
           "B+",
           "Mobilink",
           "Prepaid",
           "Apna Laptop",
           "Yes",
           "<3 years ago",
           "Python",
           "Yes",
           "Urbun",
           2,
           67,
           171,
           2,
           2
          ],
          [
           "Male",
           "Pakistan",
           "21-25",
           "Pre-Bachelors",
           "Enginnering",
           "Abhi tak pata nahi",
           "Student",
           "B+",
           "Telenor",
           "Prepaid",
           "Apna Laptop",
           "No",
           "In this chilla",
           "Python",
           "Yes",
           "Urbun",
           0,
           68.5,
           173.5,
           3,
           0
          ],
          [
           "Male",
           "Pakistan",
           "21-25",
           "Bachelors",
           "Natural Sciences",
           "to boost my skill set",
           "Student",
           "B+",
           "Zong",
           "Prepaid",
           "Desktop",
           "Yes",
           "<3 years ago",
           "Python",
           "No",
           "Rural",
           0.5,
           60,
           174,
           2,
           2
          ],
          [
           "Male",
           "West",
           "31-35",
           "Masters",
           "Enginnering",
           "Switch my field of study",
           "Student",
           "B+",
           "International",
           "Postpaid",
           "Apna Laptop",
           "No",
           "<3 years ago",
           "Python",
           "Yes",
           "International",
           6,
           71.5,
           167.1,
           2,
           0
          ],
          [
           "Male",
           "Pakistan",
           "31-35",
           "Masters",
           "Natural Sciences",
           "Abhi tak pata nahi",
           "Student",
           "B-",
           "Zong",
           "Prepaid",
           "Apna Laptop",
           "No",
           "In this chilla",
           "Julia",
           "Yes",
           "Rural",
           6,
           74,
           173,
           6,
           23
          ],
          [
           "Male",
           "India",
           "21-25",
           "Masters",
           "CS/IT",
           "Switch my field of study",
           "Student",
           "O+",
           "Mobilink",
           "Prepaid",
           "Apna Laptop",
           "No",
           "In this chilla",
           "Python",
           "Yes",
           "Rural",
           0,
           55,
           168,
           5,
           1
          ],
          [
           "Male",
           "Pakistan",
           "26-30",
           "Masters",
           "Enginnering",
           "to boost my skill set",
           "Employed",
           "O+",
           "Telenor",
           "Prepaid",
           "Apna Laptop",
           "Yes",
           "In this chilla",
           "R",
           "Yes",
           "Rural",
           7,
           70,
           178,
           4,
           3
          ],
          [
           "Male",
           "Pakistan",
           "26-30",
           "Bachelors",
           "CS/IT",
           "to boost my skill set",
           "Student",
           "A+",
           "Mobilink",
           "Prepaid",
           "Desktop",
           "No",
           ">3 years ago",
           "Python",
           "Yes",
           "Rural",
           0,
           72,
           170.688,
           5,
           2
          ],
          [
           "Male",
           "West",
           "26-30",
           "Bachelors",
           "Enginnering",
           "Switch my field of study",
           "Student",
           "B+",
           "International",
           "Prepaid",
           "Apna Laptop",
           "No",
           "<3 years ago",
           "Python",
           "Yes",
           "International",
           3,
           70,
           180,
           1,
           0
          ],
          [
           "Male",
           "Pakistan",
           "26-30",
           "Masters",
           "Natural Sciences",
           "to boost my skill set",
           "Employed",
           "O-",
           "Zong",
           "Prepaid",
           "Apna Laptop",
           "Yes",
           ">3 years ago",
           "Python",
           "Yes",
           "Urbun",
           1,
           105,
           186,
           1,
           0
          ],
          [
           "Male",
           "Pakistan",
           "31-35",
           "Bachelors",
           "CS/IT",
           "Switch my field of study",
           "Employed",
           "O+",
           "U-fone",
           "Prepaid",
           "Apna Laptop",
           "Yes",
           ">3 years ago",
           "Python",
           "Yes",
           "Urbun",
           8,
           78,
           173.736,
           2,
           2
          ],
          [
           "Male",
           "Pakistan",
           "26-30",
           "Masters",
           "Biology",
           "to boost my skill set",
           "Student",
           "A+",
           "Zong",
           "Prepaid",
           "Apna Laptop",
           "No",
           "In this chilla",
           "Python",
           "Yes",
           "Urbun",
           2,
           69.5,
           183.5,
           6,
           0
          ],
          [
           "Male",
           "Pakistan",
           "21-25",
           "Bachelors",
           "Enginnering",
           "to boost my skill set",
           "Student",
           "AB+",
           "Mobilink",
           "Prepaid",
           "Apna Laptop",
           "Yes",
           ">3 years ago",
           "Python",
           "No",
           "Rural",
           1,
           65.8,
           178,
           1,
           0
          ],
          [
           "Male",
           "Pakistan",
           "26-30",
           "Bachelors",
           "Software Eng.",
           "to boost my skill set",
           "Employed",
           "O+",
           "Zong",
           "Prepaid",
           "Apna Laptop",
           "No",
           ">3 years ago",
           "Python",
           "Yes",
           "Rural",
           4,
           68,
           5.6,
           3,
           2
          ],
          [
           "Male",
           "Pakistan",
           "21-25",
           "Bachelors",
           "CS/IT",
           "to boost my skill set",
           "Student",
           "A+",
           "U-fone",
           "Prepaid",
           "Apna Laptop",
           "No",
           "<3 years ago",
           "Python",
           "Yes",
           "Urbun",
           0,
           60,
           176,
           1,
           4
          ],
          [
           "Male",
           "Pakistan",
           "31-35",
           "Masters",
           "Enginnering",
           "to boost my skill set",
           "Student",
           "B+",
           "Zong",
           "Prepaid",
           "Apna Laptop",
           "Yes",
           ">3 years ago",
           "Python",
           "Yes",
           "Rural",
           7,
           85,
           173.736,
           2,
           0
          ],
          [
           "Male",
           "Pakistan",
           "16-20",
           "Pre-Bachelors",
           "CS/IT",
           "to boost my skill set",
           "Student",
           "B+",
           "Telenor",
           "Prepaid",
           "Apna Laptop",
           "Yes",
           "In this chilla",
           "Python",
           "Yes",
           "Rural",
           0,
           75.5,
           2.1,
           4,
           9
          ],
          [
           "Male",
           "East",
           "26-30",
           "Bachelors",
           "Natural Sciences",
           "to boost my skill set",
           "Student",
           "B+",
           "International",
           "Prepaid",
           "Apna Laptop",
           "No",
           "<3 years ago",
           "Python",
           "Yes",
           "International",
           5,
           90.2,
           164.592,
           5,
           0
          ],
          [
           "Male",
           "Pakistan",
           "26-30",
           "Masters",
           "CS/IT",
           "Switch my field of study",
           "Student",
           "A-",
           "Mobilink",
           "Prepaid",
           "Apna Laptop",
           "No",
           ">3 years ago",
           "Others",
           "Yes",
           "Urbun",
           3,
           56.5,
           175.26,
           1,
           2
          ],
          [
           "Male",
           "Pakistan",
           "26-30",
           "Bachelors",
           "Enginnering",
           "Switch my field of study",
           "Unemplyed",
           "O+",
           "Zong",
           "Prepaid",
           "Apna Laptop",
           "No",
           "<3 years ago",
           "Python",
           "No",
           "Rural",
           1,
           90,
           188,
           5,
           3
          ],
          [
           "Male",
           "West",
           "31-35",
           "Masters",
           "CS/IT",
           "to boost my skill set",
           "Student",
           "B+",
           "International",
           "Prepaid",
           "Apna Laptop",
           "No",
           ">3 years ago",
           "Python",
           "Yes",
           "International",
           10,
           70.5,
           5.9,
           1,
           0
          ],
          [
           "Male",
           "Pakistan",
           "31-35",
           "Masters",
           "Enginnering",
           "to boost my skill set",
           "Employed",
           "B+",
           "Mobilink",
           "Prepaid",
           "Apna Laptop",
           "No",
           "In this chilla",
           "Python",
           "Yes",
           "Urbun",
           2.5,
           78.5,
           155.7528,
           3,
           2
          ],
          [
           "Male",
           "Pakistan",
           "21-25",
           "Bachelors",
           "Natural Sciences",
           "to boost my skill set",
           "Student",
           "B+",
           "Zong",
           "Postpaid",
           "Apna Laptop",
           "Yes",
           ">3 years ago",
           "Python",
           "Yes",
           "Urbun",
           1,
           52,
           162.5,
           3,
           0
          ],
          [
           "Male",
           "Pakistan",
           "16-20",
           "Bachelors",
           "Natural Sciences",
           "to boost my skill set",
           "Student",
           "O+",
           "Mobilink",
           "Postpaid",
           "Apna Laptop",
           "No",
           "<3 years ago",
           "C++",
           "Yes",
           "Urbun",
           0,
           74,
           173.736,
           0.5,
           2
          ],
          [
           "Male",
           "West",
           "31-35",
           "Bachelors",
           "Natural Sciences",
           "Switch my field of study",
           "Student",
           "AB+",
           "International",
           "Prepaid",
           "Apna Laptop",
           "No",
           "<3 years ago",
           "Python",
           "Yes",
           "International",
           1,
           68,
           167.64,
           1,
           0
          ],
          [
           "Male",
           "West",
           "31-35",
           "PhD",
           "Enginnering",
           "to boost my skill set",
           "Student",
           "B+",
           "International",
           "Prepaid",
           "Apna Laptop",
           "No",
           "<3 years ago",
           "Python",
           "Yes",
           "International",
           2,
           72,
           168.7,
           1,
           0
          ],
          [
           "Male",
           "Pakistan",
           "16-20",
           "Pre-Bachelors",
           "CS/IT",
           "Switch my field of study",
           "Student",
           "A+",
           "Mobilink",
           "Prepaid",
           "Kisi ka laptop",
           "No",
           "In this chilla",
           "Python",
           "Yes",
           "Rural",
           0,
           63.5,
           5.7,
           3,
           2
          ],
          [
           "Male",
           "Pakistan",
           "21-25",
           "Pre-Bachelors",
           "CS/IT",
           "to boost my skill set",
           "Student",
           "O+",
           "Telenor",
           "Prepaid",
           "Apna Laptop",
           "No",
           ">3 years ago",
           "Python",
           "Yes",
           "Urbun",
           1,
           68.2,
           173.4,
           3,
           1
          ],
          [
           "Male",
           "Pakistan",
           "26-30",
           "Masters",
           "Enginnering",
           "to boost my skill set",
           "Student",
           "O+",
           "U-fone",
           "Prepaid",
           "Apna Laptop",
           "Yes",
           "<3 years ago",
           "Python",
           "Yes",
           "Urbun",
           4.5,
           82.4,
           164.3,
           9,
           0
          ],
          [
           "Male",
           "Pakistan",
           "21-25",
           "Bachelors",
           "CS/IT",
           "to boost my skill set",
           "Student",
           "AB+",
           "Mobilink",
           "Prepaid",
           "Apna Laptop",
           "Yes",
           ">3 years ago",
           "Python",
           "Yes",
           "Rural",
           0,
           53,
           165,
           1,
           0
          ],
          [
           "Male",
           "Pakistan",
           "26-30",
           "Masters",
           "Business/Economics",
           "to boost my skill set",
           "Unemplyed",
           "B+",
           "Telenor",
           "Prepaid",
           "Apna Laptop",
           "No",
           "In this chilla",
           "Python",
           "Yes",
           "Rural",
           3.2,
           55,
           161.544,
           5,
           5
          ],
          [
           "Male",
           "Pakistan",
           "31-35",
           "PhD",
           "Enginnering",
           "to boost my skill set",
           "Employed",
           "B-",
           "Telenor",
           "Prepaid",
           "Apna Laptop",
           "No",
           "In this chilla",
           "Python",
           "Yes",
           "Urbun",
           3.5,
           82.5,
           179.832,
           3,
           0
          ],
          [
           "Male",
           "Pakistan",
           "16-20",
           "Pre-Bachelors",
           "CS/IT",
           "to boost my skill set",
           "Student",
           "A+",
           "Telenor",
           "Postpaid",
           "Apna Laptop",
           "Yes",
           "In this chilla",
           "C++",
           "Yes",
           "Urbun",
           0,
           67.12,
           164.592,
           1,
           1
          ],
          [
           "Male",
           "Pakistan",
           "21-25",
           "Bachelors",
           "CS/IT",
           "to boost my skill set",
           "Student",
           "B+",
           "Mobilink",
           "Prepaid",
           "Apna Laptop",
           "Yes",
           "<3 years ago",
           "Python",
           "Yes",
           "Urbun",
           0,
           59.5,
           14.224,
           2,
           0
          ],
          [
           "Male",
           "Pakistan",
           "36-40",
           "Masters",
           "Others",
           "to boost my skill set",
           "Employed",
           "B+",
           "U-fone",
           "Prepaid",
           "Apna Laptop",
           "No",
           ">3 years ago",
           "C#",
           "Yes",
           "Rural",
           4,
           70.2,
           13.7,
           1,
           9
          ],
          [
           "Male",
           "Pakistan",
           "21-25",
           "Bachelors",
           "Enginnering",
           "Switch my field of study",
           "Unemplyed",
           "O+",
           "Telenor",
           "Prepaid",
           "Apna Laptop",
           "No",
           "In this chilla",
           "Python",
           "Yes",
           "Urbun",
           1,
           75,
           188,
           2,
           5
          ],
          [
           "Male",
           "Pakistan",
           "26-30",
           "Masters",
           "Enginnering",
           "to boost my skill set",
           "Employed",
           "B-",
           "U-fone",
           "Prepaid",
           "Kisi ka laptop",
           "Yes",
           ">3 years ago",
           "Python",
           "Yes",
           "Rural",
           3,
           78.8,
           170.5,
           2,
           6
          ],
          [
           "Male",
           "Pakistan",
           "26-30",
           "Bachelors",
           "CS/IT",
           "to boost my skill set",
           "Student",
           "A-",
           "Mobilink",
           "Prepaid",
           "Apna Laptop",
           "No",
           ">3 years ago",
           "SQL",
           "Yes",
           "Rural",
           1,
           65,
           66.5,
           5,
           1
          ],
          [
           "Male",
           "West",
           "26-30",
           "Bachelors",
           "Enginnering",
           "Switch my field of study",
           "Unemplyed",
           "B+",
           "International",
           "Prepaid",
           "Apna Laptop",
           "No",
           ">3 years ago",
           "Python",
           "Yes",
           "International",
           6,
           161,
           173,
           3,
           0
          ],
          [
           "Male",
           "Pakistan",
           "26-30",
           "Bachelors",
           "CS/IT",
           "to boost my skill set",
           "Student",
           "B+",
           "Telenor",
           "Prepaid",
           "Apna Laptop",
           "No",
           ">3 years ago",
           "Python",
           "Yes",
           "Rural",
           4,
           72.5,
           5.9,
           2,
           6
          ],
          [
           "Male",
           "West",
           "31-35",
           "Masters",
           "Natural Sciences",
           "Switch my field of study",
           "Employed",
           "B+",
           "International",
           "Prepaid",
           "Kisi ka laptop",
           "No",
           "In this chilla",
           "Python",
           "Yes",
           "International",
           1.3,
           58.1,
           167.64,
           2,
           1
          ],
          [
           "Male",
           "Pakistan",
           "36-40",
           "Masters",
           "Natural Sciences",
           "to boost my skill set",
           "Unemplyed",
           "B+",
           "U-fone",
           "Prepaid",
           "Apna Laptop",
           "No",
           "In this chilla",
           "Python",
           "Yes",
           "Rural",
           2,
           80,
           167.64,
           3,
           3
          ],
          [
           "Male",
           "Pakistan",
           "26-30",
           "Masters",
           "Mathematics",
           "to boost my skill set",
           "Employed",
           "O+",
           "Mobilink",
           "Prepaid",
           "Apna Laptop",
           "No",
           ">3 years ago",
           "Python",
           "Yes",
           "Urbun",
           1,
           65,
           167,
           1,
           0
          ],
          [
           "Male",
           "Pakistan",
           "26-30",
           "PhD",
           "Biology",
           "to boost my skill set",
           "Student",
           "B+",
           "Mobilink",
           "Prepaid",
           "Apna Laptop",
           "Yes",
           "In this chilla",
           "Python",
           "Yes",
           "Rural",
           2.5,
           68.5,
           173,
           3,
           8
          ],
          [
           "Male",
           "Pakistan",
           "31-35",
           "Masters",
           "Biology",
           "Switch my field of study",
           "Student",
           "O+",
           "Zong",
           "Postpaid",
           "Apna Laptop",
           "No",
           "In this chilla",
           "Python",
           "Yes",
           "Urbun",
           3,
           70,
           161,
           1,
           2
          ],
          [
           "Male",
           "Pakistan",
           "21-25",
           "Bachelors",
           "Enginnering",
           "to boost my skill set",
           "Student",
           "A+",
           "Telenor",
           "Prepaid",
           "Apna Laptop",
           "No",
           "<3 years ago",
           "Python",
           "Yes",
           "Urbun",
           0.5,
           65,
           170,
           3,
           2
          ],
          [
           "Male",
           "Pakistan",
           "26-30",
           "Masters",
           "Biology",
           "to boost my skill set",
           "Student",
           "O+",
           "Telenor",
           "Prepaid",
           "Apna Laptop",
           "No",
           "<3 years ago",
           "Python",
           "Yes",
           "Rural",
           6.5,
           65.5,
           172.72,
           4,
           0
          ],
          [
           "Male",
           "Pakistan",
           "21-25",
           "Pre-Bachelors",
           "CS/IT",
           "Switch my field of study",
           "Student",
           "B-",
           "Mobilink",
           "Prepaid",
           "Apna Laptop",
           "Yes",
           ">3 years ago",
           "Python",
           "Yes",
           "Urbun",
           1,
           85,
           162.56,
           2,
           5
          ],
          [
           "Male",
           "Pakistan",
           "21-25",
           "Pre-Bachelors",
           "Software Eng.",
           "to boost my skill set",
           "Student",
           "A+",
           "Telenor",
           "Prepaid",
           "Apna Laptop",
           "Yes",
           "<3 years ago",
           "Python",
           "Yes",
           "Rural",
           0,
           50,
           170,
           5,
           5
          ],
          [
           "Male",
           "Pakistan",
           "21-25",
           "Bachelors",
           "Business/Economics",
           "to boost my skill set",
           "Unemplyed",
           "B+",
           "Mobilink",
           "Prepaid",
           "Apna Laptop",
           "Yes",
           "In this chilla",
           "Python",
           "Yes",
           "Urbun",
           0.7,
           135,
           185.9,
           2,
           0
          ],
          [
           "Male",
           "Pakistan",
           "21-25",
           "Pre-Bachelors",
           "Enginnering",
           "to boost my skill set",
           "Employed",
           "O+",
           "Telenor",
           "Prepaid",
           "Desktop",
           "No",
           ">3 years ago",
           "Python",
           "Yes",
           "Rural",
           0,
           75,
           168,
           2,
           1
          ],
          [
           "Male",
           "Pakistan",
           "16-20",
           "Pre-Bachelors",
           "Others",
           "to boost my skill set",
           "Student",
           "A+",
           "Telenor",
           "Prepaid",
           "Apna Laptop",
           "Yes",
           "In this chilla",
           "Python",
           "Yes",
           "Urbun",
           1,
           68,
           182,
           3,
           3
          ],
          [
           "Male",
           "Pakistan",
           "26-30",
           "Masters",
           "Natural Sciences",
           "Switch my field of study",
           "Employed",
           "B+",
           "Mobilink",
           "Prepaid",
           "Apna Laptop",
           "No",
           "<3 years ago",
           "Python",
           "Yes",
           "Urbun",
           1,
           75.45,
           173,
           1,
           2
          ],
          [
           "Male",
           "Pakistan",
           "16-20",
           "Pre-Bachelors",
           "CS/IT",
           "to boost my skill set",
           "Student",
           "AB+",
           "Telenor",
           "Prepaid",
           "Kisi ka laptop",
           "Yes",
           "In this chilla",
           "Python",
           "Yes",
           "Urbun",
           0,
           52,
           160,
           3,
           8
          ],
          [
           "Male",
           "Pakistan",
           "21-25",
           "Bachelors",
           "Biology",
           "Switch my field of study",
           "Employed",
           "B+",
           "Mobilink",
           "Prepaid",
           "Desktop",
           "No",
           "In this chilla",
           "Python",
           "Yes",
           "Urbun",
           1,
           100,
           155.75,
           3,
           0
          ],
          [
           "Male",
           "Pakistan",
           "21-25",
           "Masters",
           "Natural Sciences",
           "to boost my skill set",
           "Student",
           "A+",
           "Mobilink",
           "Prepaid",
           "Apna Laptop",
           "Yes",
           "<3 years ago",
           "Python",
           "Yes",
           "Urbun",
           1,
           60,
           170.688,
           3,
           2
          ],
          [
           "Male",
           "Pakistan",
           "21-25",
           "Bachelors",
           "Enginnering",
           "Switch my field of study",
           "Employed",
           "O+",
           "U-fone",
           "Prepaid",
           "Apna Laptop",
           "Yes",
           "In this chilla",
           "Python",
           "Yes",
           "Urbun",
           1,
           68,
           173.7,
           3,
           3
          ],
          [
           "Male",
           "Pakistan",
           "26-30",
           "Bachelors",
           "Enginnering",
           "to boost my skill set",
           "Student",
           "AB+",
           "U-fone",
           "Prepaid",
           "Apna Laptop",
           "Yes",
           ">3 years ago",
           "Python",
           "Yes",
           "Urbun",
           0,
           65,
           163.5,
           1,
           2
          ],
          [
           "Male",
           "Pakistan",
           "26-30",
           "Masters",
           "Natural Sciences",
           "to boost my skill set",
           "Student",
           "O+",
           "Mobilink",
           "Prepaid",
           "Apna Laptop",
           "Yes",
           "In this chilla",
           "Python",
           "Yes",
           "Urbun",
           3,
           70,
           5.9,
           2,
           5
          ],
          [
           "Male",
           "Pakistan",
           "21-25",
           "Bachelors",
           "CS/IT",
           "to boost my skill set",
           "Student",
           "A+",
           "Mobilink",
           "Prepaid",
           "Apna Laptop",
           "Yes",
           ">3 years ago",
           "Python",
           "Yes",
           "Urbun",
           1.5,
           60.2,
           170.688,
           2,
           1
          ],
          [
           "Male",
           "Pakistan",
           "26-30",
           "Bachelors",
           "Software Eng.",
           "Switch my field of study",
           "Employed",
           "O+",
           "Zong",
           "Prepaid",
           "Kisi ka laptop",
           "No",
           ">3 years ago",
           "Python",
           "Yes",
           "Urbun",
           2,
           65.7,
           16.51,
           3,
           2
          ],
          [
           "Male",
           "Pakistan",
           "26-30",
           "Bachelors",
           "Biology",
           "Switch my field of study",
           "Employed",
           "B+",
           "Telenor",
           "Prepaid",
           "Apna Laptop",
           "No",
           "<3 years ago",
           "Python",
           "Yes",
           "Urbun",
           3.3,
           74,
           177.5,
           2.5,
           5
          ],
          [
           "Male",
           "Pakistan",
           "31-35",
           "Masters",
           "Biology",
           "Switch my field of study",
           "Student",
           "A+",
           "Mobilink",
           "Prepaid",
           "Apna Laptop",
           "No",
           "In this chilla",
           "Python",
           "Yes",
           "Rural",
           8,
           63,
           175,
           1,
           5
          ],
          [
           "Male",
           "Pakistan",
           "26-30",
           "Bachelors",
           "Enginnering",
           "to boost my skill set",
           "Employed",
           "B+",
           "U-fone",
           "Prepaid",
           "Apna Laptop",
           "No",
           ">3 years ago",
           "Python",
           "Yes",
           "Rural",
           4,
           80,
           180,
           5,
           3
          ],
          [
           "Male",
           "Pakistan",
           "21-25",
           "Bachelors",
           "CS/IT",
           "to boost my skill set",
           "Student",
           "B+",
           "Mobilink",
           "Prepaid",
           "Apna Laptop",
           "No",
           "<3 years ago",
           "C#",
           "Yes",
           "Urbun",
           1,
           70.85,
           160.52,
           1,
           1
          ],
          [
           "Male",
           "Pakistan",
           "31-35",
           "Masters",
           "Enginnering",
           "to boost my skill set",
           "Student",
           "B+",
           "Zong",
           "Prepaid",
           "Apna Laptop",
           "Yes",
           ">3 years ago",
           "Python",
           "Yes",
           "Urbun",
           7,
           85,
           173.736,
           2,
           0
          ],
          [
           "Male",
           "Pakistan",
           "21-25",
           "Pre-Bachelors",
           "CS/IT",
           "to boost my skill set",
           "Student",
           "A+",
           "Mobilink",
           "Prepaid",
           "Apna Laptop",
           "No",
           "In this chilla",
           "Python",
           "Yes",
           "Rural",
           0,
           60,
           5.8,
           3,
           2
          ],
          [
           "Male",
           "West",
           "31-35",
           "Masters",
           "Enginnering",
           "to boost my skill set",
           "Employed",
           "B+",
           "International",
           "Postpaid",
           "Apna Laptop",
           "Yes",
           "In this chilla",
           "Python",
           "Yes",
           "Urbun",
           8,
           84,
           173,
           3,
           0
          ],
          [
           "Male",
           "Pakistan",
           "21-25",
           "Bachelors",
           "Enginnering",
           "to boost my skill set",
           "Employed",
           "B+",
           "Zong",
           "Prepaid",
           "Apna Laptop",
           "No",
           "In this chilla",
           "Python",
           "Yes",
           "Rural",
           1,
           56.61,
           176.7,
           3,
           16
          ],
          [
           "Male",
           "Pakistan",
           "26-30",
           "Masters",
           "Software Eng.",
           "to boost my skill set",
           "Unemplyed",
           "B+",
           "Zong",
           "Prepaid",
           "Apna Laptop",
           "No",
           ">3 years ago",
           "Python",
           "Yes",
           "Rural",
           1,
           110,
           72,
           2,
           16
          ],
          [
           "Male",
           "Pakistan",
           "26-30",
           "Bachelors",
           "CS/IT",
           "to boost my skill set",
           "Employed",
           "O+",
           "Telenor",
           "Prepaid",
           "Apna Laptop",
           "No",
           ">3 years ago",
           "Python",
           "Yes",
           "Urbun",
           1,
           63.5,
           167.64,
           3,
           2
          ],
          [
           "Male",
           "Pakistan",
           "31-35",
           "Masters",
           "Natural Sciences",
           "Switch my field of study",
           "Student",
           "A+",
           "U-fone",
           "Prepaid",
           "Apna Laptop",
           "Yes",
           "<3 years ago",
           "Python",
           "Yes",
           "Rural",
           8,
           88,
           174,
           5,
           20
          ],
          [
           "Male",
           "Pakistan",
           "21-25",
           "Masters",
           "Natural Sciences",
           "Switch my field of study",
           "Unemplyed",
           "O+",
           "U-fone",
           "Prepaid",
           "Kisi ka laptop",
           "No",
           "In this chilla",
           "Python",
           "Yes",
           "Rural",
           1,
           68,
           175,
           1,
           3
          ],
          [
           "Male",
           "West",
           "26-30",
           "Masters",
           "CS/IT",
           "to boost my skill set",
           "Unemplyed",
           "AB+",
           "International",
           "Prepaid",
           "Apna Laptop",
           "No",
           ">3 years ago",
           "Python",
           "Yes",
           "International",
           1,
           65,
           182.88,
           3,
           0
          ],
          [
           "Male",
           "Pakistan",
           "21-25",
           "Masters",
           "Business/Economics",
           "Switch my field of study",
           "Unemplyed",
           "B+",
           "Mobilink",
           "Postpaid",
           "Kisi ka laptop",
           "No",
           "In this chilla",
           "Python",
           "Yes",
           "Rural",
           1,
           61,
           5.2,
           3,
           5
          ],
          [
           "Male",
           "Pakistan",
           "21-25",
           "Pre-Bachelors",
           "Enginnering",
           "to boost my skill set",
           "Student",
           "B+",
           "Zong",
           "Prepaid",
           "Kisi ka laptop",
           "No",
           "In this chilla",
           "Others",
           "Yes",
           "Rural",
           0,
           55,
           5.7,
           1,
           8
          ],
          [
           "Male",
           "Pakistan",
           "16-20",
           "Pre-Bachelors",
           "CS/IT",
           "to boost my skill set",
           "Student",
           "B+",
           "Mobilink",
           "Prepaid",
           "Apna Laptop",
           "No",
           "<3 years ago",
           "Python",
           "Yes",
           "Urbun",
           0,
           53,
           176,
           2,
           4
          ],
          [
           "Male",
           "Pakistan",
           "21-25",
           "Masters",
           "Others",
           "to boost my skill set",
           "Student",
           "A+",
           "Zong",
           "Prepaid",
           "Apna Laptop",
           "No",
           "In this chilla",
           "Python",
           "Yes",
           "Urbun",
           1.2,
           70,
           167,
           5,
           3
          ],
          [
           "Male",
           "Pakistan",
           "21-25",
           "Pre-Bachelors",
           "CS/IT",
           "to boost my skill set",
           "Student",
           "O+",
           "U-fone",
           "Prepaid",
           "Apna Laptop",
           "No",
           "<3 years ago",
           "Python",
           "Yes",
           "Rural",
           0,
           48,
           1661.16,
           2,
           4
          ],
          [
           "Male",
           "Pakistan",
           "31-35",
           "Bachelors",
           "Business/Economics",
           "Switch my field of study",
           "Employed",
           "A+",
           "U-fone",
           "Prepaid",
           "Apna Laptop",
           "Yes",
           "In this chilla",
           "Python",
           "No",
           "Urbun",
           7.5,
           85,
           14.732,
           3,
           0
          ],
          [
           "Male",
           "Pakistan",
           "31-35",
           "PhD",
           "Biology",
           "to boost my skill set",
           "Employed",
           "B+",
           "U-fone",
           "Prepaid",
           "Apna Laptop",
           "Yes",
           "In this chilla",
           "R",
           "Yes",
           "Urbun",
           7,
           79,
           183,
           3,
           2
          ],
          [
           "Male",
           "Pakistan",
           "26-30",
           "Bachelors",
           "CS/IT",
           "to boost my skill set",
           "Unemplyed",
           "B+",
           "Mobilink",
           "Prepaid",
           "Kisi ka laptop",
           "No",
           "<3 years ago",
           "Python",
           "Yes",
           "Urbun",
           6,
           66,
           155.448,
           4,
           2
          ],
          [
           "Male",
           "Pakistan",
           "26-30",
           "Masters",
           "Software Eng.",
           "to boost my skill set",
           "Employed",
           "AB+",
           "Mobilink",
           "Prepaid",
           "Apna Laptop",
           "Yes",
           ">3 years ago",
           "Python",
           "Yes",
           "Rural",
           0.5,
           84,
           208.28,
           1,
           1
          ],
          [
           "Male",
           "Pakistan",
           "21-25",
           "Bachelors",
           "Enginnering",
           "to boost my skill set",
           "Student",
           "B+",
           "U-fone",
           "Prepaid",
           "Apna Laptop",
           "No",
           "In this chilla",
           "Python",
           "Yes",
           "Urbun",
           0,
           56,
           160,
           3,
           2
          ],
          [
           "Male",
           "Pakistan",
           "31-35",
           "Masters",
           "Natural Sciences",
           "to boost my skill set",
           "Employed",
           "B+",
           "Telenor",
           "Prepaid",
           "Apna Laptop",
           "No",
           "I don't know how to code",
           "Python",
           "Yes",
           "Rural",
           10,
           80,
           173,
           2,
           0
          ],
          [
           "Male",
           "Pakistan",
           "36-40",
           "Masters",
           "CS/IT",
           "to boost my skill set",
           "Employed",
           "AB+",
           "Mobilink",
           "Prepaid",
           "Apna Laptop",
           "No",
           ">3 years ago",
           "Python",
           "Yes",
           "Urbun",
           5.6,
           78.5,
           170.688,
           3,
           2
          ],
          [
           "Male",
           "Pakistan",
           "21-25",
           "Masters",
           "Natural Sciences",
           "Switch my field of study",
           "Unemplyed",
           "O-",
           "Zong",
           "Prepaid",
           "Desktop",
           "No",
           "In this chilla",
           "Python",
           "Yes",
           "Urbun",
           1,
           58,
           172,
           3,
           2
          ],
          [
           "Male",
           "Pakistan",
           "21-25",
           "Bachelors",
           "CS/IT",
           "to boost my skill set",
           "Student",
           "O+",
           "Telenor",
           "Prepaid",
           "Apna Laptop",
           "No",
           "<3 years ago",
           "Python",
           "Yes",
           "Rural",
           0,
           53,
           65,
           1,
           12
          ],
          [
           "Male",
           "Pakistan",
           "31-35",
           "Masters",
           "CS/IT",
           "to boost my skill set",
           "Employed",
           "A+",
           "Mobilink",
           "Prepaid",
           "Apna Laptop",
           "Yes",
           "In this chilla",
           "Python",
           "Yes",
           "Rural",
           2.5,
           90,
           1.74,
           5,
           72
          ],
          [
           "Male",
           "Pakistan",
           "21-25",
           "Bachelors",
           "CS/IT",
           "to boost my skill set",
           "Student",
           "A+",
           "Mobilink",
           "Prepaid",
           "Apna Laptop",
           "No",
           "In this chilla",
           "Python",
           "Yes",
           "Rural",
           1,
           52.1,
           172.72,
           4,
           5
          ],
          [
           "Male",
           "Pakistan",
           "31-35",
           "PhD",
           "Biology",
           "to boost my skill set",
           "Unemplyed",
           "B-",
           "Telenor",
           "Prepaid",
           "Apna Laptop",
           "Yes",
           "In this chilla",
           "Python",
           "Yes",
           "Urbun",
           8,
           85,
           170.6,
           2,
           16
          ],
          [
           "Male",
           "Pakistan",
           "21-25",
           "Bachelors",
           "Statistics",
           "to boost my skill set",
           "Student",
           "A+",
           "Zong",
           "Prepaid",
           "Apna Laptop",
           "No",
           "In this chilla",
           "Python",
           "Yes",
           "Rural",
           0,
           59.5,
           179.832,
           4,
           1
          ],
          [
           "Male",
           "Pakistan",
           "31-35",
           "Masters",
           "Enginnering",
           "to boost my skill set",
           "Student",
           "AB-",
           "U-fone",
           "Prepaid",
           "Apna Laptop",
           "No",
           "In this chilla",
           "Python",
           "Yes",
           "Urbun",
           5,
           72.5,
           173.73,
           3,
           5
          ],
          [
           "Male",
           "Pakistan",
           "21-25",
           "Bachelors",
           "CS/IT",
           "to boost my skill set",
           "Student",
           "A+",
           "Telenor",
           "Prepaid",
           "Apna Laptop",
           "No",
           "<3 years ago",
           "Python",
           "Yes",
           "Rural",
           0,
           58,
           58,
           3,
           3
          ],
          [
           "Male",
           "Pakistan",
           "46-60",
           "PhD",
           "Enginnering",
           "to boost my skill set",
           "Employed",
           "O+",
           "Mobilink",
           "Prepaid",
           "Apna Laptop",
           "Yes",
           ">3 years ago",
           "Others",
           "Yes",
           "Urbun",
           40,
           68,
           170,
           0,
           1
          ],
          [
           "Male",
           "East",
           "36-40",
           "Masters",
           "Enginnering",
           "to boost my skill set",
           "Student",
           "O+",
           "International",
           "Prepaid",
           "Desktop",
           "Yes",
           "In this chilla",
           "Others",
           "Yes",
           "International",
           3.5,
           78.5,
           163.5,
           3,
           0
          ],
          [
           "Male",
           "Pakistan",
           "21-25",
           "Bachelors",
           "Business/Economics",
           "to boost my skill set",
           "Employed",
           "B+",
           "Telenor",
           "Prepaid",
           "Apna Laptop",
           "Yes",
           "In this chilla",
           "Others",
           "Yes",
           "Urbun",
           3,
           114,
           180,
           0.5,
           0
          ],
          [
           "Male",
           "Pakistan",
           "21-25",
           "Pre-Bachelors",
           "Enginnering",
           "Switch my field of study",
           "Student",
           "A-",
           "Mobilink",
           "Postpaid",
           "Apna Laptop",
           "No",
           ">3 years ago",
           "Python",
           "Yes",
           "Rural",
           0,
           72,
           175,
           0,
           8
          ],
          [
           "Male",
           "Pakistan",
           "31-35",
           "Masters",
           "Others",
           "Abhi tak pata nahi",
           "Unemplyed",
           "B+",
           "Zong",
           "Prepaid",
           "Apna Laptop",
           "No",
           "In this chilla",
           "Python",
           "Yes",
           "Rural",
           0,
           51,
           155,
           3,
           2
          ],
          [
           "Male",
           "West",
           "15-Jan",
           "Pre-Bachelors",
           "CS/IT",
           "to boost my skill set",
           "Student",
           "A+",
           "International",
           "Prepaid",
           "Apna Laptop",
           "Yes",
           "<3 years ago",
           "Python",
           "No",
           "International",
           2,
           45,
           137.16,
           18,
           0
          ],
          [
           "Male",
           "Pakistan",
           "31-35",
           "Masters",
           "Biology",
           "to boost my skill set",
           "Employed",
           "A+",
           "U-fone",
           "Prepaid",
           "Apna Laptop",
           "Yes",
           "In this chilla",
           "Python",
           "Yes",
           "Urbun",
           6,
           58,
           170,
           2,
           0
          ],
          [
           "Male",
           "Pakistan",
           "41-45",
           "Masters",
           "CS/IT",
           "to boost my skill set",
           "Employed",
           "B+",
           "Mobilink",
           "Prepaid",
           "Apna Laptop",
           "No",
           ">3 years ago",
           "Python",
           "Yes",
           "Urbun",
           16.5,
           87,
           183.1,
           3,
           2
          ],
          [
           "Male",
           "Pakistan",
           "21-25",
           "Pre-Bachelors",
           "CS/IT",
           "Switch my field of study",
           "Student",
           "A+",
           "Zong",
           "Prepaid",
           "Apna Laptop",
           "No",
           "In this chilla",
           "Python",
           "Yes",
           "Rural",
           0,
           49,
           1.2,
           3,
           8
          ],
          [
           "Male",
           "Pakistan",
           "21-25",
           "Bachelors",
           "Enginnering",
           "to boost my skill set",
           "Student",
           "B-",
           "U-fone",
           "Prepaid",
           "Apna Laptop",
           "No",
           ">3 years ago",
           "Python",
           "Yes",
           "Urbun",
           0,
           64,
           170.18,
           1,
           2
          ],
          [
           "Male",
           "Pakistan",
           "26-30",
           "Masters",
           "CS/IT",
           "to boost my skill set",
           "Employed",
           "B+",
           "Telenor",
           "Prepaid",
           "Desktop",
           "Yes",
           ">3 years ago",
           "Javascript",
           "Yes",
           "Urbun",
           2,
           74,
           178,
           2,
           0
          ],
          [
           "Male",
           "Pakistan",
           "31-35",
           "Bachelors",
           "Enginnering",
           "to boost my skill set",
           "Employed",
           "B+",
           "Zong",
           "Prepaid",
           "Kisi ka laptop",
           "No",
           ">3 years ago",
           "Python",
           "Yes",
           "Rural",
           2,
           86,
           88,
           3,
           20
          ],
          [
           "Male",
           "Pakistan",
           "21-25",
           "Bachelors",
           "Natural Sciences",
           "to boost my skill set",
           "Employed",
           "AB+",
           "Telenor",
           "Prepaid",
           "Apna Laptop",
           "No",
           "In this chilla",
           "Python",
           "Yes",
           "Rural",
           3,
           65,
           160.4,
           3,
           2
          ],
          [
           "Male",
           "Pakistan",
           "26-30",
           "Masters",
           "CS/IT",
           "to boost my skill set",
           "Employed",
           "O+",
           "Mobilink",
           "Postpaid",
           "Apna Laptop",
           "Yes",
           "<3 years ago",
           "Python",
           "Yes",
           "Urbun",
           1.4,
           82,
           155.65,
           3,
           1
          ],
          [
           "Male",
           "Pakistan",
           "41-45",
           "Masters",
           "Others",
           "to boost my skill set",
           "Employed",
           "B+",
           "U-fone",
           "Prepaid",
           "Apna Laptop",
           "Yes",
           "In this chilla",
           "Python",
           "Yes",
           "Urbun",
           2,
           70,
           14.478,
           3,
           1
          ],
          [
           "Male",
           "India",
           "26-30",
           "Masters",
           "Natural Sciences",
           "to boost my skill set",
           "Student",
           "B+",
           "International",
           "Prepaid",
           "Apna Laptop",
           "No",
           "In this chilla",
           "Python",
           "Yes",
           "Rural",
           4,
           61,
           168,
           5,
           0
          ],
          [
           "Male",
           "Pakistan",
           "31-35",
           "Masters",
           "CS/IT",
           "to boost my skill set",
           "Employed",
           "AB+",
           "Telenor",
           "Prepaid",
           "Desktop",
           "No",
           "<3 years ago",
           "Python",
           "Yes",
           "Rural",
           3,
           55,
           177.8,
           2,
           0
          ],
          [
           "Male",
           "Pakistan",
           "31-35",
           "PhD",
           "Natural Sciences",
           "to boost my skill set",
           "Student",
           "B-",
           "U-fone",
           "Prepaid",
           "Apna Laptop",
           "No",
           "In this chilla",
           "Python",
           "Yes",
           "Urbun",
           2,
           65,
           172,
           2,
           4
          ],
          [
           "Male",
           "Pakistan",
           "36-40",
           "Masters",
           "CS/IT",
           "to boost my skill set",
           "Student",
           "A+",
           "U-fone",
           "Prepaid",
           "Apna Laptop",
           "No",
           "In this chilla",
           "Python",
           "Yes",
           "Rural",
           0,
           69.1,
           70.1,
           3,
           36
          ],
          [
           "Male",
           "Pakistan",
           "26-30",
           "Masters",
           "Natural Sciences",
           "to boost my skill set",
           "Student",
           "AB+",
           "U-fone",
           "Prepaid",
           "Apna Laptop",
           "No",
           "I don't know how to code",
           "Python",
           "Yes",
           "Rural",
           1.5,
           66.5,
           164.5,
           1,
           0
          ],
          [
           "Male",
           "Pakistan",
           "26-30",
           "Masters",
           "Enginnering",
           "to boost my skill set",
           "Student",
           "B+",
           "Zong",
           "Postpaid",
           "Apna Laptop",
           "No",
           "<3 years ago",
           "Python",
           "Yes",
           "Urbun",
           5,
           92,
           175,
           2,
           5
          ],
          [
           "Male",
           "Pakistan",
           "31-35",
           "Masters",
           "CS/IT",
           "to boost my skill set",
           "Employed",
           "A+",
           "Mobilink",
           "Prepaid",
           "Apna Laptop",
           "Yes",
           "In this chilla",
           "Python",
           "Yes",
           "Rural",
           2.5,
           90,
           14.734,
           5,
           72
          ],
          [
           "Male",
           "Pakistan",
           "21-25",
           "Bachelors",
           "CS/IT",
           "to boost my skill set",
           "Student",
           "AB+",
           "Zong",
           "Postpaid",
           "Apna Laptop",
           "No",
           "<3 years ago",
           "Python",
           "No",
           "Urbun",
           2,
           31.75,
           161.9,
           3,
           0
          ],
          [
           "Male",
           "Pakistan",
           "26-30",
           "Masters",
           "Natural Sciences",
           "to boost my skill set",
           "Employed",
           "A+",
           "Telenor",
           "Postpaid",
           "Apna Laptop",
           "Yes",
           "In this chilla",
           "Python",
           "Yes",
           "Urbun",
           5,
           65.6,
           164.4,
           3,
           5
          ],
          [
           "Male",
           "Pakistan",
           "21-25",
           "Bachelors",
           "Natural Sciences",
           "Abhi tak pata nahi",
           "Student",
           "B+",
           "Mobilink",
           "Postpaid",
           "Apna Laptop",
           "No",
           "In this chilla",
           "Python",
           "Yes",
           "Rural",
           2,
           67,
           167,
           6,
           0
          ],
          [
           "Male",
           "Pakistan",
           "31-35",
           "Masters",
           "Others",
           "Switch my field of study",
           "Unemplyed",
           "O+",
           "Mobilink",
           "Prepaid",
           "Kisi ka laptop",
           "No",
           "In this chilla",
           "Python",
           "Yes",
           "Rural",
           1,
           58,
           170,
           2,
           3
          ],
          [
           "Male",
           "West",
           "31-35",
           "Masters",
           "Enginnering",
           "to boost my skill set",
           "Employed",
           "B+",
           "International",
           "Prepaid",
           "Apna Laptop",
           "No",
           ">3 years ago",
           "C++",
           "Yes",
           "International",
           10.5,
           79.75,
           182,
           1,
           0
          ],
          [
           "Male",
           "Pakistan",
           "26-30",
           "Masters",
           "Natural Sciences",
           "to boost my skill set",
           "Student",
           "B+",
           "Zong",
           "Prepaid",
           "Apna Laptop",
           "No",
           "In this chilla",
           "Python",
           "Yes",
           "Urbun",
           1,
           92,
           171,
           3,
           6
          ],
          [
           "Male",
           "Pakistan",
           "31-35",
           "PhD",
           "Biology",
           "Switch my field of study",
           "Unemplyed",
           "B+",
           "Telenor",
           "Prepaid",
           "Apna Laptop",
           "Yes",
           ">3 years ago",
           "Python",
           "Yes",
           "Rural",
           3,
           80,
           5.8,
           3,
           18
          ],
          [
           "Male",
           "Pakistan",
           "26-30",
           "Bachelors",
           "Enginnering",
           "Switch my field of study",
           "Employed",
           "AB+",
           "Zong",
           "Prepaid",
           "Apna Laptop",
           "No",
           ">3 years ago",
           "Python",
           "Yes",
           "Rural",
           0,
           65,
           170.688,
           4,
           10
          ],
          [
           "Male",
           "West",
           "26-30",
           "PhD",
           "Natural Sciences",
           "to boost my skill set",
           "Employed",
           "B+",
           "International",
           "Prepaid",
           "Apna Laptop",
           "No",
           "In this chilla",
           "Python",
           "Yes",
           "International",
           5,
           65,
           175,
           4,
           0
          ],
          [
           "Male",
           "West",
           "21-25",
           "Masters",
           "CS/IT",
           "to boost my skill set",
           "Student",
           "O+",
           "International",
           "Postpaid",
           "Apna Laptop",
           "Yes",
           ">3 years ago",
           "Python",
           "Yes",
           "International",
           1,
           75,
           165,
           3,
           0
          ],
          [
           "Male",
           "Pakistan",
           "36-40",
           "Bachelors",
           "CS/IT",
           "to boost my skill set",
           "Employed",
           "A+",
           "Zong",
           "Prepaid",
           "Apna Laptop",
           "No",
           ">3 years ago",
           "Python",
           "Yes",
           "Urbun",
           11.3,
           86.34,
           179.83,
           1,
           3
          ],
          [
           "Male",
           "Pakistan",
           "41-45",
           "Masters",
           "Software Eng.",
           "to boost my skill set",
           "Employed",
           "B+",
           "Mobilink",
           "Prepaid",
           "Apna Laptop",
           "Yes",
           "<3 years ago",
           "C#",
           "Yes",
           "Urbun",
           15,
           75,
           170.688,
           16,
           1
          ],
          [
           "Male",
           "Pakistan",
           "21-25",
           "Bachelors",
           "Enginnering",
           "to boost my skill set",
           "Student",
           "B+",
           "Mobilink",
           "Prepaid",
           "Apna Laptop",
           "No",
           "<3 years ago",
           "Python",
           "Yes",
           "Urbun",
           0,
           70,
           155,
           1,
           0
          ],
          [
           "Male",
           "East",
           "16-20",
           "Pre-Bachelors",
           "Business/Economics",
           "Switch my field of study",
           "Student",
           "B+",
           "International",
           "Prepaid",
           "Desktop",
           "No",
           "I don't know how to code",
           "Python",
           "No",
           "Urbun",
           0,
           64,
           178,
           3,
           12
          ],
          [
           "Male",
           "Pakistan",
           "26-30",
           "Bachelors",
           "CS/IT",
           "to boost my skill set",
           "Student",
           "B+",
           "Telenor",
           "Prepaid",
           "Apna Laptop",
           "No",
           ">3 years ago",
           "Python",
           "Yes",
           "Rural",
           0,
           64,
           168,
           0,
           8
          ],
          [
           "Male",
           "Pakistan",
           "21-25",
           "Bachelors",
           "CS/IT",
           "to boost my skill set",
           "Student",
           "A+",
           "Mobilink",
           "Prepaid",
           "Apna Laptop",
           "No",
           "In this chilla",
           "Python",
           "Yes",
           "Rural",
           1,
           52.1,
           172.72,
           3,
           5
          ],
          [
           "Male",
           "Pakistan",
           "31-35",
           "PhD",
           "Natural Sciences",
           "to boost my skill set",
           "Employed",
           "B+",
           "U-fone",
           "Prepaid",
           "Apna Laptop",
           "Yes",
           "In this chilla",
           "Python",
           "Yes",
           "Rural",
           2,
           85.5,
           168,
           2,
           0
          ],
          [
           "Male",
           "Pakistan",
           "21-25",
           "Masters",
           "Mathematics",
           "to boost my skill set",
           "Student",
           "O+",
           "Zong",
           "Prepaid",
           "Apna Laptop",
           "No",
           "In this chilla",
           "Python",
           "Yes",
           "Rural",
           2,
           76,
           1.74,
           5,
           6
          ],
          [
           "Male",
           "Pakistan",
           "21-25",
           "Pre-Bachelors",
           "CS/IT",
           "to boost my skill set",
           "Student",
           "A+",
           "Mobilink",
           "Prepaid",
           "Apna Laptop",
           "No",
           "In this chilla",
           "Python",
           "Yes",
           "Rural",
           0,
           60,
           5.8,
           3,
           1
          ],
          [
           "Male",
           "Pakistan",
           "26-30",
           "Bachelors",
           "Enginnering",
           "to boost my skill set",
           "Employed",
           "AB+",
           "U-fone",
           "Prepaid",
           "Apna Laptop",
           "No",
           "<3 years ago",
           "C#",
           "Yes",
           "Urbun",
           3,
           67.5,
           185.9,
           1,
           0
          ],
          [
           "Male",
           "Pakistan",
           "26-30",
           "Bachelors",
           "Enginnering",
           "Switch my field of study",
           "Employed",
           "B+",
           "U-fone",
           "Prepaid",
           "Apna Laptop",
           "Yes",
           ">3 years ago",
           "Python",
           "Yes",
           "Urbun",
           5,
           60.5,
           182.88,
           2,
           1
          ],
          [
           "Male",
           "Pakistan",
           "31-35",
           "Masters",
           "Enginnering",
           "Switch my field of study",
           "Employed",
           "A+",
           "Zong",
           "Prepaid",
           "Apna Laptop",
           "Yes",
           "In this chilla",
           "Python",
           "Yes",
           "Urbun",
           7,
           60.5,
           172,
           1,
           3
          ],
          [
           "Male",
           "Pakistan",
           "31-35",
           "Masters",
           "CS/IT",
           "Switch my field of study",
           "Employed",
           "O+",
           "Mobilink",
           "Prepaid",
           "Apna Laptop",
           "Yes",
           ">3 years ago",
           "C#",
           "Yes",
           "Urbun",
           5,
           78,
           174,
           4,
           3
          ],
          [
           "Male",
           "Pakistan",
           "26-30",
           "Masters",
           "Biology",
           "to boost my skill set",
           "Student",
           "AB+",
           "Mobilink",
           "Prepaid",
           "Apna Laptop",
           "Yes",
           "In this chilla",
           "Python",
           "Yes",
           "Urbun",
           0,
           90,
           180,
           3,
           3
          ],
          [
           "Male",
           "Pakistan",
           "26-30",
           "Masters",
           "Biology",
           "to boost my skill set",
           "Student",
           "B+",
           "Telenor",
           "Prepaid",
           "Apna Laptop",
           "No",
           "In this chilla",
           "Python",
           "Yes",
           "Rural",
           2,
           70,
           175.26,
           3,
           6
          ],
          [
           "Male",
           "Pakistan",
           "31-35",
           "Bachelors",
           "Enginnering",
           "to boost my skill set",
           "Employed",
           "B+",
           "U-fone",
           "Prepaid",
           "Apna Laptop",
           "No",
           "In this chilla",
           "Python",
           "Yes",
           "Urbun",
           7.5,
           72,
           170,
           2,
           4
          ],
          [
           "Male",
           "Pakistan",
           "16-20",
           "Pre-Bachelors",
           "CS/IT",
           "to boost my skill set",
           "Student",
           "B+",
           "Zong",
           "Prepaid",
           "Desktop",
           "Yes",
           "<3 years ago",
           "Python",
           "Yes",
           "Urbun",
           0,
           70.5,
           167.6,
           2,
           8
          ],
          [
           "Male",
           "Pakistan",
           "26-30",
           "Bachelors",
           "Enginnering",
           "Abhi tak pata nahi",
           "Student",
           "A+",
           "Telenor",
           "Prepaid",
           "Apna Laptop",
           "No",
           "In this chilla",
           "Python",
           "Yes",
           "Urbun",
           0,
           54,
           139.5,
           3,
           18
          ],
          [
           "Male",
           "Pakistan",
           "26-30",
           "Bachelors",
           "CS/IT",
           "to boost my skill set",
           "Unemplyed",
           "B+",
           "Mobilink",
           "Prepaid",
           "Kisi ka laptop",
           "No",
           ">3 years ago",
           "Python",
           "Yes",
           "Urbun",
           6.2,
           66,
           177.8,
           4,
           0
          ],
          [
           "Male",
           "Pakistan",
           "36-40",
           "Masters",
           "CS/IT",
           "Switch my field of study",
           "Employed",
           "O+",
           "Mobilink",
           "Prepaid",
           "Apna Laptop",
           "No",
           "<3 years ago",
           "C#",
           "Yes",
           "Urbun",
           5,
           84,
           5.1,
           1,
           0
          ],
          [
           "Male",
           "West",
           "31-35",
           "Masters",
           "Natural Sciences",
           "to boost my skill set",
           "Student",
           "A+",
           "International",
           "Postpaid",
           "Apna Laptop",
           "No",
           "<3 years ago",
           "Python",
           "Yes",
           "International",
           0,
           63,
           184,
           3,
           0
          ],
          [
           "Male",
           "Pakistan",
           "26-30",
           "Bachelors",
           "Enginnering",
           "to boost my skill set",
           "Unemplyed",
           "A+",
           "Telenor",
           "Prepaid",
           "Apna Laptop",
           "No",
           "<3 years ago",
           "Python",
           "Yes",
           "Rural",
           3,
           68.7,
           178.3,
           2,
           0
          ],
          [
           "Male",
           "Pakistan",
           "36-40",
           "Bachelors",
           "Enginnering",
           "Switch my field of study",
           "Employed",
           "B+",
           "U-fone",
           "Prepaid",
           "Kisi ka laptop",
           "No",
           "In this chilla",
           "Python",
           "Yes",
           "Urbun",
           8,
           68.5,
           182.8,
           1,
           3
          ],
          [
           "Male",
           "Pakistan",
           "26-30",
           "Bachelors",
           "CS/IT",
           "to boost my skill set",
           "Employed",
           "A+",
           "Mobilink",
           "Prepaid",
           "Apna Laptop",
           "No",
           "<3 years ago",
           "SQL",
           "Yes",
           "Urbun",
           3,
           78,
           173,
           1,
           4
          ],
          [
           "Male",
           "Pakistan",
           "26-30",
           "Bachelors",
           "Natural Sciences",
           "to boost my skill set",
           "Student",
           "O+",
           "Mobilink",
           "Prepaid",
           "Apna Laptop",
           "No",
           "In this chilla",
           "Python",
           "Yes",
           "Rural",
           1.5,
           50,
           174,
           3,
           1
          ],
          [
           "Male",
           "Pakistan",
           "31-35",
           "Masters",
           "CS/IT",
           "to boost my skill set",
           "Employed",
           "AB+",
           "Telenor",
           "Prepaid",
           "Desktop",
           "No",
           "<3 years ago",
           "Python",
           "Yes",
           "Rural",
           3,
           55,
           177.8,
           1,
           5
          ],
          [
           "Male",
           "Pakistan",
           "16-20",
           "Pre-Bachelors",
           "Natural Sciences",
           "to boost my skill set",
           "Student",
           "B+",
           "Mobilink",
           "Prepaid",
           "Apna Laptop",
           "No",
           "<3 years ago",
           "Python",
           "Yes",
           "Rural",
           0,
           64,
           166,
           3,
           4
          ],
          [
           "Male",
           "Pakistan",
           "26-30",
           "Bachelors",
           "Business/Economics",
           "Switch my field of study",
           "Unemplyed",
           "B+",
           "U-fone",
           "Prepaid",
           "Apna Laptop",
           "No",
           "In this chilla",
           "Python",
           "Yes",
           "Rural",
           1.5,
           67,
           156,
           3,
           5
          ],
          [
           "Male",
           "Pakistan",
           "31-35",
           "Bachelors",
           "Business/Economics",
           "Switch my field of study",
           "Employed",
           "A+",
           "U-fone",
           "Prepaid",
           "Apna Laptop",
           "Yes",
           "In this chilla",
           "Python",
           "No",
           "Urbun",
           7,
           85,
           14.732,
           3,
           0
          ],
          [
           "Male",
           "Pakistan",
           "26-30",
           "Bachelors",
           "CS/IT",
           "to boost my skill set",
           "Unemplyed",
           "B+",
           "Mobilink",
           "Prepaid",
           "Kisi ka laptop",
           "No",
           ">3 years ago",
           "Python",
           "Yes",
           "Urbun",
           6,
           66.5,
           177.8,
           5,
           0
          ],
          [
           "Male",
           "Pakistan",
           "21-25",
           "Masters",
           "Enginnering",
           "to boost my skill set",
           "Student",
           "B+",
           "Zong",
           "Prepaid",
           "Apna Laptop",
           "Yes",
           "<3 years ago",
           "Python",
           "Yes",
           "Rural",
           4,
           75,
           178,
           1,
           2
          ],
          [
           "Male",
           "Pakistan",
           "26-30",
           "Bachelors",
           "CS/IT",
           "to boost my skill set",
           "Unemplyed",
           "B+",
           "Zong",
           "Prepaid",
           "Apna Laptop",
           "No",
           "In this chilla",
           "Javascript",
           "Yes",
           "Urbun",
           1,
           70,
           14.478,
           5,
           15
          ],
          [
           "Male",
           "West",
           "26-30",
           "Masters",
           "Enginnering",
           "to boost my skill set",
           "Student",
           "B+",
           "International",
           "Prepaid",
           "Apna Laptop",
           "No",
           ">3 years ago",
           "Python",
           "Yes",
           "International",
           1.5,
           85,
           178,
           4,
           0
          ],
          [
           "Male",
           "Pakistan",
           "21-25",
           "Bachelors",
           "Enginnering",
           "to boost my skill set",
           "Unemplyed",
           "A+",
           "Zong",
           "Prepaid",
           "Apna Laptop",
           "Yes",
           "In this chilla",
           "Python",
           "Yes",
           "Urbun",
           0,
           60,
           175,
           2,
           0
          ],
          [
           "Male",
           "Pakistan",
           "26-30",
           "Masters",
           "Mathematics",
           "to boost my skill set",
           "Student",
           "B+",
           "Telenor",
           "Postpaid",
           "Apna Laptop",
           "No",
           ">3 years ago",
           "Python",
           "Yes",
           "Urbun",
           0.5,
           75.55,
           167.65,
           10,
           4
          ],
          [
           "Male",
           "Pakistan",
           "21-25",
           "Bachelors",
           "CS/IT",
           "to boost my skill set",
           "Employed",
           "AB-",
           "Mobilink",
           "Prepaid",
           "Apna Laptop",
           "No",
           "<3 years ago",
           "Python",
           "Yes",
           "Rural",
           2,
           70,
           178,
           3,
           1
          ],
          [
           "Male",
           "Pakistan",
           "26-30",
           "Masters",
           "Enginnering",
           "to boost my skill set",
           "Employed",
           "O+",
           "Telenor",
           "Prepaid",
           "Apna Laptop",
           "Yes",
           "In this chilla",
           "R",
           "Yes",
           "Rural",
           7,
           70.5,
           178.5,
           4,
           3
          ],
          [
           "Male",
           "Pakistan",
           "31-35",
           "Bachelors",
           "Enginnering",
           "to boost my skill set",
           "Employed",
           "A+",
           "Zong",
           "Postpaid",
           "Apna Laptop",
           "Yes",
           ">3 years ago",
           "Python",
           "Yes",
           "Urbun",
           5,
           83.4,
           172.7,
           1,
           1
          ],
          [
           "Male",
           "Pakistan",
           "21-25",
           "Bachelors",
           "CS/IT",
           "to boost my skill set",
           "Employed",
           "O+",
           "Mobilink",
           "Prepaid",
           "Apna Laptop",
           "No",
           ">3 years ago",
           "Python",
           "Yes",
           "Urbun",
           0,
           60,
           1.68,
           0,
           0
          ],
          [
           "Male",
           "Pakistan",
           "26-30",
           "Masters",
           "Enginnering",
           "to boost my skill set",
           "Employed",
           "B-",
           "Mobilink",
           "Prepaid",
           "Apna Laptop",
           "No",
           "<3 years ago",
           "Python",
           "No",
           "Urbun",
           2,
           86,
           180,
           2,
           1
          ]
         ],
         "hovertemplate": "Gender=%{customdata[0]}<br>Marital Status?=%{x}<br>Age=%{y}<br>Location=%{customdata[1]}<br>Age_range=%{customdata[2]}<br>Qualification=%{customdata[3]}<br>field_of_study=%{customdata[4]}<br>Purpose_for_chilla=%{customdata[5]}<br>Work_status=%{customdata[6]}<br>Blood_group =%{customdata[7]}<br>Mobile_sim=%{customdata[8]}<br>Sim_type=%{customdata[9]}<br>PC_status=%{customdata[10]}<br>Glasses_wear=%{customdata[11]}<br>When did you write your first line of code?=%{customdata[12]}<br>Your favorite programming language?=%{customdata[13]}<br>Are you Vaccinated?=%{customdata[14]}<br>Where do you live?=%{customdata[15]}<br>Working experience=%{customdata[16]}<br>Weight_in_kg=%{customdata[17]}<br>Height_in_cm=%{customdata[18]}<br>How many hours you code a day? (int) =%{customdata[19]}<br>Light kitni der band hti hy? int=%{customdata[20]}<extra></extra>",
         "legendgroup": "Male",
         "marker": {
          "color": "#636efa"
         },
         "name": "Male",
         "offsetgroup": "Male",
         "orientation": "v",
         "points": "all",
         "scalegroup": "True",
         "showlegend": true,
         "type": "violin",
         "x": [
          "Yes",
          "No",
          "Yes",
          "Yes",
          "No",
          "Yes",
          "No",
          "No",
          "No",
          "No",
          "No",
          "No",
          "No",
          "Yes",
          "No",
          "No",
          "No",
          "Yes",
          "Yes",
          "No",
          "No",
          "No",
          "No",
          "No",
          "Yes",
          "No",
          "No",
          "No",
          "Yes",
          "No",
          "No",
          "No",
          "No",
          "No",
          "No",
          "Yes",
          "Yes",
          "Yes",
          "No",
          "Yes",
          "Yes",
          "Yes",
          "No",
          "Yes",
          "No",
          "No",
          "Yes",
          "No",
          "Yes",
          "Yes",
          "No",
          "No",
          "Yes",
          "Yes",
          "No",
          "No",
          "Yes",
          "No",
          "Yes",
          "No",
          "Yes",
          "No",
          "No",
          "Yes",
          "No",
          "No",
          "No",
          "No",
          "No",
          "No",
          "No",
          "No",
          "No",
          "No",
          "Yes",
          "No",
          "Yes",
          "No",
          "No",
          "Yes",
          "No",
          "No",
          "Yes",
          "Yes",
          "Yes",
          "No",
          "No",
          "No",
          "No",
          "No",
          "No",
          "No",
          "No",
          "No",
          "Yes",
          "Yes",
          "No",
          "Yes",
          "Yes",
          "Yes",
          "No",
          "No",
          "Yes",
          "Yes",
          "Yes",
          "Yes",
          "No",
          "No",
          "No",
          "Yes",
          "No",
          "Yes",
          "No",
          "No",
          "No",
          "No",
          "No",
          "Yes",
          "Yes",
          "No",
          "No",
          "No",
          "No",
          "Yes",
          "Yes",
          "Yes",
          "Yes",
          "No",
          "Yes",
          "No",
          "No",
          "Yes",
          "No",
          "No",
          "No",
          "No",
          "No",
          "No",
          "Yes",
          "No",
          "No",
          "No",
          "Yes",
          "No",
          "No",
          "No",
          "No",
          "No",
          "No",
          "No",
          "No",
          "No",
          "Yes",
          "No",
          "No",
          "No",
          "Yes",
          "Yes",
          "No",
          "No",
          "Yes",
          "No",
          "No",
          "Yes",
          "No",
          "No",
          "Yes",
          "No",
          "No",
          "No",
          "No",
          "No",
          "Yes",
          "Yes",
          "No",
          "No",
          "No",
          "No",
          "Yes",
          "No",
          "No",
          "Yes",
          "No",
          "No",
          "Yes",
          "No",
          "No",
          "No",
          "No",
          "No",
          "Yes",
          "No",
          "No",
          "No",
          "Yes",
          "Yes",
          "No",
          "No",
          "No",
          "Yes",
          "No",
          "No",
          "No",
          "Yes",
          "No",
          "No",
          "No",
          "No",
          "No",
          "No",
          "No",
          "Yes",
          "Yes",
          "No",
          "No",
          "Yes",
          "Yes",
          "Yes",
          "No",
          "No",
          "Yes",
          "No",
          "Yes",
          "No",
          "Yes",
          "No",
          "Yes",
          "Yes",
          "No",
          "No",
          "Yes",
          "No",
          "Yes",
          "Yes",
          "No",
          "No",
          "No",
          "No",
          "No",
          "No",
          "Yes",
          "No",
          "Yes",
          "No",
          "Yes",
          "No",
          "No",
          "Yes",
          "No",
          "Yes",
          "No",
          "Yes",
          "No",
          "Yes",
          "Yes",
          "No",
          "No",
          "No",
          "Yes",
          "Yes",
          "No",
          "No",
          "Yes",
          "No",
          "Yes",
          "No",
          "No",
          "No",
          "No",
          "Yes",
          "No",
          "No",
          "No",
          "Yes",
          "No",
          "No",
          "No",
          "Yes",
          "Yes",
          "No",
          "Yes",
          "No",
          "No",
          "Yes",
          "No",
          "No",
          "Yes",
          "No",
          "No",
          "No",
          "No",
          "No",
          "Yes",
          "No",
          "Yes",
          "Yes",
          "No",
          "No"
         ],
         "x0": " ",
         "xaxis": "x",
         "y": [
          38,
          25,
          31.34,
          36,
          0,
          27,
          22.2,
          24,
          25,
          27,
          22.5,
          24,
          25,
          33,
          33,
          30,
          25,
          31,
          33,
          21,
          30,
          24,
          30,
          25,
          33,
          33.9,
          30,
          26,
          31,
          29,
          21,
          23,
          24.3,
          28,
          26,
          31,
          31,
          33,
          20,
          32.75,
          34,
          29,
          27,
          18,
          26.3,
          25,
          36,
          38,
          35,
          32,
          26.5,
          21,
          33,
          25,
          27.75,
          26,
          28,
          19.5,
          29.8,
          21,
          35,
          28,
          29,
          32.2,
          25,
          20,
          0,
          22,
          26,
          27.9,
          18,
          25,
          19,
          30.4,
          32,
          31,
          28,
          27,
          28.11,
          32.8,
          25,
          26.5,
          40,
          42,
          29,
          90,
          23,
          21,
          25,
          20,
          26.11,
          22.6,
          27,
          24,
          27,
          29.25,
          26,
          41,
          37,
          30,
          29,
          29,
          20,
          29,
          43,
          44.8,
          25,
          30,
          21,
          26,
          27,
          39.5,
          30.5,
          2,
          19,
          29,
          25,
          22,
          27,
          24,
          24,
          26,
          25,
          31.2,
          51,
          34.25,
          33,
          23.5,
          26,
          27,
          21,
          28,
          25,
          21.6,
          22,
          31.5,
          32,
          24,
          28,
          27,
          28,
          26,
          33,
          30,
          24.1,
          26,
          22,
          33,
          19,
          26,
          26,
          26,
          34,
          34,
          24,
          19.8,
          33,
          31,
          22,
          22,
          30.4,
          23,
          30.1,
          31.5,
          20,
          23,
          38,
          25,
          30,
          26,
          28,
          28,
          31.04,
          40,
          30,
          28,
          31,
          23,
          29,
          23,
          24,
          25.2,
          23,
          20,
          30,
          19,
          24,
          25,
          24,
          29,
          27,
          23,
          26.3,
          26.95,
          33,
          30,
          23,
          33,
          21,
          35,
          24.6,
          27,
          28,
          34.9,
          22,
          26,
          25,
          23,
          20,
          22.9,
          22,
          32,
          32,
          29,
          28,
          24,
          35,
          35.11,
          23,
          20,
          31,
          21,
          31,
          23.4,
          32,
          22,
          68,
          36.5,
          25,
          21,
          0,
          11,
          31,
          43,
          22,
          25,
          25,
          32,
          24,
          25,
          42,
          30,
          32,
          31,
          37,
          27.3,
          29,
          31,
          22,
          26,
          21,
          32,
          10.5,
          27.5,
          25,
          25,
          29,
          25,
          40.1,
          42,
          22,
          20,
          26,
          21,
          32.7,
          26,
          21,
          26.5,
          27,
          31,
          35,
          29,
          28,
          32,
          20,
          24,
          29,
          38,
          31,
          26.6,
          36,
          27,
          26,
          32,
          20,
          27,
          32,
          29,
          25,
          28,
          28,
          24,
          30,
          24,
          28,
          33,
          22.8,
          29
         ],
         "y0": " ",
         "yaxis": "y"
        },
        {
         "alignmentgroup": "True",
         "box": {
          "visible": true
         },
         "customdata": [
          [
           "Female",
           "Pakistan",
           "31-35",
           "Masters",
           "CS/IT",
           "to boost my skill set",
           "Employed",
           "O+",
           "U-fone",
           "Postpaid",
           "Apna Laptop",
           "No",
           "<3 years ago",
           "Python",
           "Yes",
           "Urbun",
           5,
           60,
           157,
           3,
           24
          ],
          [
           "Female",
           "Pakistan",
           "26-30",
           "Masters",
           "Enginnering",
           "to boost my skill set",
           "Student",
           "A-",
           "Mobilink",
           "Prepaid",
           "Apna Laptop",
           "Yes",
           "In this chilla",
           "Javascript",
           "Yes",
           "Rural",
           3.5,
           59.9,
           164.544,
           6,
           12
          ],
          [
           "Female",
           "West",
           "26-30",
           "Masters",
           "Others",
           "Switch my field of study",
           "Student",
           "A+",
           "International",
           "Prepaid",
           "Apna Laptop",
           "No",
           "<3 years ago",
           "Python",
           "Yes",
           "International",
           3,
           64.21,
           158.496,
           2,
           0
          ],
          [
           "Female",
           "West",
           "21-25",
           "Bachelors",
           "Biology",
           "Switch my field of study",
           "Student",
           "AB+",
           "International",
           "Prepaid",
           "Apna Laptop",
           "Yes",
           "In this chilla",
           "Python",
           "Yes",
           "International",
           2,
           69,
           174,
           3,
           0
          ],
          [
           "Female",
           "Pakistan",
           "26-30",
           "Masters",
           "Natural Sciences",
           "to boost my skill set",
           "Student",
           "B+",
           "Mobilink",
           "Prepaid",
           "Apna Laptop",
           "Yes",
           "In this chilla",
           "Python",
           "Yes",
           "Urbun",
           4,
           60,
           160,
           3,
           2
          ],
          [
           "Female",
           "Pakistan",
           "26-30",
           "Masters",
           "Enginnering",
           "to boost my skill set",
           "Unemplyed",
           "B+",
           "U-fone",
           "Prepaid",
           "Apna Laptop",
           "Yes",
           "<3 years ago",
           "Python",
           "Yes",
           "Urbun",
           1.5,
           47,
           163,
           2,
           0
          ],
          [
           "Female",
           "Pakistan",
           "26-30",
           "Masters",
           "Software Eng.",
           "to boost my skill set",
           "Employed",
           "O+",
           "Mobilink",
           "Prepaid",
           "Apna Laptop",
           "No",
           ">3 years ago",
           "Others",
           "Yes",
           "Urbun",
           7,
           50,
           170.18,
           4,
           4
          ],
          [
           "Female",
           "Pakistan",
           "26-30",
           "Bachelors",
           "CS/IT",
           "to boost my skill set",
           "Unemplyed",
           "B+",
           "Mobilink",
           "Prepaid",
           "Kisi ka laptop",
           "No",
           ">3 years ago",
           "C++",
           "Yes",
           "Urbun",
           3,
           50,
           5,
           1,
           5
          ],
          [
           "Female",
           "West",
           "31-35",
           "Masters",
           "Enginnering",
           "to boost my skill set",
           "Student",
           "B+",
           "International",
           "Prepaid",
           "Apna Laptop",
           "Yes",
           "<3 years ago",
           "Python",
           "Yes",
           "International",
           6,
           60,
           156,
           1,
           0
          ],
          [
           "Female",
           "Pakistan",
           "26-30",
           "PhD",
           "CS/IT",
           "to boost my skill set",
           "Employed",
           "B+",
           "U-fone",
           "Prepaid",
           "Apna Laptop",
           "No",
           "<3 years ago",
           "Python",
           "Yes",
           "Urbun",
           4,
           80,
           5.7,
           2,
           16
          ],
          [
           "Female",
           "Pakistan",
           "31-35",
           "Masters",
           "Others",
           "Switch my field of study",
           "Employed",
           "B+",
           "Telenor",
           "Prepaid",
           "Apna Laptop",
           "No",
           ">3 years ago",
           "Python",
           "Yes",
           "Urbun",
           7.5,
           98,
           157.48,
           1,
           1
          ],
          [
           "Female",
           "Pakistan",
           "36-40",
           "Bachelors",
           "CS/IT",
           "to boost my skill set",
           "Unemplyed",
           "O+",
           "U-fone",
           "Postpaid",
           "Apna Laptop",
           "Yes",
           ">3 years ago",
           "Python",
           "Yes",
           "Urbun",
           0,
           71,
           160,
           1,
           0
          ],
          [
           "Female",
           "Pakistan",
           "21-25",
           "Bachelors",
           "Enginnering",
           "to boost my skill set",
           "Unemplyed",
           "O+",
           "U-fone",
           "Prepaid",
           "Apna Laptop",
           "Yes",
           ">3 years ago",
           "C++",
           "Yes",
           "Urbun",
           0,
           57.5,
           162.8,
           8,
           4
          ],
          [
           "Female",
           "Pakistan",
           "21-25",
           "Masters",
           "Software Eng.",
           "to boost my skill set",
           "Student",
           "A-",
           "U-fone",
           "Prepaid",
           "Apna Laptop",
           "Yes",
           ">3 years ago",
           "Javascript",
           "Yes",
           "Rural",
           1,
           63.4,
           5.5,
           3,
           6
          ],
          [
           "Female",
           "Pakistan",
           "21-25",
           "Bachelors",
           "Enginnering",
           "to boost my skill set",
           "Unemplyed",
           "AB+",
           "U-fone",
           "Prepaid",
           "Apna Laptop",
           "No",
           "In this chilla",
           "Python",
           "Yes",
           "Urbun",
           1,
           43,
           152.4,
           3,
           8
          ],
          [
           "Female",
           "Pakistan",
           "21-25",
           "Bachelors",
           "Natural Sciences",
           "to boost my skill set",
           "Student",
           "O+",
           "Mobilink",
           "Prepaid",
           "Apna Laptop",
           "Yes",
           "In this chilla",
           "Python",
           "Yes",
           "Urbun",
           0,
           39.5,
           155.8,
           5,
           3
          ],
          [
           "Female",
           "Pakistan",
           "21-25",
           "Masters",
           "Biology",
           "to boost my skill set",
           "Student",
           "AB+",
           "Mobilink",
           "Prepaid",
           "Apna Laptop",
           "Yes",
           "In this chilla",
           "Python",
           "Yes",
           "Urbun",
           1.5,
           42.6,
           40.3,
           5,
           5
          ],
          [
           "Female",
           "Pakistan",
           "41-45",
           "Masters",
           "Enginnering",
           "to boost my skill set",
           "Employed",
           "B+",
           "Mobilink",
           "Prepaid",
           "Apna Laptop",
           "Yes",
           ">3 years ago",
           "C++",
           "Yes",
           "Rural",
           4,
           70,
           1615,
           1,
           4
          ],
          [
           "Female",
           "Pakistan",
           "21-25",
           "Bachelors",
           "Enginnering",
           "to boost my skill set",
           "Employed",
           "O+",
           "Mobilink",
           "Prepaid",
           "Apna Laptop",
           "Yes",
           "In this chilla",
           "Python",
           "Yes",
           "Urbun",
           3,
           48,
           152.4,
           4,
           12
          ],
          [
           "Female",
           "Pakistan",
           "26-30",
           "Masters",
           "Enginnering",
           "to boost my skill set",
           "Unemplyed",
           "B+",
           "Telenor",
           "Prepaid",
           "Apna Laptop",
           "Yes",
           "In this chilla",
           "Javascript",
           "Yes",
           "Rural",
           1,
           55,
           154,
           3,
           5
          ],
          [
           "Female",
           "Pakistan",
           "26-30",
           "Masters",
           "Others",
           "Switch my field of study",
           "Student",
           "B+",
           "Telenor",
           "Prepaid",
           "Apna Laptop",
           "No",
           "In this chilla",
           "Python",
           "Yes",
           "Rural",
           0,
           56,
           5.4,
           3,
           4
          ],
          [
           "Female",
           "Pakistan",
           "21-25",
           "Bachelors",
           "Software Eng.",
           "to boost my skill set",
           "Unemplyed",
           "AB+",
           "Telenor",
           "Prepaid",
           "Apna Laptop",
           "No",
           ">3 years ago",
           "Python",
           "Yes",
           "Rural",
           0,
           41.2,
           12.446,
           2,
           2
          ],
          [
           "Female",
           "East",
           "26-30",
           "Masters",
           "Business/Economics",
           "Switch my field of study",
           "Student",
           "B-",
           "International",
           "Prepaid",
           "Apna Laptop",
           "Yes",
           "In this chilla",
           "Python",
           "Yes",
           "International",
           2.3,
           56.9,
           165,
           4,
           0
          ],
          [
           "Female",
           "Pakistan",
           "26-30",
           "Masters",
           "Biology",
           "to boost my skill set",
           "Student",
           "AB+",
           "Mobilink",
           "Prepaid",
           "Apna Laptop",
           "Yes",
           "In this chilla",
           "Python",
           "Yes",
           "Urbun",
           5.9,
           56.5,
           170.688,
           4,
           0
          ],
          [
           "Female",
           "Pakistan",
           "26-30",
           "Masters",
           "Mathematics",
           "to boost my skill set",
           "Student",
           "A+",
           "Telenor",
           "Prepaid",
           "Apna Laptop",
           "No",
           "<3 years ago",
           "Python",
           "Yes",
           "Urbun",
           2,
           50.2,
           173.7,
           1,
           0
          ],
          [
           "Female",
           "Pakistan",
           "26-30",
           "Masters",
           "Enginnering",
           "Switch my field of study",
           "Employed",
           "AB+",
           "U-fone",
           "Prepaid",
           "Apna Laptop",
           "Yes",
           "<3 years ago",
           "Python",
           "Yes",
           "Urbun",
           5,
           46,
           162.56,
           2,
           2
          ],
          [
           "Female",
           "West",
           "26-30",
           "Masters",
           "Others",
           "Switch my field of study",
           "Unemplyed",
           "A+",
           "Zong",
           "Prepaid",
           "Kisi ka laptop",
           "No",
           "In this chilla",
           "Others",
           "Yes",
           "International",
           0,
           57,
           160,
           4,
           0
          ],
          [
           "Female",
           "Pakistan",
           "31-35",
           "PhD",
           "Biology",
           "to boost my skill set",
           "Unemplyed",
           "B+",
           "U-fone",
           "Prepaid",
           "Apna Laptop",
           "No",
           "In this chilla",
           "Python",
           "Yes",
           "Urbun",
           0.5,
           65.5,
           167.64,
           4,
           3
          ],
          [
           "Female",
           "Pakistan",
           "21-25",
           "Bachelors",
           "Natural Sciences",
           "to boost my skill set",
           "Unemplyed",
           "A+",
           "Telenor",
           "Prepaid",
           "Apna Laptop",
           "No",
           "In this chilla",
           "Python",
           "No",
           "Urbun",
           0,
           62,
           173.736,
           8,
           6
          ],
          [
           "Female",
           "Pakistan",
           "21-25",
           "Bachelors",
           "Biology",
           "Switch my field of study",
           "Student",
           "A+",
           "Zong",
           "Prepaid",
           "Apna Laptop",
           "Yes",
           "In this chilla",
           "Python",
           "Yes",
           "Urbun",
           2,
           43,
           154.6,
           4,
           3
          ],
          [
           "Female",
           "Pakistan",
           "26-30",
           "Bachelors",
           "Software Eng.",
           "to boost my skill set",
           "Student",
           "B+",
           "Zong",
           "Prepaid",
           "Apna Laptop",
           "Yes",
           ">3 years ago",
           "Python",
           "Yes",
           "Urbun",
           2.5,
           60.5,
           167.64,
           3,
           6
          ],
          [
           "Female",
           "Pakistan",
           "21-25",
           "Masters",
           "Biology",
           "to boost my skill set",
           "Student",
           "A-",
           "Telenor",
           "Prepaid",
           "Desktop",
           "No",
           "In this chilla",
           "Python",
           "No",
           "Urbun",
           1,
           48.2,
           167.6,
           5,
           5
          ],
          [
           "Female",
           "Pakistan",
           "21-25",
           "Bachelors",
           "Software Eng.",
           "Switch my field of study",
           "Unemplyed",
           "B+",
           "Zong",
           "Prepaid",
           "Apna Laptop",
           "Yes",
           ">3 years ago",
           "Python",
           "Yes",
           "Urbun",
           0,
           47.5,
           150.2,
           2,
           0
          ],
          [
           "Female",
           "Pakistan",
           "21-25",
           "Bachelors",
           "CS/IT",
           "to boost my skill set",
           "Student",
           "AB+",
           "Telenor",
           "Postpaid",
           "Apna Laptop",
           "Yes",
           "<3 years ago",
           "Python",
           "Yes",
           "Rural",
           0,
           55,
           170.18,
           3,
           1
          ],
          [
           "Female",
           "Pakistan",
           "21-25",
           "Bachelors",
           "Enginnering",
           "to boost my skill set",
           "Student",
           "A+",
           "Mobilink",
           "Prepaid",
           "Apna Laptop",
           "No",
           "In this chilla",
           "Python",
           "Yes",
           "Rural",
           0,
           50,
           48,
           1,
           8
          ],
          [
           "Female",
           "Pakistan",
           "31-35",
           "Masters",
           "Natural Sciences",
           "to boost my skill set",
           "Unemplyed",
           "B+",
           "U-fone",
           "Postpaid",
           "Apna Laptop",
           "Yes",
           "In this chilla",
           "Python",
           "Yes",
           "Urbun",
           1,
           45,
           58,
           5,
           5
          ],
          [
           "Female",
           "Pakistan",
           "21-25",
           "Bachelors",
           "Natural Sciences",
           "to boost my skill set",
           "Student",
           "A+",
           "Zong",
           "Prepaid",
           "Apna Laptop",
           "No",
           "In this chilla",
           "Python",
           "Yes",
           "Urbun",
           0,
           58.5,
           154.5,
           4,
           0
          ],
          [
           "Female",
           "East",
           "26-30",
           "Bachelors",
           "Software Eng.",
           "to boost my skill set",
           "Unemplyed",
           "O+",
           "International",
           "Prepaid",
           "Apna Laptop",
           "No",
           ">3 years ago",
           "Others",
           "Yes",
           "International",
           2,
           70,
           5,
           3,
           8
          ],
          [
           "Female",
           "Pakistan",
           "26-30",
           "Masters",
           "Software Eng.",
           "to boost my skill set",
           "Unemplyed",
           "A+",
           "Zong",
           "Prepaid",
           "Apna Laptop",
           "No",
           ">3 years ago",
           "Python",
           "Yes",
           "Rural",
           2,
           68.5,
           164.5,
           4,
           1
          ],
          [
           "Female",
           "Pakistan",
           "21-25",
           "Bachelors",
           "CS/IT",
           "to boost my skill set",
           "Student",
           "B+",
           "Zong",
           "Prepaid",
           "Apna Laptop",
           "Yes",
           "In this chilla",
           "Python",
           "Yes",
           "Urbun",
           0,
           57,
           5.6,
           4,
           1
          ],
          [
           "Female",
           "Pakistan",
           "26-30",
           "Masters",
           "Natural Sciences",
           "to boost my skill set",
           "Student",
           "AB+",
           "Zong",
           "Prepaid",
           "Apna Laptop",
           "Yes",
           "In this chilla",
           "Python",
           "Yes",
           "Urbun",
           6,
           65,
           168,
           3,
           5
          ],
          [
           "Female",
           "Pakistan",
           "26-30",
           "Masters",
           "Business/Economics",
           "to boost my skill set",
           "Employed",
           "AB+",
           "Zong",
           "Prepaid",
           "Apna Laptop",
           "No",
           "In this chilla",
           "Python",
           "Yes",
           "Urbun",
           4,
           46.5,
           170.18,
           2,
           2
          ],
          [
           "Female",
           "Pakistan",
           "21-25",
           "Bachelors",
           "CS/IT",
           "to boost my skill set",
           "Unemplyed",
           "AB+",
           "Zong",
           "Prepaid",
           "Apna Laptop",
           "No",
           ">3 years ago",
           "Python",
           "Yes",
           "Urbun",
           1,
           50,
           1524,
           4,
           6
          ],
          [
           "Female",
           "West",
           "15-Jan",
           "Pre-Bachelors",
           "Others",
           "to boost my skill set",
           "Student",
           "B+",
           "International",
           "Postpaid",
           "Apna Laptop",
           "No",
           "In this chilla",
           "Python",
           "Yes",
           "International",
           0,
           30.5,
           150.05,
           10,
           0
          ],
          [
           "Female",
           "Pakistan",
           "31-35",
           "Masters",
           "Biology",
           "to boost my skill set",
           "Unemplyed",
           "O+",
           "U-fone",
           "Prepaid",
           "Apna Laptop",
           "No",
           "<3 years ago",
           "Python",
           "Yes",
           "Urbun",
           1,
           40,
           158,
           6,
           0
          ],
          [
           "Female",
           "Pakistan",
           "31-35",
           "Masters",
           "CS/IT",
           "to boost my skill set",
           "Employed",
           "B+",
           "Mobilink",
           "Prepaid",
           "Kisi ka laptop",
           "No",
           ">3 years ago",
           "Python",
           "Yes",
           "Urbun",
           13,
           76.6,
           13.97,
           3,
           1
          ],
          [
           "Female",
           "Pakistan",
           "21-25",
           "Pre-Bachelors",
           "Others",
           "to boost my skill set",
           "Student",
           "O+",
           "Mobilink",
           "Prepaid",
           "Apna Laptop",
           "No",
           "In this chilla",
           "Python",
           "Yes",
           "Urbun",
           0,
           48,
           152,
           5,
           60
          ],
          [
           "Female",
           "Pakistan",
           "21-25",
           "Bachelors",
           "CS/IT",
           "Abhi tak pata nahi",
           "Unemplyed",
           "B+",
           "U-fone",
           "Prepaid",
           "Apna Laptop",
           "Yes",
           ">3 years ago",
           "Python",
           "No",
           "Urbun",
           0,
           42,
           5.6,
           1,
           0
          ],
          [
           "Female",
           "Pakistan",
           "46-60",
           "Masters",
           "Others",
           "Awen",
           "Employed",
           "B+",
           "U-fone",
           "Prepaid",
           "Apna Laptop",
           "Yes",
           "In this chilla",
           "Python",
           "Yes",
           "Rural",
           10.1,
           90,
           158,
           5,
           1
          ],
          [
           "Female",
           "Pakistan",
           "26-30",
           "Masters",
           "Enginnering",
           "to boost my skill set",
           "Employed",
           "A+",
           "Zong",
           "Prepaid",
           "Apna Laptop",
           "Yes",
           "<3 years ago",
           "Python",
           "Yes",
           "Urbun",
           5.1,
           54.5,
           164.5,
           4,
           1
          ],
          [
           "Female",
           "Pakistan",
           "21-25",
           "Pre-Bachelors",
           "Others",
           "to boost my skill set",
           "Student",
           "AB+",
           "Zong",
           "Prepaid",
           "Apna Laptop",
           "Yes",
           "In this chilla",
           "Python",
           "Yes",
           "Urbun",
           0,
           48,
           170.18,
           1,
           0
          ],
          [
           "Female",
           "West",
           "16-20",
           "Pre-Bachelors",
           "CS/IT",
           "to boost my skill set",
           "Student",
           "B+",
           "International",
           "Prepaid",
           "Apna Laptop",
           "Yes",
           "I don't know how to code",
           "Python",
           "Yes",
           "International",
           0,
           60,
           1178,
           11,
           0
          ],
          [
           "Female",
           "West",
           "26-30",
           "Masters",
           "Enginnering",
           "to boost my skill set",
           "Employed",
           "AB+",
           "International",
           "Prepaid",
           "Apna Laptop",
           "No",
           ">3 years ago",
           "Javascript",
           "Yes",
           "International",
           3,
           65,
           165.1,
           3,
           0
          ],
          [
           "Female",
           "Pakistan",
           "21-25",
           "Bachelors",
           "CS/IT",
           "to boost my skill set",
           "Unemplyed",
           "A+",
           "U-fone",
           "Postpaid",
           "Apna Laptop",
           "No",
           "<3 years ago",
           "Others",
           "Yes",
           "Urbun",
           0,
           46,
           160.02,
           2,
           8
          ],
          [
           "Female",
           "Pakistan",
           "26-30",
           "PhD",
           "Natural Sciences",
           "to boost my skill set",
           "Employed",
           "B+",
           "U-fone",
           "Prepaid",
           "Apna Laptop",
           "No",
           "In this chilla",
           "Python",
           "Yes",
           "Urbun",
           1.5,
           54,
           161.5,
           3,
           0
          ],
          [
           "Female",
           "Pakistan",
           "21-25",
           "Pre-Bachelors",
           "CS/IT",
           "to boost my skill set",
           "Student",
           "A+",
           "Mobilink",
           "Prepaid",
           "Kisi ka laptop",
           "No",
           "In this chilla",
           "Python",
           "Yes",
           "Urbun",
           0,
           92.4,
           164.592,
           3,
           2
          ],
          [
           "Female",
           "Pakistan",
           "31-35",
           "Masters",
           "Biology",
           "to boost my skill set",
           "Student",
           "A+",
           "Telenor",
           "Prepaid",
           "Apna Laptop",
           "No",
           ">3 years ago",
           "Python",
           "Yes",
           "Urbun",
           4,
           46.9,
           158.496,
           17,
           2
          ],
          [
           "Female",
           "Pakistan",
           "26-30",
           "Masters",
           "Mathematics",
           "to boost my skill set",
           "Student",
           "A+",
           "Telenor",
           "Prepaid",
           "Apna Laptop",
           "No",
           "<3 years ago",
           "Python",
           "Yes",
           "Urbun",
           2,
           50.2,
           173.7,
           2,
           0
          ],
          [
           "Female",
           "Pakistan",
           "26-30",
           "Masters",
           "Statistics",
           "to boost my skill set",
           "Student",
           "O+",
           "Zong",
           "Prepaid",
           "Desktop",
           "No",
           "In this chilla",
           "Python",
           "Yes",
           "Rural",
           2,
           45,
           170.68,
           2,
           3
          ],
          [
           "Female",
           "Pakistan",
           "31-35",
           "Masters",
           "Business/Economics",
           "to boost my skill set",
           "Student",
           "B+",
           "Mobilink",
           "Prepaid",
           "Apna Laptop",
           "Yes",
           "In this chilla",
           "Python",
           "Yes",
           "Urbun",
           1,
           48,
           1.72,
           3,
           6
          ],
          [
           "Female",
           "West",
           "21-25",
           "Bachelors",
           "Natural Sciences",
           "Switch my field of study",
           "Student",
           "O+",
           "International",
           "Prepaid",
           "Apna Laptop",
           "No",
           "In this chilla",
           "Python",
           "Yes",
           "International",
           0,
           55,
           170.18,
           4,
           0
          ],
          [
           "Female",
           "Pakistan",
           "31-35",
           "Bachelors",
           "CS/IT",
           "to boost my skill set",
           "Unemplyed",
           "A+",
           "Zong",
           "Prepaid",
           "Apna Laptop",
           "No",
           ">3 years ago",
           "Python",
           "No",
           "Urbun",
           5,
           54.5,
           1645.92,
           5,
           2
          ],
          [
           "Female",
           "Pakistan",
           "26-30",
           "Masters",
           "Business/Economics",
           "Abhi tak pata nahi",
           "Employed",
           "A+",
           "Mobilink",
           "Prepaid",
           "Apna Laptop",
           "No",
           "I don't know how to code",
           "Python",
           "Yes",
           "Rural",
           1,
           72,
           161.2,
           2,
           5
          ],
          [
           "Female",
           "Pakistan",
           "26-30",
           "Masters",
           "CS/IT",
           "to boost my skill set",
           "Unemplyed",
           "O+",
           "Zong",
           "Prepaid",
           "Apna Laptop",
           "No",
           ">3 years ago",
           "Python",
           "Yes",
           "Urbun",
           1,
           58,
           167.64,
           4,
           2
          ],
          [
           "Female",
           "Pakistan",
           "26-30",
           "Masters",
           "Biology",
           "to boost my skill set",
           "Unemplyed",
           "O+",
           "Mobilink",
           "Prepaid",
           "Apna Laptop",
           "No",
           "In this chilla",
           "Python",
           "Yes",
           "Urbun",
           3,
           88.8,
           162.56,
           4,
           2
          ],
          [
           "Female",
           "Pakistan",
           "26-30",
           "Bachelors",
           "CS/IT",
           "to boost my skill set",
           "Unemplyed",
           "B+",
           "U-fone",
           "Prepaid",
           "Apna Laptop",
           "No",
           ">3 years ago",
           "Others",
           "Yes",
           "Urbun",
           6,
           46,
           1.6,
           6,
           8
          ],
          [
           "Female",
           "Pakistan",
           "26-30",
           "Masters",
           "Natural Sciences",
           "to boost my skill set",
           "Unemplyed",
           "O-",
           "U-fone",
           "Postpaid",
           "Apna Laptop",
           "No",
           "In this chilla",
           "Python",
           "Yes",
           "Urbun",
           0,
           45.5,
           170.18,
           4,
           0
          ],
          [
           "Female",
           "Pakistan",
           "26-30",
           "Masters",
           "Natural Sciences",
           "to boost my skill set",
           "Student",
           "O-",
           "U-fone",
           "Prepaid",
           "Apna Laptop",
           "Yes",
           "<3 years ago",
           "Python",
           "Yes",
           "Urbun",
           2.5,
           58,
           162.56,
           7,
           2
          ],
          [
           "Female",
           "West",
           "31-35",
           "PhD",
           "CS/IT",
           "to boost my skill set",
           "Unemplyed",
           "B+",
           "International",
           "Prepaid",
           "Apna Laptop",
           "Yes",
           "In this chilla",
           "Python",
           "Yes",
           "International",
           4.5,
           65,
           160,
           3,
           6
          ],
          [
           "Female",
           "Pakistan",
           "21-25",
           "Pre-Bachelors",
           "Business/Economics",
           "Switch my field of study",
           "Student",
           "B+",
           "Zong",
           "Prepaid",
           "Apna Laptop",
           "Yes",
           "In this chilla",
           "Python",
           "Yes",
           "Urbun",
           0,
           64,
           160,
           3,
           0
          ],
          [
           "Female",
           "Pakistan",
           "31-35",
           "Masters",
           "Business/Economics",
           "to boost my skill set",
           "Unemplyed",
           "O+",
           "U-fone",
           "Prepaid",
           "Apna Laptop",
           "Yes",
           "In this chilla",
           "Python",
           "Yes",
           "Urbun",
           0,
           80.2,
           158.496,
           1,
           2
          ],
          [
           "Female",
           "Pakistan",
           "16-20",
           "Pre-Bachelors",
           "Business/Economics",
           "to boost my skill set",
           "Student",
           "A+",
           "Zong",
           "Prepaid",
           "Kisi ka laptop",
           "No",
           "In this chilla",
           "Python",
           "Yes",
           "Rural",
           0,
           60,
           158,
           3,
           12
          ],
          [
           "Female",
           "Pakistan",
           "26-30",
           "Bachelors",
           "Business/Economics",
           "to boost my skill set",
           "Unemplyed",
           "B+",
           "Zong",
           "Prepaid",
           "Kisi ka laptop",
           "Yes",
           "In this chilla",
           "Python",
           "Yes",
           "Rural",
           1.3,
           55.5,
           13.462,
           3,
           4
          ],
          [
           "Female",
           "Pakistan",
           "21-25",
           "Bachelors",
           "CS/IT",
           "to boost my skill set",
           "Unemplyed",
           "A+",
           "Mobilink",
           "Prepaid",
           "Apna Laptop",
           "No",
           ">3 years ago",
           "C++",
           "Yes",
           "Urbun",
           0,
           50,
           5.2,
           4,
           3
          ],
          [
           "Female",
           "East",
           "26-30",
           "Bachelors",
           "Software Eng.",
           "to boost my skill set",
           "Unemplyed",
           "O+",
           "International",
           "Prepaid",
           "Apna Laptop",
           "Yes",
           ">3 years ago",
           "Javascript",
           "Yes",
           "International",
           2,
           82,
           5,
           2,
           7
          ],
          [
           "Female",
           "Pakistan",
           "21-25",
           "Masters",
           "Others",
           "Switch my field of study",
           "Unemplyed",
           "B+",
           "U-fone",
           "Prepaid",
           "Kisi ka laptop",
           "No",
           "In this chilla",
           "Python",
           "Yes",
           "Urbun",
           0,
           48,
           160,
           3,
           6
          ],
          [
           "Female",
           "Pakistan",
           "31-35",
           "Masters",
           "Mathematics",
           "Switch my field of study",
           "Unemplyed",
           "B+",
           "Telenor",
           "Prepaid",
           "Apna Laptop",
           "Yes",
           "In this chilla",
           "Python",
           "Yes",
           "Urbun",
           3,
           54.5,
           161.544,
           3,
           0
          ]
         ],
         "hovertemplate": "Gender=%{customdata[0]}<br>Marital Status?=%{x}<br>Age=%{y}<br>Location=%{customdata[1]}<br>Age_range=%{customdata[2]}<br>Qualification=%{customdata[3]}<br>field_of_study=%{customdata[4]}<br>Purpose_for_chilla=%{customdata[5]}<br>Work_status=%{customdata[6]}<br>Blood_group =%{customdata[7]}<br>Mobile_sim=%{customdata[8]}<br>Sim_type=%{customdata[9]}<br>PC_status=%{customdata[10]}<br>Glasses_wear=%{customdata[11]}<br>When did you write your first line of code?=%{customdata[12]}<br>Your favorite programming language?=%{customdata[13]}<br>Are you Vaccinated?=%{customdata[14]}<br>Where do you live?=%{customdata[15]}<br>Working experience=%{customdata[16]}<br>Weight_in_kg=%{customdata[17]}<br>Height_in_cm=%{customdata[18]}<br>How many hours you code a day? (int) =%{customdata[19]}<br>Light kitni der band hti hy? int=%{customdata[20]}<extra></extra>",
         "legendgroup": "Female",
         "marker": {
          "color": "#EF553B"
         },
         "name": "Female",
         "offsetgroup": "Female",
         "orientation": "v",
         "points": "all",
         "scalegroup": "True",
         "showlegend": true,
         "type": "violin",
         "x": [
          "Yes",
          "No",
          "No",
          "No",
          "No",
          "No",
          "No",
          "Yes",
          "Yes",
          "Yes",
          "No",
          "Yes",
          "No",
          "No",
          "No",
          "No",
          "No",
          "Yes",
          "No",
          "No",
          "No",
          "No",
          "No",
          "No",
          "No",
          "No",
          "Yes",
          "No",
          "No",
          "No",
          "No",
          "No",
          "No",
          "No",
          "No",
          "No",
          "No",
          "Yes",
          "No",
          "No",
          "Yes",
          "No",
          "No",
          "No",
          "Yes",
          "Yes",
          "No",
          "No",
          "Yes",
          "No",
          "No",
          "No",
          "No",
          "No",
          "No",
          "No",
          "No",
          "No",
          "No",
          "No",
          "No",
          "No",
          "No",
          "No",
          "Yes",
          "No",
          "No",
          "No",
          "Yes",
          "Yes",
          "Yes",
          "No",
          "No",
          "No",
          "Yes",
          "No",
          "Yes"
         ],
         "x0": " ",
         "xaxis": "x",
         "y": [
          33,
          27,
          28,
          25,
          27.9,
          26,
          28,
          28,
          32,
          30,
          33,
          39,
          23.99,
          24.6,
          24,
          22,
          24,
          43,
          24,
          26,
          27.5,
          23,
          30,
          29,
          29,
          28,
          27,
          31.8,
          23,
          25,
          28.1,
          25,
          25,
          22,
          20,
          29,
          21,
          29,
          26,
          25,
          29,
          27.5,
          23,
          14.2,
          30.5,
          31,
          22,
          25,
          46.4,
          30,
          21,
          16,
          28,
          25,
          29,
          21,
          35,
          29,
          26,
          34,
          24,
          32,
          26.5,
          27,
          26,
          28,
          26,
          26,
          37,
          22,
          33,
          19,
          30,
          23,
          29,
          22,
          31
         ],
         "y0": " ",
         "yaxis": "y"
        }
       ],
       "layout": {
        "legend": {
         "title": {
          "text": "Gender"
         },
         "tracegroupgap": 0
        },
        "margin": {
         "t": 60
        },
        "template": {
         "data": {
          "bar": [
           {
            "error_x": {
             "color": "#2a3f5f"
            },
            "error_y": {
             "color": "#2a3f5f"
            },
            "marker": {
             "line": {
              "color": "#E5ECF6",
              "width": 0.5
             },
             "pattern": {
              "fillmode": "overlay",
              "size": 10,
              "solidity": 0.2
             }
            },
            "type": "bar"
           }
          ],
          "barpolar": [
           {
            "marker": {
             "line": {
              "color": "#E5ECF6",
              "width": 0.5
             },
             "pattern": {
              "fillmode": "overlay",
              "size": 10,
              "solidity": 0.2
             }
            },
            "type": "barpolar"
           }
          ],
          "carpet": [
           {
            "aaxis": {
             "endlinecolor": "#2a3f5f",
             "gridcolor": "white",
             "linecolor": "white",
             "minorgridcolor": "white",
             "startlinecolor": "#2a3f5f"
            },
            "baxis": {
             "endlinecolor": "#2a3f5f",
             "gridcolor": "white",
             "linecolor": "white",
             "minorgridcolor": "white",
             "startlinecolor": "#2a3f5f"
            },
            "type": "carpet"
           }
          ],
          "choropleth": [
           {
            "colorbar": {
             "outlinewidth": 0,
             "ticks": ""
            },
            "type": "choropleth"
           }
          ],
          "contour": [
           {
            "colorbar": {
             "outlinewidth": 0,
             "ticks": ""
            },
            "colorscale": [
             [
              0,
              "#0d0887"
             ],
             [
              0.1111111111111111,
              "#46039f"
             ],
             [
              0.2222222222222222,
              "#7201a8"
             ],
             [
              0.3333333333333333,
              "#9c179e"
             ],
             [
              0.4444444444444444,
              "#bd3786"
             ],
             [
              0.5555555555555556,
              "#d8576b"
             ],
             [
              0.6666666666666666,
              "#ed7953"
             ],
             [
              0.7777777777777778,
              "#fb9f3a"
             ],
             [
              0.8888888888888888,
              "#fdca26"
             ],
             [
              1,
              "#f0f921"
             ]
            ],
            "type": "contour"
           }
          ],
          "contourcarpet": [
           {
            "colorbar": {
             "outlinewidth": 0,
             "ticks": ""
            },
            "type": "contourcarpet"
           }
          ],
          "heatmap": [
           {
            "colorbar": {
             "outlinewidth": 0,
             "ticks": ""
            },
            "colorscale": [
             [
              0,
              "#0d0887"
             ],
             [
              0.1111111111111111,
              "#46039f"
             ],
             [
              0.2222222222222222,
              "#7201a8"
             ],
             [
              0.3333333333333333,
              "#9c179e"
             ],
             [
              0.4444444444444444,
              "#bd3786"
             ],
             [
              0.5555555555555556,
              "#d8576b"
             ],
             [
              0.6666666666666666,
              "#ed7953"
             ],
             [
              0.7777777777777778,
              "#fb9f3a"
             ],
             [
              0.8888888888888888,
              "#fdca26"
             ],
             [
              1,
              "#f0f921"
             ]
            ],
            "type": "heatmap"
           }
          ],
          "heatmapgl": [
           {
            "colorbar": {
             "outlinewidth": 0,
             "ticks": ""
            },
            "colorscale": [
             [
              0,
              "#0d0887"
             ],
             [
              0.1111111111111111,
              "#46039f"
             ],
             [
              0.2222222222222222,
              "#7201a8"
             ],
             [
              0.3333333333333333,
              "#9c179e"
             ],
             [
              0.4444444444444444,
              "#bd3786"
             ],
             [
              0.5555555555555556,
              "#d8576b"
             ],
             [
              0.6666666666666666,
              "#ed7953"
             ],
             [
              0.7777777777777778,
              "#fb9f3a"
             ],
             [
              0.8888888888888888,
              "#fdca26"
             ],
             [
              1,
              "#f0f921"
             ]
            ],
            "type": "heatmapgl"
           }
          ],
          "histogram": [
           {
            "marker": {
             "pattern": {
              "fillmode": "overlay",
              "size": 10,
              "solidity": 0.2
             }
            },
            "type": "histogram"
           }
          ],
          "histogram2d": [
           {
            "colorbar": {
             "outlinewidth": 0,
             "ticks": ""
            },
            "colorscale": [
             [
              0,
              "#0d0887"
             ],
             [
              0.1111111111111111,
              "#46039f"
             ],
             [
              0.2222222222222222,
              "#7201a8"
             ],
             [
              0.3333333333333333,
              "#9c179e"
             ],
             [
              0.4444444444444444,
              "#bd3786"
             ],
             [
              0.5555555555555556,
              "#d8576b"
             ],
             [
              0.6666666666666666,
              "#ed7953"
             ],
             [
              0.7777777777777778,
              "#fb9f3a"
             ],
             [
              0.8888888888888888,
              "#fdca26"
             ],
             [
              1,
              "#f0f921"
             ]
            ],
            "type": "histogram2d"
           }
          ],
          "histogram2dcontour": [
           {
            "colorbar": {
             "outlinewidth": 0,
             "ticks": ""
            },
            "colorscale": [
             [
              0,
              "#0d0887"
             ],
             [
              0.1111111111111111,
              "#46039f"
             ],
             [
              0.2222222222222222,
              "#7201a8"
             ],
             [
              0.3333333333333333,
              "#9c179e"
             ],
             [
              0.4444444444444444,
              "#bd3786"
             ],
             [
              0.5555555555555556,
              "#d8576b"
             ],
             [
              0.6666666666666666,
              "#ed7953"
             ],
             [
              0.7777777777777778,
              "#fb9f3a"
             ],
             [
              0.8888888888888888,
              "#fdca26"
             ],
             [
              1,
              "#f0f921"
             ]
            ],
            "type": "histogram2dcontour"
           }
          ],
          "mesh3d": [
           {
            "colorbar": {
             "outlinewidth": 0,
             "ticks": ""
            },
            "type": "mesh3d"
           }
          ],
          "parcoords": [
           {
            "line": {
             "colorbar": {
              "outlinewidth": 0,
              "ticks": ""
             }
            },
            "type": "parcoords"
           }
          ],
          "pie": [
           {
            "automargin": true,
            "type": "pie"
           }
          ],
          "scatter": [
           {
            "marker": {
             "colorbar": {
              "outlinewidth": 0,
              "ticks": ""
             }
            },
            "type": "scatter"
           }
          ],
          "scatter3d": [
           {
            "line": {
             "colorbar": {
              "outlinewidth": 0,
              "ticks": ""
             }
            },
            "marker": {
             "colorbar": {
              "outlinewidth": 0,
              "ticks": ""
             }
            },
            "type": "scatter3d"
           }
          ],
          "scattercarpet": [
           {
            "marker": {
             "colorbar": {
              "outlinewidth": 0,
              "ticks": ""
             }
            },
            "type": "scattercarpet"
           }
          ],
          "scattergeo": [
           {
            "marker": {
             "colorbar": {
              "outlinewidth": 0,
              "ticks": ""
             }
            },
            "type": "scattergeo"
           }
          ],
          "scattergl": [
           {
            "marker": {
             "colorbar": {
              "outlinewidth": 0,
              "ticks": ""
             }
            },
            "type": "scattergl"
           }
          ],
          "scattermapbox": [
           {
            "marker": {
             "colorbar": {
              "outlinewidth": 0,
              "ticks": ""
             }
            },
            "type": "scattermapbox"
           }
          ],
          "scatterpolar": [
           {
            "marker": {
             "colorbar": {
              "outlinewidth": 0,
              "ticks": ""
             }
            },
            "type": "scatterpolar"
           }
          ],
          "scatterpolargl": [
           {
            "marker": {
             "colorbar": {
              "outlinewidth": 0,
              "ticks": ""
             }
            },
            "type": "scatterpolargl"
           }
          ],
          "scatterternary": [
           {
            "marker": {
             "colorbar": {
              "outlinewidth": 0,
              "ticks": ""
             }
            },
            "type": "scatterternary"
           }
          ],
          "surface": [
           {
            "colorbar": {
             "outlinewidth": 0,
             "ticks": ""
            },
            "colorscale": [
             [
              0,
              "#0d0887"
             ],
             [
              0.1111111111111111,
              "#46039f"
             ],
             [
              0.2222222222222222,
              "#7201a8"
             ],
             [
              0.3333333333333333,
              "#9c179e"
             ],
             [
              0.4444444444444444,
              "#bd3786"
             ],
             [
              0.5555555555555556,
              "#d8576b"
             ],
             [
              0.6666666666666666,
              "#ed7953"
             ],
             [
              0.7777777777777778,
              "#fb9f3a"
             ],
             [
              0.8888888888888888,
              "#fdca26"
             ],
             [
              1,
              "#f0f921"
             ]
            ],
            "type": "surface"
           }
          ],
          "table": [
           {
            "cells": {
             "fill": {
              "color": "#EBF0F8"
             },
             "line": {
              "color": "white"
             }
            },
            "header": {
             "fill": {
              "color": "#C8D4E3"
             },
             "line": {
              "color": "white"
             }
            },
            "type": "table"
           }
          ]
         },
         "layout": {
          "annotationdefaults": {
           "arrowcolor": "#2a3f5f",
           "arrowhead": 0,
           "arrowwidth": 1
          },
          "autotypenumbers": "strict",
          "coloraxis": {
           "colorbar": {
            "outlinewidth": 0,
            "ticks": ""
           }
          },
          "colorscale": {
           "diverging": [
            [
             0,
             "#8e0152"
            ],
            [
             0.1,
             "#c51b7d"
            ],
            [
             0.2,
             "#de77ae"
            ],
            [
             0.3,
             "#f1b6da"
            ],
            [
             0.4,
             "#fde0ef"
            ],
            [
             0.5,
             "#f7f7f7"
            ],
            [
             0.6,
             "#e6f5d0"
            ],
            [
             0.7,
             "#b8e186"
            ],
            [
             0.8,
             "#7fbc41"
            ],
            [
             0.9,
             "#4d9221"
            ],
            [
             1,
             "#276419"
            ]
           ],
           "sequential": [
            [
             0,
             "#0d0887"
            ],
            [
             0.1111111111111111,
             "#46039f"
            ],
            [
             0.2222222222222222,
             "#7201a8"
            ],
            [
             0.3333333333333333,
             "#9c179e"
            ],
            [
             0.4444444444444444,
             "#bd3786"
            ],
            [
             0.5555555555555556,
             "#d8576b"
            ],
            [
             0.6666666666666666,
             "#ed7953"
            ],
            [
             0.7777777777777778,
             "#fb9f3a"
            ],
            [
             0.8888888888888888,
             "#fdca26"
            ],
            [
             1,
             "#f0f921"
            ]
           ],
           "sequentialminus": [
            [
             0,
             "#0d0887"
            ],
            [
             0.1111111111111111,
             "#46039f"
            ],
            [
             0.2222222222222222,
             "#7201a8"
            ],
            [
             0.3333333333333333,
             "#9c179e"
            ],
            [
             0.4444444444444444,
             "#bd3786"
            ],
            [
             0.5555555555555556,
             "#d8576b"
            ],
            [
             0.6666666666666666,
             "#ed7953"
            ],
            [
             0.7777777777777778,
             "#fb9f3a"
            ],
            [
             0.8888888888888888,
             "#fdca26"
            ],
            [
             1,
             "#f0f921"
            ]
           ]
          },
          "colorway": [
           "#636efa",
           "#EF553B",
           "#00cc96",
           "#ab63fa",
           "#FFA15A",
           "#19d3f3",
           "#FF6692",
           "#B6E880",
           "#FF97FF",
           "#FECB52"
          ],
          "font": {
           "color": "#2a3f5f"
          },
          "geo": {
           "bgcolor": "white",
           "lakecolor": "white",
           "landcolor": "#E5ECF6",
           "showlakes": true,
           "showland": true,
           "subunitcolor": "white"
          },
          "hoverlabel": {
           "align": "left"
          },
          "hovermode": "closest",
          "mapbox": {
           "style": "light"
          },
          "paper_bgcolor": "white",
          "plot_bgcolor": "#E5ECF6",
          "polar": {
           "angularaxis": {
            "gridcolor": "white",
            "linecolor": "white",
            "ticks": ""
           },
           "bgcolor": "#E5ECF6",
           "radialaxis": {
            "gridcolor": "white",
            "linecolor": "white",
            "ticks": ""
           }
          },
          "scene": {
           "xaxis": {
            "backgroundcolor": "#E5ECF6",
            "gridcolor": "white",
            "gridwidth": 2,
            "linecolor": "white",
            "showbackground": true,
            "ticks": "",
            "zerolinecolor": "white"
           },
           "yaxis": {
            "backgroundcolor": "#E5ECF6",
            "gridcolor": "white",
            "gridwidth": 2,
            "linecolor": "white",
            "showbackground": true,
            "ticks": "",
            "zerolinecolor": "white"
           },
           "zaxis": {
            "backgroundcolor": "#E5ECF6",
            "gridcolor": "white",
            "gridwidth": 2,
            "linecolor": "white",
            "showbackground": true,
            "ticks": "",
            "zerolinecolor": "white"
           }
          },
          "shapedefaults": {
           "line": {
            "color": "#2a3f5f"
           }
          },
          "ternary": {
           "aaxis": {
            "gridcolor": "white",
            "linecolor": "white",
            "ticks": ""
           },
           "baxis": {
            "gridcolor": "white",
            "linecolor": "white",
            "ticks": ""
           },
           "bgcolor": "#E5ECF6",
           "caxis": {
            "gridcolor": "white",
            "linecolor": "white",
            "ticks": ""
           }
          },
          "title": {
           "x": 0.05
          },
          "xaxis": {
           "automargin": true,
           "gridcolor": "white",
           "linecolor": "white",
           "ticks": "",
           "title": {
            "standoff": 15
           },
           "zerolinecolor": "white",
           "zerolinewidth": 2
          },
          "yaxis": {
           "automargin": true,
           "gridcolor": "white",
           "linecolor": "white",
           "ticks": "",
           "title": {
            "standoff": 15
           },
           "zerolinecolor": "white",
           "zerolinewidth": 2
          }
         }
        },
        "violinmode": "group",
        "xaxis": {
         "anchor": "y",
         "domain": [
          0,
          1
         ],
         "title": {
          "text": "Marital Status?"
         }
        },
        "yaxis": {
         "anchor": "x",
         "domain": [
          0,
          1
         ],
         "title": {
          "text": "Age"
         }
        }
       }
      },
      "text/html": [
       "<div>                            <div id=\"11af51ed-2e62-41aa-a45f-9f1d5910b22b\" class=\"plotly-graph-div\" style=\"height:525px; width:100%;\"></div>            <script type=\"text/javascript\">                require([\"plotly\"], function(Plotly) {                    window.PLOTLYENV=window.PLOTLYENV || {};                                    if (document.getElementById(\"11af51ed-2e62-41aa-a45f-9f1d5910b22b\")) {                    Plotly.newPlot(                        \"11af51ed-2e62-41aa-a45f-9f1d5910b22b\",                        [{\"alignmentgroup\":\"True\",\"box\":{\"visible\":true},\"customdata\":[[\"Male\",\"Pakistan\",\"36-40\",\"Masters\",\"Natural Sciences\",\"to boost my skill set\",\"Unemplyed\",\"B+\",\"U-fone\",\"Prepaid\",\"Apna Laptop\",\"No\",\">3 years ago\",\"Python\",\"Yes\",\"Urbun\",5.0,77.0,179.0,3.0,2],[\"Male\",\"Pakistan\",\"26-30\",\"Bachelors\",\"CS/IT\",\"to boost my skill set\",\"Student\",\"B+\",\"U-fone\",\"Prepaid\",\"Apna Laptop\",\"No\",\">3 years ago\",\"Python\",\"Yes\",\"Urbun\",1.0,53.6,178.0,2.0,6],[\"Male\",\"Pakistan\",\"31-35\",\"Masters\",\"Enginnering\",\"Switch my field of study\",\"Employed\",\"B+\",\"Zong\",\"Prepaid\",\"Apna Laptop\",\"Yes\",\">3 years ago\",\"Python\",\"Yes\",\"Urbun\",5.5,93.0,173.0,2.0,0],[\"Male\",\"Pakistan\",\"36-40\",\"Masters\",\"Others\",\"Switch my field of study\",\"Employed\",\"B+\",\"Mobilink\",\"Prepaid\",\"Apna Laptop\",\"Yes\",\"<3 years ago\",\"Javascript\",\"Yes\",\"Urbun\",15.0,99.0,178.0,1.0,0],[\"Male\",\"Pakistan\",\"21-25\",\"Masters\",\"Enginnering\",\"to boost my skill set\",\"Student\",\"O+\",\"Mobilink\",\"Prepaid\",\"Kisi ka laptop\",\"Yes\",\"In this chilla\",\"Python\",\"No\",\"Urbun\",0.0,58.0,180.34,1.0,2],[\"Male\",\"West\",\"26-30\",\"Bachelors\",\"CS/IT\",\"to boost my skill set\",\"Student\",\"AB+\",\"International\",\"Prepaid\",\"Apna Laptop\",\"No\",\">3 years ago\",\"Python\",\"Yes\",\"International\",4.0,100.0,187.0,3.0,0],[\"Male\",\"Pakistan\",\"21-25\",\"Bachelors\",\"CS/IT\",\"to boost my skill set\",\"Unemplyed\",\"O+\",\"Zong\",\"Prepaid\",\"Apna Laptop\",\"No\",\">3 years ago\",\"Python\",\"Yes\",\"Rural\",0.5,76.8,1.75,3.0,0],[\"Male\",\"West\",\"21-25\",\"Bachelors\",\"Natural Sciences\",\"to boost my skill set\",\"Student\",\"B+\",\"Mobilink\",\"Prepaid\",\"Apna Laptop\",\"No\",\"<3 years ago\",\"Python\",\"No\",\"International\",0.5,84.0,183.0,3.0,0],[\"Male\",\"East\",\"21-25\",\"PhD\",\"Natural Sciences\",\"to boost my skill set\",\"Student\",\"A+\",\"International\",\"Prepaid\",\"Apna Laptop\",\"No\",\"In this chilla\",\"Python\",\"Yes\",\"International\",3.0,78.0,165.0,5.0,0],[\"Male\",\"Pakistan\",\"26-30\",\"Masters\",\"CS/IT\",\"to boost my skill set\",\"Unemplyed\",\"B+\",\"Telenor\",\"Prepaid\",\"Apna Laptop\",\"No\",\">3 years ago\",\"Python\",\"Yes\",\"Urbun\",2.0,50.0,163.0,1.0,0],[\"Male\",\"Pakistan\",\"21-25\",\"Pre-Bachelors\",\"Enginnering\",\"to boost my skill set\",\"Student\",\"O+\",\"Mobilink\",\"Prepaid\",\"Apna Laptop\",\"No\",\"<3 years ago\",\"Python\",\"Yes\",\"Urbun\",1.0,63.0,178.2,1.0,1],[\"Male\",\"Pakistan\",\"21-25\",\"Bachelors\",\"CS/IT\",\"to boost my skill set\",\"Employed\",\"A+\",\"U-fone\",\"Prepaid\",\"Apna Laptop\",\"No\",\">3 years ago\",\"Python\",\"Yes\",\"Urbun\",2.0,88.2,185.0,4.0,2],[\"Male\",\"East\",\"21-25\",\"Masters\",\"Biology\",\"to boost my skill set\",\"Student\",\"O+\",\"International\",\"Postpaid\",\"Apna Laptop\",\"Yes\",\"In this chilla\",\"Python\",\"Yes\",\"International\",2.5,68.5,180.0,2.0,0],[\"Male\",\"Pakistan\",\"31-35\",\"Masters\",\"CS/IT\",\"to boost my skill set\",\"Employed\",\"B+\",\"Zong\",\"Postpaid\",\"Apna Laptop\",\"No\",\">3 years ago\",\"Python\",\"Yes\",\"Urbun\",2.0,75.8,174.0,1.0,0],[\"Male\",\"Pakistan\",\"31-35\",\"Bachelors\",\"Enginnering\",\"to boost my skill set\",\"Employed\",\"O+\",\"Mobilink\",\"Prepaid\",\"Apna Laptop\",\"Yes\",\">3 years ago\",\"C++\",\"Yes\",\"Urbun\",5.5,72.0,164.0,4.0,0],[\"Male\",\"East\",\"26-30\",\"PhD\",\"Enginnering\",\"to boost my skill set\",\"Employed\",\"AB+\",\"International\",\"Prepaid\",\"Apna Laptop\",\"No\",\"In this chilla\",\"Python\",\"Yes\",\"International\",0.6,74.5,174.0,2.0,0],[\"Male\",\"Pakistan\",\"21-25\",\"Bachelors\",\"Enginnering\",\"to boost my skill set\",\"Unemplyed\",\"B+\",\"Zong\",\"Prepaid\",\"Apna Laptop\",\"Yes\",\"In this chilla\",\"Python\",\"Yes\",\"Urbun\",0.0,130.0,172.72,4.0,5],[\"Male\",\"Pakistan\",\"31-35\",\"Masters\",\"Enginnering\",\"to boost my skill set\",\"Employed\",\"O+\",\"Mobilink\",\"Prepaid\",\"Apna Laptop\",\"No\",\"<3 years ago\",\"Python\",\"Yes\",\"Rural\",2.5,72.5,170.18,3.0,3],[\"Male\",\"Pakistan\",\"31-35\",\"PhD\",\"Enginnering\",\"to boost my skill set\",\"Employed\",\"O+\",\"Zong\",\"Postpaid\",\"Apna Laptop\",\"No\",\"In this chilla\",\"Python\",\"Yes\",\"Urbun\",2.0,70.2,168.0,3.0,8],[\"Male\",\"Pakistan\",\"21-25\",\"Pre-Bachelors\",\"Enginnering\",\"Switch my field of study\",\"Student\",\"O+\",\"Zong\",\"Prepaid\",\"Apna Laptop\",\"No\",\"<3 years ago\",\"Python\",\"Yes\",\"Urbun\",0.0,55.0,182.88,1.0,1],[\"Male\",\"East\",\"26-30\",\"PhD\",\"Others\",\"to boost my skill set\",\"Student\",\"AB+\",\"International\",\"Postpaid\",\"Apna Laptop\",\"No\",\"<3 years ago\",\"Python\",\"Yes\",\"International\",4.5,65.5,174.5,3.0,1],[\"Male\",\"Pakistan\",\"21-25\",\"Bachelors\",\"Enginnering\",\"Switch my field of study\",\"Student\",\"B+\",\"Zong\",\"Prepaid\",\"Apna Laptop\",\"No\",\">3 years ago\",\"Python\",\"Yes\",\"Rural\",0.0,83.5,172.72,3.0,2],[\"Male\",\"Pakistan\",\"26-30\",\"PhD\",\"Biology\",\"to boost my skill set\",\"Student\",\"B+\",\"Zong\",\"Prepaid\",\"Apna Laptop\",\"No\",\"In this chilla\",\"Python\",\"Yes\",\"Rural\",9.0,60.0,164.59,3.0,9],[\"Male\",\"Pakistan\",\"21-25\",\"Bachelors\",\"Enginnering\",\"Switch my field of study\",\"Employed\",\"O+\",\"U-fone\",\"Prepaid\",\"Apna Laptop\",\"No\",\"<3 years ago\",\"Python\",\"Yes\",\"Urbun\",3.1,69.5,163.2,5.0,0],[\"Male\",\"Pakistan\",\"31-35\",\"Bachelors\",\"CS/IT\",\"to boost my skill set\",\"Employed\",\"B+\",\"Mobilink\",\"Postpaid\",\"Apna Laptop\",\"No\",\">3 years ago\",\"Python\",\"Yes\",\"Urbun\",4.0,72.0,177.0,1.0,0],[\"Male\",\"East\",\"31-35\",\"PhD\",\"Biology\",\"Switch my field of study\",\"Employed\",\"O+\",\"International\",\"Prepaid\",\"Apna Laptop\",\"No\",\"In this chilla\",\"Python\",\"Yes\",\"International\",8.4,97.5,177.0,5.0,1],[\"Male\",\"East\",\"26-30\",\"PhD\",\"Enginnering\",\"to boost my skill set\",\"Employed\",\"AB+\",\"International\",\"Prepaid\",\"Apna Laptop\",\"No\",\"In this chilla\",\"Python\",\"Yes\",\"International\",6.0,85.0,178.0,4.0,0],[\"Male\",\"Pakistan\",\"26-30\",\"Bachelors\",\"Business/Economics\",\"to boost my skill set\",\"Unemplyed\",\"B+\",\"Telenor\",\"Prepaid\",\"Kisi ka laptop\",\"No\",\"In this chilla\",\"Python\",\"Yes\",\"Rural\",1.0,55.5,164.0,3.0,4],[\"Male\",\"West\",\"31-35\",\"PhD\",\"Enginnering\",\"to boost my skill set\",\"Student\",\"B-\",\"International\",\"Postpaid\",\"Apna Laptop\",\"Yes\",\"<3 years ago\",\"Python\",\"Yes\",\"International\",2.0,80.0,176.0,3.0,0],[\"Male\",\"Pakistan\",\"26-30\",\"Bachelors\",\"Enginnering\",\"Switch my field of study\",\"Student\",\"A-\",\"Telenor\",\"Prepaid\",\"Apna Laptop\",\"No\",\"<3 years ago\",\"Python\",\"No\",\"Urbun\",0.0,78.0,179.0,4.0,4],[\"Male\",\"Pakistan\",\"21-25\",\"Pre-Bachelors\",\"CS/IT\",\"to boost my skill set\",\"Student\",\"A+\",\"Zong\",\"Prepaid\",\"Apna Laptop\",\"No\",\"<3 years ago\",\"Python\",\"Yes\",\"Rural\",0.0,52.5,164.344,1.0,0],[\"Male\",\"Pakistan\",\"21-25\",\"Masters\",\"Mathematics\",\"Abhi tak pata nahi\",\"Employed\",\"A-\",\"Telenor\",\"Prepaid\",\"Kisi ka laptop\",\"No\",\"<3 years ago\",\"C++\",\"Yes\",\"Rural\",0.0,67.0,155.0,2.0,1],[\"Male\",\"Pakistan\",\"21-25\",\"Bachelors\",\"Enginnering\",\"Switch my field of study\",\"Unemplyed\",\"AB+\",\"U-fone\",\"Prepaid\",\"Apna Laptop\",\"No\",\"<3 years ago\",\"Python\",\"Yes\",\"Urbun\",0.2,93.5,177.5,2.0,2],[\"Male\",\"West\",\"26-30\",\"Masters\",\"Biology\",\"to boost my skill set\",\"Student\",\"B+\",\"International\",\"Prepaid\",\"Apna Laptop\",\"No\",\"<3 years ago\",\"R\",\"Yes\",\"International\",4.5,68.3,175.25,3.0,0],[\"Male\",\"Pakistan\",\"26-30\",\"Masters\",\"Software Eng.\",\"to boost my skill set\",\"Employed\",\"O+\",\"Mobilink\",\"Prepaid\",\"Apna Laptop\",\"No\",\">3 years ago\",\"Python\",\"Yes\",\"Urbun\",3.0,96.0,172.0,6.0,2],[\"Male\",\"Pakistan\",\"31-35\",\"Bachelors\",\"Enginnering\",\"Switch my field of study\",\"Employed\",\"B+\",\"U-fone\",\"Prepaid\",\"Apna Laptop\",\"No\",\"<3 years ago\",\"Python\",\"Yes\",\"Urbun\",0.0,64.0,160.0,1.0,0],[\"Male\",\"Pakistan\",\"31-35\",\"Masters\",\"CS/IT\",\"to boost my skill set\",\"Employed\",\"O+\",\"Mobilink\",\"Postpaid\",\"Apna Laptop\",\"No\",\">3 years ago\",\"Python\",\"Yes\",\"Rural\",14.0,75.0,165.0,3.0,1],[\"Male\",\"Pakistan\",\"31-35\",\"Masters\",\"Enginnering\",\"to boost my skill set\",\"Employed\",\"A+\",\"Mobilink\",\"Postpaid\",\"Apna Laptop\",\"No\",\">3 years ago\",\"Python\",\"Yes\",\"Urbun\",4.0,84.0,183.0,3.0,2],[\"Male\",\"Pakistan\",\"21-25\",\"Pre-Bachelors\",\"CS/IT\",\"to boost my skill set\",\"Student\",\"A+\",\"Zong\",\"Prepaid\",\"Desktop\",\"No\",\"<3 years ago\",\"Python\",\"Yes\",\"Urbun\",0.0,75.0,169.0,2.0,0],[\"Male\",\"West\",\"31-35\",\"Masters\",\"Mathematics\",\"to boost my skill set\",\"Employed\",\"B+\",\"International\",\"Postpaid\",\"Apna Laptop\",\"No\",\">3 years ago\",\"Python\",\"Yes\",\"Urbun\",4.0,72.5,173.0,2.0,0],[\"Male\",\"West\",\"31-35\",\"Bachelors\",\"Enginnering\",\"Awen\",\"Employed\",\"A+\",\"International\",\"Postpaid\",\"Apna Laptop\",\"No\",\"In this chilla\",\"Python\",\"Yes\",\"International\",8.5,87.5,182.0,4.0,0],[\"Male\",\"Pakistan\",\"26-30\",\"Masters\",\"Software Eng.\",\"to boost my skill set\",\"Unemplyed\",\"O+\",\"Zong\",\"Prepaid\",\"Apna Laptop\",\"No\",\"In this chilla\",\"Others\",\"Yes\",\"Urbun\",0.0,62.5,179.832,2.0,8],[\"Male\",\"Pakistan\",\"26-30\",\"Masters\",\"Enginnering\",\"to boost my skill set\",\"Employed\",\"B+\",\"Mobilink\",\"Prepaid\",\"Apna Laptop\",\"No\",\">3 years ago\",\"C++\",\"Yes\",\"Urbun\",2.0,88.6,600.0,3.0,0],[\"Male\",\"Pakistan\",\"16-20\",\"Pre-Bachelors\",\"Others\",\"to boost my skill set\",\"Student\",\"B+\",\"Zong\",\"Prepaid\",\"Kisi ka laptop\",\"Yes\",\"In this chilla\",\"Python\",\"Yes\",\"Urbun\",0.0,52.0,174.0,2.0,2],[\"Male\",\"East\",\"26-30\",\"Bachelors\",\"Software Eng.\",\"to boost my skill set\",\"Employed\",\"B+\",\"International\",\"Prepaid\",\"Apna Laptop\",\"No\",\">3 years ago\",\"Python\",\"Yes\",\"Urbun\",2.5,71.2,172.0,1.0,0],[\"Male\",\"Pakistan\",\"21-25\",\"Masters\",\"Enginnering\",\"Switch my field of study\",\"Employed\",\"A+\",\"Mobilink\",\"Prepaid\",\"Apna Laptop\",\"No\",\">3 years ago\",\"Others\",\"Yes\",\"Rural\",2.5,60.0,177.8,1.0,0],[\"Male\",\"Pakistan\",\"36-40\",\"Masters\",\"Natural Sciences\",\"to boost my skill set\",\"Employed\",\"A+\",\"U-fone\",\"Prepaid\",\"Apna Laptop\",\"No\",\">3 years ago\",\"Python\",\"Yes\",\"Urbun\",12.0,100.5,180.5,2.0,2],[\"Male\",\"Pakistan\",\"36-40\",\"Masters\",\"Business/Economics\",\"Switch my field of study\",\"Student\",\"B-\",\"Mobilink\",\"Prepaid\",\"Apna Laptop\",\"No\",\"<3 years ago\",\"Python\",\"Yes\",\"Urbun\",5.0,93.9,177.8,4.0,1],[\"Male\",\"Pakistan\",\"31-35\",\"Masters\",\"Natural Sciences\",\"to boost my skill set\",\"Employed\",\"A+\",\"Zong\",\"Prepaid\",\"Apna Laptop\",\"No\",\"<3 years ago\",\"SQL\",\"Yes\",\"Urbun\",9.5,78.9,170.0,1.0,1],[\"Male\",\"Pakistan\",\"31-35\",\"Masters\",\"CS/IT\",\"Switch my field of study\",\"Employed\",\"A+\",\"U-fone\",\"Postpaid\",\"Apna Laptop\",\"No\",\"<3 years ago\",\"Python\",\"Yes\",\"Urbun\",4.5,70.0,170.0,4.0,2],[\"Male\",\"Pakistan\",\"26-30\",\"Masters\",\"Enginnering\",\"to boost my skill set\",\"Employed\",\"B+\",\"U-fone\",\"Postpaid\",\"Apna Laptop\",\"No\",\"<3 years ago\",\"Python\",\"Yes\",\"Urbun\",2.0,65.0,175.0,3.0,2],[\"Male\",\"Pakistan\",\"21-25\",\"Pre-Bachelors\",\"CS/IT\",\"to boost my skill set\",\"Student\",\"O+\",\"Mobilink\",\"Prepaid\",\"Apna Laptop\",\"No\",\">3 years ago\",\"Python\",\"Yes\",\"Rural\",0.0,63.5,173.0,3.0,8],[\"Male\",\"Pakistan\",\"31-35\",\"PhD\",\"Enginnering\",\"to boost my skill set\",\"Employed\",\"O+\",\"U-fone\",\"Prepaid\",\"Apna Laptop\",\"Yes\",\">3 years ago\",\"Python\",\"Yes\",\"Urbun\",5.0,82.0,175.0,2.0,2],[\"Male\",\"Pakistan\",\"21-25\",\"Bachelors\",\"Enginnering\",\"Awen\",\"Employed\",\"B+\",\"Mobilink\",\"Prepaid\",\"Apna Laptop\",\"Yes\",\"In this chilla\",\"Python\",\"Yes\",\"Urbun\",3.5,105.5,5.7,4.0,0],[\"Male\",\"Pakistan\",\"26-30\",\"Masters\",\"Enginnering\",\"to boost my skill set\",\"Employed\",\"A+\",\"Mobilink\",\"Postpaid\",\"Apna Laptop\",\"Yes\",\"<3 years ago\",\"Python\",\"Yes\",\"Urbun\",2.5,85.6,165.0,4.0,4],[\"Male\",\"Pakistan\",\"26-30\",\"Bachelors\",\"Enginnering\",\"Switch my field of study\",\"Unemplyed\",\"B+\",\"U-fone\",\"Prepaid\",\"Apna Laptop\",\"Yes\",\">3 years ago\",\"Python\",\"Yes\",\"Urbun\",2.0,89.0,157.0,3.0,1],[\"Male\",\"Pakistan\",\"26-30\",\"Masters\",\"Software Eng.\",\"to boost my skill set\",\"Employed\",\"A+\",\"Mobilink\",\"Prepaid\",\"Apna Laptop\",\"No\",\">3 years ago\",\"Python\",\"Yes\",\"Urbun\",5.0,100.0,169.0,9.0,3],[\"Male\",\"Pakistan\",\"16-20\",\"Pre-Bachelors\",\"CS/IT\",\"to boost my skill set\",\"Student\",\"O+\",\"Mobilink\",\"Prepaid\",\"Apna Laptop\",\"No\",\"<3 years ago\",\"Python\",\"Yes\",\"Urbun\",0.5,52.0,170.688,4.0,0],[\"Male\",\"Pakistan\",\"26-30\",\"Masters\",\"Enginnering\",\"to boost my skill set\",\"Employed\",\"O+\",\"Telenor\",\"Prepaid\",\"Apna Laptop\",\"Yes\",\">3 years ago\",\"Python\",\"Yes\",\"Urbun\",3.0,75.4,172.3,3.0,0],[\"Male\",\"Pakistan\",\"21-25\",\"Pre-Bachelors\",\"CS/IT\",\"to boost my skill set\",\"Student\",\"AB+\",\"Mobilink\",\"Prepaid\",\"Apna Laptop\",\"No\",\"<3 years ago\",\"Python\",\"Yes\",\"Rural\",0.0,50.0,1.73,2.0,2],[\"Male\",\"Pakistan\",\"31-35\",\"Masters\",\"Natural Sciences\",\"to boost my skill set\",\"Employed\",\"B+\",\"U-fone\",\"Prepaid\",\"Apna Laptop\",\"No\",\">3 years ago\",\"Python\",\"Yes\",\"Urbun\",7.0,75.5,170.5,2.0,0],[\"Male\",\"Pakistan\",\"26-30\",\"Masters\",\"Biology\",\"to boost my skill set\",\"Student\",\"B+\",\"U-fone\",\"Prepaid\",\"Apna Laptop\",\"Yes\",\"In this chilla\",\"Python\",\"Yes\",\"Urbun\",4.0,78.5,176.0,3.0,0],[\"Male\",\"Pakistan\",\"26-30\",\"Bachelors\",\"Enginnering\",\"to boost my skill set\",\"Employed\",\"B+\",\"Zong\",\"Prepaid\",\"Apna Laptop\",\"No\",\">3 years ago\",\"Python\",\"Yes\",\"Urbun\",3.0,88.2,178.0,3.0,2],[\"Male\",\"Pakistan\",\"31-35\",\"Masters\",\"Natural Sciences\",\"to boost my skill set\",\"Employed\",\"O-\",\"U-fone\",\"Prepaid\",\"Apna Laptop\",\"No\",\"In this chilla\",\"Python\",\"Yes\",\"Urbun\",10.2,70.2,175.2,3.0,6],[\"Male\",\"Pakistan\",\"21-25\",\"Bachelors\",\"Enginnering\",\"to boost my skill set\",\"Employed\",\"O+\",\"Telenor\",\"Prepaid\",\"Apna Laptop\",\"No\",\">3 years ago\",\"Python\",\"Yes\",\"Urbun\",1.0,62.0,184.3,1.0,2],[\"Male\",\"Pakistan\",\"16-20\",\"Pre-Bachelors\",\"Natural Sciences\",\"to boost my skill set\",\"Student\",\"B+\",\"Mobilink\",\"Prepaid\",\"Apna Laptop\",\"No\",\"<3 years ago\",\"Python\",\"Yes\",\"Rural\",1.0,64.0,166.0,3.0,4],[\"Male\",\"Pakistan\",\"21-25\",\"Masters\",\"Natural Sciences\",\"to boost my skill set\",\"Student\",\"AB+\",\"Telenor\",\"Prepaid\",\"Apna Laptop\",\"No\",\"In this chilla\",\"Python\",\"Yes\",\"Rural\",0.0,68.0,176.8,1.0,22],[\"Male\",\"Pakistan\",\"21-25\",\"Pre-Bachelors\",\"CS/IT\",\"to boost my skill set\",\"Student\",\"AB-\",\"Zong\",\"Prepaid\",\"Apna Laptop\",\"Yes\",\">3 years ago\",\"Python\",\"Yes\",\"Rural\",0.0,68.5,164.592,2.0,1],[\"Male\",\"Pakistan\",\"26-30\",\"Bachelors\",\"Biology\",\"to boost my skill set\",\"Student\",\"O+\",\"Mobilink\",\"Prepaid\",\"Apna Laptop\",\"Yes\",\"In this chilla\",\"Python\",\"Yes\",\"Urbun\",2.0,69.0,164.5,2.0,1],[\"Male\",\"Pakistan\",\"26-30\",\"Masters\",\"Software Eng.\",\"to boost my skill set\",\"Employed\",\"O+\",\"U-fone\",\"Prepaid\",\"Apna Laptop\",\"No\",\">3 years ago\",\"Python\",\"Yes\",\"Urbun\",3.5,63.5,182.0,6.0,0],[\"Male\",\"Pakistan\",\"16-20\",\"Pre-Bachelors\",\"CS/IT\",\"to boost my skill set\",\"Student\",\"O+\",\"Telenor\",\"Prepaid\",\"Apna Laptop\",\"No\",\"<3 years ago\",\"Python\",\"No\",\"Urbun\",0.0,57.4,173.736,3.0,0],[\"Male\",\"Pakistan\",\"21-25\",\"Bachelors\",\"Others\",\"to boost my skill set\",\"Employed\",\"O+\",\"Mobilink\",\"Prepaid\",\"Apna Laptop\",\"Yes\",\"<3 years ago\",\"Python\",\"Yes\",\"Rural\",0.0,75.0,166.5,4.0,5],[\"Male\",\"Pakistan\",\"16-20\",\"Bachelors\",\"CS/IT\",\"to boost my skill set\",\"Student\",\"O+\",\"Mobilink\",\"Prepaid\",\"Apna Laptop\",\"Yes\",\"<3 years ago\",\"Python\",\"Yes\",\"Urbun\",2.0,50.0,180.34,3.0,0],[\"Male\",\"Pakistan\",\"26-30\",\"Masters\",\"CS/IT\",\"to boost my skill set\",\"Employed\",\"O+\",\"Mobilink\",\"Prepaid\",\"Apna Laptop\",\"No\",\">3 years ago\",\"Python\",\"Yes\",\"Urbun\",8.0,88.0,177.8,5.0,3],[\"Male\",\"Pakistan\",\"31-35\",\"Bachelors\",\"Enginnering\",\"to boost my skill set\",\"Employed\",\"B+\",\"U-fone\",\"Prepaid\",\"Apna Laptop\",\"No\",\"In this chilla\",\"Python\",\"Yes\",\"Urbun\",7.5,72.0,170.0,2.0,4],[\"Male\",\"Pakistan\",\"31-35\",\"Masters\",\"Enginnering\",\"Switch my field of study\",\"Employed\",\"A+\",\"U-fone\",\"Prepaid\",\"Apna Laptop\",\"No\",\"<3 years ago\",\"Python\",\"Yes\",\"Urbun\",8.0,98.0,177.8,2.0,0],[\"Male\",\"Pakistan\",\"26-30\",\"Bachelors\",\"CS/IT\",\"to boost my skill set\",\"Employed\",\"B+\",\"Mobilink\",\"Prepaid\",\"Apna Laptop\",\"No\",\">3 years ago\",\"Python\",\"Yes\",\"Urbun\",4.0,79.0,5.11,0.0,0],[\"Male\",\"Pakistan\",\"26-30\",\"Masters\",\"Biology\",\"to boost my skill set\",\"Student\",\"O+\",\"Telenor\",\"Prepaid\",\"Apna Laptop\",\"No\",\">3 years ago\",\"Python\",\"Yes\",\"Rural\",5.0,55.5,176.7,1.0,0],[\"Male\",\"West\",\"26-30\",\"Masters\",\"Natural Sciences\",\"to boost my skill set\",\"Student\",\"A+\",\"International\",\"Prepaid\",\"Apna Laptop\",\"No\",\"<3 years ago\",\"Python\",\"No\",\"International\",1.2,68.3,175.1,5.0,0],[\"Male\",\"Pakistan\",\"31-35\",\"Masters\",\"Enginnering\",\"to boost my skill set\",\"Employed\",\"A+\",\"Mobilink\",\"Prepaid\",\"Desktop\",\"Yes\",\"In this chilla\",\"C++\",\"Yes\",\"Urbun\",4.5,88.4,180.34,2.0,0],[\"Male\",\"Pakistan\",\"21-25\",\"Bachelors\",\"CS/IT\",\"Switch my field of study\",\"Student\",\"B+\",\"U-fone\",\"Prepaid\",\"Apna Laptop\",\"Yes\",\">3 years ago\",\"Python\",\"Yes\",\"Urbun\",0.0,84.0,174.0,1.0,4],[\"Male\",\"Pakistan\",\"26-30\",\"Masters\",\"Enginnering\",\"Switch my field of study\",\"Student\",\"O+\",\"U-fone\",\"Postpaid\",\"Desktop\",\"Yes\",\"In this chilla\",\"Python\",\"Yes\",\"Urbun\",1.5,82.5,160.02,5.0,0],[\"Male\",\"Pakistan\",\"41-45\",\"Masters\",\"Natural Sciences\",\"Abhi tak pata nahi\",\"Employed\",\"O+\",\"Mobilink\",\"Prepaid\",\"Apna Laptop\",\"No\",\"<3 years ago\",\"Python\",\"Yes\",\"Urbun\",2.0,83.5,175.5,1.0,3],[\"Male\",\"Pakistan\",\"41-45\",\"Masters\",\"Natural Sciences\",\"to boost my skill set\",\"Employed\",\"O+\",\"Mobilink\",\"Postpaid\",\"Apna Laptop\",\"Yes\",\"In this chilla\",\"Others\",\"Yes\",\"Urbun\",17.0,90.0,179.0,1.0,20],[\"Male\",\"West\",\"26-30\",\"Masters\",\"Natural Sciences\",\"to boost my skill set\",\"Student\",\"B+\",\"International\",\"Postpaid\",\"Apna Laptop\",\"No\",\"<3 years ago\",\"Python\",\"Yes\",\"International\",2.5,77.5,171.5,2.0,0],[\"Male\",\"Pakistan\",\"21-25\",\"Bachelors\",\"CS/IT\",\"to boost my skill set\",\"Unemplyed\",\"AB+\",\"Mobilink\",\"Prepaid\",\"Apna Laptop\",\"No\",\"In this chilla\",\"Python\",\"Yes\",\"Rural\",0.0,90.0,1.4,4.0,5],[\"Male\",\"Pakistan\",\"21-25\",\"Bachelors\",\"Enginnering\",\"to boost my skill set\",\"Unemplyed\",\"O+\",\"Telenor\",\"Prepaid\",\"Apna Laptop\",\"Yes\",\">3 years ago\",\"C++\",\"Yes\",\"Urbun\",1.5,67.9,17.0,1.5,0],[\"Male\",\"Pakistan\",\"21-25\",\"Pre-Bachelors\",\"Software Eng.\",\"to boost my skill set\",\"Student\",\"A-\",\"Zong\",\"Prepaid\",\"Apna Laptop\",\"Yes\",\">3 years ago\",\"Javascript\",\"Yes\",\"Urbun\",0.0,71.5,170.688,6.0,4],[\"Male\",\"Pakistan\",\"21-25\",\"Bachelors\",\"Enginnering\",\"to boost my skill set\",\"Student\",\"O+\",\"International\",\"Prepaid\",\"Apna Laptop\",\"Yes\",\"<3 years ago\",\"Python\",\"Yes\",\"International\",0.6,76.0,176.0,1.0,0],[\"Male\",\"Pakistan\",\"16-20\",\"Pre-Bachelors\",\"Enginnering\",\"Switch my field of study\",\"Employed\",\"A+\",\"Mobilink\",\"Prepaid\",\"Desktop\",\"No\",\"In this chilla\",\"Python\",\"Yes\",\"Urbun\",0.0,48.0,155.0,2.0,0],[\"Male\",\"Pakistan\",\"26-30\",\"Bachelors\",\"CS/IT\",\"to boost my skill set\",\"Employed\",\"B+\",\"Zong\",\"Prepaid\",\"Apna Laptop\",\"No\",\">3 years ago\",\"Python\",\"Yes\",\"Urbun\",3.5,76.0,60.6,4.0,3],[\"Male\",\"Pakistan\",\"21-25\",\"Bachelors\",\"Enginnering\",\"to boost my skill set\",\"Student\",\"A+\",\"Telenor\",\"Prepaid\",\"Apna Laptop\",\"No\",\">3 years ago\",\"Python\",\"Yes\",\"Urbun\",1.5,67.4,172.0,3.0,12],[\"Male\",\"Pakistan\",\"26-30\",\"Bachelors\",\"Enginnering\",\"to boost my skill set\",\"Unemplyed\",\"B+\",\"Zong\",\"Prepaid\",\"Apna Laptop\",\"No\",\">3 years ago\",\"Python\",\"Yes\",\"Urbun\",2.0,54.0,165.0,1.0,8],[\"Male\",\"Pakistan\",\"21-25\",\"Bachelors\",\"Enginnering\",\"Switch my field of study\",\"Student\",\"B+\",\"U-fone\",\"Prepaid\",\"Apna Laptop\",\"No\",\"In this chilla\",\"Python\",\"Yes\",\"Rural\",1.0,60.5,179.832,2.0,0],[\"Male\",\"East\",\"26-30\",\"PhD\",\"Business/Economics\",\"to boost my skill set\",\"Student\",\"A+\",\"International\",\"Prepaid\",\"Desktop\",\"Yes\",\"In this chilla\",\"Python\",\"Yes\",\"International\",4.0,104.5,1.73,2.0,0],[\"Male\",\"Pakistan\",\"26-30\",\"Masters\",\"Enginnering\",\"to boost my skill set\",\"Student\",\"O-\",\"Mobilink\",\"Postpaid\",\"Apna Laptop\",\"No\",\">3 years ago\",\"Python\",\"Yes\",\"Urbun\",6.5,93.5,168.5,3.0,1],[\"Male\",\"Pakistan\",\"26-30\",\"Masters\",\"Biology\",\"to boost my skill set\",\"Student\",\"A+\",\"U-fone\",\"Prepaid\",\"Apna Laptop\",\"Yes\",\"In this chilla\",\"Python\",\"Yes\",\"Urbun\",2.5,106.05,177.78,2.0,0],[\"Male\",\"Pakistan\",\"41-45\",\"Masters\",\"Natural Sciences\",\"to boost my skill set\",\"Employed\",\"B+\",\"U-fone\",\"Prepaid\",\"Kisi ka laptop\",\"No\",\">3 years ago\",\"Others\",\"Yes\",\"Rural\",13.0,97.0,164.592,4.0,1],[\"Male\",\"Pakistan\",\"36-40\",\"PhD\",\"Enginnering\",\"to boost my skill set\",\"Unemplyed\",\"O+\",\"Mobilink\",\"Prepaid\",\"Apna Laptop\",\"Yes\",\">3 years ago\",\"Python\",\"Yes\",\"Rural\",10.0,77.0,167.64,2.0,2],[\"Male\",\"Pakistan\",\"26-30\",\"Masters\",\"Mathematics\",\"Switch my field of study\",\"Student\",\"B+\",\"Mobilink\",\"Prepaid\",\"Apna Laptop\",\"No\",\">3 years ago\",\"Python\",\"Yes\",\"Rural\",3.8,79.5,5.9,2.0,1],[\"Male\",\"Pakistan\",\"26-30\",\"Masters\",\"Enginnering\",\"to boost my skill set\",\"Employed\",\"B+\",\"Zong\",\"Prepaid\",\"Apna Laptop\",\"Yes\",\"<3 years ago\",\"Python\",\"Yes\",\"Rural\",5.0,80.0,180.0,3.0,0],[\"Male\",\"Pakistan\",\"26-30\",\"Bachelors\",\"Enginnering\",\"Switch my field of study\",\"Employed\",\"AB+\",\"Mobilink\",\"Prepaid\",\"Apna Laptop\",\"No\",\">3 years ago\",\"Python\",\"Yes\",\"Urbun\",1.0,74.0,182.88,2.0,3],[\"Male\",\"Pakistan\",\"36-40\",\"Pre-Bachelors\",\"Others\",\"Abhi tak pata nahi\",\"Unemplyed\",\"O+\",\"Mobilink\",\"Prepaid\",\"Desktop\",\"Yes\",\"In this chilla\",\"Python\",\"No\",\"Urbun\",0.0,75.0,5.6,0.01,0],[\"Male\",\"Pakistan\",\"26-30\",\"Masters\",\"Natural Sciences\",\"Switch my field of study\",\"Unemplyed\",\"B+\",\"Zong\",\"Postpaid\",\"Apna Laptop\",\"No\",\"In this chilla\",\"Python\",\"Yes\",\"Urbun\",1.0,75.6,155.4,2.0,1],[\"Male\",\"West\",\"41-45\",\"Masters\",\"CS/IT\",\"to boost my skill set\",\"Employed\",\"B+\",\"International\",\"Prepaid\",\"Apna Laptop\",\"Yes\",\">3 years ago\",\"Others\",\"Yes\",\"International\",20.0,82.5,182.5,1.0,0],[\"Male\",\"Pakistan\",\"41-45\",\"Masters\",\"CS/IT\",\"to boost my skill set\",\"Employed\",\"B+\",\"Mobilink\",\"Prepaid\",\"Apna Laptop\",\"Yes\",\"<3 years ago\",\"Python\",\"Yes\",\"Urbun\",20.5,70.5,1.76,1.0,3],[\"Male\",\"Pakistan\",\"21-25\",\"Bachelors\",\"CS/IT\",\"to boost my skill set\",\"Student\",\"B+\",\"Mobilink\",\"Prepaid\",\"Apna Laptop\",\"No\",\">3 years ago\",\"Python\",\"Yes\",\"Rural\",0.0,86.0,174.0,3.0,2],[\"Male\",\"Pakistan\",\"26-30\",\"Bachelors\",\"Enginnering\",\"to boost my skill set\",\"Unemplyed\",\"B+\",\"Mobilink\",\"Prepaid\",\"Kisi ka laptop\",\"Yes\",\">3 years ago\",\"Python\",\"Yes\",\"Urbun\",1.3,61.0,169.0,5.0,1],[\"Male\",\"Pakistan\",\"21-25\",\"Pre-Bachelors\",\"Enginnering\",\"Awen\",\"Student\",\"O+\",\"Mobilink\",\"Prepaid\",\"Apna Laptop\",\"No\",\"<3 years ago\",\"C++\",\"Yes\",\"Urbun\",0.0,59.0,163.5,1.0,2],[\"Male\",\"Pakistan\",\"26-30\",\"Masters\",\"Enginnering\",\"to boost my skill set\",\"Employed\",\"O+\",\"Telenor\",\"Prepaid\",\"Apna Laptop\",\"No\",\"<3 years ago\",\"Python\",\"Yes\",\"Rural\",1.0,75.5,182.28,2.0,3],[\"Male\",\"Pakistan\",\"26-30\",\"Masters\",\"Enginnering\",\"to boost my skill set\",\"Student\",\"AB+\",\"Zong\",\"Prepaid\",\"Apna Laptop\",\"No\",\"In this chilla\",\"Python\",\"Yes\",\"Urbun\",1.0,61.5,45.5,4.0,5],[\"Male\",\"Pakistan\",\"36-40\",\"Masters\",\"CS/IT\",\"to boost my skill set\",\"Employed\",\"O+\",\"U-fone\",\"Prepaid\",\"Apna Laptop\",\"Yes\",\"In this chilla\",\"Python\",\"Yes\",\"International\",0.0,54.3,44.5,3.0,5],[\"Male\",\"Pakistan\",\"31-35\",\"PhD\",\"Natural Sciences\",\"to boost my skill set\",\"Unemplyed\",\"O+\",\"Mobilink\",\"Prepaid\",\"Apna Laptop\",\"No\",\"In this chilla\",\"Python\",\"Yes\",\"Urbun\",1.5,89.5,155.44,4.0,2],[\"Male\",\"Pakistan\",\"31-35\",\"Bachelors\",\"CS/IT\",\"to boost my skill set\",\"Employed\",\"AB-\",\"Zong\",\"Prepaid\",\"Apna Laptop\",\"No\",\"<3 years ago\",\"Python\",\"Yes\",\"Urbun\",2.0,70.0,64.0,1.0,0],[\"Male\",\"West\",\"16-20\",\"Pre-Bachelors\",\"Mathematics\",\"to boost my skill set\",\"Student\",\"O+\",\"Zong\",\"Prepaid\",\"Apna Laptop\",\"No\",\"In this chilla\",\"Python\",\"Yes\",\"Rural\",0.0,55.2,167.64,8.0,8],[\"Male\",\"Pakistan\",\"26-30\",\"Masters\",\"CS/IT\",\"to boost my skill set\",\"Unemplyed\",\"B-\",\"Mobilink\",\"Prepaid\",\"Apna Laptop\",\"No\",\"In this chilla\",\"Python\",\"Yes\",\"Urbun\",0.0,69.0,0.0,5.0,0],[\"Male\",\"West\",\"21-25\",\"Bachelors\",\"Enginnering\",\"to boost my skill set\",\"Student\",\"B+\",\"International\",\"Prepaid\",\"Apna Laptop\",\"No\",\">3 years ago\",\"Python\",\"Yes\",\"International\",2.0,52.27,171.5,7.0,24],[\"Male\",\"Pakistan\",\"31-35\",\"Bachelors\",\"CS/IT\",\"Switch my field of study\",\"Student\",\"O+\",\"Telenor\",\"Prepaid\",\"Apna Laptop\",\"No\",\"<3 years ago\",\"Python\",\"Yes\",\"Rural\",0.0,60.0,32.0,3.0,2],[\"Male\",\"Pakistan\",\"26-30\",\"PhD\",\"Mathematics\",\"Switch my field of study\",\"Student\",\"B+\",\"Zong\",\"Prepaid\",\"Apna Laptop\",\"Yes\",\">3 years ago\",\"Python\",\"Yes\",\"Urbun\",4.0,65.21,1.74,5.0,7],[\"Male\",\"Pakistan\",\"21-25\",\"Masters\",\"Biology\",\"to boost my skill set\",\"Unemplyed\",\"B+\",\"Telenor\",\"Prepaid\",\"Apna Laptop\",\"Yes\",\"In this chilla\",\"Python\",\"Yes\",\"Urbun\",2.0,54.0,5.6,1.0,3],[\"Male\",\"Pakistan\",\"21-25\",\"Bachelors\",\"Enginnering\",\"Switch my field of study\",\"Student\",\"A+\",\"Zong\",\"Prepaid\",\"Apna Laptop\",\"No\",\"In this chilla\",\"Python\",\"Yes\",\"Urbun\",0.0,65.0,170.18,2.0,1],[\"Male\",\"Pakistan\",\"26-30\",\"Bachelors\",\"Enginnering\",\"to boost my skill set\",\"Employed\",\"O+\",\"Mobilink\",\"Prepaid\",\"Apna Laptop\",\"No\",\">3 years ago\",\"Python\",\"Yes\",\"Rural\",2.0,68.0,161.544,2.0,18],[\"Male\",\"Pakistan\",\"21-25\",\"Masters\",\"Enginnering\",\"to boost my skill set\",\"Unemplyed\",\"O+\",\"Mobilink\",\"Prepaid\",\"Apna Laptop\",\"Yes\",\"<3 years ago\",\"Python\",\"Yes\",\"Rural\",1.0,68.0,167.64,3.0,0],[\"Male\",\"Pakistan\",\"31-35\",\"PhD\",\"Others\",\"to boost my skill set\",\"Employed\",\"B+\",\"Zong\",\"Prepaid\",\"Apna Laptop\",\"No\",\"In this chilla\",\"Python\",\"Yes\",\"Urbun\",5.5,72.0,162.0,1.0,8],[\"Male\",\"Pakistan\",\"46-60\",\"Bachelors\",\"CS/IT\",\"to boost my skill set\",\"Unemplyed\",\"O+\",\"Mobilink\",\"Prepaid\",\"Apna Laptop\",\"No\",\"<3 years ago\",\"Python\",\"No\",\"Urbun\",20.0,70.5,170.18,4.0,0],[\"Male\",\"West\",\"31-35\",\"Masters\",\"Business/Economics\",\"to boost my skill set\",\"Employed\",\"O+\",\"International\",\"Postpaid\",\"Apna Laptop\",\"No\",\"<3 years ago\",\"Python\",\"Yes\",\"International\",8.5,82.27,177.0,3.0,0],[\"Male\",\"Pakistan\",\"31-35\",\"Masters\",\"Enginnering\",\"to boost my skill set\",\"Unemplyed\",\"A-\",\"U-fone\",\"Prepaid\",\"Apna Laptop\",\"Yes\",\"<3 years ago\",\"R\",\"Yes\",\"Rural\",5.0,101.5,179.0,1.0,8],[\"Male\",\"Pakistan\",\"21-25\",\"Masters\",\"CS/IT\",\"to boost my skill set\",\"Employed\",\"A+\",\"Mobilink\",\"Prepaid\",\"Apna Laptop\",\"No\",\">3 years ago\",\"Python\",\"Yes\",\"Urbun\",0.0,94.5,6.1,5.0,1],[\"Male\",\"Pakistan\",\"26-30\",\"Masters\",\"Enginnering\",\"to boost my skill set\",\"Employed\",\"B+\",\"Mobilink\",\"Postpaid\",\"Apna Laptop\",\"Yes\",\"<3 years ago\",\"Python\",\"Yes\",\"Urbun\",4.5,86.5,185.92,1.0,1],[\"Male\",\"Pakistan\",\"26-30\",\"Masters\",\"Enginnering\",\"to boost my skill set\",\"Student\",\"B+\",\"U-fone\",\"Postpaid\",\"Apna Laptop\",\"No\",\"In this chilla\",\"Python\",\"Yes\",\"Rural\",2.0,63.5,175.5,4.0,4],[\"Male\",\"Pakistan\",\"21-25\",\"Pre-Bachelors\",\"CS/IT\",\"to boost my skill set\",\"Student\",\"B+\",\"Mobilink\",\"Prepaid\",\"Desktop\",\"Yes\",\"<3 years ago\",\"Python\",\"Yes\",\"Urbun\",0.0,50.0,164.0,1.0,0],[\"Male\",\"Pakistan\",\"26-30\",\"Masters\",\"Software Eng.\",\"to boost my skill set\",\"Employed\",\"A+\",\"Zong\",\"Prepaid\",\"Apna Laptop\",\"No\",\">3 years ago\",\"Python\",\"Yes\",\"Urbun\",1.0,75.0,170.0,2.0,1],[\"Male\",\"Pakistan\",\"26-30\",\"Masters\",\"Natural Sciences\",\"to boost my skill set\",\"Unemplyed\",\"B+\",\"Mobilink\",\"Prepaid\",\"Apna Laptop\",\"Yes\",\"<3 years ago\",\"Python\",\"Yes\",\"Urbun\",2.0,67.0,171.0,2.0,2],[\"Male\",\"Pakistan\",\"21-25\",\"Pre-Bachelors\",\"Enginnering\",\"Abhi tak pata nahi\",\"Student\",\"B+\",\"Telenor\",\"Prepaid\",\"Apna Laptop\",\"No\",\"In this chilla\",\"Python\",\"Yes\",\"Urbun\",0.0,68.5,173.5,3.0,0],[\"Male\",\"Pakistan\",\"21-25\",\"Bachelors\",\"Natural Sciences\",\"to boost my skill set\",\"Student\",\"B+\",\"Zong\",\"Prepaid\",\"Desktop\",\"Yes\",\"<3 years ago\",\"Python\",\"No\",\"Rural\",0.5,60.0,174.0,2.0,2],[\"Male\",\"West\",\"31-35\",\"Masters\",\"Enginnering\",\"Switch my field of study\",\"Student\",\"B+\",\"International\",\"Postpaid\",\"Apna Laptop\",\"No\",\"<3 years ago\",\"Python\",\"Yes\",\"International\",6.0,71.5,167.1,2.0,0],[\"Male\",\"Pakistan\",\"31-35\",\"Masters\",\"Natural Sciences\",\"Abhi tak pata nahi\",\"Student\",\"B-\",\"Zong\",\"Prepaid\",\"Apna Laptop\",\"No\",\"In this chilla\",\"Julia\",\"Yes\",\"Rural\",6.0,74.0,173.0,6.0,23],[\"Male\",\"India\",\"21-25\",\"Masters\",\"CS/IT\",\"Switch my field of study\",\"Student\",\"O+\",\"Mobilink\",\"Prepaid\",\"Apna Laptop\",\"No\",\"In this chilla\",\"Python\",\"Yes\",\"Rural\",0.0,55.0,168.0,5.0,1],[\"Male\",\"Pakistan\",\"26-30\",\"Masters\",\"Enginnering\",\"to boost my skill set\",\"Employed\",\"O+\",\"Telenor\",\"Prepaid\",\"Apna Laptop\",\"Yes\",\"In this chilla\",\"R\",\"Yes\",\"Rural\",7.0,70.0,178.0,4.0,3],[\"Male\",\"Pakistan\",\"26-30\",\"Bachelors\",\"CS/IT\",\"to boost my skill set\",\"Student\",\"A+\",\"Mobilink\",\"Prepaid\",\"Desktop\",\"No\",\">3 years ago\",\"Python\",\"Yes\",\"Rural\",0.0,72.0,170.688,5.0,2],[\"Male\",\"West\",\"26-30\",\"Bachelors\",\"Enginnering\",\"Switch my field of study\",\"Student\",\"B+\",\"International\",\"Prepaid\",\"Apna Laptop\",\"No\",\"<3 years ago\",\"Python\",\"Yes\",\"International\",3.0,70.0,180.0,1.0,0],[\"Male\",\"Pakistan\",\"26-30\",\"Masters\",\"Natural Sciences\",\"to boost my skill set\",\"Employed\",\"O-\",\"Zong\",\"Prepaid\",\"Apna Laptop\",\"Yes\",\">3 years ago\",\"Python\",\"Yes\",\"Urbun\",1.0,105.0,186.0,1.0,0],[\"Male\",\"Pakistan\",\"31-35\",\"Bachelors\",\"CS/IT\",\"Switch my field of study\",\"Employed\",\"O+\",\"U-fone\",\"Prepaid\",\"Apna Laptop\",\"Yes\",\">3 years ago\",\"Python\",\"Yes\",\"Urbun\",8.0,78.0,173.736,2.0,2],[\"Male\",\"Pakistan\",\"26-30\",\"Masters\",\"Biology\",\"to boost my skill set\",\"Student\",\"A+\",\"Zong\",\"Prepaid\",\"Apna Laptop\",\"No\",\"In this chilla\",\"Python\",\"Yes\",\"Urbun\",2.0,69.5,183.5,6.0,0],[\"Male\",\"Pakistan\",\"21-25\",\"Bachelors\",\"Enginnering\",\"to boost my skill set\",\"Student\",\"AB+\",\"Mobilink\",\"Prepaid\",\"Apna Laptop\",\"Yes\",\">3 years ago\",\"Python\",\"No\",\"Rural\",1.0,65.8,178.0,1.0,0],[\"Male\",\"Pakistan\",\"26-30\",\"Bachelors\",\"Software Eng.\",\"to boost my skill set\",\"Employed\",\"O+\",\"Zong\",\"Prepaid\",\"Apna Laptop\",\"No\",\">3 years ago\",\"Python\",\"Yes\",\"Rural\",4.0,68.0,5.6,3.0,2],[\"Male\",\"Pakistan\",\"21-25\",\"Bachelors\",\"CS/IT\",\"to boost my skill set\",\"Student\",\"A+\",\"U-fone\",\"Prepaid\",\"Apna Laptop\",\"No\",\"<3 years ago\",\"Python\",\"Yes\",\"Urbun\",0.0,60.0,176.0,1.0,4],[\"Male\",\"Pakistan\",\"31-35\",\"Masters\",\"Enginnering\",\"to boost my skill set\",\"Student\",\"B+\",\"Zong\",\"Prepaid\",\"Apna Laptop\",\"Yes\",\">3 years ago\",\"Python\",\"Yes\",\"Rural\",7.0,85.0,173.736,2.0,0],[\"Male\",\"Pakistan\",\"16-20\",\"Pre-Bachelors\",\"CS/IT\",\"to boost my skill set\",\"Student\",\"B+\",\"Telenor\",\"Prepaid\",\"Apna Laptop\",\"Yes\",\"In this chilla\",\"Python\",\"Yes\",\"Rural\",0.0,75.5,2.1,4.0,9],[\"Male\",\"East\",\"26-30\",\"Bachelors\",\"Natural Sciences\",\"to boost my skill set\",\"Student\",\"B+\",\"International\",\"Prepaid\",\"Apna Laptop\",\"No\",\"<3 years ago\",\"Python\",\"Yes\",\"International\",5.0,90.2,164.592,5.0,0],[\"Male\",\"Pakistan\",\"26-30\",\"Masters\",\"CS/IT\",\"Switch my field of study\",\"Student\",\"A-\",\"Mobilink\",\"Prepaid\",\"Apna Laptop\",\"No\",\">3 years ago\",\"Others\",\"Yes\",\"Urbun\",3.0,56.5,175.26,1.0,2],[\"Male\",\"Pakistan\",\"26-30\",\"Bachelors\",\"Enginnering\",\"Switch my field of study\",\"Unemplyed\",\"O+\",\"Zong\",\"Prepaid\",\"Apna Laptop\",\"No\",\"<3 years ago\",\"Python\",\"No\",\"Rural\",1.0,90.0,188.0,5.0,3],[\"Male\",\"West\",\"31-35\",\"Masters\",\"CS/IT\",\"to boost my skill set\",\"Student\",\"B+\",\"International\",\"Prepaid\",\"Apna Laptop\",\"No\",\">3 years ago\",\"Python\",\"Yes\",\"International\",10.0,70.5,5.9,1.0,0],[\"Male\",\"Pakistan\",\"31-35\",\"Masters\",\"Enginnering\",\"to boost my skill set\",\"Employed\",\"B+\",\"Mobilink\",\"Prepaid\",\"Apna Laptop\",\"No\",\"In this chilla\",\"Python\",\"Yes\",\"Urbun\",2.5,78.5,155.7528,3.0,2],[\"Male\",\"Pakistan\",\"21-25\",\"Bachelors\",\"Natural Sciences\",\"to boost my skill set\",\"Student\",\"B+\",\"Zong\",\"Postpaid\",\"Apna Laptop\",\"Yes\",\">3 years ago\",\"Python\",\"Yes\",\"Urbun\",1.0,52.0,162.5,3.0,0],[\"Male\",\"Pakistan\",\"16-20\",\"Bachelors\",\"Natural Sciences\",\"to boost my skill set\",\"Student\",\"O+\",\"Mobilink\",\"Postpaid\",\"Apna Laptop\",\"No\",\"<3 years ago\",\"C++\",\"Yes\",\"Urbun\",0.0,74.0,173.736,0.5,2],[\"Male\",\"West\",\"31-35\",\"Bachelors\",\"Natural Sciences\",\"Switch my field of study\",\"Student\",\"AB+\",\"International\",\"Prepaid\",\"Apna Laptop\",\"No\",\"<3 years ago\",\"Python\",\"Yes\",\"International\",1.0,68.0,167.64,1.0,0],[\"Male\",\"West\",\"31-35\",\"PhD\",\"Enginnering\",\"to boost my skill set\",\"Student\",\"B+\",\"International\",\"Prepaid\",\"Apna Laptop\",\"No\",\"<3 years ago\",\"Python\",\"Yes\",\"International\",2.0,72.0,168.7,1.0,0],[\"Male\",\"Pakistan\",\"16-20\",\"Pre-Bachelors\",\"CS/IT\",\"Switch my field of study\",\"Student\",\"A+\",\"Mobilink\",\"Prepaid\",\"Kisi ka laptop\",\"No\",\"In this chilla\",\"Python\",\"Yes\",\"Rural\",0.0,63.5,5.7,3.0,2],[\"Male\",\"Pakistan\",\"21-25\",\"Pre-Bachelors\",\"CS/IT\",\"to boost my skill set\",\"Student\",\"O+\",\"Telenor\",\"Prepaid\",\"Apna Laptop\",\"No\",\">3 years ago\",\"Python\",\"Yes\",\"Urbun\",1.0,68.2,173.4,3.0,1],[\"Male\",\"Pakistan\",\"26-30\",\"Masters\",\"Enginnering\",\"to boost my skill set\",\"Student\",\"O+\",\"U-fone\",\"Prepaid\",\"Apna Laptop\",\"Yes\",\"<3 years ago\",\"Python\",\"Yes\",\"Urbun\",4.5,82.4,164.3,9.0,0],[\"Male\",\"Pakistan\",\"21-25\",\"Bachelors\",\"CS/IT\",\"to boost my skill set\",\"Student\",\"AB+\",\"Mobilink\",\"Prepaid\",\"Apna Laptop\",\"Yes\",\">3 years ago\",\"Python\",\"Yes\",\"Rural\",0.0,53.0,165.0,1.0,0],[\"Male\",\"Pakistan\",\"26-30\",\"Masters\",\"Business/Economics\",\"to boost my skill set\",\"Unemplyed\",\"B+\",\"Telenor\",\"Prepaid\",\"Apna Laptop\",\"No\",\"In this chilla\",\"Python\",\"Yes\",\"Rural\",3.2,55.0,161.544,5.0,5],[\"Male\",\"Pakistan\",\"31-35\",\"PhD\",\"Enginnering\",\"to boost my skill set\",\"Employed\",\"B-\",\"Telenor\",\"Prepaid\",\"Apna Laptop\",\"No\",\"In this chilla\",\"Python\",\"Yes\",\"Urbun\",3.5,82.5,179.832,3.0,0],[\"Male\",\"Pakistan\",\"16-20\",\"Pre-Bachelors\",\"CS/IT\",\"to boost my skill set\",\"Student\",\"A+\",\"Telenor\",\"Postpaid\",\"Apna Laptop\",\"Yes\",\"In this chilla\",\"C++\",\"Yes\",\"Urbun\",0.0,67.12,164.592,1.0,1],[\"Male\",\"Pakistan\",\"21-25\",\"Bachelors\",\"CS/IT\",\"to boost my skill set\",\"Student\",\"B+\",\"Mobilink\",\"Prepaid\",\"Apna Laptop\",\"Yes\",\"<3 years ago\",\"Python\",\"Yes\",\"Urbun\",0.0,59.5,14.224,2.0,0],[\"Male\",\"Pakistan\",\"36-40\",\"Masters\",\"Others\",\"to boost my skill set\",\"Employed\",\"B+\",\"U-fone\",\"Prepaid\",\"Apna Laptop\",\"No\",\">3 years ago\",\"C#\",\"Yes\",\"Rural\",4.0,70.2,13.7,1.0,9],[\"Male\",\"Pakistan\",\"21-25\",\"Bachelors\",\"Enginnering\",\"Switch my field of study\",\"Unemplyed\",\"O+\",\"Telenor\",\"Prepaid\",\"Apna Laptop\",\"No\",\"In this chilla\",\"Python\",\"Yes\",\"Urbun\",1.0,75.0,188.0,2.0,5],[\"Male\",\"Pakistan\",\"26-30\",\"Masters\",\"Enginnering\",\"to boost my skill set\",\"Employed\",\"B-\",\"U-fone\",\"Prepaid\",\"Kisi ka laptop\",\"Yes\",\">3 years ago\",\"Python\",\"Yes\",\"Rural\",3.0,78.8,170.5,2.0,6],[\"Male\",\"Pakistan\",\"26-30\",\"Bachelors\",\"CS/IT\",\"to boost my skill set\",\"Student\",\"A-\",\"Mobilink\",\"Prepaid\",\"Apna Laptop\",\"No\",\">3 years ago\",\"SQL\",\"Yes\",\"Rural\",1.0,65.0,66.5,5.0,1],[\"Male\",\"West\",\"26-30\",\"Bachelors\",\"Enginnering\",\"Switch my field of study\",\"Unemplyed\",\"B+\",\"International\",\"Prepaid\",\"Apna Laptop\",\"No\",\">3 years ago\",\"Python\",\"Yes\",\"International\",6.0,161.0,173.0,3.0,0],[\"Male\",\"Pakistan\",\"26-30\",\"Bachelors\",\"CS/IT\",\"to boost my skill set\",\"Student\",\"B+\",\"Telenor\",\"Prepaid\",\"Apna Laptop\",\"No\",\">3 years ago\",\"Python\",\"Yes\",\"Rural\",4.0,72.5,5.9,2.0,6],[\"Male\",\"West\",\"31-35\",\"Masters\",\"Natural Sciences\",\"Switch my field of study\",\"Employed\",\"B+\",\"International\",\"Prepaid\",\"Kisi ka laptop\",\"No\",\"In this chilla\",\"Python\",\"Yes\",\"International\",1.3,58.1,167.64,2.0,1],[\"Male\",\"Pakistan\",\"36-40\",\"Masters\",\"Natural Sciences\",\"to boost my skill set\",\"Unemplyed\",\"B+\",\"U-fone\",\"Prepaid\",\"Apna Laptop\",\"No\",\"In this chilla\",\"Python\",\"Yes\",\"Rural\",2.0,80.0,167.64,3.0,3],[\"Male\",\"Pakistan\",\"26-30\",\"Masters\",\"Mathematics\",\"to boost my skill set\",\"Employed\",\"O+\",\"Mobilink\",\"Prepaid\",\"Apna Laptop\",\"No\",\">3 years ago\",\"Python\",\"Yes\",\"Urbun\",1.0,65.0,167.0,1.0,0],[\"Male\",\"Pakistan\",\"26-30\",\"PhD\",\"Biology\",\"to boost my skill set\",\"Student\",\"B+\",\"Mobilink\",\"Prepaid\",\"Apna Laptop\",\"Yes\",\"In this chilla\",\"Python\",\"Yes\",\"Rural\",2.5,68.5,173.0,3.0,8],[\"Male\",\"Pakistan\",\"31-35\",\"Masters\",\"Biology\",\"Switch my field of study\",\"Student\",\"O+\",\"Zong\",\"Postpaid\",\"Apna Laptop\",\"No\",\"In this chilla\",\"Python\",\"Yes\",\"Urbun\",3.0,70.0,161.0,1.0,2],[\"Male\",\"Pakistan\",\"21-25\",\"Bachelors\",\"Enginnering\",\"to boost my skill set\",\"Student\",\"A+\",\"Telenor\",\"Prepaid\",\"Apna Laptop\",\"No\",\"<3 years ago\",\"Python\",\"Yes\",\"Urbun\",0.5,65.0,170.0,3.0,2],[\"Male\",\"Pakistan\",\"26-30\",\"Masters\",\"Biology\",\"to boost my skill set\",\"Student\",\"O+\",\"Telenor\",\"Prepaid\",\"Apna Laptop\",\"No\",\"<3 years ago\",\"Python\",\"Yes\",\"Rural\",6.5,65.5,172.72,4.0,0],[\"Male\",\"Pakistan\",\"21-25\",\"Pre-Bachelors\",\"CS/IT\",\"Switch my field of study\",\"Student\",\"B-\",\"Mobilink\",\"Prepaid\",\"Apna Laptop\",\"Yes\",\">3 years ago\",\"Python\",\"Yes\",\"Urbun\",1.0,85.0,162.56,2.0,5],[\"Male\",\"Pakistan\",\"21-25\",\"Pre-Bachelors\",\"Software Eng.\",\"to boost my skill set\",\"Student\",\"A+\",\"Telenor\",\"Prepaid\",\"Apna Laptop\",\"Yes\",\"<3 years ago\",\"Python\",\"Yes\",\"Rural\",0.0,50.0,170.0,5.0,5],[\"Male\",\"Pakistan\",\"21-25\",\"Bachelors\",\"Business/Economics\",\"to boost my skill set\",\"Unemplyed\",\"B+\",\"Mobilink\",\"Prepaid\",\"Apna Laptop\",\"Yes\",\"In this chilla\",\"Python\",\"Yes\",\"Urbun\",0.7,135.0,185.9,2.0,0],[\"Male\",\"Pakistan\",\"21-25\",\"Pre-Bachelors\",\"Enginnering\",\"to boost my skill set\",\"Employed\",\"O+\",\"Telenor\",\"Prepaid\",\"Desktop\",\"No\",\">3 years ago\",\"Python\",\"Yes\",\"Rural\",0.0,75.0,168.0,2.0,1],[\"Male\",\"Pakistan\",\"16-20\",\"Pre-Bachelors\",\"Others\",\"to boost my skill set\",\"Student\",\"A+\",\"Telenor\",\"Prepaid\",\"Apna Laptop\",\"Yes\",\"In this chilla\",\"Python\",\"Yes\",\"Urbun\",1.0,68.0,182.0,3.0,3],[\"Male\",\"Pakistan\",\"26-30\",\"Masters\",\"Natural Sciences\",\"Switch my field of study\",\"Employed\",\"B+\",\"Mobilink\",\"Prepaid\",\"Apna Laptop\",\"No\",\"<3 years ago\",\"Python\",\"Yes\",\"Urbun\",1.0,75.45,173.0,1.0,2],[\"Male\",\"Pakistan\",\"16-20\",\"Pre-Bachelors\",\"CS/IT\",\"to boost my skill set\",\"Student\",\"AB+\",\"Telenor\",\"Prepaid\",\"Kisi ka laptop\",\"Yes\",\"In this chilla\",\"Python\",\"Yes\",\"Urbun\",0.0,52.0,160.0,3.0,8],[\"Male\",\"Pakistan\",\"21-25\",\"Bachelors\",\"Biology\",\"Switch my field of study\",\"Employed\",\"B+\",\"Mobilink\",\"Prepaid\",\"Desktop\",\"No\",\"In this chilla\",\"Python\",\"Yes\",\"Urbun\",1.0,100.0,155.75,3.0,0],[\"Male\",\"Pakistan\",\"21-25\",\"Masters\",\"Natural Sciences\",\"to boost my skill set\",\"Student\",\"A+\",\"Mobilink\",\"Prepaid\",\"Apna Laptop\",\"Yes\",\"<3 years ago\",\"Python\",\"Yes\",\"Urbun\",1.0,60.0,170.688,3.0,2],[\"Male\",\"Pakistan\",\"21-25\",\"Bachelors\",\"Enginnering\",\"Switch my field of study\",\"Employed\",\"O+\",\"U-fone\",\"Prepaid\",\"Apna Laptop\",\"Yes\",\"In this chilla\",\"Python\",\"Yes\",\"Urbun\",1.0,68.0,173.7,3.0,3],[\"Male\",\"Pakistan\",\"26-30\",\"Bachelors\",\"Enginnering\",\"to boost my skill set\",\"Student\",\"AB+\",\"U-fone\",\"Prepaid\",\"Apna Laptop\",\"Yes\",\">3 years ago\",\"Python\",\"Yes\",\"Urbun\",0.0,65.0,163.5,1.0,2],[\"Male\",\"Pakistan\",\"26-30\",\"Masters\",\"Natural Sciences\",\"to boost my skill set\",\"Student\",\"O+\",\"Mobilink\",\"Prepaid\",\"Apna Laptop\",\"Yes\",\"In this chilla\",\"Python\",\"Yes\",\"Urbun\",3.0,70.0,5.9,2.0,5],[\"Male\",\"Pakistan\",\"21-25\",\"Bachelors\",\"CS/IT\",\"to boost my skill set\",\"Student\",\"A+\",\"Mobilink\",\"Prepaid\",\"Apna Laptop\",\"Yes\",\">3 years ago\",\"Python\",\"Yes\",\"Urbun\",1.5,60.2,170.688,2.0,1],[\"Male\",\"Pakistan\",\"26-30\",\"Bachelors\",\"Software Eng.\",\"Switch my field of study\",\"Employed\",\"O+\",\"Zong\",\"Prepaid\",\"Kisi ka laptop\",\"No\",\">3 years ago\",\"Python\",\"Yes\",\"Urbun\",2.0,65.7,16.51,3.0,2],[\"Male\",\"Pakistan\",\"26-30\",\"Bachelors\",\"Biology\",\"Switch my field of study\",\"Employed\",\"B+\",\"Telenor\",\"Prepaid\",\"Apna Laptop\",\"No\",\"<3 years ago\",\"Python\",\"Yes\",\"Urbun\",3.3,74.0,177.5,2.5,5],[\"Male\",\"Pakistan\",\"31-35\",\"Masters\",\"Biology\",\"Switch my field of study\",\"Student\",\"A+\",\"Mobilink\",\"Prepaid\",\"Apna Laptop\",\"No\",\"In this chilla\",\"Python\",\"Yes\",\"Rural\",8.0,63.0,175.0,1.0,5],[\"Male\",\"Pakistan\",\"26-30\",\"Bachelors\",\"Enginnering\",\"to boost my skill set\",\"Employed\",\"B+\",\"U-fone\",\"Prepaid\",\"Apna Laptop\",\"No\",\">3 years ago\",\"Python\",\"Yes\",\"Rural\",4.0,80.0,180.0,5.0,3],[\"Male\",\"Pakistan\",\"21-25\",\"Bachelors\",\"CS/IT\",\"to boost my skill set\",\"Student\",\"B+\",\"Mobilink\",\"Prepaid\",\"Apna Laptop\",\"No\",\"<3 years ago\",\"C#\",\"Yes\",\"Urbun\",1.0,70.85,160.52,1.0,1],[\"Male\",\"Pakistan\",\"31-35\",\"Masters\",\"Enginnering\",\"to boost my skill set\",\"Student\",\"B+\",\"Zong\",\"Prepaid\",\"Apna Laptop\",\"Yes\",\">3 years ago\",\"Python\",\"Yes\",\"Urbun\",7.0,85.0,173.736,2.0,0],[\"Male\",\"Pakistan\",\"21-25\",\"Pre-Bachelors\",\"CS/IT\",\"to boost my skill set\",\"Student\",\"A+\",\"Mobilink\",\"Prepaid\",\"Apna Laptop\",\"No\",\"In this chilla\",\"Python\",\"Yes\",\"Rural\",0.0,60.0,5.8,3.0,2],[\"Male\",\"West\",\"31-35\",\"Masters\",\"Enginnering\",\"to boost my skill set\",\"Employed\",\"B+\",\"International\",\"Postpaid\",\"Apna Laptop\",\"Yes\",\"In this chilla\",\"Python\",\"Yes\",\"Urbun\",8.0,84.0,173.0,3.0,0],[\"Male\",\"Pakistan\",\"21-25\",\"Bachelors\",\"Enginnering\",\"to boost my skill set\",\"Employed\",\"B+\",\"Zong\",\"Prepaid\",\"Apna Laptop\",\"No\",\"In this chilla\",\"Python\",\"Yes\",\"Rural\",1.0,56.61,176.7,3.0,16],[\"Male\",\"Pakistan\",\"26-30\",\"Masters\",\"Software Eng.\",\"to boost my skill set\",\"Unemplyed\",\"B+\",\"Zong\",\"Prepaid\",\"Apna Laptop\",\"No\",\">3 years ago\",\"Python\",\"Yes\",\"Rural\",1.0,110.0,72.0,2.0,16],[\"Male\",\"Pakistan\",\"26-30\",\"Bachelors\",\"CS/IT\",\"to boost my skill set\",\"Employed\",\"O+\",\"Telenor\",\"Prepaid\",\"Apna Laptop\",\"No\",\">3 years ago\",\"Python\",\"Yes\",\"Urbun\",1.0,63.5,167.64,3.0,2],[\"Male\",\"Pakistan\",\"31-35\",\"Masters\",\"Natural Sciences\",\"Switch my field of study\",\"Student\",\"A+\",\"U-fone\",\"Prepaid\",\"Apna Laptop\",\"Yes\",\"<3 years ago\",\"Python\",\"Yes\",\"Rural\",8.0,88.0,174.0,5.0,20],[\"Male\",\"Pakistan\",\"21-25\",\"Masters\",\"Natural Sciences\",\"Switch my field of study\",\"Unemplyed\",\"O+\",\"U-fone\",\"Prepaid\",\"Kisi ka laptop\",\"No\",\"In this chilla\",\"Python\",\"Yes\",\"Rural\",1.0,68.0,175.0,1.0,3],[\"Male\",\"West\",\"26-30\",\"Masters\",\"CS/IT\",\"to boost my skill set\",\"Unemplyed\",\"AB+\",\"International\",\"Prepaid\",\"Apna Laptop\",\"No\",\">3 years ago\",\"Python\",\"Yes\",\"International\",1.0,65.0,182.88,3.0,0],[\"Male\",\"Pakistan\",\"21-25\",\"Masters\",\"Business/Economics\",\"Switch my field of study\",\"Unemplyed\",\"B+\",\"Mobilink\",\"Postpaid\",\"Kisi ka laptop\",\"No\",\"In this chilla\",\"Python\",\"Yes\",\"Rural\",1.0,61.0,5.2,3.0,5],[\"Male\",\"Pakistan\",\"21-25\",\"Pre-Bachelors\",\"Enginnering\",\"to boost my skill set\",\"Student\",\"B+\",\"Zong\",\"Prepaid\",\"Kisi ka laptop\",\"No\",\"In this chilla\",\"Others\",\"Yes\",\"Rural\",0.0,55.0,5.7,1.0,8],[\"Male\",\"Pakistan\",\"16-20\",\"Pre-Bachelors\",\"CS/IT\",\"to boost my skill set\",\"Student\",\"B+\",\"Mobilink\",\"Prepaid\",\"Apna Laptop\",\"No\",\"<3 years ago\",\"Python\",\"Yes\",\"Urbun\",0.0,53.0,176.0,2.0,4],[\"Male\",\"Pakistan\",\"21-25\",\"Masters\",\"Others\",\"to boost my skill set\",\"Student\",\"A+\",\"Zong\",\"Prepaid\",\"Apna Laptop\",\"No\",\"In this chilla\",\"Python\",\"Yes\",\"Urbun\",1.2,70.0,167.0,5.0,3],[\"Male\",\"Pakistan\",\"21-25\",\"Pre-Bachelors\",\"CS/IT\",\"to boost my skill set\",\"Student\",\"O+\",\"U-fone\",\"Prepaid\",\"Apna Laptop\",\"No\",\"<3 years ago\",\"Python\",\"Yes\",\"Rural\",0.0,48.0,1661.16,2.0,4],[\"Male\",\"Pakistan\",\"31-35\",\"Bachelors\",\"Business/Economics\",\"Switch my field of study\",\"Employed\",\"A+\",\"U-fone\",\"Prepaid\",\"Apna Laptop\",\"Yes\",\"In this chilla\",\"Python\",\"No\",\"Urbun\",7.5,85.0,14.732,3.0,0],[\"Male\",\"Pakistan\",\"31-35\",\"PhD\",\"Biology\",\"to boost my skill set\",\"Employed\",\"B+\",\"U-fone\",\"Prepaid\",\"Apna Laptop\",\"Yes\",\"In this chilla\",\"R\",\"Yes\",\"Urbun\",7.0,79.0,183.0,3.0,2],[\"Male\",\"Pakistan\",\"26-30\",\"Bachelors\",\"CS/IT\",\"to boost my skill set\",\"Unemplyed\",\"B+\",\"Mobilink\",\"Prepaid\",\"Kisi ka laptop\",\"No\",\"<3 years ago\",\"Python\",\"Yes\",\"Urbun\",6.0,66.0,155.448,4.0,2],[\"Male\",\"Pakistan\",\"26-30\",\"Masters\",\"Software Eng.\",\"to boost my skill set\",\"Employed\",\"AB+\",\"Mobilink\",\"Prepaid\",\"Apna Laptop\",\"Yes\",\">3 years ago\",\"Python\",\"Yes\",\"Rural\",0.5,84.0,208.28,1.0,1],[\"Male\",\"Pakistan\",\"21-25\",\"Bachelors\",\"Enginnering\",\"to boost my skill set\",\"Student\",\"B+\",\"U-fone\",\"Prepaid\",\"Apna Laptop\",\"No\",\"In this chilla\",\"Python\",\"Yes\",\"Urbun\",0.0,56.0,160.0,3.0,2],[\"Male\",\"Pakistan\",\"31-35\",\"Masters\",\"Natural Sciences\",\"to boost my skill set\",\"Employed\",\"B+\",\"Telenor\",\"Prepaid\",\"Apna Laptop\",\"No\",\"I don't know how to code\",\"Python\",\"Yes\",\"Rural\",10.0,80.0,173.0,2.0,0],[\"Male\",\"Pakistan\",\"36-40\",\"Masters\",\"CS/IT\",\"to boost my skill set\",\"Employed\",\"AB+\",\"Mobilink\",\"Prepaid\",\"Apna Laptop\",\"No\",\">3 years ago\",\"Python\",\"Yes\",\"Urbun\",5.6,78.5,170.688,3.0,2],[\"Male\",\"Pakistan\",\"21-25\",\"Masters\",\"Natural Sciences\",\"Switch my field of study\",\"Unemplyed\",\"O-\",\"Zong\",\"Prepaid\",\"Desktop\",\"No\",\"In this chilla\",\"Python\",\"Yes\",\"Urbun\",1.0,58.0,172.0,3.0,2],[\"Male\",\"Pakistan\",\"21-25\",\"Bachelors\",\"CS/IT\",\"to boost my skill set\",\"Student\",\"O+\",\"Telenor\",\"Prepaid\",\"Apna Laptop\",\"No\",\"<3 years ago\",\"Python\",\"Yes\",\"Rural\",0.0,53.0,65.0,1.0,12],[\"Male\",\"Pakistan\",\"31-35\",\"Masters\",\"CS/IT\",\"to boost my skill set\",\"Employed\",\"A+\",\"Mobilink\",\"Prepaid\",\"Apna Laptop\",\"Yes\",\"In this chilla\",\"Python\",\"Yes\",\"Rural\",2.5,90.0,1.74,5.0,72],[\"Male\",\"Pakistan\",\"21-25\",\"Bachelors\",\"CS/IT\",\"to boost my skill set\",\"Student\",\"A+\",\"Mobilink\",\"Prepaid\",\"Apna Laptop\",\"No\",\"In this chilla\",\"Python\",\"Yes\",\"Rural\",1.0,52.1,172.72,4.0,5],[\"Male\",\"Pakistan\",\"31-35\",\"PhD\",\"Biology\",\"to boost my skill set\",\"Unemplyed\",\"B-\",\"Telenor\",\"Prepaid\",\"Apna Laptop\",\"Yes\",\"In this chilla\",\"Python\",\"Yes\",\"Urbun\",8.0,85.0,170.6,2.0,16],[\"Male\",\"Pakistan\",\"21-25\",\"Bachelors\",\"Statistics\",\"to boost my skill set\",\"Student\",\"A+\",\"Zong\",\"Prepaid\",\"Apna Laptop\",\"No\",\"In this chilla\",\"Python\",\"Yes\",\"Rural\",0.0,59.5,179.832,4.0,1],[\"Male\",\"Pakistan\",\"31-35\",\"Masters\",\"Enginnering\",\"to boost my skill set\",\"Student\",\"AB-\",\"U-fone\",\"Prepaid\",\"Apna Laptop\",\"No\",\"In this chilla\",\"Python\",\"Yes\",\"Urbun\",5.0,72.5,173.73,3.0,5],[\"Male\",\"Pakistan\",\"21-25\",\"Bachelors\",\"CS/IT\",\"to boost my skill set\",\"Student\",\"A+\",\"Telenor\",\"Prepaid\",\"Apna Laptop\",\"No\",\"<3 years ago\",\"Python\",\"Yes\",\"Rural\",0.0,58.0,58.0,3.0,3],[\"Male\",\"Pakistan\",\"46-60\",\"PhD\",\"Enginnering\",\"to boost my skill set\",\"Employed\",\"O+\",\"Mobilink\",\"Prepaid\",\"Apna Laptop\",\"Yes\",\">3 years ago\",\"Others\",\"Yes\",\"Urbun\",40.0,68.0,170.0,0.0,1],[\"Male\",\"East\",\"36-40\",\"Masters\",\"Enginnering\",\"to boost my skill set\",\"Student\",\"O+\",\"International\",\"Prepaid\",\"Desktop\",\"Yes\",\"In this chilla\",\"Others\",\"Yes\",\"International\",3.5,78.5,163.5,3.0,0],[\"Male\",\"Pakistan\",\"21-25\",\"Bachelors\",\"Business/Economics\",\"to boost my skill set\",\"Employed\",\"B+\",\"Telenor\",\"Prepaid\",\"Apna Laptop\",\"Yes\",\"In this chilla\",\"Others\",\"Yes\",\"Urbun\",3.0,114.0,180.0,0.5,0],[\"Male\",\"Pakistan\",\"21-25\",\"Pre-Bachelors\",\"Enginnering\",\"Switch my field of study\",\"Student\",\"A-\",\"Mobilink\",\"Postpaid\",\"Apna Laptop\",\"No\",\">3 years ago\",\"Python\",\"Yes\",\"Rural\",0.0,72.0,175.0,0.0,8],[\"Male\",\"Pakistan\",\"31-35\",\"Masters\",\"Others\",\"Abhi tak pata nahi\",\"Unemplyed\",\"B+\",\"Zong\",\"Prepaid\",\"Apna Laptop\",\"No\",\"In this chilla\",\"Python\",\"Yes\",\"Rural\",0.0,51.0,155.0,3.0,2],[\"Male\",\"West\",\"15-Jan\",\"Pre-Bachelors\",\"CS/IT\",\"to boost my skill set\",\"Student\",\"A+\",\"International\",\"Prepaid\",\"Apna Laptop\",\"Yes\",\"<3 years ago\",\"Python\",\"No\",\"International\",2.0,45.0,137.16,18.0,0],[\"Male\",\"Pakistan\",\"31-35\",\"Masters\",\"Biology\",\"to boost my skill set\",\"Employed\",\"A+\",\"U-fone\",\"Prepaid\",\"Apna Laptop\",\"Yes\",\"In this chilla\",\"Python\",\"Yes\",\"Urbun\",6.0,58.0,170.0,2.0,0],[\"Male\",\"Pakistan\",\"41-45\",\"Masters\",\"CS/IT\",\"to boost my skill set\",\"Employed\",\"B+\",\"Mobilink\",\"Prepaid\",\"Apna Laptop\",\"No\",\">3 years ago\",\"Python\",\"Yes\",\"Urbun\",16.5,87.0,183.1,3.0,2],[\"Male\",\"Pakistan\",\"21-25\",\"Pre-Bachelors\",\"CS/IT\",\"Switch my field of study\",\"Student\",\"A+\",\"Zong\",\"Prepaid\",\"Apna Laptop\",\"No\",\"In this chilla\",\"Python\",\"Yes\",\"Rural\",0.0,49.0,1.2,3.0,8],[\"Male\",\"Pakistan\",\"21-25\",\"Bachelors\",\"Enginnering\",\"to boost my skill set\",\"Student\",\"B-\",\"U-fone\",\"Prepaid\",\"Apna Laptop\",\"No\",\">3 years ago\",\"Python\",\"Yes\",\"Urbun\",0.0,64.0,170.18,1.0,2],[\"Male\",\"Pakistan\",\"26-30\",\"Masters\",\"CS/IT\",\"to boost my skill set\",\"Employed\",\"B+\",\"Telenor\",\"Prepaid\",\"Desktop\",\"Yes\",\">3 years ago\",\"Javascript\",\"Yes\",\"Urbun\",2.0,74.0,178.0,2.0,0],[\"Male\",\"Pakistan\",\"31-35\",\"Bachelors\",\"Enginnering\",\"to boost my skill set\",\"Employed\",\"B+\",\"Zong\",\"Prepaid\",\"Kisi ka laptop\",\"No\",\">3 years ago\",\"Python\",\"Yes\",\"Rural\",2.0,86.0,88.0,3.0,20],[\"Male\",\"Pakistan\",\"21-25\",\"Bachelors\",\"Natural Sciences\",\"to boost my skill set\",\"Employed\",\"AB+\",\"Telenor\",\"Prepaid\",\"Apna Laptop\",\"No\",\"In this chilla\",\"Python\",\"Yes\",\"Rural\",3.0,65.0,160.4,3.0,2],[\"Male\",\"Pakistan\",\"26-30\",\"Masters\",\"CS/IT\",\"to boost my skill set\",\"Employed\",\"O+\",\"Mobilink\",\"Postpaid\",\"Apna Laptop\",\"Yes\",\"<3 years ago\",\"Python\",\"Yes\",\"Urbun\",1.4,82.0,155.65,3.0,1],[\"Male\",\"Pakistan\",\"41-45\",\"Masters\",\"Others\",\"to boost my skill set\",\"Employed\",\"B+\",\"U-fone\",\"Prepaid\",\"Apna Laptop\",\"Yes\",\"In this chilla\",\"Python\",\"Yes\",\"Urbun\",2.0,70.0,14.478,3.0,1],[\"Male\",\"India\",\"26-30\",\"Masters\",\"Natural Sciences\",\"to boost my skill set\",\"Student\",\"B+\",\"International\",\"Prepaid\",\"Apna Laptop\",\"No\",\"In this chilla\",\"Python\",\"Yes\",\"Rural\",4.0,61.0,168.0,5.0,0],[\"Male\",\"Pakistan\",\"31-35\",\"Masters\",\"CS/IT\",\"to boost my skill set\",\"Employed\",\"AB+\",\"Telenor\",\"Prepaid\",\"Desktop\",\"No\",\"<3 years ago\",\"Python\",\"Yes\",\"Rural\",3.0,55.0,177.8,2.0,0],[\"Male\",\"Pakistan\",\"31-35\",\"PhD\",\"Natural Sciences\",\"to boost my skill set\",\"Student\",\"B-\",\"U-fone\",\"Prepaid\",\"Apna Laptop\",\"No\",\"In this chilla\",\"Python\",\"Yes\",\"Urbun\",2.0,65.0,172.0,2.0,4],[\"Male\",\"Pakistan\",\"36-40\",\"Masters\",\"CS/IT\",\"to boost my skill set\",\"Student\",\"A+\",\"U-fone\",\"Prepaid\",\"Apna Laptop\",\"No\",\"In this chilla\",\"Python\",\"Yes\",\"Rural\",0.0,69.1,70.1,3.0,36],[\"Male\",\"Pakistan\",\"26-30\",\"Masters\",\"Natural Sciences\",\"to boost my skill set\",\"Student\",\"AB+\",\"U-fone\",\"Prepaid\",\"Apna Laptop\",\"No\",\"I don't know how to code\",\"Python\",\"Yes\",\"Rural\",1.5,66.5,164.5,1.0,0],[\"Male\",\"Pakistan\",\"26-30\",\"Masters\",\"Enginnering\",\"to boost my skill set\",\"Student\",\"B+\",\"Zong\",\"Postpaid\",\"Apna Laptop\",\"No\",\"<3 years ago\",\"Python\",\"Yes\",\"Urbun\",5.0,92.0,175.0,2.0,5],[\"Male\",\"Pakistan\",\"31-35\",\"Masters\",\"CS/IT\",\"to boost my skill set\",\"Employed\",\"A+\",\"Mobilink\",\"Prepaid\",\"Apna Laptop\",\"Yes\",\"In this chilla\",\"Python\",\"Yes\",\"Rural\",2.5,90.0,14.734,5.0,72],[\"Male\",\"Pakistan\",\"21-25\",\"Bachelors\",\"CS/IT\",\"to boost my skill set\",\"Student\",\"AB+\",\"Zong\",\"Postpaid\",\"Apna Laptop\",\"No\",\"<3 years ago\",\"Python\",\"No\",\"Urbun\",2.0,31.75,161.9,3.0,0],[\"Male\",\"Pakistan\",\"26-30\",\"Masters\",\"Natural Sciences\",\"to boost my skill set\",\"Employed\",\"A+\",\"Telenor\",\"Postpaid\",\"Apna Laptop\",\"Yes\",\"In this chilla\",\"Python\",\"Yes\",\"Urbun\",5.0,65.6,164.4,3.0,5],[\"Male\",\"Pakistan\",\"21-25\",\"Bachelors\",\"Natural Sciences\",\"Abhi tak pata nahi\",\"Student\",\"B+\",\"Mobilink\",\"Postpaid\",\"Apna Laptop\",\"No\",\"In this chilla\",\"Python\",\"Yes\",\"Rural\",2.0,67.0,167.0,6.0,0],[\"Male\",\"Pakistan\",\"31-35\",\"Masters\",\"Others\",\"Switch my field of study\",\"Unemplyed\",\"O+\",\"Mobilink\",\"Prepaid\",\"Kisi ka laptop\",\"No\",\"In this chilla\",\"Python\",\"Yes\",\"Rural\",1.0,58.0,170.0,2.0,3],[\"Male\",\"West\",\"31-35\",\"Masters\",\"Enginnering\",\"to boost my skill set\",\"Employed\",\"B+\",\"International\",\"Prepaid\",\"Apna Laptop\",\"No\",\">3 years ago\",\"C++\",\"Yes\",\"International\",10.5,79.75,182.0,1.0,0],[\"Male\",\"Pakistan\",\"26-30\",\"Masters\",\"Natural Sciences\",\"to boost my skill set\",\"Student\",\"B+\",\"Zong\",\"Prepaid\",\"Apna Laptop\",\"No\",\"In this chilla\",\"Python\",\"Yes\",\"Urbun\",1.0,92.0,171.0,3.0,6],[\"Male\",\"Pakistan\",\"31-35\",\"PhD\",\"Biology\",\"Switch my field of study\",\"Unemplyed\",\"B+\",\"Telenor\",\"Prepaid\",\"Apna Laptop\",\"Yes\",\">3 years ago\",\"Python\",\"Yes\",\"Rural\",3.0,80.0,5.8,3.0,18],[\"Male\",\"Pakistan\",\"26-30\",\"Bachelors\",\"Enginnering\",\"Switch my field of study\",\"Employed\",\"AB+\",\"Zong\",\"Prepaid\",\"Apna Laptop\",\"No\",\">3 years ago\",\"Python\",\"Yes\",\"Rural\",0.0,65.0,170.688,4.0,10],[\"Male\",\"West\",\"26-30\",\"PhD\",\"Natural Sciences\",\"to boost my skill set\",\"Employed\",\"B+\",\"International\",\"Prepaid\",\"Apna Laptop\",\"No\",\"In this chilla\",\"Python\",\"Yes\",\"International\",5.0,65.0,175.0,4.0,0],[\"Male\",\"West\",\"21-25\",\"Masters\",\"CS/IT\",\"to boost my skill set\",\"Student\",\"O+\",\"International\",\"Postpaid\",\"Apna Laptop\",\"Yes\",\">3 years ago\",\"Python\",\"Yes\",\"International\",1.0,75.0,165.0,3.0,0],[\"Male\",\"Pakistan\",\"36-40\",\"Bachelors\",\"CS/IT\",\"to boost my skill set\",\"Employed\",\"A+\",\"Zong\",\"Prepaid\",\"Apna Laptop\",\"No\",\">3 years ago\",\"Python\",\"Yes\",\"Urbun\",11.3,86.34,179.83,1.0,3],[\"Male\",\"Pakistan\",\"41-45\",\"Masters\",\"Software Eng.\",\"to boost my skill set\",\"Employed\",\"B+\",\"Mobilink\",\"Prepaid\",\"Apna Laptop\",\"Yes\",\"<3 years ago\",\"C#\",\"Yes\",\"Urbun\",15.0,75.0,170.688,16.0,1],[\"Male\",\"Pakistan\",\"21-25\",\"Bachelors\",\"Enginnering\",\"to boost my skill set\",\"Student\",\"B+\",\"Mobilink\",\"Prepaid\",\"Apna Laptop\",\"No\",\"<3 years ago\",\"Python\",\"Yes\",\"Urbun\",0.0,70.0,155.0,1.0,0],[\"Male\",\"East\",\"16-20\",\"Pre-Bachelors\",\"Business/Economics\",\"Switch my field of study\",\"Student\",\"B+\",\"International\",\"Prepaid\",\"Desktop\",\"No\",\"I don't know how to code\",\"Python\",\"No\",\"Urbun\",0.0,64.0,178.0,3.0,12],[\"Male\",\"Pakistan\",\"26-30\",\"Bachelors\",\"CS/IT\",\"to boost my skill set\",\"Student\",\"B+\",\"Telenor\",\"Prepaid\",\"Apna Laptop\",\"No\",\">3 years ago\",\"Python\",\"Yes\",\"Rural\",0.0,64.0,168.0,0.0,8],[\"Male\",\"Pakistan\",\"21-25\",\"Bachelors\",\"CS/IT\",\"to boost my skill set\",\"Student\",\"A+\",\"Mobilink\",\"Prepaid\",\"Apna Laptop\",\"No\",\"In this chilla\",\"Python\",\"Yes\",\"Rural\",1.0,52.1,172.72,3.0,5],[\"Male\",\"Pakistan\",\"31-35\",\"PhD\",\"Natural Sciences\",\"to boost my skill set\",\"Employed\",\"B+\",\"U-fone\",\"Prepaid\",\"Apna Laptop\",\"Yes\",\"In this chilla\",\"Python\",\"Yes\",\"Rural\",2.0,85.5,168.0,2.0,0],[\"Male\",\"Pakistan\",\"21-25\",\"Masters\",\"Mathematics\",\"to boost my skill set\",\"Student\",\"O+\",\"Zong\",\"Prepaid\",\"Apna Laptop\",\"No\",\"In this chilla\",\"Python\",\"Yes\",\"Rural\",2.0,76.0,1.74,5.0,6],[\"Male\",\"Pakistan\",\"21-25\",\"Pre-Bachelors\",\"CS/IT\",\"to boost my skill set\",\"Student\",\"A+\",\"Mobilink\",\"Prepaid\",\"Apna Laptop\",\"No\",\"In this chilla\",\"Python\",\"Yes\",\"Rural\",0.0,60.0,5.8,3.0,1],[\"Male\",\"Pakistan\",\"26-30\",\"Bachelors\",\"Enginnering\",\"to boost my skill set\",\"Employed\",\"AB+\",\"U-fone\",\"Prepaid\",\"Apna Laptop\",\"No\",\"<3 years ago\",\"C#\",\"Yes\",\"Urbun\",3.0,67.5,185.9,1.0,0],[\"Male\",\"Pakistan\",\"26-30\",\"Bachelors\",\"Enginnering\",\"Switch my field of study\",\"Employed\",\"B+\",\"U-fone\",\"Prepaid\",\"Apna Laptop\",\"Yes\",\">3 years ago\",\"Python\",\"Yes\",\"Urbun\",5.0,60.5,182.88,2.0,1],[\"Male\",\"Pakistan\",\"31-35\",\"Masters\",\"Enginnering\",\"Switch my field of study\",\"Employed\",\"A+\",\"Zong\",\"Prepaid\",\"Apna Laptop\",\"Yes\",\"In this chilla\",\"Python\",\"Yes\",\"Urbun\",7.0,60.5,172.0,1.0,3],[\"Male\",\"Pakistan\",\"31-35\",\"Masters\",\"CS/IT\",\"Switch my field of study\",\"Employed\",\"O+\",\"Mobilink\",\"Prepaid\",\"Apna Laptop\",\"Yes\",\">3 years ago\",\"C#\",\"Yes\",\"Urbun\",5.0,78.0,174.0,4.0,3],[\"Male\",\"Pakistan\",\"26-30\",\"Masters\",\"Biology\",\"to boost my skill set\",\"Student\",\"AB+\",\"Mobilink\",\"Prepaid\",\"Apna Laptop\",\"Yes\",\"In this chilla\",\"Python\",\"Yes\",\"Urbun\",0.0,90.0,180.0,3.0,3],[\"Male\",\"Pakistan\",\"26-30\",\"Masters\",\"Biology\",\"to boost my skill set\",\"Student\",\"B+\",\"Telenor\",\"Prepaid\",\"Apna Laptop\",\"No\",\"In this chilla\",\"Python\",\"Yes\",\"Rural\",2.0,70.0,175.26,3.0,6],[\"Male\",\"Pakistan\",\"31-35\",\"Bachelors\",\"Enginnering\",\"to boost my skill set\",\"Employed\",\"B+\",\"U-fone\",\"Prepaid\",\"Apna Laptop\",\"No\",\"In this chilla\",\"Python\",\"Yes\",\"Urbun\",7.5,72.0,170.0,2.0,4],[\"Male\",\"Pakistan\",\"16-20\",\"Pre-Bachelors\",\"CS/IT\",\"to boost my skill set\",\"Student\",\"B+\",\"Zong\",\"Prepaid\",\"Desktop\",\"Yes\",\"<3 years ago\",\"Python\",\"Yes\",\"Urbun\",0.0,70.5,167.6,2.0,8],[\"Male\",\"Pakistan\",\"26-30\",\"Bachelors\",\"Enginnering\",\"Abhi tak pata nahi\",\"Student\",\"A+\",\"Telenor\",\"Prepaid\",\"Apna Laptop\",\"No\",\"In this chilla\",\"Python\",\"Yes\",\"Urbun\",0.0,54.0,139.5,3.0,18],[\"Male\",\"Pakistan\",\"26-30\",\"Bachelors\",\"CS/IT\",\"to boost my skill set\",\"Unemplyed\",\"B+\",\"Mobilink\",\"Prepaid\",\"Kisi ka laptop\",\"No\",\">3 years ago\",\"Python\",\"Yes\",\"Urbun\",6.2,66.0,177.8,4.0,0],[\"Male\",\"Pakistan\",\"36-40\",\"Masters\",\"CS/IT\",\"Switch my field of study\",\"Employed\",\"O+\",\"Mobilink\",\"Prepaid\",\"Apna Laptop\",\"No\",\"<3 years ago\",\"C#\",\"Yes\",\"Urbun\",5.0,84.0,5.1,1.0,0],[\"Male\",\"West\",\"31-35\",\"Masters\",\"Natural Sciences\",\"to boost my skill set\",\"Student\",\"A+\",\"International\",\"Postpaid\",\"Apna Laptop\",\"No\",\"<3 years ago\",\"Python\",\"Yes\",\"International\",0.0,63.0,184.0,3.0,0],[\"Male\",\"Pakistan\",\"26-30\",\"Bachelors\",\"Enginnering\",\"to boost my skill set\",\"Unemplyed\",\"A+\",\"Telenor\",\"Prepaid\",\"Apna Laptop\",\"No\",\"<3 years ago\",\"Python\",\"Yes\",\"Rural\",3.0,68.7,178.3,2.0,0],[\"Male\",\"Pakistan\",\"36-40\",\"Bachelors\",\"Enginnering\",\"Switch my field of study\",\"Employed\",\"B+\",\"U-fone\",\"Prepaid\",\"Kisi ka laptop\",\"No\",\"In this chilla\",\"Python\",\"Yes\",\"Urbun\",8.0,68.5,182.8,1.0,3],[\"Male\",\"Pakistan\",\"26-30\",\"Bachelors\",\"CS/IT\",\"to boost my skill set\",\"Employed\",\"A+\",\"Mobilink\",\"Prepaid\",\"Apna Laptop\",\"No\",\"<3 years ago\",\"SQL\",\"Yes\",\"Urbun\",3.0,78.0,173.0,1.0,4],[\"Male\",\"Pakistan\",\"26-30\",\"Bachelors\",\"Natural Sciences\",\"to boost my skill set\",\"Student\",\"O+\",\"Mobilink\",\"Prepaid\",\"Apna Laptop\",\"No\",\"In this chilla\",\"Python\",\"Yes\",\"Rural\",1.5,50.0,174.0,3.0,1],[\"Male\",\"Pakistan\",\"31-35\",\"Masters\",\"CS/IT\",\"to boost my skill set\",\"Employed\",\"AB+\",\"Telenor\",\"Prepaid\",\"Desktop\",\"No\",\"<3 years ago\",\"Python\",\"Yes\",\"Rural\",3.0,55.0,177.8,1.0,5],[\"Male\",\"Pakistan\",\"16-20\",\"Pre-Bachelors\",\"Natural Sciences\",\"to boost my skill set\",\"Student\",\"B+\",\"Mobilink\",\"Prepaid\",\"Apna Laptop\",\"No\",\"<3 years ago\",\"Python\",\"Yes\",\"Rural\",0.0,64.0,166.0,3.0,4],[\"Male\",\"Pakistan\",\"26-30\",\"Bachelors\",\"Business/Economics\",\"Switch my field of study\",\"Unemplyed\",\"B+\",\"U-fone\",\"Prepaid\",\"Apna Laptop\",\"No\",\"In this chilla\",\"Python\",\"Yes\",\"Rural\",1.5,67.0,156.0,3.0,5],[\"Male\",\"Pakistan\",\"31-35\",\"Bachelors\",\"Business/Economics\",\"Switch my field of study\",\"Employed\",\"A+\",\"U-fone\",\"Prepaid\",\"Apna Laptop\",\"Yes\",\"In this chilla\",\"Python\",\"No\",\"Urbun\",7.0,85.0,14.732,3.0,0],[\"Male\",\"Pakistan\",\"26-30\",\"Bachelors\",\"CS/IT\",\"to boost my skill set\",\"Unemplyed\",\"B+\",\"Mobilink\",\"Prepaid\",\"Kisi ka laptop\",\"No\",\">3 years ago\",\"Python\",\"Yes\",\"Urbun\",6.0,66.5,177.8,5.0,0],[\"Male\",\"Pakistan\",\"21-25\",\"Masters\",\"Enginnering\",\"to boost my skill set\",\"Student\",\"B+\",\"Zong\",\"Prepaid\",\"Apna Laptop\",\"Yes\",\"<3 years ago\",\"Python\",\"Yes\",\"Rural\",4.0,75.0,178.0,1.0,2],[\"Male\",\"Pakistan\",\"26-30\",\"Bachelors\",\"CS/IT\",\"to boost my skill set\",\"Unemplyed\",\"B+\",\"Zong\",\"Prepaid\",\"Apna Laptop\",\"No\",\"In this chilla\",\"Javascript\",\"Yes\",\"Urbun\",1.0,70.0,14.478,5.0,15],[\"Male\",\"West\",\"26-30\",\"Masters\",\"Enginnering\",\"to boost my skill set\",\"Student\",\"B+\",\"International\",\"Prepaid\",\"Apna Laptop\",\"No\",\">3 years ago\",\"Python\",\"Yes\",\"International\",1.5,85.0,178.0,4.0,0],[\"Male\",\"Pakistan\",\"21-25\",\"Bachelors\",\"Enginnering\",\"to boost my skill set\",\"Unemplyed\",\"A+\",\"Zong\",\"Prepaid\",\"Apna Laptop\",\"Yes\",\"In this chilla\",\"Python\",\"Yes\",\"Urbun\",0.0,60.0,175.0,2.0,0],[\"Male\",\"Pakistan\",\"26-30\",\"Masters\",\"Mathematics\",\"to boost my skill set\",\"Student\",\"B+\",\"Telenor\",\"Postpaid\",\"Apna Laptop\",\"No\",\">3 years ago\",\"Python\",\"Yes\",\"Urbun\",0.5,75.55,167.65,10.0,4],[\"Male\",\"Pakistan\",\"21-25\",\"Bachelors\",\"CS/IT\",\"to boost my skill set\",\"Employed\",\"AB-\",\"Mobilink\",\"Prepaid\",\"Apna Laptop\",\"No\",\"<3 years ago\",\"Python\",\"Yes\",\"Rural\",2.0,70.0,178.0,3.0,1],[\"Male\",\"Pakistan\",\"26-30\",\"Masters\",\"Enginnering\",\"to boost my skill set\",\"Employed\",\"O+\",\"Telenor\",\"Prepaid\",\"Apna Laptop\",\"Yes\",\"In this chilla\",\"R\",\"Yes\",\"Rural\",7.0,70.5,178.5,4.0,3],[\"Male\",\"Pakistan\",\"31-35\",\"Bachelors\",\"Enginnering\",\"to boost my skill set\",\"Employed\",\"A+\",\"Zong\",\"Postpaid\",\"Apna Laptop\",\"Yes\",\">3 years ago\",\"Python\",\"Yes\",\"Urbun\",5.0,83.4,172.7,1.0,1],[\"Male\",\"Pakistan\",\"21-25\",\"Bachelors\",\"CS/IT\",\"to boost my skill set\",\"Employed\",\"O+\",\"Mobilink\",\"Prepaid\",\"Apna Laptop\",\"No\",\">3 years ago\",\"Python\",\"Yes\",\"Urbun\",0.0,60.0,1.68,0.0,0],[\"Male\",\"Pakistan\",\"26-30\",\"Masters\",\"Enginnering\",\"to boost my skill set\",\"Employed\",\"B-\",\"Mobilink\",\"Prepaid\",\"Apna Laptop\",\"No\",\"<3 years ago\",\"Python\",\"No\",\"Urbun\",2.0,86.0,180.0,2.0,1]],\"hovertemplate\":\"Gender=%{customdata[0]}<br>Marital Status?=%{x}<br>Age=%{y}<br>Location=%{customdata[1]}<br>Age_range=%{customdata[2]}<br>Qualification=%{customdata[3]}<br>field_of_study=%{customdata[4]}<br>Purpose_for_chilla=%{customdata[5]}<br>Work_status=%{customdata[6]}<br>Blood_group =%{customdata[7]}<br>Mobile_sim=%{customdata[8]}<br>Sim_type=%{customdata[9]}<br>PC_status=%{customdata[10]}<br>Glasses_wear=%{customdata[11]}<br>When did you write your first line of code?=%{customdata[12]}<br>Your favorite programming language?=%{customdata[13]}<br>Are you Vaccinated?=%{customdata[14]}<br>Where do you live?=%{customdata[15]}<br>Working experience=%{customdata[16]}<br>Weight_in_kg=%{customdata[17]}<br>Height_in_cm=%{customdata[18]}<br>How many hours you code a day? (int) =%{customdata[19]}<br>Light kitni der band hti hy? int=%{customdata[20]}<extra></extra>\",\"legendgroup\":\"Male\",\"marker\":{\"color\":\"#636efa\"},\"name\":\"Male\",\"offsetgroup\":\"Male\",\"orientation\":\"v\",\"points\":\"all\",\"scalegroup\":\"True\",\"showlegend\":true,\"x\":[\"Yes\",\"No\",\"Yes\",\"Yes\",\"No\",\"Yes\",\"No\",\"No\",\"No\",\"No\",\"No\",\"No\",\"No\",\"Yes\",\"No\",\"No\",\"No\",\"Yes\",\"Yes\",\"No\",\"No\",\"No\",\"No\",\"No\",\"Yes\",\"No\",\"No\",\"No\",\"Yes\",\"No\",\"No\",\"No\",\"No\",\"No\",\"No\",\"Yes\",\"Yes\",\"Yes\",\"No\",\"Yes\",\"Yes\",\"Yes\",\"No\",\"Yes\",\"No\",\"No\",\"Yes\",\"No\",\"Yes\",\"Yes\",\"No\",\"No\",\"Yes\",\"Yes\",\"No\",\"No\",\"Yes\",\"No\",\"Yes\",\"No\",\"Yes\",\"No\",\"No\",\"Yes\",\"No\",\"No\",\"No\",\"No\",\"No\",\"No\",\"No\",\"No\",\"No\",\"No\",\"Yes\",\"No\",\"Yes\",\"No\",\"No\",\"Yes\",\"No\",\"No\",\"Yes\",\"Yes\",\"Yes\",\"No\",\"No\",\"No\",\"No\",\"No\",\"No\",\"No\",\"No\",\"No\",\"Yes\",\"Yes\",\"No\",\"Yes\",\"Yes\",\"Yes\",\"No\",\"No\",\"Yes\",\"Yes\",\"Yes\",\"Yes\",\"No\",\"No\",\"No\",\"Yes\",\"No\",\"Yes\",\"No\",\"No\",\"No\",\"No\",\"No\",\"Yes\",\"Yes\",\"No\",\"No\",\"No\",\"No\",\"Yes\",\"Yes\",\"Yes\",\"Yes\",\"No\",\"Yes\",\"No\",\"No\",\"Yes\",\"No\",\"No\",\"No\",\"No\",\"No\",\"No\",\"Yes\",\"No\",\"No\",\"No\",\"Yes\",\"No\",\"No\",\"No\",\"No\",\"No\",\"No\",\"No\",\"No\",\"No\",\"Yes\",\"No\",\"No\",\"No\",\"Yes\",\"Yes\",\"No\",\"No\",\"Yes\",\"No\",\"No\",\"Yes\",\"No\",\"No\",\"Yes\",\"No\",\"No\",\"No\",\"No\",\"No\",\"Yes\",\"Yes\",\"No\",\"No\",\"No\",\"No\",\"Yes\",\"No\",\"No\",\"Yes\",\"No\",\"No\",\"Yes\",\"No\",\"No\",\"No\",\"No\",\"No\",\"Yes\",\"No\",\"No\",\"No\",\"Yes\",\"Yes\",\"No\",\"No\",\"No\",\"Yes\",\"No\",\"No\",\"No\",\"Yes\",\"No\",\"No\",\"No\",\"No\",\"No\",\"No\",\"No\",\"Yes\",\"Yes\",\"No\",\"No\",\"Yes\",\"Yes\",\"Yes\",\"No\",\"No\",\"Yes\",\"No\",\"Yes\",\"No\",\"Yes\",\"No\",\"Yes\",\"Yes\",\"No\",\"No\",\"Yes\",\"No\",\"Yes\",\"Yes\",\"No\",\"No\",\"No\",\"No\",\"No\",\"No\",\"Yes\",\"No\",\"Yes\",\"No\",\"Yes\",\"No\",\"No\",\"Yes\",\"No\",\"Yes\",\"No\",\"Yes\",\"No\",\"Yes\",\"Yes\",\"No\",\"No\",\"No\",\"Yes\",\"Yes\",\"No\",\"No\",\"Yes\",\"No\",\"Yes\",\"No\",\"No\",\"No\",\"No\",\"Yes\",\"No\",\"No\",\"No\",\"Yes\",\"No\",\"No\",\"No\",\"Yes\",\"Yes\",\"No\",\"Yes\",\"No\",\"No\",\"Yes\",\"No\",\"No\",\"Yes\",\"No\",\"No\",\"No\",\"No\",\"No\",\"Yes\",\"No\",\"Yes\",\"Yes\",\"No\",\"No\"],\"x0\":\" \",\"xaxis\":\"x\",\"y\":[38.0,25.0,31.34,36.0,0.0,27.0,22.2,24.0,25.0,27.0,22.5,24.0,25.0,33.0,33.0,30.0,25.0,31.0,33.0,21.0,30.0,24.0,30.0,25.0,33.0,33.9,30.0,26.0,31.0,29.0,21.0,23.0,24.3,28.0,26.0,31.0,31.0,33.0,20.0,32.75,34.0,29.0,27.0,18.0,26.3,25.0,36.0,38.0,35.0,32.0,26.5,21.0,33.0,25.0,27.75,26.0,28.0,19.5,29.8,21.0,35.0,28.0,29.0,32.2,25.0,20.0,0.0,22.0,26.0,27.9,18.0,25.0,19.0,30.4,32.0,31.0,28.0,27.0,28.11,32.8,25.0,26.5,40.0,42.0,29.0,90.0,23.0,21.0,25.0,20.0,26.11,22.6,27.0,24.0,27.0,29.25,26.0,41.0,37.0,30.0,29.0,29.0,20.0,29.0,43.0,44.8,25.0,30.0,21.0,26.0,27.0,39.5,30.5,2.0,19.0,29.0,25.0,22.0,27.0,24.0,24.0,26.0,25.0,31.2,51.0,34.25,33.0,23.5,26.0,27.0,21.0,28.0,25.0,21.6,22.0,31.5,32.0,24.0,28.0,27.0,28.0,26.0,33.0,30.0,24.1,26.0,22.0,33.0,19.0,26.0,26.0,26.0,34.0,34.0,24.0,19.8,33.0,31.0,22.0,22.0,30.4,23.0,30.1,31.5,20.0,23.0,38.0,25.0,30.0,26.0,28.0,28.0,31.04,40.0,30.0,28.0,31.0,23.0,29.0,23.0,24.0,25.2,23.0,20.0,30.0,19.0,24.0,25.0,24.0,29.0,27.0,23.0,26.3,26.95,33.0,30.0,23.0,33.0,21.0,35.0,24.6,27.0,28.0,34.9,22.0,26.0,25.0,23.0,20.0,22.9,22.0,32.0,32.0,29.0,28.0,24.0,35.0,35.11,23.0,20.0,31.0,21.0,31.0,23.4,32.0,22.0,68.0,36.5,25.0,21.0,0.0,11.0,31.0,43.0,22.0,25.0,25.0,32.0,24.0,25.0,42.0,30.0,32.0,31.0,37.0,27.3,29.0,31.0,22.0,26.0,21.0,32.0,10.5,27.5,25.0,25.0,29.0,25.0,40.1,42.0,22.0,20.0,26.0,21.0,32.7,26.0,21.0,26.5,27.0,31.0,35.0,29.0,28.0,32.0,20.0,24.0,29.0,38.0,31.0,26.6,36.0,27.0,26.0,32.0,20.0,27.0,32.0,29.0,25.0,28.0,28.0,24.0,30.0,24.0,28.0,33.0,22.8,29.0],\"y0\":\" \",\"yaxis\":\"y\",\"type\":\"violin\"},{\"alignmentgroup\":\"True\",\"box\":{\"visible\":true},\"customdata\":[[\"Female\",\"Pakistan\",\"31-35\",\"Masters\",\"CS/IT\",\"to boost my skill set\",\"Employed\",\"O+\",\"U-fone\",\"Postpaid\",\"Apna Laptop\",\"No\",\"<3 years ago\",\"Python\",\"Yes\",\"Urbun\",5.0,60.0,157.0,3.0,24],[\"Female\",\"Pakistan\",\"26-30\",\"Masters\",\"Enginnering\",\"to boost my skill set\",\"Student\",\"A-\",\"Mobilink\",\"Prepaid\",\"Apna Laptop\",\"Yes\",\"In this chilla\",\"Javascript\",\"Yes\",\"Rural\",3.5,59.9,164.544,6.0,12],[\"Female\",\"West\",\"26-30\",\"Masters\",\"Others\",\"Switch my field of study\",\"Student\",\"A+\",\"International\",\"Prepaid\",\"Apna Laptop\",\"No\",\"<3 years ago\",\"Python\",\"Yes\",\"International\",3.0,64.21,158.496,2.0,0],[\"Female\",\"West\",\"21-25\",\"Bachelors\",\"Biology\",\"Switch my field of study\",\"Student\",\"AB+\",\"International\",\"Prepaid\",\"Apna Laptop\",\"Yes\",\"In this chilla\",\"Python\",\"Yes\",\"International\",2.0,69.0,174.0,3.0,0],[\"Female\",\"Pakistan\",\"26-30\",\"Masters\",\"Natural Sciences\",\"to boost my skill set\",\"Student\",\"B+\",\"Mobilink\",\"Prepaid\",\"Apna Laptop\",\"Yes\",\"In this chilla\",\"Python\",\"Yes\",\"Urbun\",4.0,60.0,160.0,3.0,2],[\"Female\",\"Pakistan\",\"26-30\",\"Masters\",\"Enginnering\",\"to boost my skill set\",\"Unemplyed\",\"B+\",\"U-fone\",\"Prepaid\",\"Apna Laptop\",\"Yes\",\"<3 years ago\",\"Python\",\"Yes\",\"Urbun\",1.5,47.0,163.0,2.0,0],[\"Female\",\"Pakistan\",\"26-30\",\"Masters\",\"Software Eng.\",\"to boost my skill set\",\"Employed\",\"O+\",\"Mobilink\",\"Prepaid\",\"Apna Laptop\",\"No\",\">3 years ago\",\"Others\",\"Yes\",\"Urbun\",7.0,50.0,170.18,4.0,4],[\"Female\",\"Pakistan\",\"26-30\",\"Bachelors\",\"CS/IT\",\"to boost my skill set\",\"Unemplyed\",\"B+\",\"Mobilink\",\"Prepaid\",\"Kisi ka laptop\",\"No\",\">3 years ago\",\"C++\",\"Yes\",\"Urbun\",3.0,50.0,5.0,1.0,5],[\"Female\",\"West\",\"31-35\",\"Masters\",\"Enginnering\",\"to boost my skill set\",\"Student\",\"B+\",\"International\",\"Prepaid\",\"Apna Laptop\",\"Yes\",\"<3 years ago\",\"Python\",\"Yes\",\"International\",6.0,60.0,156.0,1.0,0],[\"Female\",\"Pakistan\",\"26-30\",\"PhD\",\"CS/IT\",\"to boost my skill set\",\"Employed\",\"B+\",\"U-fone\",\"Prepaid\",\"Apna Laptop\",\"No\",\"<3 years ago\",\"Python\",\"Yes\",\"Urbun\",4.0,80.0,5.7,2.0,16],[\"Female\",\"Pakistan\",\"31-35\",\"Masters\",\"Others\",\"Switch my field of study\",\"Employed\",\"B+\",\"Telenor\",\"Prepaid\",\"Apna Laptop\",\"No\",\">3 years ago\",\"Python\",\"Yes\",\"Urbun\",7.5,98.0,157.48,1.0,1],[\"Female\",\"Pakistan\",\"36-40\",\"Bachelors\",\"CS/IT\",\"to boost my skill set\",\"Unemplyed\",\"O+\",\"U-fone\",\"Postpaid\",\"Apna Laptop\",\"Yes\",\">3 years ago\",\"Python\",\"Yes\",\"Urbun\",0.0,71.0,160.0,1.0,0],[\"Female\",\"Pakistan\",\"21-25\",\"Bachelors\",\"Enginnering\",\"to boost my skill set\",\"Unemplyed\",\"O+\",\"U-fone\",\"Prepaid\",\"Apna Laptop\",\"Yes\",\">3 years ago\",\"C++\",\"Yes\",\"Urbun\",0.0,57.5,162.8,8.0,4],[\"Female\",\"Pakistan\",\"21-25\",\"Masters\",\"Software Eng.\",\"to boost my skill set\",\"Student\",\"A-\",\"U-fone\",\"Prepaid\",\"Apna Laptop\",\"Yes\",\">3 years ago\",\"Javascript\",\"Yes\",\"Rural\",1.0,63.4,5.5,3.0,6],[\"Female\",\"Pakistan\",\"21-25\",\"Bachelors\",\"Enginnering\",\"to boost my skill set\",\"Unemplyed\",\"AB+\",\"U-fone\",\"Prepaid\",\"Apna Laptop\",\"No\",\"In this chilla\",\"Python\",\"Yes\",\"Urbun\",1.0,43.0,152.4,3.0,8],[\"Female\",\"Pakistan\",\"21-25\",\"Bachelors\",\"Natural Sciences\",\"to boost my skill set\",\"Student\",\"O+\",\"Mobilink\",\"Prepaid\",\"Apna Laptop\",\"Yes\",\"In this chilla\",\"Python\",\"Yes\",\"Urbun\",0.0,39.5,155.8,5.0,3],[\"Female\",\"Pakistan\",\"21-25\",\"Masters\",\"Biology\",\"to boost my skill set\",\"Student\",\"AB+\",\"Mobilink\",\"Prepaid\",\"Apna Laptop\",\"Yes\",\"In this chilla\",\"Python\",\"Yes\",\"Urbun\",1.5,42.6,40.3,5.0,5],[\"Female\",\"Pakistan\",\"41-45\",\"Masters\",\"Enginnering\",\"to boost my skill set\",\"Employed\",\"B+\",\"Mobilink\",\"Prepaid\",\"Apna Laptop\",\"Yes\",\">3 years ago\",\"C++\",\"Yes\",\"Rural\",4.0,70.0,1615.0,1.0,4],[\"Female\",\"Pakistan\",\"21-25\",\"Bachelors\",\"Enginnering\",\"to boost my skill set\",\"Employed\",\"O+\",\"Mobilink\",\"Prepaid\",\"Apna Laptop\",\"Yes\",\"In this chilla\",\"Python\",\"Yes\",\"Urbun\",3.0,48.0,152.4,4.0,12],[\"Female\",\"Pakistan\",\"26-30\",\"Masters\",\"Enginnering\",\"to boost my skill set\",\"Unemplyed\",\"B+\",\"Telenor\",\"Prepaid\",\"Apna Laptop\",\"Yes\",\"In this chilla\",\"Javascript\",\"Yes\",\"Rural\",1.0,55.0,154.0,3.0,5],[\"Female\",\"Pakistan\",\"26-30\",\"Masters\",\"Others\",\"Switch my field of study\",\"Student\",\"B+\",\"Telenor\",\"Prepaid\",\"Apna Laptop\",\"No\",\"In this chilla\",\"Python\",\"Yes\",\"Rural\",0.0,56.0,5.4,3.0,4],[\"Female\",\"Pakistan\",\"21-25\",\"Bachelors\",\"Software Eng.\",\"to boost my skill set\",\"Unemplyed\",\"AB+\",\"Telenor\",\"Prepaid\",\"Apna Laptop\",\"No\",\">3 years ago\",\"Python\",\"Yes\",\"Rural\",0.0,41.2,12.446,2.0,2],[\"Female\",\"East\",\"26-30\",\"Masters\",\"Business/Economics\",\"Switch my field of study\",\"Student\",\"B-\",\"International\",\"Prepaid\",\"Apna Laptop\",\"Yes\",\"In this chilla\",\"Python\",\"Yes\",\"International\",2.3,56.9,165.0,4.0,0],[\"Female\",\"Pakistan\",\"26-30\",\"Masters\",\"Biology\",\"to boost my skill set\",\"Student\",\"AB+\",\"Mobilink\",\"Prepaid\",\"Apna Laptop\",\"Yes\",\"In this chilla\",\"Python\",\"Yes\",\"Urbun\",5.9,56.5,170.688,4.0,0],[\"Female\",\"Pakistan\",\"26-30\",\"Masters\",\"Mathematics\",\"to boost my skill set\",\"Student\",\"A+\",\"Telenor\",\"Prepaid\",\"Apna Laptop\",\"No\",\"<3 years ago\",\"Python\",\"Yes\",\"Urbun\",2.0,50.2,173.7,1.0,0],[\"Female\",\"Pakistan\",\"26-30\",\"Masters\",\"Enginnering\",\"Switch my field of study\",\"Employed\",\"AB+\",\"U-fone\",\"Prepaid\",\"Apna Laptop\",\"Yes\",\"<3 years ago\",\"Python\",\"Yes\",\"Urbun\",5.0,46.0,162.56,2.0,2],[\"Female\",\"West\",\"26-30\",\"Masters\",\"Others\",\"Switch my field of study\",\"Unemplyed\",\"A+\",\"Zong\",\"Prepaid\",\"Kisi ka laptop\",\"No\",\"In this chilla\",\"Others\",\"Yes\",\"International\",0.0,57.0,160.0,4.0,0],[\"Female\",\"Pakistan\",\"31-35\",\"PhD\",\"Biology\",\"to boost my skill set\",\"Unemplyed\",\"B+\",\"U-fone\",\"Prepaid\",\"Apna Laptop\",\"No\",\"In this chilla\",\"Python\",\"Yes\",\"Urbun\",0.5,65.5,167.64,4.0,3],[\"Female\",\"Pakistan\",\"21-25\",\"Bachelors\",\"Natural Sciences\",\"to boost my skill set\",\"Unemplyed\",\"A+\",\"Telenor\",\"Prepaid\",\"Apna Laptop\",\"No\",\"In this chilla\",\"Python\",\"No\",\"Urbun\",0.0,62.0,173.736,8.0,6],[\"Female\",\"Pakistan\",\"21-25\",\"Bachelors\",\"Biology\",\"Switch my field of study\",\"Student\",\"A+\",\"Zong\",\"Prepaid\",\"Apna Laptop\",\"Yes\",\"In this chilla\",\"Python\",\"Yes\",\"Urbun\",2.0,43.0,154.6,4.0,3],[\"Female\",\"Pakistan\",\"26-30\",\"Bachelors\",\"Software Eng.\",\"to boost my skill set\",\"Student\",\"B+\",\"Zong\",\"Prepaid\",\"Apna Laptop\",\"Yes\",\">3 years ago\",\"Python\",\"Yes\",\"Urbun\",2.5,60.5,167.64,3.0,6],[\"Female\",\"Pakistan\",\"21-25\",\"Masters\",\"Biology\",\"to boost my skill set\",\"Student\",\"A-\",\"Telenor\",\"Prepaid\",\"Desktop\",\"No\",\"In this chilla\",\"Python\",\"No\",\"Urbun\",1.0,48.2,167.6,5.0,5],[\"Female\",\"Pakistan\",\"21-25\",\"Bachelors\",\"Software Eng.\",\"Switch my field of study\",\"Unemplyed\",\"B+\",\"Zong\",\"Prepaid\",\"Apna Laptop\",\"Yes\",\">3 years ago\",\"Python\",\"Yes\",\"Urbun\",0.0,47.5,150.2,2.0,0],[\"Female\",\"Pakistan\",\"21-25\",\"Bachelors\",\"CS/IT\",\"to boost my skill set\",\"Student\",\"AB+\",\"Telenor\",\"Postpaid\",\"Apna Laptop\",\"Yes\",\"<3 years ago\",\"Python\",\"Yes\",\"Rural\",0.0,55.0,170.18,3.0,1],[\"Female\",\"Pakistan\",\"21-25\",\"Bachelors\",\"Enginnering\",\"to boost my skill set\",\"Student\",\"A+\",\"Mobilink\",\"Prepaid\",\"Apna Laptop\",\"No\",\"In this chilla\",\"Python\",\"Yes\",\"Rural\",0.0,50.0,48.0,1.0,8],[\"Female\",\"Pakistan\",\"31-35\",\"Masters\",\"Natural Sciences\",\"to boost my skill set\",\"Unemplyed\",\"B+\",\"U-fone\",\"Postpaid\",\"Apna Laptop\",\"Yes\",\"In this chilla\",\"Python\",\"Yes\",\"Urbun\",1.0,45.0,58.0,5.0,5],[\"Female\",\"Pakistan\",\"21-25\",\"Bachelors\",\"Natural Sciences\",\"to boost my skill set\",\"Student\",\"A+\",\"Zong\",\"Prepaid\",\"Apna Laptop\",\"No\",\"In this chilla\",\"Python\",\"Yes\",\"Urbun\",0.0,58.5,154.5,4.0,0],[\"Female\",\"East\",\"26-30\",\"Bachelors\",\"Software Eng.\",\"to boost my skill set\",\"Unemplyed\",\"O+\",\"International\",\"Prepaid\",\"Apna Laptop\",\"No\",\">3 years ago\",\"Others\",\"Yes\",\"International\",2.0,70.0,5.0,3.0,8],[\"Female\",\"Pakistan\",\"26-30\",\"Masters\",\"Software Eng.\",\"to boost my skill set\",\"Unemplyed\",\"A+\",\"Zong\",\"Prepaid\",\"Apna Laptop\",\"No\",\">3 years ago\",\"Python\",\"Yes\",\"Rural\",2.0,68.5,164.5,4.0,1],[\"Female\",\"Pakistan\",\"21-25\",\"Bachelors\",\"CS/IT\",\"to boost my skill set\",\"Student\",\"B+\",\"Zong\",\"Prepaid\",\"Apna Laptop\",\"Yes\",\"In this chilla\",\"Python\",\"Yes\",\"Urbun\",0.0,57.0,5.6,4.0,1],[\"Female\",\"Pakistan\",\"26-30\",\"Masters\",\"Natural Sciences\",\"to boost my skill set\",\"Student\",\"AB+\",\"Zong\",\"Prepaid\",\"Apna Laptop\",\"Yes\",\"In this chilla\",\"Python\",\"Yes\",\"Urbun\",6.0,65.0,168.0,3.0,5],[\"Female\",\"Pakistan\",\"26-30\",\"Masters\",\"Business/Economics\",\"to boost my skill set\",\"Employed\",\"AB+\",\"Zong\",\"Prepaid\",\"Apna Laptop\",\"No\",\"In this chilla\",\"Python\",\"Yes\",\"Urbun\",4.0,46.5,170.18,2.0,2],[\"Female\",\"Pakistan\",\"21-25\",\"Bachelors\",\"CS/IT\",\"to boost my skill set\",\"Unemplyed\",\"AB+\",\"Zong\",\"Prepaid\",\"Apna Laptop\",\"No\",\">3 years ago\",\"Python\",\"Yes\",\"Urbun\",1.0,50.0,1524.0,4.0,6],[\"Female\",\"West\",\"15-Jan\",\"Pre-Bachelors\",\"Others\",\"to boost my skill set\",\"Student\",\"B+\",\"International\",\"Postpaid\",\"Apna Laptop\",\"No\",\"In this chilla\",\"Python\",\"Yes\",\"International\",0.0,30.5,150.05,10.0,0],[\"Female\",\"Pakistan\",\"31-35\",\"Masters\",\"Biology\",\"to boost my skill set\",\"Unemplyed\",\"O+\",\"U-fone\",\"Prepaid\",\"Apna Laptop\",\"No\",\"<3 years ago\",\"Python\",\"Yes\",\"Urbun\",1.0,40.0,158.0,6.0,0],[\"Female\",\"Pakistan\",\"31-35\",\"Masters\",\"CS/IT\",\"to boost my skill set\",\"Employed\",\"B+\",\"Mobilink\",\"Prepaid\",\"Kisi ka laptop\",\"No\",\">3 years ago\",\"Python\",\"Yes\",\"Urbun\",13.0,76.6,13.97,3.0,1],[\"Female\",\"Pakistan\",\"21-25\",\"Pre-Bachelors\",\"Others\",\"to boost my skill set\",\"Student\",\"O+\",\"Mobilink\",\"Prepaid\",\"Apna Laptop\",\"No\",\"In this chilla\",\"Python\",\"Yes\",\"Urbun\",0.0,48.0,152.0,5.0,60],[\"Female\",\"Pakistan\",\"21-25\",\"Bachelors\",\"CS/IT\",\"Abhi tak pata nahi\",\"Unemplyed\",\"B+\",\"U-fone\",\"Prepaid\",\"Apna Laptop\",\"Yes\",\">3 years ago\",\"Python\",\"No\",\"Urbun\",0.0,42.0,5.6,1.0,0],[\"Female\",\"Pakistan\",\"46-60\",\"Masters\",\"Others\",\"Awen\",\"Employed\",\"B+\",\"U-fone\",\"Prepaid\",\"Apna Laptop\",\"Yes\",\"In this chilla\",\"Python\",\"Yes\",\"Rural\",10.1,90.0,158.0,5.0,1],[\"Female\",\"Pakistan\",\"26-30\",\"Masters\",\"Enginnering\",\"to boost my skill set\",\"Employed\",\"A+\",\"Zong\",\"Prepaid\",\"Apna Laptop\",\"Yes\",\"<3 years ago\",\"Python\",\"Yes\",\"Urbun\",5.1,54.5,164.5,4.0,1],[\"Female\",\"Pakistan\",\"21-25\",\"Pre-Bachelors\",\"Others\",\"to boost my skill set\",\"Student\",\"AB+\",\"Zong\",\"Prepaid\",\"Apna Laptop\",\"Yes\",\"In this chilla\",\"Python\",\"Yes\",\"Urbun\",0.0,48.0,170.18,1.0,0],[\"Female\",\"West\",\"16-20\",\"Pre-Bachelors\",\"CS/IT\",\"to boost my skill set\",\"Student\",\"B+\",\"International\",\"Prepaid\",\"Apna Laptop\",\"Yes\",\"I don't know how to code\",\"Python\",\"Yes\",\"International\",0.0,60.0,1178.0,11.0,0],[\"Female\",\"West\",\"26-30\",\"Masters\",\"Enginnering\",\"to boost my skill set\",\"Employed\",\"AB+\",\"International\",\"Prepaid\",\"Apna Laptop\",\"No\",\">3 years ago\",\"Javascript\",\"Yes\",\"International\",3.0,65.0,165.1,3.0,0],[\"Female\",\"Pakistan\",\"21-25\",\"Bachelors\",\"CS/IT\",\"to boost my skill set\",\"Unemplyed\",\"A+\",\"U-fone\",\"Postpaid\",\"Apna Laptop\",\"No\",\"<3 years ago\",\"Others\",\"Yes\",\"Urbun\",0.0,46.0,160.02,2.0,8],[\"Female\",\"Pakistan\",\"26-30\",\"PhD\",\"Natural Sciences\",\"to boost my skill set\",\"Employed\",\"B+\",\"U-fone\",\"Prepaid\",\"Apna Laptop\",\"No\",\"In this chilla\",\"Python\",\"Yes\",\"Urbun\",1.5,54.0,161.5,3.0,0],[\"Female\",\"Pakistan\",\"21-25\",\"Pre-Bachelors\",\"CS/IT\",\"to boost my skill set\",\"Student\",\"A+\",\"Mobilink\",\"Prepaid\",\"Kisi ka laptop\",\"No\",\"In this chilla\",\"Python\",\"Yes\",\"Urbun\",0.0,92.4,164.592,3.0,2],[\"Female\",\"Pakistan\",\"31-35\",\"Masters\",\"Biology\",\"to boost my skill set\",\"Student\",\"A+\",\"Telenor\",\"Prepaid\",\"Apna Laptop\",\"No\",\">3 years ago\",\"Python\",\"Yes\",\"Urbun\",4.0,46.9,158.496,17.0,2],[\"Female\",\"Pakistan\",\"26-30\",\"Masters\",\"Mathematics\",\"to boost my skill set\",\"Student\",\"A+\",\"Telenor\",\"Prepaid\",\"Apna Laptop\",\"No\",\"<3 years ago\",\"Python\",\"Yes\",\"Urbun\",2.0,50.2,173.7,2.0,0],[\"Female\",\"Pakistan\",\"26-30\",\"Masters\",\"Statistics\",\"to boost my skill set\",\"Student\",\"O+\",\"Zong\",\"Prepaid\",\"Desktop\",\"No\",\"In this chilla\",\"Python\",\"Yes\",\"Rural\",2.0,45.0,170.68,2.0,3],[\"Female\",\"Pakistan\",\"31-35\",\"Masters\",\"Business/Economics\",\"to boost my skill set\",\"Student\",\"B+\",\"Mobilink\",\"Prepaid\",\"Apna Laptop\",\"Yes\",\"In this chilla\",\"Python\",\"Yes\",\"Urbun\",1.0,48.0,1.72,3.0,6],[\"Female\",\"West\",\"21-25\",\"Bachelors\",\"Natural Sciences\",\"Switch my field of study\",\"Student\",\"O+\",\"International\",\"Prepaid\",\"Apna Laptop\",\"No\",\"In this chilla\",\"Python\",\"Yes\",\"International\",0.0,55.0,170.18,4.0,0],[\"Female\",\"Pakistan\",\"31-35\",\"Bachelors\",\"CS/IT\",\"to boost my skill set\",\"Unemplyed\",\"A+\",\"Zong\",\"Prepaid\",\"Apna Laptop\",\"No\",\">3 years ago\",\"Python\",\"No\",\"Urbun\",5.0,54.5,1645.92,5.0,2],[\"Female\",\"Pakistan\",\"26-30\",\"Masters\",\"Business/Economics\",\"Abhi tak pata nahi\",\"Employed\",\"A+\",\"Mobilink\",\"Prepaid\",\"Apna Laptop\",\"No\",\"I don't know how to code\",\"Python\",\"Yes\",\"Rural\",1.0,72.0,161.2,2.0,5],[\"Female\",\"Pakistan\",\"26-30\",\"Masters\",\"CS/IT\",\"to boost my skill set\",\"Unemplyed\",\"O+\",\"Zong\",\"Prepaid\",\"Apna Laptop\",\"No\",\">3 years ago\",\"Python\",\"Yes\",\"Urbun\",1.0,58.0,167.64,4.0,2],[\"Female\",\"Pakistan\",\"26-30\",\"Masters\",\"Biology\",\"to boost my skill set\",\"Unemplyed\",\"O+\",\"Mobilink\",\"Prepaid\",\"Apna Laptop\",\"No\",\"In this chilla\",\"Python\",\"Yes\",\"Urbun\",3.0,88.8,162.56,4.0,2],[\"Female\",\"Pakistan\",\"26-30\",\"Bachelors\",\"CS/IT\",\"to boost my skill set\",\"Unemplyed\",\"B+\",\"U-fone\",\"Prepaid\",\"Apna Laptop\",\"No\",\">3 years ago\",\"Others\",\"Yes\",\"Urbun\",6.0,46.0,1.6,6.0,8],[\"Female\",\"Pakistan\",\"26-30\",\"Masters\",\"Natural Sciences\",\"to boost my skill set\",\"Unemplyed\",\"O-\",\"U-fone\",\"Postpaid\",\"Apna Laptop\",\"No\",\"In this chilla\",\"Python\",\"Yes\",\"Urbun\",0.0,45.5,170.18,4.0,0],[\"Female\",\"Pakistan\",\"26-30\",\"Masters\",\"Natural Sciences\",\"to boost my skill set\",\"Student\",\"O-\",\"U-fone\",\"Prepaid\",\"Apna Laptop\",\"Yes\",\"<3 years ago\",\"Python\",\"Yes\",\"Urbun\",2.5,58.0,162.56,7.0,2],[\"Female\",\"West\",\"31-35\",\"PhD\",\"CS/IT\",\"to boost my skill set\",\"Unemplyed\",\"B+\",\"International\",\"Prepaid\",\"Apna Laptop\",\"Yes\",\"In this chilla\",\"Python\",\"Yes\",\"International\",4.5,65.0,160.0,3.0,6],[\"Female\",\"Pakistan\",\"21-25\",\"Pre-Bachelors\",\"Business/Economics\",\"Switch my field of study\",\"Student\",\"B+\",\"Zong\",\"Prepaid\",\"Apna Laptop\",\"Yes\",\"In this chilla\",\"Python\",\"Yes\",\"Urbun\",0.0,64.0,160.0,3.0,0],[\"Female\",\"Pakistan\",\"31-35\",\"Masters\",\"Business/Economics\",\"to boost my skill set\",\"Unemplyed\",\"O+\",\"U-fone\",\"Prepaid\",\"Apna Laptop\",\"Yes\",\"In this chilla\",\"Python\",\"Yes\",\"Urbun\",0.0,80.2,158.496,1.0,2],[\"Female\",\"Pakistan\",\"16-20\",\"Pre-Bachelors\",\"Business/Economics\",\"to boost my skill set\",\"Student\",\"A+\",\"Zong\",\"Prepaid\",\"Kisi ka laptop\",\"No\",\"In this chilla\",\"Python\",\"Yes\",\"Rural\",0.0,60.0,158.0,3.0,12],[\"Female\",\"Pakistan\",\"26-30\",\"Bachelors\",\"Business/Economics\",\"to boost my skill set\",\"Unemplyed\",\"B+\",\"Zong\",\"Prepaid\",\"Kisi ka laptop\",\"Yes\",\"In this chilla\",\"Python\",\"Yes\",\"Rural\",1.3,55.5,13.462,3.0,4],[\"Female\",\"Pakistan\",\"21-25\",\"Bachelors\",\"CS/IT\",\"to boost my skill set\",\"Unemplyed\",\"A+\",\"Mobilink\",\"Prepaid\",\"Apna Laptop\",\"No\",\">3 years ago\",\"C++\",\"Yes\",\"Urbun\",0.0,50.0,5.2,4.0,3],[\"Female\",\"East\",\"26-30\",\"Bachelors\",\"Software Eng.\",\"to boost my skill set\",\"Unemplyed\",\"O+\",\"International\",\"Prepaid\",\"Apna Laptop\",\"Yes\",\">3 years ago\",\"Javascript\",\"Yes\",\"International\",2.0,82.0,5.0,2.0,7],[\"Female\",\"Pakistan\",\"21-25\",\"Masters\",\"Others\",\"Switch my field of study\",\"Unemplyed\",\"B+\",\"U-fone\",\"Prepaid\",\"Kisi ka laptop\",\"No\",\"In this chilla\",\"Python\",\"Yes\",\"Urbun\",0.0,48.0,160.0,3.0,6],[\"Female\",\"Pakistan\",\"31-35\",\"Masters\",\"Mathematics\",\"Switch my field of study\",\"Unemplyed\",\"B+\",\"Telenor\",\"Prepaid\",\"Apna Laptop\",\"Yes\",\"In this chilla\",\"Python\",\"Yes\",\"Urbun\",3.0,54.5,161.544,3.0,0]],\"hovertemplate\":\"Gender=%{customdata[0]}<br>Marital Status?=%{x}<br>Age=%{y}<br>Location=%{customdata[1]}<br>Age_range=%{customdata[2]}<br>Qualification=%{customdata[3]}<br>field_of_study=%{customdata[4]}<br>Purpose_for_chilla=%{customdata[5]}<br>Work_status=%{customdata[6]}<br>Blood_group =%{customdata[7]}<br>Mobile_sim=%{customdata[8]}<br>Sim_type=%{customdata[9]}<br>PC_status=%{customdata[10]}<br>Glasses_wear=%{customdata[11]}<br>When did you write your first line of code?=%{customdata[12]}<br>Your favorite programming language?=%{customdata[13]}<br>Are you Vaccinated?=%{customdata[14]}<br>Where do you live?=%{customdata[15]}<br>Working experience=%{customdata[16]}<br>Weight_in_kg=%{customdata[17]}<br>Height_in_cm=%{customdata[18]}<br>How many hours you code a day? (int) =%{customdata[19]}<br>Light kitni der band hti hy? int=%{customdata[20]}<extra></extra>\",\"legendgroup\":\"Female\",\"marker\":{\"color\":\"#EF553B\"},\"name\":\"Female\",\"offsetgroup\":\"Female\",\"orientation\":\"v\",\"points\":\"all\",\"scalegroup\":\"True\",\"showlegend\":true,\"x\":[\"Yes\",\"No\",\"No\",\"No\",\"No\",\"No\",\"No\",\"Yes\",\"Yes\",\"Yes\",\"No\",\"Yes\",\"No\",\"No\",\"No\",\"No\",\"No\",\"Yes\",\"No\",\"No\",\"No\",\"No\",\"No\",\"No\",\"No\",\"No\",\"Yes\",\"No\",\"No\",\"No\",\"No\",\"No\",\"No\",\"No\",\"No\",\"No\",\"No\",\"Yes\",\"No\",\"No\",\"Yes\",\"No\",\"No\",\"No\",\"Yes\",\"Yes\",\"No\",\"No\",\"Yes\",\"No\",\"No\",\"No\",\"No\",\"No\",\"No\",\"No\",\"No\",\"No\",\"No\",\"No\",\"No\",\"No\",\"No\",\"No\",\"Yes\",\"No\",\"No\",\"No\",\"Yes\",\"Yes\",\"Yes\",\"No\",\"No\",\"No\",\"Yes\",\"No\",\"Yes\"],\"x0\":\" \",\"xaxis\":\"x\",\"y\":[33.0,27.0,28.0,25.0,27.9,26.0,28.0,28.0,32.0,30.0,33.0,39.0,23.99,24.6,24.0,22.0,24.0,43.0,24.0,26.0,27.5,23.0,30.0,29.0,29.0,28.0,27.0,31.8,23.0,25.0,28.1,25.0,25.0,22.0,20.0,29.0,21.0,29.0,26.0,25.0,29.0,27.5,23.0,14.2,30.5,31.0,22.0,25.0,46.4,30.0,21.0,16.0,28.0,25.0,29.0,21.0,35.0,29.0,26.0,34.0,24.0,32.0,26.5,27.0,26.0,28.0,26.0,26.0,37.0,22.0,33.0,19.0,30.0,23.0,29.0,22.0,31.0],\"y0\":\" \",\"yaxis\":\"y\",\"type\":\"violin\"}],                        {\"template\":{\"data\":{\"bar\":[{\"error_x\":{\"color\":\"#2a3f5f\"},\"error_y\":{\"color\":\"#2a3f5f\"},\"marker\":{\"line\":{\"color\":\"#E5ECF6\",\"width\":0.5},\"pattern\":{\"fillmode\":\"overlay\",\"size\":10,\"solidity\":0.2}},\"type\":\"bar\"}],\"barpolar\":[{\"marker\":{\"line\":{\"color\":\"#E5ECF6\",\"width\":0.5},\"pattern\":{\"fillmode\":\"overlay\",\"size\":10,\"solidity\":0.2}},\"type\":\"barpolar\"}],\"carpet\":[{\"aaxis\":{\"endlinecolor\":\"#2a3f5f\",\"gridcolor\":\"white\",\"linecolor\":\"white\",\"minorgridcolor\":\"white\",\"startlinecolor\":\"#2a3f5f\"},\"baxis\":{\"endlinecolor\":\"#2a3f5f\",\"gridcolor\":\"white\",\"linecolor\":\"white\",\"minorgridcolor\":\"white\",\"startlinecolor\":\"#2a3f5f\"},\"type\":\"carpet\"}],\"choropleth\":[{\"colorbar\":{\"outlinewidth\":0,\"ticks\":\"\"},\"type\":\"choropleth\"}],\"contour\":[{\"colorbar\":{\"outlinewidth\":0,\"ticks\":\"\"},\"colorscale\":[[0.0,\"#0d0887\"],[0.1111111111111111,\"#46039f\"],[0.2222222222222222,\"#7201a8\"],[0.3333333333333333,\"#9c179e\"],[0.4444444444444444,\"#bd3786\"],[0.5555555555555556,\"#d8576b\"],[0.6666666666666666,\"#ed7953\"],[0.7777777777777778,\"#fb9f3a\"],[0.8888888888888888,\"#fdca26\"],[1.0,\"#f0f921\"]],\"type\":\"contour\"}],\"contourcarpet\":[{\"colorbar\":{\"outlinewidth\":0,\"ticks\":\"\"},\"type\":\"contourcarpet\"}],\"heatmap\":[{\"colorbar\":{\"outlinewidth\":0,\"ticks\":\"\"},\"colorscale\":[[0.0,\"#0d0887\"],[0.1111111111111111,\"#46039f\"],[0.2222222222222222,\"#7201a8\"],[0.3333333333333333,\"#9c179e\"],[0.4444444444444444,\"#bd3786\"],[0.5555555555555556,\"#d8576b\"],[0.6666666666666666,\"#ed7953\"],[0.7777777777777778,\"#fb9f3a\"],[0.8888888888888888,\"#fdca26\"],[1.0,\"#f0f921\"]],\"type\":\"heatmap\"}],\"heatmapgl\":[{\"colorbar\":{\"outlinewidth\":0,\"ticks\":\"\"},\"colorscale\":[[0.0,\"#0d0887\"],[0.1111111111111111,\"#46039f\"],[0.2222222222222222,\"#7201a8\"],[0.3333333333333333,\"#9c179e\"],[0.4444444444444444,\"#bd3786\"],[0.5555555555555556,\"#d8576b\"],[0.6666666666666666,\"#ed7953\"],[0.7777777777777778,\"#fb9f3a\"],[0.8888888888888888,\"#fdca26\"],[1.0,\"#f0f921\"]],\"type\":\"heatmapgl\"}],\"histogram\":[{\"marker\":{\"pattern\":{\"fillmode\":\"overlay\",\"size\":10,\"solidity\":0.2}},\"type\":\"histogram\"}],\"histogram2d\":[{\"colorbar\":{\"outlinewidth\":0,\"ticks\":\"\"},\"colorscale\":[[0.0,\"#0d0887\"],[0.1111111111111111,\"#46039f\"],[0.2222222222222222,\"#7201a8\"],[0.3333333333333333,\"#9c179e\"],[0.4444444444444444,\"#bd3786\"],[0.5555555555555556,\"#d8576b\"],[0.6666666666666666,\"#ed7953\"],[0.7777777777777778,\"#fb9f3a\"],[0.8888888888888888,\"#fdca26\"],[1.0,\"#f0f921\"]],\"type\":\"histogram2d\"}],\"histogram2dcontour\":[{\"colorbar\":{\"outlinewidth\":0,\"ticks\":\"\"},\"colorscale\":[[0.0,\"#0d0887\"],[0.1111111111111111,\"#46039f\"],[0.2222222222222222,\"#7201a8\"],[0.3333333333333333,\"#9c179e\"],[0.4444444444444444,\"#bd3786\"],[0.5555555555555556,\"#d8576b\"],[0.6666666666666666,\"#ed7953\"],[0.7777777777777778,\"#fb9f3a\"],[0.8888888888888888,\"#fdca26\"],[1.0,\"#f0f921\"]],\"type\":\"histogram2dcontour\"}],\"mesh3d\":[{\"colorbar\":{\"outlinewidth\":0,\"ticks\":\"\"},\"type\":\"mesh3d\"}],\"parcoords\":[{\"line\":{\"colorbar\":{\"outlinewidth\":0,\"ticks\":\"\"}},\"type\":\"parcoords\"}],\"pie\":[{\"automargin\":true,\"type\":\"pie\"}],\"scatter\":[{\"marker\":{\"colorbar\":{\"outlinewidth\":0,\"ticks\":\"\"}},\"type\":\"scatter\"}],\"scatter3d\":[{\"line\":{\"colorbar\":{\"outlinewidth\":0,\"ticks\":\"\"}},\"marker\":{\"colorbar\":{\"outlinewidth\":0,\"ticks\":\"\"}},\"type\":\"scatter3d\"}],\"scattercarpet\":[{\"marker\":{\"colorbar\":{\"outlinewidth\":0,\"ticks\":\"\"}},\"type\":\"scattercarpet\"}],\"scattergeo\":[{\"marker\":{\"colorbar\":{\"outlinewidth\":0,\"ticks\":\"\"}},\"type\":\"scattergeo\"}],\"scattergl\":[{\"marker\":{\"colorbar\":{\"outlinewidth\":0,\"ticks\":\"\"}},\"type\":\"scattergl\"}],\"scattermapbox\":[{\"marker\":{\"colorbar\":{\"outlinewidth\":0,\"ticks\":\"\"}},\"type\":\"scattermapbox\"}],\"scatterpolar\":[{\"marker\":{\"colorbar\":{\"outlinewidth\":0,\"ticks\":\"\"}},\"type\":\"scatterpolar\"}],\"scatterpolargl\":[{\"marker\":{\"colorbar\":{\"outlinewidth\":0,\"ticks\":\"\"}},\"type\":\"scatterpolargl\"}],\"scatterternary\":[{\"marker\":{\"colorbar\":{\"outlinewidth\":0,\"ticks\":\"\"}},\"type\":\"scatterternary\"}],\"surface\":[{\"colorbar\":{\"outlinewidth\":0,\"ticks\":\"\"},\"colorscale\":[[0.0,\"#0d0887\"],[0.1111111111111111,\"#46039f\"],[0.2222222222222222,\"#7201a8\"],[0.3333333333333333,\"#9c179e\"],[0.4444444444444444,\"#bd3786\"],[0.5555555555555556,\"#d8576b\"],[0.6666666666666666,\"#ed7953\"],[0.7777777777777778,\"#fb9f3a\"],[0.8888888888888888,\"#fdca26\"],[1.0,\"#f0f921\"]],\"type\":\"surface\"}],\"table\":[{\"cells\":{\"fill\":{\"color\":\"#EBF0F8\"},\"line\":{\"color\":\"white\"}},\"header\":{\"fill\":{\"color\":\"#C8D4E3\"},\"line\":{\"color\":\"white\"}},\"type\":\"table\"}]},\"layout\":{\"annotationdefaults\":{\"arrowcolor\":\"#2a3f5f\",\"arrowhead\":0,\"arrowwidth\":1},\"autotypenumbers\":\"strict\",\"coloraxis\":{\"colorbar\":{\"outlinewidth\":0,\"ticks\":\"\"}},\"colorscale\":{\"diverging\":[[0,\"#8e0152\"],[0.1,\"#c51b7d\"],[0.2,\"#de77ae\"],[0.3,\"#f1b6da\"],[0.4,\"#fde0ef\"],[0.5,\"#f7f7f7\"],[0.6,\"#e6f5d0\"],[0.7,\"#b8e186\"],[0.8,\"#7fbc41\"],[0.9,\"#4d9221\"],[1,\"#276419\"]],\"sequential\":[[0.0,\"#0d0887\"],[0.1111111111111111,\"#46039f\"],[0.2222222222222222,\"#7201a8\"],[0.3333333333333333,\"#9c179e\"],[0.4444444444444444,\"#bd3786\"],[0.5555555555555556,\"#d8576b\"],[0.6666666666666666,\"#ed7953\"],[0.7777777777777778,\"#fb9f3a\"],[0.8888888888888888,\"#fdca26\"],[1.0,\"#f0f921\"]],\"sequentialminus\":[[0.0,\"#0d0887\"],[0.1111111111111111,\"#46039f\"],[0.2222222222222222,\"#7201a8\"],[0.3333333333333333,\"#9c179e\"],[0.4444444444444444,\"#bd3786\"],[0.5555555555555556,\"#d8576b\"],[0.6666666666666666,\"#ed7953\"],[0.7777777777777778,\"#fb9f3a\"],[0.8888888888888888,\"#fdca26\"],[1.0,\"#f0f921\"]]},\"colorway\":[\"#636efa\",\"#EF553B\",\"#00cc96\",\"#ab63fa\",\"#FFA15A\",\"#19d3f3\",\"#FF6692\",\"#B6E880\",\"#FF97FF\",\"#FECB52\"],\"font\":{\"color\":\"#2a3f5f\"},\"geo\":{\"bgcolor\":\"white\",\"lakecolor\":\"white\",\"landcolor\":\"#E5ECF6\",\"showlakes\":true,\"showland\":true,\"subunitcolor\":\"white\"},\"hoverlabel\":{\"align\":\"left\"},\"hovermode\":\"closest\",\"mapbox\":{\"style\":\"light\"},\"paper_bgcolor\":\"white\",\"plot_bgcolor\":\"#E5ECF6\",\"polar\":{\"angularaxis\":{\"gridcolor\":\"white\",\"linecolor\":\"white\",\"ticks\":\"\"},\"bgcolor\":\"#E5ECF6\",\"radialaxis\":{\"gridcolor\":\"white\",\"linecolor\":\"white\",\"ticks\":\"\"}},\"scene\":{\"xaxis\":{\"backgroundcolor\":\"#E5ECF6\",\"gridcolor\":\"white\",\"gridwidth\":2,\"linecolor\":\"white\",\"showbackground\":true,\"ticks\":\"\",\"zerolinecolor\":\"white\"},\"yaxis\":{\"backgroundcolor\":\"#E5ECF6\",\"gridcolor\":\"white\",\"gridwidth\":2,\"linecolor\":\"white\",\"showbackground\":true,\"ticks\":\"\",\"zerolinecolor\":\"white\"},\"zaxis\":{\"backgroundcolor\":\"#E5ECF6\",\"gridcolor\":\"white\",\"gridwidth\":2,\"linecolor\":\"white\",\"showbackground\":true,\"ticks\":\"\",\"zerolinecolor\":\"white\"}},\"shapedefaults\":{\"line\":{\"color\":\"#2a3f5f\"}},\"ternary\":{\"aaxis\":{\"gridcolor\":\"white\",\"linecolor\":\"white\",\"ticks\":\"\"},\"baxis\":{\"gridcolor\":\"white\",\"linecolor\":\"white\",\"ticks\":\"\"},\"bgcolor\":\"#E5ECF6\",\"caxis\":{\"gridcolor\":\"white\",\"linecolor\":\"white\",\"ticks\":\"\"}},\"title\":{\"x\":0.05},\"xaxis\":{\"automargin\":true,\"gridcolor\":\"white\",\"linecolor\":\"white\",\"ticks\":\"\",\"title\":{\"standoff\":15},\"zerolinecolor\":\"white\",\"zerolinewidth\":2},\"yaxis\":{\"automargin\":true,\"gridcolor\":\"white\",\"linecolor\":\"white\",\"ticks\":\"\",\"title\":{\"standoff\":15},\"zerolinecolor\":\"white\",\"zerolinewidth\":2}}},\"xaxis\":{\"anchor\":\"y\",\"domain\":[0.0,1.0],\"title\":{\"text\":\"Marital Status?\"}},\"yaxis\":{\"anchor\":\"x\",\"domain\":[0.0,1.0],\"title\":{\"text\":\"Age\"}},\"legend\":{\"title\":{\"text\":\"Gender\"},\"tracegroupgap\":0},\"margin\":{\"t\":60},\"violinmode\":\"group\"},                        {\"responsive\": true}                    ).then(function(){\n",
       "                            \n",
       "var gd = document.getElementById('11af51ed-2e62-41aa-a45f-9f1d5910b22b');\n",
       "var x = new MutationObserver(function (mutations, observer) {{\n",
       "        var display = window.getComputedStyle(gd).display;\n",
       "        if (!display || display === 'none') {{\n",
       "            console.log([gd, 'removed!']);\n",
       "            Plotly.purge(gd);\n",
       "            observer.disconnect();\n",
       "        }}\n",
       "}});\n",
       "\n",
       "// Listen for the removal of the full notebook cells\n",
       "var notebookContainer = gd.closest('#notebook-container');\n",
       "if (notebookContainer) {{\n",
       "    x.observe(notebookContainer, {childList: true});\n",
       "}}\n",
       "\n",
       "// Listen for the clearing of the current output cell\n",
       "var outputEl = gd.closest('.output');\n",
       "if (outputEl) {{\n",
       "    x.observe(outputEl, {childList: true});\n",
       "}}\n",
       "\n",
       "                        })                };                });            </script>        </div>"
      ]
     },
     "metadata": {},
     "output_type": "display_data"
    }
   ],
   "source": [
    "import plotly.express as px\n",
    "import pandas as pd \n",
    "data= pd.read_csv(\"new_data.csv\")\n",
    "fig = px.violin(data, y=\"Age\", x=\"Marital Status?\", color=\"Gender\", box=True, points=\"all\", hover_data=data.columns)\n",
    "fig.show()"
   ]
  },
  {
   "cell_type": "markdown",
   "id": "a4635176",
   "metadata": {},
   "source": [
    "---"
   ]
  },
  {
   "cell_type": "code",
   "execution_count": 75,
   "id": "1a1d1eef",
   "metadata": {
    "scrolled": true
   },
   "outputs": [
    {
     "data": {
      "application/vnd.plotly.v1+json": {
       "config": {
        "plotlyServerURL": "https://plot.ly"
       },
       "data": [
        {
         "contours": {
          "coloring": "none"
         },
         "hovertemplate": "Age=%{x}<br>Weight_in_kg=%{y}<br>count=%{z}<extra></extra>",
         "legendgroup": "",
         "line": {
          "color": "#636efa"
         },
         "name": "",
         "showlegend": false,
         "type": "histogram2dcontour",
         "x": [
          38,
          25,
          31.34,
          33,
          27,
          36,
          0,
          27,
          22.2,
          24,
          25,
          27,
          28,
          22.5,
          24,
          25,
          33,
          33,
          30,
          25,
          31,
          33,
          21,
          25,
          30,
          24,
          30,
          25,
          33,
          33.9,
          30,
          26,
          27.9,
          31,
          29,
          21,
          23,
          24.3,
          28,
          26,
          31,
          31,
          33,
          20,
          26,
          32.75,
          28,
          34,
          29,
          27,
          18,
          28,
          26.3,
          25,
          36,
          38,
          35,
          32,
          32,
          26.5,
          21,
          33,
          25,
          27.75,
          26,
          30,
          28,
          19.5,
          29.8,
          21,
          33,
          35,
          39,
          28,
          29,
          32.2,
          23.99,
          24.6,
          25,
          20,
          0,
          22,
          26,
          27.9,
          18,
          24,
          25,
          19,
          30.4,
          22,
          32,
          31,
          28,
          27,
          28.11,
          32.8,
          25,
          26.5,
          40,
          42,
          29,
          90,
          23,
          21,
          25,
          20,
          26.11,
          24,
          43,
          24,
          22.6,
          27,
          24,
          27,
          26,
          29.25,
          26,
          41,
          37,
          30,
          29,
          29,
          20,
          29,
          43,
          44.8,
          27.5,
          25,
          23,
          30,
          21,
          26,
          27,
          39.5,
          30.5,
          2,
          19,
          30,
          29,
          29,
          29,
          25,
          22,
          27,
          24,
          24,
          26,
          25,
          31.2,
          51,
          28,
          34.25,
          27,
          33,
          23.5,
          26,
          31.8,
          23,
          25,
          27,
          28.1,
          21,
          28,
          25,
          21.6,
          22,
          31.5,
          32,
          24,
          28,
          27,
          28,
          25,
          26,
          33,
          30,
          24.1,
          26,
          22,
          25,
          33,
          19,
          26,
          26,
          26,
          34,
          34,
          24,
          22,
          19.8,
          33,
          31,
          22,
          22,
          30.4,
          20,
          23,
          30.1,
          29,
          31.5,
          20,
          23,
          21,
          38,
          25,
          30,
          26,
          28,
          29,
          28,
          31.04,
          40,
          30,
          28,
          31,
          23,
          29,
          23,
          24,
          25.2,
          23,
          20,
          30,
          26,
          19,
          24,
          25,
          24,
          29,
          27,
          23,
          25,
          26.3,
          26.95,
          33,
          30,
          23,
          29,
          33,
          21,
          35,
          27.5,
          24.6,
          27,
          28,
          34.9,
          22,
          26,
          25,
          23,
          20,
          23,
          22.9,
          22,
          14.2,
          32,
          32,
          29,
          28,
          24,
          30.5,
          31,
          35,
          35.11,
          23,
          22,
          20,
          25,
          31,
          46.4,
          30,
          21,
          21,
          31,
          23.4,
          32,
          16,
          22,
          68,
          28,
          25,
          36.5,
          29,
          25,
          21,
          21,
          0,
          11,
          31,
          43,
          22,
          25,
          25,
          32,
          24,
          25,
          35,
          29,
          42,
          26,
          34,
          24,
          32,
          26.5,
          30,
          32,
          27,
          26,
          31,
          28,
          26,
          37,
          26,
          27.3,
          29,
          31,
          37,
          22,
          26,
          21,
          22,
          32,
          10.5,
          27.5,
          25,
          25,
          29,
          25,
          40.1,
          42,
          22,
          20,
          26,
          21,
          32.7,
          26,
          21,
          26.5,
          33,
          27,
          19,
          31,
          35,
          29,
          30,
          28,
          32,
          20,
          24,
          29,
          38,
          31,
          26.6,
          36,
          27,
          23,
          26,
          32,
          20,
          27,
          32,
          29,
          25,
          28,
          29,
          28,
          22,
          24,
          30,
          24,
          28,
          33,
          22.8,
          29,
          31
         ],
         "xaxis": "x",
         "xbingroup": "x",
         "y": [
          77,
          53.6,
          93,
          60,
          59.9,
          99,
          58,
          100,
          76.8,
          84,
          78,
          50,
          64.21,
          63,
          88.2,
          68.5,
          75.8,
          72,
          74.5,
          130,
          72.5,
          70.2,
          55,
          69,
          65.5,
          83.5,
          60,
          69.5,
          72,
          97.5,
          85,
          55.5,
          60,
          80,
          78,
          52.5,
          67,
          93.5,
          68.3,
          96,
          64,
          75,
          84,
          75,
          47,
          72.5,
          50,
          87.5,
          62.5,
          88.6,
          52,
          50,
          71.2,
          60,
          100.5,
          93.9,
          78.9,
          60,
          70,
          65,
          63.5,
          82,
          105.5,
          85.6,
          89,
          80,
          100,
          52,
          75.4,
          50,
          98,
          75.5,
          71,
          78.5,
          88.2,
          70.2,
          57.5,
          63.4,
          62,
          64,
          68,
          68.5,
          69,
          63.5,
          57.4,
          43,
          75,
          50,
          88,
          39.5,
          72,
          98,
          79,
          55.5,
          68.3,
          88.4,
          84,
          82.5,
          83.5,
          90,
          77.5,
          90,
          67.9,
          71.5,
          76,
          48,
          76,
          42.6,
          70,
          48,
          67.4,
          54,
          60.5,
          104.5,
          55,
          93.5,
          106.05,
          97,
          77,
          79.5,
          80,
          74,
          75,
          75.6,
          82.5,
          70.5,
          56,
          86,
          41.2,
          61,
          59,
          75.5,
          61.5,
          54.3,
          89.5,
          70,
          55.2,
          56.9,
          69,
          56.5,
          50.2,
          52.27,
          60,
          65.21,
          54,
          65,
          68,
          68,
          72,
          70.5,
          46,
          82.27,
          57,
          101.5,
          94.5,
          86.5,
          65.5,
          62,
          43,
          63.5,
          60.5,
          50,
          75,
          67,
          68.5,
          60,
          71.5,
          74,
          55,
          70,
          72,
          70,
          48.2,
          105,
          78,
          69.5,
          65.8,
          68,
          60,
          47.5,
          85,
          75.5,
          90.2,
          56.5,
          90,
          70.5,
          78.5,
          52,
          55,
          74,
          68,
          72,
          63.5,
          68.2,
          82.4,
          50,
          53,
          55,
          45,
          82.5,
          67.12,
          59.5,
          58.5,
          70.2,
          75,
          78.8,
          65,
          161,
          70,
          72.5,
          58.1,
          80,
          65,
          68.5,
          70,
          65,
          65.5,
          85,
          50,
          135,
          75,
          68,
          75.45,
          68.5,
          52,
          100,
          60,
          68,
          65,
          70,
          60.2,
          57,
          65.7,
          74,
          63,
          80,
          70.85,
          65,
          85,
          60,
          84,
          46.5,
          56.61,
          110,
          63.5,
          88,
          68,
          65,
          61,
          55,
          53,
          50,
          70,
          48,
          30.5,
          85,
          79,
          66,
          84,
          56,
          40,
          76.6,
          80,
          78.5,
          58,
          48,
          53,
          42,
          90,
          90,
          54.5,
          52.1,
          48,
          85,
          59.5,
          72.5,
          60,
          58,
          68,
          65,
          46,
          78.5,
          54,
          114,
          92.4,
          72,
          51,
          45,
          58,
          87,
          49,
          64,
          74,
          86,
          65,
          82,
          46.9,
          50.2,
          70,
          45,
          48,
          55,
          54.5,
          72,
          61,
          55,
          58,
          88.8,
          65,
          46,
          45.5,
          69.1,
          58,
          66.5,
          92,
          90,
          65,
          31.75,
          65.6,
          67,
          64,
          58,
          79.75,
          92,
          80,
          65,
          65,
          75,
          86.34,
          75,
          70,
          64,
          64,
          52.1,
          85.5,
          76,
          60,
          67.5,
          80.2,
          60.5,
          60,
          60.5,
          78,
          90,
          55.5,
          70,
          72,
          70.5,
          54,
          66,
          84,
          63,
          68.7,
          68.5,
          78,
          50,
          50,
          55,
          64,
          67,
          85,
          66.5,
          75,
          70,
          82,
          85,
          48,
          60,
          75.55,
          70,
          70.5,
          83.4,
          60,
          86,
          54.5
         ],
         "yaxis": "y",
         "ybingroup": "y"
        }
       ],
       "layout": {
        "legend": {
         "tracegroupgap": 0
        },
        "margin": {
         "t": 60
        },
        "template": {
         "data": {
          "bar": [
           {
            "error_x": {
             "color": "#2a3f5f"
            },
            "error_y": {
             "color": "#2a3f5f"
            },
            "marker": {
             "line": {
              "color": "#E5ECF6",
              "width": 0.5
             },
             "pattern": {
              "fillmode": "overlay",
              "size": 10,
              "solidity": 0.2
             }
            },
            "type": "bar"
           }
          ],
          "barpolar": [
           {
            "marker": {
             "line": {
              "color": "#E5ECF6",
              "width": 0.5
             },
             "pattern": {
              "fillmode": "overlay",
              "size": 10,
              "solidity": 0.2
             }
            },
            "type": "barpolar"
           }
          ],
          "carpet": [
           {
            "aaxis": {
             "endlinecolor": "#2a3f5f",
             "gridcolor": "white",
             "linecolor": "white",
             "minorgridcolor": "white",
             "startlinecolor": "#2a3f5f"
            },
            "baxis": {
             "endlinecolor": "#2a3f5f",
             "gridcolor": "white",
             "linecolor": "white",
             "minorgridcolor": "white",
             "startlinecolor": "#2a3f5f"
            },
            "type": "carpet"
           }
          ],
          "choropleth": [
           {
            "colorbar": {
             "outlinewidth": 0,
             "ticks": ""
            },
            "type": "choropleth"
           }
          ],
          "contour": [
           {
            "colorbar": {
             "outlinewidth": 0,
             "ticks": ""
            },
            "colorscale": [
             [
              0,
              "#0d0887"
             ],
             [
              0.1111111111111111,
              "#46039f"
             ],
             [
              0.2222222222222222,
              "#7201a8"
             ],
             [
              0.3333333333333333,
              "#9c179e"
             ],
             [
              0.4444444444444444,
              "#bd3786"
             ],
             [
              0.5555555555555556,
              "#d8576b"
             ],
             [
              0.6666666666666666,
              "#ed7953"
             ],
             [
              0.7777777777777778,
              "#fb9f3a"
             ],
             [
              0.8888888888888888,
              "#fdca26"
             ],
             [
              1,
              "#f0f921"
             ]
            ],
            "type": "contour"
           }
          ],
          "contourcarpet": [
           {
            "colorbar": {
             "outlinewidth": 0,
             "ticks": ""
            },
            "type": "contourcarpet"
           }
          ],
          "heatmap": [
           {
            "colorbar": {
             "outlinewidth": 0,
             "ticks": ""
            },
            "colorscale": [
             [
              0,
              "#0d0887"
             ],
             [
              0.1111111111111111,
              "#46039f"
             ],
             [
              0.2222222222222222,
              "#7201a8"
             ],
             [
              0.3333333333333333,
              "#9c179e"
             ],
             [
              0.4444444444444444,
              "#bd3786"
             ],
             [
              0.5555555555555556,
              "#d8576b"
             ],
             [
              0.6666666666666666,
              "#ed7953"
             ],
             [
              0.7777777777777778,
              "#fb9f3a"
             ],
             [
              0.8888888888888888,
              "#fdca26"
             ],
             [
              1,
              "#f0f921"
             ]
            ],
            "type": "heatmap"
           }
          ],
          "heatmapgl": [
           {
            "colorbar": {
             "outlinewidth": 0,
             "ticks": ""
            },
            "colorscale": [
             [
              0,
              "#0d0887"
             ],
             [
              0.1111111111111111,
              "#46039f"
             ],
             [
              0.2222222222222222,
              "#7201a8"
             ],
             [
              0.3333333333333333,
              "#9c179e"
             ],
             [
              0.4444444444444444,
              "#bd3786"
             ],
             [
              0.5555555555555556,
              "#d8576b"
             ],
             [
              0.6666666666666666,
              "#ed7953"
             ],
             [
              0.7777777777777778,
              "#fb9f3a"
             ],
             [
              0.8888888888888888,
              "#fdca26"
             ],
             [
              1,
              "#f0f921"
             ]
            ],
            "type": "heatmapgl"
           }
          ],
          "histogram": [
           {
            "marker": {
             "pattern": {
              "fillmode": "overlay",
              "size": 10,
              "solidity": 0.2
             }
            },
            "type": "histogram"
           }
          ],
          "histogram2d": [
           {
            "colorbar": {
             "outlinewidth": 0,
             "ticks": ""
            },
            "colorscale": [
             [
              0,
              "#0d0887"
             ],
             [
              0.1111111111111111,
              "#46039f"
             ],
             [
              0.2222222222222222,
              "#7201a8"
             ],
             [
              0.3333333333333333,
              "#9c179e"
             ],
             [
              0.4444444444444444,
              "#bd3786"
             ],
             [
              0.5555555555555556,
              "#d8576b"
             ],
             [
              0.6666666666666666,
              "#ed7953"
             ],
             [
              0.7777777777777778,
              "#fb9f3a"
             ],
             [
              0.8888888888888888,
              "#fdca26"
             ],
             [
              1,
              "#f0f921"
             ]
            ],
            "type": "histogram2d"
           }
          ],
          "histogram2dcontour": [
           {
            "colorbar": {
             "outlinewidth": 0,
             "ticks": ""
            },
            "colorscale": [
             [
              0,
              "#0d0887"
             ],
             [
              0.1111111111111111,
              "#46039f"
             ],
             [
              0.2222222222222222,
              "#7201a8"
             ],
             [
              0.3333333333333333,
              "#9c179e"
             ],
             [
              0.4444444444444444,
              "#bd3786"
             ],
             [
              0.5555555555555556,
              "#d8576b"
             ],
             [
              0.6666666666666666,
              "#ed7953"
             ],
             [
              0.7777777777777778,
              "#fb9f3a"
             ],
             [
              0.8888888888888888,
              "#fdca26"
             ],
             [
              1,
              "#f0f921"
             ]
            ],
            "type": "histogram2dcontour"
           }
          ],
          "mesh3d": [
           {
            "colorbar": {
             "outlinewidth": 0,
             "ticks": ""
            },
            "type": "mesh3d"
           }
          ],
          "parcoords": [
           {
            "line": {
             "colorbar": {
              "outlinewidth": 0,
              "ticks": ""
             }
            },
            "type": "parcoords"
           }
          ],
          "pie": [
           {
            "automargin": true,
            "type": "pie"
           }
          ],
          "scatter": [
           {
            "marker": {
             "colorbar": {
              "outlinewidth": 0,
              "ticks": ""
             }
            },
            "type": "scatter"
           }
          ],
          "scatter3d": [
           {
            "line": {
             "colorbar": {
              "outlinewidth": 0,
              "ticks": ""
             }
            },
            "marker": {
             "colorbar": {
              "outlinewidth": 0,
              "ticks": ""
             }
            },
            "type": "scatter3d"
           }
          ],
          "scattercarpet": [
           {
            "marker": {
             "colorbar": {
              "outlinewidth": 0,
              "ticks": ""
             }
            },
            "type": "scattercarpet"
           }
          ],
          "scattergeo": [
           {
            "marker": {
             "colorbar": {
              "outlinewidth": 0,
              "ticks": ""
             }
            },
            "type": "scattergeo"
           }
          ],
          "scattergl": [
           {
            "marker": {
             "colorbar": {
              "outlinewidth": 0,
              "ticks": ""
             }
            },
            "type": "scattergl"
           }
          ],
          "scattermapbox": [
           {
            "marker": {
             "colorbar": {
              "outlinewidth": 0,
              "ticks": ""
             }
            },
            "type": "scattermapbox"
           }
          ],
          "scatterpolar": [
           {
            "marker": {
             "colorbar": {
              "outlinewidth": 0,
              "ticks": ""
             }
            },
            "type": "scatterpolar"
           }
          ],
          "scatterpolargl": [
           {
            "marker": {
             "colorbar": {
              "outlinewidth": 0,
              "ticks": ""
             }
            },
            "type": "scatterpolargl"
           }
          ],
          "scatterternary": [
           {
            "marker": {
             "colorbar": {
              "outlinewidth": 0,
              "ticks": ""
             }
            },
            "type": "scatterternary"
           }
          ],
          "surface": [
           {
            "colorbar": {
             "outlinewidth": 0,
             "ticks": ""
            },
            "colorscale": [
             [
              0,
              "#0d0887"
             ],
             [
              0.1111111111111111,
              "#46039f"
             ],
             [
              0.2222222222222222,
              "#7201a8"
             ],
             [
              0.3333333333333333,
              "#9c179e"
             ],
             [
              0.4444444444444444,
              "#bd3786"
             ],
             [
              0.5555555555555556,
              "#d8576b"
             ],
             [
              0.6666666666666666,
              "#ed7953"
             ],
             [
              0.7777777777777778,
              "#fb9f3a"
             ],
             [
              0.8888888888888888,
              "#fdca26"
             ],
             [
              1,
              "#f0f921"
             ]
            ],
            "type": "surface"
           }
          ],
          "table": [
           {
            "cells": {
             "fill": {
              "color": "#EBF0F8"
             },
             "line": {
              "color": "white"
             }
            },
            "header": {
             "fill": {
              "color": "#C8D4E3"
             },
             "line": {
              "color": "white"
             }
            },
            "type": "table"
           }
          ]
         },
         "layout": {
          "annotationdefaults": {
           "arrowcolor": "#2a3f5f",
           "arrowhead": 0,
           "arrowwidth": 1
          },
          "autotypenumbers": "strict",
          "coloraxis": {
           "colorbar": {
            "outlinewidth": 0,
            "ticks": ""
           }
          },
          "colorscale": {
           "diverging": [
            [
             0,
             "#8e0152"
            ],
            [
             0.1,
             "#c51b7d"
            ],
            [
             0.2,
             "#de77ae"
            ],
            [
             0.3,
             "#f1b6da"
            ],
            [
             0.4,
             "#fde0ef"
            ],
            [
             0.5,
             "#f7f7f7"
            ],
            [
             0.6,
             "#e6f5d0"
            ],
            [
             0.7,
             "#b8e186"
            ],
            [
             0.8,
             "#7fbc41"
            ],
            [
             0.9,
             "#4d9221"
            ],
            [
             1,
             "#276419"
            ]
           ],
           "sequential": [
            [
             0,
             "#0d0887"
            ],
            [
             0.1111111111111111,
             "#46039f"
            ],
            [
             0.2222222222222222,
             "#7201a8"
            ],
            [
             0.3333333333333333,
             "#9c179e"
            ],
            [
             0.4444444444444444,
             "#bd3786"
            ],
            [
             0.5555555555555556,
             "#d8576b"
            ],
            [
             0.6666666666666666,
             "#ed7953"
            ],
            [
             0.7777777777777778,
             "#fb9f3a"
            ],
            [
             0.8888888888888888,
             "#fdca26"
            ],
            [
             1,
             "#f0f921"
            ]
           ],
           "sequentialminus": [
            [
             0,
             "#0d0887"
            ],
            [
             0.1111111111111111,
             "#46039f"
            ],
            [
             0.2222222222222222,
             "#7201a8"
            ],
            [
             0.3333333333333333,
             "#9c179e"
            ],
            [
             0.4444444444444444,
             "#bd3786"
            ],
            [
             0.5555555555555556,
             "#d8576b"
            ],
            [
             0.6666666666666666,
             "#ed7953"
            ],
            [
             0.7777777777777778,
             "#fb9f3a"
            ],
            [
             0.8888888888888888,
             "#fdca26"
            ],
            [
             1,
             "#f0f921"
            ]
           ]
          },
          "colorway": [
           "#636efa",
           "#EF553B",
           "#00cc96",
           "#ab63fa",
           "#FFA15A",
           "#19d3f3",
           "#FF6692",
           "#B6E880",
           "#FF97FF",
           "#FECB52"
          ],
          "font": {
           "color": "#2a3f5f"
          },
          "geo": {
           "bgcolor": "white",
           "lakecolor": "white",
           "landcolor": "#E5ECF6",
           "showlakes": true,
           "showland": true,
           "subunitcolor": "white"
          },
          "hoverlabel": {
           "align": "left"
          },
          "hovermode": "closest",
          "mapbox": {
           "style": "light"
          },
          "paper_bgcolor": "white",
          "plot_bgcolor": "#E5ECF6",
          "polar": {
           "angularaxis": {
            "gridcolor": "white",
            "linecolor": "white",
            "ticks": ""
           },
           "bgcolor": "#E5ECF6",
           "radialaxis": {
            "gridcolor": "white",
            "linecolor": "white",
            "ticks": ""
           }
          },
          "scene": {
           "xaxis": {
            "backgroundcolor": "#E5ECF6",
            "gridcolor": "white",
            "gridwidth": 2,
            "linecolor": "white",
            "showbackground": true,
            "ticks": "",
            "zerolinecolor": "white"
           },
           "yaxis": {
            "backgroundcolor": "#E5ECF6",
            "gridcolor": "white",
            "gridwidth": 2,
            "linecolor": "white",
            "showbackground": true,
            "ticks": "",
            "zerolinecolor": "white"
           },
           "zaxis": {
            "backgroundcolor": "#E5ECF6",
            "gridcolor": "white",
            "gridwidth": 2,
            "linecolor": "white",
            "showbackground": true,
            "ticks": "",
            "zerolinecolor": "white"
           }
          },
          "shapedefaults": {
           "line": {
            "color": "#2a3f5f"
           }
          },
          "ternary": {
           "aaxis": {
            "gridcolor": "white",
            "linecolor": "white",
            "ticks": ""
           },
           "baxis": {
            "gridcolor": "white",
            "linecolor": "white",
            "ticks": ""
           },
           "bgcolor": "#E5ECF6",
           "caxis": {
            "gridcolor": "white",
            "linecolor": "white",
            "ticks": ""
           }
          },
          "title": {
           "x": 0.05
          },
          "xaxis": {
           "automargin": true,
           "gridcolor": "white",
           "linecolor": "white",
           "ticks": "",
           "title": {
            "standoff": 15
           },
           "zerolinecolor": "white",
           "zerolinewidth": 2
          },
          "yaxis": {
           "automargin": true,
           "gridcolor": "white",
           "linecolor": "white",
           "ticks": "",
           "title": {
            "standoff": 15
           },
           "zerolinecolor": "white",
           "zerolinewidth": 2
          }
         }
        },
        "xaxis": {
         "anchor": "y",
         "domain": [
          0,
          1
         ],
         "title": {
          "text": "Age"
         }
        },
        "yaxis": {
         "anchor": "x",
         "domain": [
          0,
          1
         ],
         "title": {
          "text": "Weight_in_kg"
         }
        }
       }
      },
      "text/html": [
       "<div>                            <div id=\"07c98d90-e903-484f-9648-2797abfe4e4c\" class=\"plotly-graph-div\" style=\"height:525px; width:100%;\"></div>            <script type=\"text/javascript\">                require([\"plotly\"], function(Plotly) {                    window.PLOTLYENV=window.PLOTLYENV || {};                                    if (document.getElementById(\"07c98d90-e903-484f-9648-2797abfe4e4c\")) {                    Plotly.newPlot(                        \"07c98d90-e903-484f-9648-2797abfe4e4c\",                        [{\"contours\":{\"coloring\":\"none\"},\"hovertemplate\":\"Age=%{x}<br>Weight_in_kg=%{y}<br>count=%{z}<extra></extra>\",\"legendgroup\":\"\",\"line\":{\"color\":\"#636efa\"},\"name\":\"\",\"showlegend\":false,\"x\":[38.0,25.0,31.34,33.0,27.0,36.0,0.0,27.0,22.2,24.0,25.0,27.0,28.0,22.5,24.0,25.0,33.0,33.0,30.0,25.0,31.0,33.0,21.0,25.0,30.0,24.0,30.0,25.0,33.0,33.9,30.0,26.0,27.9,31.0,29.0,21.0,23.0,24.3,28.0,26.0,31.0,31.0,33.0,20.0,26.0,32.75,28.0,34.0,29.0,27.0,18.0,28.0,26.3,25.0,36.0,38.0,35.0,32.0,32.0,26.5,21.0,33.0,25.0,27.75,26.0,30.0,28.0,19.5,29.8,21.0,33.0,35.0,39.0,28.0,29.0,32.2,23.99,24.6,25.0,20.0,0.0,22.0,26.0,27.9,18.0,24.0,25.0,19.0,30.4,22.0,32.0,31.0,28.0,27.0,28.11,32.8,25.0,26.5,40.0,42.0,29.0,90.0,23.0,21.0,25.0,20.0,26.11,24.0,43.0,24.0,22.6,27.0,24.0,27.0,26.0,29.25,26.0,41.0,37.0,30.0,29.0,29.0,20.0,29.0,43.0,44.8,27.5,25.0,23.0,30.0,21.0,26.0,27.0,39.5,30.5,2.0,19.0,30.0,29.0,29.0,29.0,25.0,22.0,27.0,24.0,24.0,26.0,25.0,31.2,51.0,28.0,34.25,27.0,33.0,23.5,26.0,31.8,23.0,25.0,27.0,28.1,21.0,28.0,25.0,21.6,22.0,31.5,32.0,24.0,28.0,27.0,28.0,25.0,26.0,33.0,30.0,24.1,26.0,22.0,25.0,33.0,19.0,26.0,26.0,26.0,34.0,34.0,24.0,22.0,19.8,33.0,31.0,22.0,22.0,30.4,20.0,23.0,30.1,29.0,31.5,20.0,23.0,21.0,38.0,25.0,30.0,26.0,28.0,29.0,28.0,31.04,40.0,30.0,28.0,31.0,23.0,29.0,23.0,24.0,25.2,23.0,20.0,30.0,26.0,19.0,24.0,25.0,24.0,29.0,27.0,23.0,25.0,26.3,26.95,33.0,30.0,23.0,29.0,33.0,21.0,35.0,27.5,24.6,27.0,28.0,34.9,22.0,26.0,25.0,23.0,20.0,23.0,22.9,22.0,14.2,32.0,32.0,29.0,28.0,24.0,30.5,31.0,35.0,35.11,23.0,22.0,20.0,25.0,31.0,46.4,30.0,21.0,21.0,31.0,23.4,32.0,16.0,22.0,68.0,28.0,25.0,36.5,29.0,25.0,21.0,21.0,0.0,11.0,31.0,43.0,22.0,25.0,25.0,32.0,24.0,25.0,35.0,29.0,42.0,26.0,34.0,24.0,32.0,26.5,30.0,32.0,27.0,26.0,31.0,28.0,26.0,37.0,26.0,27.3,29.0,31.0,37.0,22.0,26.0,21.0,22.0,32.0,10.5,27.5,25.0,25.0,29.0,25.0,40.1,42.0,22.0,20.0,26.0,21.0,32.7,26.0,21.0,26.5,33.0,27.0,19.0,31.0,35.0,29.0,30.0,28.0,32.0,20.0,24.0,29.0,38.0,31.0,26.6,36.0,27.0,23.0,26.0,32.0,20.0,27.0,32.0,29.0,25.0,28.0,29.0,28.0,22.0,24.0,30.0,24.0,28.0,33.0,22.8,29.0,31.0],\"xaxis\":\"x\",\"xbingroup\":\"x\",\"y\":[77.0,53.6,93.0,60.0,59.9,99.0,58.0,100.0,76.8,84.0,78.0,50.0,64.21,63.0,88.2,68.5,75.8,72.0,74.5,130.0,72.5,70.2,55.0,69.0,65.5,83.5,60.0,69.5,72.0,97.5,85.0,55.5,60.0,80.0,78.0,52.5,67.0,93.5,68.3,96.0,64.0,75.0,84.0,75.0,47.0,72.5,50.0,87.5,62.5,88.6,52.0,50.0,71.2,60.0,100.5,93.9,78.9,60.0,70.0,65.0,63.5,82.0,105.5,85.6,89.0,80.0,100.0,52.0,75.4,50.0,98.0,75.5,71.0,78.5,88.2,70.2,57.5,63.4,62.0,64.0,68.0,68.5,69.0,63.5,57.4,43.0,75.0,50.0,88.0,39.5,72.0,98.0,79.0,55.5,68.3,88.4,84.0,82.5,83.5,90.0,77.5,90.0,67.9,71.5,76.0,48.0,76.0,42.6,70.0,48.0,67.4,54.0,60.5,104.5,55.0,93.5,106.05,97.0,77.0,79.5,80.0,74.0,75.0,75.6,82.5,70.5,56.0,86.0,41.2,61.0,59.0,75.5,61.5,54.3,89.5,70.0,55.2,56.9,69.0,56.5,50.2,52.27,60.0,65.21,54.0,65.0,68.0,68.0,72.0,70.5,46.0,82.27,57.0,101.5,94.5,86.5,65.5,62.0,43.0,63.5,60.5,50.0,75.0,67.0,68.5,60.0,71.5,74.0,55.0,70.0,72.0,70.0,48.2,105.0,78.0,69.5,65.8,68.0,60.0,47.5,85.0,75.5,90.2,56.5,90.0,70.5,78.5,52.0,55.0,74.0,68.0,72.0,63.5,68.2,82.4,50.0,53.0,55.0,45.0,82.5,67.12,59.5,58.5,70.2,75.0,78.8,65.0,161.0,70.0,72.5,58.1,80.0,65.0,68.5,70.0,65.0,65.5,85.0,50.0,135.0,75.0,68.0,75.45,68.5,52.0,100.0,60.0,68.0,65.0,70.0,60.2,57.0,65.7,74.0,63.0,80.0,70.85,65.0,85.0,60.0,84.0,46.5,56.61,110.0,63.5,88.0,68.0,65.0,61.0,55.0,53.0,50.0,70.0,48.0,30.5,85.0,79.0,66.0,84.0,56.0,40.0,76.6,80.0,78.5,58.0,48.0,53.0,42.0,90.0,90.0,54.5,52.1,48.0,85.0,59.5,72.5,60.0,58.0,68.0,65.0,46.0,78.5,54.0,114.0,92.4,72.0,51.0,45.0,58.0,87.0,49.0,64.0,74.0,86.0,65.0,82.0,46.9,50.2,70.0,45.0,48.0,55.0,54.5,72.0,61.0,55.0,58.0,88.8,65.0,46.0,45.5,69.1,58.0,66.5,92.0,90.0,65.0,31.75,65.6,67.0,64.0,58.0,79.75,92.0,80.0,65.0,65.0,75.0,86.34,75.0,70.0,64.0,64.0,52.1,85.5,76.0,60.0,67.5,80.2,60.5,60.0,60.5,78.0,90.0,55.5,70.0,72.0,70.5,54.0,66.0,84.0,63.0,68.7,68.5,78.0,50.0,50.0,55.0,64.0,67.0,85.0,66.5,75.0,70.0,82.0,85.0,48.0,60.0,75.55,70.0,70.5,83.4,60.0,86.0,54.5],\"yaxis\":\"y\",\"ybingroup\":\"y\",\"type\":\"histogram2dcontour\"}],                        {\"template\":{\"data\":{\"bar\":[{\"error_x\":{\"color\":\"#2a3f5f\"},\"error_y\":{\"color\":\"#2a3f5f\"},\"marker\":{\"line\":{\"color\":\"#E5ECF6\",\"width\":0.5},\"pattern\":{\"fillmode\":\"overlay\",\"size\":10,\"solidity\":0.2}},\"type\":\"bar\"}],\"barpolar\":[{\"marker\":{\"line\":{\"color\":\"#E5ECF6\",\"width\":0.5},\"pattern\":{\"fillmode\":\"overlay\",\"size\":10,\"solidity\":0.2}},\"type\":\"barpolar\"}],\"carpet\":[{\"aaxis\":{\"endlinecolor\":\"#2a3f5f\",\"gridcolor\":\"white\",\"linecolor\":\"white\",\"minorgridcolor\":\"white\",\"startlinecolor\":\"#2a3f5f\"},\"baxis\":{\"endlinecolor\":\"#2a3f5f\",\"gridcolor\":\"white\",\"linecolor\":\"white\",\"minorgridcolor\":\"white\",\"startlinecolor\":\"#2a3f5f\"},\"type\":\"carpet\"}],\"choropleth\":[{\"colorbar\":{\"outlinewidth\":0,\"ticks\":\"\"},\"type\":\"choropleth\"}],\"contour\":[{\"colorbar\":{\"outlinewidth\":0,\"ticks\":\"\"},\"colorscale\":[[0.0,\"#0d0887\"],[0.1111111111111111,\"#46039f\"],[0.2222222222222222,\"#7201a8\"],[0.3333333333333333,\"#9c179e\"],[0.4444444444444444,\"#bd3786\"],[0.5555555555555556,\"#d8576b\"],[0.6666666666666666,\"#ed7953\"],[0.7777777777777778,\"#fb9f3a\"],[0.8888888888888888,\"#fdca26\"],[1.0,\"#f0f921\"]],\"type\":\"contour\"}],\"contourcarpet\":[{\"colorbar\":{\"outlinewidth\":0,\"ticks\":\"\"},\"type\":\"contourcarpet\"}],\"heatmap\":[{\"colorbar\":{\"outlinewidth\":0,\"ticks\":\"\"},\"colorscale\":[[0.0,\"#0d0887\"],[0.1111111111111111,\"#46039f\"],[0.2222222222222222,\"#7201a8\"],[0.3333333333333333,\"#9c179e\"],[0.4444444444444444,\"#bd3786\"],[0.5555555555555556,\"#d8576b\"],[0.6666666666666666,\"#ed7953\"],[0.7777777777777778,\"#fb9f3a\"],[0.8888888888888888,\"#fdca26\"],[1.0,\"#f0f921\"]],\"type\":\"heatmap\"}],\"heatmapgl\":[{\"colorbar\":{\"outlinewidth\":0,\"ticks\":\"\"},\"colorscale\":[[0.0,\"#0d0887\"],[0.1111111111111111,\"#46039f\"],[0.2222222222222222,\"#7201a8\"],[0.3333333333333333,\"#9c179e\"],[0.4444444444444444,\"#bd3786\"],[0.5555555555555556,\"#d8576b\"],[0.6666666666666666,\"#ed7953\"],[0.7777777777777778,\"#fb9f3a\"],[0.8888888888888888,\"#fdca26\"],[1.0,\"#f0f921\"]],\"type\":\"heatmapgl\"}],\"histogram\":[{\"marker\":{\"pattern\":{\"fillmode\":\"overlay\",\"size\":10,\"solidity\":0.2}},\"type\":\"histogram\"}],\"histogram2d\":[{\"colorbar\":{\"outlinewidth\":0,\"ticks\":\"\"},\"colorscale\":[[0.0,\"#0d0887\"],[0.1111111111111111,\"#46039f\"],[0.2222222222222222,\"#7201a8\"],[0.3333333333333333,\"#9c179e\"],[0.4444444444444444,\"#bd3786\"],[0.5555555555555556,\"#d8576b\"],[0.6666666666666666,\"#ed7953\"],[0.7777777777777778,\"#fb9f3a\"],[0.8888888888888888,\"#fdca26\"],[1.0,\"#f0f921\"]],\"type\":\"histogram2d\"}],\"histogram2dcontour\":[{\"colorbar\":{\"outlinewidth\":0,\"ticks\":\"\"},\"colorscale\":[[0.0,\"#0d0887\"],[0.1111111111111111,\"#46039f\"],[0.2222222222222222,\"#7201a8\"],[0.3333333333333333,\"#9c179e\"],[0.4444444444444444,\"#bd3786\"],[0.5555555555555556,\"#d8576b\"],[0.6666666666666666,\"#ed7953\"],[0.7777777777777778,\"#fb9f3a\"],[0.8888888888888888,\"#fdca26\"],[1.0,\"#f0f921\"]],\"type\":\"histogram2dcontour\"}],\"mesh3d\":[{\"colorbar\":{\"outlinewidth\":0,\"ticks\":\"\"},\"type\":\"mesh3d\"}],\"parcoords\":[{\"line\":{\"colorbar\":{\"outlinewidth\":0,\"ticks\":\"\"}},\"type\":\"parcoords\"}],\"pie\":[{\"automargin\":true,\"type\":\"pie\"}],\"scatter\":[{\"marker\":{\"colorbar\":{\"outlinewidth\":0,\"ticks\":\"\"}},\"type\":\"scatter\"}],\"scatter3d\":[{\"line\":{\"colorbar\":{\"outlinewidth\":0,\"ticks\":\"\"}},\"marker\":{\"colorbar\":{\"outlinewidth\":0,\"ticks\":\"\"}},\"type\":\"scatter3d\"}],\"scattercarpet\":[{\"marker\":{\"colorbar\":{\"outlinewidth\":0,\"ticks\":\"\"}},\"type\":\"scattercarpet\"}],\"scattergeo\":[{\"marker\":{\"colorbar\":{\"outlinewidth\":0,\"ticks\":\"\"}},\"type\":\"scattergeo\"}],\"scattergl\":[{\"marker\":{\"colorbar\":{\"outlinewidth\":0,\"ticks\":\"\"}},\"type\":\"scattergl\"}],\"scattermapbox\":[{\"marker\":{\"colorbar\":{\"outlinewidth\":0,\"ticks\":\"\"}},\"type\":\"scattermapbox\"}],\"scatterpolar\":[{\"marker\":{\"colorbar\":{\"outlinewidth\":0,\"ticks\":\"\"}},\"type\":\"scatterpolar\"}],\"scatterpolargl\":[{\"marker\":{\"colorbar\":{\"outlinewidth\":0,\"ticks\":\"\"}},\"type\":\"scatterpolargl\"}],\"scatterternary\":[{\"marker\":{\"colorbar\":{\"outlinewidth\":0,\"ticks\":\"\"}},\"type\":\"scatterternary\"}],\"surface\":[{\"colorbar\":{\"outlinewidth\":0,\"ticks\":\"\"},\"colorscale\":[[0.0,\"#0d0887\"],[0.1111111111111111,\"#46039f\"],[0.2222222222222222,\"#7201a8\"],[0.3333333333333333,\"#9c179e\"],[0.4444444444444444,\"#bd3786\"],[0.5555555555555556,\"#d8576b\"],[0.6666666666666666,\"#ed7953\"],[0.7777777777777778,\"#fb9f3a\"],[0.8888888888888888,\"#fdca26\"],[1.0,\"#f0f921\"]],\"type\":\"surface\"}],\"table\":[{\"cells\":{\"fill\":{\"color\":\"#EBF0F8\"},\"line\":{\"color\":\"white\"}},\"header\":{\"fill\":{\"color\":\"#C8D4E3\"},\"line\":{\"color\":\"white\"}},\"type\":\"table\"}]},\"layout\":{\"annotationdefaults\":{\"arrowcolor\":\"#2a3f5f\",\"arrowhead\":0,\"arrowwidth\":1},\"autotypenumbers\":\"strict\",\"coloraxis\":{\"colorbar\":{\"outlinewidth\":0,\"ticks\":\"\"}},\"colorscale\":{\"diverging\":[[0,\"#8e0152\"],[0.1,\"#c51b7d\"],[0.2,\"#de77ae\"],[0.3,\"#f1b6da\"],[0.4,\"#fde0ef\"],[0.5,\"#f7f7f7\"],[0.6,\"#e6f5d0\"],[0.7,\"#b8e186\"],[0.8,\"#7fbc41\"],[0.9,\"#4d9221\"],[1,\"#276419\"]],\"sequential\":[[0.0,\"#0d0887\"],[0.1111111111111111,\"#46039f\"],[0.2222222222222222,\"#7201a8\"],[0.3333333333333333,\"#9c179e\"],[0.4444444444444444,\"#bd3786\"],[0.5555555555555556,\"#d8576b\"],[0.6666666666666666,\"#ed7953\"],[0.7777777777777778,\"#fb9f3a\"],[0.8888888888888888,\"#fdca26\"],[1.0,\"#f0f921\"]],\"sequentialminus\":[[0.0,\"#0d0887\"],[0.1111111111111111,\"#46039f\"],[0.2222222222222222,\"#7201a8\"],[0.3333333333333333,\"#9c179e\"],[0.4444444444444444,\"#bd3786\"],[0.5555555555555556,\"#d8576b\"],[0.6666666666666666,\"#ed7953\"],[0.7777777777777778,\"#fb9f3a\"],[0.8888888888888888,\"#fdca26\"],[1.0,\"#f0f921\"]]},\"colorway\":[\"#636efa\",\"#EF553B\",\"#00cc96\",\"#ab63fa\",\"#FFA15A\",\"#19d3f3\",\"#FF6692\",\"#B6E880\",\"#FF97FF\",\"#FECB52\"],\"font\":{\"color\":\"#2a3f5f\"},\"geo\":{\"bgcolor\":\"white\",\"lakecolor\":\"white\",\"landcolor\":\"#E5ECF6\",\"showlakes\":true,\"showland\":true,\"subunitcolor\":\"white\"},\"hoverlabel\":{\"align\":\"left\"},\"hovermode\":\"closest\",\"mapbox\":{\"style\":\"light\"},\"paper_bgcolor\":\"white\",\"plot_bgcolor\":\"#E5ECF6\",\"polar\":{\"angularaxis\":{\"gridcolor\":\"white\",\"linecolor\":\"white\",\"ticks\":\"\"},\"bgcolor\":\"#E5ECF6\",\"radialaxis\":{\"gridcolor\":\"white\",\"linecolor\":\"white\",\"ticks\":\"\"}},\"scene\":{\"xaxis\":{\"backgroundcolor\":\"#E5ECF6\",\"gridcolor\":\"white\",\"gridwidth\":2,\"linecolor\":\"white\",\"showbackground\":true,\"ticks\":\"\",\"zerolinecolor\":\"white\"},\"yaxis\":{\"backgroundcolor\":\"#E5ECF6\",\"gridcolor\":\"white\",\"gridwidth\":2,\"linecolor\":\"white\",\"showbackground\":true,\"ticks\":\"\",\"zerolinecolor\":\"white\"},\"zaxis\":{\"backgroundcolor\":\"#E5ECF6\",\"gridcolor\":\"white\",\"gridwidth\":2,\"linecolor\":\"white\",\"showbackground\":true,\"ticks\":\"\",\"zerolinecolor\":\"white\"}},\"shapedefaults\":{\"line\":{\"color\":\"#2a3f5f\"}},\"ternary\":{\"aaxis\":{\"gridcolor\":\"white\",\"linecolor\":\"white\",\"ticks\":\"\"},\"baxis\":{\"gridcolor\":\"white\",\"linecolor\":\"white\",\"ticks\":\"\"},\"bgcolor\":\"#E5ECF6\",\"caxis\":{\"gridcolor\":\"white\",\"linecolor\":\"white\",\"ticks\":\"\"}},\"title\":{\"x\":0.05},\"xaxis\":{\"automargin\":true,\"gridcolor\":\"white\",\"linecolor\":\"white\",\"ticks\":\"\",\"title\":{\"standoff\":15},\"zerolinecolor\":\"white\",\"zerolinewidth\":2},\"yaxis\":{\"automargin\":true,\"gridcolor\":\"white\",\"linecolor\":\"white\",\"ticks\":\"\",\"title\":{\"standoff\":15},\"zerolinecolor\":\"white\",\"zerolinewidth\":2}}},\"xaxis\":{\"anchor\":\"y\",\"domain\":[0.0,1.0],\"title\":{\"text\":\"Age\"}},\"yaxis\":{\"anchor\":\"x\",\"domain\":[0.0,1.0],\"title\":{\"text\":\"Weight_in_kg\"}},\"legend\":{\"tracegroupgap\":0},\"margin\":{\"t\":60}},                        {\"responsive\": true}                    ).then(function(){\n",
       "                            \n",
       "var gd = document.getElementById('07c98d90-e903-484f-9648-2797abfe4e4c');\n",
       "var x = new MutationObserver(function (mutations, observer) {{\n",
       "        var display = window.getComputedStyle(gd).display;\n",
       "        if (!display || display === 'none') {{\n",
       "            console.log([gd, 'removed!']);\n",
       "            Plotly.purge(gd);\n",
       "            observer.disconnect();\n",
       "        }}\n",
       "}});\n",
       "\n",
       "// Listen for the removal of the full notebook cells\n",
       "var notebookContainer = gd.closest('#notebook-container');\n",
       "if (notebookContainer) {{\n",
       "    x.observe(notebookContainer, {childList: true});\n",
       "}}\n",
       "\n",
       "// Listen for the clearing of the current output cell\n",
       "var outputEl = gd.closest('.output');\n",
       "if (outputEl) {{\n",
       "    x.observe(outputEl, {childList: true});\n",
       "}}\n",
       "\n",
       "                        })                };                });            </script>        </div>"
      ]
     },
     "metadata": {},
     "output_type": "display_data"
    }
   ],
   "source": [
    "import plotly.express as px\n",
    "import pandas as pd \n",
    "data= pd.read_csv(\"new_data.csv\")\n",
    "\n",
    "fig = px.density_contour(data, x=\"Age\", y=\"Weight_in_kg\")\n",
    "fig.show()"
   ]
  },
  {
   "cell_type": "markdown",
   "id": "19b73485",
   "metadata": {},
   "source": [
    "---"
   ]
  },
  {
   "cell_type": "code",
   "execution_count": 80,
   "id": "34b54948",
   "metadata": {
    "scrolled": false
   },
   "outputs": [
    {
     "data": {
      "application/vnd.plotly.v1+json": {
       "config": {
        "plotlyServerURL": "https://plot.ly"
       },
       "data": [
        {
         "hovertemplate": "Qualification=Masters<br>Age=%{r}<br>Location=%{theta}<extra></extra>",
         "legendgroup": "Masters",
         "line": {
          "color": "#f0f921",
          "dash": "solid"
         },
         "marker": {
          "symbol": "circle"
         },
         "mode": "lines",
         "name": "Masters",
         "r": [
          38,
          31.34,
          33,
          27,
          36,
          0,
          27,
          28,
          25,
          33,
          31,
          27.9,
          23,
          28,
          26,
          31,
          33,
          26,
          32.75,
          28,
          29,
          27,
          25,
          36,
          38,
          35,
          32,
          32,
          26.5,
          27.75,
          28,
          29.8,
          33,
          35,
          28,
          32.2,
          24.6,
          0,
          27.9,
          30.4,
          31,
          27,
          28.11,
          32.8,
          26.5,
          40,
          42,
          29,
          24,
          43,
          26,
          29.25,
          26,
          41,
          30,
          29,
          29,
          43,
          44.8,
          27.5,
          26,
          27,
          39.5,
          30,
          29,
          29,
          29,
          24,
          25,
          28,
          34.25,
          27,
          33,
          23.5,
          26,
          27,
          28,
          25,
          31.5,
          32,
          24,
          28,
          25,
          26,
          30,
          33,
          26,
          34,
          34,
          30.4,
          30.1,
          29,
          38,
          30,
          31.04,
          40,
          30,
          31,
          29,
          30,
          26,
          25,
          27,
          33,
          29,
          33,
          35,
          27.5,
          27,
          34.9,
          22,
          26,
          25,
          22.9,
          28,
          30.5,
          31,
          35,
          35.11,
          23,
          31,
          46.4,
          30,
          32,
          28,
          36.5,
          0,
          31,
          43,
          25,
          25,
          35,
          29,
          42,
          26,
          34,
          26.5,
          30,
          32,
          27,
          26,
          26,
          37,
          26,
          27.3,
          29,
          31,
          26,
          32,
          10.5,
          27.5,
          25,
          42,
          26,
          33,
          31,
          35,
          29,
          28,
          38,
          31,
          32,
          25,
          28,
          22,
          30,
          28,
          29,
          31,
          38
         ],
         "showlegend": true,
         "subplot": "polar",
         "theta": [
          "Pakistan",
          "Pakistan",
          "Pakistan",
          "Pakistan",
          "Pakistan",
          "Pakistan",
          "Pakistan",
          "West",
          "East",
          "Pakistan",
          "Pakistan",
          "Pakistan",
          "Pakistan",
          "West",
          "Pakistan",
          "Pakistan",
          "Pakistan",
          "Pakistan",
          "West",
          "Pakistan",
          "Pakistan",
          "Pakistan",
          "Pakistan",
          "Pakistan",
          "Pakistan",
          "Pakistan",
          "West",
          "Pakistan",
          "Pakistan",
          "Pakistan",
          "Pakistan",
          "Pakistan",
          "Pakistan",
          "Pakistan",
          "Pakistan",
          "Pakistan",
          "Pakistan",
          "Pakistan",
          "Pakistan",
          "Pakistan",
          "Pakistan",
          "Pakistan",
          "West",
          "Pakistan",
          "Pakistan",
          "Pakistan",
          "Pakistan",
          "West",
          "Pakistan",
          "Pakistan",
          "Pakistan",
          "Pakistan",
          "Pakistan",
          "Pakistan",
          "Pakistan",
          "Pakistan",
          "Pakistan",
          "West",
          "Pakistan",
          "Pakistan",
          "Pakistan",
          "Pakistan",
          "Pakistan",
          "East",
          "Pakistan",
          "Pakistan",
          "Pakistan",
          "Pakistan",
          "Pakistan",
          "Pakistan",
          "West",
          "West",
          "Pakistan",
          "Pakistan",
          "Pakistan",
          "Pakistan",
          "Pakistan",
          "Pakistan",
          "West",
          "Pakistan",
          "India",
          "Pakistan",
          "Pakistan",
          "Pakistan",
          "Pakistan",
          "Pakistan",
          "Pakistan",
          "West",
          "Pakistan",
          "Pakistan",
          "Pakistan",
          "Pakistan",
          "Pakistan",
          "Pakistan",
          "West",
          "Pakistan",
          "Pakistan",
          "Pakistan",
          "Pakistan",
          "Pakistan",
          "Pakistan",
          "Pakistan",
          "Pakistan",
          "Pakistan",
          "Pakistan",
          "Pakistan",
          "West",
          "Pakistan",
          "Pakistan",
          "Pakistan",
          "Pakistan",
          "West",
          "Pakistan",
          "Pakistan",
          "Pakistan",
          "Pakistan",
          "Pakistan",
          "Pakistan",
          "Pakistan",
          "Pakistan",
          "Pakistan",
          "Pakistan",
          "Pakistan",
          "Pakistan",
          "West",
          "East",
          "Pakistan",
          "Pakistan",
          "Pakistan",
          "Pakistan",
          "Pakistan",
          "Pakistan",
          "Pakistan",
          "Pakistan",
          "Pakistan",
          "Pakistan",
          "Pakistan",
          "India",
          "Pakistan",
          "Pakistan",
          "Pakistan",
          "Pakistan",
          "Pakistan",
          "Pakistan",
          "Pakistan",
          "Pakistan",
          "Pakistan",
          "Pakistan",
          "Pakistan",
          "West",
          "Pakistan",
          "West",
          "Pakistan",
          "Pakistan",
          "Pakistan",
          "Pakistan",
          "Pakistan",
          "Pakistan",
          "Pakistan",
          "Pakistan",
          "West",
          "Pakistan",
          "Pakistan",
          "West",
          "Pakistan",
          "Pakistan",
          "Pakistan",
          "Pakistan",
          "Pakistan",
          "Pakistan"
         ],
         "type": "scatterpolar"
        },
        {
         "hovertemplate": "Qualification=Bachelors<br>Age=%{r}<br>Location=%{theta}<extra></extra>",
         "legendgroup": "Bachelors",
         "line": {
          "color": "#fdca26",
          "dash": "solid"
         },
         "marker": {
          "symbol": "circle"
         },
         "mode": "lines",
         "name": "Bachelors",
         "r": [
          25,
          27,
          22.2,
          24,
          24,
          33,
          25,
          25,
          24,
          25,
          33,
          26,
          29,
          24.3,
          31,
          34,
          28,
          26.3,
          25,
          26,
          39,
          29,
          23.99,
          25,
          26,
          24,
          25,
          19,
          22,
          32,
          28,
          25,
          90,
          23,
          25,
          26.11,
          24,
          22.6,
          27,
          24,
          29,
          25,
          23,
          30,
          2,
          25,
          22,
          24,
          26,
          51,
          23,
          25,
          28.1,
          22,
          27,
          28,
          33,
          24.1,
          26,
          22,
          25,
          26,
          26,
          24,
          22,
          19.8,
          33,
          20,
          23,
          23,
          21,
          25,
          26,
          28,
          29,
          28,
          23,
          25.2,
          24,
          24,
          29,
          23,
          25,
          26.3,
          26.95,
          30,
          23,
          24.6,
          28,
          23,
          32,
          29,
          24,
          20,
          25,
          21,
          23.4,
          22,
          25,
          25,
          25,
          32,
          24,
          24,
          32,
          28,
          22,
          21,
          25,
          40.1,
          22,
          26,
          21,
          26.5,
          27,
          30,
          32,
          24,
          29,
          26.6,
          36,
          27,
          23,
          26,
          27,
          32,
          29,
          28,
          29,
          24,
          24,
          33,
          22.8,
          25
         ],
         "showlegend": true,
         "subplot": "polar",
         "theta": [
          "Pakistan",
          "West",
          "Pakistan",
          "West",
          "Pakistan",
          "Pakistan",
          "Pakistan",
          "West",
          "Pakistan",
          "Pakistan",
          "Pakistan",
          "Pakistan",
          "Pakistan",
          "Pakistan",
          "Pakistan",
          "West",
          "Pakistan",
          "East",
          "Pakistan",
          "Pakistan",
          "Pakistan",
          "Pakistan",
          "Pakistan",
          "Pakistan",
          "Pakistan",
          "Pakistan",
          "Pakistan",
          "Pakistan",
          "Pakistan",
          "Pakistan",
          "Pakistan",
          "Pakistan",
          "Pakistan",
          "Pakistan",
          "Pakistan",
          "Pakistan",
          "Pakistan",
          "Pakistan",
          "Pakistan",
          "Pakistan",
          "Pakistan",
          "Pakistan",
          "Pakistan",
          "Pakistan",
          "Pakistan",
          "West",
          "Pakistan",
          "Pakistan",
          "Pakistan",
          "Pakistan",
          "Pakistan",
          "Pakistan",
          "Pakistan",
          "Pakistan",
          "Pakistan",
          "West",
          "Pakistan",
          "Pakistan",
          "Pakistan",
          "Pakistan",
          "Pakistan",
          "East",
          "Pakistan",
          "Pakistan",
          "Pakistan",
          "Pakistan",
          "West",
          "Pakistan",
          "Pakistan",
          "Pakistan",
          "Pakistan",
          "Pakistan",
          "Pakistan",
          "West",
          "East",
          "Pakistan",
          "Pakistan",
          "Pakistan",
          "Pakistan",
          "Pakistan",
          "Pakistan",
          "Pakistan",
          "Pakistan",
          "Pakistan",
          "Pakistan",
          "Pakistan",
          "Pakistan",
          "Pakistan",
          "Pakistan",
          "Pakistan",
          "Pakistan",
          "Pakistan",
          "Pakistan",
          "Pakistan",
          "Pakistan",
          "Pakistan",
          "Pakistan",
          "Pakistan",
          "Pakistan",
          "Pakistan",
          "Pakistan",
          "Pakistan",
          "Pakistan",
          "West",
          "Pakistan",
          "Pakistan",
          "Pakistan",
          "Pakistan",
          "Pakistan",
          "Pakistan",
          "Pakistan",
          "Pakistan",
          "Pakistan",
          "Pakistan",
          "Pakistan",
          "Pakistan",
          "Pakistan",
          "Pakistan",
          "Pakistan",
          "Pakistan",
          "Pakistan",
          "Pakistan",
          "Pakistan",
          "Pakistan",
          "Pakistan",
          "Pakistan",
          "Pakistan",
          "Pakistan",
          "East",
          "Pakistan",
          "Pakistan",
          "Pakistan",
          "Pakistan",
          "Pakistan"
         ],
         "type": "scatterpolar"
        },
        {
         "hovertemplate": "Qualification=PhD<br>Age=%{r}<br>Location=%{theta}<extra></extra>",
         "legendgroup": "PhD",
         "line": {
          "color": "#fb9f3a",
          "dash": "solid"
         },
         "marker": {
          "symbol": "circle"
         },
         "mode": "lines",
         "name": "PhD",
         "r": [
          25,
          30,
          33,
          30,
          30,
          33.9,
          30,
          31,
          33,
          30,
          27,
          37,
          30.5,
          27,
          31.2,
          31.8,
          31,
          31.5,
          28,
          32,
          31,
          68,
          29,
          31,
          37,
          25,
          29,
          32.7,
          25
         ],
         "showlegend": true,
         "subplot": "polar",
         "theta": [
          "East",
          "East",
          "Pakistan",
          "East",
          "Pakistan",
          "East",
          "East",
          "West",
          "Pakistan",
          "Pakistan",
          "East",
          "Pakistan",
          "Pakistan",
          "Pakistan",
          "Pakistan",
          "Pakistan",
          "West",
          "Pakistan",
          "Pakistan",
          "Pakistan",
          "Pakistan",
          "Pakistan",
          "Pakistan",
          "Pakistan",
          "West",
          "Pakistan",
          "West",
          "Pakistan",
          "East"
         ],
         "type": "scatterpolar"
        },
        {
         "hovertemplate": "Qualification=Pre-Bachelors<br>Age=%{r}<br>Location=%{theta}<extra></extra>",
         "legendgroup": "Pre-Bachelors",
         "line": {
          "color": "#ed7953",
          "dash": "solid"
         },
         "marker": {
          "symbol": "circle"
         },
         "mode": "lines",
         "name": "Pre-Bachelors",
         "r": [
          22.5,
          21,
          21,
          20,
          18,
          21,
          19.5,
          21,
          20,
          22,
          18,
          21,
          20,
          20,
          21,
          19,
          21,
          21.6,
          19,
          22,
          22,
          20,
          23,
          24,
          23,
          20,
          19,
          21,
          23,
          20,
          22,
          14.2,
          22,
          21,
          16,
          21,
          21,
          11,
          22,
          22,
          20,
          21,
          19,
          20,
          20,
          22.5
         ],
         "showlegend": true,
         "subplot": "polar",
         "theta": [
          "Pakistan",
          "Pakistan",
          "Pakistan",
          "Pakistan",
          "Pakistan",
          "Pakistan",
          "Pakistan",
          "Pakistan",
          "Pakistan",
          "Pakistan",
          "Pakistan",
          "Pakistan",
          "Pakistan",
          "Pakistan",
          "Pakistan",
          "West",
          "Pakistan",
          "Pakistan",
          "Pakistan",
          "Pakistan",
          "Pakistan",
          "Pakistan",
          "Pakistan",
          "Pakistan",
          "Pakistan",
          "Pakistan",
          "Pakistan",
          "Pakistan",
          "Pakistan",
          "Pakistan",
          "Pakistan",
          "West",
          "Pakistan",
          "Pakistan",
          "West",
          "Pakistan",
          "Pakistan",
          "West",
          "Pakistan",
          "Pakistan",
          "East",
          "Pakistan",
          "Pakistan",
          "Pakistan",
          "Pakistan",
          "Pakistan"
         ],
         "type": "scatterpolar"
        }
       ],
       "layout": {
        "legend": {
         "title": {
          "text": "Qualification"
         },
         "tracegroupgap": 0
        },
        "margin": {
         "t": 60
        },
        "polar": {
         "angularaxis": {
          "direction": "clockwise",
          "rotation": 90
         },
         "domain": {
          "x": [
           0,
           1
          ],
          "y": [
           0,
           1
          ]
         }
        },
        "template": {
         "data": {
          "bar": [
           {
            "error_x": {
             "color": "#2a3f5f"
            },
            "error_y": {
             "color": "#2a3f5f"
            },
            "marker": {
             "line": {
              "color": "#E5ECF6",
              "width": 0.5
             },
             "pattern": {
              "fillmode": "overlay",
              "size": 10,
              "solidity": 0.2
             }
            },
            "type": "bar"
           }
          ],
          "barpolar": [
           {
            "marker": {
             "line": {
              "color": "#E5ECF6",
              "width": 0.5
             },
             "pattern": {
              "fillmode": "overlay",
              "size": 10,
              "solidity": 0.2
             }
            },
            "type": "barpolar"
           }
          ],
          "carpet": [
           {
            "aaxis": {
             "endlinecolor": "#2a3f5f",
             "gridcolor": "white",
             "linecolor": "white",
             "minorgridcolor": "white",
             "startlinecolor": "#2a3f5f"
            },
            "baxis": {
             "endlinecolor": "#2a3f5f",
             "gridcolor": "white",
             "linecolor": "white",
             "minorgridcolor": "white",
             "startlinecolor": "#2a3f5f"
            },
            "type": "carpet"
           }
          ],
          "choropleth": [
           {
            "colorbar": {
             "outlinewidth": 0,
             "ticks": ""
            },
            "type": "choropleth"
           }
          ],
          "contour": [
           {
            "colorbar": {
             "outlinewidth": 0,
             "ticks": ""
            },
            "colorscale": [
             [
              0,
              "#0d0887"
             ],
             [
              0.1111111111111111,
              "#46039f"
             ],
             [
              0.2222222222222222,
              "#7201a8"
             ],
             [
              0.3333333333333333,
              "#9c179e"
             ],
             [
              0.4444444444444444,
              "#bd3786"
             ],
             [
              0.5555555555555556,
              "#d8576b"
             ],
             [
              0.6666666666666666,
              "#ed7953"
             ],
             [
              0.7777777777777778,
              "#fb9f3a"
             ],
             [
              0.8888888888888888,
              "#fdca26"
             ],
             [
              1,
              "#f0f921"
             ]
            ],
            "type": "contour"
           }
          ],
          "contourcarpet": [
           {
            "colorbar": {
             "outlinewidth": 0,
             "ticks": ""
            },
            "type": "contourcarpet"
           }
          ],
          "heatmap": [
           {
            "colorbar": {
             "outlinewidth": 0,
             "ticks": ""
            },
            "colorscale": [
             [
              0,
              "#0d0887"
             ],
             [
              0.1111111111111111,
              "#46039f"
             ],
             [
              0.2222222222222222,
              "#7201a8"
             ],
             [
              0.3333333333333333,
              "#9c179e"
             ],
             [
              0.4444444444444444,
              "#bd3786"
             ],
             [
              0.5555555555555556,
              "#d8576b"
             ],
             [
              0.6666666666666666,
              "#ed7953"
             ],
             [
              0.7777777777777778,
              "#fb9f3a"
             ],
             [
              0.8888888888888888,
              "#fdca26"
             ],
             [
              1,
              "#f0f921"
             ]
            ],
            "type": "heatmap"
           }
          ],
          "heatmapgl": [
           {
            "colorbar": {
             "outlinewidth": 0,
             "ticks": ""
            },
            "colorscale": [
             [
              0,
              "#0d0887"
             ],
             [
              0.1111111111111111,
              "#46039f"
             ],
             [
              0.2222222222222222,
              "#7201a8"
             ],
             [
              0.3333333333333333,
              "#9c179e"
             ],
             [
              0.4444444444444444,
              "#bd3786"
             ],
             [
              0.5555555555555556,
              "#d8576b"
             ],
             [
              0.6666666666666666,
              "#ed7953"
             ],
             [
              0.7777777777777778,
              "#fb9f3a"
             ],
             [
              0.8888888888888888,
              "#fdca26"
             ],
             [
              1,
              "#f0f921"
             ]
            ],
            "type": "heatmapgl"
           }
          ],
          "histogram": [
           {
            "marker": {
             "pattern": {
              "fillmode": "overlay",
              "size": 10,
              "solidity": 0.2
             }
            },
            "type": "histogram"
           }
          ],
          "histogram2d": [
           {
            "colorbar": {
             "outlinewidth": 0,
             "ticks": ""
            },
            "colorscale": [
             [
              0,
              "#0d0887"
             ],
             [
              0.1111111111111111,
              "#46039f"
             ],
             [
              0.2222222222222222,
              "#7201a8"
             ],
             [
              0.3333333333333333,
              "#9c179e"
             ],
             [
              0.4444444444444444,
              "#bd3786"
             ],
             [
              0.5555555555555556,
              "#d8576b"
             ],
             [
              0.6666666666666666,
              "#ed7953"
             ],
             [
              0.7777777777777778,
              "#fb9f3a"
             ],
             [
              0.8888888888888888,
              "#fdca26"
             ],
             [
              1,
              "#f0f921"
             ]
            ],
            "type": "histogram2d"
           }
          ],
          "histogram2dcontour": [
           {
            "colorbar": {
             "outlinewidth": 0,
             "ticks": ""
            },
            "colorscale": [
             [
              0,
              "#0d0887"
             ],
             [
              0.1111111111111111,
              "#46039f"
             ],
             [
              0.2222222222222222,
              "#7201a8"
             ],
             [
              0.3333333333333333,
              "#9c179e"
             ],
             [
              0.4444444444444444,
              "#bd3786"
             ],
             [
              0.5555555555555556,
              "#d8576b"
             ],
             [
              0.6666666666666666,
              "#ed7953"
             ],
             [
              0.7777777777777778,
              "#fb9f3a"
             ],
             [
              0.8888888888888888,
              "#fdca26"
             ],
             [
              1,
              "#f0f921"
             ]
            ],
            "type": "histogram2dcontour"
           }
          ],
          "mesh3d": [
           {
            "colorbar": {
             "outlinewidth": 0,
             "ticks": ""
            },
            "type": "mesh3d"
           }
          ],
          "parcoords": [
           {
            "line": {
             "colorbar": {
              "outlinewidth": 0,
              "ticks": ""
             }
            },
            "type": "parcoords"
           }
          ],
          "pie": [
           {
            "automargin": true,
            "type": "pie"
           }
          ],
          "scatter": [
           {
            "marker": {
             "colorbar": {
              "outlinewidth": 0,
              "ticks": ""
             }
            },
            "type": "scatter"
           }
          ],
          "scatter3d": [
           {
            "line": {
             "colorbar": {
              "outlinewidth": 0,
              "ticks": ""
             }
            },
            "marker": {
             "colorbar": {
              "outlinewidth": 0,
              "ticks": ""
             }
            },
            "type": "scatter3d"
           }
          ],
          "scattercarpet": [
           {
            "marker": {
             "colorbar": {
              "outlinewidth": 0,
              "ticks": ""
             }
            },
            "type": "scattercarpet"
           }
          ],
          "scattergeo": [
           {
            "marker": {
             "colorbar": {
              "outlinewidth": 0,
              "ticks": ""
             }
            },
            "type": "scattergeo"
           }
          ],
          "scattergl": [
           {
            "marker": {
             "colorbar": {
              "outlinewidth": 0,
              "ticks": ""
             }
            },
            "type": "scattergl"
           }
          ],
          "scattermapbox": [
           {
            "marker": {
             "colorbar": {
              "outlinewidth": 0,
              "ticks": ""
             }
            },
            "type": "scattermapbox"
           }
          ],
          "scatterpolar": [
           {
            "marker": {
             "colorbar": {
              "outlinewidth": 0,
              "ticks": ""
             }
            },
            "type": "scatterpolar"
           }
          ],
          "scatterpolargl": [
           {
            "marker": {
             "colorbar": {
              "outlinewidth": 0,
              "ticks": ""
             }
            },
            "type": "scatterpolargl"
           }
          ],
          "scatterternary": [
           {
            "marker": {
             "colorbar": {
              "outlinewidth": 0,
              "ticks": ""
             }
            },
            "type": "scatterternary"
           }
          ],
          "surface": [
           {
            "colorbar": {
             "outlinewidth": 0,
             "ticks": ""
            },
            "colorscale": [
             [
              0,
              "#0d0887"
             ],
             [
              0.1111111111111111,
              "#46039f"
             ],
             [
              0.2222222222222222,
              "#7201a8"
             ],
             [
              0.3333333333333333,
              "#9c179e"
             ],
             [
              0.4444444444444444,
              "#bd3786"
             ],
             [
              0.5555555555555556,
              "#d8576b"
             ],
             [
              0.6666666666666666,
              "#ed7953"
             ],
             [
              0.7777777777777778,
              "#fb9f3a"
             ],
             [
              0.8888888888888888,
              "#fdca26"
             ],
             [
              1,
              "#f0f921"
             ]
            ],
            "type": "surface"
           }
          ],
          "table": [
           {
            "cells": {
             "fill": {
              "color": "#EBF0F8"
             },
             "line": {
              "color": "white"
             }
            },
            "header": {
             "fill": {
              "color": "#C8D4E3"
             },
             "line": {
              "color": "white"
             }
            },
            "type": "table"
           }
          ]
         },
         "layout": {
          "annotationdefaults": {
           "arrowcolor": "#2a3f5f",
           "arrowhead": 0,
           "arrowwidth": 1
          },
          "autotypenumbers": "strict",
          "coloraxis": {
           "colorbar": {
            "outlinewidth": 0,
            "ticks": ""
           }
          },
          "colorscale": {
           "diverging": [
            [
             0,
             "#8e0152"
            ],
            [
             0.1,
             "#c51b7d"
            ],
            [
             0.2,
             "#de77ae"
            ],
            [
             0.3,
             "#f1b6da"
            ],
            [
             0.4,
             "#fde0ef"
            ],
            [
             0.5,
             "#f7f7f7"
            ],
            [
             0.6,
             "#e6f5d0"
            ],
            [
             0.7,
             "#b8e186"
            ],
            [
             0.8,
             "#7fbc41"
            ],
            [
             0.9,
             "#4d9221"
            ],
            [
             1,
             "#276419"
            ]
           ],
           "sequential": [
            [
             0,
             "#0d0887"
            ],
            [
             0.1111111111111111,
             "#46039f"
            ],
            [
             0.2222222222222222,
             "#7201a8"
            ],
            [
             0.3333333333333333,
             "#9c179e"
            ],
            [
             0.4444444444444444,
             "#bd3786"
            ],
            [
             0.5555555555555556,
             "#d8576b"
            ],
            [
             0.6666666666666666,
             "#ed7953"
            ],
            [
             0.7777777777777778,
             "#fb9f3a"
            ],
            [
             0.8888888888888888,
             "#fdca26"
            ],
            [
             1,
             "#f0f921"
            ]
           ],
           "sequentialminus": [
            [
             0,
             "#0d0887"
            ],
            [
             0.1111111111111111,
             "#46039f"
            ],
            [
             0.2222222222222222,
             "#7201a8"
            ],
            [
             0.3333333333333333,
             "#9c179e"
            ],
            [
             0.4444444444444444,
             "#bd3786"
            ],
            [
             0.5555555555555556,
             "#d8576b"
            ],
            [
             0.6666666666666666,
             "#ed7953"
            ],
            [
             0.7777777777777778,
             "#fb9f3a"
            ],
            [
             0.8888888888888888,
             "#fdca26"
            ],
            [
             1,
             "#f0f921"
            ]
           ]
          },
          "colorway": [
           "#636efa",
           "#EF553B",
           "#00cc96",
           "#ab63fa",
           "#FFA15A",
           "#19d3f3",
           "#FF6692",
           "#B6E880",
           "#FF97FF",
           "#FECB52"
          ],
          "font": {
           "color": "#2a3f5f"
          },
          "geo": {
           "bgcolor": "white",
           "lakecolor": "white",
           "landcolor": "#E5ECF6",
           "showlakes": true,
           "showland": true,
           "subunitcolor": "white"
          },
          "hoverlabel": {
           "align": "left"
          },
          "hovermode": "closest",
          "mapbox": {
           "style": "light"
          },
          "paper_bgcolor": "white",
          "plot_bgcolor": "#E5ECF6",
          "polar": {
           "angularaxis": {
            "gridcolor": "white",
            "linecolor": "white",
            "ticks": ""
           },
           "bgcolor": "#E5ECF6",
           "radialaxis": {
            "gridcolor": "white",
            "linecolor": "white",
            "ticks": ""
           }
          },
          "scene": {
           "xaxis": {
            "backgroundcolor": "#E5ECF6",
            "gridcolor": "white",
            "gridwidth": 2,
            "linecolor": "white",
            "showbackground": true,
            "ticks": "",
            "zerolinecolor": "white"
           },
           "yaxis": {
            "backgroundcolor": "#E5ECF6",
            "gridcolor": "white",
            "gridwidth": 2,
            "linecolor": "white",
            "showbackground": true,
            "ticks": "",
            "zerolinecolor": "white"
           },
           "zaxis": {
            "backgroundcolor": "#E5ECF6",
            "gridcolor": "white",
            "gridwidth": 2,
            "linecolor": "white",
            "showbackground": true,
            "ticks": "",
            "zerolinecolor": "white"
           }
          },
          "shapedefaults": {
           "line": {
            "color": "#2a3f5f"
           }
          },
          "ternary": {
           "aaxis": {
            "gridcolor": "white",
            "linecolor": "white",
            "ticks": ""
           },
           "baxis": {
            "gridcolor": "white",
            "linecolor": "white",
            "ticks": ""
           },
           "bgcolor": "#E5ECF6",
           "caxis": {
            "gridcolor": "white",
            "linecolor": "white",
            "ticks": ""
           }
          },
          "title": {
           "x": 0.05
          },
          "xaxis": {
           "automargin": true,
           "gridcolor": "white",
           "linecolor": "white",
           "ticks": "",
           "title": {
            "standoff": 15
           },
           "zerolinecolor": "white",
           "zerolinewidth": 2
          },
          "yaxis": {
           "automargin": true,
           "gridcolor": "white",
           "linecolor": "white",
           "ticks": "",
           "title": {
            "standoff": 15
           },
           "zerolinecolor": "white",
           "zerolinewidth": 2
          }
         }
        }
       }
      },
      "text/html": [
       "<div>                            <div id=\"3c85def1-acbc-478c-b1b5-64a315b37005\" class=\"plotly-graph-div\" style=\"height:525px; width:100%;\"></div>            <script type=\"text/javascript\">                require([\"plotly\"], function(Plotly) {                    window.PLOTLYENV=window.PLOTLYENV || {};                                    if (document.getElementById(\"3c85def1-acbc-478c-b1b5-64a315b37005\")) {                    Plotly.newPlot(                        \"3c85def1-acbc-478c-b1b5-64a315b37005\",                        [{\"hovertemplate\":\"Qualification=Masters<br>Age=%{r}<br>Location=%{theta}<extra></extra>\",\"legendgroup\":\"Masters\",\"line\":{\"color\":\"#f0f921\",\"dash\":\"solid\"},\"marker\":{\"symbol\":\"circle\"},\"mode\":\"lines\",\"name\":\"Masters\",\"r\":[38.0,31.34,33.0,27.0,36.0,0.0,27.0,28.0,25.0,33.0,31.0,27.9,23.0,28.0,26.0,31.0,33.0,26.0,32.75,28.0,29.0,27.0,25.0,36.0,38.0,35.0,32.0,32.0,26.5,27.75,28.0,29.8,33.0,35.0,28.0,32.2,24.6,0.0,27.9,30.4,31.0,27.0,28.11,32.8,26.5,40.0,42.0,29.0,24.0,43.0,26.0,29.25,26.0,41.0,30.0,29.0,29.0,43.0,44.8,27.5,26.0,27.0,39.5,30.0,29.0,29.0,29.0,24.0,25.0,28.0,34.25,27.0,33.0,23.5,26.0,27.0,28.0,25.0,31.5,32.0,24.0,28.0,25.0,26.0,30.0,33.0,26.0,34.0,34.0,30.4,30.1,29.0,38.0,30.0,31.04,40.0,30.0,31.0,29.0,30.0,26.0,25.0,27.0,33.0,29.0,33.0,35.0,27.5,27.0,34.9,22.0,26.0,25.0,22.9,28.0,30.5,31.0,35.0,35.11,23.0,31.0,46.4,30.0,32.0,28.0,36.5,0.0,31.0,43.0,25.0,25.0,35.0,29.0,42.0,26.0,34.0,26.5,30.0,32.0,27.0,26.0,26.0,37.0,26.0,27.3,29.0,31.0,26.0,32.0,10.5,27.5,25.0,42.0,26.0,33.0,31.0,35.0,29.0,28.0,38.0,31.0,32.0,25.0,28.0,22.0,30.0,28.0,29.0,31.0,38.0],\"showlegend\":true,\"subplot\":\"polar\",\"theta\":[\"Pakistan\",\"Pakistan\",\"Pakistan\",\"Pakistan\",\"Pakistan\",\"Pakistan\",\"Pakistan\",\"West\",\"East\",\"Pakistan\",\"Pakistan\",\"Pakistan\",\"Pakistan\",\"West\",\"Pakistan\",\"Pakistan\",\"Pakistan\",\"Pakistan\",\"West\",\"Pakistan\",\"Pakistan\",\"Pakistan\",\"Pakistan\",\"Pakistan\",\"Pakistan\",\"Pakistan\",\"West\",\"Pakistan\",\"Pakistan\",\"Pakistan\",\"Pakistan\",\"Pakistan\",\"Pakistan\",\"Pakistan\",\"Pakistan\",\"Pakistan\",\"Pakistan\",\"Pakistan\",\"Pakistan\",\"Pakistan\",\"Pakistan\",\"Pakistan\",\"West\",\"Pakistan\",\"Pakistan\",\"Pakistan\",\"Pakistan\",\"West\",\"Pakistan\",\"Pakistan\",\"Pakistan\",\"Pakistan\",\"Pakistan\",\"Pakistan\",\"Pakistan\",\"Pakistan\",\"Pakistan\",\"West\",\"Pakistan\",\"Pakistan\",\"Pakistan\",\"Pakistan\",\"Pakistan\",\"East\",\"Pakistan\",\"Pakistan\",\"Pakistan\",\"Pakistan\",\"Pakistan\",\"Pakistan\",\"West\",\"West\",\"Pakistan\",\"Pakistan\",\"Pakistan\",\"Pakistan\",\"Pakistan\",\"Pakistan\",\"West\",\"Pakistan\",\"India\",\"Pakistan\",\"Pakistan\",\"Pakistan\",\"Pakistan\",\"Pakistan\",\"Pakistan\",\"West\",\"Pakistan\",\"Pakistan\",\"Pakistan\",\"Pakistan\",\"Pakistan\",\"Pakistan\",\"West\",\"Pakistan\",\"Pakistan\",\"Pakistan\",\"Pakistan\",\"Pakistan\",\"Pakistan\",\"Pakistan\",\"Pakistan\",\"Pakistan\",\"Pakistan\",\"Pakistan\",\"West\",\"Pakistan\",\"Pakistan\",\"Pakistan\",\"Pakistan\",\"West\",\"Pakistan\",\"Pakistan\",\"Pakistan\",\"Pakistan\",\"Pakistan\",\"Pakistan\",\"Pakistan\",\"Pakistan\",\"Pakistan\",\"Pakistan\",\"Pakistan\",\"Pakistan\",\"West\",\"East\",\"Pakistan\",\"Pakistan\",\"Pakistan\",\"Pakistan\",\"Pakistan\",\"Pakistan\",\"Pakistan\",\"Pakistan\",\"Pakistan\",\"Pakistan\",\"Pakistan\",\"India\",\"Pakistan\",\"Pakistan\",\"Pakistan\",\"Pakistan\",\"Pakistan\",\"Pakistan\",\"Pakistan\",\"Pakistan\",\"Pakistan\",\"Pakistan\",\"Pakistan\",\"West\",\"Pakistan\",\"West\",\"Pakistan\",\"Pakistan\",\"Pakistan\",\"Pakistan\",\"Pakistan\",\"Pakistan\",\"Pakistan\",\"Pakistan\",\"West\",\"Pakistan\",\"Pakistan\",\"West\",\"Pakistan\",\"Pakistan\",\"Pakistan\",\"Pakistan\",\"Pakistan\",\"Pakistan\"],\"type\":\"scatterpolar\"},{\"hovertemplate\":\"Qualification=Bachelors<br>Age=%{r}<br>Location=%{theta}<extra></extra>\",\"legendgroup\":\"Bachelors\",\"line\":{\"color\":\"#fdca26\",\"dash\":\"solid\"},\"marker\":{\"symbol\":\"circle\"},\"mode\":\"lines\",\"name\":\"Bachelors\",\"r\":[25.0,27.0,22.2,24.0,24.0,33.0,25.0,25.0,24.0,25.0,33.0,26.0,29.0,24.3,31.0,34.0,28.0,26.3,25.0,26.0,39.0,29.0,23.99,25.0,26.0,24.0,25.0,19.0,22.0,32.0,28.0,25.0,90.0,23.0,25.0,26.11,24.0,22.6,27.0,24.0,29.0,25.0,23.0,30.0,2.0,25.0,22.0,24.0,26.0,51.0,23.0,25.0,28.1,22.0,27.0,28.0,33.0,24.1,26.0,22.0,25.0,26.0,26.0,24.0,22.0,19.8,33.0,20.0,23.0,23.0,21.0,25.0,26.0,28.0,29.0,28.0,23.0,25.2,24.0,24.0,29.0,23.0,25.0,26.3,26.95,30.0,23.0,24.6,28.0,23.0,32.0,29.0,24.0,20.0,25.0,21.0,23.4,22.0,25.0,25.0,25.0,32.0,24.0,24.0,32.0,28.0,22.0,21.0,25.0,40.1,22.0,26.0,21.0,26.5,27.0,30.0,32.0,24.0,29.0,26.6,36.0,27.0,23.0,26.0,27.0,32.0,29.0,28.0,29.0,24.0,24.0,33.0,22.8,25.0],\"showlegend\":true,\"subplot\":\"polar\",\"theta\":[\"Pakistan\",\"West\",\"Pakistan\",\"West\",\"Pakistan\",\"Pakistan\",\"Pakistan\",\"West\",\"Pakistan\",\"Pakistan\",\"Pakistan\",\"Pakistan\",\"Pakistan\",\"Pakistan\",\"Pakistan\",\"West\",\"Pakistan\",\"East\",\"Pakistan\",\"Pakistan\",\"Pakistan\",\"Pakistan\",\"Pakistan\",\"Pakistan\",\"Pakistan\",\"Pakistan\",\"Pakistan\",\"Pakistan\",\"Pakistan\",\"Pakistan\",\"Pakistan\",\"Pakistan\",\"Pakistan\",\"Pakistan\",\"Pakistan\",\"Pakistan\",\"Pakistan\",\"Pakistan\",\"Pakistan\",\"Pakistan\",\"Pakistan\",\"Pakistan\",\"Pakistan\",\"Pakistan\",\"Pakistan\",\"West\",\"Pakistan\",\"Pakistan\",\"Pakistan\",\"Pakistan\",\"Pakistan\",\"Pakistan\",\"Pakistan\",\"Pakistan\",\"Pakistan\",\"West\",\"Pakistan\",\"Pakistan\",\"Pakistan\",\"Pakistan\",\"Pakistan\",\"East\",\"Pakistan\",\"Pakistan\",\"Pakistan\",\"Pakistan\",\"West\",\"Pakistan\",\"Pakistan\",\"Pakistan\",\"Pakistan\",\"Pakistan\",\"Pakistan\",\"West\",\"East\",\"Pakistan\",\"Pakistan\",\"Pakistan\",\"Pakistan\",\"Pakistan\",\"Pakistan\",\"Pakistan\",\"Pakistan\",\"Pakistan\",\"Pakistan\",\"Pakistan\",\"Pakistan\",\"Pakistan\",\"Pakistan\",\"Pakistan\",\"Pakistan\",\"Pakistan\",\"Pakistan\",\"Pakistan\",\"Pakistan\",\"Pakistan\",\"Pakistan\",\"Pakistan\",\"Pakistan\",\"Pakistan\",\"Pakistan\",\"Pakistan\",\"Pakistan\",\"West\",\"Pakistan\",\"Pakistan\",\"Pakistan\",\"Pakistan\",\"Pakistan\",\"Pakistan\",\"Pakistan\",\"Pakistan\",\"Pakistan\",\"Pakistan\",\"Pakistan\",\"Pakistan\",\"Pakistan\",\"Pakistan\",\"Pakistan\",\"Pakistan\",\"Pakistan\",\"Pakistan\",\"Pakistan\",\"Pakistan\",\"Pakistan\",\"Pakistan\",\"Pakistan\",\"Pakistan\",\"East\",\"Pakistan\",\"Pakistan\",\"Pakistan\",\"Pakistan\",\"Pakistan\"],\"type\":\"scatterpolar\"},{\"hovertemplate\":\"Qualification=PhD<br>Age=%{r}<br>Location=%{theta}<extra></extra>\",\"legendgroup\":\"PhD\",\"line\":{\"color\":\"#fb9f3a\",\"dash\":\"solid\"},\"marker\":{\"symbol\":\"circle\"},\"mode\":\"lines\",\"name\":\"PhD\",\"r\":[25.0,30.0,33.0,30.0,30.0,33.9,30.0,31.0,33.0,30.0,27.0,37.0,30.5,27.0,31.2,31.8,31.0,31.5,28.0,32.0,31.0,68.0,29.0,31.0,37.0,25.0,29.0,32.7,25.0],\"showlegend\":true,\"subplot\":\"polar\",\"theta\":[\"East\",\"East\",\"Pakistan\",\"East\",\"Pakistan\",\"East\",\"East\",\"West\",\"Pakistan\",\"Pakistan\",\"East\",\"Pakistan\",\"Pakistan\",\"Pakistan\",\"Pakistan\",\"Pakistan\",\"West\",\"Pakistan\",\"Pakistan\",\"Pakistan\",\"Pakistan\",\"Pakistan\",\"Pakistan\",\"Pakistan\",\"West\",\"Pakistan\",\"West\",\"Pakistan\",\"East\"],\"type\":\"scatterpolar\"},{\"hovertemplate\":\"Qualification=Pre-Bachelors<br>Age=%{r}<br>Location=%{theta}<extra></extra>\",\"legendgroup\":\"Pre-Bachelors\",\"line\":{\"color\":\"#ed7953\",\"dash\":\"solid\"},\"marker\":{\"symbol\":\"circle\"},\"mode\":\"lines\",\"name\":\"Pre-Bachelors\",\"r\":[22.5,21.0,21.0,20.0,18.0,21.0,19.5,21.0,20.0,22.0,18.0,21.0,20.0,20.0,21.0,19.0,21.0,21.6,19.0,22.0,22.0,20.0,23.0,24.0,23.0,20.0,19.0,21.0,23.0,20.0,22.0,14.2,22.0,21.0,16.0,21.0,21.0,11.0,22.0,22.0,20.0,21.0,19.0,20.0,20.0,22.5],\"showlegend\":true,\"subplot\":\"polar\",\"theta\":[\"Pakistan\",\"Pakistan\",\"Pakistan\",\"Pakistan\",\"Pakistan\",\"Pakistan\",\"Pakistan\",\"Pakistan\",\"Pakistan\",\"Pakistan\",\"Pakistan\",\"Pakistan\",\"Pakistan\",\"Pakistan\",\"Pakistan\",\"West\",\"Pakistan\",\"Pakistan\",\"Pakistan\",\"Pakistan\",\"Pakistan\",\"Pakistan\",\"Pakistan\",\"Pakistan\",\"Pakistan\",\"Pakistan\",\"Pakistan\",\"Pakistan\",\"Pakistan\",\"Pakistan\",\"Pakistan\",\"West\",\"Pakistan\",\"Pakistan\",\"West\",\"Pakistan\",\"Pakistan\",\"West\",\"Pakistan\",\"Pakistan\",\"East\",\"Pakistan\",\"Pakistan\",\"Pakistan\",\"Pakistan\",\"Pakistan\"],\"type\":\"scatterpolar\"}],                        {\"template\":{\"data\":{\"bar\":[{\"error_x\":{\"color\":\"#2a3f5f\"},\"error_y\":{\"color\":\"#2a3f5f\"},\"marker\":{\"line\":{\"color\":\"#E5ECF6\",\"width\":0.5},\"pattern\":{\"fillmode\":\"overlay\",\"size\":10,\"solidity\":0.2}},\"type\":\"bar\"}],\"barpolar\":[{\"marker\":{\"line\":{\"color\":\"#E5ECF6\",\"width\":0.5},\"pattern\":{\"fillmode\":\"overlay\",\"size\":10,\"solidity\":0.2}},\"type\":\"barpolar\"}],\"carpet\":[{\"aaxis\":{\"endlinecolor\":\"#2a3f5f\",\"gridcolor\":\"white\",\"linecolor\":\"white\",\"minorgridcolor\":\"white\",\"startlinecolor\":\"#2a3f5f\"},\"baxis\":{\"endlinecolor\":\"#2a3f5f\",\"gridcolor\":\"white\",\"linecolor\":\"white\",\"minorgridcolor\":\"white\",\"startlinecolor\":\"#2a3f5f\"},\"type\":\"carpet\"}],\"choropleth\":[{\"colorbar\":{\"outlinewidth\":0,\"ticks\":\"\"},\"type\":\"choropleth\"}],\"contour\":[{\"colorbar\":{\"outlinewidth\":0,\"ticks\":\"\"},\"colorscale\":[[0.0,\"#0d0887\"],[0.1111111111111111,\"#46039f\"],[0.2222222222222222,\"#7201a8\"],[0.3333333333333333,\"#9c179e\"],[0.4444444444444444,\"#bd3786\"],[0.5555555555555556,\"#d8576b\"],[0.6666666666666666,\"#ed7953\"],[0.7777777777777778,\"#fb9f3a\"],[0.8888888888888888,\"#fdca26\"],[1.0,\"#f0f921\"]],\"type\":\"contour\"}],\"contourcarpet\":[{\"colorbar\":{\"outlinewidth\":0,\"ticks\":\"\"},\"type\":\"contourcarpet\"}],\"heatmap\":[{\"colorbar\":{\"outlinewidth\":0,\"ticks\":\"\"},\"colorscale\":[[0.0,\"#0d0887\"],[0.1111111111111111,\"#46039f\"],[0.2222222222222222,\"#7201a8\"],[0.3333333333333333,\"#9c179e\"],[0.4444444444444444,\"#bd3786\"],[0.5555555555555556,\"#d8576b\"],[0.6666666666666666,\"#ed7953\"],[0.7777777777777778,\"#fb9f3a\"],[0.8888888888888888,\"#fdca26\"],[1.0,\"#f0f921\"]],\"type\":\"heatmap\"}],\"heatmapgl\":[{\"colorbar\":{\"outlinewidth\":0,\"ticks\":\"\"},\"colorscale\":[[0.0,\"#0d0887\"],[0.1111111111111111,\"#46039f\"],[0.2222222222222222,\"#7201a8\"],[0.3333333333333333,\"#9c179e\"],[0.4444444444444444,\"#bd3786\"],[0.5555555555555556,\"#d8576b\"],[0.6666666666666666,\"#ed7953\"],[0.7777777777777778,\"#fb9f3a\"],[0.8888888888888888,\"#fdca26\"],[1.0,\"#f0f921\"]],\"type\":\"heatmapgl\"}],\"histogram\":[{\"marker\":{\"pattern\":{\"fillmode\":\"overlay\",\"size\":10,\"solidity\":0.2}},\"type\":\"histogram\"}],\"histogram2d\":[{\"colorbar\":{\"outlinewidth\":0,\"ticks\":\"\"},\"colorscale\":[[0.0,\"#0d0887\"],[0.1111111111111111,\"#46039f\"],[0.2222222222222222,\"#7201a8\"],[0.3333333333333333,\"#9c179e\"],[0.4444444444444444,\"#bd3786\"],[0.5555555555555556,\"#d8576b\"],[0.6666666666666666,\"#ed7953\"],[0.7777777777777778,\"#fb9f3a\"],[0.8888888888888888,\"#fdca26\"],[1.0,\"#f0f921\"]],\"type\":\"histogram2d\"}],\"histogram2dcontour\":[{\"colorbar\":{\"outlinewidth\":0,\"ticks\":\"\"},\"colorscale\":[[0.0,\"#0d0887\"],[0.1111111111111111,\"#46039f\"],[0.2222222222222222,\"#7201a8\"],[0.3333333333333333,\"#9c179e\"],[0.4444444444444444,\"#bd3786\"],[0.5555555555555556,\"#d8576b\"],[0.6666666666666666,\"#ed7953\"],[0.7777777777777778,\"#fb9f3a\"],[0.8888888888888888,\"#fdca26\"],[1.0,\"#f0f921\"]],\"type\":\"histogram2dcontour\"}],\"mesh3d\":[{\"colorbar\":{\"outlinewidth\":0,\"ticks\":\"\"},\"type\":\"mesh3d\"}],\"parcoords\":[{\"line\":{\"colorbar\":{\"outlinewidth\":0,\"ticks\":\"\"}},\"type\":\"parcoords\"}],\"pie\":[{\"automargin\":true,\"type\":\"pie\"}],\"scatter\":[{\"marker\":{\"colorbar\":{\"outlinewidth\":0,\"ticks\":\"\"}},\"type\":\"scatter\"}],\"scatter3d\":[{\"line\":{\"colorbar\":{\"outlinewidth\":0,\"ticks\":\"\"}},\"marker\":{\"colorbar\":{\"outlinewidth\":0,\"ticks\":\"\"}},\"type\":\"scatter3d\"}],\"scattercarpet\":[{\"marker\":{\"colorbar\":{\"outlinewidth\":0,\"ticks\":\"\"}},\"type\":\"scattercarpet\"}],\"scattergeo\":[{\"marker\":{\"colorbar\":{\"outlinewidth\":0,\"ticks\":\"\"}},\"type\":\"scattergeo\"}],\"scattergl\":[{\"marker\":{\"colorbar\":{\"outlinewidth\":0,\"ticks\":\"\"}},\"type\":\"scattergl\"}],\"scattermapbox\":[{\"marker\":{\"colorbar\":{\"outlinewidth\":0,\"ticks\":\"\"}},\"type\":\"scattermapbox\"}],\"scatterpolar\":[{\"marker\":{\"colorbar\":{\"outlinewidth\":0,\"ticks\":\"\"}},\"type\":\"scatterpolar\"}],\"scatterpolargl\":[{\"marker\":{\"colorbar\":{\"outlinewidth\":0,\"ticks\":\"\"}},\"type\":\"scatterpolargl\"}],\"scatterternary\":[{\"marker\":{\"colorbar\":{\"outlinewidth\":0,\"ticks\":\"\"}},\"type\":\"scatterternary\"}],\"surface\":[{\"colorbar\":{\"outlinewidth\":0,\"ticks\":\"\"},\"colorscale\":[[0.0,\"#0d0887\"],[0.1111111111111111,\"#46039f\"],[0.2222222222222222,\"#7201a8\"],[0.3333333333333333,\"#9c179e\"],[0.4444444444444444,\"#bd3786\"],[0.5555555555555556,\"#d8576b\"],[0.6666666666666666,\"#ed7953\"],[0.7777777777777778,\"#fb9f3a\"],[0.8888888888888888,\"#fdca26\"],[1.0,\"#f0f921\"]],\"type\":\"surface\"}],\"table\":[{\"cells\":{\"fill\":{\"color\":\"#EBF0F8\"},\"line\":{\"color\":\"white\"}},\"header\":{\"fill\":{\"color\":\"#C8D4E3\"},\"line\":{\"color\":\"white\"}},\"type\":\"table\"}]},\"layout\":{\"annotationdefaults\":{\"arrowcolor\":\"#2a3f5f\",\"arrowhead\":0,\"arrowwidth\":1},\"autotypenumbers\":\"strict\",\"coloraxis\":{\"colorbar\":{\"outlinewidth\":0,\"ticks\":\"\"}},\"colorscale\":{\"diverging\":[[0,\"#8e0152\"],[0.1,\"#c51b7d\"],[0.2,\"#de77ae\"],[0.3,\"#f1b6da\"],[0.4,\"#fde0ef\"],[0.5,\"#f7f7f7\"],[0.6,\"#e6f5d0\"],[0.7,\"#b8e186\"],[0.8,\"#7fbc41\"],[0.9,\"#4d9221\"],[1,\"#276419\"]],\"sequential\":[[0.0,\"#0d0887\"],[0.1111111111111111,\"#46039f\"],[0.2222222222222222,\"#7201a8\"],[0.3333333333333333,\"#9c179e\"],[0.4444444444444444,\"#bd3786\"],[0.5555555555555556,\"#d8576b\"],[0.6666666666666666,\"#ed7953\"],[0.7777777777777778,\"#fb9f3a\"],[0.8888888888888888,\"#fdca26\"],[1.0,\"#f0f921\"]],\"sequentialminus\":[[0.0,\"#0d0887\"],[0.1111111111111111,\"#46039f\"],[0.2222222222222222,\"#7201a8\"],[0.3333333333333333,\"#9c179e\"],[0.4444444444444444,\"#bd3786\"],[0.5555555555555556,\"#d8576b\"],[0.6666666666666666,\"#ed7953\"],[0.7777777777777778,\"#fb9f3a\"],[0.8888888888888888,\"#fdca26\"],[1.0,\"#f0f921\"]]},\"colorway\":[\"#636efa\",\"#EF553B\",\"#00cc96\",\"#ab63fa\",\"#FFA15A\",\"#19d3f3\",\"#FF6692\",\"#B6E880\",\"#FF97FF\",\"#FECB52\"],\"font\":{\"color\":\"#2a3f5f\"},\"geo\":{\"bgcolor\":\"white\",\"lakecolor\":\"white\",\"landcolor\":\"#E5ECF6\",\"showlakes\":true,\"showland\":true,\"subunitcolor\":\"white\"},\"hoverlabel\":{\"align\":\"left\"},\"hovermode\":\"closest\",\"mapbox\":{\"style\":\"light\"},\"paper_bgcolor\":\"white\",\"plot_bgcolor\":\"#E5ECF6\",\"polar\":{\"angularaxis\":{\"gridcolor\":\"white\",\"linecolor\":\"white\",\"ticks\":\"\"},\"bgcolor\":\"#E5ECF6\",\"radialaxis\":{\"gridcolor\":\"white\",\"linecolor\":\"white\",\"ticks\":\"\"}},\"scene\":{\"xaxis\":{\"backgroundcolor\":\"#E5ECF6\",\"gridcolor\":\"white\",\"gridwidth\":2,\"linecolor\":\"white\",\"showbackground\":true,\"ticks\":\"\",\"zerolinecolor\":\"white\"},\"yaxis\":{\"backgroundcolor\":\"#E5ECF6\",\"gridcolor\":\"white\",\"gridwidth\":2,\"linecolor\":\"white\",\"showbackground\":true,\"ticks\":\"\",\"zerolinecolor\":\"white\"},\"zaxis\":{\"backgroundcolor\":\"#E5ECF6\",\"gridcolor\":\"white\",\"gridwidth\":2,\"linecolor\":\"white\",\"showbackground\":true,\"ticks\":\"\",\"zerolinecolor\":\"white\"}},\"shapedefaults\":{\"line\":{\"color\":\"#2a3f5f\"}},\"ternary\":{\"aaxis\":{\"gridcolor\":\"white\",\"linecolor\":\"white\",\"ticks\":\"\"},\"baxis\":{\"gridcolor\":\"white\",\"linecolor\":\"white\",\"ticks\":\"\"},\"bgcolor\":\"#E5ECF6\",\"caxis\":{\"gridcolor\":\"white\",\"linecolor\":\"white\",\"ticks\":\"\"}},\"title\":{\"x\":0.05},\"xaxis\":{\"automargin\":true,\"gridcolor\":\"white\",\"linecolor\":\"white\",\"ticks\":\"\",\"title\":{\"standoff\":15},\"zerolinecolor\":\"white\",\"zerolinewidth\":2},\"yaxis\":{\"automargin\":true,\"gridcolor\":\"white\",\"linecolor\":\"white\",\"ticks\":\"\",\"title\":{\"standoff\":15},\"zerolinecolor\":\"white\",\"zerolinewidth\":2}}},\"polar\":{\"domain\":{\"x\":[0.0,1.0],\"y\":[0.0,1.0]},\"angularaxis\":{\"direction\":\"clockwise\",\"rotation\":90}},\"legend\":{\"title\":{\"text\":\"Qualification\"},\"tracegroupgap\":0},\"margin\":{\"t\":60}},                        {\"responsive\": true}                    ).then(function(){\n",
       "                            \n",
       "var gd = document.getElementById('3c85def1-acbc-478c-b1b5-64a315b37005');\n",
       "var x = new MutationObserver(function (mutations, observer) {{\n",
       "        var display = window.getComputedStyle(gd).display;\n",
       "        if (!display || display === 'none') {{\n",
       "            console.log([gd, 'removed!']);\n",
       "            Plotly.purge(gd);\n",
       "            observer.disconnect();\n",
       "        }}\n",
       "}});\n",
       "\n",
       "// Listen for the removal of the full notebook cells\n",
       "var notebookContainer = gd.closest('#notebook-container');\n",
       "if (notebookContainer) {{\n",
       "    x.observe(notebookContainer, {childList: true});\n",
       "}}\n",
       "\n",
       "// Listen for the clearing of the current output cell\n",
       "var outputEl = gd.closest('.output');\n",
       "if (outputEl) {{\n",
       "    x.observe(outputEl, {childList: true});\n",
       "}}\n",
       "\n",
       "                        })                };                });            </script>        </div>"
      ]
     },
     "metadata": {},
     "output_type": "display_data"
    }
   ],
   "source": [
    "import plotly.express as px\n",
    "import pandas as pd \n",
    "data= pd.read_csv(\"new_data.csv\")\n",
    "\n",
    "fig = px.line_polar(data, r=\"Age\", theta=\"Location\", color=\"Qualification\", line_close=True,\n",
    "            color_discrete_sequence=px.colors.sequential.Plasma_r)\n",
    "fig.show()"
   ]
  },
  {
   "cell_type": "markdown",
   "id": "9d79112f",
   "metadata": {},
   "source": [
    "---"
   ]
  },
  {
   "cell_type": "code",
   "execution_count": 104,
   "id": "ea9894fa",
   "metadata": {
    "scrolled": true
   },
   "outputs": [
    {
     "data": {
      "application/vnd.plotly.v1+json": {
       "config": {
        "plotlyServerURL": "https://plot.ly"
       },
       "data": [
        {
         "hovertemplate": "Qualification=Masters<br>Weight=%{x}<br>Height=%{y}<extra></extra>",
         "legendgroup": "Masters",
         "marker": {
          "color": "#1F77B4",
          "symbol": "circle"
         },
         "mode": "markers",
         "name": "Masters",
         "orientation": "v",
         "showlegend": true,
         "type": "scatter",
         "x": [
          77,
          93,
          60,
          59.9,
          99,
          58,
          50,
          64.21,
          68.5,
          75.8,
          72.5,
          60,
          67,
          68.3,
          96,
          75,
          84,
          47,
          72.5,
          50,
          62.5,
          88.6,
          60,
          100.5,
          93.9,
          78.9,
          60,
          70,
          65,
          85.6,
          100,
          75.4,
          98,
          75.5,
          78.5,
          70.2,
          63.4,
          68,
          63.5,
          88,
          98,
          55.5,
          68.3,
          88.4,
          82.5,
          83.5,
          90,
          77.5,
          42.6,
          70,
          55,
          93.5,
          106.05,
          97,
          79.5,
          80,
          75.6,
          82.5,
          70.5,
          56,
          75.5,
          61.5,
          54.3,
          56.9,
          69,
          56.5,
          50.2,
          54,
          68,
          46,
          82.27,
          57,
          101.5,
          94.5,
          86.5,
          63.5,
          75,
          67,
          71.5,
          74,
          55,
          70,
          48.2,
          105,
          69.5,
          85,
          56.5,
          70.5,
          78.5,
          82.4,
          55,
          45,
          70.2,
          78.8,
          58.1,
          80,
          65,
          70,
          65.5,
          75.45,
          68.5,
          60,
          70,
          63,
          65,
          85,
          84,
          46.5,
          110,
          88,
          68,
          65,
          61,
          70,
          84,
          40,
          76.6,
          80,
          78.5,
          58,
          90,
          90,
          54.5,
          72.5,
          65,
          78.5,
          51,
          58,
          87,
          74,
          82,
          46.9,
          50.2,
          70,
          45,
          48,
          72,
          61,
          55,
          58,
          88.8,
          45.5,
          69.1,
          58,
          66.5,
          92,
          90,
          65.6,
          58,
          79.75,
          92,
          75,
          75,
          76,
          80.2,
          60.5,
          78,
          90,
          70,
          84,
          63,
          55,
          75,
          85,
          48,
          75.55,
          70.5,
          86,
          54.5
         ],
         "xaxis": "x",
         "y": [
          179,
          173,
          157,
          164.544,
          178,
          180.34,
          163,
          158.496,
          180,
          174,
          170.18,
          160,
          155,
          175.25,
          172,
          165,
          183,
          163,
          173,
          170.18,
          179.832,
          155,
          177.8,
          180.5,
          177.8,
          170,
          156,
          170,
          175,
          165,
          169,
          172.3,
          157.48,
          170.5,
          176,
          175.2,
          5.5,
          176.8,
          182,
          177.8,
          177.8,
          176.7,
          175.1,
          180.34,
          160.02,
          175.5,
          179,
          171.5,
          40.3,
          161.5,
          154,
          168.5,
          177.78,
          164.592,
          5.9,
          180,
          155.4,
          182.5,
          1.76,
          5.4,
          182.28,
          45.5,
          44.5,
          165,
          0,
          170.688,
          173.7,
          5.6,
          167.64,
          162.56,
          177,
          160,
          179,
          6.1,
          185.92,
          175.5,
          170,
          171,
          167.1,
          173,
          168,
          178,
          167.6,
          186,
          183.5,
          173.736,
          175.26,
          5.9,
          155.7528,
          164.3,
          161.544,
          58,
          13.7,
          170.5,
          167.64,
          167.64,
          167,
          161,
          172.72,
          173,
          164.5,
          170.688,
          5.9,
          175,
          168,
          173.736,
          173,
          170.18,
          72,
          174,
          175,
          182.88,
          5.2,
          167,
          208.28,
          158,
          13.97,
          173,
          170.688,
          172,
          1.74,
          158,
          164.5,
          173.73,
          165.1,
          163.5,
          155,
          170,
          183.1,
          178,
          155.65,
          158.496,
          173.7,
          14.478,
          170.68,
          1.72,
          161.2,
          168,
          177.8,
          167.64,
          162.56,
          170.18,
          70.1,
          162.56,
          164.5,
          175,
          14.734,
          164.4,
          170,
          182,
          171,
          165,
          170.688,
          1.74,
          158.496,
          172,
          174,
          180,
          175.26,
          5.1,
          184,
          177.8,
          178,
          178,
          160,
          167.65,
          178.5,
          180,
          161.544
         ],
         "yaxis": "y"
        },
        {
         "alignmentgroup": "True",
         "hovertemplate": "Qualification=Masters<br>Weight=%{x}<extra></extra>",
         "legendgroup": "Masters",
         "marker": {
          "color": "#1F77B4",
          "symbol": "circle"
         },
         "name": "Masters",
         "notched": true,
         "offsetgroup": "Masters",
         "showlegend": false,
         "type": "box",
         "x": [
          77,
          93,
          60,
          59.9,
          99,
          58,
          50,
          64.21,
          68.5,
          75.8,
          72.5,
          60,
          67,
          68.3,
          96,
          75,
          84,
          47,
          72.5,
          50,
          62.5,
          88.6,
          60,
          100.5,
          93.9,
          78.9,
          60,
          70,
          65,
          85.6,
          100,
          75.4,
          98,
          75.5,
          78.5,
          70.2,
          63.4,
          68,
          63.5,
          88,
          98,
          55.5,
          68.3,
          88.4,
          82.5,
          83.5,
          90,
          77.5,
          42.6,
          70,
          55,
          93.5,
          106.05,
          97,
          79.5,
          80,
          75.6,
          82.5,
          70.5,
          56,
          75.5,
          61.5,
          54.3,
          56.9,
          69,
          56.5,
          50.2,
          54,
          68,
          46,
          82.27,
          57,
          101.5,
          94.5,
          86.5,
          63.5,
          75,
          67,
          71.5,
          74,
          55,
          70,
          48.2,
          105,
          69.5,
          85,
          56.5,
          70.5,
          78.5,
          82.4,
          55,
          45,
          70.2,
          78.8,
          58.1,
          80,
          65,
          70,
          65.5,
          75.45,
          68.5,
          60,
          70,
          63,
          65,
          85,
          84,
          46.5,
          110,
          88,
          68,
          65,
          61,
          70,
          84,
          40,
          76.6,
          80,
          78.5,
          58,
          90,
          90,
          54.5,
          72.5,
          65,
          78.5,
          51,
          58,
          87,
          74,
          82,
          46.9,
          50.2,
          70,
          45,
          48,
          72,
          61,
          55,
          58,
          88.8,
          45.5,
          69.1,
          58,
          66.5,
          92,
          90,
          65.6,
          58,
          79.75,
          92,
          75,
          75,
          76,
          80.2,
          60.5,
          78,
          90,
          70,
          84,
          63,
          55,
          75,
          85,
          48,
          75.55,
          70.5,
          86,
          54.5
         ],
         "xaxis": "x3",
         "yaxis": "y3"
        },
        {
         "alignmentgroup": "True",
         "hovertemplate": "Qualification=Masters<br>Height=%{y}<extra></extra>",
         "legendgroup": "Masters",
         "marker": {
          "color": "#1F77B4",
          "symbol": "circle"
         },
         "name": "Masters",
         "offsetgroup": "Masters",
         "scalegroup": "y",
         "showlegend": false,
         "type": "violin",
         "xaxis": "x2",
         "y": [
          179,
          173,
          157,
          164.544,
          178,
          180.34,
          163,
          158.496,
          180,
          174,
          170.18,
          160,
          155,
          175.25,
          172,
          165,
          183,
          163,
          173,
          170.18,
          179.832,
          155,
          177.8,
          180.5,
          177.8,
          170,
          156,
          170,
          175,
          165,
          169,
          172.3,
          157.48,
          170.5,
          176,
          175.2,
          5.5,
          176.8,
          182,
          177.8,
          177.8,
          176.7,
          175.1,
          180.34,
          160.02,
          175.5,
          179,
          171.5,
          40.3,
          161.5,
          154,
          168.5,
          177.78,
          164.592,
          5.9,
          180,
          155.4,
          182.5,
          1.76,
          5.4,
          182.28,
          45.5,
          44.5,
          165,
          0,
          170.688,
          173.7,
          5.6,
          167.64,
          162.56,
          177,
          160,
          179,
          6.1,
          185.92,
          175.5,
          170,
          171,
          167.1,
          173,
          168,
          178,
          167.6,
          186,
          183.5,
          173.736,
          175.26,
          5.9,
          155.7528,
          164.3,
          161.544,
          58,
          13.7,
          170.5,
          167.64,
          167.64,
          167,
          161,
          172.72,
          173,
          164.5,
          170.688,
          5.9,
          175,
          168,
          173.736,
          173,
          170.18,
          72,
          174,
          175,
          182.88,
          5.2,
          167,
          208.28,
          158,
          13.97,
          173,
          170.688,
          172,
          1.74,
          158,
          164.5,
          173.73,
          165.1,
          163.5,
          155,
          170,
          183.1,
          178,
          155.65,
          158.496,
          173.7,
          14.478,
          170.68,
          1.72,
          161.2,
          168,
          177.8,
          167.64,
          162.56,
          170.18,
          70.1,
          162.56,
          164.5,
          175,
          14.734,
          164.4,
          170,
          182,
          171,
          165,
          170.688,
          1.74,
          158.496,
          172,
          174,
          180,
          175.26,
          5.1,
          184,
          177.8,
          178,
          178,
          160,
          167.65,
          178.5,
          180,
          161.544
         ],
         "yaxis": "y2"
        },
        {
         "hovertemplate": "<b>OLS trendline</b><br>Height_in_cm = 0.296728 * Weight_in_kg + 128.02<br>R<sup>2</sup>=0.006553<br><br>Qualification=Masters<br>Weight=%{x}<br>Height=%{y} <b>(trend)</b><extra></extra>",
         "legendgroup": "Masters",
         "marker": {
          "color": "#1F77B4",
          "symbol": "circle"
         },
         "mode": "lines",
         "name": "Masters",
         "showlegend": false,
         "type": "scatter",
         "x": [
          40,
          42.6,
          45,
          45,
          45.5,
          46,
          46.5,
          46.9,
          47,
          48,
          48,
          48.2,
          50,
          50,
          50.2,
          50.2,
          51,
          54,
          54.3,
          54.5,
          54.5,
          55,
          55,
          55,
          55,
          55,
          55.5,
          56,
          56.5,
          56.5,
          56.9,
          57,
          58,
          58,
          58,
          58,
          58,
          58,
          58.1,
          59.9,
          60,
          60,
          60,
          60,
          60,
          60.5,
          61,
          61,
          61.5,
          62.5,
          63,
          63,
          63.4,
          63.5,
          63.5,
          64.21,
          65,
          65,
          65,
          65,
          65,
          65.5,
          65.6,
          66.5,
          67,
          67,
          68,
          68,
          68,
          68.3,
          68.3,
          68.5,
          68.5,
          69,
          69.1,
          69.5,
          70,
          70,
          70,
          70,
          70,
          70,
          70,
          70,
          70.2,
          70.2,
          70.5,
          70.5,
          70.5,
          71.5,
          72,
          72.5,
          72.5,
          72.5,
          74,
          74,
          75,
          75,
          75,
          75,
          75,
          75.4,
          75.45,
          75.5,
          75.5,
          75.55,
          75.6,
          75.8,
          76,
          76.6,
          77,
          77.5,
          78,
          78.5,
          78.5,
          78.5,
          78.5,
          78.8,
          78.9,
          79.5,
          79.75,
          80,
          80,
          80,
          80.2,
          82,
          82.27,
          82.4,
          82.5,
          82.5,
          83.5,
          84,
          84,
          84,
          84,
          85,
          85,
          85,
          85.6,
          86,
          86.5,
          87,
          88,
          88,
          88.4,
          88.6,
          88.8,
          90,
          90,
          90,
          90,
          90,
          92,
          92,
          93,
          93.5,
          93.9,
          94.5,
          96,
          97,
          98,
          98,
          99,
          100,
          100.5,
          101.5,
          105,
          106.05,
          110
         ],
         "xaxis": "x",
         "y": [
          139.8896001169349,
          140.66109407683828,
          141.37324234751833,
          141.37324234751833,
          141.52160657057667,
          141.669970793635,
          141.81833501669334,
          141.93702639514004,
          141.9666992397517,
          142.26342768586838,
          142.26342768586838,
          142.3227733750917,
          142.85688457810176,
          142.85688457810176,
          142.9162302673251,
          142.9162302673251,
          143.15361302421843,
          144.0437983625685,
          144.1328168964035,
          144.19216258562685,
          144.19216258562685,
          144.34052680868518,
          144.34052680868518,
          144.34052680868518,
          144.34052680868518,
          144.34052680868518,
          144.48889103174352,
          144.63725525480186,
          144.78561947786022,
          144.78561947786022,
          144.9043108563069,
          144.93398370091856,
          145.23071214703523,
          145.23071214703523,
          145.23071214703523,
          145.23071214703523,
          145.23071214703523,
          145.23071214703523,
          145.2603849916469,
          145.79449619465694,
          145.8241690392686,
          145.8241690392686,
          145.8241690392686,
          145.8241690392686,
          145.8241690392686,
          145.97253326232698,
          146.1208974853853,
          146.1208974853853,
          146.26926170844365,
          146.56599015456032,
          146.7143543776187,
          146.7143543776187,
          146.83304575606536,
          146.86271860067703,
          146.86271860067703,
          147.07339579741986,
          147.30781126985204,
          147.30781126985204,
          147.30781126985204,
          147.30781126985204,
          147.30781126985204,
          147.4561754929104,
          147.48584833752207,
          147.75290393902708,
          147.90126816208542,
          147.90126816208542,
          148.19799660820212,
          148.19799660820212,
          148.19799660820212,
          148.28701514203712,
          148.28701514203712,
          148.34636083126045,
          148.34636083126045,
          148.4947250543188,
          148.52439789893046,
          148.64308927737713,
          148.7914535004355,
          148.7914535004355,
          148.7914535004355,
          148.7914535004355,
          148.7914535004355,
          148.7914535004355,
          148.7914535004355,
          148.7914535004355,
          148.85079918965883,
          148.85079918965883,
          148.93981772349383,
          148.93981772349383,
          148.93981772349383,
          149.2365461696105,
          149.38491039266887,
          149.5332746157272,
          149.5332746157272,
          149.5332746157272,
          149.97836728490222,
          149.97836728490222,
          150.27509573101892,
          150.27509573101892,
          150.27509573101892,
          150.27509573101892,
          150.27509573101892,
          150.3937871094656,
          150.4086235317714,
          150.42345995407726,
          150.42345995407726,
          150.4382963763831,
          150.45313279868893,
          150.51247848791226,
          150.5718241771356,
          150.74986124480563,
          150.8685526232523,
          151.01691684631064,
          151.16528106936897,
          151.3136452924273,
          151.3136452924273,
          151.3136452924273,
          151.3136452924273,
          151.4026638262623,
          151.432336670874,
          151.610373738544,
          151.68455585007317,
          151.75873796160235,
          151.75873796160235,
          151.75873796160235,
          151.81808365082568,
          152.35219485383573,
          152.43231153428724,
          152.4708862322824,
          152.50055907689406,
          152.50055907689406,
          152.79728752301077,
          152.9456517460691,
          152.9456517460691,
          152.9456517460691,
          152.9456517460691,
          153.24238019218578,
          153.24238019218578,
          153.24238019218578,
          153.42041725985578,
          153.53910863830248,
          153.68747286136082,
          153.83583708441915,
          154.13256553053583,
          154.13256553053583,
          154.25125690898253,
          154.31060259820586,
          154.3699482874292,
          154.7260224227692,
          154.7260224227692,
          154.7260224227692,
          154.7260224227692,
          154.7260224227692,
          155.31947931500258,
          155.31947931500258,
          155.61620776111928,
          155.76457198417762,
          155.8832633626243,
          156.0613004302943,
          156.50639309946934,
          156.803121545586,
          157.0998499917027,
          157.0998499917027,
          157.3965784378194,
          157.6933068839361,
          157.84167110699443,
          158.1383995531111,
          159.17694911451952,
          159.48851398294204,
          160.66059134510294
         ],
         "yaxis": "y"
        },
        {
         "hovertemplate": "Qualification=Bachelors<br>Weight=%{x}<br>Height=%{y}<extra></extra>",
         "legendgroup": "Bachelors",
         "marker": {
          "color": "#FF7F0E",
          "symbol": "circle"
         },
         "mode": "markers",
         "name": "Bachelors",
         "orientation": "v",
         "showlegend": true,
         "type": "scatter",
         "x": [
          53.6,
          100,
          76.8,
          84,
          88.2,
          72,
          130,
          69,
          83.5,
          69.5,
          72,
          55.5,
          78,
          93.5,
          64,
          87.5,
          50,
          71.2,
          105.5,
          89,
          71,
          88.2,
          57.5,
          62,
          69,
          43,
          75,
          50,
          39.5,
          72,
          79,
          84,
          90,
          67.9,
          76,
          76,
          48,
          67.4,
          54,
          60.5,
          74,
          86,
          41.2,
          61,
          70,
          52.27,
          60,
          65,
          68,
          70.5,
          62,
          43,
          60.5,
          60,
          72,
          70,
          78,
          65.8,
          68,
          60,
          47.5,
          90.2,
          90,
          52,
          55,
          74,
          68,
          50,
          53,
          59.5,
          58.5,
          75,
          65,
          161,
          70,
          72.5,
          65,
          135,
          100,
          68,
          65,
          60.2,
          57,
          65.7,
          74,
          80,
          70.85,
          56.61,
          63.5,
          50,
          85,
          66,
          56,
          53,
          42,
          52.1,
          59.5,
          58,
          46,
          114,
          64,
          86,
          65,
          55,
          54.5,
          46,
          31.75,
          67,
          65,
          86.34,
          70,
          64,
          52.1,
          67.5,
          60.5,
          55.5,
          72,
          54,
          66,
          68.7,
          68.5,
          78,
          50,
          50,
          67,
          85,
          66.5,
          70,
          82,
          60,
          70,
          83.4,
          60
         ],
         "xaxis": "x",
         "y": [
          178,
          187,
          1.75,
          183,
          185,
          164,
          172.72,
          174,
          172.72,
          163.2,
          177,
          164,
          179,
          177.5,
          160,
          182,
          5,
          172,
          5.7,
          157,
          160,
          178,
          162.8,
          184.3,
          164.5,
          152.4,
          166.5,
          180.34,
          155.8,
          170,
          5.11,
          174,
          1.4,
          17,
          176,
          60.6,
          152.4,
          172,
          165,
          179.832,
          182.88,
          174,
          12.446,
          169,
          64,
          171.5,
          32,
          170.18,
          161.544,
          170.18,
          173.736,
          154.6,
          167.64,
          174,
          170.688,
          180,
          173.736,
          178,
          5.6,
          176,
          150.2,
          164.592,
          188,
          162.5,
          170.18,
          173.736,
          167.64,
          48,
          165,
          14.224,
          154.5,
          188,
          66.5,
          173,
          5,
          5.9,
          170,
          185.9,
          155.75,
          173.7,
          163.5,
          170.688,
          5.6,
          16.51,
          177.5,
          180,
          160.52,
          176.7,
          167.64,
          152.4,
          14.732,
          155.448,
          160,
          65,
          5.6,
          172.72,
          179.832,
          58,
          160.02,
          180,
          170.18,
          88,
          160.4,
          170.18,
          164.92,
          1.6,
          161.9,
          167,
          170.688,
          179.83,
          155,
          168,
          172.72,
          185.9,
          182.88,
          13.462,
          170,
          139.5,
          177.8,
          178.3,
          182.8,
          173,
          5.2,
          174,
          156,
          14.732,
          177.8,
          14.478,
          5,
          175,
          178,
          172.7,
          1.68
         ],
         "yaxis": "y"
        },
        {
         "alignmentgroup": "True",
         "hovertemplate": "Qualification=Bachelors<br>Weight=%{x}<extra></extra>",
         "legendgroup": "Bachelors",
         "marker": {
          "color": "#FF7F0E",
          "symbol": "circle"
         },
         "name": "Bachelors",
         "notched": true,
         "offsetgroup": "Bachelors",
         "showlegend": false,
         "type": "box",
         "x": [
          53.6,
          100,
          76.8,
          84,
          88.2,
          72,
          130,
          69,
          83.5,
          69.5,
          72,
          55.5,
          78,
          93.5,
          64,
          87.5,
          50,
          71.2,
          105.5,
          89,
          71,
          88.2,
          57.5,
          62,
          69,
          43,
          75,
          50,
          39.5,
          72,
          79,
          84,
          90,
          67.9,
          76,
          76,
          48,
          67.4,
          54,
          60.5,
          74,
          86,
          41.2,
          61,
          70,
          52.27,
          60,
          65,
          68,
          70.5,
          62,
          43,
          60.5,
          60,
          72,
          70,
          78,
          65.8,
          68,
          60,
          47.5,
          90.2,
          90,
          52,
          55,
          74,
          68,
          50,
          53,
          59.5,
          58.5,
          75,
          65,
          161,
          70,
          72.5,
          65,
          135,
          100,
          68,
          65,
          60.2,
          57,
          65.7,
          74,
          80,
          70.85,
          56.61,
          63.5,
          50,
          85,
          66,
          56,
          53,
          42,
          52.1,
          59.5,
          58,
          46,
          114,
          64,
          86,
          65,
          55,
          54.5,
          46,
          31.75,
          67,
          65,
          86.34,
          70,
          64,
          52.1,
          67.5,
          60.5,
          55.5,
          72,
          54,
          66,
          68.7,
          68.5,
          78,
          50,
          50,
          67,
          85,
          66.5,
          70,
          82,
          60,
          70,
          83.4,
          60
         ],
         "xaxis": "x3",
         "yaxis": "y3"
        },
        {
         "alignmentgroup": "True",
         "hovertemplate": "Qualification=Bachelors<br>Height=%{y}<extra></extra>",
         "legendgroup": "Bachelors",
         "marker": {
          "color": "#FF7F0E",
          "symbol": "circle"
         },
         "name": "Bachelors",
         "offsetgroup": "Bachelors",
         "scalegroup": "y",
         "showlegend": false,
         "type": "violin",
         "xaxis": "x2",
         "y": [
          178,
          187,
          1.75,
          183,
          185,
          164,
          172.72,
          174,
          172.72,
          163.2,
          177,
          164,
          179,
          177.5,
          160,
          182,
          5,
          172,
          5.7,
          157,
          160,
          178,
          162.8,
          184.3,
          164.5,
          152.4,
          166.5,
          180.34,
          155.8,
          170,
          5.11,
          174,
          1.4,
          17,
          176,
          60.6,
          152.4,
          172,
          165,
          179.832,
          182.88,
          174,
          12.446,
          169,
          64,
          171.5,
          32,
          170.18,
          161.544,
          170.18,
          173.736,
          154.6,
          167.64,
          174,
          170.688,
          180,
          173.736,
          178,
          5.6,
          176,
          150.2,
          164.592,
          188,
          162.5,
          170.18,
          173.736,
          167.64,
          48,
          165,
          14.224,
          154.5,
          188,
          66.5,
          173,
          5,
          5.9,
          170,
          185.9,
          155.75,
          173.7,
          163.5,
          170.688,
          5.6,
          16.51,
          177.5,
          180,
          160.52,
          176.7,
          167.64,
          152.4,
          14.732,
          155.448,
          160,
          65,
          5.6,
          172.72,
          179.832,
          58,
          160.02,
          180,
          170.18,
          88,
          160.4,
          170.18,
          164.92,
          1.6,
          161.9,
          167,
          170.688,
          179.83,
          155,
          168,
          172.72,
          185.9,
          182.88,
          13.462,
          170,
          139.5,
          177.8,
          178.3,
          182.8,
          173,
          5.2,
          174,
          156,
          14.732,
          177.8,
          14.478,
          5,
          175,
          178,
          172.7,
          1.68
         ],
         "yaxis": "y2"
        },
        {
         "hovertemplate": "<b>OLS trendline</b><br>Height_in_cm = 0.387274 * Weight_in_kg + 110.345<br>R<sup>2</sup>=0.011997<br><br>Qualification=Bachelors<br>Weight=%{x}<br>Height=%{y} <b>(trend)</b><extra></extra>",
         "legendgroup": "Bachelors",
         "marker": {
          "color": "#FF7F0E",
          "symbol": "circle"
         },
         "mode": "lines",
         "name": "Bachelors",
         "showlegend": false,
         "type": "scatter",
         "x": [
          31.75,
          39.5,
          41.2,
          42,
          43,
          43,
          46,
          46,
          47.5,
          48,
          50,
          50,
          50,
          50,
          50,
          50,
          52,
          52.1,
          52.1,
          52.27,
          53,
          53,
          53.6,
          54,
          54,
          54.5,
          55,
          55,
          55.5,
          55.5,
          56,
          56.61,
          57,
          57.5,
          58,
          58.5,
          59.5,
          59.5,
          60,
          60,
          60,
          60,
          60,
          60.2,
          60.5,
          60.5,
          60.5,
          61,
          62,
          62,
          63.5,
          64,
          64,
          64,
          65,
          65,
          65,
          65,
          65,
          65,
          65.7,
          65.8,
          66,
          66,
          66.5,
          67,
          67,
          67.4,
          67.5,
          67.9,
          68,
          68,
          68,
          68,
          68.5,
          68.7,
          69,
          69,
          69.5,
          70,
          70,
          70,
          70,
          70,
          70,
          70.5,
          70.85,
          71,
          71.2,
          72,
          72,
          72,
          72,
          72,
          72.5,
          74,
          74,
          74,
          75,
          75,
          76,
          76,
          76.8,
          78,
          78,
          78,
          79,
          80,
          82,
          83.4,
          83.5,
          84,
          84,
          85,
          85,
          86,
          86,
          86.34,
          87.5,
          88.2,
          88.2,
          89,
          90,
          90,
          90.2,
          93.5,
          100,
          100,
          105.5,
          114,
          130,
          135,
          161
         ],
         "xaxis": "x",
         "y": [
          122.64127318132067,
          125.64264702037141,
          126.30101289474385,
          126.61083212974263,
          126.99810617349111,
          126.99810617349111,
          128.15992830473655,
          128.15992830473655,
          128.74083937035928,
          128.93447639223353,
          129.7090244797305,
          129.7090244797305,
          129.7090244797305,
          129.7090244797305,
          129.7090244797305,
          129.7090244797305,
          130.48357256722747,
          130.5222999716023,
          130.5222999716023,
          130.58813655903955,
          130.87084661097595,
          130.87084661097595,
          131.10321103722504,
          131.25812065472442,
          131.25812065472442,
          131.45175767659867,
          131.6453946984729,
          131.6453946984729,
          131.83903172034715,
          131.83903172034715,
          132.0326687422214,
          132.26890590890798,
          132.41994278596988,
          132.61357980784413,
          132.80721682971836,
          133.0008538515926,
          133.38812789534109,
          133.38812789534109,
          133.58176491721534,
          133.58176491721534,
          133.58176491721534,
          133.58176491721534,
          133.58176491721534,
          133.65921972596504,
          133.77540193908956,
          133.77540193908956,
          133.77540193908956,
          133.96903896096381,
          134.3563130047123,
          134.3563130047123,
          134.93722407033502,
          135.13086109220927,
          135.13086109220927,
          135.13086109220927,
          135.51813513595775,
          135.51813513595775,
          135.51813513595775,
          135.51813513595775,
          135.51813513595775,
          135.51813513595775,
          135.78922696658168,
          135.82795437095655,
          135.90540917970623,
          135.90540917970623,
          136.09904620158048,
          136.29268322345473,
          136.29268322345473,
          136.44759284095412,
          136.48632024532895,
          136.64122986282837,
          136.6799572672032,
          136.6799572672032,
          136.6799572672032,
          136.6799572672032,
          136.87359428907743,
          136.95104909782714,
          137.06723131095168,
          137.06723131095168,
          137.26086833282594,
          137.45450535470016,
          137.45450535470016,
          137.45450535470016,
          137.45450535470016,
          137.45450535470016,
          137.45450535470016,
          137.6481423765744,
          137.78368829188636,
          137.84177939844864,
          137.91923420719834,
          138.22905344219714,
          138.22905344219714,
          138.22905344219714,
          138.22905344219714,
          138.22905344219714,
          138.42269046407137,
          139.0036015296941,
          139.0036015296941,
          139.0036015296941,
          139.3908755734426,
          139.3908755734426,
          139.77814961719108,
          139.77814961719108,
          140.08796885218985,
          140.55269770468803,
          140.55269770468803,
          140.55269770468803,
          140.9399717484365,
          141.327245792185,
          142.10179387968196,
          142.64397754092985,
          142.6827049453047,
          142.87634196717894,
          142.87634196717894,
          143.26361601092742,
          143.26361601092742,
          143.6508900546759,
          143.6508900546759,
          143.7825632295504,
          144.23180112029863,
          144.50289295092256,
          144.50289295092256,
          144.81271218592136,
          145.19998622966983,
          145.19998622966983,
          145.27744103841954,
          146.55544538278951,
          149.07272666715465,
          149.07272666715465,
          151.20273390777135,
          154.49456327963344,
          160.69094797960918,
          162.6273181983516,
          172.69644333581215
         ],
         "yaxis": "y"
        },
        {
         "hovertemplate": "Qualification=PhD<br>Weight=%{x}<br>Height=%{y}<extra></extra>",
         "legendgroup": "PhD",
         "marker": {
          "color": "#2CA02C",
          "symbol": "circle"
         },
         "mode": "markers",
         "name": "PhD",
         "orientation": "v",
         "showlegend": true,
         "type": "scatter",
         "x": [
          78,
          74.5,
          70.2,
          65.5,
          60,
          97.5,
          85,
          80,
          82,
          80,
          104.5,
          77,
          89.5,
          65.21,
          72,
          65.5,
          72,
          82.5,
          68.5,
          79,
          85,
          68,
          54,
          65,
          65,
          80,
          65,
          85.5
         ],
         "xaxis": "x",
         "y": [
          165,
          174,
          168,
          174.5,
          164.59,
          177,
          178,
          176,
          175,
          5.7,
          1.73,
          167.64,
          155.44,
          1.74,
          162,
          167.64,
          168.7,
          179.832,
          173,
          183,
          170.6,
          170,
          161.5,
          172,
          160,
          5.8,
          175,
          168
         ],
         "yaxis": "y"
        },
        {
         "alignmentgroup": "True",
         "hovertemplate": "Qualification=PhD<br>Weight=%{x}<extra></extra>",
         "legendgroup": "PhD",
         "marker": {
          "color": "#2CA02C",
          "symbol": "circle"
         },
         "name": "PhD",
         "notched": true,
         "offsetgroup": "PhD",
         "showlegend": false,
         "type": "box",
         "x": [
          78,
          74.5,
          70.2,
          65.5,
          60,
          97.5,
          85,
          80,
          82,
          80,
          104.5,
          77,
          89.5,
          65.21,
          72,
          65.5,
          72,
          82.5,
          68.5,
          79,
          85,
          68,
          54,
          65,
          65,
          80,
          65,
          85.5
         ],
         "xaxis": "x3",
         "yaxis": "y3"
        },
        {
         "alignmentgroup": "True",
         "hovertemplate": "Qualification=PhD<br>Height=%{y}<extra></extra>",
         "legendgroup": "PhD",
         "marker": {
          "color": "#2CA02C",
          "symbol": "circle"
         },
         "name": "PhD",
         "offsetgroup": "PhD",
         "scalegroup": "y",
         "showlegend": false,
         "type": "violin",
         "xaxis": "x2",
         "y": [
          165,
          174,
          168,
          174.5,
          164.59,
          177,
          178,
          176,
          175,
          5.7,
          1.73,
          167.64,
          155.44,
          1.74,
          162,
          167.64,
          168.7,
          179.832,
          173,
          183,
          170.6,
          170,
          161.5,
          172,
          160,
          5.8,
          175,
          168
         ],
         "yaxis": "y2"
        },
        {
         "hovertemplate": "<b>OLS trendline</b><br>Height_in_cm = -1.18581 * Weight_in_kg + 236.089<br>R<sup>2</sup>=0.050789<br><br>Qualification=PhD<br>Weight=%{x}<br>Height=%{y} <b>(trend)</b><extra></extra>",
         "legendgroup": "PhD",
         "marker": {
          "color": "#2CA02C",
          "symbol": "circle"
         },
         "mode": "lines",
         "name": "PhD",
         "showlegend": false,
         "type": "scatter",
         "x": [
          54,
          60,
          65,
          65,
          65,
          65.21,
          65.5,
          65.5,
          68,
          68.5,
          70.2,
          72,
          72,
          74.5,
          77,
          78,
          79,
          80,
          80,
          80,
          82,
          82.5,
          85,
          85,
          85.5,
          89.5,
          97.5,
          104.5
         ],
         "xaxis": "x",
         "y": [
          172.05490933873875,
          164.9400200855253,
          159.01094570784744,
          159.01094570784744,
          159.01094570784744,
          158.76192458398498,
          158.41803827007965,
          158.41803827007965,
          155.45350108124074,
          154.86059364347295,
          152.84470835506247,
          150.71024157909844,
          150.71024157909844,
          147.7457043902595,
          144.78116720142054,
          143.595352325885,
          142.4095374503494,
          141.22372257481385,
          141.22372257481385,
          141.22372257481385,
          138.85209282374268,
          138.2591853859749,
          135.29464819713596,
          135.29464819713596,
          134.7017407593682,
          129.95848125722588,
          120.47196225294128,
          112.17125812419226
         ],
         "yaxis": "y"
        },
        {
         "hovertemplate": "Qualification=Pre-Bachelors<br>Weight=%{x}<br>Height=%{y}<extra></extra>",
         "legendgroup": "Pre-Bachelors",
         "marker": {
          "color": "#D62728",
          "symbol": "circle"
         },
         "mode": "markers",
         "name": "Pre-Bachelors",
         "orientation": "v",
         "showlegend": true,
         "type": "scatter",
         "x": [
          63,
          55,
          52.5,
          75,
          52,
          63.5,
          52,
          50,
          64,
          68.5,
          57.4,
          71.5,
          48,
          75,
          59,
          55.2,
          50,
          68.5,
          75.5,
          63.5,
          68.2,
          67.12,
          85,
          50,
          75,
          68,
          52,
          60,
          55,
          53,
          48,
          30.5,
          48,
          48,
          60,
          92.4,
          72,
          45,
          49,
          64,
          64,
          60,
          60,
          70.5,
          64
         ],
         "xaxis": "x",
         "y": [
          178.2,
          182.88,
          164.344,
          169,
          174,
          173,
          170.688,
          1.73,
          166,
          164.592,
          173.736,
          170.688,
          155,
          5.6,
          163.5,
          167.64,
          164,
          173.5,
          2.1,
          5.7,
          173.4,
          164.592,
          162.56,
          170,
          168,
          182,
          160,
          5.8,
          5.7,
          176,
          166.16,
          150.05,
          152,
          170.18,
          117.8,
          164.592,
          175,
          137.16,
          1.2,
          160,
          178,
          5.8,
          158,
          167.6,
          166
         ],
         "yaxis": "y"
        },
        {
         "alignmentgroup": "True",
         "hovertemplate": "Qualification=Pre-Bachelors<br>Weight=%{x}<extra></extra>",
         "legendgroup": "Pre-Bachelors",
         "marker": {
          "color": "#D62728",
          "symbol": "circle"
         },
         "name": "Pre-Bachelors",
         "notched": true,
         "offsetgroup": "Pre-Bachelors",
         "showlegend": false,
         "type": "box",
         "x": [
          63,
          55,
          52.5,
          75,
          52,
          63.5,
          52,
          50,
          64,
          68.5,
          57.4,
          71.5,
          48,
          75,
          59,
          55.2,
          50,
          68.5,
          75.5,
          63.5,
          68.2,
          67.12,
          85,
          50,
          75,
          68,
          52,
          60,
          55,
          53,
          48,
          30.5,
          48,
          48,
          60,
          92.4,
          72,
          45,
          49,
          64,
          64,
          60,
          60,
          70.5,
          64
         ],
         "xaxis": "x3",
         "yaxis": "y3"
        },
        {
         "alignmentgroup": "True",
         "hovertemplate": "Qualification=Pre-Bachelors<br>Height=%{y}<extra></extra>",
         "legendgroup": "Pre-Bachelors",
         "marker": {
          "color": "#D62728",
          "symbol": "circle"
         },
         "name": "Pre-Bachelors",
         "offsetgroup": "Pre-Bachelors",
         "scalegroup": "y",
         "showlegend": false,
         "type": "violin",
         "xaxis": "x2",
         "y": [
          178.2,
          182.88,
          164.344,
          169,
          174,
          173,
          170.688,
          1.73,
          166,
          164.592,
          173.736,
          170.688,
          155,
          5.6,
          163.5,
          167.64,
          164,
          173.5,
          2.1,
          5.7,
          173.4,
          164.592,
          162.56,
          170,
          168,
          182,
          160,
          5.8,
          5.7,
          176,
          166.16,
          150.05,
          152,
          170.18,
          117.8,
          164.592,
          175,
          137.16,
          1.2,
          160,
          178,
          5.8,
          158,
          167.6,
          166
         ],
         "yaxis": "y2"
        },
        {
         "hovertemplate": "<b>OLS trendline</b><br>Height_in_cm = 0.154593 * Weight_in_kg + 127.595<br>R<sup>2</sup>=0.000791<br><br>Qualification=Pre-Bachelors<br>Weight=%{x}<br>Height=%{y} <b>(trend)</b><extra></extra>",
         "legendgroup": "Pre-Bachelors",
         "marker": {
          "color": "#D62728",
          "symbol": "circle"
         },
         "mode": "lines",
         "name": "Pre-Bachelors",
         "showlegend": false,
         "type": "scatter",
         "x": [
          30.5,
          45,
          48,
          48,
          48,
          48,
          49,
          50,
          50,
          50,
          52,
          52,
          52,
          52.5,
          53,
          55,
          55,
          55.2,
          57.4,
          59,
          60,
          60,
          60,
          60,
          63,
          63.5,
          63.5,
          64,
          64,
          64,
          64,
          67.12,
          68,
          68.2,
          68.5,
          68.5,
          70.5,
          71.5,
          72,
          75,
          75,
          75,
          75.5,
          85,
          92.4
         ],
         "xaxis": "x",
         "y": [
          132.31042067690365,
          134.55202008392223,
          135.01579927158124,
          135.01579927158124,
          135.01579927158124,
          135.01579927158124,
          135.17039233413425,
          135.32498539668725,
          135.32498539668725,
          135.32498539668725,
          135.63417152179326,
          135.63417152179326,
          135.63417152179326,
          135.71146805306978,
          135.78876458434627,
          136.09795070945228,
          136.09795070945228,
          136.1288693219629,
          136.4689740595795,
          136.7163229596643,
          136.8709160222173,
          136.8709160222173,
          136.8709160222173,
          136.8709160222173,
          137.33469520987634,
          137.41199174115283,
          137.41199174115283,
          137.48928827242935,
          137.48928827242935,
          137.48928827242935,
          137.48928827242935,
          137.97161862759472,
          138.10766052264137,
          138.13857913515196,
          138.18495705391786,
          138.18495705391786,
          138.49414317902387,
          138.64873624157687,
          138.7260327728534,
          139.1898119605124,
          139.1898119605124,
          139.1898119605124,
          139.26710849178892,
          140.73574258604248,
          141.87973124893472
         ],
         "yaxis": "y"
        }
       ],
       "layout": {
        "legend": {
         "title": {
          "text": "Qualification"
         },
         "tracegroupgap": 0
        },
        "margin": {
         "t": 60
        },
        "template": {
         "data": {
          "bar": [
           {
            "error_x": {
             "color": "rgb(36,36,36)"
            },
            "error_y": {
             "color": "rgb(36,36,36)"
            },
            "marker": {
             "line": {
              "color": "white",
              "width": 0.5
             },
             "pattern": {
              "fillmode": "overlay",
              "size": 10,
              "solidity": 0.2
             }
            },
            "type": "bar"
           }
          ],
          "barpolar": [
           {
            "marker": {
             "line": {
              "color": "white",
              "width": 0.5
             },
             "pattern": {
              "fillmode": "overlay",
              "size": 10,
              "solidity": 0.2
             }
            },
            "type": "barpolar"
           }
          ],
          "carpet": [
           {
            "aaxis": {
             "endlinecolor": "rgb(36,36,36)",
             "gridcolor": "white",
             "linecolor": "white",
             "minorgridcolor": "white",
             "startlinecolor": "rgb(36,36,36)"
            },
            "baxis": {
             "endlinecolor": "rgb(36,36,36)",
             "gridcolor": "white",
             "linecolor": "white",
             "minorgridcolor": "white",
             "startlinecolor": "rgb(36,36,36)"
            },
            "type": "carpet"
           }
          ],
          "choropleth": [
           {
            "colorbar": {
             "outlinewidth": 1,
             "tickcolor": "rgb(36,36,36)",
             "ticks": "outside"
            },
            "type": "choropleth"
           }
          ],
          "contour": [
           {
            "colorbar": {
             "outlinewidth": 1,
             "tickcolor": "rgb(36,36,36)",
             "ticks": "outside"
            },
            "colorscale": [
             [
              0,
              "#440154"
             ],
             [
              0.1111111111111111,
              "#482878"
             ],
             [
              0.2222222222222222,
              "#3e4989"
             ],
             [
              0.3333333333333333,
              "#31688e"
             ],
             [
              0.4444444444444444,
              "#26828e"
             ],
             [
              0.5555555555555556,
              "#1f9e89"
             ],
             [
              0.6666666666666666,
              "#35b779"
             ],
             [
              0.7777777777777778,
              "#6ece58"
             ],
             [
              0.8888888888888888,
              "#b5de2b"
             ],
             [
              1,
              "#fde725"
             ]
            ],
            "type": "contour"
           }
          ],
          "contourcarpet": [
           {
            "colorbar": {
             "outlinewidth": 1,
             "tickcolor": "rgb(36,36,36)",
             "ticks": "outside"
            },
            "type": "contourcarpet"
           }
          ],
          "heatmap": [
           {
            "colorbar": {
             "outlinewidth": 1,
             "tickcolor": "rgb(36,36,36)",
             "ticks": "outside"
            },
            "colorscale": [
             [
              0,
              "#440154"
             ],
             [
              0.1111111111111111,
              "#482878"
             ],
             [
              0.2222222222222222,
              "#3e4989"
             ],
             [
              0.3333333333333333,
              "#31688e"
             ],
             [
              0.4444444444444444,
              "#26828e"
             ],
             [
              0.5555555555555556,
              "#1f9e89"
             ],
             [
              0.6666666666666666,
              "#35b779"
             ],
             [
              0.7777777777777778,
              "#6ece58"
             ],
             [
              0.8888888888888888,
              "#b5de2b"
             ],
             [
              1,
              "#fde725"
             ]
            ],
            "type": "heatmap"
           }
          ],
          "heatmapgl": [
           {
            "colorbar": {
             "outlinewidth": 1,
             "tickcolor": "rgb(36,36,36)",
             "ticks": "outside"
            },
            "colorscale": [
             [
              0,
              "#440154"
             ],
             [
              0.1111111111111111,
              "#482878"
             ],
             [
              0.2222222222222222,
              "#3e4989"
             ],
             [
              0.3333333333333333,
              "#31688e"
             ],
             [
              0.4444444444444444,
              "#26828e"
             ],
             [
              0.5555555555555556,
              "#1f9e89"
             ],
             [
              0.6666666666666666,
              "#35b779"
             ],
             [
              0.7777777777777778,
              "#6ece58"
             ],
             [
              0.8888888888888888,
              "#b5de2b"
             ],
             [
              1,
              "#fde725"
             ]
            ],
            "type": "heatmapgl"
           }
          ],
          "histogram": [
           {
            "marker": {
             "line": {
              "color": "white",
              "width": 0.6
             }
            },
            "type": "histogram"
           }
          ],
          "histogram2d": [
           {
            "colorbar": {
             "outlinewidth": 1,
             "tickcolor": "rgb(36,36,36)",
             "ticks": "outside"
            },
            "colorscale": [
             [
              0,
              "#440154"
             ],
             [
              0.1111111111111111,
              "#482878"
             ],
             [
              0.2222222222222222,
              "#3e4989"
             ],
             [
              0.3333333333333333,
              "#31688e"
             ],
             [
              0.4444444444444444,
              "#26828e"
             ],
             [
              0.5555555555555556,
              "#1f9e89"
             ],
             [
              0.6666666666666666,
              "#35b779"
             ],
             [
              0.7777777777777778,
              "#6ece58"
             ],
             [
              0.8888888888888888,
              "#b5de2b"
             ],
             [
              1,
              "#fde725"
             ]
            ],
            "type": "histogram2d"
           }
          ],
          "histogram2dcontour": [
           {
            "colorbar": {
             "outlinewidth": 1,
             "tickcolor": "rgb(36,36,36)",
             "ticks": "outside"
            },
            "colorscale": [
             [
              0,
              "#440154"
             ],
             [
              0.1111111111111111,
              "#482878"
             ],
             [
              0.2222222222222222,
              "#3e4989"
             ],
             [
              0.3333333333333333,
              "#31688e"
             ],
             [
              0.4444444444444444,
              "#26828e"
             ],
             [
              0.5555555555555556,
              "#1f9e89"
             ],
             [
              0.6666666666666666,
              "#35b779"
             ],
             [
              0.7777777777777778,
              "#6ece58"
             ],
             [
              0.8888888888888888,
              "#b5de2b"
             ],
             [
              1,
              "#fde725"
             ]
            ],
            "type": "histogram2dcontour"
           }
          ],
          "mesh3d": [
           {
            "colorbar": {
             "outlinewidth": 1,
             "tickcolor": "rgb(36,36,36)",
             "ticks": "outside"
            },
            "type": "mesh3d"
           }
          ],
          "parcoords": [
           {
            "line": {
             "colorbar": {
              "outlinewidth": 1,
              "tickcolor": "rgb(36,36,36)",
              "ticks": "outside"
             }
            },
            "type": "parcoords"
           }
          ],
          "pie": [
           {
            "automargin": true,
            "type": "pie"
           }
          ],
          "scatter": [
           {
            "marker": {
             "colorbar": {
              "outlinewidth": 1,
              "tickcolor": "rgb(36,36,36)",
              "ticks": "outside"
             }
            },
            "type": "scatter"
           }
          ],
          "scatter3d": [
           {
            "line": {
             "colorbar": {
              "outlinewidth": 1,
              "tickcolor": "rgb(36,36,36)",
              "ticks": "outside"
             }
            },
            "marker": {
             "colorbar": {
              "outlinewidth": 1,
              "tickcolor": "rgb(36,36,36)",
              "ticks": "outside"
             }
            },
            "type": "scatter3d"
           }
          ],
          "scattercarpet": [
           {
            "marker": {
             "colorbar": {
              "outlinewidth": 1,
              "tickcolor": "rgb(36,36,36)",
              "ticks": "outside"
             }
            },
            "type": "scattercarpet"
           }
          ],
          "scattergeo": [
           {
            "marker": {
             "colorbar": {
              "outlinewidth": 1,
              "tickcolor": "rgb(36,36,36)",
              "ticks": "outside"
             }
            },
            "type": "scattergeo"
           }
          ],
          "scattergl": [
           {
            "marker": {
             "colorbar": {
              "outlinewidth": 1,
              "tickcolor": "rgb(36,36,36)",
              "ticks": "outside"
             }
            },
            "type": "scattergl"
           }
          ],
          "scattermapbox": [
           {
            "marker": {
             "colorbar": {
              "outlinewidth": 1,
              "tickcolor": "rgb(36,36,36)",
              "ticks": "outside"
             }
            },
            "type": "scattermapbox"
           }
          ],
          "scatterpolar": [
           {
            "marker": {
             "colorbar": {
              "outlinewidth": 1,
              "tickcolor": "rgb(36,36,36)",
              "ticks": "outside"
             }
            },
            "type": "scatterpolar"
           }
          ],
          "scatterpolargl": [
           {
            "marker": {
             "colorbar": {
              "outlinewidth": 1,
              "tickcolor": "rgb(36,36,36)",
              "ticks": "outside"
             }
            },
            "type": "scatterpolargl"
           }
          ],
          "scatterternary": [
           {
            "marker": {
             "colorbar": {
              "outlinewidth": 1,
              "tickcolor": "rgb(36,36,36)",
              "ticks": "outside"
             }
            },
            "type": "scatterternary"
           }
          ],
          "surface": [
           {
            "colorbar": {
             "outlinewidth": 1,
             "tickcolor": "rgb(36,36,36)",
             "ticks": "outside"
            },
            "colorscale": [
             [
              0,
              "#440154"
             ],
             [
              0.1111111111111111,
              "#482878"
             ],
             [
              0.2222222222222222,
              "#3e4989"
             ],
             [
              0.3333333333333333,
              "#31688e"
             ],
             [
              0.4444444444444444,
              "#26828e"
             ],
             [
              0.5555555555555556,
              "#1f9e89"
             ],
             [
              0.6666666666666666,
              "#35b779"
             ],
             [
              0.7777777777777778,
              "#6ece58"
             ],
             [
              0.8888888888888888,
              "#b5de2b"
             ],
             [
              1,
              "#fde725"
             ]
            ],
            "type": "surface"
           }
          ],
          "table": [
           {
            "cells": {
             "fill": {
              "color": "rgb(237,237,237)"
             },
             "line": {
              "color": "white"
             }
            },
            "header": {
             "fill": {
              "color": "rgb(217,217,217)"
             },
             "line": {
              "color": "white"
             }
            },
            "type": "table"
           }
          ]
         },
         "layout": {
          "annotationdefaults": {
           "arrowhead": 0,
           "arrowwidth": 1
          },
          "autotypenumbers": "strict",
          "coloraxis": {
           "colorbar": {
            "outlinewidth": 1,
            "tickcolor": "rgb(36,36,36)",
            "ticks": "outside"
           }
          },
          "colorscale": {
           "diverging": [
            [
             0,
             "rgb(103,0,31)"
            ],
            [
             0.1,
             "rgb(178,24,43)"
            ],
            [
             0.2,
             "rgb(214,96,77)"
            ],
            [
             0.3,
             "rgb(244,165,130)"
            ],
            [
             0.4,
             "rgb(253,219,199)"
            ],
            [
             0.5,
             "rgb(247,247,247)"
            ],
            [
             0.6,
             "rgb(209,229,240)"
            ],
            [
             0.7,
             "rgb(146,197,222)"
            ],
            [
             0.8,
             "rgb(67,147,195)"
            ],
            [
             0.9,
             "rgb(33,102,172)"
            ],
            [
             1,
             "rgb(5,48,97)"
            ]
           ],
           "sequential": [
            [
             0,
             "#440154"
            ],
            [
             0.1111111111111111,
             "#482878"
            ],
            [
             0.2222222222222222,
             "#3e4989"
            ],
            [
             0.3333333333333333,
             "#31688e"
            ],
            [
             0.4444444444444444,
             "#26828e"
            ],
            [
             0.5555555555555556,
             "#1f9e89"
            ],
            [
             0.6666666666666666,
             "#35b779"
            ],
            [
             0.7777777777777778,
             "#6ece58"
            ],
            [
             0.8888888888888888,
             "#b5de2b"
            ],
            [
             1,
             "#fde725"
            ]
           ],
           "sequentialminus": [
            [
             0,
             "#440154"
            ],
            [
             0.1111111111111111,
             "#482878"
            ],
            [
             0.2222222222222222,
             "#3e4989"
            ],
            [
             0.3333333333333333,
             "#31688e"
            ],
            [
             0.4444444444444444,
             "#26828e"
            ],
            [
             0.5555555555555556,
             "#1f9e89"
            ],
            [
             0.6666666666666666,
             "#35b779"
            ],
            [
             0.7777777777777778,
             "#6ece58"
            ],
            [
             0.8888888888888888,
             "#b5de2b"
            ],
            [
             1,
             "#fde725"
            ]
           ]
          },
          "colorway": [
           "#1F77B4",
           "#FF7F0E",
           "#2CA02C",
           "#D62728",
           "#9467BD",
           "#8C564B",
           "#E377C2",
           "#7F7F7F",
           "#BCBD22",
           "#17BECF"
          ],
          "font": {
           "color": "rgb(36,36,36)"
          },
          "geo": {
           "bgcolor": "white",
           "lakecolor": "white",
           "landcolor": "white",
           "showlakes": true,
           "showland": true,
           "subunitcolor": "white"
          },
          "hoverlabel": {
           "align": "left"
          },
          "hovermode": "closest",
          "mapbox": {
           "style": "light"
          },
          "paper_bgcolor": "white",
          "plot_bgcolor": "white",
          "polar": {
           "angularaxis": {
            "gridcolor": "rgb(232,232,232)",
            "linecolor": "rgb(36,36,36)",
            "showgrid": false,
            "showline": true,
            "ticks": "outside"
           },
           "bgcolor": "white",
           "radialaxis": {
            "gridcolor": "rgb(232,232,232)",
            "linecolor": "rgb(36,36,36)",
            "showgrid": false,
            "showline": true,
            "ticks": "outside"
           }
          },
          "scene": {
           "xaxis": {
            "backgroundcolor": "white",
            "gridcolor": "rgb(232,232,232)",
            "gridwidth": 2,
            "linecolor": "rgb(36,36,36)",
            "showbackground": true,
            "showgrid": false,
            "showline": true,
            "ticks": "outside",
            "zeroline": false,
            "zerolinecolor": "rgb(36,36,36)"
           },
           "yaxis": {
            "backgroundcolor": "white",
            "gridcolor": "rgb(232,232,232)",
            "gridwidth": 2,
            "linecolor": "rgb(36,36,36)",
            "showbackground": true,
            "showgrid": false,
            "showline": true,
            "ticks": "outside",
            "zeroline": false,
            "zerolinecolor": "rgb(36,36,36)"
           },
           "zaxis": {
            "backgroundcolor": "white",
            "gridcolor": "rgb(232,232,232)",
            "gridwidth": 2,
            "linecolor": "rgb(36,36,36)",
            "showbackground": true,
            "showgrid": false,
            "showline": true,
            "ticks": "outside",
            "zeroline": false,
            "zerolinecolor": "rgb(36,36,36)"
           }
          },
          "shapedefaults": {
           "fillcolor": "black",
           "line": {
            "width": 0
           },
           "opacity": 0.3
          },
          "ternary": {
           "aaxis": {
            "gridcolor": "rgb(232,232,232)",
            "linecolor": "rgb(36,36,36)",
            "showgrid": false,
            "showline": true,
            "ticks": "outside"
           },
           "baxis": {
            "gridcolor": "rgb(232,232,232)",
            "linecolor": "rgb(36,36,36)",
            "showgrid": false,
            "showline": true,
            "ticks": "outside"
           },
           "bgcolor": "white",
           "caxis": {
            "gridcolor": "rgb(232,232,232)",
            "linecolor": "rgb(36,36,36)",
            "showgrid": false,
            "showline": true,
            "ticks": "outside"
           }
          },
          "title": {
           "x": 0.05
          },
          "xaxis": {
           "automargin": true,
           "gridcolor": "rgb(232,232,232)",
           "linecolor": "rgb(36,36,36)",
           "showgrid": false,
           "showline": true,
           "ticks": "outside",
           "title": {
            "standoff": 15
           },
           "zeroline": false,
           "zerolinecolor": "rgb(36,36,36)"
          },
          "yaxis": {
           "automargin": true,
           "gridcolor": "rgb(232,232,232)",
           "linecolor": "rgb(36,36,36)",
           "showgrid": false,
           "showline": true,
           "ticks": "outside",
           "title": {
            "standoff": 15
           },
           "zeroline": false,
           "zerolinecolor": "rgb(36,36,36)"
          }
         }
        },
        "xaxis": {
         "anchor": "y",
         "domain": [
          0,
          0.7363
         ],
         "title": {
          "text": "Weight"
         }
        },
        "xaxis2": {
         "anchor": "y2",
         "domain": [
          0.7413,
          1
         ],
         "matches": "x2",
         "showline": false,
         "showticklabels": false,
         "ticks": ""
        },
        "xaxis3": {
         "anchor": "y3",
         "domain": [
          0,
          0.7363
         ],
         "matches": "x",
         "showticklabels": false
        },
        "xaxis4": {
         "anchor": "y4",
         "domain": [
          0.7413,
          1
         ],
         "matches": "x2",
         "showline": false,
         "showticklabels": false,
         "ticks": ""
        },
        "yaxis": {
         "anchor": "x",
         "domain": [
          0,
          0.7326
         ],
         "title": {
          "text": "Height"
         }
        },
        "yaxis2": {
         "anchor": "x2",
         "domain": [
          0,
          0.7326
         ],
         "matches": "y",
         "showticklabels": false
        },
        "yaxis3": {
         "anchor": "x3",
         "domain": [
          0.7426,
          1
         ],
         "matches": "y3",
         "showline": false,
         "showticklabels": false,
         "ticks": ""
        },
        "yaxis4": {
         "anchor": "x4",
         "domain": [
          0.7426,
          1
         ],
         "matches": "y3",
         "showline": false,
         "showticklabels": false,
         "ticks": ""
        }
       }
      },
      "text/html": [
       "<div>                            <div id=\"2762a553-115c-4c39-890f-a407a2409e03\" class=\"plotly-graph-div\" style=\"height:525px; width:100%;\"></div>            <script type=\"text/javascript\">                require([\"plotly\"], function(Plotly) {                    window.PLOTLYENV=window.PLOTLYENV || {};                                    if (document.getElementById(\"2762a553-115c-4c39-890f-a407a2409e03\")) {                    Plotly.newPlot(                        \"2762a553-115c-4c39-890f-a407a2409e03\",                        [{\"hovertemplate\":\"Qualification=Masters<br>Weight=%{x}<br>Height=%{y}<extra></extra>\",\"legendgroup\":\"Masters\",\"marker\":{\"color\":\"#1F77B4\",\"symbol\":\"circle\"},\"mode\":\"markers\",\"name\":\"Masters\",\"orientation\":\"v\",\"showlegend\":true,\"x\":[77.0,93.0,60.0,59.9,99.0,58.0,50.0,64.21,68.5,75.8,72.5,60.0,67.0,68.3,96.0,75.0,84.0,47.0,72.5,50.0,62.5,88.6,60.0,100.5,93.9,78.9,60.0,70.0,65.0,85.6,100.0,75.4,98.0,75.5,78.5,70.2,63.4,68.0,63.5,88.0,98.0,55.5,68.3,88.4,82.5,83.5,90.0,77.5,42.6,70.0,55.0,93.5,106.05,97.0,79.5,80.0,75.6,82.5,70.5,56.0,75.5,61.5,54.3,56.9,69.0,56.5,50.2,54.0,68.0,46.0,82.27,57.0,101.5,94.5,86.5,63.5,75.0,67.0,71.5,74.0,55.0,70.0,48.2,105.0,69.5,85.0,56.5,70.5,78.5,82.4,55.0,45.0,70.2,78.8,58.1,80.0,65.0,70.0,65.5,75.45,68.5,60.0,70.0,63.0,65.0,85.0,84.0,46.5,110.0,88.0,68.0,65.0,61.0,70.0,84.0,40.0,76.6,80.0,78.5,58.0,90.0,90.0,54.5,72.5,65.0,78.5,51.0,58.0,87.0,74.0,82.0,46.9,50.2,70.0,45.0,48.0,72.0,61.0,55.0,58.0,88.8,45.5,69.1,58.0,66.5,92.0,90.0,65.6,58.0,79.75,92.0,75.0,75.0,76.0,80.2,60.5,78.0,90.0,70.0,84.0,63.0,55.0,75.0,85.0,48.0,75.55,70.5,86.0,54.5],\"xaxis\":\"x\",\"y\":[179.0,173.0,157.0,164.544,178.0,180.34,163.0,158.496,180.0,174.0,170.18,160.0,155.0,175.25,172.0,165.0,183.0,163.0,173.0,170.18,179.832,155.0,177.8,180.5,177.8,170.0,156.0,170.0,175.0,165.0,169.0,172.3,157.48,170.5,176.0,175.2,5.5,176.8,182.0,177.8,177.8,176.7,175.1,180.34,160.02,175.5,179.0,171.5,40.3,161.5,154.0,168.5,177.78,164.592,5.9,180.0,155.4,182.5,1.76,5.4,182.28,45.5,44.5,165.0,0.0,170.688,173.7,5.6,167.64,162.56,177.0,160.0,179.0,6.1,185.92,175.5,170.0,171.0,167.1,173.0,168.0,178.0,167.6,186.0,183.5,173.736,175.26,5.9,155.7528,164.3,161.544,58.0,13.7,170.5,167.64,167.64,167.0,161.0,172.72,173.0,164.5,170.688,5.9,175.0,168.0,173.736,173.0,170.18,72.0,174.0,175.0,182.88,5.2,167.0,208.28,158.0,13.97,173.0,170.688,172.0,1.74,158.0,164.5,173.73,165.1,163.5,155.0,170.0,183.1,178.0,155.65,158.496,173.7,14.478,170.68,1.72,161.2,168.0,177.8,167.64,162.56,170.18,70.1,162.56,164.5,175.0,14.734,164.4,170.0,182.0,171.0,165.0,170.688,1.74,158.496,172.0,174.0,180.0,175.26,5.1,184.0,177.8,178.0,178.0,160.0,167.65,178.5,180.0,161.544],\"yaxis\":\"y\",\"type\":\"scatter\"},{\"alignmentgroup\":\"True\",\"hovertemplate\":\"Qualification=Masters<br>Weight=%{x}<extra></extra>\",\"legendgroup\":\"Masters\",\"marker\":{\"color\":\"#1F77B4\",\"symbol\":\"circle\"},\"name\":\"Masters\",\"notched\":true,\"offsetgroup\":\"Masters\",\"showlegend\":false,\"x\":[77.0,93.0,60.0,59.9,99.0,58.0,50.0,64.21,68.5,75.8,72.5,60.0,67.0,68.3,96.0,75.0,84.0,47.0,72.5,50.0,62.5,88.6,60.0,100.5,93.9,78.9,60.0,70.0,65.0,85.6,100.0,75.4,98.0,75.5,78.5,70.2,63.4,68.0,63.5,88.0,98.0,55.5,68.3,88.4,82.5,83.5,90.0,77.5,42.6,70.0,55.0,93.5,106.05,97.0,79.5,80.0,75.6,82.5,70.5,56.0,75.5,61.5,54.3,56.9,69.0,56.5,50.2,54.0,68.0,46.0,82.27,57.0,101.5,94.5,86.5,63.5,75.0,67.0,71.5,74.0,55.0,70.0,48.2,105.0,69.5,85.0,56.5,70.5,78.5,82.4,55.0,45.0,70.2,78.8,58.1,80.0,65.0,70.0,65.5,75.45,68.5,60.0,70.0,63.0,65.0,85.0,84.0,46.5,110.0,88.0,68.0,65.0,61.0,70.0,84.0,40.0,76.6,80.0,78.5,58.0,90.0,90.0,54.5,72.5,65.0,78.5,51.0,58.0,87.0,74.0,82.0,46.9,50.2,70.0,45.0,48.0,72.0,61.0,55.0,58.0,88.8,45.5,69.1,58.0,66.5,92.0,90.0,65.6,58.0,79.75,92.0,75.0,75.0,76.0,80.2,60.5,78.0,90.0,70.0,84.0,63.0,55.0,75.0,85.0,48.0,75.55,70.5,86.0,54.5],\"xaxis\":\"x3\",\"yaxis\":\"y3\",\"type\":\"box\"},{\"alignmentgroup\":\"True\",\"hovertemplate\":\"Qualification=Masters<br>Height=%{y}<extra></extra>\",\"legendgroup\":\"Masters\",\"marker\":{\"color\":\"#1F77B4\",\"symbol\":\"circle\"},\"name\":\"Masters\",\"offsetgroup\":\"Masters\",\"scalegroup\":\"y\",\"showlegend\":false,\"xaxis\":\"x2\",\"y\":[179.0,173.0,157.0,164.544,178.0,180.34,163.0,158.496,180.0,174.0,170.18,160.0,155.0,175.25,172.0,165.0,183.0,163.0,173.0,170.18,179.832,155.0,177.8,180.5,177.8,170.0,156.0,170.0,175.0,165.0,169.0,172.3,157.48,170.5,176.0,175.2,5.5,176.8,182.0,177.8,177.8,176.7,175.1,180.34,160.02,175.5,179.0,171.5,40.3,161.5,154.0,168.5,177.78,164.592,5.9,180.0,155.4,182.5,1.76,5.4,182.28,45.5,44.5,165.0,0.0,170.688,173.7,5.6,167.64,162.56,177.0,160.0,179.0,6.1,185.92,175.5,170.0,171.0,167.1,173.0,168.0,178.0,167.6,186.0,183.5,173.736,175.26,5.9,155.7528,164.3,161.544,58.0,13.7,170.5,167.64,167.64,167.0,161.0,172.72,173.0,164.5,170.688,5.9,175.0,168.0,173.736,173.0,170.18,72.0,174.0,175.0,182.88,5.2,167.0,208.28,158.0,13.97,173.0,170.688,172.0,1.74,158.0,164.5,173.73,165.1,163.5,155.0,170.0,183.1,178.0,155.65,158.496,173.7,14.478,170.68,1.72,161.2,168.0,177.8,167.64,162.56,170.18,70.1,162.56,164.5,175.0,14.734,164.4,170.0,182.0,171.0,165.0,170.688,1.74,158.496,172.0,174.0,180.0,175.26,5.1,184.0,177.8,178.0,178.0,160.0,167.65,178.5,180.0,161.544],\"yaxis\":\"y2\",\"type\":\"violin\"},{\"hovertemplate\":\"<b>OLS trendline</b><br>Height_in_cm = 0.296728 * Weight_in_kg + 128.02<br>R<sup>2</sup>=0.006553<br><br>Qualification=Masters<br>Weight=%{x}<br>Height=%{y} <b>(trend)</b><extra></extra>\",\"legendgroup\":\"Masters\",\"marker\":{\"color\":\"#1F77B4\",\"symbol\":\"circle\"},\"mode\":\"lines\",\"name\":\"Masters\",\"showlegend\":false,\"x\":[40.0,42.6,45.0,45.0,45.5,46.0,46.5,46.9,47.0,48.0,48.0,48.2,50.0,50.0,50.2,50.2,51.0,54.0,54.3,54.5,54.5,55.0,55.0,55.0,55.0,55.0,55.5,56.0,56.5,56.5,56.9,57.0,58.0,58.0,58.0,58.0,58.0,58.0,58.1,59.9,60.0,60.0,60.0,60.0,60.0,60.5,61.0,61.0,61.5,62.5,63.0,63.0,63.4,63.5,63.5,64.21,65.0,65.0,65.0,65.0,65.0,65.5,65.6,66.5,67.0,67.0,68.0,68.0,68.0,68.3,68.3,68.5,68.5,69.0,69.1,69.5,70.0,70.0,70.0,70.0,70.0,70.0,70.0,70.0,70.2,70.2,70.5,70.5,70.5,71.5,72.0,72.5,72.5,72.5,74.0,74.0,75.0,75.0,75.0,75.0,75.0,75.4,75.45,75.5,75.5,75.55,75.6,75.8,76.0,76.6,77.0,77.5,78.0,78.5,78.5,78.5,78.5,78.8,78.9,79.5,79.75,80.0,80.0,80.0,80.2,82.0,82.27,82.4,82.5,82.5,83.5,84.0,84.0,84.0,84.0,85.0,85.0,85.0,85.6,86.0,86.5,87.0,88.0,88.0,88.4,88.6,88.8,90.0,90.0,90.0,90.0,90.0,92.0,92.0,93.0,93.5,93.9,94.5,96.0,97.0,98.0,98.0,99.0,100.0,100.5,101.5,105.0,106.05,110.0],\"xaxis\":\"x\",\"y\":[139.8896001169349,140.66109407683828,141.37324234751833,141.37324234751833,141.52160657057667,141.669970793635,141.81833501669334,141.93702639514004,141.9666992397517,142.26342768586838,142.26342768586838,142.3227733750917,142.85688457810176,142.85688457810176,142.9162302673251,142.9162302673251,143.15361302421843,144.0437983625685,144.1328168964035,144.19216258562685,144.19216258562685,144.34052680868518,144.34052680868518,144.34052680868518,144.34052680868518,144.34052680868518,144.48889103174352,144.63725525480186,144.78561947786022,144.78561947786022,144.9043108563069,144.93398370091856,145.23071214703523,145.23071214703523,145.23071214703523,145.23071214703523,145.23071214703523,145.23071214703523,145.2603849916469,145.79449619465694,145.8241690392686,145.8241690392686,145.8241690392686,145.8241690392686,145.8241690392686,145.97253326232698,146.1208974853853,146.1208974853853,146.26926170844365,146.56599015456032,146.7143543776187,146.7143543776187,146.83304575606536,146.86271860067703,146.86271860067703,147.07339579741986,147.30781126985204,147.30781126985204,147.30781126985204,147.30781126985204,147.30781126985204,147.4561754929104,147.48584833752207,147.75290393902708,147.90126816208542,147.90126816208542,148.19799660820212,148.19799660820212,148.19799660820212,148.28701514203712,148.28701514203712,148.34636083126045,148.34636083126045,148.4947250543188,148.52439789893046,148.64308927737713,148.7914535004355,148.7914535004355,148.7914535004355,148.7914535004355,148.7914535004355,148.7914535004355,148.7914535004355,148.7914535004355,148.85079918965883,148.85079918965883,148.93981772349383,148.93981772349383,148.93981772349383,149.2365461696105,149.38491039266887,149.5332746157272,149.5332746157272,149.5332746157272,149.97836728490222,149.97836728490222,150.27509573101892,150.27509573101892,150.27509573101892,150.27509573101892,150.27509573101892,150.3937871094656,150.4086235317714,150.42345995407726,150.42345995407726,150.4382963763831,150.45313279868893,150.51247848791226,150.5718241771356,150.74986124480563,150.8685526232523,151.01691684631064,151.16528106936897,151.3136452924273,151.3136452924273,151.3136452924273,151.3136452924273,151.4026638262623,151.432336670874,151.610373738544,151.68455585007317,151.75873796160235,151.75873796160235,151.75873796160235,151.81808365082568,152.35219485383573,152.43231153428724,152.4708862322824,152.50055907689406,152.50055907689406,152.79728752301077,152.9456517460691,152.9456517460691,152.9456517460691,152.9456517460691,153.24238019218578,153.24238019218578,153.24238019218578,153.42041725985578,153.53910863830248,153.68747286136082,153.83583708441915,154.13256553053583,154.13256553053583,154.25125690898253,154.31060259820586,154.3699482874292,154.7260224227692,154.7260224227692,154.7260224227692,154.7260224227692,154.7260224227692,155.31947931500258,155.31947931500258,155.61620776111928,155.76457198417762,155.8832633626243,156.0613004302943,156.50639309946934,156.803121545586,157.0998499917027,157.0998499917027,157.3965784378194,157.6933068839361,157.84167110699443,158.1383995531111,159.17694911451952,159.48851398294204,160.66059134510294],\"yaxis\":\"y\",\"type\":\"scatter\"},{\"hovertemplate\":\"Qualification=Bachelors<br>Weight=%{x}<br>Height=%{y}<extra></extra>\",\"legendgroup\":\"Bachelors\",\"marker\":{\"color\":\"#FF7F0E\",\"symbol\":\"circle\"},\"mode\":\"markers\",\"name\":\"Bachelors\",\"orientation\":\"v\",\"showlegend\":true,\"x\":[53.6,100.0,76.8,84.0,88.2,72.0,130.0,69.0,83.5,69.5,72.0,55.5,78.0,93.5,64.0,87.5,50.0,71.2,105.5,89.0,71.0,88.2,57.5,62.0,69.0,43.0,75.0,50.0,39.5,72.0,79.0,84.0,90.0,67.9,76.0,76.0,48.0,67.4,54.0,60.5,74.0,86.0,41.2,61.0,70.0,52.27,60.0,65.0,68.0,70.5,62.0,43.0,60.5,60.0,72.0,70.0,78.0,65.8,68.0,60.0,47.5,90.2,90.0,52.0,55.0,74.0,68.0,50.0,53.0,59.5,58.5,75.0,65.0,161.0,70.0,72.5,65.0,135.0,100.0,68.0,65.0,60.2,57.0,65.7,74.0,80.0,70.85,56.61,63.5,50.0,85.0,66.0,56.0,53.0,42.0,52.1,59.5,58.0,46.0,114.0,64.0,86.0,65.0,55.0,54.5,46.0,31.75,67.0,65.0,86.34,70.0,64.0,52.1,67.5,60.5,55.5,72.0,54.0,66.0,68.7,68.5,78.0,50.0,50.0,67.0,85.0,66.5,70.0,82.0,60.0,70.0,83.4,60.0],\"xaxis\":\"x\",\"y\":[178.0,187.0,1.75,183.0,185.0,164.0,172.72,174.0,172.72,163.2,177.0,164.0,179.0,177.5,160.0,182.0,5.0,172.0,5.7,157.0,160.0,178.0,162.8,184.3,164.5,152.4,166.5,180.34,155.8,170.0,5.11,174.0,1.4,17.0,176.0,60.6,152.4,172.0,165.0,179.832,182.88,174.0,12.446,169.0,64.0,171.5,32.0,170.18,161.544,170.18,173.736,154.6,167.64,174.0,170.688,180.0,173.736,178.0,5.6,176.0,150.2,164.592,188.0,162.5,170.18,173.736,167.64,48.0,165.0,14.224,154.5,188.0,66.5,173.0,5.0,5.9,170.0,185.9,155.75,173.7,163.5,170.688,5.6,16.51,177.5,180.0,160.52,176.7,167.64,152.4,14.732,155.448,160.0,65.0,5.6,172.72,179.832,58.0,160.02,180.0,170.18,88.0,160.4,170.18,164.92,1.6,161.9,167.0,170.688,179.83,155.0,168.0,172.72,185.9,182.88,13.462,170.0,139.5,177.8,178.3,182.8,173.0,5.2,174.0,156.0,14.732,177.8,14.478,5.0,175.0,178.0,172.7,1.68],\"yaxis\":\"y\",\"type\":\"scatter\"},{\"alignmentgroup\":\"True\",\"hovertemplate\":\"Qualification=Bachelors<br>Weight=%{x}<extra></extra>\",\"legendgroup\":\"Bachelors\",\"marker\":{\"color\":\"#FF7F0E\",\"symbol\":\"circle\"},\"name\":\"Bachelors\",\"notched\":true,\"offsetgroup\":\"Bachelors\",\"showlegend\":false,\"x\":[53.6,100.0,76.8,84.0,88.2,72.0,130.0,69.0,83.5,69.5,72.0,55.5,78.0,93.5,64.0,87.5,50.0,71.2,105.5,89.0,71.0,88.2,57.5,62.0,69.0,43.0,75.0,50.0,39.5,72.0,79.0,84.0,90.0,67.9,76.0,76.0,48.0,67.4,54.0,60.5,74.0,86.0,41.2,61.0,70.0,52.27,60.0,65.0,68.0,70.5,62.0,43.0,60.5,60.0,72.0,70.0,78.0,65.8,68.0,60.0,47.5,90.2,90.0,52.0,55.0,74.0,68.0,50.0,53.0,59.5,58.5,75.0,65.0,161.0,70.0,72.5,65.0,135.0,100.0,68.0,65.0,60.2,57.0,65.7,74.0,80.0,70.85,56.61,63.5,50.0,85.0,66.0,56.0,53.0,42.0,52.1,59.5,58.0,46.0,114.0,64.0,86.0,65.0,55.0,54.5,46.0,31.75,67.0,65.0,86.34,70.0,64.0,52.1,67.5,60.5,55.5,72.0,54.0,66.0,68.7,68.5,78.0,50.0,50.0,67.0,85.0,66.5,70.0,82.0,60.0,70.0,83.4,60.0],\"xaxis\":\"x3\",\"yaxis\":\"y3\",\"type\":\"box\"},{\"alignmentgroup\":\"True\",\"hovertemplate\":\"Qualification=Bachelors<br>Height=%{y}<extra></extra>\",\"legendgroup\":\"Bachelors\",\"marker\":{\"color\":\"#FF7F0E\",\"symbol\":\"circle\"},\"name\":\"Bachelors\",\"offsetgroup\":\"Bachelors\",\"scalegroup\":\"y\",\"showlegend\":false,\"xaxis\":\"x2\",\"y\":[178.0,187.0,1.75,183.0,185.0,164.0,172.72,174.0,172.72,163.2,177.0,164.0,179.0,177.5,160.0,182.0,5.0,172.0,5.7,157.0,160.0,178.0,162.8,184.3,164.5,152.4,166.5,180.34,155.8,170.0,5.11,174.0,1.4,17.0,176.0,60.6,152.4,172.0,165.0,179.832,182.88,174.0,12.446,169.0,64.0,171.5,32.0,170.18,161.544,170.18,173.736,154.6,167.64,174.0,170.688,180.0,173.736,178.0,5.6,176.0,150.2,164.592,188.0,162.5,170.18,173.736,167.64,48.0,165.0,14.224,154.5,188.0,66.5,173.0,5.0,5.9,170.0,185.9,155.75,173.7,163.5,170.688,5.6,16.51,177.5,180.0,160.52,176.7,167.64,152.4,14.732,155.448,160.0,65.0,5.6,172.72,179.832,58.0,160.02,180.0,170.18,88.0,160.4,170.18,164.92,1.6,161.9,167.0,170.688,179.83,155.0,168.0,172.72,185.9,182.88,13.462,170.0,139.5,177.8,178.3,182.8,173.0,5.2,174.0,156.0,14.732,177.8,14.478,5.0,175.0,178.0,172.7,1.68],\"yaxis\":\"y2\",\"type\":\"violin\"},{\"hovertemplate\":\"<b>OLS trendline</b><br>Height_in_cm = 0.387274 * Weight_in_kg + 110.345<br>R<sup>2</sup>=0.011997<br><br>Qualification=Bachelors<br>Weight=%{x}<br>Height=%{y} <b>(trend)</b><extra></extra>\",\"legendgroup\":\"Bachelors\",\"marker\":{\"color\":\"#FF7F0E\",\"symbol\":\"circle\"},\"mode\":\"lines\",\"name\":\"Bachelors\",\"showlegend\":false,\"x\":[31.75,39.5,41.2,42.0,43.0,43.0,46.0,46.0,47.5,48.0,50.0,50.0,50.0,50.0,50.0,50.0,52.0,52.1,52.1,52.27,53.0,53.0,53.6,54.0,54.0,54.5,55.0,55.0,55.5,55.5,56.0,56.61,57.0,57.5,58.0,58.5,59.5,59.5,60.0,60.0,60.0,60.0,60.0,60.2,60.5,60.5,60.5,61.0,62.0,62.0,63.5,64.0,64.0,64.0,65.0,65.0,65.0,65.0,65.0,65.0,65.7,65.8,66.0,66.0,66.5,67.0,67.0,67.4,67.5,67.9,68.0,68.0,68.0,68.0,68.5,68.7,69.0,69.0,69.5,70.0,70.0,70.0,70.0,70.0,70.0,70.5,70.85,71.0,71.2,72.0,72.0,72.0,72.0,72.0,72.5,74.0,74.0,74.0,75.0,75.0,76.0,76.0,76.8,78.0,78.0,78.0,79.0,80.0,82.0,83.4,83.5,84.0,84.0,85.0,85.0,86.0,86.0,86.34,87.5,88.2,88.2,89.0,90.0,90.0,90.2,93.5,100.0,100.0,105.5,114.0,130.0,135.0,161.0],\"xaxis\":\"x\",\"y\":[122.64127318132067,125.64264702037141,126.30101289474385,126.61083212974263,126.99810617349111,126.99810617349111,128.15992830473655,128.15992830473655,128.74083937035928,128.93447639223353,129.7090244797305,129.7090244797305,129.7090244797305,129.7090244797305,129.7090244797305,129.7090244797305,130.48357256722747,130.5222999716023,130.5222999716023,130.58813655903955,130.87084661097595,130.87084661097595,131.10321103722504,131.25812065472442,131.25812065472442,131.45175767659867,131.6453946984729,131.6453946984729,131.83903172034715,131.83903172034715,132.0326687422214,132.26890590890798,132.41994278596988,132.61357980784413,132.80721682971836,133.0008538515926,133.38812789534109,133.38812789534109,133.58176491721534,133.58176491721534,133.58176491721534,133.58176491721534,133.58176491721534,133.65921972596504,133.77540193908956,133.77540193908956,133.77540193908956,133.96903896096381,134.3563130047123,134.3563130047123,134.93722407033502,135.13086109220927,135.13086109220927,135.13086109220927,135.51813513595775,135.51813513595775,135.51813513595775,135.51813513595775,135.51813513595775,135.51813513595775,135.78922696658168,135.82795437095655,135.90540917970623,135.90540917970623,136.09904620158048,136.29268322345473,136.29268322345473,136.44759284095412,136.48632024532895,136.64122986282837,136.6799572672032,136.6799572672032,136.6799572672032,136.6799572672032,136.87359428907743,136.95104909782714,137.06723131095168,137.06723131095168,137.26086833282594,137.45450535470016,137.45450535470016,137.45450535470016,137.45450535470016,137.45450535470016,137.45450535470016,137.6481423765744,137.78368829188636,137.84177939844864,137.91923420719834,138.22905344219714,138.22905344219714,138.22905344219714,138.22905344219714,138.22905344219714,138.42269046407137,139.0036015296941,139.0036015296941,139.0036015296941,139.3908755734426,139.3908755734426,139.77814961719108,139.77814961719108,140.08796885218985,140.55269770468803,140.55269770468803,140.55269770468803,140.9399717484365,141.327245792185,142.10179387968196,142.64397754092985,142.6827049453047,142.87634196717894,142.87634196717894,143.26361601092742,143.26361601092742,143.6508900546759,143.6508900546759,143.7825632295504,144.23180112029863,144.50289295092256,144.50289295092256,144.81271218592136,145.19998622966983,145.19998622966983,145.27744103841954,146.55544538278951,149.07272666715465,149.07272666715465,151.20273390777135,154.49456327963344,160.69094797960918,162.6273181983516,172.69644333581215],\"yaxis\":\"y\",\"type\":\"scatter\"},{\"hovertemplate\":\"Qualification=PhD<br>Weight=%{x}<br>Height=%{y}<extra></extra>\",\"legendgroup\":\"PhD\",\"marker\":{\"color\":\"#2CA02C\",\"symbol\":\"circle\"},\"mode\":\"markers\",\"name\":\"PhD\",\"orientation\":\"v\",\"showlegend\":true,\"x\":[78.0,74.5,70.2,65.5,60.0,97.5,85.0,80.0,82.0,80.0,104.5,77.0,89.5,65.21,72.0,65.5,72.0,82.5,68.5,79.0,85.0,68.0,54.0,65.0,65.0,80.0,65.0,85.5],\"xaxis\":\"x\",\"y\":[165.0,174.0,168.0,174.5,164.59,177.0,178.0,176.0,175.0,5.7,1.73,167.64,155.44,1.74,162.0,167.64,168.7,179.832,173.0,183.0,170.6,170.0,161.5,172.0,160.0,5.8,175.0,168.0],\"yaxis\":\"y\",\"type\":\"scatter\"},{\"alignmentgroup\":\"True\",\"hovertemplate\":\"Qualification=PhD<br>Weight=%{x}<extra></extra>\",\"legendgroup\":\"PhD\",\"marker\":{\"color\":\"#2CA02C\",\"symbol\":\"circle\"},\"name\":\"PhD\",\"notched\":true,\"offsetgroup\":\"PhD\",\"showlegend\":false,\"x\":[78.0,74.5,70.2,65.5,60.0,97.5,85.0,80.0,82.0,80.0,104.5,77.0,89.5,65.21,72.0,65.5,72.0,82.5,68.5,79.0,85.0,68.0,54.0,65.0,65.0,80.0,65.0,85.5],\"xaxis\":\"x3\",\"yaxis\":\"y3\",\"type\":\"box\"},{\"alignmentgroup\":\"True\",\"hovertemplate\":\"Qualification=PhD<br>Height=%{y}<extra></extra>\",\"legendgroup\":\"PhD\",\"marker\":{\"color\":\"#2CA02C\",\"symbol\":\"circle\"},\"name\":\"PhD\",\"offsetgroup\":\"PhD\",\"scalegroup\":\"y\",\"showlegend\":false,\"xaxis\":\"x2\",\"y\":[165.0,174.0,168.0,174.5,164.59,177.0,178.0,176.0,175.0,5.7,1.73,167.64,155.44,1.74,162.0,167.64,168.7,179.832,173.0,183.0,170.6,170.0,161.5,172.0,160.0,5.8,175.0,168.0],\"yaxis\":\"y2\",\"type\":\"violin\"},{\"hovertemplate\":\"<b>OLS trendline</b><br>Height_in_cm = -1.18581 * Weight_in_kg + 236.089<br>R<sup>2</sup>=0.050789<br><br>Qualification=PhD<br>Weight=%{x}<br>Height=%{y} <b>(trend)</b><extra></extra>\",\"legendgroup\":\"PhD\",\"marker\":{\"color\":\"#2CA02C\",\"symbol\":\"circle\"},\"mode\":\"lines\",\"name\":\"PhD\",\"showlegend\":false,\"x\":[54.0,60.0,65.0,65.0,65.0,65.21,65.5,65.5,68.0,68.5,70.2,72.0,72.0,74.5,77.0,78.0,79.0,80.0,80.0,80.0,82.0,82.5,85.0,85.0,85.5,89.5,97.5,104.5],\"xaxis\":\"x\",\"y\":[172.05490933873875,164.9400200855253,159.01094570784744,159.01094570784744,159.01094570784744,158.76192458398498,158.41803827007965,158.41803827007965,155.45350108124074,154.86059364347295,152.84470835506247,150.71024157909844,150.71024157909844,147.7457043902595,144.78116720142054,143.595352325885,142.4095374503494,141.22372257481385,141.22372257481385,141.22372257481385,138.85209282374268,138.2591853859749,135.29464819713596,135.29464819713596,134.7017407593682,129.95848125722588,120.47196225294128,112.17125812419226],\"yaxis\":\"y\",\"type\":\"scatter\"},{\"hovertemplate\":\"Qualification=Pre-Bachelors<br>Weight=%{x}<br>Height=%{y}<extra></extra>\",\"legendgroup\":\"Pre-Bachelors\",\"marker\":{\"color\":\"#D62728\",\"symbol\":\"circle\"},\"mode\":\"markers\",\"name\":\"Pre-Bachelors\",\"orientation\":\"v\",\"showlegend\":true,\"x\":[63.0,55.0,52.5,75.0,52.0,63.5,52.0,50.0,64.0,68.5,57.4,71.5,48.0,75.0,59.0,55.2,50.0,68.5,75.5,63.5,68.2,67.12,85.0,50.0,75.0,68.0,52.0,60.0,55.0,53.0,48.0,30.5,48.0,48.0,60.0,92.4,72.0,45.0,49.0,64.0,64.0,60.0,60.0,70.5,64.0],\"xaxis\":\"x\",\"y\":[178.2,182.88,164.344,169.0,174.0,173.0,170.688,1.73,166.0,164.592,173.736,170.688,155.0,5.6,163.5,167.64,164.0,173.5,2.1,5.7,173.4,164.592,162.56,170.0,168.0,182.0,160.0,5.8,5.7,176.0,166.16,150.05,152.0,170.18,117.8,164.592,175.0,137.16,1.2,160.0,178.0,5.8,158.0,167.6,166.0],\"yaxis\":\"y\",\"type\":\"scatter\"},{\"alignmentgroup\":\"True\",\"hovertemplate\":\"Qualification=Pre-Bachelors<br>Weight=%{x}<extra></extra>\",\"legendgroup\":\"Pre-Bachelors\",\"marker\":{\"color\":\"#D62728\",\"symbol\":\"circle\"},\"name\":\"Pre-Bachelors\",\"notched\":true,\"offsetgroup\":\"Pre-Bachelors\",\"showlegend\":false,\"x\":[63.0,55.0,52.5,75.0,52.0,63.5,52.0,50.0,64.0,68.5,57.4,71.5,48.0,75.0,59.0,55.2,50.0,68.5,75.5,63.5,68.2,67.12,85.0,50.0,75.0,68.0,52.0,60.0,55.0,53.0,48.0,30.5,48.0,48.0,60.0,92.4,72.0,45.0,49.0,64.0,64.0,60.0,60.0,70.5,64.0],\"xaxis\":\"x3\",\"yaxis\":\"y3\",\"type\":\"box\"},{\"alignmentgroup\":\"True\",\"hovertemplate\":\"Qualification=Pre-Bachelors<br>Height=%{y}<extra></extra>\",\"legendgroup\":\"Pre-Bachelors\",\"marker\":{\"color\":\"#D62728\",\"symbol\":\"circle\"},\"name\":\"Pre-Bachelors\",\"offsetgroup\":\"Pre-Bachelors\",\"scalegroup\":\"y\",\"showlegend\":false,\"xaxis\":\"x2\",\"y\":[178.2,182.88,164.344,169.0,174.0,173.0,170.688,1.73,166.0,164.592,173.736,170.688,155.0,5.6,163.5,167.64,164.0,173.5,2.1,5.7,173.4,164.592,162.56,170.0,168.0,182.0,160.0,5.8,5.7,176.0,166.16,150.05,152.0,170.18,117.8,164.592,175.0,137.16,1.2,160.0,178.0,5.8,158.0,167.6,166.0],\"yaxis\":\"y2\",\"type\":\"violin\"},{\"hovertemplate\":\"<b>OLS trendline</b><br>Height_in_cm = 0.154593 * Weight_in_kg + 127.595<br>R<sup>2</sup>=0.000791<br><br>Qualification=Pre-Bachelors<br>Weight=%{x}<br>Height=%{y} <b>(trend)</b><extra></extra>\",\"legendgroup\":\"Pre-Bachelors\",\"marker\":{\"color\":\"#D62728\",\"symbol\":\"circle\"},\"mode\":\"lines\",\"name\":\"Pre-Bachelors\",\"showlegend\":false,\"x\":[30.5,45.0,48.0,48.0,48.0,48.0,49.0,50.0,50.0,50.0,52.0,52.0,52.0,52.5,53.0,55.0,55.0,55.2,57.4,59.0,60.0,60.0,60.0,60.0,63.0,63.5,63.5,64.0,64.0,64.0,64.0,67.12,68.0,68.2,68.5,68.5,70.5,71.5,72.0,75.0,75.0,75.0,75.5,85.0,92.4],\"xaxis\":\"x\",\"y\":[132.31042067690365,134.55202008392223,135.01579927158124,135.01579927158124,135.01579927158124,135.01579927158124,135.17039233413425,135.32498539668725,135.32498539668725,135.32498539668725,135.63417152179326,135.63417152179326,135.63417152179326,135.71146805306978,135.78876458434627,136.09795070945228,136.09795070945228,136.1288693219629,136.4689740595795,136.7163229596643,136.8709160222173,136.8709160222173,136.8709160222173,136.8709160222173,137.33469520987634,137.41199174115283,137.41199174115283,137.48928827242935,137.48928827242935,137.48928827242935,137.48928827242935,137.97161862759472,138.10766052264137,138.13857913515196,138.18495705391786,138.18495705391786,138.49414317902387,138.64873624157687,138.7260327728534,139.1898119605124,139.1898119605124,139.1898119605124,139.26710849178892,140.73574258604248,141.87973124893472],\"yaxis\":\"y\",\"type\":\"scatter\"}],                        {\"template\":{\"data\":{\"barpolar\":[{\"marker\":{\"line\":{\"color\":\"white\",\"width\":0.5},\"pattern\":{\"fillmode\":\"overlay\",\"size\":10,\"solidity\":0.2}},\"type\":\"barpolar\"}],\"bar\":[{\"error_x\":{\"color\":\"rgb(36,36,36)\"},\"error_y\":{\"color\":\"rgb(36,36,36)\"},\"marker\":{\"line\":{\"color\":\"white\",\"width\":0.5},\"pattern\":{\"fillmode\":\"overlay\",\"size\":10,\"solidity\":0.2}},\"type\":\"bar\"}],\"carpet\":[{\"aaxis\":{\"endlinecolor\":\"rgb(36,36,36)\",\"gridcolor\":\"white\",\"linecolor\":\"white\",\"minorgridcolor\":\"white\",\"startlinecolor\":\"rgb(36,36,36)\"},\"baxis\":{\"endlinecolor\":\"rgb(36,36,36)\",\"gridcolor\":\"white\",\"linecolor\":\"white\",\"minorgridcolor\":\"white\",\"startlinecolor\":\"rgb(36,36,36)\"},\"type\":\"carpet\"}],\"choropleth\":[{\"colorbar\":{\"outlinewidth\":1,\"tickcolor\":\"rgb(36,36,36)\",\"ticks\":\"outside\"},\"type\":\"choropleth\"}],\"contourcarpet\":[{\"colorbar\":{\"outlinewidth\":1,\"tickcolor\":\"rgb(36,36,36)\",\"ticks\":\"outside\"},\"type\":\"contourcarpet\"}],\"contour\":[{\"colorbar\":{\"outlinewidth\":1,\"tickcolor\":\"rgb(36,36,36)\",\"ticks\":\"outside\"},\"colorscale\":[[0.0,\"#440154\"],[0.1111111111111111,\"#482878\"],[0.2222222222222222,\"#3e4989\"],[0.3333333333333333,\"#31688e\"],[0.4444444444444444,\"#26828e\"],[0.5555555555555556,\"#1f9e89\"],[0.6666666666666666,\"#35b779\"],[0.7777777777777778,\"#6ece58\"],[0.8888888888888888,\"#b5de2b\"],[1.0,\"#fde725\"]],\"type\":\"contour\"}],\"heatmapgl\":[{\"colorbar\":{\"outlinewidth\":1,\"tickcolor\":\"rgb(36,36,36)\",\"ticks\":\"outside\"},\"colorscale\":[[0.0,\"#440154\"],[0.1111111111111111,\"#482878\"],[0.2222222222222222,\"#3e4989\"],[0.3333333333333333,\"#31688e\"],[0.4444444444444444,\"#26828e\"],[0.5555555555555556,\"#1f9e89\"],[0.6666666666666666,\"#35b779\"],[0.7777777777777778,\"#6ece58\"],[0.8888888888888888,\"#b5de2b\"],[1.0,\"#fde725\"]],\"type\":\"heatmapgl\"}],\"heatmap\":[{\"colorbar\":{\"outlinewidth\":1,\"tickcolor\":\"rgb(36,36,36)\",\"ticks\":\"outside\"},\"colorscale\":[[0.0,\"#440154\"],[0.1111111111111111,\"#482878\"],[0.2222222222222222,\"#3e4989\"],[0.3333333333333333,\"#31688e\"],[0.4444444444444444,\"#26828e\"],[0.5555555555555556,\"#1f9e89\"],[0.6666666666666666,\"#35b779\"],[0.7777777777777778,\"#6ece58\"],[0.8888888888888888,\"#b5de2b\"],[1.0,\"#fde725\"]],\"type\":\"heatmap\"}],\"histogram2dcontour\":[{\"colorbar\":{\"outlinewidth\":1,\"tickcolor\":\"rgb(36,36,36)\",\"ticks\":\"outside\"},\"colorscale\":[[0.0,\"#440154\"],[0.1111111111111111,\"#482878\"],[0.2222222222222222,\"#3e4989\"],[0.3333333333333333,\"#31688e\"],[0.4444444444444444,\"#26828e\"],[0.5555555555555556,\"#1f9e89\"],[0.6666666666666666,\"#35b779\"],[0.7777777777777778,\"#6ece58\"],[0.8888888888888888,\"#b5de2b\"],[1.0,\"#fde725\"]],\"type\":\"histogram2dcontour\"}],\"histogram2d\":[{\"colorbar\":{\"outlinewidth\":1,\"tickcolor\":\"rgb(36,36,36)\",\"ticks\":\"outside\"},\"colorscale\":[[0.0,\"#440154\"],[0.1111111111111111,\"#482878\"],[0.2222222222222222,\"#3e4989\"],[0.3333333333333333,\"#31688e\"],[0.4444444444444444,\"#26828e\"],[0.5555555555555556,\"#1f9e89\"],[0.6666666666666666,\"#35b779\"],[0.7777777777777778,\"#6ece58\"],[0.8888888888888888,\"#b5de2b\"],[1.0,\"#fde725\"]],\"type\":\"histogram2d\"}],\"histogram\":[{\"marker\":{\"line\":{\"color\":\"white\",\"width\":0.6}},\"type\":\"histogram\"}],\"mesh3d\":[{\"colorbar\":{\"outlinewidth\":1,\"tickcolor\":\"rgb(36,36,36)\",\"ticks\":\"outside\"},\"type\":\"mesh3d\"}],\"parcoords\":[{\"line\":{\"colorbar\":{\"outlinewidth\":1,\"tickcolor\":\"rgb(36,36,36)\",\"ticks\":\"outside\"}},\"type\":\"parcoords\"}],\"pie\":[{\"automargin\":true,\"type\":\"pie\"}],\"scatter3d\":[{\"line\":{\"colorbar\":{\"outlinewidth\":1,\"tickcolor\":\"rgb(36,36,36)\",\"ticks\":\"outside\"}},\"marker\":{\"colorbar\":{\"outlinewidth\":1,\"tickcolor\":\"rgb(36,36,36)\",\"ticks\":\"outside\"}},\"type\":\"scatter3d\"}],\"scattercarpet\":[{\"marker\":{\"colorbar\":{\"outlinewidth\":1,\"tickcolor\":\"rgb(36,36,36)\",\"ticks\":\"outside\"}},\"type\":\"scattercarpet\"}],\"scattergeo\":[{\"marker\":{\"colorbar\":{\"outlinewidth\":1,\"tickcolor\":\"rgb(36,36,36)\",\"ticks\":\"outside\"}},\"type\":\"scattergeo\"}],\"scattergl\":[{\"marker\":{\"colorbar\":{\"outlinewidth\":1,\"tickcolor\":\"rgb(36,36,36)\",\"ticks\":\"outside\"}},\"type\":\"scattergl\"}],\"scattermapbox\":[{\"marker\":{\"colorbar\":{\"outlinewidth\":1,\"tickcolor\":\"rgb(36,36,36)\",\"ticks\":\"outside\"}},\"type\":\"scattermapbox\"}],\"scatterpolargl\":[{\"marker\":{\"colorbar\":{\"outlinewidth\":1,\"tickcolor\":\"rgb(36,36,36)\",\"ticks\":\"outside\"}},\"type\":\"scatterpolargl\"}],\"scatterpolar\":[{\"marker\":{\"colorbar\":{\"outlinewidth\":1,\"tickcolor\":\"rgb(36,36,36)\",\"ticks\":\"outside\"}},\"type\":\"scatterpolar\"}],\"scatter\":[{\"marker\":{\"colorbar\":{\"outlinewidth\":1,\"tickcolor\":\"rgb(36,36,36)\",\"ticks\":\"outside\"}},\"type\":\"scatter\"}],\"scatterternary\":[{\"marker\":{\"colorbar\":{\"outlinewidth\":1,\"tickcolor\":\"rgb(36,36,36)\",\"ticks\":\"outside\"}},\"type\":\"scatterternary\"}],\"surface\":[{\"colorbar\":{\"outlinewidth\":1,\"tickcolor\":\"rgb(36,36,36)\",\"ticks\":\"outside\"},\"colorscale\":[[0.0,\"#440154\"],[0.1111111111111111,\"#482878\"],[0.2222222222222222,\"#3e4989\"],[0.3333333333333333,\"#31688e\"],[0.4444444444444444,\"#26828e\"],[0.5555555555555556,\"#1f9e89\"],[0.6666666666666666,\"#35b779\"],[0.7777777777777778,\"#6ece58\"],[0.8888888888888888,\"#b5de2b\"],[1.0,\"#fde725\"]],\"type\":\"surface\"}],\"table\":[{\"cells\":{\"fill\":{\"color\":\"rgb(237,237,237)\"},\"line\":{\"color\":\"white\"}},\"header\":{\"fill\":{\"color\":\"rgb(217,217,217)\"},\"line\":{\"color\":\"white\"}},\"type\":\"table\"}]},\"layout\":{\"annotationdefaults\":{\"arrowhead\":0,\"arrowwidth\":1},\"autotypenumbers\":\"strict\",\"coloraxis\":{\"colorbar\":{\"outlinewidth\":1,\"tickcolor\":\"rgb(36,36,36)\",\"ticks\":\"outside\"}},\"colorscale\":{\"diverging\":[[0.0,\"rgb(103,0,31)\"],[0.1,\"rgb(178,24,43)\"],[0.2,\"rgb(214,96,77)\"],[0.3,\"rgb(244,165,130)\"],[0.4,\"rgb(253,219,199)\"],[0.5,\"rgb(247,247,247)\"],[0.6,\"rgb(209,229,240)\"],[0.7,\"rgb(146,197,222)\"],[0.8,\"rgb(67,147,195)\"],[0.9,\"rgb(33,102,172)\"],[1.0,\"rgb(5,48,97)\"]],\"sequential\":[[0.0,\"#440154\"],[0.1111111111111111,\"#482878\"],[0.2222222222222222,\"#3e4989\"],[0.3333333333333333,\"#31688e\"],[0.4444444444444444,\"#26828e\"],[0.5555555555555556,\"#1f9e89\"],[0.6666666666666666,\"#35b779\"],[0.7777777777777778,\"#6ece58\"],[0.8888888888888888,\"#b5de2b\"],[1.0,\"#fde725\"]],\"sequentialminus\":[[0.0,\"#440154\"],[0.1111111111111111,\"#482878\"],[0.2222222222222222,\"#3e4989\"],[0.3333333333333333,\"#31688e\"],[0.4444444444444444,\"#26828e\"],[0.5555555555555556,\"#1f9e89\"],[0.6666666666666666,\"#35b779\"],[0.7777777777777778,\"#6ece58\"],[0.8888888888888888,\"#b5de2b\"],[1.0,\"#fde725\"]]},\"colorway\":[\"#1F77B4\",\"#FF7F0E\",\"#2CA02C\",\"#D62728\",\"#9467BD\",\"#8C564B\",\"#E377C2\",\"#7F7F7F\",\"#BCBD22\",\"#17BECF\"],\"font\":{\"color\":\"rgb(36,36,36)\"},\"geo\":{\"bgcolor\":\"white\",\"lakecolor\":\"white\",\"landcolor\":\"white\",\"showlakes\":true,\"showland\":true,\"subunitcolor\":\"white\"},\"hoverlabel\":{\"align\":\"left\"},\"hovermode\":\"closest\",\"mapbox\":{\"style\":\"light\"},\"paper_bgcolor\":\"white\",\"plot_bgcolor\":\"white\",\"polar\":{\"angularaxis\":{\"gridcolor\":\"rgb(232,232,232)\",\"linecolor\":\"rgb(36,36,36)\",\"showgrid\":false,\"showline\":true,\"ticks\":\"outside\"},\"bgcolor\":\"white\",\"radialaxis\":{\"gridcolor\":\"rgb(232,232,232)\",\"linecolor\":\"rgb(36,36,36)\",\"showgrid\":false,\"showline\":true,\"ticks\":\"outside\"}},\"scene\":{\"xaxis\":{\"backgroundcolor\":\"white\",\"gridcolor\":\"rgb(232,232,232)\",\"gridwidth\":2,\"linecolor\":\"rgb(36,36,36)\",\"showbackground\":true,\"showgrid\":false,\"showline\":true,\"ticks\":\"outside\",\"zeroline\":false,\"zerolinecolor\":\"rgb(36,36,36)\"},\"yaxis\":{\"backgroundcolor\":\"white\",\"gridcolor\":\"rgb(232,232,232)\",\"gridwidth\":2,\"linecolor\":\"rgb(36,36,36)\",\"showbackground\":true,\"showgrid\":false,\"showline\":true,\"ticks\":\"outside\",\"zeroline\":false,\"zerolinecolor\":\"rgb(36,36,36)\"},\"zaxis\":{\"backgroundcolor\":\"white\",\"gridcolor\":\"rgb(232,232,232)\",\"gridwidth\":2,\"linecolor\":\"rgb(36,36,36)\",\"showbackground\":true,\"showgrid\":false,\"showline\":true,\"ticks\":\"outside\",\"zeroline\":false,\"zerolinecolor\":\"rgb(36,36,36)\"}},\"shapedefaults\":{\"fillcolor\":\"black\",\"line\":{\"width\":0},\"opacity\":0.3},\"ternary\":{\"aaxis\":{\"gridcolor\":\"rgb(232,232,232)\",\"linecolor\":\"rgb(36,36,36)\",\"showgrid\":false,\"showline\":true,\"ticks\":\"outside\"},\"baxis\":{\"gridcolor\":\"rgb(232,232,232)\",\"linecolor\":\"rgb(36,36,36)\",\"showgrid\":false,\"showline\":true,\"ticks\":\"outside\"},\"bgcolor\":\"white\",\"caxis\":{\"gridcolor\":\"rgb(232,232,232)\",\"linecolor\":\"rgb(36,36,36)\",\"showgrid\":false,\"showline\":true,\"ticks\":\"outside\"}},\"title\":{\"x\":0.05},\"xaxis\":{\"automargin\":true,\"gridcolor\":\"rgb(232,232,232)\",\"linecolor\":\"rgb(36,36,36)\",\"showgrid\":false,\"showline\":true,\"ticks\":\"outside\",\"title\":{\"standoff\":15},\"zeroline\":false,\"zerolinecolor\":\"rgb(36,36,36)\"},\"yaxis\":{\"automargin\":true,\"gridcolor\":\"rgb(232,232,232)\",\"linecolor\":\"rgb(36,36,36)\",\"showgrid\":false,\"showline\":true,\"ticks\":\"outside\",\"title\":{\"standoff\":15},\"zeroline\":false,\"zerolinecolor\":\"rgb(36,36,36)\"}}},\"xaxis\":{\"anchor\":\"y\",\"domain\":[0.0,0.7363],\"title\":{\"text\":\"Weight\"}},\"yaxis\":{\"anchor\":\"x\",\"domain\":[0.0,0.7326],\"title\":{\"text\":\"Height\"}},\"xaxis2\":{\"anchor\":\"y2\",\"domain\":[0.7413,1.0],\"matches\":\"x2\",\"showticklabels\":false,\"showline\":false,\"ticks\":\"\"},\"yaxis2\":{\"anchor\":\"x2\",\"domain\":[0.0,0.7326],\"matches\":\"y\",\"showticklabels\":false},\"xaxis3\":{\"anchor\":\"y3\",\"domain\":[0.0,0.7363],\"matches\":\"x\",\"showticklabels\":false},\"yaxis3\":{\"anchor\":\"x3\",\"domain\":[0.7426,1.0],\"matches\":\"y3\",\"showticklabels\":false,\"showline\":false,\"ticks\":\"\"},\"xaxis4\":{\"anchor\":\"y4\",\"domain\":[0.7413,1.0],\"matches\":\"x2\",\"showticklabels\":false,\"showline\":false,\"ticks\":\"\"},\"yaxis4\":{\"anchor\":\"x4\",\"domain\":[0.7426,1.0],\"matches\":\"y3\",\"showticklabels\":false,\"showline\":false,\"ticks\":\"\"},\"legend\":{\"title\":{\"text\":\"Qualification\"},\"tracegroupgap\":0},\"margin\":{\"t\":60}},                        {\"responsive\": true}                    ).then(function(){\n",
       "                            \n",
       "var gd = document.getElementById('2762a553-115c-4c39-890f-a407a2409e03');\n",
       "var x = new MutationObserver(function (mutations, observer) {{\n",
       "        var display = window.getComputedStyle(gd).display;\n",
       "        if (!display || display === 'none') {{\n",
       "            console.log([gd, 'removed!']);\n",
       "            Plotly.purge(gd);\n",
       "            observer.disconnect();\n",
       "        }}\n",
       "}});\n",
       "\n",
       "// Listen for the removal of the full notebook cells\n",
       "var notebookContainer = gd.closest('#notebook-container');\n",
       "if (notebookContainer) {{\n",
       "    x.observe(notebookContainer, {childList: true});\n",
       "}}\n",
       "\n",
       "// Listen for the clearing of the current output cell\n",
       "var outputEl = gd.closest('.output');\n",
       "if (outputEl) {{\n",
       "    x.observe(outputEl, {childList: true});\n",
       "}}\n",
       "\n",
       "                        })                };                });            </script>        </div>"
      ]
     },
     "metadata": {},
     "output_type": "display_data"
    }
   ],
   "source": [
    "import plotly.express as px\n",
    "import pandas as pd \n",
    "data= pd.read_csv(\"new_data.csv\")\n",
    "fig = px.scatter(data, x=\"Weight_in_kg\", y=\"Height_in_cm\", color=\"Qualification\", marginal_y=\"violin\",\n",
    "           marginal_x=\"box\", trendline=\"ols\", template=\"simple_white\", labels={\"Height_in_cm\" : \"Height\", \"Weight_in_kg\": \"Weight\", \"Male\": \"Munda\" })\n",
    "\n",
    "fig.show()"
   ]
  }
 ],
 "metadata": {
  "kernelspec": {
   "display_name": "Python 3 (ipykernel)",
   "language": "python",
   "name": "python3"
  },
  "language_info": {
   "codemirror_mode": {
    "name": "ipython",
    "version": 3
   },
   "file_extension": ".py",
   "mimetype": "text/x-python",
   "name": "python",
   "nbconvert_exporter": "python",
   "pygments_lexer": "ipython3",
   "version": "3.9.7"
  }
 },
 "nbformat": 4,
 "nbformat_minor": 5
}
