{
 "cells": [
  {
   "cell_type": "markdown",
   "metadata": {},
   "source": [
    "# CLUSTERING.\n",
    "- Grouping of individuals based on their common characteristics\n",
    "- also known as segmentation \n",
    "- We dont have labels here , so we will define labels in clusters on basis of available features \n"
   ]
  },
  {
   "cell_type": "markdown",
   "metadata": {},
   "source": [
    "Clusters: A group of object that are similar to other subjects in the clusters adn dis-similar to other data point in other clusters "
   ]
  },
  {
   "cell_type": "markdown",
   "metadata": {},
   "source": [
    "|Clustering | Classification| \n",
    "|:-------:|:--------------:|\n",
    "|Un Supervised|Supervised|\n",
    "|No training data|Labeled data|\n",
    "|Unalbeled data| Labeled data|\n",
    "|Define labels using data then in algorithm|Data>Model>Training>Classification\n"
   ]
  },
  {
   "cell_type": "markdown",
   "metadata": {},
   "source": [
    "# Clustring Algorithms \n",
    "- Partition based Clustring \\\n",
    "  Relatively speed is high \n",
    "  - K means\n",
    "  - k mediod\n",
    "  - Fuzzy c-means\n",
    "- Hirarical clustring (tree wali)\n",
    "  - Agglomarative \n",
    "  - Divisive\n",
    "- Density Based Clustring\\\n",
    "  Arbitrary shaped clusters "
   ]
  }
 ],
 "metadata": {
  "interpreter": {
   "hash": "266c4d81548097d9dd641a4c19dbdb8cb4ce739c1b70c23a83575cb49d14a5df"
  },
  "kernelspec": {
   "display_name": "Python 3.10.1 64-bit",
   "language": "python",
   "name": "python3"
  },
  "language_info": {
   "name": "python",
   "version": "3.10.1"
  },
  "orig_nbformat": 4
 },
 "nbformat": 4,
 "nbformat_minor": 2
}
