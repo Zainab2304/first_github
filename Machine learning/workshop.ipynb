{
 "cells": [
  {
   "cell_type": "markdown",
   "metadata": {},
   "source": [
    "## Workshop"
   ]
  },
  {
   "cell_type": "code",
   "execution_count": 11,
   "metadata": {},
   "outputs": [],
   "source": [
    "import numpy as np\n",
    "import matplotlib.pyplot as plt\n",
    "import pandas as pd\n",
    "from sklearn.model_selection import train_test_split "
   ]
  },
  {
   "cell_type": "code",
   "execution_count": 12,
   "metadata": {},
   "outputs": [
    {
     "data": {
      "text/html": [
       "<div>\n",
       "<style scoped>\n",
       "    .dataframe tbody tr th:only-of-type {\n",
       "        vertical-align: middle;\n",
       "    }\n",
       "\n",
       "    .dataframe tbody tr th {\n",
       "        vertical-align: top;\n",
       "    }\n",
       "\n",
       "    .dataframe thead th {\n",
       "        text-align: right;\n",
       "    }\n",
       "</style>\n",
       "<table border=\"1\" class=\"dataframe\">\n",
       "  <thead>\n",
       "    <tr style=\"text-align: right;\">\n",
       "      <th></th>\n",
       "      <th>age</th>\n",
       "      <th>weight</th>\n",
       "      <th>gender</th>\n",
       "      <th>likeness</th>\n",
       "      <th>height</th>\n",
       "    </tr>\n",
       "  </thead>\n",
       "  <tbody>\n",
       "    <tr>\n",
       "      <th>0</th>\n",
       "      <td>27</td>\n",
       "      <td>76.0</td>\n",
       "      <td>Male</td>\n",
       "      <td>Biryani</td>\n",
       "      <td>170.688</td>\n",
       "    </tr>\n",
       "    <tr>\n",
       "      <th>1</th>\n",
       "      <td>41</td>\n",
       "      <td>70.0</td>\n",
       "      <td>Male</td>\n",
       "      <td>Biryani</td>\n",
       "      <td>165</td>\n",
       "    </tr>\n",
       "    <tr>\n",
       "      <th>2</th>\n",
       "      <td>29</td>\n",
       "      <td>80.0</td>\n",
       "      <td>Male</td>\n",
       "      <td>Biryani</td>\n",
       "      <td>171</td>\n",
       "    </tr>\n",
       "  </tbody>\n",
       "</table>\n",
       "</div>"
      ],
      "text/plain": [
       "   age  weight gender likeness   height\n",
       "0   27    76.0   Male  Biryani  170.688\n",
       "1   41    70.0   Male  Biryani      165\n",
       "2   29    80.0   Male  Biryani      171"
      ]
     },
     "execution_count": 12,
     "metadata": {},
     "output_type": "execute_result"
    }
   ],
   "source": [
    "ml= pd.read_csv('mldata.csv')\n",
    "ml.head(3)"
   ]
  },
  {
   "cell_type": "code",
   "execution_count": 23,
   "metadata": {},
   "outputs": [
    {
     "data": {
      "text/plain": [
       "array([[27],\n",
       "       [41],\n",
       "       [29],\n",
       "       [27],\n",
       "       [29],\n",
       "       [28],\n",
       "       [27],\n",
       "       [34],\n",
       "       [32],\n",
       "       [22],\n",
       "       [29],\n",
       "       [29],\n",
       "       [23],\n",
       "       [28],\n",
       "       [25],\n",
       "       [27],\n",
       "       [33],\n",
       "       [28],\n",
       "       [21],\n",
       "       [25],\n",
       "       [24],\n",
       "       [30],\n",
       "       [30],\n",
       "       [32],\n",
       "       [30],\n",
       "       [25],\n",
       "       [34],\n",
       "       [32],\n",
       "       [24],\n",
       "       [30],\n",
       "       [21],\n",
       "       [31],\n",
       "       [22],\n",
       "       [19],\n",
       "       [30],\n",
       "       [27],\n",
       "       [34],\n",
       "       [24],\n",
       "       [26],\n",
       "       [22],\n",
       "       [35],\n",
       "       [27],\n",
       "       [27],\n",
       "       [27],\n",
       "       [30],\n",
       "       [44],\n",
       "       [23],\n",
       "       [48],\n",
       "       [28],\n",
       "       [24],\n",
       "       [40],\n",
       "       [32],\n",
       "       [29],\n",
       "       [27],\n",
       "       [26],\n",
       "       [30],\n",
       "       [27],\n",
       "       [23],\n",
       "       [28],\n",
       "       [22],\n",
       "       [23],\n",
       "       [26],\n",
       "       [30],\n",
       "       [31],\n",
       "       [30],\n",
       "       [21],\n",
       "       [20],\n",
       "       [26],\n",
       "       [35],\n",
       "       [38],\n",
       "       [27],\n",
       "       [27],\n",
       "       [38],\n",
       "       [25],\n",
       "       [25],\n",
       "       [24],\n",
       "       [24],\n",
       "       [22],\n",
       "       [25],\n",
       "       [32],\n",
       "       [22],\n",
       "       [27],\n",
       "       [22],\n",
       "       [37],\n",
       "       [30],\n",
       "       [27],\n",
       "       [33],\n",
       "       [25],\n",
       "       [38],\n",
       "       [25],\n",
       "       [21],\n",
       "       [31],\n",
       "       [24],\n",
       "       [25],\n",
       "       [18],\n",
       "       [24],\n",
       "       [35],\n",
       "       [44],\n",
       "       [30],\n",
       "       [32],\n",
       "       [25],\n",
       "       [29],\n",
       "       [24],\n",
       "       [29],\n",
       "       [35],\n",
       "       [46],\n",
       "       [32],\n",
       "       [27],\n",
       "       [25],\n",
       "       [29],\n",
       "       [37],\n",
       "       [32],\n",
       "       [20],\n",
       "       [32],\n",
       "       [28],\n",
       "       [27],\n",
       "       [30],\n",
       "       [31],\n",
       "       [27],\n",
       "       [27],\n",
       "       [29],\n",
       "       [20],\n",
       "       [31],\n",
       "       [27],\n",
       "       [68],\n",
       "       [40],\n",
       "       [24],\n",
       "       [25],\n",
       "       [24],\n",
       "       [26],\n",
       "       [30],\n",
       "       [31],\n",
       "       [36],\n",
       "       [30],\n",
       "       [19],\n",
       "       [23],\n",
       "       [25],\n",
       "       [27],\n",
       "       [28],\n",
       "       [39],\n",
       "       [43],\n",
       "       [25],\n",
       "       [28],\n",
       "       [28],\n",
       "       [20],\n",
       "       [23],\n",
       "       [25],\n",
       "       [26],\n",
       "       [31],\n",
       "       [32],\n",
       "       [21],\n",
       "       [31],\n",
       "       [28],\n",
       "       [28],\n",
       "       [27],\n",
       "       [24],\n",
       "       [19],\n",
       "       [34],\n",
       "       [22],\n",
       "       [27],\n",
       "       [31],\n",
       "       [33],\n",
       "       [33],\n",
       "       [21],\n",
       "       [29],\n",
       "       [21],\n",
       "       [26],\n",
       "       [27],\n",
       "       [42],\n",
       "       [25],\n",
       "       [29],\n",
       "       [21],\n",
       "       [44],\n",
       "       [28],\n",
       "       [30],\n",
       "       [40],\n",
       "       [28],\n",
       "       [26],\n",
       "       [30],\n",
       "       [29],\n",
       "       [26],\n",
       "       [50],\n",
       "       [35],\n",
       "       [31],\n",
       "       [24],\n",
       "       [21],\n",
       "       [39],\n",
       "       [30],\n",
       "       [32],\n",
       "       [29],\n",
       "       [27],\n",
       "       [31],\n",
       "       [27],\n",
       "       [25],\n",
       "       [34],\n",
       "       [40],\n",
       "       [34],\n",
       "       [20],\n",
       "       [32],\n",
       "       [34],\n",
       "       [31],\n",
       "       [24],\n",
       "       [28],\n",
       "       [30],\n",
       "       [28],\n",
       "       [20],\n",
       "       [27],\n",
       "       [28],\n",
       "       [24],\n",
       "       [27],\n",
       "       [37],\n",
       "       [28],\n",
       "       [24],\n",
       "       [33],\n",
       "       [29],\n",
       "       [28],\n",
       "       [26],\n",
       "       [23],\n",
       "       [30],\n",
       "       [43],\n",
       "       [26],\n",
       "       [25],\n",
       "       [21],\n",
       "       [26],\n",
       "       [20],\n",
       "       [22],\n",
       "       [22],\n",
       "       [20],\n",
       "       [27],\n",
       "       [27],\n",
       "       [35],\n",
       "       [27],\n",
       "       [38],\n",
       "       [25],\n",
       "       [36],\n",
       "       [20],\n",
       "       [30],\n",
       "       [24],\n",
       "       [22],\n",
       "       [27],\n",
       "       [31],\n",
       "       [26],\n",
       "       [40],\n",
       "       [25],\n",
       "       [33]], dtype=int64)"
      ]
     },
     "execution_count": 23,
     "metadata": {},
     "output_type": "execute_result"
    }
   ],
   "source": [
    "X = ml.iloc[:, :-4].values \n",
    "X"
   ]
  },
  {
   "cell_type": "code",
   "execution_count": 21,
   "metadata": {},
   "outputs": [
    {
     "data": {
      "text/plain": [
       "(245, 1)"
      ]
     },
     "execution_count": 21,
     "metadata": {},
     "output_type": "execute_result"
    }
   ],
   "source": [
    "X.shape"
   ]
  },
  {
   "cell_type": "code",
   "execution_count": 19,
   "metadata": {},
   "outputs": [
    {
     "data": {
      "text/plain": [
       "array([ 76.  ,  70.  ,  80.  , 102.  ,  67.  ,  46.  ,  64.3 ,  98.  ,\n",
       "        87.5 ,  80.  ,  65.  ,  78.  ,  62.  ,  74.  , 102.  ,  78.  ,\n",
       "        93.  ,  68.  ,  71.5 , 135.  ,  82.  ,  70.  ,  60.  ,  84.5 ,\n",
       "        65.  ,  70.  ,  59.  ,  78.  ,  68.  ,  62.  ,  58.  , 102.3 ,\n",
       "        64.  ,  50.  ,  75.  ,  77.  ,  82.72,  93.  ,  55.  ,  50.  ,\n",
       "        75.  ,  64.  ,  85.  ,  65.  ,  84.  ,  85.  ,  53.  ,  90.  ,\n",
       "        79.  ,  68.  ,  85.  ,  79.  ,  50.9 ,  68.5 , 130.  ,  63.  ,\n",
       "        93.  ,  59.  ,  76.  ,  76.  ,  60.  ,  63.  ,  60.  ,  75.  ,\n",
       "        70.  ,  65.  ,  70.  ,  55.  ,  65.  ,  72.6 ,  55.  ,  46.  ,\n",
       "        62.  ,  72.5 ,  55.5 ,  70.  ,  86.  ,  52.  ,  43.  ,  61.5 ,\n",
       "        76.  ,  60.  ,  62.  ,  77.  ,  65.  ,  50.  ,  91.  ,  75.  ,\n",
       "        81.5 ,  88.  ,  60.  ,  86.  ,  87.  ,  70.  ,  55.6 ,  86.  ,\n",
       "        82.  ,  70.  ,  60.  ,  50.  ,  62.  ,  71.  ,  55.  ,  78.  ,\n",
       "        72.  ,  75.  ,  10.92,  57.  ,  90.  ,  65.  ,  68.  ,  74.  ,\n",
       "        52.  ,  51.  ,  76.  ,  82.  ,  75.  ,  86.  ,  80.  ,  51.  ,\n",
       "        78.  ,  54.  ,  85.  ,  58.  ,  68.  ,  97.  ,  66.  ,  47.  ,\n",
       "        65.  ,  60.  ,  90.  ,  40.  ,  62.  ,  65.  ,  55.2 ,  71.  ,\n",
       "        55.  ,  54.  , 161.  , 102.  ,  85.  ,  59.  ,  83.  ,  46.  ,\n",
       "        53.  ,  62.  ,  55.  ,  76.  ,  68.  ,  57.  ,  81.  ,  80.  ,\n",
       "        68.  ,  63.4 ,  67.  ,  50.  ,  50.4 ,  58.  ,  67.  ,  75.  ,\n",
       "        86.  ,  86.  ,  46.7 ,  45.  ,   6.  ,  62.  ,  90.  , 101.  ,\n",
       "       179.  ,  88.  ,  73.  ,  50.  ,  78.  ,  84.  ,  67.  ,  71.  ,\n",
       "        96.  ,  70.  ,  88.  ,  84.  ,  90.  ,  88.  ,  75.  ,  86.  ,\n",
       "        82.  ,  68.  ,  53.  ,  73.8 ,  80.  ,  74.  ,  80.  ,  54.  ,\n",
       "        62.  ,  64.  ,  82.  ,  80.  ,  79.  ,  40.  ,  74.  ,  98.  ,\n",
       "        86.  ,  57.  ,  65.  ,  75.  ,  56.  ,  78.  ,  88.  ,  62.  ,\n",
       "        75.  ,  85.  ,  80.  ,  74.  ,  45.  ,  74.  ,  88.2 ,  77.  ,\n",
       "        60.  ,  68.  ,  78.  ,  85.  ,  62.  ,  70.  ,  60.  ,  74.  ,\n",
       "        48.  ,  53.  ,  64.  ,  26.  ,  59.  ,  96.  ,  64.  ,  68.  ,\n",
       "        72.2 ,  66.  ,  68.  ,  48.  ,  50.  ,  60.  ,  50.  ,  63.  ,\n",
       "        60.  ,  70.  ,  80.  ,  65.  ,  56.  ])"
      ]
     },
     "execution_count": 19,
     "metadata": {},
     "output_type": "execute_result"
    }
   ],
   "source": [
    "y = ml.iloc[: , 1].values \n",
    "y"
   ]
  },
  {
   "cell_type": "code",
   "execution_count": 20,
   "metadata": {},
   "outputs": [
    {
     "data": {
      "text/plain": [
       "(245,)"
      ]
     },
     "execution_count": 20,
     "metadata": {},
     "output_type": "execute_result"
    }
   ],
   "source": [
    "y.shape"
   ]
  },
  {
   "cell_type": "code",
   "execution_count": 38,
   "metadata": {},
   "outputs": [],
   "source": [
    "# Splitting the dataset into the Training set and Test set\n",
    "from sklearn.model_selection import train_test_split \n",
    "X_train, X_test, y_train, y_test = train_test_split(X, y, test_size=1/5, random_state=0)"
   ]
  },
  {
   "cell_type": "code",
   "execution_count": 39,
   "metadata": {},
   "outputs": [
    {
     "data": {
      "text/plain": [
       "(49, 1)"
      ]
     },
     "execution_count": 39,
     "metadata": {},
     "output_type": "execute_result"
    }
   ],
   "source": [
    "X_test.shape"
   ]
  },
  {
   "cell_type": "code",
   "execution_count": 40,
   "metadata": {},
   "outputs": [
    {
     "data": {
      "text/plain": [
       "LinearRegression()"
      ]
     },
     "execution_count": 40,
     "metadata": {},
     "output_type": "execute_result"
    }
   ],
   "source": [
    "# Fitting Simple Linear Regression to the Training set\n",
    "from sklearn.linear_model import LinearRegression\n",
    "regressor = LinearRegression()\n",
    "regressor.fit(X_train, y_train)"
   ]
  },
  {
   "cell_type": "code",
   "execution_count": 42,
   "metadata": {},
   "outputs": [
    {
     "data": {
      "image/png": "[encoded data removed]",
      "text/plain": [
       "<Figure size 432x288 with 1 Axes>"
      ]
     },
     "metadata": {
      "needs_background": "light"
     },
     "output_type": "display_data"
    },
    {
     "data": {
      "image/png": "[encoded data removed]",
      "text/plain": [
       "<Figure size 432x288 with 1 Axes>"
      ]
     },
     "metadata": {
      "needs_background": "light"
     },
     "output_type": "display_data"
    }
   ],
   "source": [
    "# Visualizing the Training set results\n",
    "viz_train = plt\n",
    "viz_train.scatter(X_train, y_train, color='red')\n",
    "viz_train.plot(X_train, regressor.predict(X_train), color='blue')\n",
    "viz_train.title('Age vs Weight of Training model ')\n",
    "viz_train.xlabel('Age')\n",
    "viz_train.ylabel('Weight')\n",
    "viz_train.show()\n",
    "\n",
    "# Visualizing the Test set results\n",
    "viz_test = plt\n",
    "viz_test.scatter(X_test, y_test, color='red')\n",
    "viz_test.plot(X_train, regressor.predict(X_train), color='blue')\n",
    "viz_test.title('Age vs Weight of test model )')\n",
    "viz_test.xlabel('Age')\n",
    "viz_test.ylabel('Weight')\n",
    "viz_test.show()"
   ]
  },
  {
   "cell_type": "code",
   "execution_count": 44,
   "metadata": {},
   "outputs": [
    {
     "data": {
      "text/plain": [
       "array([52.37305976])"
      ]
     },
     "execution_count": 44,
     "metadata": {},
     "output_type": "execute_result"
    }
   ],
   "source": [
    "y_pred = regressor.predict([[5]])\n",
    "y_pred"
   ]
  },
  {
   "cell_type": "code",
   "execution_count": 27,
   "metadata": {},
   "outputs": [
    {
     "data": {
      "text/plain": [
       "array([67.49084472, 65.86459523, 68.30396947, 72.36959318, 88.63208806,\n",
       "       71.55646844, 69.93021895, 68.30396947, 69.93021895, 72.36959318,\n",
       "       75.62209216, 69.93021895, 68.30396947, 78.87459113, 75.62209216,\n",
       "       70.7433437 , 76.4352169 , 70.7433437 , 68.30396947, 76.4352169 ,\n",
       "       73.99584267, 83.7533396 , 73.18271793, 69.93021895, 80.50084062,\n",
       "       71.55646844, 69.11709421, 73.99584267, 69.11709421, 76.4352169 ,\n",
       "       72.36959318, 67.49084472, 70.7433437 , 72.36959318, 66.67771998,\n",
       "       67.49084472, 63.425221  , 68.30396947, 65.86459523, 69.11709421,\n",
       "       67.49084472, 72.36959318, 70.7433437 , 79.68771588, 69.93021895,\n",
       "       64.23834575, 68.30396947, 65.05147049, 71.55646844, 69.93021895,\n",
       "       65.86459523, 75.62209216, 69.93021895, 70.7433437 , 70.7433437 ,\n",
       "       75.62209216, 73.99584267, 73.18271793, 78.06146639, 63.425221  ,\n",
       "       79.68771588, 74.80896742, 83.7533396 , 74.80896742, 65.05147049,\n",
       "       69.11709421, 64.23834575, 69.93021895, 65.86459523, 74.80896742,\n",
       "       69.11709421, 71.55646844, 67.49084472, 71.55646844, 78.06146639,\n",
       "       69.11709421, 69.93021895, 71.55646844, 64.23834575, 75.62209216,\n",
       "       70.7433437 , 70.7433437 ])"
      ]
     },
     "execution_count": 27,
     "metadata": {},
     "output_type": "execute_result"
    }
   ],
   "source": [
    "y_pred = regressor.predict(X_test)\n",
    "y_pred"
   ]
  },
  {
   "cell_type": "code",
   "execution_count": null,
   "metadata": {},
   "outputs": [],
   "source": []
  }
 ],
 "metadata": {
  "interpreter": {
   "hash": "15d73aa19da69d1988f3d53418417c2aaebde48368900cc392cf5166c0adfa0f"
  },
  "kernelspec": {
   "display_name": "Python 3.10.1 64-bit",
   "language": "python",
   "name": "python3"
  },
  "language_info": {
   "codemirror_mode": {
    "name": "ipython",
    "version": 3
   },
   "file_extension": ".py",
   "mimetype": "text/x-python",
   "name": "python",
   "nbconvert_exporter": "python",
   "pygments_lexer": "ipython3",
   "version": "3.10.1"
  },
  "orig_nbformat": 4
 },
 "nbformat": 4,
 "nbformat_minor": 2
}
