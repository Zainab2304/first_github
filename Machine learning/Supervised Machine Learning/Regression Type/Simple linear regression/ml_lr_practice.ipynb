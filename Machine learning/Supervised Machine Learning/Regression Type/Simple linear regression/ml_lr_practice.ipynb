{
 "cells": [
  {
   "cell_type": "markdown",
   "metadata": {},
   "source": [
    "### Step 1- Import dataset"
   ]
  },
  {
   "cell_type": "code",
   "execution_count": 1,
   "metadata": {},
   "outputs": [
    {
     "data": {
      "text/html": [
       "<div>\n",
       "<style scoped>\n",
       "    .dataframe tbody tr th:only-of-type {\n",
       "        vertical-align: middle;\n",
       "    }\n",
       "\n",
       "    .dataframe tbody tr th {\n",
       "        vertical-align: top;\n",
       "    }\n",
       "\n",
       "    .dataframe thead th {\n",
       "        text-align: right;\n",
       "    }\n",
       "</style>\n",
       "<table border=\"1\" class=\"dataframe\">\n",
       "  <thead>\n",
       "    <tr style=\"text-align: right;\">\n",
       "      <th></th>\n",
       "      <th>age</th>\n",
       "      <th>distance</th>\n",
       "      <th>YearsExperience</th>\n",
       "      <th>Salary</th>\n",
       "    </tr>\n",
       "  </thead>\n",
       "  <tbody>\n",
       "    <tr>\n",
       "      <th>0</th>\n",
       "      <td>31.1</td>\n",
       "      <td>77.75</td>\n",
       "      <td>1.1</td>\n",
       "      <td>39343</td>\n",
       "    </tr>\n",
       "    <tr>\n",
       "      <th>1</th>\n",
       "      <td>31.3</td>\n",
       "      <td>78.25</td>\n",
       "      <td>1.3</td>\n",
       "      <td>46205</td>\n",
       "    </tr>\n",
       "    <tr>\n",
       "      <th>2</th>\n",
       "      <td>31.5</td>\n",
       "      <td>78.75</td>\n",
       "      <td>1.5</td>\n",
       "      <td>37731</td>\n",
       "    </tr>\n",
       "    <tr>\n",
       "      <th>3</th>\n",
       "      <td>32.0</td>\n",
       "      <td>80.00</td>\n",
       "      <td>2.0</td>\n",
       "      <td>43525</td>\n",
       "    </tr>\n",
       "    <tr>\n",
       "      <th>4</th>\n",
       "      <td>32.2</td>\n",
       "      <td>80.50</td>\n",
       "      <td>2.2</td>\n",
       "      <td>39891</td>\n",
       "    </tr>\n",
       "  </tbody>\n",
       "</table>\n",
       "</div>"
      ],
      "text/plain": [
       "    age  distance  YearsExperience  Salary\n",
       "0  31.1     77.75              1.1   39343\n",
       "1  31.3     78.25              1.3   46205\n",
       "2  31.5     78.75              1.5   37731\n",
       "3  32.0     80.00              2.0   43525\n",
       "4  32.2     80.50              2.2   39891"
      ]
     },
     "execution_count": 1,
     "metadata": {},
     "output_type": "execute_result"
    }
   ],
   "source": [
    "import numpy as np\n",
    "import matplotlib.pyplot as plt\n",
    "import pandas as pd\n",
    "\n",
    "# Importing the dataset\n",
    "df = pd.read_csv('ml_data_salary.csv')\n",
    "df.head()"
   ]
  },
  {
   "cell_type": "code",
   "execution_count": 17,
   "metadata": {},
   "outputs": [],
   "source": [
    "X = df[[\"age\"]]\n",
    "y = df[\"distance\"]\n"
   ]
  },
  {
   "cell_type": "markdown",
   "metadata": {},
   "source": [
    "### Step 2- Splitting the dataset into the Training data and Testing data"
   ]
  },
  {
   "cell_type": "code",
   "execution_count": 16,
   "metadata": {},
   "outputs": [],
   "source": [
    "#import library \n",
    "from sklearn.model_selection import train_test_split \n",
    "# slip the data \n",
    "X_train, X_test, y_train, y_test = train_test_split(X, y, test_size=0.2, random_state=0)"
   ]
  },
  {
   "cell_type": "markdown",
   "metadata": {},
   "source": [
    "### Step 3- Fitting Linear Regression Model "
   ]
  },
  {
   "cell_type": "code",
   "execution_count": 4,
   "metadata": {},
   "outputs": [
    {
     "data": {
      "text/plain": [
       "LinearRegression()"
      ]
     },
     "execution_count": 4,
     "metadata": {},
     "output_type": "execute_result"
    }
   ],
   "source": [
    "from sklearn.linear_model import LinearRegression\n",
    "linreg = LinearRegression()\n",
    "model = LinearRegression().fit(X_train, y_train)\n",
    "model\n"
   ]
  },
  {
   "cell_type": "code",
   "execution_count": 18,
   "metadata": {},
   "outputs": [],
   "source": [
    "### Step 4- Plotting "
   ]
  },
  {
   "cell_type": "code",
   "execution_count": 7,
   "metadata": {},
   "outputs": [
    {
     "data": {
      "text/plain": [
       "<function matplotlib.pyplot.show(close=None, block=None)>"
      ]
     },
     "execution_count": 7,
     "metadata": {},
     "output_type": "execute_result"
    },
    {
     "data": {
      "image/png": "[encoded data removed]",
      "text/plain": [
       "<Figure size 432x288 with 1 Axes>"
      ]
     },
     "metadata": {
      "needs_background": "light"
     },
     "output_type": "display_data"
    }
   ],
   "source": [
    "#Adding labels\n",
    "plt.scatter (X_train, y_train)\n",
    "plt.plot(X_train, model.predict(X_train) ,color = \"Green\")\n",
    "plt.xlabel(\"Umar\")\n",
    "plt.ylabel(\"Hieght\")\n",
    "plt.title(\"Train Plot \")\n",
    "plt.show"
   ]
  },
  {
   "cell_type": "code",
   "execution_count": 9,
   "metadata": {},
   "outputs": [
    {
     "data": {
      "text/plain": [
       "<function matplotlib.pyplot.show(close=None, block=None)>"
      ]
     },
     "execution_count": 9,
     "metadata": {},
     "output_type": "execute_result"
    },
    {
     "data": {
      "image/png": "[encoded data removed]",
      "text/plain": [
       "<Figure size 432x288 with 1 Axes>"
      ]
     },
     "metadata": {
      "needs_background": "light"
     },
     "output_type": "display_data"
    }
   ],
   "source": [
    "# Pridicting testing data \n",
    "plt.scatter (X_test, y_test)\n",
    "plt.plot(X_test, model.predict(X_test) ,color = \"red\")\n",
    "plt.xlabel(\"Umar\")\n",
    "plt.ylabel(\"Hieght\")\n",
    "plt.title(\"Test Plot \")\n",
    "plt.show"
   ]
  },
  {
   "cell_type": "markdown",
   "metadata": {},
   "source": [
    "### Step 5 - Testing or Evaluating your model "
   ]
  },
  {
   "cell_type": "code",
   "execution_count": 10,
   "metadata": {},
   "outputs": [
    {
     "name": "stdout",
     "output_type": "stream",
     "text": [
      "Score for testing data = 1.0\n",
      "Score for training data = 1.0\n"
     ]
    }
   ],
   "source": [
    "# Model Fitness\n",
    "# Jo library import ki hui hai usi k andr hi hum ne test score/regression score nikalna hai \n",
    "print(\"Score for testing data =\", model.score(X_test, y_test))\n",
    "print(\"Score for training data =\", model.score(X_train, y_train))"
   ]
  },
  {
   "cell_type": "markdown",
   "metadata": {},
   "source": [
    "### Step6 - Prediction of unknown values "
   ]
  },
  {
   "cell_type": "code",
   "execution_count": 11,
   "metadata": {},
   "outputs": [
    {
     "name": "stderr",
     "output_type": "stream",
     "text": [
      "C:\\Users\\Epazz\\AppData\\Local\\Programs\\Python\\Python310\\lib\\site-packages\\sklearn\\base.py:450: UserWarning: X does not have valid feature names, but LinearRegression was fitted with feature names\n",
      "  warnings.warn(\n"
     ]
    },
    {
     "data": {
      "text/plain": [
       "array([12.5])"
      ]
     },
     "execution_count": 11,
     "metadata": {},
     "output_type": "execute_result"
    }
   ],
   "source": [
    "model.predict([[5]])"
   ]
  },
  {
   "cell_type": "code",
   "execution_count": 13,
   "metadata": {},
   "outputs": [
    {
     "data": {
      "text/plain": [
       "array([ 78.75, 100.75,  85.25,  84.75,  98.75,  96.75])"
      ]
     },
     "execution_count": 13,
     "metadata": {},
     "output_type": "execute_result"
    }
   ],
   "source": [
    "y_pred = model.predict(X_test)\n",
    "y_pred"
   ]
  },
  {
   "cell_type": "code",
   "execution_count": 14,
   "metadata": {},
   "outputs": [
    {
     "name": "stderr",
     "output_type": "stream",
     "text": [
      "C:\\Users\\Epazz\\AppData\\Local\\Programs\\Python\\Python310\\lib\\site-packages\\sklearn\\base.py:450: UserWarning: X does not have valid feature names, but LinearRegression was fitted with feature names\n",
      "  warnings.warn(\n"
     ]
    },
    {
     "data": {
      "text/plain": [
       "array([-2.84217094e-14,  7.57575758e-01,  1.51515152e+00,  2.27272727e+00,\n",
       "        3.03030303e+00,  3.78787879e+00,  4.54545455e+00,  5.30303030e+00,\n",
       "        6.06060606e+00,  6.81818182e+00,  7.57575758e+00,  8.33333333e+00,\n",
       "        9.09090909e+00,  9.84848485e+00,  1.06060606e+01,  1.13636364e+01,\n",
       "        1.21212121e+01,  1.28787879e+01,  1.36363636e+01,  1.43939394e+01,\n",
       "        1.51515152e+01,  1.59090909e+01,  1.66666667e+01,  1.74242424e+01,\n",
       "        1.81818182e+01,  1.89393939e+01,  1.96969697e+01,  2.04545455e+01,\n",
       "        2.12121212e+01,  2.19696970e+01,  2.27272727e+01,  2.34848485e+01,\n",
       "        2.42424242e+01,  2.50000000e+01,  2.57575758e+01,  2.65151515e+01,\n",
       "        2.72727273e+01,  2.80303030e+01,  2.87878788e+01,  2.95454545e+01,\n",
       "        3.03030303e+01,  3.10606061e+01,  3.18181818e+01,  3.25757576e+01,\n",
       "        3.33333333e+01,  3.40909091e+01,  3.48484848e+01,  3.56060606e+01,\n",
       "        3.63636364e+01,  3.71212121e+01,  3.78787879e+01,  3.86363636e+01,\n",
       "        3.93939394e+01,  4.01515152e+01,  4.09090909e+01,  4.16666667e+01,\n",
       "        4.24242424e+01,  4.31818182e+01,  4.39393939e+01,  4.46969697e+01,\n",
       "        4.54545455e+01,  4.62121212e+01,  4.69696970e+01,  4.77272727e+01,\n",
       "        4.84848485e+01,  4.92424242e+01,  5.00000000e+01,  5.07575758e+01,\n",
       "        5.15151515e+01,  5.22727273e+01,  5.30303030e+01,  5.37878788e+01,\n",
       "        5.45454545e+01,  5.53030303e+01,  5.60606061e+01,  5.68181818e+01,\n",
       "        5.75757576e+01,  5.83333333e+01,  5.90909091e+01,  5.98484848e+01,\n",
       "        6.06060606e+01,  6.13636364e+01,  6.21212121e+01,  6.28787879e+01,\n",
       "        6.36363636e+01,  6.43939394e+01,  6.51515152e+01,  6.59090909e+01,\n",
       "        6.66666667e+01,  6.74242424e+01,  6.81818182e+01,  6.89393939e+01,\n",
       "        6.96969697e+01,  7.04545455e+01,  7.12121212e+01,  7.19696970e+01,\n",
       "        7.27272727e+01,  7.34848485e+01,  7.42424242e+01,  7.50000000e+01])"
      ]
     },
     "execution_count": 14,
     "metadata": {},
     "output_type": "execute_result"
    }
   ],
   "source": [
    "x_new = np.linspace(0, 30, 100)\n",
    "y_new = model.predict(x_new[:, np.newaxis])\n",
    "y_new"
   ]
  }
 ],
 "metadata": {
  "interpreter": {
   "hash": "266c4d81548097d9dd641a4c19dbdb8cb4ce739c1b70c23a83575cb49d14a5df"
  },
  "kernelspec": {
   "display_name": "Python 3.10.1 64-bit",
   "language": "python",
   "name": "python3"
  },
  "language_info": {
   "codemirror_mode": {
    "name": "ipython",
    "version": 3
   },
   "file_extension": ".py",
   "mimetype": "text/x-python",
   "name": "python",
   "nbconvert_exporter": "python",
   "pygments_lexer": "ipython3",
   "version": "3.10.1"
  },
  "orig_nbformat": 4
 },
 "nbformat": 4,
 "nbformat_minor": 2
}
