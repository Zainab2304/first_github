{
 "cells": [
  {
   "cell_type": "markdown",
   "metadata": {},
   "source": [
    " There are three types of Naive Bayes model under the scikit-learn library:\n",
    " - Gaussian\n",
    " - Multinomial\n",
    " - Bernoulli\n",
    "\n",
    "Gaussian: It is used in classification and it assumes that features follow a normal distribution.\\\n",
    "          When the values of predictors are continuous in nature and it is assumed that they follow Gaussian distribution.\n",
    "\n",
    "Multinomial: It is used for discrete counts.\\\n",
    "when the predictors are boolean in nature and it is assumed they follow Bernoulli distribution.\\\n",
    " For example, let’s say,  we have a text classification problem. Here we can consider Bernoulli trials which is one step further and instead of “word occurring in the document”, we have “count how often word occurs in the document”, you can think of it as “number of times outcome number x_i is observed over the n trials”.\n",
    "\n",
    "Bernoulli: The binomial model is useful if your feature vectors are binary (i.e. zeros and ones). One application would be text classification with ‘bag of words’ model where the 1s & 0s are “word occurs in the document” and “word does not occur in the document” respectively.\\\n",
    "mostly used for document or text classification problems"
   ]
  },
  {
   "cell_type": "markdown",
   "metadata": {},
   "source": [
    "13:23"
   ]
  }
 ],
 "metadata": {
  "interpreter": {
   "hash": "266c4d81548097d9dd641a4c19dbdb8cb4ce739c1b70c23a83575cb49d14a5df"
  },
  "kernelspec": {
   "display_name": "Python 3.10.1 64-bit",
   "language": "python",
   "name": "python3"
  },
  "language_info": {
   "name": "python",
   "version": "3.10.1"
  },
  "orig_nbformat": 4
 },
 "nbformat": 4,
 "nbformat_minor": 2
}
