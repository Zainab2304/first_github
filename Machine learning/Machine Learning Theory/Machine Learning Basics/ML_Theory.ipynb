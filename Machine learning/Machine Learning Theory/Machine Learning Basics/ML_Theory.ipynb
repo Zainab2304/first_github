{
 "cells": [
  {
   "cell_type": "markdown",
   "metadata": {},
   "source": [
    "# Machine Learning \n",
    "### Data Driven Decesion Making "
   ]
  },
  {
   "cell_type": "markdown",
   "metadata": {},
   "source": [
    "## Types of Machine learning \n",
    " 1. Supervised \n",
    " 2. Un-Supervised (Clustring)\n",
    " 3. Semi-Supervised\n",
    " 4. Reinforcement "
   ]
  },
  {
   "cell_type": "markdown",
   "metadata": {},
   "source": [
    "## 1- Supervised \n",
    "- Works under supervision\n",
    "- Teacher teaches\n",
    "- Prediction\n",
    "- Outcome\n",
    "\n",
    "**Input data** ==> **Training models and learning patterns of data** ==> **Prediction** ==> **Output and Reports**\n",
    "\n",
    "### Types \n",
    "   - Classification\n",
    "     - For catagories\n",
    "   - Regression\n",
    "     - For numerical data\n",
    "  \n",
    "### Supervised learning algorithms \n",
    "- Logistic Regression \n",
    "  - Logistic regression is a supervised learning classification algorithm used to predict the probability of a target variable.\n"
   ]
  },
  {
   "cell_type": "markdown",
   "metadata": {},
   "source": [
    "- K- Nearest Neighbours (K-NN)\n",
    "  - The k-nearest neighbors (KNN) algorithm is a supervised machine learning algorithm that can be used to solve both classification and regression problems. It's easy to implement and understand, but has a major drawback of becoming significantly slows as the size of that data in use grows.\n"
   ]
  },
  {
   "cell_type": "markdown",
   "metadata": {},
   "source": [
    "- Support Vector Machines (SVM)\n",
    "  - Support Vector Machine” (SVM) is a supervised machine learning algorithm that can be used for both classification or regression challenges.\n"
   ]
  },
  {
   "cell_type": "markdown",
   "metadata": {},
   "source": [
    "- Kernel SVM\n",
    "  - SVM algorithms use a set of mathematical functions that are defined as the kernel. The function of kernel is to take data as input and transform it into the required form. Different SVM algorithms use different types of kernel functions. These functions can be different types. For example linear, nonlinear, polynomial, radial basis function (RBF), and sigmoid.\n"
   ]
  },
  {
   "cell_type": "markdown",
   "metadata": {},
   "source": [
    "- Naive Bayes\n",
    "  - Naïve Bayes Classifier is effective Classification algorithms which helps in building the fast machine learning models that can make quick predictions. It is a probabilistic classifier, which means it predicts on the basis of the probability of an object.\n"
   ]
  },
  {
   "cell_type": "markdown",
   "metadata": {},
   "source": [
    "- Decision Tree Clasification \n",
    "  - Decision Trees are a type of Supervised Machine Learning (that is you explain what the input is and what the corresponding output is in the training data) where the data is continuously split according to a certain parameter. The tree can be explained by two entities, namely decision nodes and leaves.\n"
   ]
  },
  {
   "cell_type": "markdown",
   "metadata": {},
   "source": [
    "- Random Forest Classification \n",
    "  - Random Forest is a classifier that contains a number of decision trees on various subsets of the given dataset and takes the average to improve the predictive accuracy of that dataset."
   ]
  },
  {
   "cell_type": "markdown",
   "metadata": {},
   "source": [
    "## 2- Un-Supervised (Clustring)\n",
    "- No supervision\n",
    "- No Teacher \n",
    "- Self learning\n",
    "- No labelling of data \n",
    "- Find patterns by itself \n",
    "\n",
    "**Training models and learning patterns of data** by making different clusters ==> **Prediction** ==> **Output and Reports**"
   ]
  },
  {
   "cell_type": "markdown",
   "metadata": {},
   "source": [
    "### Supervised learning algorithms \n",
    "- K means clustering\n",
    "  - Kmeans algorithm is an iterative algorithm that tries to partition the dataset into Kpre-defined distinct non-overlapping subgroups (clusters) where each data point belongs to only one group.The less variation we have within clusters, the more homogeneous (similar) the data points are within the same cluster. \n"
   ]
  },
  {
   "cell_type": "markdown",
   "metadata": {},
   "source": [
    "- Hierarchical clustering\n",
    "  - Hierarchical clustering, also known as hierarchical cluster analysis, is an algorithm that groups similar objects into groups called clusters. The endpoint is a set of clusters, where each cluster is distinct from each other cluster, and the objects within each cluster are broadly similar to each other.\n"
   ]
  },
  {
   "cell_type": "markdown",
   "metadata": {},
   "source": [
    "- Probabilistic clustering \n",
    "  - In probabilistic clustering the assignment of points to clusters is “soft”, in the sense that the membership of a data point x in a cluster Ck is given as a probability, denoted by pk(x). These are subjective probabilities, indicating strength of belief in the event in question."
   ]
  },
  {
   "cell_type": "markdown",
   "metadata": {},
   "source": [
    "## 3- Semi-Supervised \n",
    "- Mixture of 1 and 2\n",
    "- Some data is labelled but most is not \n",
    "\n",
    "**Input data** ==> **Training models and learning patterns of data** ==> **Prediction** ==> **Output and Reports**"
   ]
  },
  {
   "cell_type": "markdown",
   "metadata": {},
   "source": [
    "## 4- Reinforcement\n",
    "- Hit and trial method \n",
    "- Learn from mistakes \n",
    "- Reward and punishment rule\n",
    "- Prediction based on reward and punishment\n",
    "- Depends on feedback "
   ]
  },
  {
   "cell_type": "markdown",
   "metadata": {},
   "source": [
    "**Input data** ==> **Training models and learning patterns of data** [ WELL-DONE] ==> **Prediction** ==> **Output and Reports**"
   ]
  },
  {
   "cell_type": "markdown",
   "metadata": {},
   "source": [
    "### Reinforcement learning algorithms \n",
    "1. Model-free Reinforcement learning \n",
    "  - In reinforcement learning (RL), a model-free algorithm (as opposed to a model-based one) is an algorithm which does not use the transition probability distribution (and the reward function) associated with the Markov decision process (MDP), which, in RL, represents the problem to be solved.\n",
    "      - Policy Optimization\n",
    "      - Q-Learning \n"
   ]
  },
  {
   "cell_type": "markdown",
   "metadata": {},
   "source": [
    "2. Model-Based Reinforcement learning \n",
    " - Model-based Reinforcement Learning refers to learning optimal behavior indirectly by learning a model of the environment by taking actions and observing the outcomes that include the next state and the immediate reward.\n",
    "      - Learn the model\n",
    "      - Given the model "
   ]
  }
 ],
 "metadata": {
  "interpreter": {
   "hash": "266c4d81548097d9dd641a4c19dbdb8cb4ce739c1b70c23a83575cb49d14a5df"
  },
  "kernelspec": {
   "display_name": "Python 3.10.1 64-bit",
   "language": "python",
   "name": "python3"
  },
  "language_info": {
   "name": "python",
   "version": "3.10.1"
  },
  "orig_nbformat": 4
 },
 "nbformat": 4,
 "nbformat_minor": 2
}
