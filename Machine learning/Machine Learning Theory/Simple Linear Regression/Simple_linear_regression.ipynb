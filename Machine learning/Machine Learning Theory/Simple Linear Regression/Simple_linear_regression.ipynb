{
 "cells": [
  {
   "cell_type": "markdown",
   "metadata": {},
   "source": [
    "# Simple Linear Regression \n",
    "- **The simple linear regression is used to predict a quantitative outcome y on the basis of one single predictor variable x**"
   ]
  },
  {
   "cell_type": "markdown",
   "metadata": {},
   "source": [
    "## Formula and basics"
   ]
  },
  {
   "cell_type": "markdown",
   "metadata": {},
   "source": [
    "The mathematical formula of the linear regression can be written as \n",
    "\n",
    "y = $B_0$ + $B_1$*x + e , where:\n",
    "- $B_0$ and $B_1$ are known as the regression beta coefficients or parameters:\n",
    "- $B_0$ is the intercept of the regression line; that is the predicted value when x = 0.\n",
    "- $B_1$ is the slope of the regression line.\n",
    "\n",
    "The beta coefficients are the degree of change in the outcome variable for every 1-unit of change in the predictor variable.\n",
    "- e is the error term (also known as the residual errors), the part of y that can be explained by the regression model\n",
    "\n",
    "\n",
    "\n"
   ]
  },
  {
   "cell_type": "markdown",
   "metadata": {},
   "source": [
    "The figure below illustrates the linear regression model, where:\n",
    "- the best-fit regression line is in blue\n",
    "- the intercept ($B_0$) and the slope ($B_1$ ) are shown in green\n",
    "- the error terms (e) are represented by vertical red lines"
   ]
  },
  {
   "cell_type": "markdown",
   "metadata": {},
   "source": [
    "![lr](lr.png)"
   ]
  },
  {
   "cell_type": "markdown",
   "metadata": {},
   "source": [
    "From the scatter plot above, it can be seen that not all the data points fall exactly on the fitted regression line. Some of the points are above the blue curve and some are below it; overall, the residual errors (e) have approximately mean zero.\n",
    "\n",
    "- The sum of the squares of the residual errors are called the Residual Sum of Squares or **RSS**.\n",
    "\n",
    "- The average variation of points around the fitted regression line is called the **Residual Standard Error** (RSE). This is one the metrics used to evaluate the overall quality of the fitted regression model. The lower the RSE, the better it is.\n",
    "\n",
    "Since the mean error term is zero, the outcome variable y can be approximately estimated as follow:"
   ]
  },
  {
   "cell_type": "markdown",
   "metadata": {},
   "source": [
    "y = $B_0$ + $B_1$*x"
   ]
  },
  {
   "cell_type": "markdown",
   "metadata": {},
   "source": [
    "Mathematically, the beta coefficients ($B_0$ and $B_1$) are determined so that the RSS is as minimal as possible. This method of determining the beta coefficients is technically called least squares regression or ordinary least squares (OLS) regression.\n",
    "\n",
    "Once, the beta coefficients are calculated, a t-test is performed to check whether or not these coefficients are significantly different from zero. A non-zero beta coefficients means that there is a significant relationship between the predictors (x) and the outcome variable (y)."
   ]
  }
 ],
 "metadata": {
  "interpreter": {
   "hash": "266c4d81548097d9dd641a4c19dbdb8cb4ce739c1b70c23a83575cb49d14a5df"
  },
  "kernelspec": {
   "display_name": "Python 3.10.1 64-bit",
   "language": "python",
   "name": "python3"
  },
  "language_info": {
   "codemirror_mode": {
    "name": "ipython",
    "version": 3
   },
   "file_extension": ".py",
   "mimetype": "text/x-python",
   "name": "python",
   "nbconvert_exporter": "python",
   "pygments_lexer": "ipython3",
   "version": "3.10.1"
  },
  "orig_nbformat": 4
 },
 "nbformat": 4,
 "nbformat_minor": 2
}
